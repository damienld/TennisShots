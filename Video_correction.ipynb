{
 "cells": [
  {
   "cell_type": "code",
   "execution_count": 1,
   "id": "9411a6b3",
   "metadata": {},
   "outputs": [
    {
     "data": {
      "text/html": [
       "<script>\n",
       "code_show=true; \n",
       "function code_toggle() {\n",
       "  if (code_show) {\n",
       "    $('div.input').each(function(id) {\n",
       "      el = $(this).find('.cm-variable:first');\n",
       "      if (id == 0 || el.text() == 'hide_me') {\n",
       "        $(this).show();\n",
       "      }\n",
       "    });\n",
       "    $('div.output_prompt').css('opacity', 1);\n",
       "  } else {\n",
       "    $('div.input').each(function(id) {\n",
       "      $(this).show();\n",
       "    });\n",
       "    $('div.output_prompt').css('opacity', 1);\n",
       "  }\n",
       "  code_show = !code_show\n",
       "} \n",
       "$( document ).ready(code_toggle);\n",
       "</script>\n",
       "<form action=\"javascript:code_toggle()\"><input style=\"opacity:0\" type=\"submit\" value=\"Click here to toggle on/off the raw code.\"></form>"
      ],
      "text/plain": [
       "<IPython.core.display.HTML object>"
      ]
     },
     "execution_count": 1,
     "metadata": {},
     "output_type": "execute_result"
    }
   ],
   "source": [
    "# This is a cell to hide code snippets from displaying\n",
    "# This must be at first cell!\n",
    "\n",
    "from IPython.display import HTML\n",
    "\n",
    "hide_me = ''\n",
    "HTML('''<script>\n",
    "code_show=true; \n",
    "function code_toggle() {\n",
    "  if (code_show) {\n",
    "    $('div.input').each(function(id) {\n",
    "      el = $(this).find('.cm-variable:first');\n",
    "      if (id == 0 || el.text() == 'hide_me') {\n",
    "        $(this).show();\n",
    "      }\n",
    "    });\n",
    "    $('div.output_prompt').css('opacity', 1);\n",
    "  } else {\n",
    "    $('div.input').each(function(id) {\n",
    "      $(this).show();\n",
    "    });\n",
    "    $('div.output_prompt').css('opacity', 1);\n",
    "  }\n",
    "  code_show = !code_show\n",
    "} \n",
    "$( document ).ready(code_toggle);\n",
    "</script>\n",
    "<form action=\"javascript:code_toggle()\"><input style=\"opacity:0\" type=\"submit\" value=\"Click here to toggle on/off the raw code.\"></form>''')"
   ]
  },
  {
   "cell_type": "code",
   "execution_count": 2,
   "id": "d84610af",
   "metadata": {},
   "outputs": [],
   "source": [
    "def get_all_shots_for_point(df, point_index: int):\n",
    "    return (df[df[\"Point\"].astype(int)==int(point_index)]).sort_values(by='Shot')\n",
    "\n",
    "#set the winner of the point for every shot\n",
    "\n",
    "def set_point_winner(df, point_index: int):\n",
    "    \"\"\"\n",
    "    Returns\n",
    "    1 if player1 won the point\n",
    "    0 if player 2\n",
    "    -1 if player 1 hit his serve out\n",
    "    -2 if player 2 hit his serve out\n",
    "    \"\"\"\n",
    "    df_all_shots_for_point = get_all_shots_for_point(df, point_index)\n",
    "    df_last_shot = df_all_shots_for_point[df_all_shots_for_point[\"Shot\"]==df_all_shots_for_point[\"Shot\"].max()]\n",
    "    last_shot_result = df_last_shot.iloc[0][\"Result\"]\n",
    "    index_winner = -1\n",
    "    str_player_last_shot = df_last_shot.iloc[0][\"Player\"]\n",
    "    print(str_player_last_shot)\n",
    "    if (df_last_shot.iloc[0][\"Shot\"]==1) and (last_shot_result in [\"Out\", \"Net\"]):\n",
    "        if (str_player_last_shot == \"Player\"):\n",
    "            if df_last_shot.iloc[0][\"Type\"]==\"second_serve\":\n",
    "                index_winner = \"0\" #DF\n",
    "            else:\n",
    "                index_winner = \"-1\" #Player serve out or net\n",
    "        else:\n",
    "            if df_last_shot.iloc[0][\"Type\"]==\"second_serve\":\n",
    "                index_winner = \"1\"#DF\n",
    "            else:\n",
    "                index_winner = \"-2\" #Opponent serve out or net\n",
    "    elif (str_player_last_shot == \"Player\"):\n",
    "        if (last_shot_result in [\"In\"]):\n",
    "            index_winner = \"1\"\n",
    "        elif (last_shot_result in [\"Out\", \"Net\"]):\n",
    "            index_winner = \"0\"\n",
    "        else:\n",
    "            index_winner = \"-1\"\n",
    "    elif (str_player_last_shot == \"Opponent\"):\n",
    "        if (last_shot_result in [\"In\"]):\n",
    "            index_winner = \"0\"\n",
    "        elif (last_shot_result in [\"Out\", \"Net\"]):\n",
    "            index_winner = \"1\"\n",
    "        else:\n",
    "            index_winner = \"-1\"\n",
    "    else:\n",
    "        index_winner = \"-1\"\n",
    "    #print(str(index_winner))\n",
    "    df.loc[df[\"Point\"]==point_index,\"Winner_Point\"]=index_winner\n",
    "    \n",
    "#set_point_winner(df, 8)"
   ]
  },
  {
   "cell_type": "code",
   "execution_count": 3,
   "id": "6168369c",
   "metadata": {},
   "outputs": [
    {
     "name": "stdout",
     "output_type": "stream",
     "text": [
      "(-0.55, 18.98)\n",
      "(0.5, 17)\n",
      "(-0.5, 17)\n",
      "(-0.55, 17.98)\n",
      "(-0.5, 17.98)\n"
     ]
    }
   ],
   "source": [
    "def change_ball_in_to_out(is_in_to_out: bool, x: float, y: float, shot_index: int, server_side: str, server_far_near: str\n",
    "                          , x_limits, y_limits)->(float, float):\n",
    "    x_center = x_limits[1]#0\n",
    "    x_left = x_limits[0]#-4.11\n",
    "    x_right = x_limits[2]#4.11\n",
    "    y_center = y_limits[1]#11.88\n",
    "    y_bottom = y_limits[0]#5.48\n",
    "    y_top = y_limits[2]#18.48\n",
    "    x_min, x_max, y_min, y_max=-1000, -1000,-1000,-1000\n",
    "    if server_far_near==\"far\":\n",
    "        y_min=y_bottom#5.48\n",
    "        y_max=y_center#11.88\n",
    "        if server_side==\"ad\":\n",
    "            x_max=x_center#0\n",
    "            x_min=x_left#-4.11\n",
    "        elif server_side==\"deuce\":\n",
    "            x_max=x_left#-4.11\n",
    "            x_min=x_center#0\n",
    "        else:\n",
    "            raise ValueError ( \"Error inchange_ball_in_to_out\" )\n",
    "    elif server_far_near==\"near\":\n",
    "        y_max=y_top#18.48\n",
    "        y_min=y_center#11.88\n",
    "        if server_side==\"ad\":\n",
    "            x_max=x_left#-4.11\n",
    "            x_min=x_center#0\n",
    "        elif server_side==\"deuce\":\n",
    "            x_max=x_center#0\n",
    "            x_min=x_left#-4.11\n",
    "        else:\n",
    "            raise ValueError ( \"Error inchange_ball_in_to_out\" )\n",
    "    else:\n",
    "        raise ValueError ( \"Error inchange_ball_in_to_out\" )\n",
    "    \n",
    "    \n",
    "    #print(ix_max)\n",
    "    if is_in_to_out:\n",
    "        #find the closest coordinate to OUT line\n",
    "        list_gap= [abs(x-x_min), abs(x-x_max), abs(y-y_min), abs(y-y_max)]\n",
    "        ix_max=list_gap.index(min(list_gap))\n",
    "        #move this coord to In by 0.5m, 1 coordinate is neough to make the ball OUT\n",
    "        if ix_max==1:\n",
    "            x = x_max+0.5\n",
    "        elif ix_max==0:\n",
    "            x = x_min - 0.5\n",
    "        elif ix_max==3:\n",
    "            y = y_max+0.5\n",
    "        elif ix_max==2:\n",
    "            y = y_min - 0.5\n",
    "        return x,y\n",
    "    else:#OUT to IN\n",
    "        #if x is out then move it to closest line\n",
    "        if (x > x_max) or(x < x_min):\n",
    "            if (abs(x-x_max)<=abs(x-x_min)):\n",
    "                x = x_max-0.5\n",
    "            else:\n",
    "                x = x_min+0.5\n",
    "        #if y is out then move it to closest line\n",
    "        if (y > y_max) or(y < y_min):\n",
    "            if (abs(y-y_max)<=abs(y-y_min)):\n",
    "                y = y_max-0.5\n",
    "            else:\n",
    "                y = y_min+0.5\n",
    "                \n",
    "        return x,y\n",
    "\n",
    "\"\"\"def change_serve_in_to_out(x: float, y: float, shot_index: int, server_side: str, server_far_near: str)->(float, float):\n",
    "    x_center = 0\n",
    "    x_left = -4.11\n",
    "    x_right = 4.11\n",
    "    y_center = 11.88\n",
    "    y_bottom = 5.48\n",
    "    y_top = 18.48\n",
    "    x_limits=[x_left, x_center, x_right]\n",
    "    y_limits=[y_bottom, y_center, y_top]\n",
    "    return change_ball_in_to_out(x, y, shot_index, server_side, server_far_near, x_limits, y_limits)\n",
    "\"\"\"\n",
    "def change_shot_in_to_out(is_in_to_out: bool, x: float, y: float\n",
    "                          , shot_index: int, server_side: str, server_far_near: str)->(float, float):\n",
    "    if (shot_index==1):\n",
    "        x_center = 0\n",
    "        x_left = -4.11\n",
    "        x_right = 4.11\n",
    "        y_center = 11.88\n",
    "        y_bottom = 5.48\n",
    "        y_top = 18.48\n",
    "    else:\n",
    "        x_center = 0\n",
    "        x_left = -4.11\n",
    "        x_right = 4.11\n",
    "        y_center = 11.88\n",
    "        y_bottom = 5.48\n",
    "        y_top = 18.48\n",
    "    x_limits=[x_left, x_center, x_right]\n",
    "    y_limits=[y_bottom, y_center, y_top]\n",
    "    return change_ball_in_to_out(is_in_to_out, x, y, shot_index, server_side, server_far_near, x_limits, y_limits)\n",
    "\n",
    "print(change_shot_in_to_out(True, -0.55, 18, 1, \"deuce\", \"near\")) #-0.55 18.98\n",
    "print(change_shot_in_to_out(True, -0.55, 17, 1, \"deuce\", \"near\")) #0.5 17\n",
    "print(change_shot_in_to_out(False, 0.55, 17, 1, \"deuce\", \"near\")) #-0.5 17\n",
    "print(change_shot_in_to_out(False, -0.55, 19.48, 1, \"deuce\", \"near\")) #-0.55 17.98\n",
    "print(change_shot_in_to_out(False, 0.55, 19.48, 1, \"deuce\", \"near\")) #-0.5 17.48"
   ]
  },
  {
   "cell_type": "code",
   "execution_count": 46,
   "id": "5d828129",
   "metadata": {},
   "outputs": [],
   "source": [
    "def change_shot_on_line_between_2_points(x1, y1, x2, y2, y):\n",
    "    \"\"\"\n",
    "    y: ordonate of the point we are looking for\n",
    "    Returns:\n",
    "    x: the new abscisse of the point\n",
    "    \"\"\"\n",
    "    if (x2==x1):\n",
    "        return x1\n",
    "    a=(y2-y1)/(x2-x1)\n",
    "    print(a)\n",
    "    b=y1-a*x1\n",
    "    print(b)\n",
    "    #y = ax + b\n",
    "    x=(y-b)/a\n",
    "    print(x)\n",
    "    return x\n",
    "\n",
    "#print(change_shot_on_line_between_2_points(2, 3, 6, 4, 3.5)) #4\n",
    "#print(change_shot_on_line_between_2_points(2, 3, 2, 4, 3.5)) #2"
   ]
  },
  {
   "cell_type": "code",
   "execution_count": 5,
   "id": "a8be942b",
   "metadata": {},
   "outputs": [],
   "source": [
    "def swap_server_all_shots(df, current_point):\n",
    "\tdf_shot1=df[(df[\"Shot\"]==1)&(df[\"Point\"]==current_point)]\n",
    "\tif len(df_shot1) > 0:\n",
    "\t\tserver=df_shot1.iloc[0][\"Player\"]\n",
    "\t\tif server==\"Player\":\n",
    "\t\t\tserver=\"Opponent\"\n",
    "\t\t\treturner=\"Player\"\n",
    "\t\telse:\n",
    "\t\t\tserver=\"Player\"\n",
    "\t\t\treturner=\"Opponent\"\n",
    "\t\tdf.loc[(df[\"Point\"]==current_point)&(df[\"Shot\"]%2==0),\"Player\"]=returner\n",
    "\t\tdf.loc[(df[\"Point\"]==current_point)&(df[\"Shot\"]%2==1),\"Player\"]=server\n",
    "\t\tdf.loc[(df[\"Point\"]==current_point),\"comment\"]=\"swapped srv\""
   ]
  },
  {
   "cell_type": "code",
   "execution_count": 6,
   "id": "c26174f4",
   "metadata": {},
   "outputs": [],
   "source": [
    "#créer une figure\n",
    "#fig = go.Figure()\n",
    "def transform_far_to_near(df):\n",
    "    df[\"Bounce (x)\"]=df.apply(lambda x: -(x[\"Bounce (x)\"]), axis=1)\n",
    "    df[\"Bounce (y)\"]=df.apply(lambda x: 23.73-(x[\"Bounce (y)\"]), axis=1)\n",
    "    return df\n",
    "                              \n",
    "def trace_rect(fig1, left_double_court_x,right_double_court_x, top_double_court_y ):\n",
    "    \"\"\"\n",
    "    outside lines\n",
    "    \"\"\"\n",
    "    court_x=[left_double_court_x, left_double_court_x, right_double_court_x, right_double_court_x]\n",
    "    court_y=[0,top_double_court_y, top_double_court_y, 0]\n",
    "    trace0=go.Scatter(\n",
    "        x=court_x, y=court_y,\n",
    "        mode=\"lines\",line=dict(color='white')\n",
    "    )\n",
    "    #fig.add_trace(trace0)\n",
    "    \n",
    "    #trace0=go.Scatter(\n",
    "    fig1.add_trace(go.Scatter(\n",
    "        x=court_x, y=court_y,\n",
    "        mode=\"lines\",line=dict(color='white')\n",
    "    ))\n",
    "    #fig.add_trace(trace0)\n",
    "\n",
    "def trace_court():\n",
    "    fig1 = px.line()\n",
    "    trace_rect(fig1, 0-4.11-1.37, 0+4.11+1.37, 23.73)\n",
    "    trace_rect(fig1, 0-4.11, 0+4.11, 23.73)\n",
    "    trace_rect(fig1, 0-4.11, 0+4.11, 11.88)\n",
    "    trace_rect(fig1, 0-4.11, 0+4.11, 5.48)\n",
    "    trace_rect(fig1, 0-4.11, 0+4.11, 12.08)\n",
    "    trace_rect(fig1, 0-4.11, 0+4.11, 18.48)\n",
    "    return fig1"
   ]
  },
  {
   "cell_type": "code",
   "execution_count": 7,
   "id": "89bbb56a",
   "metadata": {},
   "outputs": [],
   "source": [
    "def apply_corrections(df):\n",
    "    for index, row in df.iterrows():\n",
    "        result2 = row[\"Result2\"]\n",
    "        print(result2)\n",
    "        if (result2!=\"\")and(str(result2).lower()!=\"nan\"):\n",
    "            if(result2==\"Shot=0\"):\n",
    "                df.loc[index,\"Shot\"]=0\n",
    "            else:\n",
    "                df.loc[index,\"ResultOld\"]=row[\"Result\"]\n",
    "                df.loc[index,\"Result\"]=row[\"Result2\"]\n",
    "                df.loc[index,\"Bounce (x)old\"]=row[\"Bounce (x)\"]\n",
    "                df.loc[index,\"Bounce (y)old\"]=row[\"Bounce (y)\"]\n",
    "                df.loc[index,\"Bounce (x)\"]=row[\"Bounce (x)2\"]\n",
    "                df.loc[index,\"Bounce (y)\"]=row[\"Bounce (y)2\"]\n",
    "            print(index, row)\n",
    "        \n",
    "#apply_corrections(df)\n",
    "#df.to_csv(\"Gerasimov FAA.csv\")"
   ]
  },
  {
   "cell_type": "code",
   "execution_count": 8,
   "id": "6cb81e16",
   "metadata": {},
   "outputs": [],
   "source": [
    "import pandas as pd\n",
    "import numpy as np\n",
    "import plotly.graph_objects as go\n",
    "import plotly.express as px\n",
    "import warnings\n",
    "warnings.filterwarnings('ignore')"
   ]
  },
  {
   "cell_type": "code",
   "execution_count": 9,
   "id": "2954fbd4",
   "metadata": {},
   "outputs": [],
   "source": [
    "filename_csv=\"Isner Pospisil.csv\"\n",
    "df=pd.read_csv(filename_csv, index_col=0)\n",
    "lst_players=filename_csv.split(\".\")[0].split(\" \")\n",
    "name1=lst_players[0]\n",
    "name2=lst_players[1]"
   ]
  },
  {
   "cell_type": "code",
   "execution_count": 10,
   "id": "60658239",
   "metadata": {},
   "outputs": [],
   "source": [
    "# LAUNCH VIDEO PLAYER\n",
    "\n",
    "#pip install python-vlc\n",
    "import time, vlc\n",
    "\n",
    "#http://olivieraubert.net/vlc/python-ctypes/doc/vlc.MediaPlayer-class.html\n",
    "filename=filename_csv.replace(\"csv\",\"mp4\")#\"Gerasimov FAA.mp4\"\n",
    "\n",
    "# method to play video\n",
    "def video2(source):\n",
    "    # creating vlc media player object\n",
    "    media_player = vlc.MediaPlayer()\n",
    "  \n",
    "    # media object\n",
    "    media = vlc.Media(source)\n",
    "\n",
    "    # setting media to the media player\n",
    "    media_player.set_media(media)\n",
    "\n",
    "    # setting video scale\n",
    "    media_player.video_set_scale(0.75)\n",
    "    media_player.audio_set_mute(True)\n",
    "    # setting play rate\n",
    "    # doubles the speed of the video\n",
    "    media_player.set_rate(1.5)\n",
    "    # start playing video\n",
    "    media_player.play()\n",
    "\n",
    "    # wait so the video can be played for 5 seconds\n",
    "    # irrespective for length of video\n",
    "    time.sleep(5)\n",
    "    return media_player\n",
    "\n",
    "# call the video method\n",
    "player = video2(filename)\n",
    "#GO to point 1\n",
    "current_point=0"
   ]
  },
  {
   "cell_type": "code",
   "execution_count": 11,
   "id": "779d6af5",
   "metadata": {},
   "outputs": [],
   "source": [
    "#WRITE SOME TEXT OVER THE VIDEO\n",
    "from vlc import VideoMarqueeOption\n",
    "\n",
    "def write_text_video(player, text):\n",
    "    # Some marquee examples.  Marquee requires '--sub-source marq' in the\n",
    "    # Instance() call above, see <http://www.videolan.org/doc/play-howto/en/ch04.html>\n",
    "    #https://www.olivieraubert.net/vlc/python-ctypes/doc/vlc.VideoMarqueeOption-class.html\n",
    "    player.video_set_marquee_int(VideoMarqueeOption.Enable, 1)\n",
    "    player.video_set_marquee_int(VideoMarqueeOption.Size, 24)  # pixels\n",
    "    #player.video_set_marquee_int(VideoMarqueeOption.Position, Position.Bottom)\n",
    "    if False:  # only one marquee can be specified\n",
    "        player.video_set_marquee_int(VideoMarqueeOption.Timeout, 5000)  # millisec, 0==forever\n",
    "        t = media.get_mrl()  # movie\n",
    "    else:  # update marquee text periodically\n",
    "        player.video_set_marquee_int(VideoMarqueeOption.Timeout, 0)  # millisec, 0==forever\n",
    "        player.video_set_marquee_int(VideoMarqueeOption.Refresh, 1000)  # millisec (or sec?)\n",
    "    df_point = df[df[\"Point\"]==current_point]\n",
    "    player.video_set_marquee_string(VideoMarqueeOption.Text, text)\n",
    "\n",
    "#write_text_video(player,\"a\")"
   ]
  },
  {
   "cell_type": "code",
   "execution_count": 12,
   "id": "b7dc2eed",
   "metadata": {},
   "outputs": [],
   "source": [
    "#VIDEO Go TO next POINT\n",
    "def go_to_nextpoint(videoplayer, current_point, indexshot):\n",
    "    \"\"\"\n",
    "    Args:\n",
    "        player(str): \"Player\" or \"Opponent\" \n",
    "        current_point(int): index of current_point\n",
    "        indexshot(int): index of shot (1=Serve, -1=Last shot)\n",
    "    \"\"\"\n",
    "    print(\"go_to_nextpoint \" + str(current_point))\n",
    "    df_point = df[df[\"Point\"]==current_point]\n",
    "    delay_before_shot = 0\n",
    "    if len(df_point) > 0:\n",
    "        if (indexshot == -1):\n",
    "            shot_index = max(df_point[\"Shot\"])\n",
    "            delay_before_shot = 1500\n",
    "        else:\n",
    "            shot_index = indexshot\n",
    "        #move video to the time of the point\n",
    "        #get time of point at indexshot\n",
    "        time_point=df_point[(df_point[\"Shot\"]==shot_index)].iloc[0][\"Video Time\"]\n",
    "        #print(\"at\" + str(time_point) + \" sec\")\n",
    "        videoplayer.set_time(round(time_point*1000)+1500-delay_before_shot) #go to 7mn\n",
    "        #print(df_point.head())\n",
    "        time = round(player.get_time()/1000)\n",
    "        server=df_point.iloc[0][\"Player\"]\n",
    "        #shot_results = \"-\".join(list(df_point[\"Result\"]))\n",
    "        shot_results = [\"{0}-{1}; \".format(i+1, df_point.iloc[i][\"Result\"]) for i in range(len(df_point))]\n",
    "        text=\"{3}\\n Serve:{0} \\n {2} \\n {1}\".format(server, \" \".join(shot_results), df_point.iloc[0]['Winner_Point'], time)\n",
    "        write_text_video(player, text)\n",
    "#go_to_nextpoint(player, 1, -1)"
   ]
  },
  {
   "cell_type": "code",
   "execution_count": 13,
   "id": "527bd98a",
   "metadata": {},
   "outputs": [],
   "source": [
    "#TRACE court with all shots of the point\n",
    "import ipywidgets as widgets\n",
    "from IPython.display import display, Javascript\n",
    "\n",
    "def trace_point(index_point, x_new=None, y_new= None):\n",
    "    print(\"trace_point \" + str(current_point))\n",
    "    fig1 = trace_court()\n",
    "    df_temp=df\n",
    "    df_temp.loc[(df[\"Result\"]==\"Net\")&(df[\"Point\"]==index_point), \"Bounce (y)\"]=11.88\n",
    "    df_point = df_temp[(df_temp[\"Point\"]==index_point)&(df_temp[\"Shot\"]>0)].sort_values(by=\"Shot\")\n",
    "    last_shot = None\n",
    "    fig4 = None\n",
    "    \n",
    "    #\"LAST SHOT\"\n",
    "    if len(df_point) >0:\n",
    "        #trace a line from last hit position to last bounce to display the last shot\n",
    "        last_shot = df_point.iloc[-1]\n",
    "        #print(last_shot[\"Hit (x)\"])\n",
    "        df2 = pd.DataFrame(dict(\n",
    "        x = [last_shot[\"Hit (x)\"],last_shot[\"Bounce (x)\"]],\n",
    "        y = [last_shot[\"Hit (y)\"],last_shot[\"Bounce (y)\"]])\n",
    "                          )\n",
    "        df2[\"Text\"]=\"\"#last_shot[\"Shot\"]\n",
    "        #df2[\"Text\"]=[\"   \"+ s for s in df2[\"Text\"]]\n",
    "        #df2.loc[:,\"Text\"]=('    ' + df['Text'])\n",
    "        fig4=px.line(df2,x=\"x\",y=\"y\",text=\"Text\")\n",
    "        color=\"red\"\n",
    "        if (last_shot[\"Result\"]==\"In\"):\n",
    "            color=\"green\"\n",
    "        fig4.update_traces(patch={\"line\": {\"width\": 2, \"dash\": 'dot', \"color\":color}})\n",
    "\n",
    "    #Figure HIT POSITION\n",
    "    fig2=px.scatter(df_point,x=\"Hit (x)\",y=\"Hit (y)\",text=\"Shot\"#, color=\"Player\"\n",
    "                    #, symbol=\"Stroke\"\n",
    "                    #, animation_frame=\"Shot\"#, animation_group=\"Player\"\n",
    "                    #, textposition='top right',textfont=dict(color='#E58606')\n",
    "\n",
    "                    #, symbol=\"Spin\"\n",
    "                       #, trendline='ols',trendline_color_override='red'\n",
    "                        #, marginal_y=\"rug\"\n",
    "                        #, marginal_x=\"histogram\"\n",
    "                        #, facet_col=\"Winner_Point\"#, facet_row=\"time\"\n",
    "                        , color_discrete_map={\"Player\":\"green\",\"Opponent\":\"red\"}\n",
    "                        , hover_data=[\"Shot\",\"Stroke\"]\n",
    "                       )\n",
    "    \n",
    "    fig2.for_each_trace(lambda t: t.update(mode = 'lines+markers+text', textposition='middle right'\n",
    "                                           ,textfont=dict(size=10,color='gray')))\n",
    "    for fr in fig2.frames:\n",
    "        for d in fr.data:\n",
    "            d.update(mode='markers+lines+text', textposition='middle right'\n",
    "                     ,textfont=dict(size=10,color='gray'))\n",
    "    fig2.update_traces(patch={\"line\": {\"width\": 1, \"dash\": 'dot'}}) \n",
    "    \"\"\"marker_symbol=[1,101], \"\"\"\n",
    "    \n",
    "    #FIG BOUNCE\n",
    "    fig3=px.scatter(df_point,x=\"Bounce (x)\",y=\"Bounce (y)\",color=\"Result\"\n",
    "                    \n",
    "                       #, trendline='ols',trendline_color_override='red'\n",
    "                        #, marginal_y=\"rug\"\n",
    "                        #, marginal_x=\"histogram\"\n",
    "                        #, facet_col=\"Winner_Point\"#, facet_row=\"time\"\n",
    "                        , color_discrete_map={\"Net\":\"black\",\"In\":\"orange\",\"Out\":\"black\"}\n",
    "                        , hover_data=[\"Shot\"],text=\"Shot\"\n",
    "                       )\n",
    "    fig3.for_each_trace(lambda t: t.update(mode = 'markers+text', textposition='middle right'\n",
    "                                           ,textfont=dict(size=9, color='gray')))\n",
    "\n",
    "    #add NEW POINT\n",
    "    fig5=None\n",
    "    if x_new is not None:\n",
    "        df3 = pd.DataFrame(dict(\n",
    "            x = [x_new],\n",
    "            y = [y_new], text=\"NEW\"))\n",
    "        fig5=px.scatter(df3,x=\"x\",y=\"y\",text=\"text\")\n",
    "                           \n",
    "    if fig4 is not None:\n",
    "        if fig5 is not None:\n",
    "            fig=go.Figure(data=fig1.data + fig2.data + fig3.data + fig4.data + fig5.data)\n",
    "        else:\n",
    "            fig=go.Figure(data=fig1.data + fig2.data + fig3.data + fig4.data)               \n",
    "    else:\n",
    "        if fig5 is not None:\n",
    "            fig=go.Figure(data=fig1.data + fig2.data + fig3.data + fig5.data)\n",
    "        else:\n",
    "            fig=go.Figure(data=fig1.data + fig2.data + fig3.data)       \n",
    "    #fig.update_layout(title=\"Serves P1 (point size represents Speed)\")\n",
    "    fig.update_xaxes(\n",
    "        scaleanchor = \"y\",\n",
    "        scaleratio = 3,\n",
    "      )\n",
    "    fig.update_layout(xaxis_range=[-5,5], yaxis_range=[-4,11.88*2+4])\n",
    "    fig.update_layout(\n",
    "         xaxis=dict(showgrid=False), \n",
    "         yaxis=dict(showgrid=False),\n",
    "        autosize=False,\n",
    "    width=850,\n",
    "    height=400\n",
    "    )\n",
    "    f = go.FigureWidget(fig)\n",
    "    \n",
    "    #add ANNOTATION with name player\n",
    "    if len(df_point)>0:\n",
    "        first_shot = df_point.iloc[0]\n",
    "        x=6\n",
    "        if first_shot[\"Hit Zone\"] == \"deuce\" and first_shot[\"Hit Side\"] == \"far\":\n",
    "            x=-6\n",
    "        if first_shot[\"Hit Zone\"] == \"ad\" and first_shot[\"Hit Side\"] == \"near\":\n",
    "            x=-6\n",
    "        y=-1.5\n",
    "        if first_shot[\"Hit Side\"] == \"far\":\n",
    "            y=25.5\n",
    "        name_p_temp=name1\n",
    "        if first_shot[\"Player\"] == \"Opponent\":\n",
    "            name_p_temp=name2\n",
    "        name_p_temp=name_p_temp[0:6]\n",
    "        f.add_annotation(\n",
    "          x=x,  # arrows' head\n",
    "          y=y,  # arrows' head\n",
    "          text=name_p_temp,\n",
    "          showarrow=False\n",
    "        )\n",
    "    \n",
    "    \n",
    "    \"\"\"scatter = f.data[-1]\n",
    "    #print(scatter)\n",
    "    colors = ['#a3a7e4'] * 100\n",
    "    scatter.marker.color = colors\n",
    "    scatter.marker.size = [10] * 100\n",
    "    f.layout.hovermode = 'closest'\n",
    "\n",
    "\n",
    "    # create our callback function\n",
    "    def update_point(trace, points, selector):\n",
    "        #print(\"click\")\n",
    "        c = list(scatter.marker.color)\n",
    "        s = list(scatter.marker.size)\n",
    "        for i in points.point_inds:\n",
    "            c[i] = '#bae2be'\n",
    "            s[i] = 50\n",
    "            with f.batch_update():\n",
    "                scatter.marker.color = c\n",
    "                scatter.marker.size = s\n",
    "\n",
    "\n",
    "    scatter.on_click(update_point)\"\"\"\n",
    "\n",
    "    f\n",
    "    \n",
    "    \n",
    "    f.show()\n",
    "    \n",
    "#trace_point(43, 0, 0)\n"
   ]
  },
  {
   "cell_type": "code",
   "execution_count": 14,
   "id": "51f55c0e",
   "metadata": {},
   "outputs": [],
   "source": [
    "def get_point_infos(index_point, is_replace_with_names, name1, name2):\n",
    "    \"\"\"\n",
    "    Returns:\n",
    "        server(str or \"\"): \"Player\" or \"Opponent\" (if is_replace_with_names => name1, name2)\n",
    "        winner(str or \"\"): \"0\" (P2) or \"1\" (P1) (if is_replace_with_names => name1, name2)\n",
    "        lst_shots_out(Dataframe or None): dataframe with list of shots where Result=Out or Net\n",
    "        last_shot(Dataframe or None): dataframe with the row of the max Shot\n",
    "    \"\"\"\n",
    "    df_point = df[df[\"Point\"]==index_point]\n",
    "    server = \"\"\n",
    "    winner = \"\"\n",
    "    server_side = \"\"\n",
    "    last_shot = None\n",
    "    df_shots_out_or_net = None\n",
    "    if len(df_point) > 0:\n",
    "        df_point=df_point.sort_values(by=\"Shot\")\n",
    "        df_shot1=df_point[(df_point[\"Shot\"]==1)]\n",
    "        if len(df_shot1) > 0:\n",
    "            \n",
    "            server=df_shot1.iloc[0][\"Player\"]\n",
    "            server_side=df_shot1.iloc[0][\"Hit Zone\"]\n",
    "            if (is_replace_with_names):\n",
    "                server=server.replace(\"Player\", name1).replace(\"Opponent\", name2)\n",
    "            \n",
    "            winner=df_shot1.iloc[0][\"Winner_Point\"]\n",
    "            if (is_replace_with_names):\n",
    "                #print(str(winner))\n",
    "                if (str(winner)==\"0\"):\n",
    "                    winner=name2\n",
    "                if (str(winner)==\"1\"):\n",
    "                    winner=name1\n",
    "\n",
    "            df_shots_out_or_net = df_point[df_point[\"Result\"].isin([\"Out\",\"Net\"])]\n",
    "            #if len(df_shots_out_or_net)>0:\n",
    "            #    lst_shots_out = df_shots_out_or_net[\"Shot\"].tolist()\n",
    "            last_shot = df_point.iloc[-1]\n",
    "    return (server, server_side, winner, df_shots_out_or_net, last_shot)\n",
    "                                           \n",
    "#print(get_point_infos(65, True, name1, name2))\n",
    "def display_point_infos(index_point):\n",
    "    #print(index_point)\n",
    "    (server, server_side, winner, df_shots_out_or_net, last_shot)=(get_point_infos(index_point, True, name1, name2))\n",
    "    lst_shots_out = []\n",
    "    if (df_shots_out_or_net is not None):\n",
    "        if (len(df_shots_out_or_net)>0):\n",
    "            lst_shots_out = df_shots_out_or_net[\"Shot\"].tolist()\n",
    "            lst_shots_out = [str(shot) for shot in lst_shots_out]\n",
    "    last_shot_str = \"\"\n",
    "    time = \"\"\n",
    "    #print(last_shot)\n",
    "    if (last_shot is not None):\n",
    "        last_shot_str = last_shot[\"Player\"].replace(\"Player\", name1).replace(\"Opponent\", name2).upper()[0:3]\n",
    "        last_shot_str += \" \" + last_shot[\"Result\"]\n",
    "        last_shot_str += \"(\" + str(last_shot[\"Shot\"]) + \")\"\n",
    "        try:\n",
    "            time = str(round(last_shot[\"Video Time\"]))\n",
    "        except:\n",
    "            time=\"\"\n",
    "    print(\"Pt {0} ({6})- Srv: {1}*{5} - Won: {2} --- Last: {4} --- Shots OUT(or net): {3}\".format(str(index_point),str(server).upper()[0:3], str(winner).upper()[0:3], \", \".join(lst_shots_out),last_shot_str, server_side, time))\n",
    "#print(display_point_infos(1))"
   ]
  },
  {
   "cell_type": "code",
   "execution_count": 15,
   "id": "da2dea52",
   "metadata": {},
   "outputs": [],
   "source": [
    "def update_df_result_bounce_hit(df, current_point, shot_index, new_bounce_x, new_bounce_y, new_hit_x, new_hit_y, shot_result):\n",
    "    #change the value in the dataframe\n",
    "    #set old result to resultOld\n",
    "    df.loc[(df[\"Point\"]==current_point)&(df[\"Shot\"]==shot_index),\"ResultOld\"]=\\\n",
    "        df.loc[(df[\"Point\"]==current_point)&(df[\"Shot\"]==shot_index),\"Result\"]\n",
    "    df.loc[(df[\"Point\"]==current_point)&(df[\"Shot\"]==shot_index),\"Bounce (x)Old\"]=\\\n",
    "        df.loc[(df[\"Point\"]==current_point)&(df[\"Shot\"]==shot_index),\"Bounce (x)\"]\n",
    "    df.loc[(df[\"Point\"]==current_point)&(df[\"Shot\"]==shot_index),\"Bounce (y)Old\"]=\\\n",
    "        df.loc[(df[\"Point\"]==current_point)&(df[\"Shot\"]==shot_index),\"Bounce (y)\"]\n",
    "    df.loc[(df[\"Point\"]==current_point)&(df[\"Shot\"]==shot_index),\"Hit (x)Old\"]=\\\n",
    "        df.loc[(df[\"Point\"]==current_point)&(df[\"Shot\"]==shot_index),\"Hit (x)\"]\n",
    "    df.loc[(df[\"Point\"]==current_point)&(df[\"Shot\"]==shot_index),\"Hit (y)Old\"]=\\\n",
    "        df.loc[(df[\"Point\"]==current_point)&(df[\"Shot\"]==shot_index),\"Hit (y)\"]\n",
    "    #set new result to Result\n",
    "    df.loc[(df[\"Point\"]==current_point)&(df[\"Shot\"]==shot_index),\"Result\"]=shot_result\n",
    "    df.loc[(df[\"Point\"]==current_point)&(df[\"Shot\"]==shot_index),\"Bounce (x)\"]=new_bounce_x\n",
    "    df.loc[(df[\"Point\"]==current_point)&(df[\"Shot\"]==shot_index),\"Bounce (y)\"]=new_bounce_y\n",
    "    df.loc[(df[\"Point\"]==current_point)&(df[\"Shot\"]==shot_index),\"Hit (x)\"]=new_hit_x\n",
    "    df.loc[(df[\"Point\"]==current_point)&(df[\"Shot\"]==shot_index),\"Hit (y)\"]=new_hit_y\n",
    "    #set new result to Result2\n",
    "    df.loc[(df[\"Point\"]==current_point)&(df[\"Shot\"]==shot_index),\"Result2\"]=shot_result\n",
    "    df.loc[(df[\"Point\"]==current_point)&(df[\"Shot\"]==shot_index),\"Bounce (x)2\"]=new_bounce_x\n",
    "    df.loc[(df[\"Point\"]==current_point)&(df[\"Shot\"]==shot_index),\"Bounce (y)2\"]=new_bounce_y\n",
    "    df.loc[(df[\"Point\"]==current_point)&(df[\"Shot\"]==shot_index),\"Hit (x)2\"]=new_hit_x\n",
    "    df.loc[(df[\"Point\"]==current_point)&(df[\"Shot\"]==shot_index),\"Hit (y)2\"]=new_hit_y\n",
    "    #set all next shots to 0\n",
    "    if shot_result in [\"Let\",\"Out\",\"Net\"]:\n",
    "        df.loc[(df[\"Point\"]==current_point)&(df[\"Shot\"]>shot_index),\"Shot\"]=0\n",
    "        df.loc[(df[\"Point\"]==current_point)&(df[\"Shot\"]>shot_index),\"Result2\"]=shot_result"
   ]
  },
  {
   "cell_type": "code",
   "execution_count": 85,
   "id": "e1c3be53",
   "metadata": {},
   "outputs": [
    {
     "name": "stdout",
     "output_type": "stream",
     "text": [
      "20\n",
      "go_to_nextpoint 20\n"
     ]
    }
   ],
   "source": [
    "#GO TO NEXT POINT - last shot\n",
    "current_point+=1\n",
    "print(current_point)\n",
    "go_to_nextpoint(player, current_point, -1)\n",
    "#trace_point()"
   ]
  },
  {
   "cell_type": "code",
   "execution_count": 77,
   "id": "f687eb7f",
   "metadata": {},
   "outputs": [
    {
     "name": "stdout",
     "output_type": "stream",
     "text": [
      "go_to_nextpoint 12\n"
     ]
    }
   ],
   "source": [
    "#GO TO PREV POINT - last shot\n",
    "current_point-=1\n",
    "#print(current_point)\n",
    "go_to_nextpoint(player, current_point, -1)"
   ]
  },
  {
   "cell_type": "code",
   "execution_count": 27,
   "id": "dfff6692",
   "metadata": {},
   "outputs": [
    {
     "name": "stdout",
     "output_type": "stream",
     "text": [
      "go_to_nextpoint 1\n"
     ]
    }
   ],
   "source": [
    "#GO TO NEXT POINT - serve\n",
    "current_point+=1\n",
    "go_to_nextpoint(player, current_point, 1)\n",
    "#trace_point()"
   ]
  },
  {
   "cell_type": "code",
   "execution_count": 19,
   "id": "9c95722e",
   "metadata": {},
   "outputs": [
    {
     "name": "stdout",
     "output_type": "stream",
     "text": [
      "go_to_nextpoint 0\n"
     ]
    }
   ],
   "source": [
    "#GO TO PREV POINT - serve\n",
    "current_point-=1\n",
    "#print(current_point)\n",
    "go_to_nextpoint(player, current_point, 1)"
   ]
  },
  {
   "cell_type": "code",
   "execution_count": 52,
   "id": "793b4464",
   "metadata": {
    "scrolled": false
   },
   "outputs": [
    {
     "data": {
      "application/vnd.jupyter.widget-view+json": {
       "model_id": "1a7f2285fda9465189e2722b6cdc9550",
       "version_major": 2,
       "version_minor": 0
      },
      "text/plain": [
       "VBox(children=(HBox(children=(Button(description='Next Point', layout=Layout(width='160px'), style=ButtonStyle…"
      ]
     },
     "metadata": {},
     "output_type": "display_data"
    },
    {
     "data": {
      "application/javascript": [
       "IPython.notebook.execute_cell_range(IPython.notebook.get_selected_index()-4, IPython.notebook.get_selected_index()-3)"
      ],
      "text/plain": [
       "<IPython.core.display.Javascript object>"
      ]
     },
     "metadata": {},
     "output_type": "display_data"
    },
    {
     "name": "stdout",
     "output_type": "stream",
     "text": [
      "Pt 20 ()- Srv: * - Won:  --- Last:  --- Shots OUT(or net): \n",
      "trace_point 19\n"
     ]
    },
    {
     "data": {
      "application/vnd.plotly.v1+json": {
       "config": {
        "plotlyServerURL": "https://plot.ly"
       },
       "data": [
        {
         "line": {
          "color": "white"
         },
         "mode": "lines",
         "type": "scatter",
         "uid": "2dfad2e3-cbac-40a7-a6ad-0bc89edb89b0",
         "x": [
          -5.48,
          -5.48,
          5.48,
          5.48
         ],
         "y": [
          0,
          23.73,
          23.73,
          0
         ]
        },
        {
         "line": {
          "color": "white"
         },
         "mode": "lines",
         "type": "scatter",
         "uid": "efc5f867-9411-468a-ae65-45ab0a0584b4",
         "x": [
          -4.11,
          -4.11,
          4.11,
          4.11
         ],
         "y": [
          0,
          23.73,
          23.73,
          0
         ]
        },
        {
         "line": {
          "color": "white"
         },
         "mode": "lines",
         "type": "scatter",
         "uid": "f44126f3-c52d-4dc3-aac1-874c0a7d0b28",
         "x": [
          -4.11,
          -4.11,
          4.11,
          4.11
         ],
         "y": [
          0,
          11.88,
          11.88,
          0
         ]
        },
        {
         "line": {
          "color": "white"
         },
         "mode": "lines",
         "type": "scatter",
         "uid": "837d5458-863b-41bd-b502-ec8573b09887",
         "x": [
          -4.11,
          -4.11,
          4.11,
          4.11
         ],
         "y": [
          0,
          5.48,
          5.48,
          0
         ]
        },
        {
         "line": {
          "color": "white"
         },
         "mode": "lines",
         "type": "scatter",
         "uid": "c84b9424-1d09-4e37-82e7-23336112373a",
         "x": [
          -4.11,
          -4.11,
          4.11,
          4.11
         ],
         "y": [
          0,
          12.08,
          12.08,
          0
         ]
        },
        {
         "line": {
          "color": "white"
         },
         "mode": "lines",
         "type": "scatter",
         "uid": "7bd0bf8e-0ee0-4eb5-a566-878ec1835bfa",
         "x": [
          -4.11,
          -4.11,
          4.11,
          4.11
         ],
         "y": [
          0,
          18.48,
          18.48,
          0
         ]
        }
       ],
       "layout": {
        "autosize": false,
        "height": 400,
        "template": {
         "data": {
          "bar": [
           {
            "error_x": {
             "color": "#2a3f5f"
            },
            "error_y": {
             "color": "#2a3f5f"
            },
            "marker": {
             "line": {
              "color": "#E5ECF6",
              "width": 0.5
             },
             "pattern": {
              "fillmode": "overlay",
              "size": 10,
              "solidity": 0.2
             }
            },
            "type": "bar"
           }
          ],
          "barpolar": [
           {
            "marker": {
             "line": {
              "color": "#E5ECF6",
              "width": 0.5
             },
             "pattern": {
              "fillmode": "overlay",
              "size": 10,
              "solidity": 0.2
             }
            },
            "type": "barpolar"
           }
          ],
          "carpet": [
           {
            "aaxis": {
             "endlinecolor": "#2a3f5f",
             "gridcolor": "white",
             "linecolor": "white",
             "minorgridcolor": "white",
             "startlinecolor": "#2a3f5f"
            },
            "baxis": {
             "endlinecolor": "#2a3f5f",
             "gridcolor": "white",
             "linecolor": "white",
             "minorgridcolor": "white",
             "startlinecolor": "#2a3f5f"
            },
            "type": "carpet"
           }
          ],
          "choropleth": [
           {
            "colorbar": {
             "outlinewidth": 0,
             "ticks": ""
            },
            "type": "choropleth"
           }
          ],
          "contour": [
           {
            "colorbar": {
             "outlinewidth": 0,
             "ticks": ""
            },
            "colorscale": [
             [
              0,
              "#0d0887"
             ],
             [
              0.1111111111111111,
              "#46039f"
             ],
             [
              0.2222222222222222,
              "#7201a8"
             ],
             [
              0.3333333333333333,
              "#9c179e"
             ],
             [
              0.4444444444444444,
              "#bd3786"
             ],
             [
              0.5555555555555556,
              "#d8576b"
             ],
             [
              0.6666666666666666,
              "#ed7953"
             ],
             [
              0.7777777777777778,
              "#fb9f3a"
             ],
             [
              0.8888888888888888,
              "#fdca26"
             ],
             [
              1,
              "#f0f921"
             ]
            ],
            "type": "contour"
           }
          ],
          "contourcarpet": [
           {
            "colorbar": {
             "outlinewidth": 0,
             "ticks": ""
            },
            "type": "contourcarpet"
           }
          ],
          "heatmap": [
           {
            "colorbar": {
             "outlinewidth": 0,
             "ticks": ""
            },
            "colorscale": [
             [
              0,
              "#0d0887"
             ],
             [
              0.1111111111111111,
              "#46039f"
             ],
             [
              0.2222222222222222,
              "#7201a8"
             ],
             [
              0.3333333333333333,
              "#9c179e"
             ],
             [
              0.4444444444444444,
              "#bd3786"
             ],
             [
              0.5555555555555556,
              "#d8576b"
             ],
             [
              0.6666666666666666,
              "#ed7953"
             ],
             [
              0.7777777777777778,
              "#fb9f3a"
             ],
             [
              0.8888888888888888,
              "#fdca26"
             ],
             [
              1,
              "#f0f921"
             ]
            ],
            "type": "heatmap"
           }
          ],
          "heatmapgl": [
           {
            "colorbar": {
             "outlinewidth": 0,
             "ticks": ""
            },
            "colorscale": [
             [
              0,
              "#0d0887"
             ],
             [
              0.1111111111111111,
              "#46039f"
             ],
             [
              0.2222222222222222,
              "#7201a8"
             ],
             [
              0.3333333333333333,
              "#9c179e"
             ],
             [
              0.4444444444444444,
              "#bd3786"
             ],
             [
              0.5555555555555556,
              "#d8576b"
             ],
             [
              0.6666666666666666,
              "#ed7953"
             ],
             [
              0.7777777777777778,
              "#fb9f3a"
             ],
             [
              0.8888888888888888,
              "#fdca26"
             ],
             [
              1,
              "#f0f921"
             ]
            ],
            "type": "heatmapgl"
           }
          ],
          "histogram": [
           {
            "marker": {
             "pattern": {
              "fillmode": "overlay",
              "size": 10,
              "solidity": 0.2
             }
            },
            "type": "histogram"
           }
          ],
          "histogram2d": [
           {
            "colorbar": {
             "outlinewidth": 0,
             "ticks": ""
            },
            "colorscale": [
             [
              0,
              "#0d0887"
             ],
             [
              0.1111111111111111,
              "#46039f"
             ],
             [
              0.2222222222222222,
              "#7201a8"
             ],
             [
              0.3333333333333333,
              "#9c179e"
             ],
             [
              0.4444444444444444,
              "#bd3786"
             ],
             [
              0.5555555555555556,
              "#d8576b"
             ],
             [
              0.6666666666666666,
              "#ed7953"
             ],
             [
              0.7777777777777778,
              "#fb9f3a"
             ],
             [
              0.8888888888888888,
              "#fdca26"
             ],
             [
              1,
              "#f0f921"
             ]
            ],
            "type": "histogram2d"
           }
          ],
          "histogram2dcontour": [
           {
            "colorbar": {
             "outlinewidth": 0,
             "ticks": ""
            },
            "colorscale": [
             [
              0,
              "#0d0887"
             ],
             [
              0.1111111111111111,
              "#46039f"
             ],
             [
              0.2222222222222222,
              "#7201a8"
             ],
             [
              0.3333333333333333,
              "#9c179e"
             ],
             [
              0.4444444444444444,
              "#bd3786"
             ],
             [
              0.5555555555555556,
              "#d8576b"
             ],
             [
              0.6666666666666666,
              "#ed7953"
             ],
             [
              0.7777777777777778,
              "#fb9f3a"
             ],
             [
              0.8888888888888888,
              "#fdca26"
             ],
             [
              1,
              "#f0f921"
             ]
            ],
            "type": "histogram2dcontour"
           }
          ],
          "mesh3d": [
           {
            "colorbar": {
             "outlinewidth": 0,
             "ticks": ""
            },
            "type": "mesh3d"
           }
          ],
          "parcoords": [
           {
            "line": {
             "colorbar": {
              "outlinewidth": 0,
              "ticks": ""
             }
            },
            "type": "parcoords"
           }
          ],
          "pie": [
           {
            "automargin": true,
            "type": "pie"
           }
          ],
          "scatter": [
           {
            "marker": {
             "colorbar": {
              "outlinewidth": 0,
              "ticks": ""
             }
            },
            "type": "scatter"
           }
          ],
          "scatter3d": [
           {
            "line": {
             "colorbar": {
              "outlinewidth": 0,
              "ticks": ""
             }
            },
            "marker": {
             "colorbar": {
              "outlinewidth": 0,
              "ticks": ""
             }
            },
            "type": "scatter3d"
           }
          ],
          "scattercarpet": [
           {
            "marker": {
             "colorbar": {
              "outlinewidth": 0,
              "ticks": ""
             }
            },
            "type": "scattercarpet"
           }
          ],
          "scattergeo": [
           {
            "marker": {
             "colorbar": {
              "outlinewidth": 0,
              "ticks": ""
             }
            },
            "type": "scattergeo"
           }
          ],
          "scattergl": [
           {
            "marker": {
             "colorbar": {
              "outlinewidth": 0,
              "ticks": ""
             }
            },
            "type": "scattergl"
           }
          ],
          "scattermapbox": [
           {
            "marker": {
             "colorbar": {
              "outlinewidth": 0,
              "ticks": ""
             }
            },
            "type": "scattermapbox"
           }
          ],
          "scatterpolar": [
           {
            "marker": {
             "colorbar": {
              "outlinewidth": 0,
              "ticks": ""
             }
            },
            "type": "scatterpolar"
           }
          ],
          "scatterpolargl": [
           {
            "marker": {
             "colorbar": {
              "outlinewidth": 0,
              "ticks": ""
             }
            },
            "type": "scatterpolargl"
           }
          ],
          "scatterternary": [
           {
            "marker": {
             "colorbar": {
              "outlinewidth": 0,
              "ticks": ""
             }
            },
            "type": "scatterternary"
           }
          ],
          "surface": [
           {
            "colorbar": {
             "outlinewidth": 0,
             "ticks": ""
            },
            "colorscale": [
             [
              0,
              "#0d0887"
             ],
             [
              0.1111111111111111,
              "#46039f"
             ],
             [
              0.2222222222222222,
              "#7201a8"
             ],
             [
              0.3333333333333333,
              "#9c179e"
             ],
             [
              0.4444444444444444,
              "#bd3786"
             ],
             [
              0.5555555555555556,
              "#d8576b"
             ],
             [
              0.6666666666666666,
              "#ed7953"
             ],
             [
              0.7777777777777778,
              "#fb9f3a"
             ],
             [
              0.8888888888888888,
              "#fdca26"
             ],
             [
              1,
              "#f0f921"
             ]
            ],
            "type": "surface"
           }
          ],
          "table": [
           {
            "cells": {
             "fill": {
              "color": "#EBF0F8"
             },
             "line": {
              "color": "white"
             }
            },
            "header": {
             "fill": {
              "color": "#C8D4E3"
             },
             "line": {
              "color": "white"
             }
            },
            "type": "table"
           }
          ]
         },
         "layout": {
          "annotationdefaults": {
           "arrowcolor": "#2a3f5f",
           "arrowhead": 0,
           "arrowwidth": 1
          },
          "autotypenumbers": "strict",
          "coloraxis": {
           "colorbar": {
            "outlinewidth": 0,
            "ticks": ""
           }
          },
          "colorscale": {
           "diverging": [
            [
             0,
             "#8e0152"
            ],
            [
             0.1,
             "#c51b7d"
            ],
            [
             0.2,
             "#de77ae"
            ],
            [
             0.3,
             "#f1b6da"
            ],
            [
             0.4,
             "#fde0ef"
            ],
            [
             0.5,
             "#f7f7f7"
            ],
            [
             0.6,
             "#e6f5d0"
            ],
            [
             0.7,
             "#b8e186"
            ],
            [
             0.8,
             "#7fbc41"
            ],
            [
             0.9,
             "#4d9221"
            ],
            [
             1,
             "#276419"
            ]
           ],
           "sequential": [
            [
             0,
             "#0d0887"
            ],
            [
             0.1111111111111111,
             "#46039f"
            ],
            [
             0.2222222222222222,
             "#7201a8"
            ],
            [
             0.3333333333333333,
             "#9c179e"
            ],
            [
             0.4444444444444444,
             "#bd3786"
            ],
            [
             0.5555555555555556,
             "#d8576b"
            ],
            [
             0.6666666666666666,
             "#ed7953"
            ],
            [
             0.7777777777777778,
             "#fb9f3a"
            ],
            [
             0.8888888888888888,
             "#fdca26"
            ],
            [
             1,
             "#f0f921"
            ]
           ],
           "sequentialminus": [
            [
             0,
             "#0d0887"
            ],
            [
             0.1111111111111111,
             "#46039f"
            ],
            [
             0.2222222222222222,
             "#7201a8"
            ],
            [
             0.3333333333333333,
             "#9c179e"
            ],
            [
             0.4444444444444444,
             "#bd3786"
            ],
            [
             0.5555555555555556,
             "#d8576b"
            ],
            [
             0.6666666666666666,
             "#ed7953"
            ],
            [
             0.7777777777777778,
             "#fb9f3a"
            ],
            [
             0.8888888888888888,
             "#fdca26"
            ],
            [
             1,
             "#f0f921"
            ]
           ]
          },
          "colorway": [
           "#636efa",
           "#EF553B",
           "#00cc96",
           "#ab63fa",
           "#FFA15A",
           "#19d3f3",
           "#FF6692",
           "#B6E880",
           "#FF97FF",
           "#FECB52"
          ],
          "font": {
           "color": "#2a3f5f"
          },
          "geo": {
           "bgcolor": "white",
           "lakecolor": "white",
           "landcolor": "#E5ECF6",
           "showlakes": true,
           "showland": true,
           "subunitcolor": "white"
          },
          "hoverlabel": {
           "align": "left"
          },
          "hovermode": "closest",
          "mapbox": {
           "style": "light"
          },
          "paper_bgcolor": "white",
          "plot_bgcolor": "#E5ECF6",
          "polar": {
           "angularaxis": {
            "gridcolor": "white",
            "linecolor": "white",
            "ticks": ""
           },
           "bgcolor": "#E5ECF6",
           "radialaxis": {
            "gridcolor": "white",
            "linecolor": "white",
            "ticks": ""
           }
          },
          "scene": {
           "xaxis": {
            "backgroundcolor": "#E5ECF6",
            "gridcolor": "white",
            "gridwidth": 2,
            "linecolor": "white",
            "showbackground": true,
            "ticks": "",
            "zerolinecolor": "white"
           },
           "yaxis": {
            "backgroundcolor": "#E5ECF6",
            "gridcolor": "white",
            "gridwidth": 2,
            "linecolor": "white",
            "showbackground": true,
            "ticks": "",
            "zerolinecolor": "white"
           },
           "zaxis": {
            "backgroundcolor": "#E5ECF6",
            "gridcolor": "white",
            "gridwidth": 2,
            "linecolor": "white",
            "showbackground": true,
            "ticks": "",
            "zerolinecolor": "white"
           }
          },
          "shapedefaults": {
           "line": {
            "color": "#2a3f5f"
           }
          },
          "ternary": {
           "aaxis": {
            "gridcolor": "white",
            "linecolor": "white",
            "ticks": ""
           },
           "baxis": {
            "gridcolor": "white",
            "linecolor": "white",
            "ticks": ""
           },
           "bgcolor": "#E5ECF6",
           "caxis": {
            "gridcolor": "white",
            "linecolor": "white",
            "ticks": ""
           }
          },
          "title": {
           "x": 0.05
          },
          "xaxis": {
           "automargin": true,
           "gridcolor": "white",
           "linecolor": "white",
           "ticks": "",
           "title": {
            "standoff": 15
           },
           "zerolinecolor": "white",
           "zerolinewidth": 2
          },
          "yaxis": {
           "automargin": true,
           "gridcolor": "white",
           "linecolor": "white",
           "ticks": "",
           "title": {
            "standoff": 15
           },
           "zerolinecolor": "white",
           "zerolinewidth": 2
          }
         }
        },
        "width": 850,
        "xaxis": {
         "range": [
          -5,
          5
         ],
         "scaleanchor": "y",
         "scaleratio": 3,
         "showgrid": false
        },
        "yaxis": {
         "range": [
          -4,
          27.76
         ],
         "showgrid": false
        }
       }
      },
      "text/html": [
       "<div>                            <div id=\"8eec324f-acda-4ee7-afa1-a3d35ec53c63\" class=\"plotly-graph-div\" style=\"height:400px; width:850px;\"></div>            <script type=\"text/javascript\">                require([\"plotly\"], function(Plotly) {                    window.PLOTLYENV=window.PLOTLYENV || {};                                    if (document.getElementById(\"8eec324f-acda-4ee7-afa1-a3d35ec53c63\")) {                    Plotly.newPlot(                        \"8eec324f-acda-4ee7-afa1-a3d35ec53c63\",                        [{\"line\":{\"color\":\"white\"},\"mode\":\"lines\",\"x\":[-5.48,-5.48,5.48,5.48],\"y\":[0,23.73,23.73,0],\"type\":\"scatter\",\"uid\":\"2dfad2e3-cbac-40a7-a6ad-0bc89edb89b0\"},{\"line\":{\"color\":\"white\"},\"mode\":\"lines\",\"x\":[-4.11,-4.11,4.11,4.11],\"y\":[0,23.73,23.73,0],\"type\":\"scatter\",\"uid\":\"efc5f867-9411-468a-ae65-45ab0a0584b4\"},{\"line\":{\"color\":\"white\"},\"mode\":\"lines\",\"x\":[-4.11,-4.11,4.11,4.11],\"y\":[0,11.88,11.88,0],\"type\":\"scatter\",\"uid\":\"f44126f3-c52d-4dc3-aac1-874c0a7d0b28\"},{\"line\":{\"color\":\"white\"},\"mode\":\"lines\",\"x\":[-4.11,-4.11,4.11,4.11],\"y\":[0,5.48,5.48,0],\"type\":\"scatter\",\"uid\":\"837d5458-863b-41bd-b502-ec8573b09887\"},{\"line\":{\"color\":\"white\"},\"mode\":\"lines\",\"x\":[-4.11,-4.11,4.11,4.11],\"y\":[0,12.08,12.08,0],\"type\":\"scatter\",\"uid\":\"c84b9424-1d09-4e37-82e7-23336112373a\"},{\"line\":{\"color\":\"white\"},\"mode\":\"lines\",\"x\":[-4.11,-4.11,4.11,4.11],\"y\":[0,18.48,18.48,0],\"type\":\"scatter\",\"uid\":\"7bd0bf8e-0ee0-4eb5-a566-878ec1835bfa\"}],                        {\"autosize\":false,\"height\":400,\"template\":{\"data\":{\"barpolar\":[{\"marker\":{\"line\":{\"color\":\"#E5ECF6\",\"width\":0.5},\"pattern\":{\"fillmode\":\"overlay\",\"size\":10,\"solidity\":0.2}},\"type\":\"barpolar\"}],\"bar\":[{\"error_x\":{\"color\":\"#2a3f5f\"},\"error_y\":{\"color\":\"#2a3f5f\"},\"marker\":{\"line\":{\"color\":\"#E5ECF6\",\"width\":0.5},\"pattern\":{\"fillmode\":\"overlay\",\"size\":10,\"solidity\":0.2}},\"type\":\"bar\"}],\"carpet\":[{\"aaxis\":{\"endlinecolor\":\"#2a3f5f\",\"gridcolor\":\"white\",\"linecolor\":\"white\",\"minorgridcolor\":\"white\",\"startlinecolor\":\"#2a3f5f\"},\"baxis\":{\"endlinecolor\":\"#2a3f5f\",\"gridcolor\":\"white\",\"linecolor\":\"white\",\"minorgridcolor\":\"white\",\"startlinecolor\":\"#2a3f5f\"},\"type\":\"carpet\"}],\"choropleth\":[{\"colorbar\":{\"outlinewidth\":0,\"ticks\":\"\"},\"type\":\"choropleth\"}],\"contourcarpet\":[{\"colorbar\":{\"outlinewidth\":0,\"ticks\":\"\"},\"type\":\"contourcarpet\"}],\"contour\":[{\"colorbar\":{\"outlinewidth\":0,\"ticks\":\"\"},\"colorscale\":[[0.0,\"#0d0887\"],[0.1111111111111111,\"#46039f\"],[0.2222222222222222,\"#7201a8\"],[0.3333333333333333,\"#9c179e\"],[0.4444444444444444,\"#bd3786\"],[0.5555555555555556,\"#d8576b\"],[0.6666666666666666,\"#ed7953\"],[0.7777777777777778,\"#fb9f3a\"],[0.8888888888888888,\"#fdca26\"],[1.0,\"#f0f921\"]],\"type\":\"contour\"}],\"heatmapgl\":[{\"colorbar\":{\"outlinewidth\":0,\"ticks\":\"\"},\"colorscale\":[[0.0,\"#0d0887\"],[0.1111111111111111,\"#46039f\"],[0.2222222222222222,\"#7201a8\"],[0.3333333333333333,\"#9c179e\"],[0.4444444444444444,\"#bd3786\"],[0.5555555555555556,\"#d8576b\"],[0.6666666666666666,\"#ed7953\"],[0.7777777777777778,\"#fb9f3a\"],[0.8888888888888888,\"#fdca26\"],[1.0,\"#f0f921\"]],\"type\":\"heatmapgl\"}],\"heatmap\":[{\"colorbar\":{\"outlinewidth\":0,\"ticks\":\"\"},\"colorscale\":[[0.0,\"#0d0887\"],[0.1111111111111111,\"#46039f\"],[0.2222222222222222,\"#7201a8\"],[0.3333333333333333,\"#9c179e\"],[0.4444444444444444,\"#bd3786\"],[0.5555555555555556,\"#d8576b\"],[0.6666666666666666,\"#ed7953\"],[0.7777777777777778,\"#fb9f3a\"],[0.8888888888888888,\"#fdca26\"],[1.0,\"#f0f921\"]],\"type\":\"heatmap\"}],\"histogram2dcontour\":[{\"colorbar\":{\"outlinewidth\":0,\"ticks\":\"\"},\"colorscale\":[[0.0,\"#0d0887\"],[0.1111111111111111,\"#46039f\"],[0.2222222222222222,\"#7201a8\"],[0.3333333333333333,\"#9c179e\"],[0.4444444444444444,\"#bd3786\"],[0.5555555555555556,\"#d8576b\"],[0.6666666666666666,\"#ed7953\"],[0.7777777777777778,\"#fb9f3a\"],[0.8888888888888888,\"#fdca26\"],[1.0,\"#f0f921\"]],\"type\":\"histogram2dcontour\"}],\"histogram2d\":[{\"colorbar\":{\"outlinewidth\":0,\"ticks\":\"\"},\"colorscale\":[[0.0,\"#0d0887\"],[0.1111111111111111,\"#46039f\"],[0.2222222222222222,\"#7201a8\"],[0.3333333333333333,\"#9c179e\"],[0.4444444444444444,\"#bd3786\"],[0.5555555555555556,\"#d8576b\"],[0.6666666666666666,\"#ed7953\"],[0.7777777777777778,\"#fb9f3a\"],[0.8888888888888888,\"#fdca26\"],[1.0,\"#f0f921\"]],\"type\":\"histogram2d\"}],\"histogram\":[{\"marker\":{\"pattern\":{\"fillmode\":\"overlay\",\"size\":10,\"solidity\":0.2}},\"type\":\"histogram\"}],\"mesh3d\":[{\"colorbar\":{\"outlinewidth\":0,\"ticks\":\"\"},\"type\":\"mesh3d\"}],\"parcoords\":[{\"line\":{\"colorbar\":{\"outlinewidth\":0,\"ticks\":\"\"}},\"type\":\"parcoords\"}],\"pie\":[{\"automargin\":true,\"type\":\"pie\"}],\"scatter3d\":[{\"line\":{\"colorbar\":{\"outlinewidth\":0,\"ticks\":\"\"}},\"marker\":{\"colorbar\":{\"outlinewidth\":0,\"ticks\":\"\"}},\"type\":\"scatter3d\"}],\"scattercarpet\":[{\"marker\":{\"colorbar\":{\"outlinewidth\":0,\"ticks\":\"\"}},\"type\":\"scattercarpet\"}],\"scattergeo\":[{\"marker\":{\"colorbar\":{\"outlinewidth\":0,\"ticks\":\"\"}},\"type\":\"scattergeo\"}],\"scattergl\":[{\"marker\":{\"colorbar\":{\"outlinewidth\":0,\"ticks\":\"\"}},\"type\":\"scattergl\"}],\"scattermapbox\":[{\"marker\":{\"colorbar\":{\"outlinewidth\":0,\"ticks\":\"\"}},\"type\":\"scattermapbox\"}],\"scatterpolargl\":[{\"marker\":{\"colorbar\":{\"outlinewidth\":0,\"ticks\":\"\"}},\"type\":\"scatterpolargl\"}],\"scatterpolar\":[{\"marker\":{\"colorbar\":{\"outlinewidth\":0,\"ticks\":\"\"}},\"type\":\"scatterpolar\"}],\"scatter\":[{\"marker\":{\"colorbar\":{\"outlinewidth\":0,\"ticks\":\"\"}},\"type\":\"scatter\"}],\"scatterternary\":[{\"marker\":{\"colorbar\":{\"outlinewidth\":0,\"ticks\":\"\"}},\"type\":\"scatterternary\"}],\"surface\":[{\"colorbar\":{\"outlinewidth\":0,\"ticks\":\"\"},\"colorscale\":[[0.0,\"#0d0887\"],[0.1111111111111111,\"#46039f\"],[0.2222222222222222,\"#7201a8\"],[0.3333333333333333,\"#9c179e\"],[0.4444444444444444,\"#bd3786\"],[0.5555555555555556,\"#d8576b\"],[0.6666666666666666,\"#ed7953\"],[0.7777777777777778,\"#fb9f3a\"],[0.8888888888888888,\"#fdca26\"],[1.0,\"#f0f921\"]],\"type\":\"surface\"}],\"table\":[{\"cells\":{\"fill\":{\"color\":\"#EBF0F8\"},\"line\":{\"color\":\"white\"}},\"header\":{\"fill\":{\"color\":\"#C8D4E3\"},\"line\":{\"color\":\"white\"}},\"type\":\"table\"}]},\"layout\":{\"annotationdefaults\":{\"arrowcolor\":\"#2a3f5f\",\"arrowhead\":0,\"arrowwidth\":1},\"autotypenumbers\":\"strict\",\"coloraxis\":{\"colorbar\":{\"outlinewidth\":0,\"ticks\":\"\"}},\"colorscale\":{\"diverging\":[[0,\"#8e0152\"],[0.1,\"#c51b7d\"],[0.2,\"#de77ae\"],[0.3,\"#f1b6da\"],[0.4,\"#fde0ef\"],[0.5,\"#f7f7f7\"],[0.6,\"#e6f5d0\"],[0.7,\"#b8e186\"],[0.8,\"#7fbc41\"],[0.9,\"#4d9221\"],[1,\"#276419\"]],\"sequential\":[[0.0,\"#0d0887\"],[0.1111111111111111,\"#46039f\"],[0.2222222222222222,\"#7201a8\"],[0.3333333333333333,\"#9c179e\"],[0.4444444444444444,\"#bd3786\"],[0.5555555555555556,\"#d8576b\"],[0.6666666666666666,\"#ed7953\"],[0.7777777777777778,\"#fb9f3a\"],[0.8888888888888888,\"#fdca26\"],[1.0,\"#f0f921\"]],\"sequentialminus\":[[0.0,\"#0d0887\"],[0.1111111111111111,\"#46039f\"],[0.2222222222222222,\"#7201a8\"],[0.3333333333333333,\"#9c179e\"],[0.4444444444444444,\"#bd3786\"],[0.5555555555555556,\"#d8576b\"],[0.6666666666666666,\"#ed7953\"],[0.7777777777777778,\"#fb9f3a\"],[0.8888888888888888,\"#fdca26\"],[1.0,\"#f0f921\"]]},\"colorway\":[\"#636efa\",\"#EF553B\",\"#00cc96\",\"#ab63fa\",\"#FFA15A\",\"#19d3f3\",\"#FF6692\",\"#B6E880\",\"#FF97FF\",\"#FECB52\"],\"font\":{\"color\":\"#2a3f5f\"},\"geo\":{\"bgcolor\":\"white\",\"lakecolor\":\"white\",\"landcolor\":\"#E5ECF6\",\"showlakes\":true,\"showland\":true,\"subunitcolor\":\"white\"},\"hoverlabel\":{\"align\":\"left\"},\"hovermode\":\"closest\",\"mapbox\":{\"style\":\"light\"},\"paper_bgcolor\":\"white\",\"plot_bgcolor\":\"#E5ECF6\",\"polar\":{\"angularaxis\":{\"gridcolor\":\"white\",\"linecolor\":\"white\",\"ticks\":\"\"},\"bgcolor\":\"#E5ECF6\",\"radialaxis\":{\"gridcolor\":\"white\",\"linecolor\":\"white\",\"ticks\":\"\"}},\"scene\":{\"xaxis\":{\"backgroundcolor\":\"#E5ECF6\",\"gridcolor\":\"white\",\"gridwidth\":2,\"linecolor\":\"white\",\"showbackground\":true,\"ticks\":\"\",\"zerolinecolor\":\"white\"},\"yaxis\":{\"backgroundcolor\":\"#E5ECF6\",\"gridcolor\":\"white\",\"gridwidth\":2,\"linecolor\":\"white\",\"showbackground\":true,\"ticks\":\"\",\"zerolinecolor\":\"white\"},\"zaxis\":{\"backgroundcolor\":\"#E5ECF6\",\"gridcolor\":\"white\",\"gridwidth\":2,\"linecolor\":\"white\",\"showbackground\":true,\"ticks\":\"\",\"zerolinecolor\":\"white\"}},\"shapedefaults\":{\"line\":{\"color\":\"#2a3f5f\"}},\"ternary\":{\"aaxis\":{\"gridcolor\":\"white\",\"linecolor\":\"white\",\"ticks\":\"\"},\"baxis\":{\"gridcolor\":\"white\",\"linecolor\":\"white\",\"ticks\":\"\"},\"bgcolor\":\"#E5ECF6\",\"caxis\":{\"gridcolor\":\"white\",\"linecolor\":\"white\",\"ticks\":\"\"}},\"title\":{\"x\":0.05},\"xaxis\":{\"automargin\":true,\"gridcolor\":\"white\",\"linecolor\":\"white\",\"ticks\":\"\",\"title\":{\"standoff\":15},\"zerolinecolor\":\"white\",\"zerolinewidth\":2},\"yaxis\":{\"automargin\":true,\"gridcolor\":\"white\",\"linecolor\":\"white\",\"ticks\":\"\",\"title\":{\"standoff\":15},\"zerolinecolor\":\"white\",\"zerolinewidth\":2}}},\"width\":850,\"xaxis\":{\"range\":[-5,5],\"scaleanchor\":\"y\",\"scaleratio\":3,\"showgrid\":false},\"yaxis\":{\"range\":[-4,27.76],\"showgrid\":false}},                        {\"responsive\": true}                    ).then(function(){\n",
       "                            \n",
       "var gd = document.getElementById('8eec324f-acda-4ee7-afa1-a3d35ec53c63');\n",
       "var x = new MutationObserver(function (mutations, observer) {{\n",
       "        var display = window.getComputedStyle(gd).display;\n",
       "        if (!display || display === 'none') {{\n",
       "            console.log([gd, 'removed!']);\n",
       "            Plotly.purge(gd);\n",
       "            observer.disconnect();\n",
       "        }}\n",
       "}});\n",
       "\n",
       "// Listen for the removal of the full notebook cells\n",
       "var notebookContainer = gd.closest('#notebook-container');\n",
       "if (notebookContainer) {{\n",
       "    x.observe(notebookContainer, {childList: true});\n",
       "}}\n",
       "\n",
       "// Listen for the clearing of the current output cell\n",
       "var outputEl = gd.closest('.output');\n",
       "if (outputEl) {{\n",
       "    x.observe(outputEl, {childList: true});\n",
       "}}\n",
       "\n",
       "                        })                };                });            </script>        </div>"
      ]
     },
     "metadata": {},
     "output_type": "display_data"
    }
   ],
   "source": [
    "hide_me\n",
    "#https://www.cours-gratuit.com/tutoriel-python/tutoriel-python-matriser-la-bibliothque-ipywidgets\n",
    "import ipywidgets as widgets\n",
    "from ipywidgets import interact\n",
    "from IPython.display import display, Javascript\n",
    "from IPython.display import clear_output\n",
    "\n",
    "##DISPLAY box\n",
    "def display_menu():\n",
    "    display(\n",
    "        widgets.VBox([widgets.HBox([btn_nextpoint,btn_prevpoint,btn_pause,btn_play, btn_plus_2sec, btn_minus_2sec\n",
    "                                    , btn_end, btn_start])\n",
    "                          , widgets.HBox([btn_nextpoint_last, btn_prevpoint_last, widget_shot_index,widget_lbl_point\n",
    "                                          , widget_player, widget_lbl_stroke])\n",
    "                          , widgets.HBox([widget_bounce_x,widget_bounce_y, btn_update_shot, widget_shot_result])\n",
    "                          , widgets.HBox([widget_hit_x,widget_hit_y, btn_cancel_point, btn_in_to_out, btn_out_to_in, btn_adjust_x])\n",
    "                         ]))\n",
    "    \n",
    "#BUTTONS\n",
    "btn_nextpoint = widgets.Button(description='Next Point', layout = widgets.Layout(width='160px'))\n",
    "btn_prevpoint = widgets.Button(description='Prev Point', layout = widgets.Layout(width='160px'))\n",
    "#display(btn_nextpoint)\n",
    "btn_pause = widgets.Button(description='||', layout = widgets.Layout(width='130px'))\n",
    "btn_play = widgets.Button(description='>', layout = widgets.Layout(width='60px'))\n",
    "btn_end = widgets.Button(description='End', layout = widgets.Layout(width='60px'))\n",
    "btn_plus_2sec = widgets.Button(description='+2s', layout = widgets.Layout(width='160px'))\n",
    "btn_minus_2sec = widgets.Button(description='-2s', layout = widgets.Layout(width='160px'))\n",
    "btn_start = widgets.Button(description='Start', layout = widgets.Layout(width='160px'))\n",
    "btn_start = widgets.Button(description='Start', layout = widgets.Layout(width='130px'))\n",
    "btn_cancel_point = widgets.Button(description='Cancel Pt', layout = widgets.Layout(width='130px'), style=dict(button_color=\"red\"))\n",
    "btn_in_to_out = widgets.Button(description='IN->out', layout = widgets.Layout(width='70px'), style=dict(button_color=\"gray\"))\n",
    "btn_out_to_in = widgets.Button(description='out->IN', layout = widgets.Layout(width='70px'), style=dict(button_color=\"gray\"))\n",
    "btn_adjust_x = widgets.Button(description='Adj.X', layout = widgets.Layout(width='70px'), style=dict(button_color=\"gray\"))\n",
    "btn_nextpoint_last = widgets.Button(description='Next (last)', layout = widgets.Layout(width='150px'))\n",
    "btn_prevpoint_last = widgets.Button(description='Prev (last)', layout = widgets.Layout(width='130px'))\n",
    "\n",
    "def nextpoint_handler(btn_object):\n",
    "    #print('You pressed the {} button!'.format(btn_object.description))\n",
    "    clear_output()\n",
    "    display_menu()\n",
    "    btn_update_shot.description=\"Ok\"\n",
    "    display(Javascript('IPython.notebook.execute_cell_range(IPython.notebook.get_selected_index()-2, IPython.notebook.get_selected_index()-1)'))\n",
    "    display_point_infos(current_point+1)\n",
    "    widget_lbl_point.value=current_point+1\n",
    "def prevpoint_handler(btn_object):\n",
    "    #print('You pressed the {} button!'.format(btn_object.description))\n",
    "    clear_output()\n",
    "    btn_update_shot.description=\"Ok\"\n",
    "    display_menu()\n",
    "    display(Javascript('IPython.notebook.execute_cell_range(IPython.notebook.get_selected_index()-1, IPython.notebook.get_selected_index())'))\n",
    "    display_point_infos(current_point+1)\n",
    "    widget_lbl_point.value=current_point+1\n",
    "def pause_handler(btn_object):\n",
    "    player.set_pause(1)\n",
    "def play_handler(btn_object):\n",
    "    player.set_pause(0)\n",
    "def end_handler(btn_end):\n",
    "    player.release()\n",
    "def p2sec_handler(btn_object):\n",
    "    time = player.get_time()\n",
    "    player.set_time(time+2000)\n",
    "def m2sec_handler(btn_object):\n",
    "    time = player.get_time()\n",
    "    player.set_time(time-2000)\n",
    "def start_handler(btn_start):\n",
    "    # call the video method\n",
    "    player = video2(filename)\n",
    "    #GO to point 1\n",
    "    current_point=0\n",
    "def cancel_handler(btn_object):\n",
    "    #point = widget_lbl_point.value\n",
    "    print(\"hello\")\n",
    "    print(\"cancel \" + str(current_point))\n",
    "    df.loc[(df[\"Point\"]==current_point),\"Shot\"]=0\n",
    "    df.loc[(df[\"Point\"]==current_point),\"comment\"]=\"cancelled\"\n",
    "    print(df.loc[(df[\"Point\"]==current_point),\"Shot\"])\n",
    "    df.to_csv(filename_csv)\n",
    "def in_to_out_handler(btn_object):\n",
    "    df_shot=df[(df[\"Point\"]==current_point)&(df[\"Shot\"]==widget_shot_index.value)].head()\n",
    "    x,y=change_shot_in_to_out(True,widget_bounce_x.value, widget_bounce_y.value\n",
    "                               , df_shot.iloc[0][\"Shot\"]\n",
    "                               , df_shot.iloc[0][\"Hit Zone\"]\n",
    "                               , df_shot.iloc[0][\"Hit Side\"])\n",
    "    widget_bounce_x.value=x\n",
    "    widget_bounce_y.value=y\n",
    "def out_to_in_handler(btn_object):\n",
    "    df_shot=df[(df[\"Point\"]==current_point)&(df[\"Shot\"]==widget_shot_index.value)].head()\n",
    "    x,y=change_shot_in_to_out(False,widget_bounce_x.value, widget_bounce_y.value\n",
    "                               , df_shot.iloc[0][\"Shot\"]\n",
    "                               , df_shot.iloc[0][\"Hit Zone\"]\n",
    "                               , df_shot.iloc[0][\"Hit Side\"])\n",
    "    widget_bounce_x.value=x\n",
    "    widget_bounce_y.value=y\n",
    "def adjust_x_handler(btn_object):\n",
    "    print(current_point)\n",
    "    print(widget_shot_index.value+1)\n",
    "    df_shot_next=df[(df[\"Point\"]==current_point)&(df[\"Shot\"]==widget_shot_index.value+1)].head()\n",
    "    df_shot=df[(df[\"Point\"]==current_point)&(df[\"Shot\"]==widget_shot_index.value)].head()\n",
    "    x1=df_shot.iloc[0][\"Hit (x)\"]\n",
    "    y1=df_shot.iloc[0][\"Hit (y)\"]\n",
    "    x2=df_shot_next.iloc[0][\"Hit (x)\"]\n",
    "    y2=df_shot_next.iloc[0][\"Hit (y)\"]\n",
    "    y=df_shot.iloc[0][\"Bounce (y)\"]\n",
    "    x = change_shot_on_line_between_2_points(x1, y1, x2, y2, y)\n",
    "    widget_bounce_x.value=x\n",
    "\n",
    "    \n",
    "#player = btn_start.on_click(start_handler)\n",
    "btn_nextpoint.on_click(nextpoint_handler)\n",
    "btn_prevpoint.on_click(prevpoint_handler)\n",
    "btn_pause.on_click(pause_handler)\n",
    "btn_play.on_click(play_handler)\n",
    "btn_end.on_click(end_handler)\n",
    "btn_plus_2sec.on_click(p2sec_handler)\n",
    "btn_minus_2sec.on_click(m2sec_handler)\n",
    "btn_start.on_click(start_handler)\n",
    "btn_cancel_point.on_click(cancel_handler)\n",
    "btn_in_to_out.on_click(in_to_out_handler)\n",
    "btn_out_to_in.on_click(out_to_in_handler)\n",
    "btn_adjust_x.on_click(adjust_x_handler)\n",
    "\n",
    "#LABEL Pt\n",
    "widget_lbl_point = widgets.Label(value='Pt ', layout = widgets.Layout(width='130px'))\n",
    "def set_label_point(current_point):\n",
    "    widget_lbl_point.value=\"Pt \" + str(current_point)\n",
    "#LABEL Stroke\n",
    "widget_lbl_stroke = widgets.Label(value='<stroke>', layout = widgets.Layout(width='170px'))\n",
    "\n",
    "def nextpoint_last_handler(btn_object):\n",
    "    #print('You pressed the {} button!'.format(btn_object.description))\n",
    "    clear_output()\n",
    "    display_menu()\n",
    "    display(Javascript('IPython.notebook.execute_cell_range(IPython.notebook.get_selected_index()-4, IPython.notebook.get_selected_index()-3)'))\n",
    "    btn_update_shot.description=\"Ok\"\n",
    "    player.set_pause(1)\n",
    "    display_point_infos(current_point+1)\n",
    "    trace_point(current_point+1)\n",
    "    set_label_point(current_point+1)\n",
    "    #last shot infos\n",
    "    (server, server_side, winner, df_shots_out_or_net, last_shot) = get_point_infos(current_point+1, True, name1, name2)\n",
    "    if (last_shot is not None):\n",
    "        print(last_shot[\"Shot\"])\n",
    "        widget_shot_index.value = last_shot[\"Shot\"]\n",
    "        init_inputvalues_bounces_and_result(last_shot[\"Shot\"], current_point+1)\n",
    "    else:\n",
    "        widget_shot_index.value = 0\n",
    "    time.sleep(1)\n",
    "    player.set_pause(0)\n",
    "\n",
    "def prevpoint_last_handler(btn_object):\n",
    "    #print('You pressed the {} button!'.format(btn_object.description))\n",
    "    clear_output()\n",
    "    display_menu()\n",
    "    display(Javascript('IPython.notebook.execute_cell_range(IPython.notebook.get_selected_index()-3, IPython.notebook.get_selected_index()-2)'))\n",
    "    btn_update_shot.description=\"Ok\"\n",
    "    display_point_infos(current_point+1)\n",
    "    trace_point(current_point-1)\n",
    "    set_label_point(current_point+1)\n",
    "    #last shot infos\n",
    "    (server, server_side, winner, df_shots_out_or_net, last_shot) = get_point_infos(current_point+1, True, name1, name2)\n",
    "    if (last_shot is not None):\n",
    "        widget_shot_index.value = last_shot[\"Shot\"]\n",
    "        init_inputvalues_bounces_and_result(last_shot[\"Shot\"], current_point+1)\n",
    "    else:\n",
    "        widget_shot_index.value = 0\n",
    "        init_inputvalues_bounces_and_result(0, current_point+1)\n",
    "    \n",
    "#BTN next_last, prev_last\n",
    "btn_nextpoint_last.on_click(nextpoint_last_handler)\n",
    "btn_prevpoint_last.on_click(prevpoint_last_handler)\n",
    "\n",
    "def init_inputvalues_bounces_and_result(shot_index, current_point):\n",
    "    #print(\"init_inputvalues_bounces_and_result\" + str(shot_index))\n",
    "    df_shot=df[(df[\"Point\"]==current_point)&(df[\"Shot\"]==shot_index)].head()\n",
    "    if len(df_shot)>0:\n",
    "        #set INPUTs bounce x/y to the value of the current shot\n",
    "        widget_bounce_x.value=round(df_shot.iloc[0][\"Bounce (x)\"], 2)\n",
    "        widget_bounce_y.value=round(df_shot.iloc[0][\"Bounce (y)\"], 2)\n",
    "        widget_hit_x.value=round(df_shot.iloc[0][\"Hit (x)\"], 2)\n",
    "        widget_hit_y.value=round(df_shot.iloc[0][\"Hit (y)\"], 2)\n",
    "        #set dropdown to the current shot value\n",
    "        widget_shot_result.value=df_shot.iloc[0][\"Result\"]\n",
    "        #set dropdown player\n",
    "        if df_shot.iloc[0][\"Player\"]==\"Player\":\n",
    "            widget_player.value=name1\n",
    "        elif df_shot.iloc[0][\"Player\"]==\"Opponent\":\n",
    "            widget_player.value=name2\n",
    "        else:\n",
    "            widget_player.value=\"None\"\n",
    "        speed=str(df_shot.iloc[0][\"Speed (KM/H)\"])\n",
    "        res=df_shot.iloc[0][\"Result\"]\n",
    "        widget_lbl_stroke.value= \"{0}-{1}   - {2}   {3} kmh\".format(df_shot.iloc[0][\"Stroke\"],res,df_shot.iloc[0][\"Spin\"],speed)\n",
    "    else:\n",
    "        widget_bounce_x.value=0\n",
    "        widget_bounce_y.value=0\n",
    "        widget_hit_x.value=0\n",
    "        widget_hit_y.value=0\n",
    "        widget_shot_result.value=\"None\"\n",
    "        widget_player.value=\"None\"\n",
    "        widget_lbl_stroke.value=\"None\"\n",
    "        \n",
    "#SHOT INPUT\n",
    "def on_change_shot(change):\n",
    "    if change['type'] == 'change' and change['name'] == 'value':\n",
    "        shot_index=change['new']\n",
    "        init_inputvalues_bounces_and_result(shot_index, current_point)\n",
    "        \n",
    "widget_shot_index=widgets.IntText(value=0,description='Shot', disabled=False, layout = widgets.Layout(width='130px'))\n",
    "widget_shot_index.observe(on_change_shot) \n",
    "widget_shot_index.add_class(\"left-spacing-class\")\n",
    "\n",
    "#PLAYER DROPDWON\n",
    "widget_player = widgets.Dropdown(\n",
    "    options=[\"None\",name1, name2],\n",
    "    value=\"None\",\n",
    "    description='By:',\n",
    "    disabled=False,\n",
    "    layout = widgets.Layout(width='150px')\n",
    ")\n",
    "#BOUNCE        \n",
    "widget_bounce_x=widgets.FloatText(description='X', disabled=False, layout = widgets.Layout(width='160px'), description_tooltip=\"-4.11 4.11\")\n",
    "widget_bounce_y=widgets.FloatText(description='Y', disabled=False, layout = widgets.Layout(width='160px'), description_tooltip=\"0- 5.48-Serv-11.88\\n11.88-Serve-18.48 - 23.73\")\n",
    "widget_bounce_y.add_class(\"left-spacing-class\")\n",
    "widget_bounce_x.add_class(\"left-spacing-class\")\n",
    "widget_hit_x=widgets.FloatText(description='hit X', disabled=False, layout = widgets.Layout(width='160px'), description_tooltip=\"-4.11 4.11\")\n",
    "widget_hit_y=widgets.FloatText(description='hit Y', disabled=False, layout = widgets.Layout(width='160px'), description_tooltip=\"0- 5.48-Serv-11.88\\n11.88-Serve-18.48 - 23.73\")\n",
    "widget_hit_y.add_class(\"left-spacing-class\")\n",
    "widget_hit_x.add_class(\"left-spacing-class\")\n",
    "#RESULT RadioButtons\n",
    "\n",
    "#BUTTON UPDATE SHOT\n",
    "btn_update_shot = widgets.Button(description='Ok', layout = widgets.Layout(width='100px'), style=dict(button_color=\"green\"))\n",
    "\n",
    "def update_shot_handler(btn_object):\n",
    "    print(\"A\")\n",
    "    shot_result = widget_shot_result.value#change['new']\n",
    "    if shot_result == \"None\":\n",
    "        return\n",
    "    elif shot_result == \"Swap Srv\":\n",
    "        swap_server_all_shots(df, current_point)\n",
    "    elif shot_result == \"Shot=0\":\n",
    "        shot_index=widget_shot_index.value\n",
    "        df.loc[(df[\"Point\"]==current_point)&(df[\"Shot\"]==shot_index),\"Shot\"]=0\n",
    "        df.loc[(df[\"Point\"]==current_point)&(df[\"Shot\"]==shot_index),\"Result2\"]=shot_result\n",
    "    else:\n",
    "        shot_index=widget_shot_index.value\n",
    "        print(\"Shot {0}-new Result:{1}\".format(shot_index, shot_result))\n",
    "        print(df[(df[\"Point\"]==current_point)&(df[\"Shot\"]==shot_index)].head())\n",
    "        update_df_result_bounce_hit(df, current_point, shot_index, widget_bounce_x.value, widget_bounce_y.value\n",
    "                                 , widget_hit_x.value, widget_hit_y.value, shot_result)\n",
    "    set_point_winner(df, current_point)\n",
    "    df.to_csv(filename_csv)\n",
    "    btn_update_shot.description=\"-\"\n",
    "\n",
    "btn_update_shot.on_click(update_shot_handler)    \n",
    "#btn_update_shot.add_class(\"left-spacing-class\")\n",
    "display(HTML(\n",
    "     \"<style>.left-spacing-class {margin-left: -5px;}</style>\"\n",
    "))\n",
    "#RADIO\n",
    "widget_shot_result=widgets.ToggleButtons(\n",
    "    options=[\"None\",'In', 'Out', 'Net', 'Let', \"Shot=0\",\"Swap Srv\"],\n",
    "    value='None',\n",
    "    description='',\n",
    "    disabled=False,\n",
    "    button_color=[\"red\",\"red\",\"red\",\"red\",\"red\",\"red\",\"red\"],\n",
    "    style={\"button_width\": \"65px\", 'button_color':\"red\"}#, layout={'width': '280px'}\n",
    ")\n",
    "#widget_shot_result.observe(on_change_result) \n",
    "\n",
    "display_menu()"
   ]
  },
  {
   "cell_type": "code",
   "execution_count": 21,
   "id": "d62f3568",
   "metadata": {},
   "outputs": [
    {
     "name": "stdout",
     "output_type": "stream",
     "text": [
      "Point 1 - Pospisil\n",
      "Point 2 - Pospisil\n",
      "Point 3 - \n",
      "Point 4 - \n",
      "Point 5 - Pospisil\n",
      "Point 7 - Isner\n",
      "Point 9 - Isner\n",
      "Point 10 - Isner\n",
      "Point 12 - Isner\n",
      "Point 13 - Isner\n",
      "Point 14 - \n",
      "Point 15 - Pospisil\n",
      "Point 17 - Pospisil\n",
      "Point 18 - Pospisil\n",
      "Point 19 - Pospisil\n",
      "Point 20 - \n",
      "Point 22 - Pospisil\n",
      "Point 25 - \n",
      "Point 26 - Isner\n",
      "Point 27 - \n",
      "Point 28 - Isner\n",
      "Point 29 - \n",
      "Point 30 - Isner\n",
      "Point 31 - \n",
      "Point 32 - Isner\n",
      "Point 33 - Pospisil\n",
      "Point 34 - Pospisil\n",
      "Point 36 - \n",
      "Point 37 - Pospisil\n",
      "Point 38 - \n",
      "Point 41 - Pospisil\n",
      "Point 42 - \n",
      "Point 43 - Pospisil\n",
      "Point 45 - Pospisil\n",
      "Point 47 - Pospisil\n",
      "Point 48 - Pospisil\n",
      "Point 49 - Isner\n",
      "Point 51 - Isner\n",
      "Point 53 - Isner\n",
      "Point 54 - \n",
      "Point 55 - Isner\n",
      "Point 57 - Pospisil\n",
      "Point 58 - Pospisil\n",
      "Point 60 - \n",
      "Point 63 - Pospisil\n",
      "Point 65 - Isner\n",
      "Point 67 - Isner\n",
      "Point 68 - \n",
      "Point 69 - Isner\n",
      "Point 71 - Isner\n",
      "Point 72 - \n",
      "Point 73 - \n",
      "Point 75 - Pospisil\n",
      "Point 76 - Pospisil\n",
      "Point 78 - \n",
      "Point 79 - \n",
      "Point 81 - Pospisil\n",
      "Point 82 - Pospisil\n",
      "Point 83 - \n",
      "Point 84 - \n",
      "Point 85 - \n",
      "Point 88 - Pospisil\n",
      "Point 89 - \n",
      "Point 91 - Pospisil\n",
      "Point 93 - \n",
      "Point 96 - Isner\n",
      "Point 97 - Isner\n",
      "Point 98 - \n",
      "Point 99 - \n",
      "Point 100 - \n",
      "Point 101 - \n",
      "Point 102 - Isner\n",
      "Point 105 - Isner\n",
      "Point 107 - Isner\n",
      "Point 108 - \n",
      "Point 111 - \n",
      "Point 112 - Isner\n",
      "Point 113 - Isner\n",
      "Point 115 - \n",
      "Point 116 - \n",
      "Point 117 - \n",
      "Point 118 - \n",
      "Point 119 - Pospisil\n",
      "Point 122 - Pospisil\n",
      "Point 123 - Pospisil\n",
      "Point 124 - Pospisil\n",
      "Point 126 - \n",
      "Point 127 - Isner\n",
      "Point 128 - Isner\n",
      "Point 129 - Isner\n",
      "Point 130 - Pospisil\n",
      "Point 132 - Pospisil\n",
      "Point 133 - \n",
      "Point 134 - \n",
      "Point 135 - Pospisil\n",
      "Point 136 - \n",
      "Point 138 - \n",
      "Point 141 - Isner\n",
      "Point 142 - Isner\n",
      "Point 143 - Isner\n",
      "Point 144 - \n",
      "Point 145 - \n",
      "Point 146 - \n",
      "Point 147 - Pospisil\n",
      "Point 148 - \n",
      "Point 149 - Pospisil\n",
      "Point 151 - Pospisil\n",
      "Point 152 - Pospisil\n",
      "Point 155 - Isner\n",
      "Point 158 - \n",
      "Point 159 - Isner\n",
      "Point 160 - Isner\n",
      "Point 161 - \n",
      "Point 163 - Pospisil\n",
      "Point 164 - \n",
      "Point 168 - \n",
      "Point 170 - \n",
      "Point 171 - Pospisil\n",
      "Point 172 - \n",
      "Point 173 - Pospisil\n",
      "Point 174 - \n",
      "Point 178 - Pospisil\n",
      "Point 179 - \n",
      "Point 180 - \n",
      "Point 183 - Isner\n",
      "Point 185 - \n",
      "Point 186 - Isner\n",
      "Point 187 - Isner\n",
      "Point 190 - Pospisil\n",
      "Point 192 - Pospisil\n",
      "Point 193 - \n",
      "Point 194 - \n",
      "Point 196 - Pospisil\n",
      "Point 197 - Pospisil\n",
      "Point 200 - \n",
      "Point 201 - Isner\n",
      "Point 203 - Isner\n",
      "Point 204 - \n",
      "Point 205 - Isner\n",
      "Point 206 - \n",
      "Point 208 - \n"
     ]
    }
   ],
   "source": [
    "def check_server_sequences():\n",
    "    #FOR EACH UNIQUE POINT, set point_winner for all shots of this point\n",
    "    for index_point in df.sort_values(by=[\"Point\",\"Shot\"])[\"Point\"].unique():\n",
    "        (server, server_side, winner, df_shots_out_or_net, last_shot)=(get_point_infos(index_point, True, name1, name2))\n",
    "        #display_point_infos(point_index)\n",
    "        print(\"Point {1} - {0}\".format(server,index_point))\n",
    "check_server_sequences()"
   ]
  },
  {
   "cell_type": "code",
   "execution_count": 22,
   "id": "0eafc95c",
   "metadata": {},
   "outputs": [],
   "source": [
    "current_point=0"
   ]
  },
  {
   "cell_type": "code",
   "execution_count": 23,
   "id": "193d2afa",
   "metadata": {},
   "outputs": [],
   "source": [
    "#INSERT A SHOT\n",
    "(server, server_side, winner, df_shots_out_or_net, last_shot) = get_point_infos(current_point+1, True, name1, name2)\n",
    "point = -1#current_point\n",
    "s_player = 2 #2\n",
    "shot = 4 \n",
    "stroke = 3 #1: Serve, 2:FH, 3:BH, 4:FH Volley, 5:BH Volley, 6:\n",
    "hit_zone = 2 #1:deuce -2 ad\n",
    "hit_side = 2 #1 near -2 far\n",
    "result = 2 #1 IN - 2 OUT - 3 NET - 4 LET\n",
    "video_time= 1004\n",
    "\n",
    "if s_player == 1:\n",
    "    s_player=\"Player\"\n",
    "else:\n",
    "    s_player=\"Opponent\"\n",
    "    \n",
    "if stroke==1:\n",
    "    stroke=\"Serve\"\n",
    "elif stroke==2:\n",
    "    stroke = \"Forehand\"\n",
    "elif stroke==3:\n",
    "    stroke = \"Backhand\"\n",
    "elif stroke==4:\n",
    "    stroke = \"FH Volley\"\n",
    "elif stroke==5:\n",
    "    stroke = \"BH Volley\"\n",
    "    \n",
    "if hit_zone == 1:\n",
    "    hit_zone = \"deuce\"\n",
    "elif hit_zone == 2:\n",
    "    hit_zone = \"ad\"\n",
    "   \n",
    "if hit_side == 1:\n",
    "    hit_side = \"near\"\n",
    "elif hit_side == 2:\n",
    "    hit_side = \"far\"\n",
    "\n",
    "if result == 1:\n",
    "    result = \"In\"\n",
    "elif result == 2:\n",
    "    result = \"Out\"\n",
    "elif result == 3:\n",
    "    result = \"Net\"\n",
    "elif result == 4:\n",
    "    result = \"Let\"\n",
    "\n",
    "if shot == 1:\n",
    "    s_type = \"serve\"\n",
    "elif shot == 2:\n",
    "    s_type = \"return\"\n",
    "elif shot == 3:\n",
    "    s_type = \"serve_plus_one\"\n",
    "elif shot == 4:\n",
    "    s_type = \"return_plus_one\"\n",
    "else: \n",
    "    s_type = \"in_play\"\n",
    "    \n",
    "#move all shots of this point at shot+1\n",
    "df.loc[(df[\"Point\"]==point)&(df[\"Shot\"]>=shot),\"Shot\"]+=1\n",
    "\n",
    "#add new row to end of DataFrame\n",
    "df2 = pd.DataFrame({'Point': [point], 'Player': [s_player], \"Shot\":[shot], \"Stroke\": [stroke], \"Hit Zone\": [hit_zone]\n",
    "                   , \"Hit Side\": [hit_side], \"Result\": [result], \"Type\": [s_type], \"Video Time\": [video_time]})\n",
    "if point > 0:\n",
    "    df = df.append(df2, ignore_index = True)\n",
    "    df.to_csv(filename_csv)\n",
    "    df_test = df[(df[\"Point\"]==point)]\n",
    "    print(df_test)"
   ]
  }
 ],
 "metadata": {
  "kernelspec": {
   "display_name": "Python 3",
   "language": "python",
   "name": "python3"
  },
  "language_info": {
   "codemirror_mode": {
    "name": "ipython",
    "version": 3
   },
   "file_extension": ".py",
   "mimetype": "text/x-python",
   "name": "python",
   "nbconvert_exporter": "python",
   "pygments_lexer": "ipython3",
   "version": "3.8.8"
  }
 },
 "nbformat": 4,
 "nbformat_minor": 5
}
