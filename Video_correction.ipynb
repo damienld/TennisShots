{
 "cells": [
  {
   "cell_type": "code",
   "execution_count": 1,
   "id": "9411a6b3",
   "metadata": {},
   "outputs": [
    {
     "data": {
      "text/html": [
       "<script>\n",
       "code_show=true; \n",
       "function code_toggle() {\n",
       "  if (code_show) {\n",
       "    $('div.input').each(function(id) {\n",
       "      el = $(this).find('.cm-variable:first');\n",
       "      if (id == 0 || el.text() == 'hide_me') {\n",
       "        $(this).show();\n",
       "      }\n",
       "    });\n",
       "    $('div.output_prompt').css('opacity', 1);\n",
       "  } else {\n",
       "    $('div.input').each(function(id) {\n",
       "      $(this).show();\n",
       "    });\n",
       "    $('div.output_prompt').css('opacity', 1);\n",
       "  }\n",
       "  code_show = !code_show\n",
       "} \n",
       "$( document ).ready(code_toggle);\n",
       "</script>\n",
       "<form action=\"javascript:code_toggle()\"><input style=\"opacity:0\" type=\"submit\" value=\"Click here to toggle on/off the raw code.\"></form>"
      ],
      "text/plain": [
       "<IPython.core.display.HTML object>"
      ]
     },
     "execution_count": 1,
     "metadata": {},
     "output_type": "execute_result"
    }
   ],
   "source": [
    "# This is a cell to hide code snippets from displaying\n",
    "# This must be at first cell!\n",
    "\n",
    "from IPython.display import HTML\n",
    "\n",
    "hide_me = ''\n",
    "HTML('''<script>\n",
    "code_show=true; \n",
    "function code_toggle() {\n",
    "  if (code_show) {\n",
    "    $('div.input').each(function(id) {\n",
    "      el = $(this).find('.cm-variable:first');\n",
    "      if (id == 0 || el.text() == 'hide_me') {\n",
    "        $(this).show();\n",
    "      }\n",
    "    });\n",
    "    $('div.output_prompt').css('opacity', 1);\n",
    "  } else {\n",
    "    $('div.input').each(function(id) {\n",
    "      $(this).show();\n",
    "    });\n",
    "    $('div.output_prompt').css('opacity', 1);\n",
    "  }\n",
    "  code_show = !code_show\n",
    "} \n",
    "$( document ).ready(code_toggle);\n",
    "</script>\n",
    "<form action=\"javascript:code_toggle()\"><input style=\"opacity:0\" type=\"submit\" value=\"Click here to toggle on/off the raw code.\"></form>''')"
   ]
  },
  {
   "cell_type": "code",
   "execution_count": 2,
   "id": "c26174f4",
   "metadata": {},
   "outputs": [],
   "source": [
    "#créer une figure\n",
    "#fig = go.Figure()\n",
    "def transform_far_to_near(df):\n",
    "    df[\"Bounce (x)\"]=df.apply(lambda x: -(x[\"Bounce (x)\"]), axis=1)\n",
    "    df[\"Bounce (y)\"]=df.apply(lambda x: 23.73-(x[\"Bounce (y)\"]), axis=1)\n",
    "    return df\n",
    "                              \n",
    "def trace_rect(fig1, left_double_court_x,right_double_court_x, top_double_court_y ):\n",
    "    \"\"\"\n",
    "    outside lines\n",
    "    \"\"\"\n",
    "    court_x=[left_double_court_x, left_double_court_x, right_double_court_x, right_double_court_x]\n",
    "    court_y=[0,top_double_court_y, top_double_court_y, 0]\n",
    "    trace0=go.Scatter(\n",
    "        x=court_x, y=court_y,\n",
    "        mode=\"lines\",line=dict(color='white')\n",
    "    )\n",
    "    #fig.add_trace(trace0)\n",
    "    \n",
    "    #trace0=go.Scatter(\n",
    "    fig1.add_trace(go.Scatter(\n",
    "        x=court_x, y=court_y,\n",
    "        mode=\"lines\",line=dict(color='white')\n",
    "    ))\n",
    "    #fig.add_trace(trace0)\n",
    "\n",
    "def trace_court():\n",
    "    fig1 = px.line()\n",
    "    trace_rect(fig1, 0-4.11-1.37, 0+4.11+1.37, 23.73)\n",
    "    trace_rect(fig1, 0-4.11, 0+4.11, 23.73)\n",
    "    trace_rect(fig1, 0-4.11, 0+4.11, 11.88)\n",
    "    trace_rect(fig1, 0-4.11, 0+4.11, 5.48)\n",
    "    trace_rect(fig1, 0-4.11, 0+4.11, 12.08)\n",
    "    trace_rect(fig1, 0-4.11, 0+4.11, 18.48)\n",
    "    return fig1\n"
   ]
  },
  {
   "cell_type": "code",
   "execution_count": 3,
   "id": "6cb81e16",
   "metadata": {},
   "outputs": [],
   "source": [
    "import pandas as pd\n",
    "import numpy as np\n",
    "import plotly.graph_objects as go\n",
    "import plotly.express as px\n",
    "import warnings\n",
    "warnings.filterwarnings('ignore')"
   ]
  },
  {
   "cell_type": "code",
   "execution_count": 4,
   "id": "2954fbd4",
   "metadata": {},
   "outputs": [],
   "source": [
    "filename_csv=\"Gerasimov FAA.csv\"\n",
    "df=pd.read_csv(filename_csv)\n",
    "lst_players=filename_csv.split(\".\")[0].split(\" \")\n",
    "name1=lst_players[0]\n",
    "name2=lst_players[1]"
   ]
  },
  {
   "cell_type": "code",
   "execution_count": 178,
   "id": "60658239",
   "metadata": {},
   "outputs": [],
   "source": [
    "# LAUNCH VIDEO PLAYER\n",
    "\n",
    "#pip install python-vlc\n",
    "import time, vlc\n",
    "\n",
    "#http://olivieraubert.net/vlc/python-ctypes/doc/vlc.MediaPlayer-class.html\n",
    "filename=filename_csv.replace(\"csv\",\"mp4\")#\"Gerasimov FAA.mp4\"\n",
    "\n",
    "# method to play video\n",
    "def video2(source):\n",
    "    # creating vlc media player object\n",
    "    media_player = vlc.MediaPlayer()\n",
    "  \n",
    "    # media object\n",
    "    media = vlc.Media(source)\n",
    "\n",
    "    # setting media to the media player\n",
    "    media_player.set_media(media)\n",
    "\n",
    "    # setting video scale\n",
    "    media_player.video_set_scale(0.6)\n",
    "    media_player.audio_set_mute(True)\n",
    "    # setting play rate\n",
    "    # doubles the speed of the video\n",
    "    media_player.set_rate(1.5)\n",
    "    # start playing video\n",
    "    media_player.play()\n",
    "\n",
    "    # wait so the video can be played for 5 seconds\n",
    "    # irrespective for length of video\n",
    "    time.sleep(5)\n",
    "    return media_player\n",
    "\n",
    "\"\"\"# method to play video\n",
    "def video(source):\n",
    "\t\n",
    "\t# creating a vlc instance\n",
    "\tvlc_instance = vlc.Instance()\n",
    "\t\n",
    "\t# creating a media player\n",
    "\tplayer = vlc_instance.media_player_new()\n",
    "\t\n",
    "\t# creating a media\n",
    "\tmedia = vlc_instance.media_new(source)\n",
    "\t\n",
    "\t# setting media to the player\n",
    "\tplayer.set_media(media)\n",
    "\tplayer.audio_set_mute(True)\n",
    "\t# play the video\n",
    "\tplayer.play()\n",
    "\t\n",
    "\t# wait time\n",
    "\ttime.sleep(0.5)\n",
    "\t\n",
    "\t# getting the duration of the video\n",
    "\tduration = player.get_length()\n",
    "\t# printing the duration of the video\n",
    "\tprint(\"Duration : \" + str(duration))\n",
    "\treturn player\"\"\"\n",
    "\n",
    "# call the video method\n",
    "player = video2(filename)\n",
    "#GO to point 1\n",
    "current_point=0"
   ]
  },
  {
   "cell_type": "code",
   "execution_count": 6,
   "id": "779d6af5",
   "metadata": {},
   "outputs": [],
   "source": [
    "#WRITE SOME TEXT OVER THE VIDEO\n",
    "from vlc import VideoMarqueeOption\n",
    "\n",
    "def write_text_video(player, text):\n",
    "    # Some marquee examples.  Marquee requires '--sub-source marq' in the\n",
    "    # Instance() call above, see <http://www.videolan.org/doc/play-howto/en/ch04.html>\n",
    "    #https://www.olivieraubert.net/vlc/python-ctypes/doc/vlc.VideoMarqueeOption-class.html\n",
    "    player.video_set_marquee_int(VideoMarqueeOption.Enable, 1)\n",
    "    player.video_set_marquee_int(VideoMarqueeOption.Size, 24)  # pixels\n",
    "    #player.video_set_marquee_int(VideoMarqueeOption.Position, Position.Bottom)\n",
    "    if False:  # only one marquee can be specified\n",
    "        player.video_set_marquee_int(VideoMarqueeOption.Timeout, 5000)  # millisec, 0==forever\n",
    "        t = media.get_mrl()  # movie\n",
    "    else:  # update marquee text periodically\n",
    "        player.video_set_marquee_int(VideoMarqueeOption.Timeout, 0)  # millisec, 0==forever\n",
    "        player.video_set_marquee_int(VideoMarqueeOption.Refresh, 1000)  # millisec (or sec?)\n",
    "    df_point = df[df[\"Point\"]==current_point]\n",
    "    player.video_set_marquee_string(VideoMarqueeOption.Text, text)\n",
    "\n",
    "#write_text_video(player,\"a\")"
   ]
  },
  {
   "cell_type": "code",
   "execution_count": 203,
   "id": "b7dc2eed",
   "metadata": {},
   "outputs": [],
   "source": [
    "#VIDEO Go TO next POINT\n",
    "def go_to_nextpoint(videoplayer, current_point, indexshot):\n",
    "    \"\"\"\n",
    "    Args:\n",
    "        player(str): \"Player\" or \"Opponent\" \n",
    "        current_point(int): index of current_point\n",
    "        indexshot(int): index of shot (1=Serve, -1=Last shot)\n",
    "    \"\"\"\n",
    "    #print(\"Point \" + str(current_point))\n",
    "    df_point = df[df[\"Point\"]==current_point]\n",
    "    delay_before_shot = 0\n",
    "    if len(df_point) > 0:\n",
    "        if (indexshot == -1):\n",
    "            shot_index = max(df_point[\"Shot\"])\n",
    "            delay_before_shot = 1500\n",
    "        else:\n",
    "            shot_index = indexshot\n",
    "        #move video to the time of the point\n",
    "        #get time of point at indexshot\n",
    "        time_point=df_point[(df_point[\"Shot\"]==shot_index)].iloc[0][\"Video Time\"]\n",
    "        #print(\"at\" + str(time_point) + \" sec\")\n",
    "        videoplayer.set_time(round(time_point*1000)+1500-delay_before_shot) #go to 7mn\n",
    "        #print(df_point.head())\n",
    "        time = round(player.get_time()/1000)\n",
    "        server=df_point.iloc[0][\"Player\"]\n",
    "        #shot_results = \"-\".join(list(df_point[\"Result\"]))\n",
    "        shot_results = [\"{0}-{1}; \".format(i+1, df_point.iloc[i][\"Result\"]) for i in range(len(df_point))]\n",
    "        text=\"{3}\\n Serve:{0} \\n {2} \\n {1}\".format(server, \" \".join(shot_results), df_point.iloc[0]['Winner_Point'], time)\n",
    "        write_text_video(player, text)\n",
    "#go_to_nextpoint(player, 1, -1)"
   ]
  },
  {
   "cell_type": "code",
   "execution_count": 8,
   "id": "527bd98a",
   "metadata": {},
   "outputs": [],
   "source": [
    "#TRACE court with all shots of the point\n",
    "\n",
    "import ipywidgets as widgets\n",
    "from IPython.display import display, Javascript\n",
    "# These lines before the animated plotly figure\n",
    "#import plotly.io as pio\n",
    "#pio.renderers.default = 'notebook'\n",
    "def trace_point(index_point):\n",
    "    fig1 = trace_court()\n",
    "    df_point = df[df[\"Point\"]==index_point]\n",
    "    last_shot = None\n",
    "    if len(df_point) >0:\n",
    "        #trace a line from last hit position to last bounce to display the last shot\n",
    "        last_shot = df_point.iloc[-1]\n",
    "        #print(last_shot[\"Hit (x)\"])\n",
    "        df2 = pd.DataFrame(dict(\n",
    "        x = [last_shot[\"Hit (x)\"],last_shot[\"Bounce (x)\"]],\n",
    "        y = [last_shot[\"Hit (y)\"],last_shot[\"Bounce (y)\"]]))\n",
    "        fig4=px.line(df2,x=\"x\",y=\"y\")\n",
    "        fig4.update_traces(patch={\"line\": {\"width\": 1, \"dash\": 'dot'}})\n",
    "\n",
    "    #FIG BOUNCE\n",
    "    fig2=px.scatter(df_point,x=\"Hit (x)\",y=\"Hit (y)\",text=\"Shot\"#, color=\"Player\"\n",
    "                    #, symbol=\"Stroke\"\n",
    "                    #, animation_frame=\"Shot\"#, animation_group=\"Player\"\n",
    "                    #, textposition='top right',textfont=dict(color='#E58606')\n",
    "\n",
    "                    #, symbol=\"Spin\"\n",
    "                       #, trendline='ols',trendline_color_override='red'\n",
    "                        #, marginal_y=\"rug\"\n",
    "                        #, marginal_x=\"histogram\"\n",
    "                        #, facet_col=\"Winner_Point\"#, facet_row=\"time\"\n",
    "                        , color_discrete_map={\"Player\":\"green\",\"Opponent\":\"red\"}\n",
    "                        , hover_data=[\"Shot\",\"Stroke\"]\n",
    "                       )\n",
    "    \n",
    "    fig2.for_each_trace(lambda t: t.update(mode = 'lines+markers+text', textposition='top right',textfont=dict(color='#E58606')))\n",
    "    for fr in fig2.frames:\n",
    "        for d in fr.data:\n",
    "            d.update(mode='markers+lines+text', textposition='top right',textfont=dict(color='#E58606'))\n",
    "    fig2.update_traces(patch={\"line\": {\"width\": 1, \"dash\": 'dot'}}) \n",
    "    \"\"\"marker_symbol=[1,101], \"\"\"\n",
    "    \"\"\"fig2.add_annotation(\n",
    "      x=5,  # arrows' head\n",
    "      y=5,  # arrows' head\n",
    "      ax=10,  # arrows' tail\n",
    "      ay=10,  # arrows' tail\n",
    "      xref='x',\n",
    "      yref='y',\n",
    "      axref='x',\n",
    "      ayref='y',\n",
    "      text='',  # if you want only the arrow\n",
    "      showarrow=True,\n",
    "      arrowhead=3,\n",
    "      arrowsize=1,\n",
    "      arrowwidth=1,\n",
    "      arrowcolor='black'\n",
    "    )\"\"\"\n",
    "    #FIG Player POSITION\n",
    "    fig3=px.scatter(df_point,x=\"Bounce (x)\",y=\"Bounce (y)\",color=\"Result\"\n",
    "                    \n",
    "                       #, trendline='ols',trendline_color_override='red'\n",
    "                        #, marginal_y=\"rug\"\n",
    "                        #, marginal_x=\"histogram\"\n",
    "                        #, facet_col=\"Winner_Point\"#, facet_row=\"time\"\n",
    "                        , color_discrete_map={\"Net\":\"black\",\"In\":\"orange\",\"Out\":\"black\"}\n",
    "                        , hover_data=[\"Shot\"],text=\"Shot\"\n",
    "                       )\n",
    "    fig3.for_each_trace(lambda t: t.update(mode = 'markers+text', textposition='top right',textfont=dict(color='gray')))\n",
    "    \n",
    "    fig=go.Figure(data=fig1.data + fig2.data + fig3.data)\n",
    "\n",
    "    #fig.update_layout(title=\"Serves P1 (point size represents Speed)\")\n",
    "    fig.update_xaxes(\n",
    "        scaleanchor = \"y\",\n",
    "        scaleratio = 2,\n",
    "      )\n",
    "    fig.update_layout(xaxis_range=[-5,5], yaxis_range=[-4,11.88*2+4])\n",
    "    fig.update_layout(\n",
    "         xaxis=dict(showgrid=False), \n",
    "         yaxis=dict(showgrid=False),\n",
    "        autosize=False,\n",
    "    width=500,\n",
    "    height=300\n",
    "    )\n",
    "    fig.show()\n",
    "    \n",
    "#trace_point(current_point)\n"
   ]
  },
  {
   "cell_type": "code",
   "execution_count": 193,
   "id": "51f55c0e",
   "metadata": {},
   "outputs": [
    {
     "name": "stdout",
     "output_type": "stream",
     "text": [
      "1\n",
      "Pt 1 - Srv: FAA*deuce - Won: FAA --- Last: FAA In(3) --- Shots OUT(or net): \n",
      "None\n"
     ]
    }
   ],
   "source": [
    "def get_point_infos(index_point, is_replace_with_names, name1, name2):\n",
    "    \"\"\"\n",
    "    Returns:\n",
    "        server(str or \"\"): \"Player\" or \"Opponent\" (if is_replace_with_names => name1, name2)\n",
    "        winner(str or \"\"): \"0\" (P2) or \"1\" (P1) (if is_replace_with_names => name1, name2)\n",
    "        lst_shots_out(Dataframe or None): dataframe with list of shots where Result=Out or Net\n",
    "        last_shot(Dataframe or None): dataframe with the row of the max Shot\n",
    "    \"\"\"\n",
    "    df_point = df[df[\"Point\"]==index_point]\n",
    "    server = \"\"\n",
    "    winner = \"\"\n",
    "    server_side = \"\"\n",
    "    last_shot = None\n",
    "    df_shots_out_or_net = None\n",
    "    if len(df_point) > 0:\n",
    "        df_point=df_point.sort_values(by=\"Shot\")\n",
    "        df_shot1=df_point[(df_point[\"Shot\"]==1)]\n",
    "        if len(df_shot1) > 0:\n",
    "            \n",
    "            server=df_shot1.iloc[0][\"Player\"]\n",
    "            server_side=df_shot1.iloc[0][\"Hit Zone\"]\n",
    "            if (is_replace_with_names):\n",
    "                server=server.replace(\"Player\", name1).replace(\"Opponent\", name2)\n",
    "            \n",
    "            winner=df_shot1.iloc[0][\"Winner_Point\"]\n",
    "            if (is_replace_with_names):\n",
    "                #print(str(winner))\n",
    "                if (str(winner)==\"0\"):\n",
    "                    winner=name2\n",
    "                if (str(winner)==\"1\"):\n",
    "                    winner=name1\n",
    "\n",
    "            df_shots_out_or_net = df_point[df_point[\"Result\"].isin([\"Out\",\"Net\"])]\n",
    "            #if len(df_shots_out_or_net)>0:\n",
    "            #    lst_shots_out = df_shots_out_or_net[\"Shot\"].tolist()\n",
    "            last_shot = df_point.iloc[-1]\n",
    "    return (server, server_side, winner, df_shots_out_or_net, last_shot)\n",
    "                                           \n",
    "#print(get_point_infos(65, True, name1, name2))\n",
    "def display_point_infos(index_point):\n",
    "    print(index_point)\n",
    "    (server, server_side, winner, df_shots_out_or_net, last_shot)=(get_point_infos(index_point, True, name1, name2))\n",
    "    lst_shots_out = []\n",
    "    if (df_shots_out_or_net is not None):\n",
    "        if (len(df_shots_out_or_net)>0):\n",
    "            lst_shots_out = df_shots_out_or_net[\"Shot\"].tolist()\n",
    "            lst_shots_out = [str(shot) for shot in lst_shots_out]\n",
    "    last_shot_str = \"\"\n",
    "    #print(last_shot)\n",
    "    if (last_shot is not None):\n",
    "        last_shot_str = last_shot[\"Player\"].replace(\"Player\", name1).replace(\"Opponent\", name2).upper()[0:3]\n",
    "        last_shot_str += \" \" + last_shot[\"Result\"]\n",
    "        last_shot_str += \"(\" + str(last_shot[\"Shot\"]) + \")\"\n",
    "    print(\"Pt {0} - Srv: {1}*{5} - Won: {2} --- Last: {4} --- Shots OUT(or net): {3}\".format(str(index_point),str(server).upper()[0:3], str(winner).upper()[0:3], \", \".join(lst_shots_out),last_shot_str, server_side))\n",
    "#print(display_point_infos(1))"
   ]
  },
  {
   "cell_type": "code",
   "execution_count": 225,
   "id": "e1c3be53",
   "metadata": {},
   "outputs": [
    {
     "name": "stdout",
     "output_type": "stream",
     "text": [
      "31\n"
     ]
    }
   ],
   "source": [
    "#GO TO NEXT POINT - last shot\n",
    "current_point+=1\n",
    "print(current_point)\n",
    "go_to_nextpoint(player, current_point, -1)\n",
    "#trace_point()"
   ]
  },
  {
   "cell_type": "code",
   "execution_count": 211,
   "id": "f687eb7f",
   "metadata": {},
   "outputs": [],
   "source": [
    "#GO TO PREV POINT - last shot\n",
    "current_point-=1\n",
    "#print(current_point)\n",
    "go_to_nextpoint(player, current_point, -1)"
   ]
  },
  {
   "cell_type": "code",
   "execution_count": 213,
   "id": "dfff6692",
   "metadata": {},
   "outputs": [],
   "source": [
    "#GO TO NEXT POINT - serve\n",
    "current_point+=1\n",
    "go_to_nextpoint(player, current_point, 1)\n",
    "#trace_point()"
   ]
  },
  {
   "cell_type": "code",
   "execution_count": 209,
   "id": "9c95722e",
   "metadata": {},
   "outputs": [],
   "source": [
    "#GO TO PREV POINT - serve\n",
    "current_point-=1\n",
    "#print(current_point)\n",
    "go_to_nextpoint(player, current_point, 1)"
   ]
  },
  {
   "cell_type": "code",
   "execution_count": 186,
   "id": "793b4464",
   "metadata": {},
   "outputs": [
    {
     "data": {
      "application/vnd.jupyter.widget-view+json": {
       "model_id": "ee59c89e567643a99c2f108e3a10b0b5",
       "version_major": 2,
       "version_minor": 0
      },
      "text/plain": [
       "VBox(children=(HBox(children=(Button(description='Next Point', style=ButtonStyle()), Button(description='Prev …"
      ]
     },
     "metadata": {},
     "output_type": "display_data"
    },
    {
     "data": {
      "application/javascript": [
       "IPython.notebook.execute_cell_range(IPython.notebook.get_selected_index()-4, IPython.notebook.get_selected_index()-3)"
      ],
      "text/plain": [
       "<IPython.core.display.Javascript object>"
      ]
     },
     "metadata": {},
     "output_type": "display_data"
    },
    {
     "name": "stdout",
     "output_type": "stream",
     "text": [
      "30\n",
      "Pt 30 - Srv: GER*deuce - Won: FAA --- Last: GER Out(3) --- Shots OUT(or net): 3\n"
     ]
    },
    {
     "data": {
      "application/vnd.plotly.v1+json": {
       "config": {
        "plotlyServerURL": "https://plot.ly"
       },
       "data": [
        {
         "line": {
          "color": "white"
         },
         "mode": "lines",
         "type": "scatter",
         "x": [
          -5.48,
          -5.48,
          5.48,
          5.48
         ],
         "y": [
          0,
          23.73,
          23.73,
          0
         ]
        },
        {
         "line": {
          "color": "white"
         },
         "mode": "lines",
         "type": "scatter",
         "x": [
          -4.11,
          -4.11,
          4.11,
          4.11
         ],
         "y": [
          0,
          23.73,
          23.73,
          0
         ]
        },
        {
         "line": {
          "color": "white"
         },
         "mode": "lines",
         "type": "scatter",
         "x": [
          -4.11,
          -4.11,
          4.11,
          4.11
         ],
         "y": [
          0,
          11.88,
          11.88,
          0
         ]
        },
        {
         "line": {
          "color": "white"
         },
         "mode": "lines",
         "type": "scatter",
         "x": [
          -4.11,
          -4.11,
          4.11,
          4.11
         ],
         "y": [
          0,
          5.48,
          5.48,
          0
         ]
        },
        {
         "line": {
          "color": "white"
         },
         "mode": "lines",
         "type": "scatter",
         "x": [
          -4.11,
          -4.11,
          4.11,
          4.11
         ],
         "y": [
          0,
          12.08,
          12.08,
          0
         ]
        },
        {
         "line": {
          "color": "white"
         },
         "mode": "lines",
         "type": "scatter",
         "x": [
          -4.11,
          -4.11,
          4.11,
          4.11
         ],
         "y": [
          0,
          18.48,
          18.48,
          0
         ]
        },
        {
         "customdata": [
          [
           1,
           "Serve"
          ],
          [
           2,
           "Backhand"
          ],
          [
           3,
           "Backhand"
          ]
         ],
         "hovertemplate": "Hit (x)=%{x}<br>Hit (y)=%{y}<br>Shot=%{customdata[0]}<br>Stroke=%{customdata[1]}<extra></extra>",
         "legendgroup": "",
         "line": {
          "dash": "dot",
          "width": 1
         },
         "marker": {
          "color": "#636efa",
          "symbol": "circle"
         },
         "mode": "lines+markers+text",
         "name": "",
         "orientation": "v",
         "showlegend": false,
         "text": [
          1,
          2,
          3
         ],
         "textfont": {
          "color": "#E58606"
         },
         "textposition": "top right",
         "type": "scatter",
         "x": [
          0.355046,
          -2.378584,
          -0.259083
         ],
         "xaxis": "x",
         "y": [
          0.43617,
          24.492659,
          3.084698
         ],
         "yaxis": "y"
        },
        {
         "customdata": [
          [
           1
          ],
          [
           2
          ]
         ],
         "hovertemplate": "Result=In<br>Bounce (x)=%{x}<br>Bounce (y)=%{y}<br>Shot=%{customdata[0]}<extra></extra>",
         "legendgroup": "In",
         "marker": {
          "color": "orange",
          "symbol": "circle"
         },
         "mode": "markers+text",
         "name": "In",
         "orientation": "v",
         "showlegend": true,
         "text": [
          1,
          2
         ],
         "textfont": {
          "color": "gray"
         },
         "textposition": "top right",
         "type": "scatter",
         "x": [
          -1.647839,
          -0.797156
         ],
         "xaxis": "x",
         "y": [
          14.989622,
          6.572745
         ],
         "yaxis": "y"
        },
        {
         "customdata": [
          [
           3
          ]
         ],
         "hovertemplate": "Result=Out<br>Bounce (x)=%{x}<br>Bounce (y)=%{y}<br>Shot=%{customdata[0]}<extra></extra>",
         "legendgroup": "Out",
         "marker": {
          "color": "black",
          "symbol": "circle"
         },
         "mode": "markers+text",
         "name": "Out",
         "orientation": "v",
         "showlegend": true,
         "text": [
          3
         ],
         "textfont": {
          "color": "gray"
         },
         "textposition": "top right",
         "type": "scatter",
         "x": [
          3.132308
         ],
         "xaxis": "x",
         "y": [
          24.0762
         ],
         "yaxis": "y"
        }
       ],
       "layout": {
        "autosize": false,
        "height": 300,
        "template": {
         "data": {
          "bar": [
           {
            "error_x": {
             "color": "#2a3f5f"
            },
            "error_y": {
             "color": "#2a3f5f"
            },
            "marker": {
             "line": {
              "color": "#E5ECF6",
              "width": 0.5
             },
             "pattern": {
              "fillmode": "overlay",
              "size": 10,
              "solidity": 0.2
             }
            },
            "type": "bar"
           }
          ],
          "barpolar": [
           {
            "marker": {
             "line": {
              "color": "#E5ECF6",
              "width": 0.5
             },
             "pattern": {
              "fillmode": "overlay",
              "size": 10,
              "solidity": 0.2
             }
            },
            "type": "barpolar"
           }
          ],
          "carpet": [
           {
            "aaxis": {
             "endlinecolor": "#2a3f5f",
             "gridcolor": "white",
             "linecolor": "white",
             "minorgridcolor": "white",
             "startlinecolor": "#2a3f5f"
            },
            "baxis": {
             "endlinecolor": "#2a3f5f",
             "gridcolor": "white",
             "linecolor": "white",
             "minorgridcolor": "white",
             "startlinecolor": "#2a3f5f"
            },
            "type": "carpet"
           }
          ],
          "choropleth": [
           {
            "colorbar": {
             "outlinewidth": 0,
             "ticks": ""
            },
            "type": "choropleth"
           }
          ],
          "contour": [
           {
            "colorbar": {
             "outlinewidth": 0,
             "ticks": ""
            },
            "colorscale": [
             [
              0,
              "#0d0887"
             ],
             [
              0.1111111111111111,
              "#46039f"
             ],
             [
              0.2222222222222222,
              "#7201a8"
             ],
             [
              0.3333333333333333,
              "#9c179e"
             ],
             [
              0.4444444444444444,
              "#bd3786"
             ],
             [
              0.5555555555555556,
              "#d8576b"
             ],
             [
              0.6666666666666666,
              "#ed7953"
             ],
             [
              0.7777777777777778,
              "#fb9f3a"
             ],
             [
              0.8888888888888888,
              "#fdca26"
             ],
             [
              1,
              "#f0f921"
             ]
            ],
            "type": "contour"
           }
          ],
          "contourcarpet": [
           {
            "colorbar": {
             "outlinewidth": 0,
             "ticks": ""
            },
            "type": "contourcarpet"
           }
          ],
          "heatmap": [
           {
            "colorbar": {
             "outlinewidth": 0,
             "ticks": ""
            },
            "colorscale": [
             [
              0,
              "#0d0887"
             ],
             [
              0.1111111111111111,
              "#46039f"
             ],
             [
              0.2222222222222222,
              "#7201a8"
             ],
             [
              0.3333333333333333,
              "#9c179e"
             ],
             [
              0.4444444444444444,
              "#bd3786"
             ],
             [
              0.5555555555555556,
              "#d8576b"
             ],
             [
              0.6666666666666666,
              "#ed7953"
             ],
             [
              0.7777777777777778,
              "#fb9f3a"
             ],
             [
              0.8888888888888888,
              "#fdca26"
             ],
             [
              1,
              "#f0f921"
             ]
            ],
            "type": "heatmap"
           }
          ],
          "heatmapgl": [
           {
            "colorbar": {
             "outlinewidth": 0,
             "ticks": ""
            },
            "colorscale": [
             [
              0,
              "#0d0887"
             ],
             [
              0.1111111111111111,
              "#46039f"
             ],
             [
              0.2222222222222222,
              "#7201a8"
             ],
             [
              0.3333333333333333,
              "#9c179e"
             ],
             [
              0.4444444444444444,
              "#bd3786"
             ],
             [
              0.5555555555555556,
              "#d8576b"
             ],
             [
              0.6666666666666666,
              "#ed7953"
             ],
             [
              0.7777777777777778,
              "#fb9f3a"
             ],
             [
              0.8888888888888888,
              "#fdca26"
             ],
             [
              1,
              "#f0f921"
             ]
            ],
            "type": "heatmapgl"
           }
          ],
          "histogram": [
           {
            "marker": {
             "pattern": {
              "fillmode": "overlay",
              "size": 10,
              "solidity": 0.2
             }
            },
            "type": "histogram"
           }
          ],
          "histogram2d": [
           {
            "colorbar": {
             "outlinewidth": 0,
             "ticks": ""
            },
            "colorscale": [
             [
              0,
              "#0d0887"
             ],
             [
              0.1111111111111111,
              "#46039f"
             ],
             [
              0.2222222222222222,
              "#7201a8"
             ],
             [
              0.3333333333333333,
              "#9c179e"
             ],
             [
              0.4444444444444444,
              "#bd3786"
             ],
             [
              0.5555555555555556,
              "#d8576b"
             ],
             [
              0.6666666666666666,
              "#ed7953"
             ],
             [
              0.7777777777777778,
              "#fb9f3a"
             ],
             [
              0.8888888888888888,
              "#fdca26"
             ],
             [
              1,
              "#f0f921"
             ]
            ],
            "type": "histogram2d"
           }
          ],
          "histogram2dcontour": [
           {
            "colorbar": {
             "outlinewidth": 0,
             "ticks": ""
            },
            "colorscale": [
             [
              0,
              "#0d0887"
             ],
             [
              0.1111111111111111,
              "#46039f"
             ],
             [
              0.2222222222222222,
              "#7201a8"
             ],
             [
              0.3333333333333333,
              "#9c179e"
             ],
             [
              0.4444444444444444,
              "#bd3786"
             ],
             [
              0.5555555555555556,
              "#d8576b"
             ],
             [
              0.6666666666666666,
              "#ed7953"
             ],
             [
              0.7777777777777778,
              "#fb9f3a"
             ],
             [
              0.8888888888888888,
              "#fdca26"
             ],
             [
              1,
              "#f0f921"
             ]
            ],
            "type": "histogram2dcontour"
           }
          ],
          "mesh3d": [
           {
            "colorbar": {
             "outlinewidth": 0,
             "ticks": ""
            },
            "type": "mesh3d"
           }
          ],
          "parcoords": [
           {
            "line": {
             "colorbar": {
              "outlinewidth": 0,
              "ticks": ""
             }
            },
            "type": "parcoords"
           }
          ],
          "pie": [
           {
            "automargin": true,
            "type": "pie"
           }
          ],
          "scatter": [
           {
            "marker": {
             "colorbar": {
              "outlinewidth": 0,
              "ticks": ""
             }
            },
            "type": "scatter"
           }
          ],
          "scatter3d": [
           {
            "line": {
             "colorbar": {
              "outlinewidth": 0,
              "ticks": ""
             }
            },
            "marker": {
             "colorbar": {
              "outlinewidth": 0,
              "ticks": ""
             }
            },
            "type": "scatter3d"
           }
          ],
          "scattercarpet": [
           {
            "marker": {
             "colorbar": {
              "outlinewidth": 0,
              "ticks": ""
             }
            },
            "type": "scattercarpet"
           }
          ],
          "scattergeo": [
           {
            "marker": {
             "colorbar": {
              "outlinewidth": 0,
              "ticks": ""
             }
            },
            "type": "scattergeo"
           }
          ],
          "scattergl": [
           {
            "marker": {
             "colorbar": {
              "outlinewidth": 0,
              "ticks": ""
             }
            },
            "type": "scattergl"
           }
          ],
          "scattermapbox": [
           {
            "marker": {
             "colorbar": {
              "outlinewidth": 0,
              "ticks": ""
             }
            },
            "type": "scattermapbox"
           }
          ],
          "scatterpolar": [
           {
            "marker": {
             "colorbar": {
              "outlinewidth": 0,
              "ticks": ""
             }
            },
            "type": "scatterpolar"
           }
          ],
          "scatterpolargl": [
           {
            "marker": {
             "colorbar": {
              "outlinewidth": 0,
              "ticks": ""
             }
            },
            "type": "scatterpolargl"
           }
          ],
          "scatterternary": [
           {
            "marker": {
             "colorbar": {
              "outlinewidth": 0,
              "ticks": ""
             }
            },
            "type": "scatterternary"
           }
          ],
          "surface": [
           {
            "colorbar": {
             "outlinewidth": 0,
             "ticks": ""
            },
            "colorscale": [
             [
              0,
              "#0d0887"
             ],
             [
              0.1111111111111111,
              "#46039f"
             ],
             [
              0.2222222222222222,
              "#7201a8"
             ],
             [
              0.3333333333333333,
              "#9c179e"
             ],
             [
              0.4444444444444444,
              "#bd3786"
             ],
             [
              0.5555555555555556,
              "#d8576b"
             ],
             [
              0.6666666666666666,
              "#ed7953"
             ],
             [
              0.7777777777777778,
              "#fb9f3a"
             ],
             [
              0.8888888888888888,
              "#fdca26"
             ],
             [
              1,
              "#f0f921"
             ]
            ],
            "type": "surface"
           }
          ],
          "table": [
           {
            "cells": {
             "fill": {
              "color": "#EBF0F8"
             },
             "line": {
              "color": "white"
             }
            },
            "header": {
             "fill": {
              "color": "#C8D4E3"
             },
             "line": {
              "color": "white"
             }
            },
            "type": "table"
           }
          ]
         },
         "layout": {
          "annotationdefaults": {
           "arrowcolor": "#2a3f5f",
           "arrowhead": 0,
           "arrowwidth": 1
          },
          "autotypenumbers": "strict",
          "coloraxis": {
           "colorbar": {
            "outlinewidth": 0,
            "ticks": ""
           }
          },
          "colorscale": {
           "diverging": [
            [
             0,
             "#8e0152"
            ],
            [
             0.1,
             "#c51b7d"
            ],
            [
             0.2,
             "#de77ae"
            ],
            [
             0.3,
             "#f1b6da"
            ],
            [
             0.4,
             "#fde0ef"
            ],
            [
             0.5,
             "#f7f7f7"
            ],
            [
             0.6,
             "#e6f5d0"
            ],
            [
             0.7,
             "#b8e186"
            ],
            [
             0.8,
             "#7fbc41"
            ],
            [
             0.9,
             "#4d9221"
            ],
            [
             1,
             "#276419"
            ]
           ],
           "sequential": [
            [
             0,
             "#0d0887"
            ],
            [
             0.1111111111111111,
             "#46039f"
            ],
            [
             0.2222222222222222,
             "#7201a8"
            ],
            [
             0.3333333333333333,
             "#9c179e"
            ],
            [
             0.4444444444444444,
             "#bd3786"
            ],
            [
             0.5555555555555556,
             "#d8576b"
            ],
            [
             0.6666666666666666,
             "#ed7953"
            ],
            [
             0.7777777777777778,
             "#fb9f3a"
            ],
            [
             0.8888888888888888,
             "#fdca26"
            ],
            [
             1,
             "#f0f921"
            ]
           ],
           "sequentialminus": [
            [
             0,
             "#0d0887"
            ],
            [
             0.1111111111111111,
             "#46039f"
            ],
            [
             0.2222222222222222,
             "#7201a8"
            ],
            [
             0.3333333333333333,
             "#9c179e"
            ],
            [
             0.4444444444444444,
             "#bd3786"
            ],
            [
             0.5555555555555556,
             "#d8576b"
            ],
            [
             0.6666666666666666,
             "#ed7953"
            ],
            [
             0.7777777777777778,
             "#fb9f3a"
            ],
            [
             0.8888888888888888,
             "#fdca26"
            ],
            [
             1,
             "#f0f921"
            ]
           ]
          },
          "colorway": [
           "#636efa",
           "#EF553B",
           "#00cc96",
           "#ab63fa",
           "#FFA15A",
           "#19d3f3",
           "#FF6692",
           "#B6E880",
           "#FF97FF",
           "#FECB52"
          ],
          "font": {
           "color": "#2a3f5f"
          },
          "geo": {
           "bgcolor": "white",
           "lakecolor": "white",
           "landcolor": "#E5ECF6",
           "showlakes": true,
           "showland": true,
           "subunitcolor": "white"
          },
          "hoverlabel": {
           "align": "left"
          },
          "hovermode": "closest",
          "mapbox": {
           "style": "light"
          },
          "paper_bgcolor": "white",
          "plot_bgcolor": "#E5ECF6",
          "polar": {
           "angularaxis": {
            "gridcolor": "white",
            "linecolor": "white",
            "ticks": ""
           },
           "bgcolor": "#E5ECF6",
           "radialaxis": {
            "gridcolor": "white",
            "linecolor": "white",
            "ticks": ""
           }
          },
          "scene": {
           "xaxis": {
            "backgroundcolor": "#E5ECF6",
            "gridcolor": "white",
            "gridwidth": 2,
            "linecolor": "white",
            "showbackground": true,
            "ticks": "",
            "zerolinecolor": "white"
           },
           "yaxis": {
            "backgroundcolor": "#E5ECF6",
            "gridcolor": "white",
            "gridwidth": 2,
            "linecolor": "white",
            "showbackground": true,
            "ticks": "",
            "zerolinecolor": "white"
           },
           "zaxis": {
            "backgroundcolor": "#E5ECF6",
            "gridcolor": "white",
            "gridwidth": 2,
            "linecolor": "white",
            "showbackground": true,
            "ticks": "",
            "zerolinecolor": "white"
           }
          },
          "shapedefaults": {
           "line": {
            "color": "#2a3f5f"
           }
          },
          "ternary": {
           "aaxis": {
            "gridcolor": "white",
            "linecolor": "white",
            "ticks": ""
           },
           "baxis": {
            "gridcolor": "white",
            "linecolor": "white",
            "ticks": ""
           },
           "bgcolor": "#E5ECF6",
           "caxis": {
            "gridcolor": "white",
            "linecolor": "white",
            "ticks": ""
           }
          },
          "title": {
           "x": 0.05
          },
          "xaxis": {
           "automargin": true,
           "gridcolor": "white",
           "linecolor": "white",
           "ticks": "",
           "title": {
            "standoff": 15
           },
           "zerolinecolor": "white",
           "zerolinewidth": 2
          },
          "yaxis": {
           "automargin": true,
           "gridcolor": "white",
           "linecolor": "white",
           "ticks": "",
           "title": {
            "standoff": 15
           },
           "zerolinecolor": "white",
           "zerolinewidth": 2
          }
         }
        },
        "width": 300,
        "xaxis": {
         "range": [
          -5,
          5
         ],
         "scaleanchor": "y",
         "scaleratio": 2,
         "showgrid": false
        },
        "yaxis": {
         "range": [
          -4,
          27.76
         ],
         "showgrid": false
        }
       }
      },
      "text/html": [
       "<div>                            <div id=\"49bdc2bc-86dc-4a20-bcdb-a4700ca7d2ef\" class=\"plotly-graph-div\" style=\"height:300px; width:300px;\"></div>            <script type=\"text/javascript\">                require([\"plotly\"], function(Plotly) {                    window.PLOTLYENV=window.PLOTLYENV || {};                                    if (document.getElementById(\"49bdc2bc-86dc-4a20-bcdb-a4700ca7d2ef\")) {                    Plotly.newPlot(                        \"49bdc2bc-86dc-4a20-bcdb-a4700ca7d2ef\",                        [{\"line\":{\"color\":\"white\"},\"mode\":\"lines\",\"x\":[-5.48,-5.48,5.48,5.48],\"y\":[0,23.73,23.73,0],\"type\":\"scatter\"},{\"line\":{\"color\":\"white\"},\"mode\":\"lines\",\"x\":[-4.11,-4.11,4.11,4.11],\"y\":[0,23.73,23.73,0],\"type\":\"scatter\"},{\"line\":{\"color\":\"white\"},\"mode\":\"lines\",\"x\":[-4.11,-4.11,4.11,4.11],\"y\":[0,11.88,11.88,0],\"type\":\"scatter\"},{\"line\":{\"color\":\"white\"},\"mode\":\"lines\",\"x\":[-4.11,-4.11,4.11,4.11],\"y\":[0,5.48,5.48,0],\"type\":\"scatter\"},{\"line\":{\"color\":\"white\"},\"mode\":\"lines\",\"x\":[-4.11,-4.11,4.11,4.11],\"y\":[0,12.08,12.08,0],\"type\":\"scatter\"},{\"line\":{\"color\":\"white\"},\"mode\":\"lines\",\"x\":[-4.11,-4.11,4.11,4.11],\"y\":[0,18.48,18.48,0],\"type\":\"scatter\"},{\"customdata\":[[1,\"Serve\"],[2,\"Backhand\"],[3,\"Backhand\"]],\"hovertemplate\":\"Hit (x)=%{x}<br>Hit (y)=%{y}<br>Shot=%{customdata[0]}<br>Stroke=%{customdata[1]}<extra></extra>\",\"legendgroup\":\"\",\"line\":{\"dash\":\"dot\",\"width\":1},\"marker\":{\"color\":\"#636efa\",\"symbol\":\"circle\"},\"mode\":\"lines+markers+text\",\"name\":\"\",\"orientation\":\"v\",\"showlegend\":false,\"text\":[1.0,2.0,3.0],\"textfont\":{\"color\":\"#E58606\"},\"textposition\":\"top right\",\"x\":[0.355046,-2.378584,-0.259083],\"xaxis\":\"x\",\"y\":[0.43617,24.492659,3.084698],\"yaxis\":\"y\",\"type\":\"scatter\"},{\"customdata\":[[1],[2]],\"hovertemplate\":\"Result=In<br>Bounce (x)=%{x}<br>Bounce (y)=%{y}<br>Shot=%{customdata[0]}<extra></extra>\",\"legendgroup\":\"In\",\"marker\":{\"color\":\"orange\",\"symbol\":\"circle\"},\"mode\":\"markers+text\",\"name\":\"In\",\"orientation\":\"v\",\"showlegend\":true,\"text\":[1.0,2.0],\"textfont\":{\"color\":\"gray\"},\"textposition\":\"top right\",\"x\":[-1.647839,-0.797156],\"xaxis\":\"x\",\"y\":[14.989622,6.572745],\"yaxis\":\"y\",\"type\":\"scatter\"},{\"customdata\":[[3]],\"hovertemplate\":\"Result=Out<br>Bounce (x)=%{x}<br>Bounce (y)=%{y}<br>Shot=%{customdata[0]}<extra></extra>\",\"legendgroup\":\"Out\",\"marker\":{\"color\":\"black\",\"symbol\":\"circle\"},\"mode\":\"markers+text\",\"name\":\"Out\",\"orientation\":\"v\",\"showlegend\":true,\"text\":[3.0],\"textfont\":{\"color\":\"gray\"},\"textposition\":\"top right\",\"x\":[3.132308],\"xaxis\":\"x\",\"y\":[24.0762],\"yaxis\":\"y\",\"type\":\"scatter\"}],                        {\"template\":{\"data\":{\"bar\":[{\"error_x\":{\"color\":\"#2a3f5f\"},\"error_y\":{\"color\":\"#2a3f5f\"},\"marker\":{\"line\":{\"color\":\"#E5ECF6\",\"width\":0.5},\"pattern\":{\"fillmode\":\"overlay\",\"size\":10,\"solidity\":0.2}},\"type\":\"bar\"}],\"barpolar\":[{\"marker\":{\"line\":{\"color\":\"#E5ECF6\",\"width\":0.5},\"pattern\":{\"fillmode\":\"overlay\",\"size\":10,\"solidity\":0.2}},\"type\":\"barpolar\"}],\"carpet\":[{\"aaxis\":{\"endlinecolor\":\"#2a3f5f\",\"gridcolor\":\"white\",\"linecolor\":\"white\",\"minorgridcolor\":\"white\",\"startlinecolor\":\"#2a3f5f\"},\"baxis\":{\"endlinecolor\":\"#2a3f5f\",\"gridcolor\":\"white\",\"linecolor\":\"white\",\"minorgridcolor\":\"white\",\"startlinecolor\":\"#2a3f5f\"},\"type\":\"carpet\"}],\"choropleth\":[{\"colorbar\":{\"outlinewidth\":0,\"ticks\":\"\"},\"type\":\"choropleth\"}],\"contour\":[{\"colorbar\":{\"outlinewidth\":0,\"ticks\":\"\"},\"colorscale\":[[0.0,\"#0d0887\"],[0.1111111111111111,\"#46039f\"],[0.2222222222222222,\"#7201a8\"],[0.3333333333333333,\"#9c179e\"],[0.4444444444444444,\"#bd3786\"],[0.5555555555555556,\"#d8576b\"],[0.6666666666666666,\"#ed7953\"],[0.7777777777777778,\"#fb9f3a\"],[0.8888888888888888,\"#fdca26\"],[1.0,\"#f0f921\"]],\"type\":\"contour\"}],\"contourcarpet\":[{\"colorbar\":{\"outlinewidth\":0,\"ticks\":\"\"},\"type\":\"contourcarpet\"}],\"heatmap\":[{\"colorbar\":{\"outlinewidth\":0,\"ticks\":\"\"},\"colorscale\":[[0.0,\"#0d0887\"],[0.1111111111111111,\"#46039f\"],[0.2222222222222222,\"#7201a8\"],[0.3333333333333333,\"#9c179e\"],[0.4444444444444444,\"#bd3786\"],[0.5555555555555556,\"#d8576b\"],[0.6666666666666666,\"#ed7953\"],[0.7777777777777778,\"#fb9f3a\"],[0.8888888888888888,\"#fdca26\"],[1.0,\"#f0f921\"]],\"type\":\"heatmap\"}],\"heatmapgl\":[{\"colorbar\":{\"outlinewidth\":0,\"ticks\":\"\"},\"colorscale\":[[0.0,\"#0d0887\"],[0.1111111111111111,\"#46039f\"],[0.2222222222222222,\"#7201a8\"],[0.3333333333333333,\"#9c179e\"],[0.4444444444444444,\"#bd3786\"],[0.5555555555555556,\"#d8576b\"],[0.6666666666666666,\"#ed7953\"],[0.7777777777777778,\"#fb9f3a\"],[0.8888888888888888,\"#fdca26\"],[1.0,\"#f0f921\"]],\"type\":\"heatmapgl\"}],\"histogram\":[{\"marker\":{\"pattern\":{\"fillmode\":\"overlay\",\"size\":10,\"solidity\":0.2}},\"type\":\"histogram\"}],\"histogram2d\":[{\"colorbar\":{\"outlinewidth\":0,\"ticks\":\"\"},\"colorscale\":[[0.0,\"#0d0887\"],[0.1111111111111111,\"#46039f\"],[0.2222222222222222,\"#7201a8\"],[0.3333333333333333,\"#9c179e\"],[0.4444444444444444,\"#bd3786\"],[0.5555555555555556,\"#d8576b\"],[0.6666666666666666,\"#ed7953\"],[0.7777777777777778,\"#fb9f3a\"],[0.8888888888888888,\"#fdca26\"],[1.0,\"#f0f921\"]],\"type\":\"histogram2d\"}],\"histogram2dcontour\":[{\"colorbar\":{\"outlinewidth\":0,\"ticks\":\"\"},\"colorscale\":[[0.0,\"#0d0887\"],[0.1111111111111111,\"#46039f\"],[0.2222222222222222,\"#7201a8\"],[0.3333333333333333,\"#9c179e\"],[0.4444444444444444,\"#bd3786\"],[0.5555555555555556,\"#d8576b\"],[0.6666666666666666,\"#ed7953\"],[0.7777777777777778,\"#fb9f3a\"],[0.8888888888888888,\"#fdca26\"],[1.0,\"#f0f921\"]],\"type\":\"histogram2dcontour\"}],\"mesh3d\":[{\"colorbar\":{\"outlinewidth\":0,\"ticks\":\"\"},\"type\":\"mesh3d\"}],\"parcoords\":[{\"line\":{\"colorbar\":{\"outlinewidth\":0,\"ticks\":\"\"}},\"type\":\"parcoords\"}],\"pie\":[{\"automargin\":true,\"type\":\"pie\"}],\"scatter\":[{\"marker\":{\"colorbar\":{\"outlinewidth\":0,\"ticks\":\"\"}},\"type\":\"scatter\"}],\"scatter3d\":[{\"line\":{\"colorbar\":{\"outlinewidth\":0,\"ticks\":\"\"}},\"marker\":{\"colorbar\":{\"outlinewidth\":0,\"ticks\":\"\"}},\"type\":\"scatter3d\"}],\"scattercarpet\":[{\"marker\":{\"colorbar\":{\"outlinewidth\":0,\"ticks\":\"\"}},\"type\":\"scattercarpet\"}],\"scattergeo\":[{\"marker\":{\"colorbar\":{\"outlinewidth\":0,\"ticks\":\"\"}},\"type\":\"scattergeo\"}],\"scattergl\":[{\"marker\":{\"colorbar\":{\"outlinewidth\":0,\"ticks\":\"\"}},\"type\":\"scattergl\"}],\"scattermapbox\":[{\"marker\":{\"colorbar\":{\"outlinewidth\":0,\"ticks\":\"\"}},\"type\":\"scattermapbox\"}],\"scatterpolar\":[{\"marker\":{\"colorbar\":{\"outlinewidth\":0,\"ticks\":\"\"}},\"type\":\"scatterpolar\"}],\"scatterpolargl\":[{\"marker\":{\"colorbar\":{\"outlinewidth\":0,\"ticks\":\"\"}},\"type\":\"scatterpolargl\"}],\"scatterternary\":[{\"marker\":{\"colorbar\":{\"outlinewidth\":0,\"ticks\":\"\"}},\"type\":\"scatterternary\"}],\"surface\":[{\"colorbar\":{\"outlinewidth\":0,\"ticks\":\"\"},\"colorscale\":[[0.0,\"#0d0887\"],[0.1111111111111111,\"#46039f\"],[0.2222222222222222,\"#7201a8\"],[0.3333333333333333,\"#9c179e\"],[0.4444444444444444,\"#bd3786\"],[0.5555555555555556,\"#d8576b\"],[0.6666666666666666,\"#ed7953\"],[0.7777777777777778,\"#fb9f3a\"],[0.8888888888888888,\"#fdca26\"],[1.0,\"#f0f921\"]],\"type\":\"surface\"}],\"table\":[{\"cells\":{\"fill\":{\"color\":\"#EBF0F8\"},\"line\":{\"color\":\"white\"}},\"header\":{\"fill\":{\"color\":\"#C8D4E3\"},\"line\":{\"color\":\"white\"}},\"type\":\"table\"}]},\"layout\":{\"annotationdefaults\":{\"arrowcolor\":\"#2a3f5f\",\"arrowhead\":0,\"arrowwidth\":1},\"autotypenumbers\":\"strict\",\"coloraxis\":{\"colorbar\":{\"outlinewidth\":0,\"ticks\":\"\"}},\"colorscale\":{\"diverging\":[[0,\"#8e0152\"],[0.1,\"#c51b7d\"],[0.2,\"#de77ae\"],[0.3,\"#f1b6da\"],[0.4,\"#fde0ef\"],[0.5,\"#f7f7f7\"],[0.6,\"#e6f5d0\"],[0.7,\"#b8e186\"],[0.8,\"#7fbc41\"],[0.9,\"#4d9221\"],[1,\"#276419\"]],\"sequential\":[[0.0,\"#0d0887\"],[0.1111111111111111,\"#46039f\"],[0.2222222222222222,\"#7201a8\"],[0.3333333333333333,\"#9c179e\"],[0.4444444444444444,\"#bd3786\"],[0.5555555555555556,\"#d8576b\"],[0.6666666666666666,\"#ed7953\"],[0.7777777777777778,\"#fb9f3a\"],[0.8888888888888888,\"#fdca26\"],[1.0,\"#f0f921\"]],\"sequentialminus\":[[0.0,\"#0d0887\"],[0.1111111111111111,\"#46039f\"],[0.2222222222222222,\"#7201a8\"],[0.3333333333333333,\"#9c179e\"],[0.4444444444444444,\"#bd3786\"],[0.5555555555555556,\"#d8576b\"],[0.6666666666666666,\"#ed7953\"],[0.7777777777777778,\"#fb9f3a\"],[0.8888888888888888,\"#fdca26\"],[1.0,\"#f0f921\"]]},\"colorway\":[\"#636efa\",\"#EF553B\",\"#00cc96\",\"#ab63fa\",\"#FFA15A\",\"#19d3f3\",\"#FF6692\",\"#B6E880\",\"#FF97FF\",\"#FECB52\"],\"font\":{\"color\":\"#2a3f5f\"},\"geo\":{\"bgcolor\":\"white\",\"lakecolor\":\"white\",\"landcolor\":\"#E5ECF6\",\"showlakes\":true,\"showland\":true,\"subunitcolor\":\"white\"},\"hoverlabel\":{\"align\":\"left\"},\"hovermode\":\"closest\",\"mapbox\":{\"style\":\"light\"},\"paper_bgcolor\":\"white\",\"plot_bgcolor\":\"#E5ECF6\",\"polar\":{\"angularaxis\":{\"gridcolor\":\"white\",\"linecolor\":\"white\",\"ticks\":\"\"},\"bgcolor\":\"#E5ECF6\",\"radialaxis\":{\"gridcolor\":\"white\",\"linecolor\":\"white\",\"ticks\":\"\"}},\"scene\":{\"xaxis\":{\"backgroundcolor\":\"#E5ECF6\",\"gridcolor\":\"white\",\"gridwidth\":2,\"linecolor\":\"white\",\"showbackground\":true,\"ticks\":\"\",\"zerolinecolor\":\"white\"},\"yaxis\":{\"backgroundcolor\":\"#E5ECF6\",\"gridcolor\":\"white\",\"gridwidth\":2,\"linecolor\":\"white\",\"showbackground\":true,\"ticks\":\"\",\"zerolinecolor\":\"white\"},\"zaxis\":{\"backgroundcolor\":\"#E5ECF6\",\"gridcolor\":\"white\",\"gridwidth\":2,\"linecolor\":\"white\",\"showbackground\":true,\"ticks\":\"\",\"zerolinecolor\":\"white\"}},\"shapedefaults\":{\"line\":{\"color\":\"#2a3f5f\"}},\"ternary\":{\"aaxis\":{\"gridcolor\":\"white\",\"linecolor\":\"white\",\"ticks\":\"\"},\"baxis\":{\"gridcolor\":\"white\",\"linecolor\":\"white\",\"ticks\":\"\"},\"bgcolor\":\"#E5ECF6\",\"caxis\":{\"gridcolor\":\"white\",\"linecolor\":\"white\",\"ticks\":\"\"}},\"title\":{\"x\":0.05},\"xaxis\":{\"automargin\":true,\"gridcolor\":\"white\",\"linecolor\":\"white\",\"ticks\":\"\",\"title\":{\"standoff\":15},\"zerolinecolor\":\"white\",\"zerolinewidth\":2},\"yaxis\":{\"automargin\":true,\"gridcolor\":\"white\",\"linecolor\":\"white\",\"ticks\":\"\",\"title\":{\"standoff\":15},\"zerolinecolor\":\"white\",\"zerolinewidth\":2}}},\"xaxis\":{\"scaleanchor\":\"y\",\"scaleratio\":2,\"range\":[-5,5],\"showgrid\":false},\"yaxis\":{\"range\":[-4,27.76],\"showgrid\":false},\"autosize\":false,\"width\":300,\"height\":300},                        {\"responsive\": true}                    ).then(function(){\n",
       "                            \n",
       "var gd = document.getElementById('49bdc2bc-86dc-4a20-bcdb-a4700ca7d2ef');\n",
       "var x = new MutationObserver(function (mutations, observer) {{\n",
       "        var display = window.getComputedStyle(gd).display;\n",
       "        if (!display || display === 'none') {{\n",
       "            console.log([gd, 'removed!']);\n",
       "            Plotly.purge(gd);\n",
       "            observer.disconnect();\n",
       "        }}\n",
       "}});\n",
       "\n",
       "// Listen for the removal of the full notebook cells\n",
       "var notebookContainer = gd.closest('#notebook-container');\n",
       "if (notebookContainer) {{\n",
       "    x.observe(notebookContainer, {childList: true});\n",
       "}}\n",
       "\n",
       "// Listen for the clearing of the current output cell\n",
       "var outputEl = gd.closest('.output');\n",
       "if (outputEl) {{\n",
       "    x.observe(outputEl, {childList: true});\n",
       "}}\n",
       "\n",
       "                        })                };                });            </script>        </div>"
      ]
     },
     "metadata": {},
     "output_type": "display_data"
    }
   ],
   "source": [
    "hide_me\n",
    "#https://www.cours-gratuit.com/tutoriel-python/tutoriel-python-matriser-la-bibliothque-ipywidgets\n",
    "import ipywidgets as widgets\n",
    "from ipywidgets import interact\n",
    "from IPython.display import display, Javascript\n",
    "from IPython.display import clear_output\n",
    "\n",
    "##DISPLAY box\n",
    "def display_menu():\n",
    "    display(widgets.VBox([widgets.HBox([btn_nextpoint,btn_prevpoint,btn_pause,btn_play, btn_end]), widgets.HBox([btn_nextpoint_last, btn_prevpoint_last, widget_shot_index, widget_shot_result])]))\n",
    "\n",
    "\n",
    "btn_nextpoint = widgets.Button(description='Next Point')\n",
    "btn_prevpoint = widgets.Button(description='Prev Point')\n",
    "#display(btn_nextpoint)\n",
    "btn_pause = widgets.Button(description='||')\n",
    "btn_play = widgets.Button(description='>')\n",
    "btn_end = widgets.Button(description='End')\n",
    "btn_start = widgets.Button(description='Start')\n",
    "\n",
    "def nextpoint_handler(btn_object):\n",
    "    #print('You pressed the {} button!'.format(btn_object.description))\n",
    "    clear_output()\n",
    "    display_menu()\n",
    "    display(Javascript('IPython.notebook.execute_cell_range(IPython.notebook.get_selected_index()-2, IPython.notebook.get_selected_index()-1)'))\n",
    "    display_point_infos(current_point)\n",
    "def prevpoint_handler(btn_object):\n",
    "    #print('You pressed the {} button!'.format(btn_object.description))\n",
    "    clear_output()\n",
    "    display_menu()\n",
    "    display(Javascript('IPython.notebook.execute_cell_range(IPython.notebook.get_selected_index()-1, IPython.notebook.get_selected_index())'))\n",
    "    display_point_infos(current_point)\n",
    "def pause_handler(btn_object):\n",
    "    player.set_pause(1)\n",
    "def play_handler(btn_object):\n",
    "    player.set_pause(0)\n",
    "def end_handler(btn_end):\n",
    "    player.release()\n",
    "def start_handler(btn_start):\n",
    "    # call the video method\n",
    "    player = video(filename)\n",
    "    #GO to point 1\n",
    "    current_point=0\n",
    "    return player\n",
    "    \n",
    "#player = btn_start.on_click(start_handler)\n",
    "btn_nextpoint.on_click(nextpoint_handler)\n",
    "btn_prevpoint.on_click(prevpoint_handler)\n",
    "btn_pause.on_click(pause_handler)\n",
    "btn_play.on_click(play_handler)\n",
    "btn_end.on_click(end_handler)\n",
    "\n",
    "btn_nextpoint_last = widgets.Button(description='Next (last)')\n",
    "btn_prevpoint_last = widgets.Button(description='Prev (last)')\n",
    "\n",
    "def nextpoint_last_handler(btn_object):\n",
    "    #print('You pressed the {} button!'.format(btn_object.description))\n",
    "    clear_output()\n",
    "    display_menu()\n",
    "    display(Javascript('IPython.notebook.execute_cell_range(IPython.notebook.get_selected_index()-4, IPython.notebook.get_selected_index()-3)'))\n",
    "    display_point_infos(current_point)\n",
    "    trace_point(current_point)\n",
    "\n",
    "def prevpoint_last_handler(btn_object):\n",
    "    #print('You pressed the {} button!'.format(btn_object.description))\n",
    "    clear_output()\n",
    "    display_menu()\n",
    "    display(Javascript('IPython.notebook.execute_cell_range(IPython.notebook.get_selected_index()-3, IPython.notebook.get_selected_index()-2)'))\n",
    "    display_point_infos(current_point)\n",
    "    trace_point(current_point)\n",
    "    \n",
    "#BTN next_last, prev_last\n",
    "btn_nextpoint_last.on_click(nextpoint_last_handler)\n",
    "btn_prevpoint_last.on_click(prevpoint_last_handler)\n",
    "\n",
    "#SHOT INPUT\n",
    "def on_change_shot(change):\n",
    "    if change['type'] == 'change' and change['name'] == 'value':\n",
    "        shot_index=change['new']\n",
    "        print(df[(df[\"Point\"]==current_point)&(df[\"Shot\"]==shot_index)].head())\n",
    "        \n",
    "widget_shot_index=widgets.IntText(value=1,description='Shot:',disabled=False)\n",
    "widget_shot_index.observe(on_change_shot) \n",
    "\n",
    "#RESULT RadioButtons\n",
    "def on_change_result(change):\n",
    "    if change['type'] == 'change' and change['name'] == 'value':\n",
    "        result = change['new']\n",
    "        shot_index=widget_shot_index.value\n",
    "        print(\"Shot {0}-new Result:{1}\".format(shot_index, result))\n",
    "        print(df[(df[\"Point\"]==current_point)&(df[\"Shot\"]==shot_index)].head())\n",
    "        #change the value in the dataframe\n",
    "        df.loc[(df[\"Point\"]==current_point)&(df[\"Shot\"]==shot_index),\"Result\"]=result\n",
    "        \n",
    "widget_shot_result=widgets.RadioButtons(\n",
    "    options=[\"None\",'In', 'Out', 'Net', 'Let'],\n",
    "    value='None',\n",
    "    description='Result:',\n",
    "    disabled=False,\n",
    ")\n",
    "widget_shot_result.observe(on_change_result) \n",
    "\n",
    "display_menu()"
   ]
  },
  {
   "cell_type": "code",
   "execution_count": null,
   "id": "d62f3568",
   "metadata": {},
   "outputs": [],
   "source": []
  },
  {
   "cell_type": "code",
   "execution_count": null,
   "id": "0eafc95c",
   "metadata": {},
   "outputs": [],
   "source": []
  },
  {
   "cell_type": "code",
   "execution_count": null,
   "id": "193d2afa",
   "metadata": {},
   "outputs": [],
   "source": []
  }
 ],
 "metadata": {
  "kernelspec": {
   "display_name": "Python 3",
   "language": "python",
   "name": "python3"
  },
  "language_info": {
   "codemirror_mode": {
    "name": "ipython",
    "version": 3
   },
   "file_extension": ".py",
   "mimetype": "text/x-python",
   "name": "python",
   "nbconvert_exporter": "python",
   "pygments_lexer": "ipython3",
   "version": "3.8.8"
  }
 },
 "nbformat": 4,
 "nbformat_minor": 5
}
