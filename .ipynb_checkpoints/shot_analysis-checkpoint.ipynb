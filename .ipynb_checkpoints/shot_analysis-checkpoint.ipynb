{
 "cells": [
  {
   "cell_type": "markdown",
   "id": "18922f38",
   "metadata": {},
   "source": [
    "#To be able to see the plotly figures, use:\n",
    "https://nbviewer.org/github/damienld/TennisShots/blob/main/shot_analysis.ipynb"
   ]
  },
  {
   "cell_type": "code",
   "execution_count": 2,
   "id": "d32ac16d",
   "metadata": {},
   "outputs": [],
   "source": [
    "import pandas as pd\n",
    "import numpy as np\n",
    "import plotly.graph_objects as go\n",
    "import warnings\n",
    "from plotly import subplots\n",
    "import plotly.express as px\n",
    "warnings.filterwarnings('ignore')\n"
   ]
  },
  {
   "cell_type": "code",
   "execution_count": 3,
   "id": "a0fe4b20",
   "metadata": {},
   "outputs": [
    {
     "name": "stdout",
     "output_type": "stream",
     "text": [
      "1st serves:51\n",
      "2nd serves:36\n",
      "All serves:87\n"
     ]
    }
   ],
   "source": [
    "import pandas as pd\n",
    "import plotly.express as px\n",
    "import plotly.graph_objects as go\n",
    "\n",
    "filename_csv=\"Pospisil Wolf.csv\"\n",
    "df=pd.read_csv(filename_csv, index_col=0)\n",
    "df[\"Winner_Point\"]=df[\"Winner_Point\"].astype(str)\n",
    "lst_players=filename_csv.split(\".\")[0].split(\" \")\n",
    "name1=lst_players[0]\n",
    "name2=lst_players[1]\n",
    "current_point=0\n",
    "player=None #videplayer\n",
    "\n",
    "def transform_far_to_near(df):\n",
    "    if len(df) == 0:\n",
    "        return df\n",
    "    df[\"Bounce (x)\"] = df.apply(lambda x: -(x[\"Bounce (x)\"]), axis=1)\n",
    "    df[\"Bounce (y)\"] = df.apply(lambda x: 23.73 - (x[\"Bounce (y)\"]), axis=1)\n",
    "    return df\n",
    "\n",
    "\n",
    "def trace_rect(left_double_court_x, right_double_court_x, top_double_court_y):\n",
    "    \"\"\"\n",
    "    outside lines\n",
    "    \"\"\"\n",
    "    court_x = [\n",
    "        left_double_court_x,\n",
    "        left_double_court_x,\n",
    "        right_double_court_x,\n",
    "        right_double_court_x,\n",
    "    ]\n",
    "    court_y = [0, top_double_court_y, top_double_court_y, 0]\n",
    "    trace0 = go.Scatter(x=court_x, y=court_y, mode=\"lines\", line=dict(color=\"white\"))\n",
    "    # fig.add_trace(trace0)\n",
    "\n",
    "    # trace0=go.Scatter(\n",
    "    return go.Scatter(x=court_x, y=court_y, mode=\"lines\", line=dict(color=\"white\"))\n",
    "    # fig.add_trace(trace0)\n",
    "\n",
    "\n",
    "def trace_court(xrange, yrange):\n",
    "    # fig1 = px.line()\n",
    "    fig1 = go.Figure(\n",
    "        layout_xaxis_range=xrange,\n",
    "        layout_yaxis_range=yrange,\n",
    "    )\n",
    "    fig1.add_trace(trace_rect(0 - 4.11 - 1.37, 0 + 4.11 + 1.37, 23.73))\n",
    "    fig1.add_trace(trace_rect(0 - 4.11, 0 + 4.11, 23.73))  # top baseline line\n",
    "    fig1.add_trace(trace_rect(0 - 4.11, 0 + 4.11, 11.88))  # net1\n",
    "    fig1.add_trace(trace_rect(0 - 4.11, 0 + 4.11, 5.48))  # bottom service line\n",
    "    fig1.add_trace(trace_rect(0 - 4.11, 0 + 4.11, 12.08))  # net2\n",
    "    fig1.add_trace(trace_rect(0 - 4.11, 0 + 4.11, 18.48))  # top service line\"\"\"\n",
    "    fig1.update_layout(xaxis=dict(showgrid=False), yaxis=dict(showgrid=False))\n",
    "    fig1.update_layout(xaxis=dict(zeroline=False), yaxis=dict(zeroline=False))\n",
    "    return fig1\n",
    "\n",
    "def get_all_serves_player(df, isP1: bool, index1stServe: int):\n",
    "    \"\"\"Returns all serves for a given player\n",
    "    Turns all far serves coordinates into near serves coordinates\n",
    "    Args:\n",
    "        df (_type_): _description_\n",
    "        isP1 (bool): _description_\n",
    "        index1stServe (int): 0= All, 1=1st, 2=2nd\n",
    "    Returns:\n",
    "        _type_: Dataframe with all serves\n",
    "    \"\"\"\n",
    "    player_str = \"Player\" if isP1 else \"Opponent\"\n",
    "    dfServesIn_near = df[\n",
    "        (df.Shot == 1)\n",
    "        & (df.Player == player_str)\n",
    "        & (df.Result == \"In\")\n",
    "        & (df[\"Hit Side\"] == \"near\")\n",
    "    ]\n",
    "    dfServesIn_far = df[\n",
    "        (df.Shot == 1)\n",
    "        & (df.Player == player_str)\n",
    "        & (df.Result == \"In\")\n",
    "        & (df[\"Hit Side\"] == \"far\")\n",
    "    ]\n",
    "\n",
    "    df_near_deuce = dfServesIn_near[dfServesIn_near[\"Hit Zone\"] == \"deuce\"]\n",
    "    df_far_deuce = dfServesIn_far[dfServesIn_far[\"Hit Zone\"] == \"deuce\"]\n",
    "    df_far_deuce = transform_far_to_near(df_far_deuce)\n",
    "\n",
    "    df_near_ad = dfServesIn_near[dfServesIn_near[\"Hit Zone\"] == \"ad\"]\n",
    "    df_far_ad = dfServesIn_far[dfServesIn_far[\"Hit Zone\"] == \"ad\"]\n",
    "    df_far_ad = transform_far_to_near(df_far_ad)\n",
    "\n",
    "    df_all = pd.concat([df_near_deuce, df_far_deuce, df_near_ad, df_far_ad])\n",
    "    if index1stServe == 1:\n",
    "        df_all = df_all[df_all[\"first_serve\"]==True]\n",
    "    elif index1stServe == 2:\n",
    "        df_all = df_all[df_all[\"first_serve\"]==False]\n",
    "    #df_all[\"Winner_Point\"] = df_all[\"Winner_Point\"].replace({\"1\": \"won\", \"2\": \"lost\"})\n",
    "    return df_all\n",
    "\n",
    "isP1=True\n",
    "#get all 1st serves\n",
    "print(\"1st serves:\"+ str(len(get_all_serves_player(df, isP1, 1))))\n",
    "#get all 2nd serves\n",
    "print(\"2nd serves:\"+ str(len(get_all_serves_player(df, isP1, 2))))\n",
    "#get all serves\n",
    "print(\"All serves:\"+ str(len(get_all_serves_player(df, isP1, 0))))"
   ]
  },
  {
   "cell_type": "code",
   "execution_count": 4,
   "id": "0ad9b514",
   "metadata": {
    "scrolled": false
   },
   "outputs": [
    {
     "data": {
      "application/vnd.plotly.v1+json": {
       "config": {
        "plotlyServerURL": "https://plot.ly"
       },
       "data": [
        {
         "line": {
          "color": "white"
         },
         "mode": "lines",
         "showlegend": false,
         "type": "scatter",
         "x": [
          -5.48,
          -5.48,
          5.48,
          5.48
         ],
         "y": [
          0,
          23.73,
          23.73,
          0
         ]
        },
        {
         "line": {
          "color": "white"
         },
         "mode": "lines",
         "showlegend": false,
         "type": "scatter",
         "x": [
          -4.11,
          -4.11,
          4.11,
          4.11
         ],
         "y": [
          0,
          23.73,
          23.73,
          0
         ]
        },
        {
         "line": {
          "color": "white"
         },
         "mode": "lines",
         "showlegend": false,
         "type": "scatter",
         "x": [
          -4.11,
          -4.11,
          4.11,
          4.11
         ],
         "y": [
          0,
          11.88,
          11.88,
          0
         ]
        },
        {
         "line": {
          "color": "white"
         },
         "mode": "lines",
         "showlegend": false,
         "type": "scatter",
         "x": [
          -4.11,
          -4.11,
          4.11,
          4.11
         ],
         "y": [
          0,
          5.48,
          5.48,
          0
         ]
        },
        {
         "line": {
          "color": "white"
         },
         "mode": "lines",
         "showlegend": false,
         "type": "scatter",
         "x": [
          -4.11,
          -4.11,
          4.11,
          4.11
         ],
         "y": [
          0,
          12.08,
          12.08,
          0
         ]
        },
        {
         "line": {
          "color": "white"
         },
         "mode": "lines",
         "showlegend": false,
         "type": "scatter",
         "x": [
          -4.11,
          -4.11,
          4.11,
          4.11
         ],
         "y": [
          0,
          18.48,
          18.48,
          0
         ]
        },
        {
         "hovertemplate": "x=%{x}<br>y=%{y}<extra></extra>",
         "legendgroup": "",
         "line": {
          "color": "gray",
          "dash": "dot",
          "width": 1
         },
         "marker": {
          "symbol": "circle"
         },
         "mode": "lines",
         "name": "",
         "orientation": "v",
         "showlegend": false,
         "type": "scatter",
         "x": [
          -2.6715,
          -2.6715
         ],
         "xaxis": "x",
         "y": [
          18.48,
          12.5
         ],
         "yaxis": "y"
        },
        {
         "hovertemplate": "x=%{x}<br>y=%{y}<extra></extra>",
         "legendgroup": "",
         "line": {
          "color": "gray",
          "dash": "dot",
          "width": 1
         },
         "marker": {
          "symbol": "circle"
         },
         "mode": "lines",
         "name": "",
         "orientation": "v",
         "showlegend": false,
         "type": "scatter",
         "x": [
          -1.4385000000000001,
          -1.4385000000000001
         ],
         "xaxis": "x",
         "y": [
          18.48,
          12.5
         ],
         "yaxis": "y"
        },
        {
         "hovertemplate": "x=%{x}<br>y=%{y}<extra></extra>",
         "legendgroup": "",
         "line": {
          "color": "gray",
          "dash": "dot",
          "width": 1
         },
         "marker": {
          "symbol": "circle"
         },
         "mode": "lines",
         "name": "",
         "orientation": "v",
         "showlegend": false,
         "type": "scatter",
         "x": [
          2.6715,
          2.6715
         ],
         "xaxis": "x",
         "y": [
          18.48,
          12.5
         ],
         "yaxis": "y"
        },
        {
         "hovertemplate": "x=%{x}<br>y=%{y}<extra></extra>",
         "legendgroup": "",
         "line": {
          "color": "gray",
          "dash": "dot",
          "width": 1
         },
         "marker": {
          "symbol": "circle"
         },
         "mode": "lines",
         "name": "",
         "orientation": "v",
         "showlegend": false,
         "type": "scatter",
         "x": [
          1.4385000000000001,
          1.4385000000000001
         ],
         "xaxis": "x",
         "y": [
          18.48,
          12.5
         ],
         "yaxis": "y"
        },
        {
         "customdata": [
          [
           5,
           143.428314
          ],
          [
           52,
           151.512466
          ],
          [
           54,
           166.588196
          ],
          [
           124,
           107.96489
          ],
          [
           128,
           167.104736
          ],
          [
           174,
           129.669327
          ],
          [
           178,
           153.051682
          ],
          [
           324,
           146.827042
          ],
          [
           326,
           93.197632
          ],
          [
           28,
           null
          ],
          [
           35,
           145.843109
          ],
          [
           39,
           106.161484
          ],
          [
           64,
           170.821655
          ],
          [
           66,
           154.898346
          ],
          [
           69,
           101.542831
          ],
          [
           109,
           149.704681
          ],
          [
           151,
           154.441208
          ],
          [
           155,
           161.313736
          ],
          [
           305,
           125.152107
          ],
          [
           308,
           155.912399
          ],
          [
           313,
           158.792389
          ],
          [
           12,
           135.053497
          ],
          [
           51,
           118.566048
          ],
          [
           129,
           95.396133
          ],
          [
           176,
           113.434662
          ],
          [
           180,
           118.806915
          ],
          [
           211,
           137.554901
          ],
          [
           213,
           117.690926
          ],
          [
           216,
           128.672958
          ],
          [
           284,
           135.886673
          ],
          [
           325,
           114.806137
          ],
          [
           29,
           null
          ],
          [
           40,
           128.59906
          ],
          [
           65,
           154.751205
          ],
          [
           108,
           109.466087
          ],
          [
           110,
           139.339661
          ],
          [
           152,
           183.113083
          ],
          [
           187,
           135.720139
          ],
          [
           245,
           195.680084
          ],
          [
           254,
           173.839478
          ]
         ],
         "hovertemplate": "Winner_Point=1<br>Bounce (x)=%{x}<br>Bounce (y)=%{y}<br>Point=%{customdata[0]}<br>Speed (KM/H)=%{customdata[1]}<extra></extra>",
         "legendgroup": "1",
         "marker": {
          "color": "green",
          "symbol": "circle"
         },
         "mode": "markers",
         "name": "1",
         "orientation": "v",
         "showlegend": false,
         "type": "scatter",
         "x": [
          -0.736329,
          -3.63089,
          -3.891453,
          -3.778957,
          -3.7,
          -4.09656,
          -3.851343,
          -0.379781,
          -3.992933,
          -0.7666666666666667,
          -0.510164,
          -2.11733,
          -3.358322,
          -3.7,
          -3.288804,
          -0.301575,
          -0.510268,
          -3.035576,
          -3.333333333,
          -3.437471,
          -0.065764,
          3.746519,
          0.139716,
          2.814201,
          0.366666667,
          3.173064,
          3.464229,
          2.760643,
          3.088271,
          0.641168,
          2.192935,
          0.2,
          3.469348,
          3.410279,
          0.189572,
          3.418303,
          0.424858,
          3.733333333,
          0.15521,
          4.000282
         ],
         "xaxis": "x",
         "y": [
          17.802908,
          17.534847,
          17.600409,
          16.823866,
          17.47,
          17.270617,
          17.662441,
          17.958002,
          15.108196,
          17.560000000000002,
          16.049668,
          17.261881000000002,
          17.813711,
          17.66,
          17.995607,
          16.540359000000002,
          17.782539,
          17.815251,
          17.26,
          16.689178,
          17.915741,
          17.465075,
          17.016758,
          14.33685,
          17.77,
          15.434517,
          16.17967,
          15.121737,
          15.502044,
          16.290096,
          15.809986,
          17.26,
          17.998404999999998,
          17.043494000000003,
          17.887636,
          17.750365000000002,
          17.331071,
          17.26,
          17.130106,
          17.938005
         ],
         "yaxis": "y"
        },
        {
         "customdata": [
          [
           85,
           163.357452
          ],
          [
           89,
           137.174225
          ],
          [
           166,
           121.712097
          ],
          [
           212,
           134.507645
          ],
          [
           287,
           92.79023
          ],
          [
           186,
           180.330566
          ],
          [
           53,
           107.916283
          ],
          [
           241,
           126.122849
          ],
          [
           249,
           166.00827
          ],
          [
           270,
           null
          ],
          [
           306,
           154.221817
          ]
         ],
         "hovertemplate": "Winner_Point=2<br>Bounce (x)=%{x}<br>Bounce (y)=%{y}<br>Point=%{customdata[0]}<br>Speed (KM/H)=%{customdata[1]}<extra></extra>",
         "legendgroup": "2",
         "marker": {
          "color": "red",
          "symbol": "circle"
         },
         "mode": "markers",
         "name": "2",
         "orientation": "v",
         "showlegend": false,
         "type": "scatter",
         "x": [
          -2.128018,
          -3.361414,
          -0.433893,
          -0.311523,
          -1.109949,
          -2.787778,
          2.41569,
          0.708747,
          3.159889,
          0.133333333,
          2.421826
         ],
         "xaxis": "x",
         "y": [
          17.27043,
          17.182365,
          17.727133,
          16.941185,
          15.712411,
          17.721355000000003,
          13.998976,
          17.033372,
          18.041492,
          17.560000000000002,
          16.68172
         ],
         "yaxis": "y"
        }
       ],
       "layout": {
        "template": {
         "data": {
          "bar": [
           {
            "error_x": {
             "color": "#2a3f5f"
            },
            "error_y": {
             "color": "#2a3f5f"
            },
            "marker": {
             "line": {
              "color": "#E5ECF6",
              "width": 0.5
             },
             "pattern": {
              "fillmode": "overlay",
              "size": 10,
              "solidity": 0.2
             }
            },
            "type": "bar"
           }
          ],
          "barpolar": [
           {
            "marker": {
             "line": {
              "color": "#E5ECF6",
              "width": 0.5
             },
             "pattern": {
              "fillmode": "overlay",
              "size": 10,
              "solidity": 0.2
             }
            },
            "type": "barpolar"
           }
          ],
          "carpet": [
           {
            "aaxis": {
             "endlinecolor": "#2a3f5f",
             "gridcolor": "white",
             "linecolor": "white",
             "minorgridcolor": "white",
             "startlinecolor": "#2a3f5f"
            },
            "baxis": {
             "endlinecolor": "#2a3f5f",
             "gridcolor": "white",
             "linecolor": "white",
             "minorgridcolor": "white",
             "startlinecolor": "#2a3f5f"
            },
            "type": "carpet"
           }
          ],
          "choropleth": [
           {
            "colorbar": {
             "outlinewidth": 0,
             "ticks": ""
            },
            "type": "choropleth"
           }
          ],
          "contour": [
           {
            "colorbar": {
             "outlinewidth": 0,
             "ticks": ""
            },
            "colorscale": [
             [
              0,
              "#0d0887"
             ],
             [
              0.1111111111111111,
              "#46039f"
             ],
             [
              0.2222222222222222,
              "#7201a8"
             ],
             [
              0.3333333333333333,
              "#9c179e"
             ],
             [
              0.4444444444444444,
              "#bd3786"
             ],
             [
              0.5555555555555556,
              "#d8576b"
             ],
             [
              0.6666666666666666,
              "#ed7953"
             ],
             [
              0.7777777777777778,
              "#fb9f3a"
             ],
             [
              0.8888888888888888,
              "#fdca26"
             ],
             [
              1,
              "#f0f921"
             ]
            ],
            "type": "contour"
           }
          ],
          "contourcarpet": [
           {
            "colorbar": {
             "outlinewidth": 0,
             "ticks": ""
            },
            "type": "contourcarpet"
           }
          ],
          "heatmap": [
           {
            "colorbar": {
             "outlinewidth": 0,
             "ticks": ""
            },
            "colorscale": [
             [
              0,
              "#0d0887"
             ],
             [
              0.1111111111111111,
              "#46039f"
             ],
             [
              0.2222222222222222,
              "#7201a8"
             ],
             [
              0.3333333333333333,
              "#9c179e"
             ],
             [
              0.4444444444444444,
              "#bd3786"
             ],
             [
              0.5555555555555556,
              "#d8576b"
             ],
             [
              0.6666666666666666,
              "#ed7953"
             ],
             [
              0.7777777777777778,
              "#fb9f3a"
             ],
             [
              0.8888888888888888,
              "#fdca26"
             ],
             [
              1,
              "#f0f921"
             ]
            ],
            "type": "heatmap"
           }
          ],
          "heatmapgl": [
           {
            "colorbar": {
             "outlinewidth": 0,
             "ticks": ""
            },
            "colorscale": [
             [
              0,
              "#0d0887"
             ],
             [
              0.1111111111111111,
              "#46039f"
             ],
             [
              0.2222222222222222,
              "#7201a8"
             ],
             [
              0.3333333333333333,
              "#9c179e"
             ],
             [
              0.4444444444444444,
              "#bd3786"
             ],
             [
              0.5555555555555556,
              "#d8576b"
             ],
             [
              0.6666666666666666,
              "#ed7953"
             ],
             [
              0.7777777777777778,
              "#fb9f3a"
             ],
             [
              0.8888888888888888,
              "#fdca26"
             ],
             [
              1,
              "#f0f921"
             ]
            ],
            "type": "heatmapgl"
           }
          ],
          "histogram": [
           {
            "marker": {
             "pattern": {
              "fillmode": "overlay",
              "size": 10,
              "solidity": 0.2
             }
            },
            "type": "histogram"
           }
          ],
          "histogram2d": [
           {
            "colorbar": {
             "outlinewidth": 0,
             "ticks": ""
            },
            "colorscale": [
             [
              0,
              "#0d0887"
             ],
             [
              0.1111111111111111,
              "#46039f"
             ],
             [
              0.2222222222222222,
              "#7201a8"
             ],
             [
              0.3333333333333333,
              "#9c179e"
             ],
             [
              0.4444444444444444,
              "#bd3786"
             ],
             [
              0.5555555555555556,
              "#d8576b"
             ],
             [
              0.6666666666666666,
              "#ed7953"
             ],
             [
              0.7777777777777778,
              "#fb9f3a"
             ],
             [
              0.8888888888888888,
              "#fdca26"
             ],
             [
              1,
              "#f0f921"
             ]
            ],
            "type": "histogram2d"
           }
          ],
          "histogram2dcontour": [
           {
            "colorbar": {
             "outlinewidth": 0,
             "ticks": ""
            },
            "colorscale": [
             [
              0,
              "#0d0887"
             ],
             [
              0.1111111111111111,
              "#46039f"
             ],
             [
              0.2222222222222222,
              "#7201a8"
             ],
             [
              0.3333333333333333,
              "#9c179e"
             ],
             [
              0.4444444444444444,
              "#bd3786"
             ],
             [
              0.5555555555555556,
              "#d8576b"
             ],
             [
              0.6666666666666666,
              "#ed7953"
             ],
             [
              0.7777777777777778,
              "#fb9f3a"
             ],
             [
              0.8888888888888888,
              "#fdca26"
             ],
             [
              1,
              "#f0f921"
             ]
            ],
            "type": "histogram2dcontour"
           }
          ],
          "mesh3d": [
           {
            "colorbar": {
             "outlinewidth": 0,
             "ticks": ""
            },
            "type": "mesh3d"
           }
          ],
          "parcoords": [
           {
            "line": {
             "colorbar": {
              "outlinewidth": 0,
              "ticks": ""
             }
            },
            "type": "parcoords"
           }
          ],
          "pie": [
           {
            "automargin": true,
            "type": "pie"
           }
          ],
          "scatter": [
           {
            "marker": {
             "colorbar": {
              "outlinewidth": 0,
              "ticks": ""
             }
            },
            "type": "scatter"
           }
          ],
          "scatter3d": [
           {
            "line": {
             "colorbar": {
              "outlinewidth": 0,
              "ticks": ""
             }
            },
            "marker": {
             "colorbar": {
              "outlinewidth": 0,
              "ticks": ""
             }
            },
            "type": "scatter3d"
           }
          ],
          "scattercarpet": [
           {
            "marker": {
             "colorbar": {
              "outlinewidth": 0,
              "ticks": ""
             }
            },
            "type": "scattercarpet"
           }
          ],
          "scattergeo": [
           {
            "marker": {
             "colorbar": {
              "outlinewidth": 0,
              "ticks": ""
             }
            },
            "type": "scattergeo"
           }
          ],
          "scattergl": [
           {
            "marker": {
             "colorbar": {
              "outlinewidth": 0,
              "ticks": ""
             }
            },
            "type": "scattergl"
           }
          ],
          "scattermapbox": [
           {
            "marker": {
             "colorbar": {
              "outlinewidth": 0,
              "ticks": ""
             }
            },
            "type": "scattermapbox"
           }
          ],
          "scatterpolar": [
           {
            "marker": {
             "colorbar": {
              "outlinewidth": 0,
              "ticks": ""
             }
            },
            "type": "scatterpolar"
           }
          ],
          "scatterpolargl": [
           {
            "marker": {
             "colorbar": {
              "outlinewidth": 0,
              "ticks": ""
             }
            },
            "type": "scatterpolargl"
           }
          ],
          "scatterternary": [
           {
            "marker": {
             "colorbar": {
              "outlinewidth": 0,
              "ticks": ""
             }
            },
            "type": "scatterternary"
           }
          ],
          "surface": [
           {
            "colorbar": {
             "outlinewidth": 0,
             "ticks": ""
            },
            "colorscale": [
             [
              0,
              "#0d0887"
             ],
             [
              0.1111111111111111,
              "#46039f"
             ],
             [
              0.2222222222222222,
              "#7201a8"
             ],
             [
              0.3333333333333333,
              "#9c179e"
             ],
             [
              0.4444444444444444,
              "#bd3786"
             ],
             [
              0.5555555555555556,
              "#d8576b"
             ],
             [
              0.6666666666666666,
              "#ed7953"
             ],
             [
              0.7777777777777778,
              "#fb9f3a"
             ],
             [
              0.8888888888888888,
              "#fdca26"
             ],
             [
              1,
              "#f0f921"
             ]
            ],
            "type": "surface"
           }
          ],
          "table": [
           {
            "cells": {
             "fill": {
              "color": "#EBF0F8"
             },
             "line": {
              "color": "white"
             }
            },
            "header": {
             "fill": {
              "color": "#C8D4E3"
             },
             "line": {
              "color": "white"
             }
            },
            "type": "table"
           }
          ]
         },
         "layout": {
          "annotationdefaults": {
           "arrowcolor": "#2a3f5f",
           "arrowhead": 0,
           "arrowwidth": 1
          },
          "autotypenumbers": "strict",
          "coloraxis": {
           "colorbar": {
            "outlinewidth": 0,
            "ticks": ""
           }
          },
          "colorscale": {
           "diverging": [
            [
             0,
             "#8e0152"
            ],
            [
             0.1,
             "#c51b7d"
            ],
            [
             0.2,
             "#de77ae"
            ],
            [
             0.3,
             "#f1b6da"
            ],
            [
             0.4,
             "#fde0ef"
            ],
            [
             0.5,
             "#f7f7f7"
            ],
            [
             0.6,
             "#e6f5d0"
            ],
            [
             0.7,
             "#b8e186"
            ],
            [
             0.8,
             "#7fbc41"
            ],
            [
             0.9,
             "#4d9221"
            ],
            [
             1,
             "#276419"
            ]
           ],
           "sequential": [
            [
             0,
             "#0d0887"
            ],
            [
             0.1111111111111111,
             "#46039f"
            ],
            [
             0.2222222222222222,
             "#7201a8"
            ],
            [
             0.3333333333333333,
             "#9c179e"
            ],
            [
             0.4444444444444444,
             "#bd3786"
            ],
            [
             0.5555555555555556,
             "#d8576b"
            ],
            [
             0.6666666666666666,
             "#ed7953"
            ],
            [
             0.7777777777777778,
             "#fb9f3a"
            ],
            [
             0.8888888888888888,
             "#fdca26"
            ],
            [
             1,
             "#f0f921"
            ]
           ],
           "sequentialminus": [
            [
             0,
             "#0d0887"
            ],
            [
             0.1111111111111111,
             "#46039f"
            ],
            [
             0.2222222222222222,
             "#7201a8"
            ],
            [
             0.3333333333333333,
             "#9c179e"
            ],
            [
             0.4444444444444444,
             "#bd3786"
            ],
            [
             0.5555555555555556,
             "#d8576b"
            ],
            [
             0.6666666666666666,
             "#ed7953"
            ],
            [
             0.7777777777777778,
             "#fb9f3a"
            ],
            [
             0.8888888888888888,
             "#fdca26"
            ],
            [
             1,
             "#f0f921"
            ]
           ]
          },
          "colorway": [
           "#636efa",
           "#EF553B",
           "#00cc96",
           "#ab63fa",
           "#FFA15A",
           "#19d3f3",
           "#FF6692",
           "#B6E880",
           "#FF97FF",
           "#FECB52"
          ],
          "font": {
           "color": "#2a3f5f"
          },
          "geo": {
           "bgcolor": "white",
           "lakecolor": "white",
           "landcolor": "#E5ECF6",
           "showlakes": true,
           "showland": true,
           "subunitcolor": "white"
          },
          "hoverlabel": {
           "align": "left"
          },
          "hovermode": "closest",
          "mapbox": {
           "style": "light"
          },
          "paper_bgcolor": "white",
          "plot_bgcolor": "#E5ECF6",
          "polar": {
           "angularaxis": {
            "gridcolor": "white",
            "linecolor": "white",
            "ticks": ""
           },
           "bgcolor": "#E5ECF6",
           "radialaxis": {
            "gridcolor": "white",
            "linecolor": "white",
            "ticks": ""
           }
          },
          "scene": {
           "xaxis": {
            "backgroundcolor": "#E5ECF6",
            "gridcolor": "white",
            "gridwidth": 2,
            "linecolor": "white",
            "showbackground": true,
            "ticks": "",
            "zerolinecolor": "white"
           },
           "yaxis": {
            "backgroundcolor": "#E5ECF6",
            "gridcolor": "white",
            "gridwidth": 2,
            "linecolor": "white",
            "showbackground": true,
            "ticks": "",
            "zerolinecolor": "white"
           },
           "zaxis": {
            "backgroundcolor": "#E5ECF6",
            "gridcolor": "white",
            "gridwidth": 2,
            "linecolor": "white",
            "showbackground": true,
            "ticks": "",
            "zerolinecolor": "white"
           }
          },
          "shapedefaults": {
           "line": {
            "color": "#2a3f5f"
           }
          },
          "ternary": {
           "aaxis": {
            "gridcolor": "white",
            "linecolor": "white",
            "ticks": ""
           },
           "baxis": {
            "gridcolor": "white",
            "linecolor": "white",
            "ticks": ""
           },
           "bgcolor": "#E5ECF6",
           "caxis": {
            "gridcolor": "white",
            "linecolor": "white",
            "ticks": ""
           }
          },
          "title": {
           "x": 0.05
          },
          "xaxis": {
           "automargin": true,
           "gridcolor": "white",
           "linecolor": "white",
           "ticks": "",
           "title": {
            "standoff": 15
           },
           "zerolinecolor": "white",
           "zerolinewidth": 2
          },
          "yaxis": {
           "automargin": true,
           "gridcolor": "white",
           "linecolor": "white",
           "ticks": "",
           "title": {
            "standoff": 15
           },
           "zerolinecolor": "white",
           "zerolinewidth": 2
          }
         }
        },
        "title": {
         "text": "Pospisil 1st serves hitting zones and points won/lost"
        },
        "xaxis": {
         "range": [
          -5,
          5
         ],
         "scaleanchor": "y",
         "scaleratio": 1.5,
         "showgrid": false,
         "showticklabels": false
        },
        "yaxis": {
         "range": [
          -0.4,
          24
         ],
         "showgrid": false,
         "showticklabels": false
        }
       }
      },
      "text/html": [
       "<div>                            <div id=\"1175d736-9608-4610-813b-78349deb5ea8\" class=\"plotly-graph-div\" style=\"height:525px; width:100%;\"></div>            <script type=\"text/javascript\">                require([\"plotly\"], function(Plotly) {                    window.PLOTLYENV=window.PLOTLYENV || {};                                    if (document.getElementById(\"1175d736-9608-4610-813b-78349deb5ea8\")) {                    Plotly.newPlot(                        \"1175d736-9608-4610-813b-78349deb5ea8\",                        [{\"line\":{\"color\":\"white\"},\"mode\":\"lines\",\"x\":[-5.48,-5.48,5.48,5.48],\"y\":[0,23.73,23.73,0],\"type\":\"scatter\",\"showlegend\":false},{\"line\":{\"color\":\"white\"},\"mode\":\"lines\",\"x\":[-4.11,-4.11,4.11,4.11],\"y\":[0,23.73,23.73,0],\"type\":\"scatter\",\"showlegend\":false},{\"line\":{\"color\":\"white\"},\"mode\":\"lines\",\"x\":[-4.11,-4.11,4.11,4.11],\"y\":[0,11.88,11.88,0],\"type\":\"scatter\",\"showlegend\":false},{\"line\":{\"color\":\"white\"},\"mode\":\"lines\",\"x\":[-4.11,-4.11,4.11,4.11],\"y\":[0,5.48,5.48,0],\"type\":\"scatter\",\"showlegend\":false},{\"line\":{\"color\":\"white\"},\"mode\":\"lines\",\"x\":[-4.11,-4.11,4.11,4.11],\"y\":[0,12.08,12.08,0],\"type\":\"scatter\",\"showlegend\":false},{\"line\":{\"color\":\"white\"},\"mode\":\"lines\",\"x\":[-4.11,-4.11,4.11,4.11],\"y\":[0,18.48,18.48,0],\"type\":\"scatter\",\"showlegend\":false},{\"hovertemplate\":\"x=%{x}<br>y=%{y}<extra></extra>\",\"legendgroup\":\"\",\"line\":{\"color\":\"gray\",\"dash\":\"dot\",\"width\":1},\"marker\":{\"symbol\":\"circle\"},\"mode\":\"lines\",\"name\":\"\",\"orientation\":\"v\",\"showlegend\":false,\"x\":[-2.6715,-2.6715],\"xaxis\":\"x\",\"y\":[18.48,12.5],\"yaxis\":\"y\",\"type\":\"scatter\"},{\"hovertemplate\":\"x=%{x}<br>y=%{y}<extra></extra>\",\"legendgroup\":\"\",\"line\":{\"color\":\"gray\",\"dash\":\"dot\",\"width\":1},\"marker\":{\"symbol\":\"circle\"},\"mode\":\"lines\",\"name\":\"\",\"orientation\":\"v\",\"showlegend\":false,\"x\":[-1.4385000000000001,-1.4385000000000001],\"xaxis\":\"x\",\"y\":[18.48,12.5],\"yaxis\":\"y\",\"type\":\"scatter\"},{\"hovertemplate\":\"x=%{x}<br>y=%{y}<extra></extra>\",\"legendgroup\":\"\",\"line\":{\"color\":\"gray\",\"dash\":\"dot\",\"width\":1},\"marker\":{\"symbol\":\"circle\"},\"mode\":\"lines\",\"name\":\"\",\"orientation\":\"v\",\"showlegend\":false,\"x\":[2.6715,2.6715],\"xaxis\":\"x\",\"y\":[18.48,12.5],\"yaxis\":\"y\",\"type\":\"scatter\"},{\"hovertemplate\":\"x=%{x}<br>y=%{y}<extra></extra>\",\"legendgroup\":\"\",\"line\":{\"color\":\"gray\",\"dash\":\"dot\",\"width\":1},\"marker\":{\"symbol\":\"circle\"},\"mode\":\"lines\",\"name\":\"\",\"orientation\":\"v\",\"showlegend\":false,\"x\":[1.4385000000000001,1.4385000000000001],\"xaxis\":\"x\",\"y\":[18.48,12.5],\"yaxis\":\"y\",\"type\":\"scatter\"},{\"customdata\":[[5.0,143.428314],[52.0,151.512466],[54.0,166.588196],[124.0,107.96489],[128.0,167.104736],[174.0,129.669327],[178.0,153.051682],[324.0,146.827042],[326.0,93.197632],[28.0,null],[35.0,145.843109],[39.0,106.161484],[64.0,170.821655],[66.0,154.898346],[69.0,101.542831],[109.0,149.704681],[151.0,154.441208],[155.0,161.313736],[305.0,125.152107],[308.0,155.912399],[313.0,158.792389],[12.0,135.053497],[51.0,118.566048],[129.0,95.396133],[176.0,113.434662],[180.0,118.806915],[211.0,137.554901],[213.0,117.690926],[216.0,128.672958],[284.0,135.886673],[325.0,114.806137],[29.0,null],[40.0,128.59906],[65.0,154.751205],[108.0,109.466087],[110.0,139.339661],[152.0,183.113083],[187.0,135.720139],[245.0,195.680084],[254.0,173.839478]],\"hovertemplate\":\"Winner_Point=1<br>Bounce (x)=%{x}<br>Bounce (y)=%{y}<br>Point=%{customdata[0]}<br>Speed (KM/H)=%{customdata[1]}<extra></extra>\",\"legendgroup\":\"1\",\"marker\":{\"color\":\"green\",\"symbol\":\"circle\"},\"mode\":\"markers\",\"name\":\"1\",\"orientation\":\"v\",\"showlegend\":false,\"x\":[-0.736329,-3.63089,-3.891453,-3.778957,-3.7,-4.09656,-3.851343,-0.379781,-3.992933,-0.7666666666666667,-0.510164,-2.11733,-3.358322,-3.7,-3.288804,-0.301575,-0.510268,-3.035576,-3.333333333,-3.437471,-0.065764,3.746519,0.139716,2.814201,0.366666667,3.173064,3.464229,2.760643,3.088271,0.641168,2.192935,0.2,3.469348,3.410279,0.189572,3.418303,0.424858,3.733333333,0.15521,4.000282],\"xaxis\":\"x\",\"y\":[17.802908,17.534847,17.600409,16.823866,17.47,17.270617,17.662441,17.958002,15.108196,17.560000000000002,16.049668,17.261881000000002,17.813711,17.66,17.995607,16.540359000000002,17.782539,17.815251,17.26,16.689178,17.915741,17.465075,17.016758,14.33685,17.77,15.434517,16.17967,15.121737,15.502044,16.290096,15.809986,17.26,17.998404999999998,17.043494000000003,17.887636,17.750365000000002,17.331071,17.26,17.130106,17.938005],\"yaxis\":\"y\",\"type\":\"scatter\"},{\"customdata\":[[85.0,163.357452],[89.0,137.174225],[166.0,121.712097],[212.0,134.507645],[287.0,92.79023],[186.0,180.330566],[53.0,107.916283],[241.0,126.122849],[249.0,166.00827],[270.0,null],[306.0,154.221817]],\"hovertemplate\":\"Winner_Point=2<br>Bounce (x)=%{x}<br>Bounce (y)=%{y}<br>Point=%{customdata[0]}<br>Speed (KM/H)=%{customdata[1]}<extra></extra>\",\"legendgroup\":\"2\",\"marker\":{\"color\":\"red\",\"symbol\":\"circle\"},\"mode\":\"markers\",\"name\":\"2\",\"orientation\":\"v\",\"showlegend\":false,\"x\":[-2.128018,-3.361414,-0.433893,-0.311523,-1.109949,-2.787778,2.41569,0.708747,3.159889,0.133333333,2.421826],\"xaxis\":\"x\",\"y\":[17.27043,17.182365,17.727133,16.941185,15.712411,17.721355000000003,13.998976,17.033372,18.041492,17.560000000000002,16.68172],\"yaxis\":\"y\",\"type\":\"scatter\"}],                        {\"template\":{\"data\":{\"bar\":[{\"error_x\":{\"color\":\"#2a3f5f\"},\"error_y\":{\"color\":\"#2a3f5f\"},\"marker\":{\"line\":{\"color\":\"#E5ECF6\",\"width\":0.5},\"pattern\":{\"fillmode\":\"overlay\",\"size\":10,\"solidity\":0.2}},\"type\":\"bar\"}],\"barpolar\":[{\"marker\":{\"line\":{\"color\":\"#E5ECF6\",\"width\":0.5},\"pattern\":{\"fillmode\":\"overlay\",\"size\":10,\"solidity\":0.2}},\"type\":\"barpolar\"}],\"carpet\":[{\"aaxis\":{\"endlinecolor\":\"#2a3f5f\",\"gridcolor\":\"white\",\"linecolor\":\"white\",\"minorgridcolor\":\"white\",\"startlinecolor\":\"#2a3f5f\"},\"baxis\":{\"endlinecolor\":\"#2a3f5f\",\"gridcolor\":\"white\",\"linecolor\":\"white\",\"minorgridcolor\":\"white\",\"startlinecolor\":\"#2a3f5f\"},\"type\":\"carpet\"}],\"choropleth\":[{\"colorbar\":{\"outlinewidth\":0,\"ticks\":\"\"},\"type\":\"choropleth\"}],\"contour\":[{\"colorbar\":{\"outlinewidth\":0,\"ticks\":\"\"},\"colorscale\":[[0.0,\"#0d0887\"],[0.1111111111111111,\"#46039f\"],[0.2222222222222222,\"#7201a8\"],[0.3333333333333333,\"#9c179e\"],[0.4444444444444444,\"#bd3786\"],[0.5555555555555556,\"#d8576b\"],[0.6666666666666666,\"#ed7953\"],[0.7777777777777778,\"#fb9f3a\"],[0.8888888888888888,\"#fdca26\"],[1.0,\"#f0f921\"]],\"type\":\"contour\"}],\"contourcarpet\":[{\"colorbar\":{\"outlinewidth\":0,\"ticks\":\"\"},\"type\":\"contourcarpet\"}],\"heatmap\":[{\"colorbar\":{\"outlinewidth\":0,\"ticks\":\"\"},\"colorscale\":[[0.0,\"#0d0887\"],[0.1111111111111111,\"#46039f\"],[0.2222222222222222,\"#7201a8\"],[0.3333333333333333,\"#9c179e\"],[0.4444444444444444,\"#bd3786\"],[0.5555555555555556,\"#d8576b\"],[0.6666666666666666,\"#ed7953\"],[0.7777777777777778,\"#fb9f3a\"],[0.8888888888888888,\"#fdca26\"],[1.0,\"#f0f921\"]],\"type\":\"heatmap\"}],\"heatmapgl\":[{\"colorbar\":{\"outlinewidth\":0,\"ticks\":\"\"},\"colorscale\":[[0.0,\"#0d0887\"],[0.1111111111111111,\"#46039f\"],[0.2222222222222222,\"#7201a8\"],[0.3333333333333333,\"#9c179e\"],[0.4444444444444444,\"#bd3786\"],[0.5555555555555556,\"#d8576b\"],[0.6666666666666666,\"#ed7953\"],[0.7777777777777778,\"#fb9f3a\"],[0.8888888888888888,\"#fdca26\"],[1.0,\"#f0f921\"]],\"type\":\"heatmapgl\"}],\"histogram\":[{\"marker\":{\"pattern\":{\"fillmode\":\"overlay\",\"size\":10,\"solidity\":0.2}},\"type\":\"histogram\"}],\"histogram2d\":[{\"colorbar\":{\"outlinewidth\":0,\"ticks\":\"\"},\"colorscale\":[[0.0,\"#0d0887\"],[0.1111111111111111,\"#46039f\"],[0.2222222222222222,\"#7201a8\"],[0.3333333333333333,\"#9c179e\"],[0.4444444444444444,\"#bd3786\"],[0.5555555555555556,\"#d8576b\"],[0.6666666666666666,\"#ed7953\"],[0.7777777777777778,\"#fb9f3a\"],[0.8888888888888888,\"#fdca26\"],[1.0,\"#f0f921\"]],\"type\":\"histogram2d\"}],\"histogram2dcontour\":[{\"colorbar\":{\"outlinewidth\":0,\"ticks\":\"\"},\"colorscale\":[[0.0,\"#0d0887\"],[0.1111111111111111,\"#46039f\"],[0.2222222222222222,\"#7201a8\"],[0.3333333333333333,\"#9c179e\"],[0.4444444444444444,\"#bd3786\"],[0.5555555555555556,\"#d8576b\"],[0.6666666666666666,\"#ed7953\"],[0.7777777777777778,\"#fb9f3a\"],[0.8888888888888888,\"#fdca26\"],[1.0,\"#f0f921\"]],\"type\":\"histogram2dcontour\"}],\"mesh3d\":[{\"colorbar\":{\"outlinewidth\":0,\"ticks\":\"\"},\"type\":\"mesh3d\"}],\"parcoords\":[{\"line\":{\"colorbar\":{\"outlinewidth\":0,\"ticks\":\"\"}},\"type\":\"parcoords\"}],\"pie\":[{\"automargin\":true,\"type\":\"pie\"}],\"scatter\":[{\"marker\":{\"colorbar\":{\"outlinewidth\":0,\"ticks\":\"\"}},\"type\":\"scatter\"}],\"scatter3d\":[{\"line\":{\"colorbar\":{\"outlinewidth\":0,\"ticks\":\"\"}},\"marker\":{\"colorbar\":{\"outlinewidth\":0,\"ticks\":\"\"}},\"type\":\"scatter3d\"}],\"scattercarpet\":[{\"marker\":{\"colorbar\":{\"outlinewidth\":0,\"ticks\":\"\"}},\"type\":\"scattercarpet\"}],\"scattergeo\":[{\"marker\":{\"colorbar\":{\"outlinewidth\":0,\"ticks\":\"\"}},\"type\":\"scattergeo\"}],\"scattergl\":[{\"marker\":{\"colorbar\":{\"outlinewidth\":0,\"ticks\":\"\"}},\"type\":\"scattergl\"}],\"scattermapbox\":[{\"marker\":{\"colorbar\":{\"outlinewidth\":0,\"ticks\":\"\"}},\"type\":\"scattermapbox\"}],\"scatterpolar\":[{\"marker\":{\"colorbar\":{\"outlinewidth\":0,\"ticks\":\"\"}},\"type\":\"scatterpolar\"}],\"scatterpolargl\":[{\"marker\":{\"colorbar\":{\"outlinewidth\":0,\"ticks\":\"\"}},\"type\":\"scatterpolargl\"}],\"scatterternary\":[{\"marker\":{\"colorbar\":{\"outlinewidth\":0,\"ticks\":\"\"}},\"type\":\"scatterternary\"}],\"surface\":[{\"colorbar\":{\"outlinewidth\":0,\"ticks\":\"\"},\"colorscale\":[[0.0,\"#0d0887\"],[0.1111111111111111,\"#46039f\"],[0.2222222222222222,\"#7201a8\"],[0.3333333333333333,\"#9c179e\"],[0.4444444444444444,\"#bd3786\"],[0.5555555555555556,\"#d8576b\"],[0.6666666666666666,\"#ed7953\"],[0.7777777777777778,\"#fb9f3a\"],[0.8888888888888888,\"#fdca26\"],[1.0,\"#f0f921\"]],\"type\":\"surface\"}],\"table\":[{\"cells\":{\"fill\":{\"color\":\"#EBF0F8\"},\"line\":{\"color\":\"white\"}},\"header\":{\"fill\":{\"color\":\"#C8D4E3\"},\"line\":{\"color\":\"white\"}},\"type\":\"table\"}]},\"layout\":{\"annotationdefaults\":{\"arrowcolor\":\"#2a3f5f\",\"arrowhead\":0,\"arrowwidth\":1},\"autotypenumbers\":\"strict\",\"coloraxis\":{\"colorbar\":{\"outlinewidth\":0,\"ticks\":\"\"}},\"colorscale\":{\"diverging\":[[0,\"#8e0152\"],[0.1,\"#c51b7d\"],[0.2,\"#de77ae\"],[0.3,\"#f1b6da\"],[0.4,\"#fde0ef\"],[0.5,\"#f7f7f7\"],[0.6,\"#e6f5d0\"],[0.7,\"#b8e186\"],[0.8,\"#7fbc41\"],[0.9,\"#4d9221\"],[1,\"#276419\"]],\"sequential\":[[0.0,\"#0d0887\"],[0.1111111111111111,\"#46039f\"],[0.2222222222222222,\"#7201a8\"],[0.3333333333333333,\"#9c179e\"],[0.4444444444444444,\"#bd3786\"],[0.5555555555555556,\"#d8576b\"],[0.6666666666666666,\"#ed7953\"],[0.7777777777777778,\"#fb9f3a\"],[0.8888888888888888,\"#fdca26\"],[1.0,\"#f0f921\"]],\"sequentialminus\":[[0.0,\"#0d0887\"],[0.1111111111111111,\"#46039f\"],[0.2222222222222222,\"#7201a8\"],[0.3333333333333333,\"#9c179e\"],[0.4444444444444444,\"#bd3786\"],[0.5555555555555556,\"#d8576b\"],[0.6666666666666666,\"#ed7953\"],[0.7777777777777778,\"#fb9f3a\"],[0.8888888888888888,\"#fdca26\"],[1.0,\"#f0f921\"]]},\"colorway\":[\"#636efa\",\"#EF553B\",\"#00cc96\",\"#ab63fa\",\"#FFA15A\",\"#19d3f3\",\"#FF6692\",\"#B6E880\",\"#FF97FF\",\"#FECB52\"],\"font\":{\"color\":\"#2a3f5f\"},\"geo\":{\"bgcolor\":\"white\",\"lakecolor\":\"white\",\"landcolor\":\"#E5ECF6\",\"showlakes\":true,\"showland\":true,\"subunitcolor\":\"white\"},\"hoverlabel\":{\"align\":\"left\"},\"hovermode\":\"closest\",\"mapbox\":{\"style\":\"light\"},\"paper_bgcolor\":\"white\",\"plot_bgcolor\":\"#E5ECF6\",\"polar\":{\"angularaxis\":{\"gridcolor\":\"white\",\"linecolor\":\"white\",\"ticks\":\"\"},\"bgcolor\":\"#E5ECF6\",\"radialaxis\":{\"gridcolor\":\"white\",\"linecolor\":\"white\",\"ticks\":\"\"}},\"scene\":{\"xaxis\":{\"backgroundcolor\":\"#E5ECF6\",\"gridcolor\":\"white\",\"gridwidth\":2,\"linecolor\":\"white\",\"showbackground\":true,\"ticks\":\"\",\"zerolinecolor\":\"white\"},\"yaxis\":{\"backgroundcolor\":\"#E5ECF6\",\"gridcolor\":\"white\",\"gridwidth\":2,\"linecolor\":\"white\",\"showbackground\":true,\"ticks\":\"\",\"zerolinecolor\":\"white\"},\"zaxis\":{\"backgroundcolor\":\"#E5ECF6\",\"gridcolor\":\"white\",\"gridwidth\":2,\"linecolor\":\"white\",\"showbackground\":true,\"ticks\":\"\",\"zerolinecolor\":\"white\"}},\"shapedefaults\":{\"line\":{\"color\":\"#2a3f5f\"}},\"ternary\":{\"aaxis\":{\"gridcolor\":\"white\",\"linecolor\":\"white\",\"ticks\":\"\"},\"baxis\":{\"gridcolor\":\"white\",\"linecolor\":\"white\",\"ticks\":\"\"},\"bgcolor\":\"#E5ECF6\",\"caxis\":{\"gridcolor\":\"white\",\"linecolor\":\"white\",\"ticks\":\"\"}},\"title\":{\"x\":0.05},\"xaxis\":{\"automargin\":true,\"gridcolor\":\"white\",\"linecolor\":\"white\",\"ticks\":\"\",\"title\":{\"standoff\":15},\"zerolinecolor\":\"white\",\"zerolinewidth\":2},\"yaxis\":{\"automargin\":true,\"gridcolor\":\"white\",\"linecolor\":\"white\",\"ticks\":\"\",\"title\":{\"standoff\":15},\"zerolinecolor\":\"white\",\"zerolinewidth\":2}}},\"xaxis\":{\"scaleanchor\":\"y\",\"scaleratio\":1.5,\"showgrid\":false,\"range\":[-5,5],\"showticklabels\":false},\"yaxis\":{\"showgrid\":false,\"range\":[-0.4,24],\"showticklabels\":false},\"title\":{\"text\":\"Pospisil 1st serves hitting zones and points won/lost\"}},                        {\"responsive\": true}                    ).then(function(){\n",
       "                            \n",
       "var gd = document.getElementById('1175d736-9608-4610-813b-78349deb5ea8');\n",
       "var x = new MutationObserver(function (mutations, observer) {{\n",
       "        var display = window.getComputedStyle(gd).display;\n",
       "        if (!display || display === 'none') {{\n",
       "            console.log([gd, 'removed!']);\n",
       "            Plotly.purge(gd);\n",
       "            observer.disconnect();\n",
       "        }}\n",
       "}});\n",
       "\n",
       "// Listen for the removal of the full notebook cells\n",
       "var notebookContainer = gd.closest('#notebook-container');\n",
       "if (notebookContainer) {{\n",
       "    x.observe(notebookContainer, {childList: true});\n",
       "}}\n",
       "\n",
       "// Listen for the clearing of the current output cell\n",
       "var outputEl = gd.closest('.output');\n",
       "if (outputEl) {{\n",
       "    x.observe(outputEl, {childList: true});\n",
       "}}\n",
       "\n",
       "                        })                };                });            </script>        </div>"
      ]
     },
     "metadata": {},
     "output_type": "display_data"
    },
    {
     "data": {
      "application/vnd.plotly.v1+json": {
       "config": {
        "plotlyServerURL": "https://plot.ly"
       },
       "data": [
        {
         "line": {
          "color": "white"
         },
         "mode": "lines",
         "showlegend": false,
         "type": "scatter",
         "x": [
          -5.48,
          -5.48,
          5.48,
          5.48
         ],
         "y": [
          0,
          23.73,
          23.73,
          0
         ]
        },
        {
         "line": {
          "color": "white"
         },
         "mode": "lines",
         "showlegend": false,
         "type": "scatter",
         "x": [
          -4.11,
          -4.11,
          4.11,
          4.11
         ],
         "y": [
          0,
          23.73,
          23.73,
          0
         ]
        },
        {
         "line": {
          "color": "white"
         },
         "mode": "lines",
         "showlegend": false,
         "type": "scatter",
         "x": [
          -4.11,
          -4.11,
          4.11,
          4.11
         ],
         "y": [
          0,
          11.88,
          11.88,
          0
         ]
        },
        {
         "line": {
          "color": "white"
         },
         "mode": "lines",
         "showlegend": false,
         "type": "scatter",
         "x": [
          -4.11,
          -4.11,
          4.11,
          4.11
         ],
         "y": [
          0,
          5.48,
          5.48,
          0
         ]
        },
        {
         "line": {
          "color": "white"
         },
         "mode": "lines",
         "showlegend": false,
         "type": "scatter",
         "x": [
          -4.11,
          -4.11,
          4.11,
          4.11
         ],
         "y": [
          0,
          12.08,
          12.08,
          0
         ]
        },
        {
         "line": {
          "color": "white"
         },
         "mode": "lines",
         "showlegend": false,
         "type": "scatter",
         "x": [
          -4.11,
          -4.11,
          4.11,
          4.11
         ],
         "y": [
          0,
          18.48,
          18.48,
          0
         ]
        },
        {
         "hovertemplate": "x=%{x}<br>y=%{y}<extra></extra>",
         "legendgroup": "",
         "line": {
          "color": "gray",
          "dash": "dot",
          "width": 1
         },
         "marker": {
          "symbol": "circle"
         },
         "mode": "lines",
         "name": "",
         "orientation": "v",
         "showlegend": false,
         "type": "scatter",
         "x": [
          -2.6715,
          -2.6715
         ],
         "xaxis": "x",
         "y": [
          18.48,
          12.5
         ],
         "yaxis": "y"
        },
        {
         "hovertemplate": "x=%{x}<br>y=%{y}<extra></extra>",
         "legendgroup": "",
         "line": {
          "color": "gray",
          "dash": "dot",
          "width": 1
         },
         "marker": {
          "symbol": "circle"
         },
         "mode": "lines",
         "name": "",
         "orientation": "v",
         "showlegend": false,
         "type": "scatter",
         "x": [
          -1.4385000000000001,
          -1.4385000000000001
         ],
         "xaxis": "x",
         "y": [
          18.48,
          12.5
         ],
         "yaxis": "y"
        },
        {
         "hovertemplate": "x=%{x}<br>y=%{y}<extra></extra>",
         "legendgroup": "",
         "line": {
          "color": "gray",
          "dash": "dot",
          "width": 1
         },
         "marker": {
          "symbol": "circle"
         },
         "mode": "lines",
         "name": "",
         "orientation": "v",
         "showlegend": false,
         "type": "scatter",
         "x": [
          2.6715,
          2.6715
         ],
         "xaxis": "x",
         "y": [
          18.48,
          12.5
         ],
         "yaxis": "y"
        },
        {
         "hovertemplate": "x=%{x}<br>y=%{y}<extra></extra>",
         "legendgroup": "",
         "line": {
          "color": "gray",
          "dash": "dot",
          "width": 1
         },
         "marker": {
          "symbol": "circle"
         },
         "mode": "lines",
         "name": "",
         "orientation": "v",
         "showlegend": false,
         "type": "scatter",
         "x": [
          1.4385000000000001,
          1.4385000000000001
         ],
         "xaxis": "x",
         "y": [
          18.48,
          12.5
         ],
         "yaxis": "y"
        },
        {
         "customdata": [
          [
           2,
           126.269508
          ],
          [
           50,
           116.530983
          ],
          [
           209,
           123.616066
          ],
          [
           291,
           148.107407
          ],
          [
           331,
           166.442978
          ],
          [
           114,
           135.313019
          ],
          [
           147,
           136.398071
          ],
          [
           240,
           167.093231
          ],
          [
           247,
           138.063553
          ],
          [
           262,
           169.817673
          ],
          [
           4,
           94.473465
          ],
          [
           126,
           132.793442
          ],
          [
           173,
           152.753952
          ],
          [
           289,
           126.525276
          ],
          [
           294,
           138.738632
          ],
          [
           192,
           108.578003
          ],
          [
           238,
           129.566254
          ],
          [
           260,
           140.661072
          ],
          [
           312,
           124.248093
          ]
         ],
         "hovertemplate": "Winner_Point=1<br>Bounce (x)=%{x}<br>Bounce (y)=%{y}<br>Point=%{customdata[0]}<br>Speed (KM/H)=%{customdata[1]}<extra></extra>",
         "legendgroup": "1",
         "marker": {
          "color": "green",
          "symbol": "circle"
         },
         "mode": "markers",
         "name": "1",
         "orientation": "v",
         "showlegend": false,
         "type": "scatter",
         "x": [
          -1.520172,
          -0.909234,
          -2.484974,
          -3.403809,
          -2.566319,
          -1.860378,
          -1.475042,
          -2.945682,
          -1.993362,
          -2.649774,
          3.153095,
          2.174993,
          0.654498,
          2.84808,
          0.523419,
          2.497412,
          2.120754,
          3.267937,
          3.340574
         ],
         "xaxis": "x",
         "y": [
          17.046173,
          17.137154,
          16.906673,
          16.941248,
          16.675621,
          16.54342,
          18.093047,
          17.043494000000003,
          17.089746,
          17.176335,
          18.288,
          17.005466,
          16.933117,
          16.217018,
          16.023249,
          16.958417,
          17.173981,
          16.370739,
          16.724678
         ],
         "yaxis": "y"
        },
        {
         "customdata": [
          [
           31,
           142.025299
          ],
          [
           107,
           147.999054
          ],
          [
           190,
           85.16597
          ],
          [
           194,
           136.039459
          ],
          [
           236,
           202.92749
          ],
          [
           252,
           144.974869
          ],
          [
           257,
           127.729301
          ],
          [
           268,
           70.584976
          ],
          [
           92,
           130.692291
          ],
          [
           168,
           134.158463
          ],
          [
           329,
           96.524864
          ],
          [
           34,
           149.150208
          ],
          [
           38,
           130.675079
          ],
          [
           68,
           155.280899
          ],
          [
           150,
           126.443092
          ],
          [
           196,
           null
          ],
          [
           265,
           147.525787
          ]
         ],
         "hovertemplate": "Winner_Point=2<br>Bounce (x)=%{x}<br>Bounce (y)=%{y}<br>Point=%{customdata[0]}<br>Speed (KM/H)=%{customdata[1]}<extra></extra>",
         "legendgroup": "2",
         "marker": {
          "color": "red",
          "symbol": "circle"
         },
         "mode": "markers",
         "name": "2",
         "orientation": "v",
         "showlegend": false,
         "type": "scatter",
         "x": [
          -0.964637,
          -0.899772,
          -0.435963,
          -1.362737,
          -1.236866,
          -2.448656,
          -1.932284,
          -0.968315,
          2.905081,
          2.333333333,
          2.687521,
          2.025458,
          1.190545,
          1.086047,
          3.792856,
          0.9,
          1.140924
         ],
         "xaxis": "x",
         "y": [
          17.093468,
          16.432888,
          17.60127,
          17.098958,
          17.441580000000002,
          17.793860000000002,
          17.664079,
          17.571849,
          16.687485,
          17.57,
          16.005131,
          16.051496,
          16.412475,
          17.131597,
          18.192394,
          17.560000000000002,
          17.815077000000002
         ],
         "yaxis": "y"
        }
       ],
       "layout": {
        "template": {
         "data": {
          "bar": [
           {
            "error_x": {
             "color": "#2a3f5f"
            },
            "error_y": {
             "color": "#2a3f5f"
            },
            "marker": {
             "line": {
              "color": "#E5ECF6",
              "width": 0.5
             },
             "pattern": {
              "fillmode": "overlay",
              "size": 10,
              "solidity": 0.2
             }
            },
            "type": "bar"
           }
          ],
          "barpolar": [
           {
            "marker": {
             "line": {
              "color": "#E5ECF6",
              "width": 0.5
             },
             "pattern": {
              "fillmode": "overlay",
              "size": 10,
              "solidity": 0.2
             }
            },
            "type": "barpolar"
           }
          ],
          "carpet": [
           {
            "aaxis": {
             "endlinecolor": "#2a3f5f",
             "gridcolor": "white",
             "linecolor": "white",
             "minorgridcolor": "white",
             "startlinecolor": "#2a3f5f"
            },
            "baxis": {
             "endlinecolor": "#2a3f5f",
             "gridcolor": "white",
             "linecolor": "white",
             "minorgridcolor": "white",
             "startlinecolor": "#2a3f5f"
            },
            "type": "carpet"
           }
          ],
          "choropleth": [
           {
            "colorbar": {
             "outlinewidth": 0,
             "ticks": ""
            },
            "type": "choropleth"
           }
          ],
          "contour": [
           {
            "colorbar": {
             "outlinewidth": 0,
             "ticks": ""
            },
            "colorscale": [
             [
              0,
              "#0d0887"
             ],
             [
              0.1111111111111111,
              "#46039f"
             ],
             [
              0.2222222222222222,
              "#7201a8"
             ],
             [
              0.3333333333333333,
              "#9c179e"
             ],
             [
              0.4444444444444444,
              "#bd3786"
             ],
             [
              0.5555555555555556,
              "#d8576b"
             ],
             [
              0.6666666666666666,
              "#ed7953"
             ],
             [
              0.7777777777777778,
              "#fb9f3a"
             ],
             [
              0.8888888888888888,
              "#fdca26"
             ],
             [
              1,
              "#f0f921"
             ]
            ],
            "type": "contour"
           }
          ],
          "contourcarpet": [
           {
            "colorbar": {
             "outlinewidth": 0,
             "ticks": ""
            },
            "type": "contourcarpet"
           }
          ],
          "heatmap": [
           {
            "colorbar": {
             "outlinewidth": 0,
             "ticks": ""
            },
            "colorscale": [
             [
              0,
              "#0d0887"
             ],
             [
              0.1111111111111111,
              "#46039f"
             ],
             [
              0.2222222222222222,
              "#7201a8"
             ],
             [
              0.3333333333333333,
              "#9c179e"
             ],
             [
              0.4444444444444444,
              "#bd3786"
             ],
             [
              0.5555555555555556,
              "#d8576b"
             ],
             [
              0.6666666666666666,
              "#ed7953"
             ],
             [
              0.7777777777777778,
              "#fb9f3a"
             ],
             [
              0.8888888888888888,
              "#fdca26"
             ],
             [
              1,
              "#f0f921"
             ]
            ],
            "type": "heatmap"
           }
          ],
          "heatmapgl": [
           {
            "colorbar": {
             "outlinewidth": 0,
             "ticks": ""
            },
            "colorscale": [
             [
              0,
              "#0d0887"
             ],
             [
              0.1111111111111111,
              "#46039f"
             ],
             [
              0.2222222222222222,
              "#7201a8"
             ],
             [
              0.3333333333333333,
              "#9c179e"
             ],
             [
              0.4444444444444444,
              "#bd3786"
             ],
             [
              0.5555555555555556,
              "#d8576b"
             ],
             [
              0.6666666666666666,
              "#ed7953"
             ],
             [
              0.7777777777777778,
              "#fb9f3a"
             ],
             [
              0.8888888888888888,
              "#fdca26"
             ],
             [
              1,
              "#f0f921"
             ]
            ],
            "type": "heatmapgl"
           }
          ],
          "histogram": [
           {
            "marker": {
             "pattern": {
              "fillmode": "overlay",
              "size": 10,
              "solidity": 0.2
             }
            },
            "type": "histogram"
           }
          ],
          "histogram2d": [
           {
            "colorbar": {
             "outlinewidth": 0,
             "ticks": ""
            },
            "colorscale": [
             [
              0,
              "#0d0887"
             ],
             [
              0.1111111111111111,
              "#46039f"
             ],
             [
              0.2222222222222222,
              "#7201a8"
             ],
             [
              0.3333333333333333,
              "#9c179e"
             ],
             [
              0.4444444444444444,
              "#bd3786"
             ],
             [
              0.5555555555555556,
              "#d8576b"
             ],
             [
              0.6666666666666666,
              "#ed7953"
             ],
             [
              0.7777777777777778,
              "#fb9f3a"
             ],
             [
              0.8888888888888888,
              "#fdca26"
             ],
             [
              1,
              "#f0f921"
             ]
            ],
            "type": "histogram2d"
           }
          ],
          "histogram2dcontour": [
           {
            "colorbar": {
             "outlinewidth": 0,
             "ticks": ""
            },
            "colorscale": [
             [
              0,
              "#0d0887"
             ],
             [
              0.1111111111111111,
              "#46039f"
             ],
             [
              0.2222222222222222,
              "#7201a8"
             ],
             [
              0.3333333333333333,
              "#9c179e"
             ],
             [
              0.4444444444444444,
              "#bd3786"
             ],
             [
              0.5555555555555556,
              "#d8576b"
             ],
             [
              0.6666666666666666,
              "#ed7953"
             ],
             [
              0.7777777777777778,
              "#fb9f3a"
             ],
             [
              0.8888888888888888,
              "#fdca26"
             ],
             [
              1,
              "#f0f921"
             ]
            ],
            "type": "histogram2dcontour"
           }
          ],
          "mesh3d": [
           {
            "colorbar": {
             "outlinewidth": 0,
             "ticks": ""
            },
            "type": "mesh3d"
           }
          ],
          "parcoords": [
           {
            "line": {
             "colorbar": {
              "outlinewidth": 0,
              "ticks": ""
             }
            },
            "type": "parcoords"
           }
          ],
          "pie": [
           {
            "automargin": true,
            "type": "pie"
           }
          ],
          "scatter": [
           {
            "marker": {
             "colorbar": {
              "outlinewidth": 0,
              "ticks": ""
             }
            },
            "type": "scatter"
           }
          ],
          "scatter3d": [
           {
            "line": {
             "colorbar": {
              "outlinewidth": 0,
              "ticks": ""
             }
            },
            "marker": {
             "colorbar": {
              "outlinewidth": 0,
              "ticks": ""
             }
            },
            "type": "scatter3d"
           }
          ],
          "scattercarpet": [
           {
            "marker": {
             "colorbar": {
              "outlinewidth": 0,
              "ticks": ""
             }
            },
            "type": "scattercarpet"
           }
          ],
          "scattergeo": [
           {
            "marker": {
             "colorbar": {
              "outlinewidth": 0,
              "ticks": ""
             }
            },
            "type": "scattergeo"
           }
          ],
          "scattergl": [
           {
            "marker": {
             "colorbar": {
              "outlinewidth": 0,
              "ticks": ""
             }
            },
            "type": "scattergl"
           }
          ],
          "scattermapbox": [
           {
            "marker": {
             "colorbar": {
              "outlinewidth": 0,
              "ticks": ""
             }
            },
            "type": "scattermapbox"
           }
          ],
          "scatterpolar": [
           {
            "marker": {
             "colorbar": {
              "outlinewidth": 0,
              "ticks": ""
             }
            },
            "type": "scatterpolar"
           }
          ],
          "scatterpolargl": [
           {
            "marker": {
             "colorbar": {
              "outlinewidth": 0,
              "ticks": ""
             }
            },
            "type": "scatterpolargl"
           }
          ],
          "scatterternary": [
           {
            "marker": {
             "colorbar": {
              "outlinewidth": 0,
              "ticks": ""
             }
            },
            "type": "scatterternary"
           }
          ],
          "surface": [
           {
            "colorbar": {
             "outlinewidth": 0,
             "ticks": ""
            },
            "colorscale": [
             [
              0,
              "#0d0887"
             ],
             [
              0.1111111111111111,
              "#46039f"
             ],
             [
              0.2222222222222222,
              "#7201a8"
             ],
             [
              0.3333333333333333,
              "#9c179e"
             ],
             [
              0.4444444444444444,
              "#bd3786"
             ],
             [
              0.5555555555555556,
              "#d8576b"
             ],
             [
              0.6666666666666666,
              "#ed7953"
             ],
             [
              0.7777777777777778,
              "#fb9f3a"
             ],
             [
              0.8888888888888888,
              "#fdca26"
             ],
             [
              1,
              "#f0f921"
             ]
            ],
            "type": "surface"
           }
          ],
          "table": [
           {
            "cells": {
             "fill": {
              "color": "#EBF0F8"
             },
             "line": {
              "color": "white"
             }
            },
            "header": {
             "fill": {
              "color": "#C8D4E3"
             },
             "line": {
              "color": "white"
             }
            },
            "type": "table"
           }
          ]
         },
         "layout": {
          "annotationdefaults": {
           "arrowcolor": "#2a3f5f",
           "arrowhead": 0,
           "arrowwidth": 1
          },
          "autotypenumbers": "strict",
          "coloraxis": {
           "colorbar": {
            "outlinewidth": 0,
            "ticks": ""
           }
          },
          "colorscale": {
           "diverging": [
            [
             0,
             "#8e0152"
            ],
            [
             0.1,
             "#c51b7d"
            ],
            [
             0.2,
             "#de77ae"
            ],
            [
             0.3,
             "#f1b6da"
            ],
            [
             0.4,
             "#fde0ef"
            ],
            [
             0.5,
             "#f7f7f7"
            ],
            [
             0.6,
             "#e6f5d0"
            ],
            [
             0.7,
             "#b8e186"
            ],
            [
             0.8,
             "#7fbc41"
            ],
            [
             0.9,
             "#4d9221"
            ],
            [
             1,
             "#276419"
            ]
           ],
           "sequential": [
            [
             0,
             "#0d0887"
            ],
            [
             0.1111111111111111,
             "#46039f"
            ],
            [
             0.2222222222222222,
             "#7201a8"
            ],
            [
             0.3333333333333333,
             "#9c179e"
            ],
            [
             0.4444444444444444,
             "#bd3786"
            ],
            [
             0.5555555555555556,
             "#d8576b"
            ],
            [
             0.6666666666666666,
             "#ed7953"
            ],
            [
             0.7777777777777778,
             "#fb9f3a"
            ],
            [
             0.8888888888888888,
             "#fdca26"
            ],
            [
             1,
             "#f0f921"
            ]
           ],
           "sequentialminus": [
            [
             0,
             "#0d0887"
            ],
            [
             0.1111111111111111,
             "#46039f"
            ],
            [
             0.2222222222222222,
             "#7201a8"
            ],
            [
             0.3333333333333333,
             "#9c179e"
            ],
            [
             0.4444444444444444,
             "#bd3786"
            ],
            [
             0.5555555555555556,
             "#d8576b"
            ],
            [
             0.6666666666666666,
             "#ed7953"
            ],
            [
             0.7777777777777778,
             "#fb9f3a"
            ],
            [
             0.8888888888888888,
             "#fdca26"
            ],
            [
             1,
             "#f0f921"
            ]
           ]
          },
          "colorway": [
           "#636efa",
           "#EF553B",
           "#00cc96",
           "#ab63fa",
           "#FFA15A",
           "#19d3f3",
           "#FF6692",
           "#B6E880",
           "#FF97FF",
           "#FECB52"
          ],
          "font": {
           "color": "#2a3f5f"
          },
          "geo": {
           "bgcolor": "white",
           "lakecolor": "white",
           "landcolor": "#E5ECF6",
           "showlakes": true,
           "showland": true,
           "subunitcolor": "white"
          },
          "hoverlabel": {
           "align": "left"
          },
          "hovermode": "closest",
          "mapbox": {
           "style": "light"
          },
          "paper_bgcolor": "white",
          "plot_bgcolor": "#E5ECF6",
          "polar": {
           "angularaxis": {
            "gridcolor": "white",
            "linecolor": "white",
            "ticks": ""
           },
           "bgcolor": "#E5ECF6",
           "radialaxis": {
            "gridcolor": "white",
            "linecolor": "white",
            "ticks": ""
           }
          },
          "scene": {
           "xaxis": {
            "backgroundcolor": "#E5ECF6",
            "gridcolor": "white",
            "gridwidth": 2,
            "linecolor": "white",
            "showbackground": true,
            "ticks": "",
            "zerolinecolor": "white"
           },
           "yaxis": {
            "backgroundcolor": "#E5ECF6",
            "gridcolor": "white",
            "gridwidth": 2,
            "linecolor": "white",
            "showbackground": true,
            "ticks": "",
            "zerolinecolor": "white"
           },
           "zaxis": {
            "backgroundcolor": "#E5ECF6",
            "gridcolor": "white",
            "gridwidth": 2,
            "linecolor": "white",
            "showbackground": true,
            "ticks": "",
            "zerolinecolor": "white"
           }
          },
          "shapedefaults": {
           "line": {
            "color": "#2a3f5f"
           }
          },
          "ternary": {
           "aaxis": {
            "gridcolor": "white",
            "linecolor": "white",
            "ticks": ""
           },
           "baxis": {
            "gridcolor": "white",
            "linecolor": "white",
            "ticks": ""
           },
           "bgcolor": "#E5ECF6",
           "caxis": {
            "gridcolor": "white",
            "linecolor": "white",
            "ticks": ""
           }
          },
          "title": {
           "x": 0.05
          },
          "xaxis": {
           "automargin": true,
           "gridcolor": "white",
           "linecolor": "white",
           "ticks": "",
           "title": {
            "standoff": 15
           },
           "zerolinecolor": "white",
           "zerolinewidth": 2
          },
          "yaxis": {
           "automargin": true,
           "gridcolor": "white",
           "linecolor": "white",
           "ticks": "",
           "title": {
            "standoff": 15
           },
           "zerolinecolor": "white",
           "zerolinewidth": 2
          }
         }
        },
        "title": {
         "text": "Pospisil 2nd serves hitting zones and points won/lost"
        },
        "xaxis": {
         "range": [
          -5,
          5
         ],
         "scaleanchor": "y",
         "scaleratio": 1.5,
         "showgrid": false,
         "showticklabels": false
        },
        "yaxis": {
         "range": [
          -0.4,
          24
         ],
         "showgrid": false,
         "showticklabels": false
        }
       }
      },
      "text/html": [
       "<div>                            <div id=\"ff25af04-046b-44f3-b264-c85806612d2f\" class=\"plotly-graph-div\" style=\"height:525px; width:100%;\"></div>            <script type=\"text/javascript\">                require([\"plotly\"], function(Plotly) {                    window.PLOTLYENV=window.PLOTLYENV || {};                                    if (document.getElementById(\"ff25af04-046b-44f3-b264-c85806612d2f\")) {                    Plotly.newPlot(                        \"ff25af04-046b-44f3-b264-c85806612d2f\",                        [{\"line\":{\"color\":\"white\"},\"mode\":\"lines\",\"x\":[-5.48,-5.48,5.48,5.48],\"y\":[0,23.73,23.73,0],\"type\":\"scatter\",\"showlegend\":false},{\"line\":{\"color\":\"white\"},\"mode\":\"lines\",\"x\":[-4.11,-4.11,4.11,4.11],\"y\":[0,23.73,23.73,0],\"type\":\"scatter\",\"showlegend\":false},{\"line\":{\"color\":\"white\"},\"mode\":\"lines\",\"x\":[-4.11,-4.11,4.11,4.11],\"y\":[0,11.88,11.88,0],\"type\":\"scatter\",\"showlegend\":false},{\"line\":{\"color\":\"white\"},\"mode\":\"lines\",\"x\":[-4.11,-4.11,4.11,4.11],\"y\":[0,5.48,5.48,0],\"type\":\"scatter\",\"showlegend\":false},{\"line\":{\"color\":\"white\"},\"mode\":\"lines\",\"x\":[-4.11,-4.11,4.11,4.11],\"y\":[0,12.08,12.08,0],\"type\":\"scatter\",\"showlegend\":false},{\"line\":{\"color\":\"white\"},\"mode\":\"lines\",\"x\":[-4.11,-4.11,4.11,4.11],\"y\":[0,18.48,18.48,0],\"type\":\"scatter\",\"showlegend\":false},{\"hovertemplate\":\"x=%{x}<br>y=%{y}<extra></extra>\",\"legendgroup\":\"\",\"line\":{\"color\":\"gray\",\"dash\":\"dot\",\"width\":1},\"marker\":{\"symbol\":\"circle\"},\"mode\":\"lines\",\"name\":\"\",\"orientation\":\"v\",\"showlegend\":false,\"x\":[-2.6715,-2.6715],\"xaxis\":\"x\",\"y\":[18.48,12.5],\"yaxis\":\"y\",\"type\":\"scatter\"},{\"hovertemplate\":\"x=%{x}<br>y=%{y}<extra></extra>\",\"legendgroup\":\"\",\"line\":{\"color\":\"gray\",\"dash\":\"dot\",\"width\":1},\"marker\":{\"symbol\":\"circle\"},\"mode\":\"lines\",\"name\":\"\",\"orientation\":\"v\",\"showlegend\":false,\"x\":[-1.4385000000000001,-1.4385000000000001],\"xaxis\":\"x\",\"y\":[18.48,12.5],\"yaxis\":\"y\",\"type\":\"scatter\"},{\"hovertemplate\":\"x=%{x}<br>y=%{y}<extra></extra>\",\"legendgroup\":\"\",\"line\":{\"color\":\"gray\",\"dash\":\"dot\",\"width\":1},\"marker\":{\"symbol\":\"circle\"},\"mode\":\"lines\",\"name\":\"\",\"orientation\":\"v\",\"showlegend\":false,\"x\":[2.6715,2.6715],\"xaxis\":\"x\",\"y\":[18.48,12.5],\"yaxis\":\"y\",\"type\":\"scatter\"},{\"hovertemplate\":\"x=%{x}<br>y=%{y}<extra></extra>\",\"legendgroup\":\"\",\"line\":{\"color\":\"gray\",\"dash\":\"dot\",\"width\":1},\"marker\":{\"symbol\":\"circle\"},\"mode\":\"lines\",\"name\":\"\",\"orientation\":\"v\",\"showlegend\":false,\"x\":[1.4385000000000001,1.4385000000000001],\"xaxis\":\"x\",\"y\":[18.48,12.5],\"yaxis\":\"y\",\"type\":\"scatter\"},{\"customdata\":[[2.0,126.269508],[50.0,116.530983],[209.0,123.616066],[291.0,148.107407],[331.0,166.442978],[114.0,135.313019],[147.0,136.398071],[240.0,167.093231],[247.0,138.063553],[262.0,169.817673],[4.0,94.473465],[126.0,132.793442],[173.0,152.753952],[289.0,126.525276],[294.0,138.738632],[192.0,108.578003],[238.0,129.566254],[260.0,140.661072],[312.0,124.248093]],\"hovertemplate\":\"Winner_Point=1<br>Bounce (x)=%{x}<br>Bounce (y)=%{y}<br>Point=%{customdata[0]}<br>Speed (KM/H)=%{customdata[1]}<extra></extra>\",\"legendgroup\":\"1\",\"marker\":{\"color\":\"green\",\"symbol\":\"circle\"},\"mode\":\"markers\",\"name\":\"1\",\"orientation\":\"v\",\"showlegend\":false,\"x\":[-1.520172,-0.909234,-2.484974,-3.403809,-2.566319,-1.860378,-1.475042,-2.945682,-1.993362,-2.649774,3.153095,2.174993,0.654498,2.84808,0.523419,2.497412,2.120754,3.267937,3.340574],\"xaxis\":\"x\",\"y\":[17.046173,17.137154,16.906673,16.941248,16.675621,16.54342,18.093047,17.043494000000003,17.089746,17.176335,18.288,17.005466,16.933117,16.217018,16.023249,16.958417,17.173981,16.370739,16.724678],\"yaxis\":\"y\",\"type\":\"scatter\"},{\"customdata\":[[31.0,142.025299],[107.0,147.999054],[190.0,85.16597],[194.0,136.039459],[236.0,202.92749],[252.0,144.974869],[257.0,127.729301],[268.0,70.584976],[92.0,130.692291],[168.0,134.158463],[329.0,96.524864],[34.0,149.150208],[38.0,130.675079],[68.0,155.280899],[150.0,126.443092],[196.0,null],[265.0,147.525787]],\"hovertemplate\":\"Winner_Point=2<br>Bounce (x)=%{x}<br>Bounce (y)=%{y}<br>Point=%{customdata[0]}<br>Speed (KM/H)=%{customdata[1]}<extra></extra>\",\"legendgroup\":\"2\",\"marker\":{\"color\":\"red\",\"symbol\":\"circle\"},\"mode\":\"markers\",\"name\":\"2\",\"orientation\":\"v\",\"showlegend\":false,\"x\":[-0.964637,-0.899772,-0.435963,-1.362737,-1.236866,-2.448656,-1.932284,-0.968315,2.905081,2.333333333,2.687521,2.025458,1.190545,1.086047,3.792856,0.9,1.140924],\"xaxis\":\"x\",\"y\":[17.093468,16.432888,17.60127,17.098958,17.441580000000002,17.793860000000002,17.664079,17.571849,16.687485,17.57,16.005131,16.051496,16.412475,17.131597,18.192394,17.560000000000002,17.815077000000002],\"yaxis\":\"y\",\"type\":\"scatter\"}],                        {\"template\":{\"data\":{\"bar\":[{\"error_x\":{\"color\":\"#2a3f5f\"},\"error_y\":{\"color\":\"#2a3f5f\"},\"marker\":{\"line\":{\"color\":\"#E5ECF6\",\"width\":0.5},\"pattern\":{\"fillmode\":\"overlay\",\"size\":10,\"solidity\":0.2}},\"type\":\"bar\"}],\"barpolar\":[{\"marker\":{\"line\":{\"color\":\"#E5ECF6\",\"width\":0.5},\"pattern\":{\"fillmode\":\"overlay\",\"size\":10,\"solidity\":0.2}},\"type\":\"barpolar\"}],\"carpet\":[{\"aaxis\":{\"endlinecolor\":\"#2a3f5f\",\"gridcolor\":\"white\",\"linecolor\":\"white\",\"minorgridcolor\":\"white\",\"startlinecolor\":\"#2a3f5f\"},\"baxis\":{\"endlinecolor\":\"#2a3f5f\",\"gridcolor\":\"white\",\"linecolor\":\"white\",\"minorgridcolor\":\"white\",\"startlinecolor\":\"#2a3f5f\"},\"type\":\"carpet\"}],\"choropleth\":[{\"colorbar\":{\"outlinewidth\":0,\"ticks\":\"\"},\"type\":\"choropleth\"}],\"contour\":[{\"colorbar\":{\"outlinewidth\":0,\"ticks\":\"\"},\"colorscale\":[[0.0,\"#0d0887\"],[0.1111111111111111,\"#46039f\"],[0.2222222222222222,\"#7201a8\"],[0.3333333333333333,\"#9c179e\"],[0.4444444444444444,\"#bd3786\"],[0.5555555555555556,\"#d8576b\"],[0.6666666666666666,\"#ed7953\"],[0.7777777777777778,\"#fb9f3a\"],[0.8888888888888888,\"#fdca26\"],[1.0,\"#f0f921\"]],\"type\":\"contour\"}],\"contourcarpet\":[{\"colorbar\":{\"outlinewidth\":0,\"ticks\":\"\"},\"type\":\"contourcarpet\"}],\"heatmap\":[{\"colorbar\":{\"outlinewidth\":0,\"ticks\":\"\"},\"colorscale\":[[0.0,\"#0d0887\"],[0.1111111111111111,\"#46039f\"],[0.2222222222222222,\"#7201a8\"],[0.3333333333333333,\"#9c179e\"],[0.4444444444444444,\"#bd3786\"],[0.5555555555555556,\"#d8576b\"],[0.6666666666666666,\"#ed7953\"],[0.7777777777777778,\"#fb9f3a\"],[0.8888888888888888,\"#fdca26\"],[1.0,\"#f0f921\"]],\"type\":\"heatmap\"}],\"heatmapgl\":[{\"colorbar\":{\"outlinewidth\":0,\"ticks\":\"\"},\"colorscale\":[[0.0,\"#0d0887\"],[0.1111111111111111,\"#46039f\"],[0.2222222222222222,\"#7201a8\"],[0.3333333333333333,\"#9c179e\"],[0.4444444444444444,\"#bd3786\"],[0.5555555555555556,\"#d8576b\"],[0.6666666666666666,\"#ed7953\"],[0.7777777777777778,\"#fb9f3a\"],[0.8888888888888888,\"#fdca26\"],[1.0,\"#f0f921\"]],\"type\":\"heatmapgl\"}],\"histogram\":[{\"marker\":{\"pattern\":{\"fillmode\":\"overlay\",\"size\":10,\"solidity\":0.2}},\"type\":\"histogram\"}],\"histogram2d\":[{\"colorbar\":{\"outlinewidth\":0,\"ticks\":\"\"},\"colorscale\":[[0.0,\"#0d0887\"],[0.1111111111111111,\"#46039f\"],[0.2222222222222222,\"#7201a8\"],[0.3333333333333333,\"#9c179e\"],[0.4444444444444444,\"#bd3786\"],[0.5555555555555556,\"#d8576b\"],[0.6666666666666666,\"#ed7953\"],[0.7777777777777778,\"#fb9f3a\"],[0.8888888888888888,\"#fdca26\"],[1.0,\"#f0f921\"]],\"type\":\"histogram2d\"}],\"histogram2dcontour\":[{\"colorbar\":{\"outlinewidth\":0,\"ticks\":\"\"},\"colorscale\":[[0.0,\"#0d0887\"],[0.1111111111111111,\"#46039f\"],[0.2222222222222222,\"#7201a8\"],[0.3333333333333333,\"#9c179e\"],[0.4444444444444444,\"#bd3786\"],[0.5555555555555556,\"#d8576b\"],[0.6666666666666666,\"#ed7953\"],[0.7777777777777778,\"#fb9f3a\"],[0.8888888888888888,\"#fdca26\"],[1.0,\"#f0f921\"]],\"type\":\"histogram2dcontour\"}],\"mesh3d\":[{\"colorbar\":{\"outlinewidth\":0,\"ticks\":\"\"},\"type\":\"mesh3d\"}],\"parcoords\":[{\"line\":{\"colorbar\":{\"outlinewidth\":0,\"ticks\":\"\"}},\"type\":\"parcoords\"}],\"pie\":[{\"automargin\":true,\"type\":\"pie\"}],\"scatter\":[{\"marker\":{\"colorbar\":{\"outlinewidth\":0,\"ticks\":\"\"}},\"type\":\"scatter\"}],\"scatter3d\":[{\"line\":{\"colorbar\":{\"outlinewidth\":0,\"ticks\":\"\"}},\"marker\":{\"colorbar\":{\"outlinewidth\":0,\"ticks\":\"\"}},\"type\":\"scatter3d\"}],\"scattercarpet\":[{\"marker\":{\"colorbar\":{\"outlinewidth\":0,\"ticks\":\"\"}},\"type\":\"scattercarpet\"}],\"scattergeo\":[{\"marker\":{\"colorbar\":{\"outlinewidth\":0,\"ticks\":\"\"}},\"type\":\"scattergeo\"}],\"scattergl\":[{\"marker\":{\"colorbar\":{\"outlinewidth\":0,\"ticks\":\"\"}},\"type\":\"scattergl\"}],\"scattermapbox\":[{\"marker\":{\"colorbar\":{\"outlinewidth\":0,\"ticks\":\"\"}},\"type\":\"scattermapbox\"}],\"scatterpolar\":[{\"marker\":{\"colorbar\":{\"outlinewidth\":0,\"ticks\":\"\"}},\"type\":\"scatterpolar\"}],\"scatterpolargl\":[{\"marker\":{\"colorbar\":{\"outlinewidth\":0,\"ticks\":\"\"}},\"type\":\"scatterpolargl\"}],\"scatterternary\":[{\"marker\":{\"colorbar\":{\"outlinewidth\":0,\"ticks\":\"\"}},\"type\":\"scatterternary\"}],\"surface\":[{\"colorbar\":{\"outlinewidth\":0,\"ticks\":\"\"},\"colorscale\":[[0.0,\"#0d0887\"],[0.1111111111111111,\"#46039f\"],[0.2222222222222222,\"#7201a8\"],[0.3333333333333333,\"#9c179e\"],[0.4444444444444444,\"#bd3786\"],[0.5555555555555556,\"#d8576b\"],[0.6666666666666666,\"#ed7953\"],[0.7777777777777778,\"#fb9f3a\"],[0.8888888888888888,\"#fdca26\"],[1.0,\"#f0f921\"]],\"type\":\"surface\"}],\"table\":[{\"cells\":{\"fill\":{\"color\":\"#EBF0F8\"},\"line\":{\"color\":\"white\"}},\"header\":{\"fill\":{\"color\":\"#C8D4E3\"},\"line\":{\"color\":\"white\"}},\"type\":\"table\"}]},\"layout\":{\"annotationdefaults\":{\"arrowcolor\":\"#2a3f5f\",\"arrowhead\":0,\"arrowwidth\":1},\"autotypenumbers\":\"strict\",\"coloraxis\":{\"colorbar\":{\"outlinewidth\":0,\"ticks\":\"\"}},\"colorscale\":{\"diverging\":[[0,\"#8e0152\"],[0.1,\"#c51b7d\"],[0.2,\"#de77ae\"],[0.3,\"#f1b6da\"],[0.4,\"#fde0ef\"],[0.5,\"#f7f7f7\"],[0.6,\"#e6f5d0\"],[0.7,\"#b8e186\"],[0.8,\"#7fbc41\"],[0.9,\"#4d9221\"],[1,\"#276419\"]],\"sequential\":[[0.0,\"#0d0887\"],[0.1111111111111111,\"#46039f\"],[0.2222222222222222,\"#7201a8\"],[0.3333333333333333,\"#9c179e\"],[0.4444444444444444,\"#bd3786\"],[0.5555555555555556,\"#d8576b\"],[0.6666666666666666,\"#ed7953\"],[0.7777777777777778,\"#fb9f3a\"],[0.8888888888888888,\"#fdca26\"],[1.0,\"#f0f921\"]],\"sequentialminus\":[[0.0,\"#0d0887\"],[0.1111111111111111,\"#46039f\"],[0.2222222222222222,\"#7201a8\"],[0.3333333333333333,\"#9c179e\"],[0.4444444444444444,\"#bd3786\"],[0.5555555555555556,\"#d8576b\"],[0.6666666666666666,\"#ed7953\"],[0.7777777777777778,\"#fb9f3a\"],[0.8888888888888888,\"#fdca26\"],[1.0,\"#f0f921\"]]},\"colorway\":[\"#636efa\",\"#EF553B\",\"#00cc96\",\"#ab63fa\",\"#FFA15A\",\"#19d3f3\",\"#FF6692\",\"#B6E880\",\"#FF97FF\",\"#FECB52\"],\"font\":{\"color\":\"#2a3f5f\"},\"geo\":{\"bgcolor\":\"white\",\"lakecolor\":\"white\",\"landcolor\":\"#E5ECF6\",\"showlakes\":true,\"showland\":true,\"subunitcolor\":\"white\"},\"hoverlabel\":{\"align\":\"left\"},\"hovermode\":\"closest\",\"mapbox\":{\"style\":\"light\"},\"paper_bgcolor\":\"white\",\"plot_bgcolor\":\"#E5ECF6\",\"polar\":{\"angularaxis\":{\"gridcolor\":\"white\",\"linecolor\":\"white\",\"ticks\":\"\"},\"bgcolor\":\"#E5ECF6\",\"radialaxis\":{\"gridcolor\":\"white\",\"linecolor\":\"white\",\"ticks\":\"\"}},\"scene\":{\"xaxis\":{\"backgroundcolor\":\"#E5ECF6\",\"gridcolor\":\"white\",\"gridwidth\":2,\"linecolor\":\"white\",\"showbackground\":true,\"ticks\":\"\",\"zerolinecolor\":\"white\"},\"yaxis\":{\"backgroundcolor\":\"#E5ECF6\",\"gridcolor\":\"white\",\"gridwidth\":2,\"linecolor\":\"white\",\"showbackground\":true,\"ticks\":\"\",\"zerolinecolor\":\"white\"},\"zaxis\":{\"backgroundcolor\":\"#E5ECF6\",\"gridcolor\":\"white\",\"gridwidth\":2,\"linecolor\":\"white\",\"showbackground\":true,\"ticks\":\"\",\"zerolinecolor\":\"white\"}},\"shapedefaults\":{\"line\":{\"color\":\"#2a3f5f\"}},\"ternary\":{\"aaxis\":{\"gridcolor\":\"white\",\"linecolor\":\"white\",\"ticks\":\"\"},\"baxis\":{\"gridcolor\":\"white\",\"linecolor\":\"white\",\"ticks\":\"\"},\"bgcolor\":\"#E5ECF6\",\"caxis\":{\"gridcolor\":\"white\",\"linecolor\":\"white\",\"ticks\":\"\"}},\"title\":{\"x\":0.05},\"xaxis\":{\"automargin\":true,\"gridcolor\":\"white\",\"linecolor\":\"white\",\"ticks\":\"\",\"title\":{\"standoff\":15},\"zerolinecolor\":\"white\",\"zerolinewidth\":2},\"yaxis\":{\"automargin\":true,\"gridcolor\":\"white\",\"linecolor\":\"white\",\"ticks\":\"\",\"title\":{\"standoff\":15},\"zerolinecolor\":\"white\",\"zerolinewidth\":2}}},\"xaxis\":{\"scaleanchor\":\"y\",\"scaleratio\":1.5,\"showgrid\":false,\"range\":[-5,5],\"showticklabels\":false},\"yaxis\":{\"showgrid\":false,\"range\":[-0.4,24],\"showticklabels\":false},\"title\":{\"text\":\"Pospisil 2nd serves hitting zones and points won/lost\"}},                        {\"responsive\": true}                    ).then(function(){\n",
       "                            \n",
       "var gd = document.getElementById('ff25af04-046b-44f3-b264-c85806612d2f');\n",
       "var x = new MutationObserver(function (mutations, observer) {{\n",
       "        var display = window.getComputedStyle(gd).display;\n",
       "        if (!display || display === 'none') {{\n",
       "            console.log([gd, 'removed!']);\n",
       "            Plotly.purge(gd);\n",
       "            observer.disconnect();\n",
       "        }}\n",
       "}});\n",
       "\n",
       "// Listen for the removal of the full notebook cells\n",
       "var notebookContainer = gd.closest('#notebook-container');\n",
       "if (notebookContainer) {{\n",
       "    x.observe(notebookContainer, {childList: true});\n",
       "}}\n",
       "\n",
       "// Listen for the clearing of the current output cell\n",
       "var outputEl = gd.closest('.output');\n",
       "if (outputEl) {{\n",
       "    x.observe(outputEl, {childList: true});\n",
       "}}\n",
       "\n",
       "                        })                };                });            </script>        </div>"
      ]
     },
     "metadata": {},
     "output_type": "display_data"
    }
   ],
   "source": [
    "\n",
    "def trace_point(df, name1, name2, index_point, shot=None, x_new=None, y_new=None):\n",
    "    # print(\"trace_point \" + str(current_point))\n",
    "    fig1 = trace_court([-7, 7], [-5, 30])\n",
    "    df_temp = df\n",
    "    # trace all net shots to end into the net\n",
    "    df_temp.loc[\n",
    "        (df[\"Result\"] == \"Net\") & (df[\"Point\"] == index_point), \"Bounce (y)\"\n",
    "    ] = 11.88\n",
    "    if shot is None:\n",
    "        df_point = df_temp[\n",
    "            (df_temp[\"Point\"] == index_point) & (df_temp[\"Shot\"] > 0)\n",
    "        ].sort_values(by=\"Shot\")\n",
    "    else:\n",
    "        df_point = df_temp[\n",
    "            (df_temp[\"Point\"] == index_point)\n",
    "            & (df_temp[\"Shot\"] <= shot + 1)\n",
    "            & (df_temp[\"Shot\"] >= shot - 1)\n",
    "        ].sort_values(by=\"Shot\")\n",
    "    last_shot = None\n",
    "    fig4 = None\n",
    "\n",
    "    # \"LAST SHOT\"\n",
    "    if len(df_point) > 0:\n",
    "        # trace a line from last hit position to last bounce to display the last shot\n",
    "        last_shot = df_point.iloc[-1]\n",
    "        # print(last_shot[\"Hit (x)\"])\n",
    "        df2 = pd.DataFrame(\n",
    "            dict(\n",
    "                x=[last_shot[\"Hit (x)\"], last_shot[\"Bounce (x)\"]],\n",
    "                y=[last_shot[\"Hit (y)\"], last_shot[\"Bounce (y)\"]],\n",
    "            )\n",
    "        )\n",
    "        df2[\"Text\"] = \"\"  # last_shot[\"Shot\"]\n",
    "        # df2[\"Text\"]=[\"   \"+ s for s in df2[\"Text\"]]\n",
    "        # df2.loc[:,\"Text\"]=('    ' + df['Text'])\n",
    "        fig4 = px.line(df2, x=\"x\", y=\"y\", text=\"Text\")\n",
    "        color = \"red\"\n",
    "        if last_shot[\"Result\"] == \"In\":\n",
    "            color = \"green\"\n",
    "        fig4.update_traces(patch={\"line\": {\"width\": 2, \"dash\": \"dot\", \"color\": color}})\n",
    "\n",
    "    # Figure HIT POSITION\n",
    "    fig2 = px.scatter(\n",
    "        df_point,\n",
    "        x=\"Hit (x)\",\n",
    "        y=\"Hit (y)\",\n",
    "        text=\"Shot\"  # , color=\"Player\"\n",
    "        # , symbol=\"Stroke\"\n",
    "        # , animation_frame=\"Shot\"#, animation_group=\"Player\"\n",
    "        # , textposition='top right',textfont=dict(color='#E58606')\n",
    "        # , symbol=\"Spin\"\n",
    "        # , trendline='ols',trendline_color_override='red'\n",
    "        # , marginal_y=\"rug\"\n",
    "        # , marginal_x=\"histogram\"\n",
    "        # , facet_col=\"Winner_Point\"#, facet_row=\"time\"\n",
    "        ,\n",
    "        color_discrete_map={\"Player\": \"green\", \"Opponent\": \"red\"},\n",
    "        hover_data=[\"Shot\", \"Stroke\"],\n",
    "    )\n",
    "\n",
    "    fig2.for_each_trace(\n",
    "        lambda t: t.update(\n",
    "            mode=\"lines+markers+text\",\n",
    "            textposition=\"middle right\",\n",
    "            textfont=dict(size=10, color=\"gray\"),\n",
    "        )\n",
    "    )\n",
    "    for fr in fig2.frames:\n",
    "        for d in fr.data:\n",
    "            d.update(\n",
    "                mode=\"markers+lines+text\",\n",
    "                textposition=\"middle right\",\n",
    "                textfont=dict(size=10, color=\"gray\"),\n",
    "            )\n",
    "    fig2.update_traces(patch={\"line\": {\"width\": 1, \"dash\": \"dot\"}})\n",
    "    \"\"\"marker_symbol=[1,101], \"\"\"\n",
    "\n",
    "    # FIG BOUNCE\n",
    "    fig3 = px.scatter(\n",
    "        df_point,\n",
    "        x=\"Bounce (x)\",\n",
    "        y=\"Bounce (y)\",\n",
    "        color=\"Result\"\n",
    "        # , trendline='ols',trendline_color_override='red'\n",
    "        # , marginal_y=\"rug\"\n",
    "        # , marginal_x=\"histogram\"\n",
    "        # , facet_col=\"Winner_Point\"#, facet_row=\"time\"\n",
    "        ,\n",
    "        color_discrete_map={\"Net\": \"black\", \"In\": \"orange\", \"Out\": \"black\"},\n",
    "        hover_data=[\"Shot\"],\n",
    "        text=\"Shot\",\n",
    "    )\n",
    "    fig3.for_each_trace(\n",
    "        lambda t: t.update(\n",
    "            mode=\"markers+text\",\n",
    "            textposition=\"middle right\",\n",
    "            textfont=dict(size=9, color=\"gray\"),\n",
    "        )\n",
    "    )\n",
    "\n",
    "    # add NEW POINT\n",
    "    fig5 = None\n",
    "    if x_new is not None:\n",
    "        df3 = pd.DataFrame(dict(x=[x_new], y=[y_new], text=\"NEW\"))\n",
    "        fig5 = px.scatter(df3, x=\"x\", y=\"y\", text=\"text\")\n",
    "\n",
    "    if fig4 is not None:\n",
    "        if fig5 is not None:\n",
    "            fig = go.Figure(\n",
    "                data=fig1.data + fig2.data + fig3.data + fig4.data + fig5.data\n",
    "            )\n",
    "        else:\n",
    "            fig = go.Figure(data=fig1.data + fig2.data + fig3.data + fig4.data)\n",
    "    else:\n",
    "        if fig5 is not None:\n",
    "            fig = go.Figure(data=fig1.data + fig2.data + fig3.data + fig5.data)\n",
    "        else:\n",
    "            fig = go.Figure(data=fig1.data + fig2.data + fig3.data)\n",
    "    # fig.update_layout(title=\"Serves P1 (point size represents Speed)\")\n",
    "    fig.update_xaxes(\n",
    "        scaleanchor=\"y\",\n",
    "        scaleratio=3,\n",
    "    )\n",
    "    fig.update_layout(xaxis_range=[-5, 5], yaxis_range=[-4, 11.88 * 2 + 4])\n",
    "    fig.update_layout(\n",
    "        xaxis=dict(showgrid=False),\n",
    "        yaxis=dict(showgrid=False),\n",
    "        autosize=False,\n",
    "        width=850,\n",
    "        height=400,\n",
    "    )\n",
    "    f = go.FigureWidget(fig)\n",
    "\n",
    "    # add ANNOTATION with name player\n",
    "    if len(df_point) > 0:\n",
    "        first_shot = df_point.iloc[0]\n",
    "        x = 6\n",
    "        if first_shot[\"Hit Zone\"] == \"deuce\" and first_shot[\"Hit Side\"] == \"far\":\n",
    "            x = -6\n",
    "        if first_shot[\"Hit Zone\"] == \"ad\" and first_shot[\"Hit Side\"] == \"near\":\n",
    "            x = -6\n",
    "        y = -1.5\n",
    "        if first_shot[\"Hit Side\"] == \"far\":\n",
    "            y = 25.5\n",
    "        name_p_temp = name1\n",
    "        if first_shot[\"Player\"] == \"Opponent\":\n",
    "            name_p_temp = name2\n",
    "        name_p_temp = name_p_temp[0:6]\n",
    "        f.add_annotation(\n",
    "            x=x, y=y, text=name_p_temp, showarrow=False  # arrows' head  # arrows' head\n",
    "        )\n",
    "\n",
    "    \"\"\"scatter = f.data[-1]\n",
    "    #print(scatter)\n",
    "    colors = ['#a3a7e4'] * 100\n",
    "    scatter.marker.color = colors\n",
    "    scatter.marker.size = [10] * 100\n",
    "    f.layout.hovermode = 'closest'\n",
    "\n",
    "\n",
    "    # create our callback function\n",
    "    def update_point(trace, points, selector):\n",
    "        #print(\"click\")\n",
    "        c = list(scatter.marker.color)\n",
    "        s = list(scatter.marker.size)\n",
    "        for i in points.point_inds:\n",
    "            c[i] = '#bae2be'\n",
    "            s[i] = 50\n",
    "            with f.batch_update():\n",
    "                scatter.marker.color = c\n",
    "                scatter.marker.size = s\n",
    "\n",
    "\n",
    "    scatter.on_click(update_point)\"\"\"\n",
    "\n",
    "    f\n",
    "\n",
    "    f.show()\n",
    "\n",
    "\n",
    "def trace_serve_3areas():\n",
    "    a=0.35\n",
    "    b=0.3\n",
    "    c=0.35\n",
    "    fig2_1 = px.line(x=[-4.11 * (a+b), -4.11 * (a+b)], y=[18.48, 12.5])\n",
    "    fig2_2 = px.line(x=[-4.11 * (c), -4.11 * (c)], y=[18.48, 12.5])\n",
    "    fig2_3 = px.line(x=[4.11 * (a+b), 4.11 * (a+b)], y=[18.48, 12.5])\n",
    "    fig2_4 = px.line(x=[4.11 * (c), 4.11 * (c)], y=[18.48, 12.5])\n",
    "    fig = go.Figure(data=fig2_1.data + fig2_2.data + fig2_3.data + fig2_4.data)\n",
    "    fig.update_traces(patch={\"line\": {\"color\": \"gray\", \"width\": 1, \"dash\": \"dot\"}})\n",
    "    return fig\n",
    "\n",
    "\n",
    "def trace_court_and_serves(df, isP1: bool, index1stServe: int, mytitle: str):\n",
    "    fig1 = trace_court([-5, 5], [-0.5, 24])\n",
    "    fig2 = trace_serve_3areas()\n",
    "    df_serves = get_all_serves_player(df, isP1, index1stServe)\n",
    "    fig3 = px.scatter(\n",
    "        df_serves,\n",
    "        x=\"Bounce (x)\",\n",
    "        y=\"Bounce (y)\",\n",
    "        # size=((df_serves[\"Speed (KM/H)\"].clip(120, 180)) - 119) / 100,\n",
    "        # size_max=10,\n",
    "\n",
    "        # , trendline='ols',trendline_color_override='red'\n",
    "        # , marginal_y=\"rug\"\n",
    "        # , marginal_x=\"histogram\"\n",
    "        # , facet_col=\"Winner_Point\"#, facet_row=\"time\"\n",
    "        color=\"Winner_Point\",\n",
    "        color_discrete_map={\"1\": \"green\", \"2\": \"red\"},\n",
    "        hover_data=[\"Point\",\"Speed (KM/H)\"],\n",
    "    )\n",
    "    fig3.update_traces(showlegend=False)\n",
    "    #fig3.show()\n",
    "    fig = go.Figure(data=fig1.data + fig2.data + fig3.data)\n",
    "\n",
    "    # fig.update_layout(title=\"Serves P1 (point size represents Speed)\")\n",
    "    fig.update_xaxes(\n",
    "        scaleanchor=\"y\",\n",
    "        scaleratio=1.5,\n",
    "    )\n",
    "    # fig.update_layout(xaxis_range=[-5, 5], yaxis_range=[-2, 11.88 * 2 + 1])\n",
    "    fig.update_layout(xaxis=dict(showgrid=False), yaxis=dict(showgrid=False),title=mytitle)\n",
    "    fig.update(layout_yaxis_range=[-0.4, 24])\n",
    "    fig.update(layout_xaxis_range=[-5, 5])\n",
    "    fig.update_traces(showlegend=False)\n",
    "    fig.update_xaxes(showticklabels=False)\n",
    "    fig.update_yaxes(showticklabels=False)\n",
    "    return fig  # .show()\n",
    "\n",
    "index1stServe=1\n",
    "fig1_1=trace_court_and_serves(df, True, index1stServe,name1+\" 1st serves hitting zones and points won/lost\")\n",
    "fig1_1.show()\n",
    "index1stServe=2\n",
    "fig1_2=trace_court_and_serves(df, True, index1stServe,name1+\" 2nd serves hitting zones and points won/lost\")\n",
    "fig1_2.show()"
   ]
  },
  {
   "cell_type": "code",
   "execution_count": null,
   "id": "b4f5ba65",
   "metadata": {},
   "outputs": [],
   "source": []
  },
  {
   "cell_type": "code",
   "execution_count": 5,
   "id": "c926b42f",
   "metadata": {},
   "outputs": [
    {
     "data": {
      "text/html": [
       "<script>\n",
       "code_show=true; \n",
       "function code_toggle() {\n",
       "  if (code_show) {\n",
       "    $('div.input').each(function(id) {\n",
       "      el = $(this).find('.cm-variable:first');\n",
       "      if (id == 0 || el.text() == 'hide_me') {\n",
       "        $(this).show();\n",
       "      }\n",
       "    });\n",
       "    $('div.output_prompt').css('opacity', 1);\n",
       "  } else {\n",
       "    $('div.input').each(function(id) {\n",
       "      $(this).show();\n",
       "    });\n",
       "    $('div.output_prompt').css('opacity', 1);\n",
       "  }\n",
       "  code_show = !code_show\n",
       "} \n",
       "$( document ).ready(code_toggle);\n",
       "</script>\n",
       "<form action=\"javascript:code_toggle()\"><input style=\"opacity:0\" type=\"submit\" value=\"Click here to toggle on/off the raw code.\"></form>"
      ],
      "text/plain": [
       "<IPython.core.display.HTML object>"
      ]
     },
     "execution_count": 5,
     "metadata": {},
     "output_type": "execute_result"
    }
   ],
   "source": [
    "# This is a cell to hide code snippets from displaying\n",
    "# This must be at first cell!\n",
    "\n",
    "from IPython.display import HTML\n",
    "\n",
    "hide_me = ''\n",
    "HTML('''<script>\n",
    "code_show=true; \n",
    "function code_toggle() {\n",
    "  if (code_show) {\n",
    "    $('div.input').each(function(id) {\n",
    "      el = $(this).find('.cm-variable:first');\n",
    "      if (id == 0 || el.text() == 'hide_me') {\n",
    "        $(this).show();\n",
    "      }\n",
    "    });\n",
    "    $('div.output_prompt').css('opacity', 1);\n",
    "  } else {\n",
    "    $('div.input').each(function(id) {\n",
    "      $(this).show();\n",
    "    });\n",
    "    $('div.output_prompt').css('opacity', 1);\n",
    "  }\n",
    "  code_show = !code_show\n",
    "} \n",
    "$( document ).ready(code_toggle);\n",
    "</script>\n",
    "<form action=\"javascript:code_toggle()\"><input style=\"opacity:0\" type=\"submit\" value=\"Click here to toggle on/off the raw code.\"></form>''')"
   ]
  },
  {
   "cell_type": "code",
   "execution_count": 6,
   "id": "5cd84662",
   "metadata": {},
   "outputs": [
    {
     "name": "stdout",
     "output_type": "stream",
     "text": [
      "df before:954\n",
      "df after:796\n",
      "dfP1:404\n",
      "dfP2:392\n"
     ]
    }
   ],
   "source": [
    "#REMOVE ALL SHOTS where shot=0 \n",
    "\n",
    "print(\"df before:{0}\".format(len(df)))\n",
    "df=df[df[\"Shot\"]>0]\n",
    "print(\"df after:{0}\".format(len(df)))\n",
    "#df.rename(columns = {'Speed (KM/H)':'Speed',\" Hit (x)\":\"hit_x\",\" Hit (y)\":\"hit_y\",\" Hit (z)\":\"hit_z\"}, inplace = True)\n",
    "dfP1=df[df.Player==\"Player\"]\n",
    "print(\"dfP1:{0}\".format(len(dfP1)))\n",
    "dfP2=df[df.Player==\"Opponent\"]\n",
    "print(\"dfP2:{0}\".format(len(dfP2)))"
   ]
  },
  {
   "cell_type": "markdown",
   "id": "af6028fe",
   "metadata": {},
   "source": [
    "# Scatter"
   ]
  },
  {
   "cell_type": "code",
   "execution_count": 7,
   "id": "3a1c9257",
   "metadata": {},
   "outputs": [
    {
     "data": {
      "application/vnd.plotly.v1+json": {
       "config": {
        "plotlyServerURL": "https://plot.ly"
       },
       "data": [
        {
         "marker": {
          "color": "blue"
         },
         "mode": "markers",
         "name": "Pospisil",
         "text": [
          "Player",
          "Player",
          "Player",
          "Player",
          "Player",
          "Player",
          "Player",
          "Player",
          "Player",
          "Player",
          "Player",
          "Player",
          "Player",
          "Player",
          "Player",
          "Player",
          "Player",
          "Player",
          "Player",
          "Player",
          "Player",
          "Player",
          "Player",
          "Player",
          "Player",
          "Player",
          "Player",
          "Player",
          "Player",
          "Player",
          "Player",
          "Player",
          "Player",
          "Player",
          "Player",
          "Player",
          "Player",
          "Player",
          "Player",
          "Player",
          "Player",
          "Player",
          "Player",
          "Player",
          "Player",
          "Player",
          "Player",
          "Player",
          "Player",
          "Player",
          "Player",
          "Player",
          "Player",
          "Player",
          "Player",
          "Player",
          "Player",
          "Player",
          "Player",
          "Player",
          "Player",
          "Player",
          "Player",
          "Player",
          "Player",
          "Player",
          "Player",
          "Player",
          "Player",
          "Player",
          "Player",
          "Player",
          "Player",
          "Player",
          "Player",
          "Player",
          "Player",
          "Player",
          "Player",
          "Player",
          "Player",
          "Player",
          "Player",
          "Player",
          "Player",
          "Player",
          "Player",
          "Player",
          "Player",
          "Player",
          "Player",
          "Player",
          "Player",
          "Player",
          "Player",
          "Player",
          "Player",
          "Player",
          "Player",
          "Player",
          "Player",
          "Player",
          "Player",
          "Player",
          "Player",
          "Player",
          "Player",
          "Player",
          "Player",
          "Player",
          "Player",
          "Player",
          "Player",
          "Player",
          "Player",
          "Player",
          "Player",
          "Player",
          "Player",
          "Player",
          "Player",
          "Player",
          "Player",
          "Player",
          "Player",
          "Player",
          "Player",
          "Player",
          "Player",
          "Player",
          "Player",
          "Player",
          "Player",
          "Player",
          "Player",
          "Player",
          "Player",
          "Player",
          "Player",
          "Player",
          "Player",
          "Player",
          "Player",
          "Player",
          "Player",
          "Player",
          "Player",
          "Player",
          "Player",
          "Player",
          "Player",
          "Player",
          "Player",
          "Player",
          "Player",
          "Player",
          "Player",
          "Player",
          "Player",
          "Player",
          "Player",
          "Player",
          "Player",
          "Player",
          "Player",
          "Player",
          "Player",
          "Player",
          "Player",
          "Player",
          "Player",
          "Player",
          "Player",
          "Player",
          "Player",
          "Player",
          "Player",
          "Player",
          "Player",
          "Player",
          "Player",
          "Player",
          "Player",
          "Player",
          "Player",
          "Player",
          "Player",
          "Player",
          "Player",
          "Player",
          "Player",
          "Player",
          "Player",
          "Player",
          "Player",
          "Player",
          "Player",
          "Player",
          "Player",
          "Player",
          "Player",
          "Player",
          "Player",
          "Player",
          "Player",
          "Player",
          "Player",
          "Player",
          "Player",
          "Player",
          "Player",
          "Player",
          "Player",
          "Player",
          "Player",
          "Player",
          "Player",
          "Player",
          "Player",
          "Player",
          "Player",
          "Player",
          "Player",
          "Player",
          "Player",
          "Player",
          "Player",
          "Player",
          "Player",
          "Player",
          "Player",
          "Player",
          "Player",
          "Player",
          "Player",
          "Player",
          "Player",
          "Player",
          "Player",
          "Player",
          "Player",
          "Player",
          "Player",
          "Player",
          "Player",
          "Player",
          "Player",
          "Player",
          "Player",
          "Player",
          "Player",
          "Player",
          "Player",
          "Player",
          "Player",
          "Player",
          "Player",
          "Player",
          "Player",
          "Player",
          "Player",
          "Player",
          "Player",
          "Player",
          "Player",
          "Player",
          "Player",
          "Player",
          "Player",
          "Player",
          "Player",
          "Player",
          "Player",
          "Player",
          "Player",
          "Player",
          "Player",
          "Player",
          "Player",
          "Player",
          "Player",
          "Player",
          "Player",
          "Player",
          "Player",
          "Player",
          "Player",
          "Player",
          "Player",
          "Player",
          "Player",
          "Player",
          "Player",
          "Player",
          "Player",
          "Player",
          "Player",
          "Player",
          "Player",
          "Player",
          "Player",
          "Player",
          "Player",
          "Player",
          "Player",
          "Player",
          "Player",
          "Player",
          "Player",
          "Player",
          "Player",
          "Player",
          "Player",
          "Player",
          "Player",
          "Player",
          "Player",
          "Player",
          "Player",
          "Player",
          "Player",
          "Player",
          "Player",
          "Player",
          "Player",
          "Player",
          "Player",
          "Player",
          "Player",
          "Player",
          "Player",
          "Player",
          "Player",
          "Player",
          "Player",
          "Player",
          "Player",
          "Player",
          "Player",
          "Player",
          "Player",
          "Player",
          "Player",
          "Player",
          "Player",
          "Player",
          "Player",
          "Player",
          "Player",
          "Player",
          "Player",
          "Player",
          "Player",
          "Player",
          "Player",
          "Player",
          "Player",
          "Player",
          "Player",
          "Player",
          "Player",
          "Player",
          "Player",
          "Player",
          "Player",
          "Player",
          "Player",
          "Player",
          "Player",
          "Player",
          "Player",
          "Player",
          "Player",
          "Player",
          "Player",
          "Player",
          "Player",
          "Player",
          "Player",
          "Player",
          "Player",
          "Player",
          "Player",
          "Player",
          "Player",
          "Player",
          "Player",
          "Player",
          "Player",
          "Player",
          "Player",
          "Player",
          "Player",
          "Player",
          "Player",
          "Player",
          "Player",
          "Player",
          "Player",
          "Player",
          "Player",
          "Player",
          "Player",
          "Player"
         ],
         "type": "scatter",
         "x": [
          "Serve",
          "Serve",
          "Forehand",
          "Serve",
          "Serve",
          "Serve",
          "Forehand",
          "Serve",
          "Serve",
          "Serve",
          "Serve",
          "Serve",
          "Backhand",
          "Backhand",
          "Backhand",
          "Backhand",
          "Backhand",
          "Forehand",
          "Forehand",
          "FH Volley",
          "Forehand",
          "Forehand",
          "Backhand",
          "Backhand",
          "Backhand",
          "Serve",
          "Serve",
          "Serve",
          "Serve",
          "Forehand",
          "Serve",
          "Serve",
          "Forehand",
          "Serve",
          "Forehand",
          "Serve",
          "Serve",
          "Backhand",
          "Serve",
          "Serve",
          "Forehand",
          "Forehand",
          "Forehand",
          "Backhand",
          "Forehand",
          "Forehand",
          "Backhand",
          "Forehand",
          "Backhand",
          "Serve",
          "Serve",
          "Forehand",
          "Forehand",
          "Serve",
          "Serve",
          "Forehand",
          "Serve",
          "Backhand",
          "Serve",
          "Backhand",
          "Backhand",
          "Forehand",
          "Forehand",
          "Forehand",
          "Forehand",
          "Forehand",
          "Backhand",
          "Backhand",
          "Forehand",
          "Serve",
          "BH Volley",
          "Serve",
          "Serve",
          "Serve",
          "Serve",
          "Forehand",
          "Serve",
          "Forehand",
          "Forehand",
          "Backhand",
          "Forehand",
          "Backhand",
          "Backhand",
          "Backhand",
          "Backhand",
          "Backhand",
          "Forehand",
          "Backhand",
          "Forehand",
          "Backhand",
          "Forehand",
          "Backhand",
          "Serve",
          "Forehand",
          "Forehand",
          "Forehand",
          "Backhand",
          "Forehand",
          "Backhand",
          "Backhand",
          "Backhand",
          "Serve",
          "Serve",
          "Serve",
          "Forehand",
          "Serve",
          "Serve",
          "Forehand",
          "Forehand",
          "Backhand",
          "Forehand",
          "Backhand",
          "Backhand",
          "Backhand",
          "Forehand",
          "Backhand",
          "Forehand",
          "Backhand",
          "Backhand",
          "Serve",
          "Serve",
          "Backhand",
          "Serve",
          "Serve",
          "Serve",
          "Forehand",
          "Serve",
          "Serve",
          "Backhand",
          "Backhand",
          "Forehand",
          "Forehand",
          "Forehand",
          "Backhand",
          "Serve",
          "Serve",
          "Serve",
          "Forehand",
          "Serve",
          "Serve",
          "Serve",
          "Backhand",
          "Backhand",
          "Backhand",
          "Forehand",
          "Forehand",
          "Backhand",
          "Backhand",
          "Backhand",
          "Forehand",
          "Forehand",
          "Backhand",
          "Backhand",
          "Backhand",
          "Backhand",
          "Backhand",
          "Backhand",
          "Backhand",
          "Backhand",
          "Forehand",
          "Serve",
          "Serve",
          "Forehand",
          "Serve",
          "Serve",
          "Forehand",
          "Backhand",
          "Serve",
          "Serve",
          "Serve",
          "Backhand",
          "Forehand",
          "Backhand",
          "Backhand",
          "Backhand",
          "Forehand",
          "Backhand",
          "Backhand",
          "Forehand",
          "Forehand",
          "Forehand",
          "Backhand",
          "Forehand",
          "Forehand",
          "Backhand",
          "Serve",
          "Forehand",
          "Forehand",
          "Serve",
          "Serve",
          "Backhand",
          "Backhand",
          "Serve",
          "Serve",
          "Serve",
          "Serve",
          "Serve",
          "Serve",
          "Serve",
          "Serve",
          "Backhand",
          "Backhand",
          "Forehand",
          "Backhand",
          "Serve",
          "Forehand",
          "Serve",
          "Forehand",
          "Serve",
          "Serve",
          "Serve",
          "Forehand",
          "Serve",
          "Serve",
          "Forehand",
          "Forehand",
          "Serve",
          "Serve",
          "Backhand",
          "Serve",
          "Serve",
          "Backhand",
          "Backhand",
          "Backhand",
          "Forehand",
          "Backhand",
          "Forehand",
          "Backhand",
          "Backhand",
          "Forehand",
          "Backhand",
          "Forehand",
          "Backhand",
          "Serve",
          "Serve",
          "Forehand",
          "Forehand",
          "Serve",
          "Serve",
          "Forehand",
          "Backhand",
          "Backhand",
          "Forehand",
          "Serve",
          "Serve",
          "Serve",
          "Serve",
          "Forehand",
          "Backhand",
          "Backhand",
          "Forehand",
          "Forehand",
          "Forehand",
          "Forehand",
          "Backhand",
          "Backhand",
          "Forehand",
          "Backhand",
          "Backhand",
          "Backhand",
          "Backhand",
          "Backhand",
          "Forehand",
          "Forehand",
          "Backhand",
          "Forehand",
          "Backhand",
          "Forehand",
          "Forehand",
          "Forehand",
          "Backhand",
          "Serve",
          "Serve",
          "Backhand",
          "Serve",
          "Serve",
          "Serve",
          "Serve",
          "Serve",
          "Forehand",
          "Serve",
          "Forehand",
          "Serve",
          "Forehand",
          "Backhand",
          "Serve",
          "Serve",
          "Serve",
          "Serve",
          "Serve",
          "Backhand",
          "Backhand",
          "Backhand",
          "Serve",
          "Forehand",
          "Serve",
          "Serve",
          "Backhand",
          "Serve",
          "Serve",
          "Forehand",
          "Serve",
          "Serve",
          "Serve",
          "Serve",
          "Backhand",
          "Serve",
          "Serve",
          "Forehand",
          "Serve",
          "Forehand",
          "Forehand",
          "Forehand",
          "Backhand",
          "Backhand",
          "Forehand",
          "Forehand",
          "Backhand",
          "Backhand",
          "Backhand",
          "Backhand",
          "Backhand",
          "Forehand",
          "Forehand",
          "Forehand",
          "Backhand",
          "Backhand",
          "Backhand",
          "BH Volley",
          "Serve",
          "Serve",
          "Serve",
          "Forehand",
          "FH Volley",
          "Backhand",
          "Serve",
          "Serve",
          "Serve",
          "Serve",
          "Serve",
          "Serve",
          "Forehand",
          "Forehand",
          "Forehand",
          "Forehand",
          "Forehand",
          "Backhand",
          "Backhand",
          "Forehand",
          "Backhand",
          "Forehand",
          "Forehand",
          "Backhand",
          "Backhand",
          "Serve",
          "Serve",
          "Serve",
          "Forehand",
          "Serve",
          "Forehand",
          "Serve",
          "Serve",
          "Serve",
          "Forehand",
          "Backhand",
          "Backhand",
          "Backhand",
          "Backhand",
          "Forehand",
          "Backhand",
          "Backhand",
          "Forehand",
          "Backhand",
          "Serve",
          "Serve",
          "Forehand",
          "Forehand",
          "Forehand",
          "Serve",
          "Serve",
          "Serve",
          "FH Volley",
          "Serve",
          "Backhand",
          "Forehand",
          "Backhand",
          "Backhand",
          "Backhand",
          "Backhand",
          "Forehand",
          "BH Volley",
          "Overhead",
          "Backhand",
          "Forehand",
          "Forehand",
          "Backhand",
          "Backhand",
          "Backhand",
          "Backhand",
          "Backhand",
          "Forehand",
          "Forehand",
          "Backhand",
          "Forehand"
         ],
         "y": [
          166.363281,
          126.269508,
          104.31604,
          110.567711,
          94.473465,
          143.428314,
          121.841362,
          73.324745,
          127.867363,
          138.194534,
          126.758484,
          135.053497,
          79.956505,
          91.414658,
          73.998878,
          74.146561,
          104.52829,
          93.485207,
          121.069,
          34.843319,
          95.097328,
          115.525398,
          118.767845,
          86.101639,
          84.314781,
          null,
          null,
          202.078918,
          142.025299,
          90.916985,
          118.871452,
          149.150208,
          67.103271,
          145.843109,
          82.811913,
          91.834106,
          130.675079,
          61.988026,
          106.161484,
          128.59906,
          84.027985,
          111.239662,
          44.010815,
          81.525917,
          83.750565,
          114.510849,
          90.102036,
          75.569321,
          58.510414,
          162.567688,
          116.530983,
          105.710678,
          91.767555,
          118.566048,
          151.512466,
          86.306305,
          107.916283,
          46.474094,
          166.588196,
          70.724823,
          84.438766,
          138.880661,
          63.228535,
          84.436371,
          86.179657,
          97.699677,
          69.413628,
          85.293709,
          121.33844,
          170.821655,
          40.418251,
          154.751205,
          154.898346,
          130.818054,
          155.280899,
          127.517418,
          101.542831,
          108.328445,
          103.934494,
          75.324425,
          97.880081,
          72.063347,
          104.394722,
          82.689667,
          78.894096,
          89.828743,
          64.099289,
          50.891689,
          99.038742,
          97.112473,
          77.71389,
          80.595032,
          163.357452,
          125.979408,
          98.370522,
          94.703575,
          89.421379,
          79.874977,
          76.715416,
          89.300713,
          48.83049,
          117.779854,
          103.141624,
          137.174225,
          56.267689,
          116.436615,
          130.692291,
          119.212532,
          111.507843,
          103.037651,
          110.053825,
          102.579086,
          64.824509,
          83.374557,
          99.723221,
          75.372879,
          101.58757,
          100.074409,
          90.615829,
          202.92749,
          147.999054,
          93.822716,
          109.466087,
          149.704681,
          139.339661,
          null,
          115.618561,
          135.313019,
          null,
          58.906158,
          56.032978,
          84.942688,
          78.911583,
          76.619614,
          107.96489,
          115.190155,
          132.793442,
          99.720215,
          114.319725,
          167.104736,
          95.396133,
          62.116451,
          86.827126,
          96.118919,
          105.111687,
          110.076195,
          74.431427,
          107.344002,
          65.012672,
          null,
          81.574692,
          99.316261,
          54.644333,
          85.343544,
          93.622231,
          105.564514,
          93.525055,
          58.328079,
          96.813133,
          75.271919,
          143.221832,
          136.398071,
          114.468361,
          155.070816,
          126.443092,
          84.297203,
          95.213593,
          154.441208,
          183.113083,
          161.313736,
          83.81208,
          100.262436,
          94.648323,
          56.252804,
          79.944664,
          76.249451,
          65.513748,
          89.729584,
          71.59185,
          75.004112,
          82.63858,
          74.091499,
          71.737671,
          87.21228,
          67.348473,
          121.712097,
          120.145248,
          101.80085,
          119.387024,
          134.158463,
          84.818176,
          80.718765,
          129.042877,
          121.17334,
          135.090347,
          152.753952,
          129.669327,
          113.434662,
          153.051682,
          118.806915,
          94.847885,
          85.391418,
          95.776047,
          48.105331,
          180.330566,
          105.627739,
          135.720139,
          82.501259,
          132.201553,
          74.454147,
          85.16597,
          64.166283,
          116.556107,
          108.578003,
          120.979195,
          102.330452,
          106.854721,
          136.039459,
          110.440819,
          136.517929,
          null,
          54.995796,
          56.766331,
          88.748413,
          81.118553,
          80.866776,
          107.601669,
          92.904495,
          60.391788,
          99.99205,
          76.2211,
          101.565132,
          68.505493,
          145.279877,
          123.616066,
          88.538849,
          83.194145,
          137.554901,
          134.507645,
          109.964584,
          89.422569,
          95.608978,
          80.951851,
          117.690926,
          104.662872,
          null,
          128.672958,
          105.05658,
          80.326012,
          43.053253,
          109.397995,
          104.398537,
          61.173656,
          76.783554,
          76.932816,
          93.613075,
          111.530174,
          80.912575,
          102.222694,
          62.948002,
          85.263618,
          null,
          61.210506,
          72.850906,
          106.404999,
          84.137634,
          85.851707,
          50.228252,
          111.361702,
          98.696945,
          69.297447,
          75.73069,
          202.92749,
          67.717346,
          113.048912,
          129.566254,
          160.489914,
          167.093231,
          126.122849,
          110.438393,
          137.860275,
          98.722023,
          195.680084,
          77.910851,
          80.865227,
          147.709503,
          138.063553,
          166.00827,
          39.504692,
          144.974869,
          71.761978,
          106.902702,
          69.902679,
          173.839478,
          93.031387,
          85.143394,
          127.729301,
          86.12738,
          117.379631,
          140.661072,
          140.488266,
          156.220749,
          169.817673,
          182.429214,
          147.525787,
          80.72065,
          88.048271,
          70.584976,
          95.641655,
          null,
          82.334251,
          109.926048,
          81.352936,
          75.247459,
          91.167564,
          84.74485,
          89.411003,
          80.58371,
          83.268433,
          70.062775,
          72.031609,
          68.557838,
          85.795036,
          52.65398,
          95.348717,
          62.926521,
          85.720016,
          78.243675,
          null,
          135.886673,
          103.02195,
          92.79023,
          99.135323,
          30.662121,
          50.996513,
          41.277985,
          126.525276,
          136.243988,
          148.107407,
          143.164764,
          138.738632,
          81.068451,
          92.920174,
          91.762733,
          106.598984,
          86.8209,
          98.408073,
          59.253536,
          80.688751,
          72.773949,
          103.144081,
          103.109367,
          66.468361,
          70.524216,
          155.03595,
          125.152107,
          154.221817,
          126.233253,
          155.912399,
          113.105652,
          159.646866,
          124.248093,
          158.792389,
          111.416878,
          58.281216,
          54.479652,
          70.793716,
          79.14386,
          80.363235,
          80.585121,
          75.026657,
          56.75943,
          85.688118,
          146.827042,
          114.806137,
          91.487587,
          57.384197,
          99.732674,
          93.197632,
          112.485161,
          96.524864,
          37.630787,
          166.442978,
          106.515503,
          104.619637,
          100.012917,
          88.348358,
          78.488785,
          166.690445,
          108.673271,
          27.874657,
          36.237053,
          96.001213,
          61.594387,
          64.45385,
          66.683228,
          85.09304,
          92.536499,
          75.055977,
          76.267067,
          120.567772,
          111.376595,
          88.921425,
          99.088295
         ]
        },
        {
         "marker": {
          "color": "red"
         },
         "mode": "markers",
         "name": "Wolf",
         "text": [
          "Opponent",
          "Opponent",
          "Opponent",
          "Opponent",
          "Opponent",
          "Opponent",
          "Opponent",
          "Opponent",
          "Opponent",
          "Opponent",
          "Opponent",
          "Opponent",
          "Opponent",
          "Opponent",
          "Opponent",
          "Opponent",
          "Opponent",
          "Opponent",
          "Opponent",
          "Opponent",
          "Opponent",
          "Opponent",
          "Opponent",
          "Opponent",
          "Opponent",
          "Opponent",
          "Opponent",
          "Opponent",
          "Opponent",
          "Opponent",
          "Opponent",
          "Opponent",
          "Opponent",
          "Opponent",
          "Opponent",
          "Opponent",
          "Opponent",
          "Opponent",
          "Opponent",
          "Opponent",
          "Opponent",
          "Opponent",
          "Opponent",
          "Opponent",
          "Opponent",
          "Opponent",
          "Opponent",
          "Opponent",
          "Opponent",
          "Opponent",
          "Opponent",
          "Opponent",
          "Opponent",
          "Opponent",
          "Opponent",
          "Opponent",
          "Opponent",
          "Opponent",
          "Opponent",
          "Opponent",
          "Opponent",
          "Opponent",
          "Opponent",
          "Opponent",
          "Opponent",
          "Opponent",
          "Opponent",
          "Opponent",
          "Opponent",
          "Opponent",
          "Opponent",
          "Opponent",
          "Opponent",
          "Opponent",
          "Opponent",
          "Opponent",
          "Opponent",
          "Opponent",
          "Opponent",
          "Opponent",
          "Opponent",
          "Opponent",
          "Opponent",
          "Opponent",
          "Opponent",
          "Opponent",
          "Opponent",
          "Opponent",
          "Opponent",
          "Opponent",
          "Opponent",
          "Opponent",
          "Opponent",
          "Opponent",
          "Opponent",
          "Opponent",
          "Opponent",
          "Opponent",
          "Opponent",
          "Opponent",
          "Opponent",
          "Opponent",
          "Opponent",
          "Opponent",
          "Opponent",
          "Opponent",
          "Opponent",
          "Opponent",
          "Opponent",
          "Opponent",
          "Opponent",
          "Opponent",
          "Opponent",
          "Opponent",
          "Opponent",
          "Opponent",
          "Opponent",
          "Opponent",
          "Opponent",
          "Opponent",
          "Opponent",
          "Opponent",
          "Opponent",
          "Opponent",
          "Opponent",
          "Opponent",
          "Opponent",
          "Opponent",
          "Opponent",
          "Opponent",
          "Opponent",
          "Opponent",
          "Opponent",
          "Opponent",
          "Opponent",
          "Opponent",
          "Opponent",
          "Opponent",
          "Opponent",
          "Opponent",
          "Opponent",
          "Opponent",
          "Opponent",
          "Opponent",
          "Opponent",
          "Opponent",
          "Opponent",
          "Opponent",
          "Opponent",
          "Opponent",
          "Opponent",
          "Opponent",
          "Opponent",
          "Opponent",
          "Opponent",
          "Opponent",
          "Opponent",
          "Opponent",
          "Opponent",
          "Opponent",
          "Opponent",
          "Opponent",
          "Opponent",
          "Opponent",
          "Opponent",
          "Opponent",
          "Opponent",
          "Opponent",
          "Opponent",
          "Opponent",
          "Opponent",
          "Opponent",
          "Opponent",
          "Opponent",
          "Opponent",
          "Opponent",
          "Opponent",
          "Opponent",
          "Opponent",
          "Opponent",
          "Opponent",
          "Opponent",
          "Opponent",
          "Opponent",
          "Opponent",
          "Opponent",
          "Opponent",
          "Opponent",
          "Opponent",
          "Opponent",
          "Opponent",
          "Opponent",
          "Opponent",
          "Opponent",
          "Opponent",
          "Opponent",
          "Opponent",
          "Opponent",
          "Opponent",
          "Opponent",
          "Opponent",
          "Opponent",
          "Opponent",
          "Opponent",
          "Opponent",
          "Opponent",
          "Opponent",
          "Opponent",
          "Opponent",
          "Opponent",
          "Opponent",
          "Opponent",
          "Opponent",
          "Opponent",
          "Opponent",
          "Opponent",
          "Opponent",
          "Opponent",
          "Opponent",
          "Opponent",
          "Opponent",
          "Opponent",
          "Opponent",
          "Opponent",
          "Opponent",
          "Opponent",
          "Opponent",
          "Opponent",
          "Opponent",
          "Opponent",
          "Opponent",
          "Opponent",
          "Opponent",
          "Opponent",
          "Opponent",
          "Opponent",
          "Opponent",
          "Opponent",
          "Opponent",
          "Opponent",
          "Opponent",
          "Opponent",
          "Opponent",
          "Opponent",
          "Opponent",
          "Opponent",
          "Opponent",
          "Opponent",
          "Opponent",
          "Opponent",
          "Opponent",
          "Opponent",
          "Opponent",
          "Opponent",
          "Opponent",
          "Opponent",
          "Opponent",
          "Opponent",
          "Opponent",
          "Opponent",
          "Opponent",
          "Opponent",
          "Opponent",
          "Opponent",
          "Opponent",
          "Opponent",
          "Opponent",
          "Opponent",
          "Opponent",
          "Opponent",
          "Opponent",
          "Opponent",
          "Opponent",
          "Opponent",
          "Opponent",
          "Opponent",
          "Opponent",
          "Opponent",
          "Opponent",
          "Opponent",
          "Opponent",
          "Opponent",
          "Opponent",
          "Opponent",
          "Opponent",
          "Opponent",
          "Opponent",
          "Opponent",
          "Opponent",
          "Opponent",
          "Opponent",
          "Opponent",
          "Opponent",
          "Opponent",
          "Opponent",
          "Opponent",
          "Opponent",
          "Opponent",
          "Opponent",
          "Opponent",
          "Opponent",
          "Opponent",
          "Opponent",
          "Opponent",
          "Opponent",
          "Opponent",
          "Opponent",
          "Opponent",
          "Opponent",
          "Opponent",
          "Opponent",
          "Opponent",
          "Opponent",
          "Opponent",
          "Opponent",
          "Opponent",
          "Opponent",
          "Opponent",
          "Opponent",
          "Opponent",
          "Opponent",
          "Opponent",
          "Opponent",
          "Opponent",
          "Opponent",
          "Opponent",
          "Opponent",
          "Opponent",
          "Opponent",
          "Opponent",
          "Opponent",
          "Opponent",
          "Opponent",
          "Opponent",
          "Opponent",
          "Opponent",
          "Opponent",
          "Opponent",
          "Opponent",
          "Opponent",
          "Opponent",
          "Opponent",
          "Opponent",
          "Opponent",
          "Opponent",
          "Opponent",
          "Opponent",
          "Opponent",
          "Opponent",
          "Opponent",
          "Opponent",
          "Opponent",
          "Opponent",
          "Opponent",
          "Opponent",
          "Opponent",
          "Opponent",
          "Opponent",
          "Opponent",
          "Opponent",
          "Opponent",
          "Opponent",
          "Opponent",
          "Opponent",
          "Opponent",
          "Opponent",
          "Opponent",
          "Opponent",
          "Opponent",
          "Opponent",
          "Opponent",
          "Opponent",
          "Opponent",
          "Opponent",
          "Opponent",
          "Opponent",
          "Opponent",
          "Opponent",
          "Opponent",
          "Opponent",
          "Opponent",
          "Opponent",
          "Opponent",
          "Opponent",
          "Opponent",
          "Opponent",
          "Opponent",
          "Opponent",
          "Opponent",
          "Opponent",
          "Opponent",
          "Opponent"
         ],
         "type": "scatter",
         "x": [
          "Backhand",
          "Forehand",
          "Backhand",
          "Backhand",
          "Backhand",
          "Serve",
          "Serve",
          "Serve",
          "Forehand",
          "Backhand",
          "Serve",
          "Serve",
          "Forehand",
          "Forehand",
          "Backhand",
          "Backhand",
          "Serve",
          "Forehand",
          "Serve",
          "Serve",
          "Forehand",
          "Serve",
          "Serve",
          "Forehand",
          "Forehand",
          "Backhand",
          "Forehand",
          "Backhand",
          "Backhand",
          "Backhand",
          "Forehand",
          "Forehand",
          "Forehand",
          "Backhand",
          "Serve",
          "Forehand",
          "Serve",
          "Forehand",
          "Serve",
          "Serve",
          "Serve",
          "Serve",
          "Forehand",
          "Forehand",
          "Serve",
          "Forehand",
          "BH Volley",
          "Backhand",
          "Forehand",
          "Forehand",
          "Forehand",
          "Forehand",
          "Backhand",
          "Backhand",
          "Forehand",
          "Serve",
          "Forehand",
          "Backhand",
          "Forehand",
          "Serve",
          "Serve",
          "Backhand",
          "Forehand",
          "Serve",
          "Serve",
          "FH Volley",
          "Serve",
          "Backhand",
          "Forehand",
          "Backhand",
          "Forehand",
          "Forehand",
          "Forehand",
          "Serve",
          "Serve",
          "Serve",
          "Serve",
          "Serve",
          "Backhand",
          "Forehand",
          "Backhand",
          "Serve",
          "Serve",
          "Serve",
          "Forehand",
          "Serve",
          "Forehand",
          "Forehand",
          "Serve",
          "Forehand",
          "Serve",
          "Serve",
          "Forehand",
          "Forehand",
          "Forehand",
          "Backhand",
          "Forehand",
          "Forehand",
          "Forehand",
          "Backhand",
          "Backhand",
          "Backhand",
          "Forehand",
          "Forehand",
          "Backhand",
          "Serve",
          "Forehand",
          "FH Volley",
          "BH Volley",
          "Serve",
          "Serve",
          "Forehand",
          "Serve",
          "Serve",
          "Serve",
          "Serve",
          "Serve",
          "Backhand",
          "Backhand",
          "Forehand",
          "Serve",
          "Serve",
          "Forehand",
          "Forehand",
          "Backhand",
          "Backhand",
          "Forehand",
          "Forehand",
          "Serve",
          "Forehand",
          "Overhead",
          "Serve",
          "Serve",
          "Serve",
          "Serve",
          "Forehand",
          "Backhand",
          "Backhand",
          "Forehand",
          "Backhand",
          "Forehand",
          "Forehand",
          "Serve",
          "Serve",
          "Forehand",
          "Forehand",
          "Serve",
          "Serve",
          "Backhand",
          "Serve",
          "Backhand",
          "Backhand",
          "Serve",
          "Forehand",
          "Serve",
          "Serve",
          "Forehand",
          "Backhand",
          "Backhand",
          "Serve",
          "Serve",
          "Forehand",
          "Serve",
          "Serve",
          "Forehand",
          "Serve",
          "Forehand",
          "Backhand",
          "Backhand",
          "Forehand",
          "Forehand",
          "Forehand",
          "Serve",
          "Serve",
          "Backhand",
          "Forehand",
          "Serve",
          "Overhead",
          "Serve",
          "Forehand",
          "Forehand",
          "Forehand",
          "Backhand",
          "Serve",
          "Forehand",
          "Forehand",
          "BH Volley",
          "FH Volley",
          "Serve",
          "Serve",
          "Forehand",
          "Backhand",
          "Backhand",
          "Backhand",
          "Backhand",
          "Backhand",
          "Forehand",
          "Serve",
          "Serve",
          "Forehand",
          "Serve",
          "Serve",
          "Forehand",
          "Forehand",
          "Backhand",
          "Forehand",
          "Backhand",
          "Backhand",
          "Forehand",
          "Forehand",
          "Backhand",
          "Forehand",
          "Serve",
          "Serve",
          "Serve",
          "Forehand",
          "Forehand",
          "Forehand",
          "Forehand",
          "Serve",
          "Forehand",
          "Backhand",
          "Serve",
          "Serve",
          "Backhand",
          "Backhand",
          "Serve",
          "Serve",
          "Forehand",
          "Forehand",
          "Backhand",
          "Backhand",
          "Backhand",
          "Backhand",
          "Backhand",
          "Backhand",
          "Backhand",
          "Forehand",
          "Serve",
          "Backhand",
          "Serve",
          "Serve",
          "Serve",
          "Forehand",
          "Serve",
          "Forehand",
          "Serve",
          "Serve",
          "Forehand",
          "Serve",
          "Serve",
          "Forehand",
          "Forehand",
          "Forehand",
          "Backhand",
          "Forehand",
          "Serve",
          "Serve",
          "Forehand",
          "Serve",
          "Forehand",
          "Forehand",
          "Forehand",
          "Serve",
          "Forehand",
          "Serve",
          "Serve",
          "Backhand",
          "Backhand",
          "Backhand",
          "Backhand",
          "Forehand",
          "Forehand",
          "Forehand",
          "Forehand",
          "Forehand",
          "Forehand",
          "Forehand",
          "Backhand",
          "Forehand",
          "Forehand",
          "Forehand",
          "Backhand",
          "Forehand",
          "Forehand",
          "Backhand",
          "Backhand",
          "Forehand",
          "Forehand",
          "Forehand",
          "Backhand",
          "Forehand",
          "Forehand",
          "Forehand",
          "Forehand",
          "Backhand",
          "Backhand",
          "Serve",
          "Forehand",
          "Serve",
          "Serve",
          "Serve",
          "Backhand",
          "Backhand",
          "FH Volley",
          "Serve",
          "Backhand",
          "Serve",
          "Forehand",
          "BH Volley",
          "Serve",
          "Backhand",
          "Forehand",
          "Forehand",
          "Backhand",
          "Backhand",
          "Forehand",
          "Backhand",
          "Forehand",
          "Forehand",
          "Forehand",
          "Forehand",
          "Forehand",
          "Serve",
          "Forehand",
          "Backhand",
          "Serve",
          "Serve",
          "Serve",
          "Serve",
          "Forehand",
          "Forehand",
          "Backhand",
          "Forehand",
          "Serve",
          "Serve",
          "Forehand",
          "Serve",
          "Serve",
          "Forehand",
          "Forehand",
          "Backhand",
          "Forehand",
          "Backhand",
          "Backhand",
          "Serve",
          "Serve",
          "Forehand",
          "BH Volley",
          "Serve",
          "Serve",
          "Forehand",
          "Serve",
          "Forehand",
          "BH Volley",
          "Serve",
          "Serve",
          "Backhand",
          "Backhand",
          "Forehand",
          "Forehand",
          "Backhand",
          "Forehand",
          "Backhand",
          "Serve",
          "Serve",
          "Serve",
          "Forehand",
          "Forehand",
          "Serve",
          "Serve",
          "Backhand",
          "Backhand",
          "Forehand",
          "Serve",
          "Serve",
          "Forehand",
          "Serve",
          "Forehand",
          "Serve",
          "Forehand",
          "Serve",
          "Serve",
          "Forehand",
          "Backhand",
          "Backhand",
          "Backhand",
          "Forehand",
          "Serve",
          "Serve",
          "Forehand",
          "Backhand"
         ],
         "y": [
          70.656006,
          90.118004,
          78.757332,
          107.008484,
          115.401077,
          122.690895,
          86.152313,
          90.455971,
          120.514259,
          93.383263,
          73.279663,
          95.120171,
          77.21286,
          93.235603,
          92.444786,
          57.347374,
          145.696243,
          85.205666,
          103.562408,
          118.513489,
          100.287956,
          122.950623,
          111.271889,
          96.919159,
          53.398014,
          null,
          null,
          66.082611,
          87.971054,
          75.404854,
          86.140068,
          76.985634,
          87.684532,
          81.28093,
          133.400818,
          64.797531,
          156.245361,
          108.106529,
          152.219467,
          118.648102,
          195.680084,
          148.512756,
          101.999512,
          110.913551,
          130.91246,
          116.628853,
          37.630787,
          96.83992,
          106.468567,
          98.102432,
          84.601158,
          100.454239,
          76.658569,
          95.573479,
          82.496483,
          117.708092,
          106.503769,
          99.611221,
          92.537392,
          98.843224,
          135.849808,
          80.854759,
          80.580467,
          153.187195,
          80.778633,
          30.662121,
          150.456055,
          97.309517,
          65.942314,
          75.042953,
          120.011848,
          92.029716,
          91.968422,
          140.353561,
          136.05043,
          139.344574,
          128.304657,
          79.032303,
          75.473129,
          87.430115,
          101.75074,
          158.218857,
          158.14296,
          113.648621,
          null,
          140.74617,
          94.530067,
          81.087166,
          110.305969,
          117.396713,
          106.487129,
          143.730392,
          95.949615,
          106.416443,
          110.663696,
          48.324123,
          83.322456,
          89.970474,
          94.439377,
          113.489487,
          123.250603,
          109.298531,
          91.248871,
          82.073555,
          87.755569,
          107.853889,
          91.986244,
          30.662121,
          29.268389,
          91.782944,
          138.085907,
          87.014381,
          131.86058,
          124.574211,
          108.9188,
          123.60685,
          121.899208,
          71.458107,
          88.413597,
          84.286644,
          142.643265,
          95.623726,
          86.265938,
          59.372974,
          89.867363,
          51.779488,
          75.831337,
          112.212112,
          121.958916,
          122.90451,
          201.255249,
          152.574997,
          136.381332,
          117.978516,
          209.089432,
          85.485176,
          78.697899,
          89.176834,
          93.571404,
          87.594299,
          104.283287,
          34.756573,
          161.844543,
          124.04174,
          90.962761,
          94.144615,
          124.911072,
          137.589569,
          68.084602,
          153.740936,
          72.454666,
          97.380569,
          null,
          59.405151,
          129.598526,
          126.181213,
          92.110268,
          50.292553,
          106.643478,
          122.471291,
          119.482353,
          82.973419,
          133.452988,
          103.386101,
          89.15744,
          130.562592,
          93.199921,
          62.44315,
          76.718819,
          90.183571,
          67.941765,
          41.97179,
          111.982384,
          121.374367,
          94.649712,
          80.972885,
          150.820419,
          115.781219,
          118.858398,
          107.963333,
          102.877914,
          96.550537,
          107.338608,
          145.752823,
          122.92408,
          102.892982,
          32.055855,
          33.449589,
          71.547913,
          127.601143,
          78.457787,
          61.307163,
          119.307358,
          82.017311,
          107.381119,
          111.443825,
          90.833778,
          129.603714,
          111.897949,
          84.39032,
          96.033112,
          162.539124,
          72.225868,
          86.223366,
          79.637161,
          93.042175,
          75.024361,
          67.0933,
          106.3004,
          90.870918,
          83.007202,
          null,
          158.131424,
          123.613251,
          120.102486,
          91.757278,
          80.429634,
          65.974373,
          94.765564,
          143.794876,
          101.096817,
          99.011398,
          161.609024,
          137.280319,
          67.767151,
          94.539886,
          107.473808,
          120.233162,
          81.73539,
          94.267609,
          87.147369,
          70.153214,
          89.807037,
          103.30117,
          115.428879,
          75.9813,
          56.099045,
          92.670494,
          131.457169,
          52.239952,
          120.351379,
          121.886116,
          103.920456,
          101.640282,
          129.19957,
          85.677635,
          118.707924,
          77.206642,
          83.614464,
          102.517731,
          104.770317,
          91.025345,
          94.423668,
          94.603905,
          89.87175,
          92.291962,
          186.726456,
          124.10041,
          106.865097,
          148.704697,
          81.016502,
          74.017044,
          76.978638,
          138.765366,
          102.859428,
          125.844757,
          120.81855,
          77.267578,
          97.795929,
          94.240364,
          96.586037,
          92.586441,
          79.858284,
          110.640625,
          90.076088,
          73.599686,
          87.986511,
          101.398796,
          93.220116,
          96.890099,
          71.892464,
          81.026039,
          77.179565,
          99.533524,
          63.170124,
          74.655777,
          68.357719,
          52.867352,
          108.115639,
          85.017792,
          90.365685,
          83.801361,
          75.0522,
          90.097733,
          90.257088,
          84.67408,
          85.257851,
          57.232807,
          76.793213,
          172.482666,
          57.09539,
          125.332176,
          108.933151,
          141.361313,
          29.268389,
          152.479935,
          82.221428,
          118.955734,
          130.453384,
          33.449589,
          164.048965,
          95.844696,
          43.786263,
          42.866737,
          143.220657,
          75.383812,
          74.807152,
          82.154266,
          62.067387,
          86.852219,
          84.629601,
          96.841362,
          45.38821,
          122.134148,
          80.569115,
          89.750084,
          127.108749,
          108.111275,
          106.788429,
          118.314034,
          73.379448,
          70.914108,
          96.334717,
          76.182945,
          109.685471,
          102.299561,
          121.711143,
          131.403687,
          131.795212,
          54.019962,
          71.755188,
          82.959129,
          89.007858,
          57.006466,
          62.732357,
          139.232071,
          145.492859,
          122.545731,
          null,
          129.98027,
          144.249161,
          71.782753,
          140.227371,
          120.41851,
          27.874657,
          125.210449,
          134.486435,
          87.55764,
          98.009247,
          82.743904,
          65.512909,
          79.475365,
          126.065819,
          79.323601,
          146.146027,
          103.849907,
          102.897476,
          90.169418,
          93.291031,
          127.228989,
          null,
          89.314499,
          56.647644,
          65.816864,
          123.205063,
          133.295303,
          81.050453,
          97.957962,
          119.100906,
          105.740318,
          99.644402,
          83.394539,
          87.327179,
          77.291489,
          106.907539,
          79.697868,
          93.371613,
          127.210625,
          133.9729,
          118.228752,
          84.247383,
          51.100441
         ]
        }
       ],
       "layout": {
        "template": {
         "data": {
          "bar": [
           {
            "error_x": {
             "color": "#2a3f5f"
            },
            "error_y": {
             "color": "#2a3f5f"
            },
            "marker": {
             "line": {
              "color": "#E5ECF6",
              "width": 0.5
             },
             "pattern": {
              "fillmode": "overlay",
              "size": 10,
              "solidity": 0.2
             }
            },
            "type": "bar"
           }
          ],
          "barpolar": [
           {
            "marker": {
             "line": {
              "color": "#E5ECF6",
              "width": 0.5
             },
             "pattern": {
              "fillmode": "overlay",
              "size": 10,
              "solidity": 0.2
             }
            },
            "type": "barpolar"
           }
          ],
          "carpet": [
           {
            "aaxis": {
             "endlinecolor": "#2a3f5f",
             "gridcolor": "white",
             "linecolor": "white",
             "minorgridcolor": "white",
             "startlinecolor": "#2a3f5f"
            },
            "baxis": {
             "endlinecolor": "#2a3f5f",
             "gridcolor": "white",
             "linecolor": "white",
             "minorgridcolor": "white",
             "startlinecolor": "#2a3f5f"
            },
            "type": "carpet"
           }
          ],
          "choropleth": [
           {
            "colorbar": {
             "outlinewidth": 0,
             "ticks": ""
            },
            "type": "choropleth"
           }
          ],
          "contour": [
           {
            "colorbar": {
             "outlinewidth": 0,
             "ticks": ""
            },
            "colorscale": [
             [
              0,
              "#0d0887"
             ],
             [
              0.1111111111111111,
              "#46039f"
             ],
             [
              0.2222222222222222,
              "#7201a8"
             ],
             [
              0.3333333333333333,
              "#9c179e"
             ],
             [
              0.4444444444444444,
              "#bd3786"
             ],
             [
              0.5555555555555556,
              "#d8576b"
             ],
             [
              0.6666666666666666,
              "#ed7953"
             ],
             [
              0.7777777777777778,
              "#fb9f3a"
             ],
             [
              0.8888888888888888,
              "#fdca26"
             ],
             [
              1,
              "#f0f921"
             ]
            ],
            "type": "contour"
           }
          ],
          "contourcarpet": [
           {
            "colorbar": {
             "outlinewidth": 0,
             "ticks": ""
            },
            "type": "contourcarpet"
           }
          ],
          "heatmap": [
           {
            "colorbar": {
             "outlinewidth": 0,
             "ticks": ""
            },
            "colorscale": [
             [
              0,
              "#0d0887"
             ],
             [
              0.1111111111111111,
              "#46039f"
             ],
             [
              0.2222222222222222,
              "#7201a8"
             ],
             [
              0.3333333333333333,
              "#9c179e"
             ],
             [
              0.4444444444444444,
              "#bd3786"
             ],
             [
              0.5555555555555556,
              "#d8576b"
             ],
             [
              0.6666666666666666,
              "#ed7953"
             ],
             [
              0.7777777777777778,
              "#fb9f3a"
             ],
             [
              0.8888888888888888,
              "#fdca26"
             ],
             [
              1,
              "#f0f921"
             ]
            ],
            "type": "heatmap"
           }
          ],
          "heatmapgl": [
           {
            "colorbar": {
             "outlinewidth": 0,
             "ticks": ""
            },
            "colorscale": [
             [
              0,
              "#0d0887"
             ],
             [
              0.1111111111111111,
              "#46039f"
             ],
             [
              0.2222222222222222,
              "#7201a8"
             ],
             [
              0.3333333333333333,
              "#9c179e"
             ],
             [
              0.4444444444444444,
              "#bd3786"
             ],
             [
              0.5555555555555556,
              "#d8576b"
             ],
             [
              0.6666666666666666,
              "#ed7953"
             ],
             [
              0.7777777777777778,
              "#fb9f3a"
             ],
             [
              0.8888888888888888,
              "#fdca26"
             ],
             [
              1,
              "#f0f921"
             ]
            ],
            "type": "heatmapgl"
           }
          ],
          "histogram": [
           {
            "marker": {
             "pattern": {
              "fillmode": "overlay",
              "size": 10,
              "solidity": 0.2
             }
            },
            "type": "histogram"
           }
          ],
          "histogram2d": [
           {
            "colorbar": {
             "outlinewidth": 0,
             "ticks": ""
            },
            "colorscale": [
             [
              0,
              "#0d0887"
             ],
             [
              0.1111111111111111,
              "#46039f"
             ],
             [
              0.2222222222222222,
              "#7201a8"
             ],
             [
              0.3333333333333333,
              "#9c179e"
             ],
             [
              0.4444444444444444,
              "#bd3786"
             ],
             [
              0.5555555555555556,
              "#d8576b"
             ],
             [
              0.6666666666666666,
              "#ed7953"
             ],
             [
              0.7777777777777778,
              "#fb9f3a"
             ],
             [
              0.8888888888888888,
              "#fdca26"
             ],
             [
              1,
              "#f0f921"
             ]
            ],
            "type": "histogram2d"
           }
          ],
          "histogram2dcontour": [
           {
            "colorbar": {
             "outlinewidth": 0,
             "ticks": ""
            },
            "colorscale": [
             [
              0,
              "#0d0887"
             ],
             [
              0.1111111111111111,
              "#46039f"
             ],
             [
              0.2222222222222222,
              "#7201a8"
             ],
             [
              0.3333333333333333,
              "#9c179e"
             ],
             [
              0.4444444444444444,
              "#bd3786"
             ],
             [
              0.5555555555555556,
              "#d8576b"
             ],
             [
              0.6666666666666666,
              "#ed7953"
             ],
             [
              0.7777777777777778,
              "#fb9f3a"
             ],
             [
              0.8888888888888888,
              "#fdca26"
             ],
             [
              1,
              "#f0f921"
             ]
            ],
            "type": "histogram2dcontour"
           }
          ],
          "mesh3d": [
           {
            "colorbar": {
             "outlinewidth": 0,
             "ticks": ""
            },
            "type": "mesh3d"
           }
          ],
          "parcoords": [
           {
            "line": {
             "colorbar": {
              "outlinewidth": 0,
              "ticks": ""
             }
            },
            "type": "parcoords"
           }
          ],
          "pie": [
           {
            "automargin": true,
            "type": "pie"
           }
          ],
          "scatter": [
           {
            "marker": {
             "colorbar": {
              "outlinewidth": 0,
              "ticks": ""
             }
            },
            "type": "scatter"
           }
          ],
          "scatter3d": [
           {
            "line": {
             "colorbar": {
              "outlinewidth": 0,
              "ticks": ""
             }
            },
            "marker": {
             "colorbar": {
              "outlinewidth": 0,
              "ticks": ""
             }
            },
            "type": "scatter3d"
           }
          ],
          "scattercarpet": [
           {
            "marker": {
             "colorbar": {
              "outlinewidth": 0,
              "ticks": ""
             }
            },
            "type": "scattercarpet"
           }
          ],
          "scattergeo": [
           {
            "marker": {
             "colorbar": {
              "outlinewidth": 0,
              "ticks": ""
             }
            },
            "type": "scattergeo"
           }
          ],
          "scattergl": [
           {
            "marker": {
             "colorbar": {
              "outlinewidth": 0,
              "ticks": ""
             }
            },
            "type": "scattergl"
           }
          ],
          "scattermapbox": [
           {
            "marker": {
             "colorbar": {
              "outlinewidth": 0,
              "ticks": ""
             }
            },
            "type": "scattermapbox"
           }
          ],
          "scatterpolar": [
           {
            "marker": {
             "colorbar": {
              "outlinewidth": 0,
              "ticks": ""
             }
            },
            "type": "scatterpolar"
           }
          ],
          "scatterpolargl": [
           {
            "marker": {
             "colorbar": {
              "outlinewidth": 0,
              "ticks": ""
             }
            },
            "type": "scatterpolargl"
           }
          ],
          "scatterternary": [
           {
            "marker": {
             "colorbar": {
              "outlinewidth": 0,
              "ticks": ""
             }
            },
            "type": "scatterternary"
           }
          ],
          "surface": [
           {
            "colorbar": {
             "outlinewidth": 0,
             "ticks": ""
            },
            "colorscale": [
             [
              0,
              "#0d0887"
             ],
             [
              0.1111111111111111,
              "#46039f"
             ],
             [
              0.2222222222222222,
              "#7201a8"
             ],
             [
              0.3333333333333333,
              "#9c179e"
             ],
             [
              0.4444444444444444,
              "#bd3786"
             ],
             [
              0.5555555555555556,
              "#d8576b"
             ],
             [
              0.6666666666666666,
              "#ed7953"
             ],
             [
              0.7777777777777778,
              "#fb9f3a"
             ],
             [
              0.8888888888888888,
              "#fdca26"
             ],
             [
              1,
              "#f0f921"
             ]
            ],
            "type": "surface"
           }
          ],
          "table": [
           {
            "cells": {
             "fill": {
              "color": "#EBF0F8"
             },
             "line": {
              "color": "white"
             }
            },
            "header": {
             "fill": {
              "color": "#C8D4E3"
             },
             "line": {
              "color": "white"
             }
            },
            "type": "table"
           }
          ]
         },
         "layout": {
          "annotationdefaults": {
           "arrowcolor": "#2a3f5f",
           "arrowhead": 0,
           "arrowwidth": 1
          },
          "autotypenumbers": "strict",
          "coloraxis": {
           "colorbar": {
            "outlinewidth": 0,
            "ticks": ""
           }
          },
          "colorscale": {
           "diverging": [
            [
             0,
             "#8e0152"
            ],
            [
             0.1,
             "#c51b7d"
            ],
            [
             0.2,
             "#de77ae"
            ],
            [
             0.3,
             "#f1b6da"
            ],
            [
             0.4,
             "#fde0ef"
            ],
            [
             0.5,
             "#f7f7f7"
            ],
            [
             0.6,
             "#e6f5d0"
            ],
            [
             0.7,
             "#b8e186"
            ],
            [
             0.8,
             "#7fbc41"
            ],
            [
             0.9,
             "#4d9221"
            ],
            [
             1,
             "#276419"
            ]
           ],
           "sequential": [
            [
             0,
             "#0d0887"
            ],
            [
             0.1111111111111111,
             "#46039f"
            ],
            [
             0.2222222222222222,
             "#7201a8"
            ],
            [
             0.3333333333333333,
             "#9c179e"
            ],
            [
             0.4444444444444444,
             "#bd3786"
            ],
            [
             0.5555555555555556,
             "#d8576b"
            ],
            [
             0.6666666666666666,
             "#ed7953"
            ],
            [
             0.7777777777777778,
             "#fb9f3a"
            ],
            [
             0.8888888888888888,
             "#fdca26"
            ],
            [
             1,
             "#f0f921"
            ]
           ],
           "sequentialminus": [
            [
             0,
             "#0d0887"
            ],
            [
             0.1111111111111111,
             "#46039f"
            ],
            [
             0.2222222222222222,
             "#7201a8"
            ],
            [
             0.3333333333333333,
             "#9c179e"
            ],
            [
             0.4444444444444444,
             "#bd3786"
            ],
            [
             0.5555555555555556,
             "#d8576b"
            ],
            [
             0.6666666666666666,
             "#ed7953"
            ],
            [
             0.7777777777777778,
             "#fb9f3a"
            ],
            [
             0.8888888888888888,
             "#fdca26"
            ],
            [
             1,
             "#f0f921"
            ]
           ]
          },
          "colorway": [
           "#636efa",
           "#EF553B",
           "#00cc96",
           "#ab63fa",
           "#FFA15A",
           "#19d3f3",
           "#FF6692",
           "#B6E880",
           "#FF97FF",
           "#FECB52"
          ],
          "font": {
           "color": "#2a3f5f"
          },
          "geo": {
           "bgcolor": "white",
           "lakecolor": "white",
           "landcolor": "#E5ECF6",
           "showlakes": true,
           "showland": true,
           "subunitcolor": "white"
          },
          "hoverlabel": {
           "align": "left"
          },
          "hovermode": "closest",
          "mapbox": {
           "style": "light"
          },
          "paper_bgcolor": "white",
          "plot_bgcolor": "#E5ECF6",
          "polar": {
           "angularaxis": {
            "gridcolor": "white",
            "linecolor": "white",
            "ticks": ""
           },
           "bgcolor": "#E5ECF6",
           "radialaxis": {
            "gridcolor": "white",
            "linecolor": "white",
            "ticks": ""
           }
          },
          "scene": {
           "xaxis": {
            "backgroundcolor": "#E5ECF6",
            "gridcolor": "white",
            "gridwidth": 2,
            "linecolor": "white",
            "showbackground": true,
            "ticks": "",
            "zerolinecolor": "white"
           },
           "yaxis": {
            "backgroundcolor": "#E5ECF6",
            "gridcolor": "white",
            "gridwidth": 2,
            "linecolor": "white",
            "showbackground": true,
            "ticks": "",
            "zerolinecolor": "white"
           },
           "zaxis": {
            "backgroundcolor": "#E5ECF6",
            "gridcolor": "white",
            "gridwidth": 2,
            "linecolor": "white",
            "showbackground": true,
            "ticks": "",
            "zerolinecolor": "white"
           }
          },
          "shapedefaults": {
           "line": {
            "color": "#2a3f5f"
           }
          },
          "ternary": {
           "aaxis": {
            "gridcolor": "white",
            "linecolor": "white",
            "ticks": ""
           },
           "baxis": {
            "gridcolor": "white",
            "linecolor": "white",
            "ticks": ""
           },
           "bgcolor": "#E5ECF6",
           "caxis": {
            "gridcolor": "white",
            "linecolor": "white",
            "ticks": ""
           }
          },
          "title": {
           "x": 0.05
          },
          "xaxis": {
           "automargin": true,
           "gridcolor": "white",
           "linecolor": "white",
           "ticks": "",
           "title": {
            "standoff": 15
           },
           "zerolinecolor": "white",
           "zerolinewidth": 2
          },
          "yaxis": {
           "automargin": true,
           "gridcolor": "white",
           "linecolor": "white",
           "ticks": "",
           "title": {
            "standoff": 15
           },
           "zerolinecolor": "white",
           "zerolinewidth": 2
          }
         }
        },
        "title": {
         "text": "Shot Speed vs Shot type"
        },
        "xaxis": {
         "title": {
          "text": "Shot type"
         }
        },
        "yaxis": {
         "title": {
          "text": "Shot Speed"
         }
        }
       }
      },
      "text/html": [
       "<div>                            <div id=\"14947135-fdaa-4e6f-bef3-89bf0312a54c\" class=\"plotly-graph-div\" style=\"height:525px; width:100%;\"></div>            <script type=\"text/javascript\">                require([\"plotly\"], function(Plotly) {                    window.PLOTLYENV=window.PLOTLYENV || {};                                    if (document.getElementById(\"14947135-fdaa-4e6f-bef3-89bf0312a54c\")) {                    Plotly.newPlot(                        \"14947135-fdaa-4e6f-bef3-89bf0312a54c\",                        [{\"marker\":{\"color\":\"blue\"},\"mode\":\"markers\",\"name\":\"Pospisil\",\"text\":[\"Player\",\"Player\",\"Player\",\"Player\",\"Player\",\"Player\",\"Player\",\"Player\",\"Player\",\"Player\",\"Player\",\"Player\",\"Player\",\"Player\",\"Player\",\"Player\",\"Player\",\"Player\",\"Player\",\"Player\",\"Player\",\"Player\",\"Player\",\"Player\",\"Player\",\"Player\",\"Player\",\"Player\",\"Player\",\"Player\",\"Player\",\"Player\",\"Player\",\"Player\",\"Player\",\"Player\",\"Player\",\"Player\",\"Player\",\"Player\",\"Player\",\"Player\",\"Player\",\"Player\",\"Player\",\"Player\",\"Player\",\"Player\",\"Player\",\"Player\",\"Player\",\"Player\",\"Player\",\"Player\",\"Player\",\"Player\",\"Player\",\"Player\",\"Player\",\"Player\",\"Player\",\"Player\",\"Player\",\"Player\",\"Player\",\"Player\",\"Player\",\"Player\",\"Player\",\"Player\",\"Player\",\"Player\",\"Player\",\"Player\",\"Player\",\"Player\",\"Player\",\"Player\",\"Player\",\"Player\",\"Player\",\"Player\",\"Player\",\"Player\",\"Player\",\"Player\",\"Player\",\"Player\",\"Player\",\"Player\",\"Player\",\"Player\",\"Player\",\"Player\",\"Player\",\"Player\",\"Player\",\"Player\",\"Player\",\"Player\",\"Player\",\"Player\",\"Player\",\"Player\",\"Player\",\"Player\",\"Player\",\"Player\",\"Player\",\"Player\",\"Player\",\"Player\",\"Player\",\"Player\",\"Player\",\"Player\",\"Player\",\"Player\",\"Player\",\"Player\",\"Player\",\"Player\",\"Player\",\"Player\",\"Player\",\"Player\",\"Player\",\"Player\",\"Player\",\"Player\",\"Player\",\"Player\",\"Player\",\"Player\",\"Player\",\"Player\",\"Player\",\"Player\",\"Player\",\"Player\",\"Player\",\"Player\",\"Player\",\"Player\",\"Player\",\"Player\",\"Player\",\"Player\",\"Player\",\"Player\",\"Player\",\"Player\",\"Player\",\"Player\",\"Player\",\"Player\",\"Player\",\"Player\",\"Player\",\"Player\",\"Player\",\"Player\",\"Player\",\"Player\",\"Player\",\"Player\",\"Player\",\"Player\",\"Player\",\"Player\",\"Player\",\"Player\",\"Player\",\"Player\",\"Player\",\"Player\",\"Player\",\"Player\",\"Player\",\"Player\",\"Player\",\"Player\",\"Player\",\"Player\",\"Player\",\"Player\",\"Player\",\"Player\",\"Player\",\"Player\",\"Player\",\"Player\",\"Player\",\"Player\",\"Player\",\"Player\",\"Player\",\"Player\",\"Player\",\"Player\",\"Player\",\"Player\",\"Player\",\"Player\",\"Player\",\"Player\",\"Player\",\"Player\",\"Player\",\"Player\",\"Player\",\"Player\",\"Player\",\"Player\",\"Player\",\"Player\",\"Player\",\"Player\",\"Player\",\"Player\",\"Player\",\"Player\",\"Player\",\"Player\",\"Player\",\"Player\",\"Player\",\"Player\",\"Player\",\"Player\",\"Player\",\"Player\",\"Player\",\"Player\",\"Player\",\"Player\",\"Player\",\"Player\",\"Player\",\"Player\",\"Player\",\"Player\",\"Player\",\"Player\",\"Player\",\"Player\",\"Player\",\"Player\",\"Player\",\"Player\",\"Player\",\"Player\",\"Player\",\"Player\",\"Player\",\"Player\",\"Player\",\"Player\",\"Player\",\"Player\",\"Player\",\"Player\",\"Player\",\"Player\",\"Player\",\"Player\",\"Player\",\"Player\",\"Player\",\"Player\",\"Player\",\"Player\",\"Player\",\"Player\",\"Player\",\"Player\",\"Player\",\"Player\",\"Player\",\"Player\",\"Player\",\"Player\",\"Player\",\"Player\",\"Player\",\"Player\",\"Player\",\"Player\",\"Player\",\"Player\",\"Player\",\"Player\",\"Player\",\"Player\",\"Player\",\"Player\",\"Player\",\"Player\",\"Player\",\"Player\",\"Player\",\"Player\",\"Player\",\"Player\",\"Player\",\"Player\",\"Player\",\"Player\",\"Player\",\"Player\",\"Player\",\"Player\",\"Player\",\"Player\",\"Player\",\"Player\",\"Player\",\"Player\",\"Player\",\"Player\",\"Player\",\"Player\",\"Player\",\"Player\",\"Player\",\"Player\",\"Player\",\"Player\",\"Player\",\"Player\",\"Player\",\"Player\",\"Player\",\"Player\",\"Player\",\"Player\",\"Player\",\"Player\",\"Player\",\"Player\",\"Player\",\"Player\",\"Player\",\"Player\",\"Player\",\"Player\",\"Player\",\"Player\",\"Player\",\"Player\",\"Player\",\"Player\",\"Player\",\"Player\",\"Player\",\"Player\",\"Player\",\"Player\",\"Player\",\"Player\",\"Player\",\"Player\",\"Player\",\"Player\",\"Player\",\"Player\",\"Player\",\"Player\",\"Player\",\"Player\",\"Player\",\"Player\",\"Player\",\"Player\",\"Player\",\"Player\",\"Player\",\"Player\",\"Player\",\"Player\",\"Player\",\"Player\",\"Player\",\"Player\",\"Player\",\"Player\",\"Player\",\"Player\",\"Player\",\"Player\",\"Player\",\"Player\",\"Player\",\"Player\",\"Player\",\"Player\",\"Player\",\"Player\",\"Player\",\"Player\",\"Player\",\"Player\",\"Player\",\"Player\"],\"x\":[\"Serve\",\"Serve\",\"Forehand\",\"Serve\",\"Serve\",\"Serve\",\"Forehand\",\"Serve\",\"Serve\",\"Serve\",\"Serve\",\"Serve\",\"Backhand\",\"Backhand\",\"Backhand\",\"Backhand\",\"Backhand\",\"Forehand\",\"Forehand\",\"FH Volley\",\"Forehand\",\"Forehand\",\"Backhand\",\"Backhand\",\"Backhand\",\"Serve\",\"Serve\",\"Serve\",\"Serve\",\"Forehand\",\"Serve\",\"Serve\",\"Forehand\",\"Serve\",\"Forehand\",\"Serve\",\"Serve\",\"Backhand\",\"Serve\",\"Serve\",\"Forehand\",\"Forehand\",\"Forehand\",\"Backhand\",\"Forehand\",\"Forehand\",\"Backhand\",\"Forehand\",\"Backhand\",\"Serve\",\"Serve\",\"Forehand\",\"Forehand\",\"Serve\",\"Serve\",\"Forehand\",\"Serve\",\"Backhand\",\"Serve\",\"Backhand\",\"Backhand\",\"Forehand\",\"Forehand\",\"Forehand\",\"Forehand\",\"Forehand\",\"Backhand\",\"Backhand\",\"Forehand\",\"Serve\",\"BH Volley\",\"Serve\",\"Serve\",\"Serve\",\"Serve\",\"Forehand\",\"Serve\",\"Forehand\",\"Forehand\",\"Backhand\",\"Forehand\",\"Backhand\",\"Backhand\",\"Backhand\",\"Backhand\",\"Backhand\",\"Forehand\",\"Backhand\",\"Forehand\",\"Backhand\",\"Forehand\",\"Backhand\",\"Serve\",\"Forehand\",\"Forehand\",\"Forehand\",\"Backhand\",\"Forehand\",\"Backhand\",\"Backhand\",\"Backhand\",\"Serve\",\"Serve\",\"Serve\",\"Forehand\",\"Serve\",\"Serve\",\"Forehand\",\"Forehand\",\"Backhand\",\"Forehand\",\"Backhand\",\"Backhand\",\"Backhand\",\"Forehand\",\"Backhand\",\"Forehand\",\"Backhand\",\"Backhand\",\"Serve\",\"Serve\",\"Backhand\",\"Serve\",\"Serve\",\"Serve\",\"Forehand\",\"Serve\",\"Serve\",\"Backhand\",\"Backhand\",\"Forehand\",\"Forehand\",\"Forehand\",\"Backhand\",\"Serve\",\"Serve\",\"Serve\",\"Forehand\",\"Serve\",\"Serve\",\"Serve\",\"Backhand\",\"Backhand\",\"Backhand\",\"Forehand\",\"Forehand\",\"Backhand\",\"Backhand\",\"Backhand\",\"Forehand\",\"Forehand\",\"Backhand\",\"Backhand\",\"Backhand\",\"Backhand\",\"Backhand\",\"Backhand\",\"Backhand\",\"Backhand\",\"Forehand\",\"Serve\",\"Serve\",\"Forehand\",\"Serve\",\"Serve\",\"Forehand\",\"Backhand\",\"Serve\",\"Serve\",\"Serve\",\"Backhand\",\"Forehand\",\"Backhand\",\"Backhand\",\"Backhand\",\"Forehand\",\"Backhand\",\"Backhand\",\"Forehand\",\"Forehand\",\"Forehand\",\"Backhand\",\"Forehand\",\"Forehand\",\"Backhand\",\"Serve\",\"Forehand\",\"Forehand\",\"Serve\",\"Serve\",\"Backhand\",\"Backhand\",\"Serve\",\"Serve\",\"Serve\",\"Serve\",\"Serve\",\"Serve\",\"Serve\",\"Serve\",\"Backhand\",\"Backhand\",\"Forehand\",\"Backhand\",\"Serve\",\"Forehand\",\"Serve\",\"Forehand\",\"Serve\",\"Serve\",\"Serve\",\"Forehand\",\"Serve\",\"Serve\",\"Forehand\",\"Forehand\",\"Serve\",\"Serve\",\"Backhand\",\"Serve\",\"Serve\",\"Backhand\",\"Backhand\",\"Backhand\",\"Forehand\",\"Backhand\",\"Forehand\",\"Backhand\",\"Backhand\",\"Forehand\",\"Backhand\",\"Forehand\",\"Backhand\",\"Serve\",\"Serve\",\"Forehand\",\"Forehand\",\"Serve\",\"Serve\",\"Forehand\",\"Backhand\",\"Backhand\",\"Forehand\",\"Serve\",\"Serve\",\"Serve\",\"Serve\",\"Forehand\",\"Backhand\",\"Backhand\",\"Forehand\",\"Forehand\",\"Forehand\",\"Forehand\",\"Backhand\",\"Backhand\",\"Forehand\",\"Backhand\",\"Backhand\",\"Backhand\",\"Backhand\",\"Backhand\",\"Forehand\",\"Forehand\",\"Backhand\",\"Forehand\",\"Backhand\",\"Forehand\",\"Forehand\",\"Forehand\",\"Backhand\",\"Serve\",\"Serve\",\"Backhand\",\"Serve\",\"Serve\",\"Serve\",\"Serve\",\"Serve\",\"Forehand\",\"Serve\",\"Forehand\",\"Serve\",\"Forehand\",\"Backhand\",\"Serve\",\"Serve\",\"Serve\",\"Serve\",\"Serve\",\"Backhand\",\"Backhand\",\"Backhand\",\"Serve\",\"Forehand\",\"Serve\",\"Serve\",\"Backhand\",\"Serve\",\"Serve\",\"Forehand\",\"Serve\",\"Serve\",\"Serve\",\"Serve\",\"Backhand\",\"Serve\",\"Serve\",\"Forehand\",\"Serve\",\"Forehand\",\"Forehand\",\"Forehand\",\"Backhand\",\"Backhand\",\"Forehand\",\"Forehand\",\"Backhand\",\"Backhand\",\"Backhand\",\"Backhand\",\"Backhand\",\"Forehand\",\"Forehand\",\"Forehand\",\"Backhand\",\"Backhand\",\"Backhand\",\"BH Volley\",\"Serve\",\"Serve\",\"Serve\",\"Forehand\",\"FH Volley\",\"Backhand\",\"Serve\",\"Serve\",\"Serve\",\"Serve\",\"Serve\",\"Serve\",\"Forehand\",\"Forehand\",\"Forehand\",\"Forehand\",\"Forehand\",\"Backhand\",\"Backhand\",\"Forehand\",\"Backhand\",\"Forehand\",\"Forehand\",\"Backhand\",\"Backhand\",\"Serve\",\"Serve\",\"Serve\",\"Forehand\",\"Serve\",\"Forehand\",\"Serve\",\"Serve\",\"Serve\",\"Forehand\",\"Backhand\",\"Backhand\",\"Backhand\",\"Backhand\",\"Forehand\",\"Backhand\",\"Backhand\",\"Forehand\",\"Backhand\",\"Serve\",\"Serve\",\"Forehand\",\"Forehand\",\"Forehand\",\"Serve\",\"Serve\",\"Serve\",\"FH Volley\",\"Serve\",\"Backhand\",\"Forehand\",\"Backhand\",\"Backhand\",\"Backhand\",\"Backhand\",\"Forehand\",\"BH Volley\",\"Overhead\",\"Backhand\",\"Forehand\",\"Forehand\",\"Backhand\",\"Backhand\",\"Backhand\",\"Backhand\",\"Backhand\",\"Forehand\",\"Forehand\",\"Backhand\",\"Forehand\"],\"y\":[166.363281,126.269508,104.31604,110.567711,94.473465,143.428314,121.841362,73.324745,127.867363,138.194534,126.758484,135.053497,79.956505,91.414658,73.998878,74.146561,104.52829,93.485207,121.069,34.843319,95.097328,115.525398,118.767845,86.101639,84.314781,null,null,202.078918,142.025299,90.916985,118.871452,149.150208,67.103271,145.843109,82.811913,91.834106,130.675079,61.988026,106.161484,128.59906,84.027985,111.239662,44.010815,81.525917,83.750565,114.510849,90.102036,75.569321,58.510414,162.567688,116.530983,105.710678,91.767555,118.566048,151.512466,86.306305,107.916283,46.474094,166.588196,70.724823,84.438766,138.880661,63.228535,84.436371,86.179657,97.699677,69.413628,85.293709,121.33844,170.821655,40.418251,154.751205,154.898346,130.818054,155.280899,127.517418,101.542831,108.328445,103.934494,75.324425,97.880081,72.063347,104.394722,82.689667,78.894096,89.828743,64.099289,50.891689,99.038742,97.112473,77.71389,80.595032,163.357452,125.979408,98.370522,94.703575,89.421379,79.874977,76.715416,89.300713,48.83049,117.779854,103.141624,137.174225,56.267689,116.436615,130.692291,119.212532,111.507843,103.037651,110.053825,102.579086,64.824509,83.374557,99.723221,75.372879,101.58757,100.074409,90.615829,202.92749,147.999054,93.822716,109.466087,149.704681,139.339661,null,115.618561,135.313019,null,58.906158,56.032978,84.942688,78.911583,76.619614,107.96489,115.190155,132.793442,99.720215,114.319725,167.104736,95.396133,62.116451,86.827126,96.118919,105.111687,110.076195,74.431427,107.344002,65.012672,null,81.574692,99.316261,54.644333,85.343544,93.622231,105.564514,93.525055,58.328079,96.813133,75.271919,143.221832,136.398071,114.468361,155.070816,126.443092,84.297203,95.213593,154.441208,183.113083,161.313736,83.81208,100.262436,94.648323,56.252804,79.944664,76.249451,65.513748,89.729584,71.59185,75.004112,82.63858,74.091499,71.737671,87.21228,67.348473,121.712097,120.145248,101.80085,119.387024,134.158463,84.818176,80.718765,129.042877,121.17334,135.090347,152.753952,129.669327,113.434662,153.051682,118.806915,94.847885,85.391418,95.776047,48.105331,180.330566,105.627739,135.720139,82.501259,132.201553,74.454147,85.16597,64.166283,116.556107,108.578003,120.979195,102.330452,106.854721,136.039459,110.440819,136.517929,null,54.995796,56.766331,88.748413,81.118553,80.866776,107.601669,92.904495,60.391788,99.99205,76.2211,101.565132,68.505493,145.279877,123.616066,88.538849,83.194145,137.554901,134.507645,109.964584,89.422569,95.608978,80.951851,117.690926,104.662872,null,128.672958,105.05658,80.326012,43.053253,109.397995,104.398537,61.173656,76.783554,76.932816,93.613075,111.530174,80.912575,102.222694,62.948002,85.263618,null,61.210506,72.850906,106.404999,84.137634,85.851707,50.228252,111.361702,98.696945,69.297447,75.73069,202.92749,67.717346,113.048912,129.566254,160.489914,167.093231,126.122849,110.438393,137.860275,98.722023,195.680084,77.910851,80.865227,147.709503,138.063553,166.00827,39.504692,144.974869,71.761978,106.902702,69.902679,173.839478,93.031387,85.143394,127.729301,86.12738,117.379631,140.661072,140.488266,156.220749,169.817673,182.429214,147.525787,80.72065,88.048271,70.584976,95.641655,null,82.334251,109.926048,81.352936,75.247459,91.167564,84.74485,89.411003,80.58371,83.268433,70.062775,72.031609,68.557838,85.795036,52.65398,95.348717,62.926521,85.720016,78.243675,null,135.886673,103.02195,92.79023,99.135323,30.662121,50.996513,41.277985,126.525276,136.243988,148.107407,143.164764,138.738632,81.068451,92.920174,91.762733,106.598984,86.8209,98.408073,59.253536,80.688751,72.773949,103.144081,103.109367,66.468361,70.524216,155.03595,125.152107,154.221817,126.233253,155.912399,113.105652,159.646866,124.248093,158.792389,111.416878,58.281216,54.479652,70.793716,79.14386,80.363235,80.585121,75.026657,56.75943,85.688118,146.827042,114.806137,91.487587,57.384197,99.732674,93.197632,112.485161,96.524864,37.630787,166.442978,106.515503,104.619637,100.012917,88.348358,78.488785,166.690445,108.673271,27.874657,36.237053,96.001213,61.594387,64.45385,66.683228,85.09304,92.536499,75.055977,76.267067,120.567772,111.376595,88.921425,99.088295],\"type\":\"scatter\"},{\"marker\":{\"color\":\"red\"},\"mode\":\"markers\",\"name\":\"Wolf\",\"text\":[\"Opponent\",\"Opponent\",\"Opponent\",\"Opponent\",\"Opponent\",\"Opponent\",\"Opponent\",\"Opponent\",\"Opponent\",\"Opponent\",\"Opponent\",\"Opponent\",\"Opponent\",\"Opponent\",\"Opponent\",\"Opponent\",\"Opponent\",\"Opponent\",\"Opponent\",\"Opponent\",\"Opponent\",\"Opponent\",\"Opponent\",\"Opponent\",\"Opponent\",\"Opponent\",\"Opponent\",\"Opponent\",\"Opponent\",\"Opponent\",\"Opponent\",\"Opponent\",\"Opponent\",\"Opponent\",\"Opponent\",\"Opponent\",\"Opponent\",\"Opponent\",\"Opponent\",\"Opponent\",\"Opponent\",\"Opponent\",\"Opponent\",\"Opponent\",\"Opponent\",\"Opponent\",\"Opponent\",\"Opponent\",\"Opponent\",\"Opponent\",\"Opponent\",\"Opponent\",\"Opponent\",\"Opponent\",\"Opponent\",\"Opponent\",\"Opponent\",\"Opponent\",\"Opponent\",\"Opponent\",\"Opponent\",\"Opponent\",\"Opponent\",\"Opponent\",\"Opponent\",\"Opponent\",\"Opponent\",\"Opponent\",\"Opponent\",\"Opponent\",\"Opponent\",\"Opponent\",\"Opponent\",\"Opponent\",\"Opponent\",\"Opponent\",\"Opponent\",\"Opponent\",\"Opponent\",\"Opponent\",\"Opponent\",\"Opponent\",\"Opponent\",\"Opponent\",\"Opponent\",\"Opponent\",\"Opponent\",\"Opponent\",\"Opponent\",\"Opponent\",\"Opponent\",\"Opponent\",\"Opponent\",\"Opponent\",\"Opponent\",\"Opponent\",\"Opponent\",\"Opponent\",\"Opponent\",\"Opponent\",\"Opponent\",\"Opponent\",\"Opponent\",\"Opponent\",\"Opponent\",\"Opponent\",\"Opponent\",\"Opponent\",\"Opponent\",\"Opponent\",\"Opponent\",\"Opponent\",\"Opponent\",\"Opponent\",\"Opponent\",\"Opponent\",\"Opponent\",\"Opponent\",\"Opponent\",\"Opponent\",\"Opponent\",\"Opponent\",\"Opponent\",\"Opponent\",\"Opponent\",\"Opponent\",\"Opponent\",\"Opponent\",\"Opponent\",\"Opponent\",\"Opponent\",\"Opponent\",\"Opponent\",\"Opponent\",\"Opponent\",\"Opponent\",\"Opponent\",\"Opponent\",\"Opponent\",\"Opponent\",\"Opponent\",\"Opponent\",\"Opponent\",\"Opponent\",\"Opponent\",\"Opponent\",\"Opponent\",\"Opponent\",\"Opponent\",\"Opponent\",\"Opponent\",\"Opponent\",\"Opponent\",\"Opponent\",\"Opponent\",\"Opponent\",\"Opponent\",\"Opponent\",\"Opponent\",\"Opponent\",\"Opponent\",\"Opponent\",\"Opponent\",\"Opponent\",\"Opponent\",\"Opponent\",\"Opponent\",\"Opponent\",\"Opponent\",\"Opponent\",\"Opponent\",\"Opponent\",\"Opponent\",\"Opponent\",\"Opponent\",\"Opponent\",\"Opponent\",\"Opponent\",\"Opponent\",\"Opponent\",\"Opponent\",\"Opponent\",\"Opponent\",\"Opponent\",\"Opponent\",\"Opponent\",\"Opponent\",\"Opponent\",\"Opponent\",\"Opponent\",\"Opponent\",\"Opponent\",\"Opponent\",\"Opponent\",\"Opponent\",\"Opponent\",\"Opponent\",\"Opponent\",\"Opponent\",\"Opponent\",\"Opponent\",\"Opponent\",\"Opponent\",\"Opponent\",\"Opponent\",\"Opponent\",\"Opponent\",\"Opponent\",\"Opponent\",\"Opponent\",\"Opponent\",\"Opponent\",\"Opponent\",\"Opponent\",\"Opponent\",\"Opponent\",\"Opponent\",\"Opponent\",\"Opponent\",\"Opponent\",\"Opponent\",\"Opponent\",\"Opponent\",\"Opponent\",\"Opponent\",\"Opponent\",\"Opponent\",\"Opponent\",\"Opponent\",\"Opponent\",\"Opponent\",\"Opponent\",\"Opponent\",\"Opponent\",\"Opponent\",\"Opponent\",\"Opponent\",\"Opponent\",\"Opponent\",\"Opponent\",\"Opponent\",\"Opponent\",\"Opponent\",\"Opponent\",\"Opponent\",\"Opponent\",\"Opponent\",\"Opponent\",\"Opponent\",\"Opponent\",\"Opponent\",\"Opponent\",\"Opponent\",\"Opponent\",\"Opponent\",\"Opponent\",\"Opponent\",\"Opponent\",\"Opponent\",\"Opponent\",\"Opponent\",\"Opponent\",\"Opponent\",\"Opponent\",\"Opponent\",\"Opponent\",\"Opponent\",\"Opponent\",\"Opponent\",\"Opponent\",\"Opponent\",\"Opponent\",\"Opponent\",\"Opponent\",\"Opponent\",\"Opponent\",\"Opponent\",\"Opponent\",\"Opponent\",\"Opponent\",\"Opponent\",\"Opponent\",\"Opponent\",\"Opponent\",\"Opponent\",\"Opponent\",\"Opponent\",\"Opponent\",\"Opponent\",\"Opponent\",\"Opponent\",\"Opponent\",\"Opponent\",\"Opponent\",\"Opponent\",\"Opponent\",\"Opponent\",\"Opponent\",\"Opponent\",\"Opponent\",\"Opponent\",\"Opponent\",\"Opponent\",\"Opponent\",\"Opponent\",\"Opponent\",\"Opponent\",\"Opponent\",\"Opponent\",\"Opponent\",\"Opponent\",\"Opponent\",\"Opponent\",\"Opponent\",\"Opponent\",\"Opponent\",\"Opponent\",\"Opponent\",\"Opponent\",\"Opponent\",\"Opponent\",\"Opponent\",\"Opponent\",\"Opponent\",\"Opponent\",\"Opponent\",\"Opponent\",\"Opponent\",\"Opponent\",\"Opponent\",\"Opponent\",\"Opponent\",\"Opponent\",\"Opponent\",\"Opponent\",\"Opponent\",\"Opponent\",\"Opponent\",\"Opponent\",\"Opponent\",\"Opponent\",\"Opponent\",\"Opponent\",\"Opponent\",\"Opponent\",\"Opponent\",\"Opponent\",\"Opponent\",\"Opponent\",\"Opponent\",\"Opponent\",\"Opponent\",\"Opponent\",\"Opponent\",\"Opponent\",\"Opponent\",\"Opponent\",\"Opponent\",\"Opponent\",\"Opponent\",\"Opponent\",\"Opponent\",\"Opponent\",\"Opponent\",\"Opponent\",\"Opponent\",\"Opponent\",\"Opponent\",\"Opponent\",\"Opponent\",\"Opponent\",\"Opponent\",\"Opponent\",\"Opponent\",\"Opponent\",\"Opponent\",\"Opponent\",\"Opponent\",\"Opponent\",\"Opponent\",\"Opponent\",\"Opponent\",\"Opponent\",\"Opponent\",\"Opponent\",\"Opponent\",\"Opponent\",\"Opponent\",\"Opponent\",\"Opponent\",\"Opponent\",\"Opponent\"],\"x\":[\"Backhand\",\"Forehand\",\"Backhand\",\"Backhand\",\"Backhand\",\"Serve\",\"Serve\",\"Serve\",\"Forehand\",\"Backhand\",\"Serve\",\"Serve\",\"Forehand\",\"Forehand\",\"Backhand\",\"Backhand\",\"Serve\",\"Forehand\",\"Serve\",\"Serve\",\"Forehand\",\"Serve\",\"Serve\",\"Forehand\",\"Forehand\",\"Backhand\",\"Forehand\",\"Backhand\",\"Backhand\",\"Backhand\",\"Forehand\",\"Forehand\",\"Forehand\",\"Backhand\",\"Serve\",\"Forehand\",\"Serve\",\"Forehand\",\"Serve\",\"Serve\",\"Serve\",\"Serve\",\"Forehand\",\"Forehand\",\"Serve\",\"Forehand\",\"BH Volley\",\"Backhand\",\"Forehand\",\"Forehand\",\"Forehand\",\"Forehand\",\"Backhand\",\"Backhand\",\"Forehand\",\"Serve\",\"Forehand\",\"Backhand\",\"Forehand\",\"Serve\",\"Serve\",\"Backhand\",\"Forehand\",\"Serve\",\"Serve\",\"FH Volley\",\"Serve\",\"Backhand\",\"Forehand\",\"Backhand\",\"Forehand\",\"Forehand\",\"Forehand\",\"Serve\",\"Serve\",\"Serve\",\"Serve\",\"Serve\",\"Backhand\",\"Forehand\",\"Backhand\",\"Serve\",\"Serve\",\"Serve\",\"Forehand\",\"Serve\",\"Forehand\",\"Forehand\",\"Serve\",\"Forehand\",\"Serve\",\"Serve\",\"Forehand\",\"Forehand\",\"Forehand\",\"Backhand\",\"Forehand\",\"Forehand\",\"Forehand\",\"Backhand\",\"Backhand\",\"Backhand\",\"Forehand\",\"Forehand\",\"Backhand\",\"Serve\",\"Forehand\",\"FH Volley\",\"BH Volley\",\"Serve\",\"Serve\",\"Forehand\",\"Serve\",\"Serve\",\"Serve\",\"Serve\",\"Serve\",\"Backhand\",\"Backhand\",\"Forehand\",\"Serve\",\"Serve\",\"Forehand\",\"Forehand\",\"Backhand\",\"Backhand\",\"Forehand\",\"Forehand\",\"Serve\",\"Forehand\",\"Overhead\",\"Serve\",\"Serve\",\"Serve\",\"Serve\",\"Forehand\",\"Backhand\",\"Backhand\",\"Forehand\",\"Backhand\",\"Forehand\",\"Forehand\",\"Serve\",\"Serve\",\"Forehand\",\"Forehand\",\"Serve\",\"Serve\",\"Backhand\",\"Serve\",\"Backhand\",\"Backhand\",\"Serve\",\"Forehand\",\"Serve\",\"Serve\",\"Forehand\",\"Backhand\",\"Backhand\",\"Serve\",\"Serve\",\"Forehand\",\"Serve\",\"Serve\",\"Forehand\",\"Serve\",\"Forehand\",\"Backhand\",\"Backhand\",\"Forehand\",\"Forehand\",\"Forehand\",\"Serve\",\"Serve\",\"Backhand\",\"Forehand\",\"Serve\",\"Overhead\",\"Serve\",\"Forehand\",\"Forehand\",\"Forehand\",\"Backhand\",\"Serve\",\"Forehand\",\"Forehand\",\"BH Volley\",\"FH Volley\",\"Serve\",\"Serve\",\"Forehand\",\"Backhand\",\"Backhand\",\"Backhand\",\"Backhand\",\"Backhand\",\"Forehand\",\"Serve\",\"Serve\",\"Forehand\",\"Serve\",\"Serve\",\"Forehand\",\"Forehand\",\"Backhand\",\"Forehand\",\"Backhand\",\"Backhand\",\"Forehand\",\"Forehand\",\"Backhand\",\"Forehand\",\"Serve\",\"Serve\",\"Serve\",\"Forehand\",\"Forehand\",\"Forehand\",\"Forehand\",\"Serve\",\"Forehand\",\"Backhand\",\"Serve\",\"Serve\",\"Backhand\",\"Backhand\",\"Serve\",\"Serve\",\"Forehand\",\"Forehand\",\"Backhand\",\"Backhand\",\"Backhand\",\"Backhand\",\"Backhand\",\"Backhand\",\"Backhand\",\"Forehand\",\"Serve\",\"Backhand\",\"Serve\",\"Serve\",\"Serve\",\"Forehand\",\"Serve\",\"Forehand\",\"Serve\",\"Serve\",\"Forehand\",\"Serve\",\"Serve\",\"Forehand\",\"Forehand\",\"Forehand\",\"Backhand\",\"Forehand\",\"Serve\",\"Serve\",\"Forehand\",\"Serve\",\"Forehand\",\"Forehand\",\"Forehand\",\"Serve\",\"Forehand\",\"Serve\",\"Serve\",\"Backhand\",\"Backhand\",\"Backhand\",\"Backhand\",\"Forehand\",\"Forehand\",\"Forehand\",\"Forehand\",\"Forehand\",\"Forehand\",\"Forehand\",\"Backhand\",\"Forehand\",\"Forehand\",\"Forehand\",\"Backhand\",\"Forehand\",\"Forehand\",\"Backhand\",\"Backhand\",\"Forehand\",\"Forehand\",\"Forehand\",\"Backhand\",\"Forehand\",\"Forehand\",\"Forehand\",\"Forehand\",\"Backhand\",\"Backhand\",\"Serve\",\"Forehand\",\"Serve\",\"Serve\",\"Serve\",\"Backhand\",\"Backhand\",\"FH Volley\",\"Serve\",\"Backhand\",\"Serve\",\"Forehand\",\"BH Volley\",\"Serve\",\"Backhand\",\"Forehand\",\"Forehand\",\"Backhand\",\"Backhand\",\"Forehand\",\"Backhand\",\"Forehand\",\"Forehand\",\"Forehand\",\"Forehand\",\"Forehand\",\"Serve\",\"Forehand\",\"Backhand\",\"Serve\",\"Serve\",\"Serve\",\"Serve\",\"Forehand\",\"Forehand\",\"Backhand\",\"Forehand\",\"Serve\",\"Serve\",\"Forehand\",\"Serve\",\"Serve\",\"Forehand\",\"Forehand\",\"Backhand\",\"Forehand\",\"Backhand\",\"Backhand\",\"Serve\",\"Serve\",\"Forehand\",\"BH Volley\",\"Serve\",\"Serve\",\"Forehand\",\"Serve\",\"Forehand\",\"BH Volley\",\"Serve\",\"Serve\",\"Backhand\",\"Backhand\",\"Forehand\",\"Forehand\",\"Backhand\",\"Forehand\",\"Backhand\",\"Serve\",\"Serve\",\"Serve\",\"Forehand\",\"Forehand\",\"Serve\",\"Serve\",\"Backhand\",\"Backhand\",\"Forehand\",\"Serve\",\"Serve\",\"Forehand\",\"Serve\",\"Forehand\",\"Serve\",\"Forehand\",\"Serve\",\"Serve\",\"Forehand\",\"Backhand\",\"Backhand\",\"Backhand\",\"Forehand\",\"Serve\",\"Serve\",\"Forehand\",\"Backhand\"],\"y\":[70.656006,90.118004,78.757332,107.008484,115.401077,122.690895,86.152313,90.455971,120.514259,93.383263,73.279663,95.120171,77.21286,93.235603,92.444786,57.347374,145.696243,85.205666,103.562408,118.513489,100.287956,122.950623,111.271889,96.919159,53.398014,null,null,66.082611,87.971054,75.404854,86.140068,76.985634,87.684532,81.28093,133.400818,64.797531,156.245361,108.106529,152.219467,118.648102,195.680084,148.512756,101.999512,110.913551,130.91246,116.628853,37.630787,96.83992,106.468567,98.102432,84.601158,100.454239,76.658569,95.573479,82.496483,117.708092,106.503769,99.611221,92.537392,98.843224,135.849808,80.854759,80.580467,153.187195,80.778633,30.662121,150.456055,97.309517,65.942314,75.042953,120.011848,92.029716,91.968422,140.353561,136.05043,139.344574,128.304657,79.032303,75.473129,87.430115,101.75074,158.218857,158.14296,113.648621,null,140.74617,94.530067,81.087166,110.305969,117.396713,106.487129,143.730392,95.949615,106.416443,110.663696,48.324123,83.322456,89.970474,94.439377,113.489487,123.250603,109.298531,91.248871,82.073555,87.755569,107.853889,91.986244,30.662121,29.268389,91.782944,138.085907,87.014381,131.86058,124.574211,108.9188,123.60685,121.899208,71.458107,88.413597,84.286644,142.643265,95.623726,86.265938,59.372974,89.867363,51.779488,75.831337,112.212112,121.958916,122.90451,201.255249,152.574997,136.381332,117.978516,209.089432,85.485176,78.697899,89.176834,93.571404,87.594299,104.283287,34.756573,161.844543,124.04174,90.962761,94.144615,124.911072,137.589569,68.084602,153.740936,72.454666,97.380569,null,59.405151,129.598526,126.181213,92.110268,50.292553,106.643478,122.471291,119.482353,82.973419,133.452988,103.386101,89.15744,130.562592,93.199921,62.44315,76.718819,90.183571,67.941765,41.97179,111.982384,121.374367,94.649712,80.972885,150.820419,115.781219,118.858398,107.963333,102.877914,96.550537,107.338608,145.752823,122.92408,102.892982,32.055855,33.449589,71.547913,127.601143,78.457787,61.307163,119.307358,82.017311,107.381119,111.443825,90.833778,129.603714,111.897949,84.39032,96.033112,162.539124,72.225868,86.223366,79.637161,93.042175,75.024361,67.0933,106.3004,90.870918,83.007202,null,158.131424,123.613251,120.102486,91.757278,80.429634,65.974373,94.765564,143.794876,101.096817,99.011398,161.609024,137.280319,67.767151,94.539886,107.473808,120.233162,81.73539,94.267609,87.147369,70.153214,89.807037,103.30117,115.428879,75.9813,56.099045,92.670494,131.457169,52.239952,120.351379,121.886116,103.920456,101.640282,129.19957,85.677635,118.707924,77.206642,83.614464,102.517731,104.770317,91.025345,94.423668,94.603905,89.87175,92.291962,186.726456,124.10041,106.865097,148.704697,81.016502,74.017044,76.978638,138.765366,102.859428,125.844757,120.81855,77.267578,97.795929,94.240364,96.586037,92.586441,79.858284,110.640625,90.076088,73.599686,87.986511,101.398796,93.220116,96.890099,71.892464,81.026039,77.179565,99.533524,63.170124,74.655777,68.357719,52.867352,108.115639,85.017792,90.365685,83.801361,75.0522,90.097733,90.257088,84.67408,85.257851,57.232807,76.793213,172.482666,57.09539,125.332176,108.933151,141.361313,29.268389,152.479935,82.221428,118.955734,130.453384,33.449589,164.048965,95.844696,43.786263,42.866737,143.220657,75.383812,74.807152,82.154266,62.067387,86.852219,84.629601,96.841362,45.38821,122.134148,80.569115,89.750084,127.108749,108.111275,106.788429,118.314034,73.379448,70.914108,96.334717,76.182945,109.685471,102.299561,121.711143,131.403687,131.795212,54.019962,71.755188,82.959129,89.007858,57.006466,62.732357,139.232071,145.492859,122.545731,null,129.98027,144.249161,71.782753,140.227371,120.41851,27.874657,125.210449,134.486435,87.55764,98.009247,82.743904,65.512909,79.475365,126.065819,79.323601,146.146027,103.849907,102.897476,90.169418,93.291031,127.228989,null,89.314499,56.647644,65.816864,123.205063,133.295303,81.050453,97.957962,119.100906,105.740318,99.644402,83.394539,87.327179,77.291489,106.907539,79.697868,93.371613,127.210625,133.9729,118.228752,84.247383,51.100441],\"type\":\"scatter\"}],                        {\"template\":{\"data\":{\"bar\":[{\"error_x\":{\"color\":\"#2a3f5f\"},\"error_y\":{\"color\":\"#2a3f5f\"},\"marker\":{\"line\":{\"color\":\"#E5ECF6\",\"width\":0.5},\"pattern\":{\"fillmode\":\"overlay\",\"size\":10,\"solidity\":0.2}},\"type\":\"bar\"}],\"barpolar\":[{\"marker\":{\"line\":{\"color\":\"#E5ECF6\",\"width\":0.5},\"pattern\":{\"fillmode\":\"overlay\",\"size\":10,\"solidity\":0.2}},\"type\":\"barpolar\"}],\"carpet\":[{\"aaxis\":{\"endlinecolor\":\"#2a3f5f\",\"gridcolor\":\"white\",\"linecolor\":\"white\",\"minorgridcolor\":\"white\",\"startlinecolor\":\"#2a3f5f\"},\"baxis\":{\"endlinecolor\":\"#2a3f5f\",\"gridcolor\":\"white\",\"linecolor\":\"white\",\"minorgridcolor\":\"white\",\"startlinecolor\":\"#2a3f5f\"},\"type\":\"carpet\"}],\"choropleth\":[{\"colorbar\":{\"outlinewidth\":0,\"ticks\":\"\"},\"type\":\"choropleth\"}],\"contour\":[{\"colorbar\":{\"outlinewidth\":0,\"ticks\":\"\"},\"colorscale\":[[0.0,\"#0d0887\"],[0.1111111111111111,\"#46039f\"],[0.2222222222222222,\"#7201a8\"],[0.3333333333333333,\"#9c179e\"],[0.4444444444444444,\"#bd3786\"],[0.5555555555555556,\"#d8576b\"],[0.6666666666666666,\"#ed7953\"],[0.7777777777777778,\"#fb9f3a\"],[0.8888888888888888,\"#fdca26\"],[1.0,\"#f0f921\"]],\"type\":\"contour\"}],\"contourcarpet\":[{\"colorbar\":{\"outlinewidth\":0,\"ticks\":\"\"},\"type\":\"contourcarpet\"}],\"heatmap\":[{\"colorbar\":{\"outlinewidth\":0,\"ticks\":\"\"},\"colorscale\":[[0.0,\"#0d0887\"],[0.1111111111111111,\"#46039f\"],[0.2222222222222222,\"#7201a8\"],[0.3333333333333333,\"#9c179e\"],[0.4444444444444444,\"#bd3786\"],[0.5555555555555556,\"#d8576b\"],[0.6666666666666666,\"#ed7953\"],[0.7777777777777778,\"#fb9f3a\"],[0.8888888888888888,\"#fdca26\"],[1.0,\"#f0f921\"]],\"type\":\"heatmap\"}],\"heatmapgl\":[{\"colorbar\":{\"outlinewidth\":0,\"ticks\":\"\"},\"colorscale\":[[0.0,\"#0d0887\"],[0.1111111111111111,\"#46039f\"],[0.2222222222222222,\"#7201a8\"],[0.3333333333333333,\"#9c179e\"],[0.4444444444444444,\"#bd3786\"],[0.5555555555555556,\"#d8576b\"],[0.6666666666666666,\"#ed7953\"],[0.7777777777777778,\"#fb9f3a\"],[0.8888888888888888,\"#fdca26\"],[1.0,\"#f0f921\"]],\"type\":\"heatmapgl\"}],\"histogram\":[{\"marker\":{\"pattern\":{\"fillmode\":\"overlay\",\"size\":10,\"solidity\":0.2}},\"type\":\"histogram\"}],\"histogram2d\":[{\"colorbar\":{\"outlinewidth\":0,\"ticks\":\"\"},\"colorscale\":[[0.0,\"#0d0887\"],[0.1111111111111111,\"#46039f\"],[0.2222222222222222,\"#7201a8\"],[0.3333333333333333,\"#9c179e\"],[0.4444444444444444,\"#bd3786\"],[0.5555555555555556,\"#d8576b\"],[0.6666666666666666,\"#ed7953\"],[0.7777777777777778,\"#fb9f3a\"],[0.8888888888888888,\"#fdca26\"],[1.0,\"#f0f921\"]],\"type\":\"histogram2d\"}],\"histogram2dcontour\":[{\"colorbar\":{\"outlinewidth\":0,\"ticks\":\"\"},\"colorscale\":[[0.0,\"#0d0887\"],[0.1111111111111111,\"#46039f\"],[0.2222222222222222,\"#7201a8\"],[0.3333333333333333,\"#9c179e\"],[0.4444444444444444,\"#bd3786\"],[0.5555555555555556,\"#d8576b\"],[0.6666666666666666,\"#ed7953\"],[0.7777777777777778,\"#fb9f3a\"],[0.8888888888888888,\"#fdca26\"],[1.0,\"#f0f921\"]],\"type\":\"histogram2dcontour\"}],\"mesh3d\":[{\"colorbar\":{\"outlinewidth\":0,\"ticks\":\"\"},\"type\":\"mesh3d\"}],\"parcoords\":[{\"line\":{\"colorbar\":{\"outlinewidth\":0,\"ticks\":\"\"}},\"type\":\"parcoords\"}],\"pie\":[{\"automargin\":true,\"type\":\"pie\"}],\"scatter\":[{\"marker\":{\"colorbar\":{\"outlinewidth\":0,\"ticks\":\"\"}},\"type\":\"scatter\"}],\"scatter3d\":[{\"line\":{\"colorbar\":{\"outlinewidth\":0,\"ticks\":\"\"}},\"marker\":{\"colorbar\":{\"outlinewidth\":0,\"ticks\":\"\"}},\"type\":\"scatter3d\"}],\"scattercarpet\":[{\"marker\":{\"colorbar\":{\"outlinewidth\":0,\"ticks\":\"\"}},\"type\":\"scattercarpet\"}],\"scattergeo\":[{\"marker\":{\"colorbar\":{\"outlinewidth\":0,\"ticks\":\"\"}},\"type\":\"scattergeo\"}],\"scattergl\":[{\"marker\":{\"colorbar\":{\"outlinewidth\":0,\"ticks\":\"\"}},\"type\":\"scattergl\"}],\"scattermapbox\":[{\"marker\":{\"colorbar\":{\"outlinewidth\":0,\"ticks\":\"\"}},\"type\":\"scattermapbox\"}],\"scatterpolar\":[{\"marker\":{\"colorbar\":{\"outlinewidth\":0,\"ticks\":\"\"}},\"type\":\"scatterpolar\"}],\"scatterpolargl\":[{\"marker\":{\"colorbar\":{\"outlinewidth\":0,\"ticks\":\"\"}},\"type\":\"scatterpolargl\"}],\"scatterternary\":[{\"marker\":{\"colorbar\":{\"outlinewidth\":0,\"ticks\":\"\"}},\"type\":\"scatterternary\"}],\"surface\":[{\"colorbar\":{\"outlinewidth\":0,\"ticks\":\"\"},\"colorscale\":[[0.0,\"#0d0887\"],[0.1111111111111111,\"#46039f\"],[0.2222222222222222,\"#7201a8\"],[0.3333333333333333,\"#9c179e\"],[0.4444444444444444,\"#bd3786\"],[0.5555555555555556,\"#d8576b\"],[0.6666666666666666,\"#ed7953\"],[0.7777777777777778,\"#fb9f3a\"],[0.8888888888888888,\"#fdca26\"],[1.0,\"#f0f921\"]],\"type\":\"surface\"}],\"table\":[{\"cells\":{\"fill\":{\"color\":\"#EBF0F8\"},\"line\":{\"color\":\"white\"}},\"header\":{\"fill\":{\"color\":\"#C8D4E3\"},\"line\":{\"color\":\"white\"}},\"type\":\"table\"}]},\"layout\":{\"annotationdefaults\":{\"arrowcolor\":\"#2a3f5f\",\"arrowhead\":0,\"arrowwidth\":1},\"autotypenumbers\":\"strict\",\"coloraxis\":{\"colorbar\":{\"outlinewidth\":0,\"ticks\":\"\"}},\"colorscale\":{\"diverging\":[[0,\"#8e0152\"],[0.1,\"#c51b7d\"],[0.2,\"#de77ae\"],[0.3,\"#f1b6da\"],[0.4,\"#fde0ef\"],[0.5,\"#f7f7f7\"],[0.6,\"#e6f5d0\"],[0.7,\"#b8e186\"],[0.8,\"#7fbc41\"],[0.9,\"#4d9221\"],[1,\"#276419\"]],\"sequential\":[[0.0,\"#0d0887\"],[0.1111111111111111,\"#46039f\"],[0.2222222222222222,\"#7201a8\"],[0.3333333333333333,\"#9c179e\"],[0.4444444444444444,\"#bd3786\"],[0.5555555555555556,\"#d8576b\"],[0.6666666666666666,\"#ed7953\"],[0.7777777777777778,\"#fb9f3a\"],[0.8888888888888888,\"#fdca26\"],[1.0,\"#f0f921\"]],\"sequentialminus\":[[0.0,\"#0d0887\"],[0.1111111111111111,\"#46039f\"],[0.2222222222222222,\"#7201a8\"],[0.3333333333333333,\"#9c179e\"],[0.4444444444444444,\"#bd3786\"],[0.5555555555555556,\"#d8576b\"],[0.6666666666666666,\"#ed7953\"],[0.7777777777777778,\"#fb9f3a\"],[0.8888888888888888,\"#fdca26\"],[1.0,\"#f0f921\"]]},\"colorway\":[\"#636efa\",\"#EF553B\",\"#00cc96\",\"#ab63fa\",\"#FFA15A\",\"#19d3f3\",\"#FF6692\",\"#B6E880\",\"#FF97FF\",\"#FECB52\"],\"font\":{\"color\":\"#2a3f5f\"},\"geo\":{\"bgcolor\":\"white\",\"lakecolor\":\"white\",\"landcolor\":\"#E5ECF6\",\"showlakes\":true,\"showland\":true,\"subunitcolor\":\"white\"},\"hoverlabel\":{\"align\":\"left\"},\"hovermode\":\"closest\",\"mapbox\":{\"style\":\"light\"},\"paper_bgcolor\":\"white\",\"plot_bgcolor\":\"#E5ECF6\",\"polar\":{\"angularaxis\":{\"gridcolor\":\"white\",\"linecolor\":\"white\",\"ticks\":\"\"},\"bgcolor\":\"#E5ECF6\",\"radialaxis\":{\"gridcolor\":\"white\",\"linecolor\":\"white\",\"ticks\":\"\"}},\"scene\":{\"xaxis\":{\"backgroundcolor\":\"#E5ECF6\",\"gridcolor\":\"white\",\"gridwidth\":2,\"linecolor\":\"white\",\"showbackground\":true,\"ticks\":\"\",\"zerolinecolor\":\"white\"},\"yaxis\":{\"backgroundcolor\":\"#E5ECF6\",\"gridcolor\":\"white\",\"gridwidth\":2,\"linecolor\":\"white\",\"showbackground\":true,\"ticks\":\"\",\"zerolinecolor\":\"white\"},\"zaxis\":{\"backgroundcolor\":\"#E5ECF6\",\"gridcolor\":\"white\",\"gridwidth\":2,\"linecolor\":\"white\",\"showbackground\":true,\"ticks\":\"\",\"zerolinecolor\":\"white\"}},\"shapedefaults\":{\"line\":{\"color\":\"#2a3f5f\"}},\"ternary\":{\"aaxis\":{\"gridcolor\":\"white\",\"linecolor\":\"white\",\"ticks\":\"\"},\"baxis\":{\"gridcolor\":\"white\",\"linecolor\":\"white\",\"ticks\":\"\"},\"bgcolor\":\"#E5ECF6\",\"caxis\":{\"gridcolor\":\"white\",\"linecolor\":\"white\",\"ticks\":\"\"}},\"title\":{\"x\":0.05},\"xaxis\":{\"automargin\":true,\"gridcolor\":\"white\",\"linecolor\":\"white\",\"ticks\":\"\",\"title\":{\"standoff\":15},\"zerolinecolor\":\"white\",\"zerolinewidth\":2},\"yaxis\":{\"automargin\":true,\"gridcolor\":\"white\",\"linecolor\":\"white\",\"ticks\":\"\",\"title\":{\"standoff\":15},\"zerolinecolor\":\"white\",\"zerolinewidth\":2}}},\"title\":{\"text\":\"Shot Speed vs Shot type\"},\"xaxis\":{\"title\":{\"text\":\"Shot type\"}},\"yaxis\":{\"title\":{\"text\":\"Shot Speed\"}}},                        {\"responsive\": true}                    ).then(function(){\n",
       "                            \n",
       "var gd = document.getElementById('14947135-fdaa-4e6f-bef3-89bf0312a54c');\n",
       "var x = new MutationObserver(function (mutations, observer) {{\n",
       "        var display = window.getComputedStyle(gd).display;\n",
       "        if (!display || display === 'none') {{\n",
       "            console.log([gd, 'removed!']);\n",
       "            Plotly.purge(gd);\n",
       "            observer.disconnect();\n",
       "        }}\n",
       "}});\n",
       "\n",
       "// Listen for the removal of the full notebook cells\n",
       "var notebookContainer = gd.closest('#notebook-container');\n",
       "if (notebookContainer) {{\n",
       "    x.observe(notebookContainer, {childList: true});\n",
       "}}\n",
       "\n",
       "// Listen for the clearing of the current output cell\n",
       "var outputEl = gd.closest('.output');\n",
       "if (outputEl) {{\n",
       "    x.observe(outputEl, {childList: true});\n",
       "}}\n",
       "\n",
       "                        })                };                });            </script>        </div>"
      ]
     },
     "metadata": {},
     "output_type": "display_data"
    }
   ],
   "source": [
    "hide_me\n",
    "\n",
    "#créer une figure\n",
    "fig = go.Figure()\n",
    "#créer une courbe dont les x sont « Stroke » et les y sont « Speed »\n",
    "trace1 = go.Scatter(\n",
    "    x=dfP1.Stroke, y=dfP1[\"Speed (KM/H)\"],\n",
    "    text=dfP1.Player, #annote les points avec cette variable\n",
    "    mode=\"markers\", #mode=line+markers\n",
    "    marker=dict(color='blue'), name=name1\n",
    ")\n",
    "fig.add_trace(trace1)\n",
    "#ajouter une autre courbe\n",
    "trace2 = go.Scatter(\n",
    "    x=dfP2.Stroke, y=dfP2[\"Speed (KM/H)\"],\n",
    "    text=dfP2.Player, #annote les points avec cette variable\n",
    "    mode=\"markers\", #mode=line+markers\n",
    "    marker=dict(color='red'), name=name2\n",
    ")\n",
    "fig.add_trace(trace2)\n",
    "#layout\n",
    "fig.update_layout(title=\"Shot Speed vs Shot type\", xaxis_title=\"Shot type\", yaxis_title=\"Shot Speed\")\n",
    "#afficher\n",
    "fig.show()"
   ]
  },
  {
   "cell_type": "markdown",
   "id": "ca2bdd88",
   "metadata": {},
   "source": [
    "# Bar"
   ]
  },
  {
   "cell_type": "code",
   "execution_count": 8,
   "id": "073973c1",
   "metadata": {},
   "outputs": [
    {
     "data": {
      "application/vnd.plotly.v1+json": {
       "config": {
        "plotlyServerURL": "https://plot.ly"
       },
       "data": [
        {
         "marker": {
          "color": "blue"
         },
         "name": "Pospisil",
         "text": [
          "Player",
          "Player",
          "Player",
          "Player",
          "Player",
          "Player",
          "Player",
          "Player",
          "Player",
          "Player",
          "Player",
          "Player",
          "Player",
          "Player",
          "Player",
          "Player",
          "Player",
          "Player",
          "Player",
          "Player",
          "Player",
          "Player",
          "Player",
          "Player",
          "Player",
          "Player",
          "Player",
          "Player",
          "Player",
          "Player",
          "Player",
          "Player",
          "Player",
          "Player",
          "Player",
          "Player",
          "Player",
          "Player",
          "Player",
          "Player",
          "Player",
          "Player",
          "Player",
          "Player",
          "Player",
          "Player",
          "Player",
          "Player",
          "Player",
          "Player",
          "Player",
          "Player",
          "Player",
          "Player",
          "Player",
          "Player",
          "Player",
          "Player",
          "Player",
          "Player",
          "Player",
          "Player",
          "Player",
          "Player",
          "Player",
          "Player",
          "Player",
          "Player",
          "Player",
          "Player",
          "Player",
          "Player",
          "Player",
          "Player",
          "Player",
          "Player",
          "Player",
          "Player",
          "Player",
          "Player",
          "Player",
          "Player",
          "Player",
          "Player",
          "Player",
          "Player",
          "Player",
          "Player",
          "Player",
          "Player",
          "Player",
          "Player",
          "Player",
          "Player",
          "Player",
          "Player",
          "Player",
          "Player",
          "Player",
          "Player",
          "Player",
          "Player",
          "Player",
          "Player",
          "Player",
          "Player",
          "Player",
          "Player",
          "Player",
          "Player",
          "Player",
          "Player",
          "Player",
          "Player",
          "Player",
          "Player",
          "Player",
          "Player",
          "Player",
          "Player",
          "Player",
          "Player",
          "Player",
          "Player",
          "Player",
          "Player",
          "Player",
          "Player",
          "Player",
          "Player",
          "Player",
          "Player",
          "Player",
          "Player",
          "Player",
          "Player",
          "Player",
          "Player",
          "Player",
          "Player",
          "Player",
          "Player",
          "Player",
          "Player",
          "Player",
          "Player",
          "Player",
          "Player",
          "Player",
          "Player",
          "Player",
          "Player",
          "Player",
          "Player",
          "Player",
          "Player",
          "Player",
          "Player",
          "Player",
          "Player",
          "Player",
          "Player",
          "Player",
          "Player",
          "Player",
          "Player",
          "Player",
          "Player",
          "Player",
          "Player",
          "Player",
          "Player",
          "Player",
          "Player",
          "Player",
          "Player",
          "Player",
          "Player",
          "Player",
          "Player",
          "Player",
          "Player",
          "Player",
          "Player",
          "Player",
          "Player",
          "Player",
          "Player",
          "Player",
          "Player",
          "Player",
          "Player",
          "Player",
          "Player",
          "Player",
          "Player",
          "Player",
          "Player",
          "Player",
          "Player",
          "Player",
          "Player",
          "Player",
          "Player",
          "Player",
          "Player",
          "Player",
          "Player",
          "Player",
          "Player",
          "Player",
          "Player",
          "Player",
          "Player",
          "Player",
          "Player",
          "Player",
          "Player",
          "Player",
          "Player",
          "Player",
          "Player",
          "Player",
          "Player",
          "Player",
          "Player",
          "Player",
          "Player",
          "Player",
          "Player",
          "Player",
          "Player",
          "Player",
          "Player",
          "Player",
          "Player",
          "Player",
          "Player",
          "Player",
          "Player",
          "Player",
          "Player",
          "Player",
          "Player",
          "Player",
          "Player",
          "Player",
          "Player",
          "Player",
          "Player",
          "Player",
          "Player",
          "Player",
          "Player",
          "Player",
          "Player",
          "Player",
          "Player",
          "Player",
          "Player",
          "Player",
          "Player",
          "Player",
          "Player",
          "Player",
          "Player",
          "Player",
          "Player",
          "Player",
          "Player",
          "Player",
          "Player",
          "Player",
          "Player",
          "Player",
          "Player",
          "Player",
          "Player",
          "Player",
          "Player",
          "Player",
          "Player",
          "Player",
          "Player",
          "Player",
          "Player",
          "Player",
          "Player",
          "Player",
          "Player",
          "Player",
          "Player",
          "Player",
          "Player",
          "Player",
          "Player",
          "Player",
          "Player",
          "Player",
          "Player",
          "Player",
          "Player",
          "Player",
          "Player",
          "Player",
          "Player",
          "Player",
          "Player",
          "Player",
          "Player",
          "Player",
          "Player",
          "Player",
          "Player",
          "Player",
          "Player",
          "Player",
          "Player",
          "Player",
          "Player",
          "Player",
          "Player",
          "Player",
          "Player",
          "Player",
          "Player",
          "Player",
          "Player",
          "Player",
          "Player",
          "Player",
          "Player",
          "Player",
          "Player",
          "Player",
          "Player",
          "Player",
          "Player",
          "Player",
          "Player",
          "Player",
          "Player",
          "Player",
          "Player",
          "Player",
          "Player",
          "Player",
          "Player",
          "Player",
          "Player",
          "Player",
          "Player",
          "Player",
          "Player",
          "Player",
          "Player",
          "Player",
          "Player",
          "Player",
          "Player",
          "Player",
          "Player",
          "Player",
          "Player",
          "Player",
          "Player",
          "Player",
          "Player",
          "Player",
          "Player",
          "Player",
          "Player",
          "Player",
          "Player",
          "Player",
          "Player",
          "Player",
          "Player",
          "Player",
          "Player",
          "Player",
          "Player",
          "Player",
          "Player",
          "Player",
          "Player",
          "Player",
          "Player",
          "Player",
          "Player",
          "Player",
          "Player",
          "Player",
          "Player",
          "Player",
          "Player",
          "Player",
          "Player",
          "Player",
          "Player",
          "Player",
          "Player",
          "Player",
          "Player"
         ],
         "type": "bar",
         "x": [
          "Serve",
          "Serve",
          "Forehand",
          "Serve",
          "Serve",
          "Serve",
          "Forehand",
          "Serve",
          "Serve",
          "Serve",
          "Serve",
          "Serve",
          "Backhand",
          "Backhand",
          "Backhand",
          "Backhand",
          "Backhand",
          "Forehand",
          "Forehand",
          "FH Volley",
          "Forehand",
          "Forehand",
          "Backhand",
          "Backhand",
          "Backhand",
          "Serve",
          "Serve",
          "Serve",
          "Serve",
          "Forehand",
          "Serve",
          "Serve",
          "Forehand",
          "Serve",
          "Forehand",
          "Serve",
          "Serve",
          "Backhand",
          "Serve",
          "Serve",
          "Forehand",
          "Forehand",
          "Forehand",
          "Backhand",
          "Forehand",
          "Forehand",
          "Backhand",
          "Forehand",
          "Backhand",
          "Serve",
          "Serve",
          "Forehand",
          "Forehand",
          "Serve",
          "Serve",
          "Forehand",
          "Serve",
          "Backhand",
          "Serve",
          "Backhand",
          "Backhand",
          "Forehand",
          "Forehand",
          "Forehand",
          "Forehand",
          "Forehand",
          "Backhand",
          "Backhand",
          "Forehand",
          "Serve",
          "BH Volley",
          "Serve",
          "Serve",
          "Serve",
          "Serve",
          "Forehand",
          "Serve",
          "Forehand",
          "Forehand",
          "Backhand",
          "Forehand",
          "Backhand",
          "Backhand",
          "Backhand",
          "Backhand",
          "Backhand",
          "Forehand",
          "Backhand",
          "Forehand",
          "Backhand",
          "Forehand",
          "Backhand",
          "Serve",
          "Forehand",
          "Forehand",
          "Forehand",
          "Backhand",
          "Forehand",
          "Backhand",
          "Backhand",
          "Backhand",
          "Serve",
          "Serve",
          "Serve",
          "Forehand",
          "Serve",
          "Serve",
          "Forehand",
          "Forehand",
          "Backhand",
          "Forehand",
          "Backhand",
          "Backhand",
          "Backhand",
          "Forehand",
          "Backhand",
          "Forehand",
          "Backhand",
          "Backhand",
          "Serve",
          "Serve",
          "Backhand",
          "Serve",
          "Serve",
          "Serve",
          "Forehand",
          "Serve",
          "Serve",
          "Backhand",
          "Backhand",
          "Forehand",
          "Forehand",
          "Forehand",
          "Backhand",
          "Serve",
          "Serve",
          "Serve",
          "Forehand",
          "Serve",
          "Serve",
          "Serve",
          "Backhand",
          "Backhand",
          "Backhand",
          "Forehand",
          "Forehand",
          "Backhand",
          "Backhand",
          "Backhand",
          "Forehand",
          "Forehand",
          "Backhand",
          "Backhand",
          "Backhand",
          "Backhand",
          "Backhand",
          "Backhand",
          "Backhand",
          "Backhand",
          "Forehand",
          "Serve",
          "Serve",
          "Forehand",
          "Serve",
          "Serve",
          "Forehand",
          "Backhand",
          "Serve",
          "Serve",
          "Serve",
          "Backhand",
          "Forehand",
          "Backhand",
          "Backhand",
          "Backhand",
          "Forehand",
          "Backhand",
          "Backhand",
          "Forehand",
          "Forehand",
          "Forehand",
          "Backhand",
          "Forehand",
          "Forehand",
          "Backhand",
          "Serve",
          "Forehand",
          "Forehand",
          "Serve",
          "Serve",
          "Backhand",
          "Backhand",
          "Serve",
          "Serve",
          "Serve",
          "Serve",
          "Serve",
          "Serve",
          "Serve",
          "Serve",
          "Backhand",
          "Backhand",
          "Forehand",
          "Backhand",
          "Serve",
          "Forehand",
          "Serve",
          "Forehand",
          "Serve",
          "Serve",
          "Serve",
          "Forehand",
          "Serve",
          "Serve",
          "Forehand",
          "Forehand",
          "Serve",
          "Serve",
          "Backhand",
          "Serve",
          "Serve",
          "Backhand",
          "Backhand",
          "Backhand",
          "Forehand",
          "Backhand",
          "Forehand",
          "Backhand",
          "Backhand",
          "Forehand",
          "Backhand",
          "Forehand",
          "Backhand",
          "Serve",
          "Serve",
          "Forehand",
          "Forehand",
          "Serve",
          "Serve",
          "Forehand",
          "Backhand",
          "Backhand",
          "Forehand",
          "Serve",
          "Serve",
          "Serve",
          "Serve",
          "Forehand",
          "Backhand",
          "Backhand",
          "Forehand",
          "Forehand",
          "Forehand",
          "Forehand",
          "Backhand",
          "Backhand",
          "Forehand",
          "Backhand",
          "Backhand",
          "Backhand",
          "Backhand",
          "Backhand",
          "Forehand",
          "Forehand",
          "Backhand",
          "Forehand",
          "Backhand",
          "Forehand",
          "Forehand",
          "Forehand",
          "Backhand",
          "Serve",
          "Serve",
          "Backhand",
          "Serve",
          "Serve",
          "Serve",
          "Serve",
          "Serve",
          "Forehand",
          "Serve",
          "Forehand",
          "Serve",
          "Forehand",
          "Backhand",
          "Serve",
          "Serve",
          "Serve",
          "Serve",
          "Serve",
          "Backhand",
          "Backhand",
          "Backhand",
          "Serve",
          "Forehand",
          "Serve",
          "Serve",
          "Backhand",
          "Serve",
          "Serve",
          "Forehand",
          "Serve",
          "Serve",
          "Serve",
          "Serve",
          "Backhand",
          "Serve",
          "Serve",
          "Forehand",
          "Serve",
          "Forehand",
          "Forehand",
          "Forehand",
          "Backhand",
          "Backhand",
          "Forehand",
          "Forehand",
          "Backhand",
          "Backhand",
          "Backhand",
          "Backhand",
          "Backhand",
          "Forehand",
          "Forehand",
          "Forehand",
          "Backhand",
          "Backhand",
          "Backhand",
          "BH Volley",
          "Serve",
          "Serve",
          "Serve",
          "Forehand",
          "FH Volley",
          "Backhand",
          "Serve",
          "Serve",
          "Serve",
          "Serve",
          "Serve",
          "Serve",
          "Forehand",
          "Forehand",
          "Forehand",
          "Forehand",
          "Forehand",
          "Backhand",
          "Backhand",
          "Forehand",
          "Backhand",
          "Forehand",
          "Forehand",
          "Backhand",
          "Backhand",
          "Serve",
          "Serve",
          "Serve",
          "Forehand",
          "Serve",
          "Forehand",
          "Serve",
          "Serve",
          "Serve",
          "Forehand",
          "Backhand",
          "Backhand",
          "Backhand",
          "Backhand",
          "Forehand",
          "Backhand",
          "Backhand",
          "Forehand",
          "Backhand",
          "Serve",
          "Serve",
          "Forehand",
          "Forehand",
          "Forehand",
          "Serve",
          "Serve",
          "Serve",
          "FH Volley",
          "Serve",
          "Backhand",
          "Forehand",
          "Backhand",
          "Backhand",
          "Backhand",
          "Backhand",
          "Forehand",
          "BH Volley",
          "Overhead",
          "Backhand",
          "Forehand",
          "Forehand",
          "Backhand",
          "Backhand",
          "Backhand",
          "Backhand",
          "Backhand",
          "Forehand",
          "Forehand",
          "Backhand",
          "Forehand"
         ],
         "y": [
          166.363281,
          126.269508,
          104.31604,
          110.567711,
          94.473465,
          143.428314,
          121.841362,
          73.324745,
          127.867363,
          138.194534,
          126.758484,
          135.053497,
          79.956505,
          91.414658,
          73.998878,
          74.146561,
          104.52829,
          93.485207,
          121.069,
          34.843319,
          95.097328,
          115.525398,
          118.767845,
          86.101639,
          84.314781,
          null,
          null,
          202.078918,
          142.025299,
          90.916985,
          118.871452,
          149.150208,
          67.103271,
          145.843109,
          82.811913,
          91.834106,
          130.675079,
          61.988026,
          106.161484,
          128.59906,
          84.027985,
          111.239662,
          44.010815,
          81.525917,
          83.750565,
          114.510849,
          90.102036,
          75.569321,
          58.510414,
          162.567688,
          116.530983,
          105.710678,
          91.767555,
          118.566048,
          151.512466,
          86.306305,
          107.916283,
          46.474094,
          166.588196,
          70.724823,
          84.438766,
          138.880661,
          63.228535,
          84.436371,
          86.179657,
          97.699677,
          69.413628,
          85.293709,
          121.33844,
          170.821655,
          40.418251,
          154.751205,
          154.898346,
          130.818054,
          155.280899,
          127.517418,
          101.542831,
          108.328445,
          103.934494,
          75.324425,
          97.880081,
          72.063347,
          104.394722,
          82.689667,
          78.894096,
          89.828743,
          64.099289,
          50.891689,
          99.038742,
          97.112473,
          77.71389,
          80.595032,
          163.357452,
          125.979408,
          98.370522,
          94.703575,
          89.421379,
          79.874977,
          76.715416,
          89.300713,
          48.83049,
          117.779854,
          103.141624,
          137.174225,
          56.267689,
          116.436615,
          130.692291,
          119.212532,
          111.507843,
          103.037651,
          110.053825,
          102.579086,
          64.824509,
          83.374557,
          99.723221,
          75.372879,
          101.58757,
          100.074409,
          90.615829,
          202.92749,
          147.999054,
          93.822716,
          109.466087,
          149.704681,
          139.339661,
          null,
          115.618561,
          135.313019,
          null,
          58.906158,
          56.032978,
          84.942688,
          78.911583,
          76.619614,
          107.96489,
          115.190155,
          132.793442,
          99.720215,
          114.319725,
          167.104736,
          95.396133,
          62.116451,
          86.827126,
          96.118919,
          105.111687,
          110.076195,
          74.431427,
          107.344002,
          65.012672,
          null,
          81.574692,
          99.316261,
          54.644333,
          85.343544,
          93.622231,
          105.564514,
          93.525055,
          58.328079,
          96.813133,
          75.271919,
          143.221832,
          136.398071,
          114.468361,
          155.070816,
          126.443092,
          84.297203,
          95.213593,
          154.441208,
          183.113083,
          161.313736,
          83.81208,
          100.262436,
          94.648323,
          56.252804,
          79.944664,
          76.249451,
          65.513748,
          89.729584,
          71.59185,
          75.004112,
          82.63858,
          74.091499,
          71.737671,
          87.21228,
          67.348473,
          121.712097,
          120.145248,
          101.80085,
          119.387024,
          134.158463,
          84.818176,
          80.718765,
          129.042877,
          121.17334,
          135.090347,
          152.753952,
          129.669327,
          113.434662,
          153.051682,
          118.806915,
          94.847885,
          85.391418,
          95.776047,
          48.105331,
          180.330566,
          105.627739,
          135.720139,
          82.501259,
          132.201553,
          74.454147,
          85.16597,
          64.166283,
          116.556107,
          108.578003,
          120.979195,
          102.330452,
          106.854721,
          136.039459,
          110.440819,
          136.517929,
          null,
          54.995796,
          56.766331,
          88.748413,
          81.118553,
          80.866776,
          107.601669,
          92.904495,
          60.391788,
          99.99205,
          76.2211,
          101.565132,
          68.505493,
          145.279877,
          123.616066,
          88.538849,
          83.194145,
          137.554901,
          134.507645,
          109.964584,
          89.422569,
          95.608978,
          80.951851,
          117.690926,
          104.662872,
          null,
          128.672958,
          105.05658,
          80.326012,
          43.053253,
          109.397995,
          104.398537,
          61.173656,
          76.783554,
          76.932816,
          93.613075,
          111.530174,
          80.912575,
          102.222694,
          62.948002,
          85.263618,
          null,
          61.210506,
          72.850906,
          106.404999,
          84.137634,
          85.851707,
          50.228252,
          111.361702,
          98.696945,
          69.297447,
          75.73069,
          202.92749,
          67.717346,
          113.048912,
          129.566254,
          160.489914,
          167.093231,
          126.122849,
          110.438393,
          137.860275,
          98.722023,
          195.680084,
          77.910851,
          80.865227,
          147.709503,
          138.063553,
          166.00827,
          39.504692,
          144.974869,
          71.761978,
          106.902702,
          69.902679,
          173.839478,
          93.031387,
          85.143394,
          127.729301,
          86.12738,
          117.379631,
          140.661072,
          140.488266,
          156.220749,
          169.817673,
          182.429214,
          147.525787,
          80.72065,
          88.048271,
          70.584976,
          95.641655,
          null,
          82.334251,
          109.926048,
          81.352936,
          75.247459,
          91.167564,
          84.74485,
          89.411003,
          80.58371,
          83.268433,
          70.062775,
          72.031609,
          68.557838,
          85.795036,
          52.65398,
          95.348717,
          62.926521,
          85.720016,
          78.243675,
          null,
          135.886673,
          103.02195,
          92.79023,
          99.135323,
          30.662121,
          50.996513,
          41.277985,
          126.525276,
          136.243988,
          148.107407,
          143.164764,
          138.738632,
          81.068451,
          92.920174,
          91.762733,
          106.598984,
          86.8209,
          98.408073,
          59.253536,
          80.688751,
          72.773949,
          103.144081,
          103.109367,
          66.468361,
          70.524216,
          155.03595,
          125.152107,
          154.221817,
          126.233253,
          155.912399,
          113.105652,
          159.646866,
          124.248093,
          158.792389,
          111.416878,
          58.281216,
          54.479652,
          70.793716,
          79.14386,
          80.363235,
          80.585121,
          75.026657,
          56.75943,
          85.688118,
          146.827042,
          114.806137,
          91.487587,
          57.384197,
          99.732674,
          93.197632,
          112.485161,
          96.524864,
          37.630787,
          166.442978,
          106.515503,
          104.619637,
          100.012917,
          88.348358,
          78.488785,
          166.690445,
          108.673271,
          27.874657,
          36.237053,
          96.001213,
          61.594387,
          64.45385,
          66.683228,
          85.09304,
          92.536499,
          75.055977,
          76.267067,
          120.567772,
          111.376595,
          88.921425,
          99.088295
         ]
        },
        {
         "marker": {
          "color": "red"
         },
         "name": "Wolf",
         "text": [
          "Opponent",
          "Opponent",
          "Opponent",
          "Opponent",
          "Opponent",
          "Opponent",
          "Opponent",
          "Opponent",
          "Opponent",
          "Opponent",
          "Opponent",
          "Opponent",
          "Opponent",
          "Opponent",
          "Opponent",
          "Opponent",
          "Opponent",
          "Opponent",
          "Opponent",
          "Opponent",
          "Opponent",
          "Opponent",
          "Opponent",
          "Opponent",
          "Opponent",
          "Opponent",
          "Opponent",
          "Opponent",
          "Opponent",
          "Opponent",
          "Opponent",
          "Opponent",
          "Opponent",
          "Opponent",
          "Opponent",
          "Opponent",
          "Opponent",
          "Opponent",
          "Opponent",
          "Opponent",
          "Opponent",
          "Opponent",
          "Opponent",
          "Opponent",
          "Opponent",
          "Opponent",
          "Opponent",
          "Opponent",
          "Opponent",
          "Opponent",
          "Opponent",
          "Opponent",
          "Opponent",
          "Opponent",
          "Opponent",
          "Opponent",
          "Opponent",
          "Opponent",
          "Opponent",
          "Opponent",
          "Opponent",
          "Opponent",
          "Opponent",
          "Opponent",
          "Opponent",
          "Opponent",
          "Opponent",
          "Opponent",
          "Opponent",
          "Opponent",
          "Opponent",
          "Opponent",
          "Opponent",
          "Opponent",
          "Opponent",
          "Opponent",
          "Opponent",
          "Opponent",
          "Opponent",
          "Opponent",
          "Opponent",
          "Opponent",
          "Opponent",
          "Opponent",
          "Opponent",
          "Opponent",
          "Opponent",
          "Opponent",
          "Opponent",
          "Opponent",
          "Opponent",
          "Opponent",
          "Opponent",
          "Opponent",
          "Opponent",
          "Opponent",
          "Opponent",
          "Opponent",
          "Opponent",
          "Opponent",
          "Opponent",
          "Opponent",
          "Opponent",
          "Opponent",
          "Opponent",
          "Opponent",
          "Opponent",
          "Opponent",
          "Opponent",
          "Opponent",
          "Opponent",
          "Opponent",
          "Opponent",
          "Opponent",
          "Opponent",
          "Opponent",
          "Opponent",
          "Opponent",
          "Opponent",
          "Opponent",
          "Opponent",
          "Opponent",
          "Opponent",
          "Opponent",
          "Opponent",
          "Opponent",
          "Opponent",
          "Opponent",
          "Opponent",
          "Opponent",
          "Opponent",
          "Opponent",
          "Opponent",
          "Opponent",
          "Opponent",
          "Opponent",
          "Opponent",
          "Opponent",
          "Opponent",
          "Opponent",
          "Opponent",
          "Opponent",
          "Opponent",
          "Opponent",
          "Opponent",
          "Opponent",
          "Opponent",
          "Opponent",
          "Opponent",
          "Opponent",
          "Opponent",
          "Opponent",
          "Opponent",
          "Opponent",
          "Opponent",
          "Opponent",
          "Opponent",
          "Opponent",
          "Opponent",
          "Opponent",
          "Opponent",
          "Opponent",
          "Opponent",
          "Opponent",
          "Opponent",
          "Opponent",
          "Opponent",
          "Opponent",
          "Opponent",
          "Opponent",
          "Opponent",
          "Opponent",
          "Opponent",
          "Opponent",
          "Opponent",
          "Opponent",
          "Opponent",
          "Opponent",
          "Opponent",
          "Opponent",
          "Opponent",
          "Opponent",
          "Opponent",
          "Opponent",
          "Opponent",
          "Opponent",
          "Opponent",
          "Opponent",
          "Opponent",
          "Opponent",
          "Opponent",
          "Opponent",
          "Opponent",
          "Opponent",
          "Opponent",
          "Opponent",
          "Opponent",
          "Opponent",
          "Opponent",
          "Opponent",
          "Opponent",
          "Opponent",
          "Opponent",
          "Opponent",
          "Opponent",
          "Opponent",
          "Opponent",
          "Opponent",
          "Opponent",
          "Opponent",
          "Opponent",
          "Opponent",
          "Opponent",
          "Opponent",
          "Opponent",
          "Opponent",
          "Opponent",
          "Opponent",
          "Opponent",
          "Opponent",
          "Opponent",
          "Opponent",
          "Opponent",
          "Opponent",
          "Opponent",
          "Opponent",
          "Opponent",
          "Opponent",
          "Opponent",
          "Opponent",
          "Opponent",
          "Opponent",
          "Opponent",
          "Opponent",
          "Opponent",
          "Opponent",
          "Opponent",
          "Opponent",
          "Opponent",
          "Opponent",
          "Opponent",
          "Opponent",
          "Opponent",
          "Opponent",
          "Opponent",
          "Opponent",
          "Opponent",
          "Opponent",
          "Opponent",
          "Opponent",
          "Opponent",
          "Opponent",
          "Opponent",
          "Opponent",
          "Opponent",
          "Opponent",
          "Opponent",
          "Opponent",
          "Opponent",
          "Opponent",
          "Opponent",
          "Opponent",
          "Opponent",
          "Opponent",
          "Opponent",
          "Opponent",
          "Opponent",
          "Opponent",
          "Opponent",
          "Opponent",
          "Opponent",
          "Opponent",
          "Opponent",
          "Opponent",
          "Opponent",
          "Opponent",
          "Opponent",
          "Opponent",
          "Opponent",
          "Opponent",
          "Opponent",
          "Opponent",
          "Opponent",
          "Opponent",
          "Opponent",
          "Opponent",
          "Opponent",
          "Opponent",
          "Opponent",
          "Opponent",
          "Opponent",
          "Opponent",
          "Opponent",
          "Opponent",
          "Opponent",
          "Opponent",
          "Opponent",
          "Opponent",
          "Opponent",
          "Opponent",
          "Opponent",
          "Opponent",
          "Opponent",
          "Opponent",
          "Opponent",
          "Opponent",
          "Opponent",
          "Opponent",
          "Opponent",
          "Opponent",
          "Opponent",
          "Opponent",
          "Opponent",
          "Opponent",
          "Opponent",
          "Opponent",
          "Opponent",
          "Opponent",
          "Opponent",
          "Opponent",
          "Opponent",
          "Opponent",
          "Opponent",
          "Opponent",
          "Opponent",
          "Opponent",
          "Opponent",
          "Opponent",
          "Opponent",
          "Opponent",
          "Opponent",
          "Opponent",
          "Opponent",
          "Opponent",
          "Opponent",
          "Opponent",
          "Opponent",
          "Opponent",
          "Opponent",
          "Opponent",
          "Opponent",
          "Opponent",
          "Opponent",
          "Opponent",
          "Opponent",
          "Opponent",
          "Opponent",
          "Opponent",
          "Opponent",
          "Opponent",
          "Opponent",
          "Opponent",
          "Opponent",
          "Opponent",
          "Opponent",
          "Opponent",
          "Opponent",
          "Opponent",
          "Opponent",
          "Opponent",
          "Opponent",
          "Opponent",
          "Opponent",
          "Opponent",
          "Opponent",
          "Opponent",
          "Opponent",
          "Opponent",
          "Opponent",
          "Opponent",
          "Opponent",
          "Opponent",
          "Opponent",
          "Opponent",
          "Opponent",
          "Opponent",
          "Opponent",
          "Opponent",
          "Opponent",
          "Opponent",
          "Opponent",
          "Opponent",
          "Opponent",
          "Opponent",
          "Opponent",
          "Opponent",
          "Opponent",
          "Opponent",
          "Opponent",
          "Opponent",
          "Opponent",
          "Opponent"
         ],
         "type": "bar",
         "x": [
          "Backhand",
          "Forehand",
          "Backhand",
          "Backhand",
          "Backhand",
          "Serve",
          "Serve",
          "Serve",
          "Forehand",
          "Backhand",
          "Serve",
          "Serve",
          "Forehand",
          "Forehand",
          "Backhand",
          "Backhand",
          "Serve",
          "Forehand",
          "Serve",
          "Serve",
          "Forehand",
          "Serve",
          "Serve",
          "Forehand",
          "Forehand",
          "Backhand",
          "Forehand",
          "Backhand",
          "Backhand",
          "Backhand",
          "Forehand",
          "Forehand",
          "Forehand",
          "Backhand",
          "Serve",
          "Forehand",
          "Serve",
          "Forehand",
          "Serve",
          "Serve",
          "Serve",
          "Serve",
          "Forehand",
          "Forehand",
          "Serve",
          "Forehand",
          "BH Volley",
          "Backhand",
          "Forehand",
          "Forehand",
          "Forehand",
          "Forehand",
          "Backhand",
          "Backhand",
          "Forehand",
          "Serve",
          "Forehand",
          "Backhand",
          "Forehand",
          "Serve",
          "Serve",
          "Backhand",
          "Forehand",
          "Serve",
          "Serve",
          "FH Volley",
          "Serve",
          "Backhand",
          "Forehand",
          "Backhand",
          "Forehand",
          "Forehand",
          "Forehand",
          "Serve",
          "Serve",
          "Serve",
          "Serve",
          "Serve",
          "Backhand",
          "Forehand",
          "Backhand",
          "Serve",
          "Serve",
          "Serve",
          "Forehand",
          "Serve",
          "Forehand",
          "Forehand",
          "Serve",
          "Forehand",
          "Serve",
          "Serve",
          "Forehand",
          "Forehand",
          "Forehand",
          "Backhand",
          "Forehand",
          "Forehand",
          "Forehand",
          "Backhand",
          "Backhand",
          "Backhand",
          "Forehand",
          "Forehand",
          "Backhand",
          "Serve",
          "Forehand",
          "FH Volley",
          "BH Volley",
          "Serve",
          "Serve",
          "Forehand",
          "Serve",
          "Serve",
          "Serve",
          "Serve",
          "Serve",
          "Backhand",
          "Backhand",
          "Forehand",
          "Serve",
          "Serve",
          "Forehand",
          "Forehand",
          "Backhand",
          "Backhand",
          "Forehand",
          "Forehand",
          "Serve",
          "Forehand",
          "Overhead",
          "Serve",
          "Serve",
          "Serve",
          "Serve",
          "Forehand",
          "Backhand",
          "Backhand",
          "Forehand",
          "Backhand",
          "Forehand",
          "Forehand",
          "Serve",
          "Serve",
          "Forehand",
          "Forehand",
          "Serve",
          "Serve",
          "Backhand",
          "Serve",
          "Backhand",
          "Backhand",
          "Serve",
          "Forehand",
          "Serve",
          "Serve",
          "Forehand",
          "Backhand",
          "Backhand",
          "Serve",
          "Serve",
          "Forehand",
          "Serve",
          "Serve",
          "Forehand",
          "Serve",
          "Forehand",
          "Backhand",
          "Backhand",
          "Forehand",
          "Forehand",
          "Forehand",
          "Serve",
          "Serve",
          "Backhand",
          "Forehand",
          "Serve",
          "Overhead",
          "Serve",
          "Forehand",
          "Forehand",
          "Forehand",
          "Backhand",
          "Serve",
          "Forehand",
          "Forehand",
          "BH Volley",
          "FH Volley",
          "Serve",
          "Serve",
          "Forehand",
          "Backhand",
          "Backhand",
          "Backhand",
          "Backhand",
          "Backhand",
          "Forehand",
          "Serve",
          "Serve",
          "Forehand",
          "Serve",
          "Serve",
          "Forehand",
          "Forehand",
          "Backhand",
          "Forehand",
          "Backhand",
          "Backhand",
          "Forehand",
          "Forehand",
          "Backhand",
          "Forehand",
          "Serve",
          "Serve",
          "Serve",
          "Forehand",
          "Forehand",
          "Forehand",
          "Forehand",
          "Serve",
          "Forehand",
          "Backhand",
          "Serve",
          "Serve",
          "Backhand",
          "Backhand",
          "Serve",
          "Serve",
          "Forehand",
          "Forehand",
          "Backhand",
          "Backhand",
          "Backhand",
          "Backhand",
          "Backhand",
          "Backhand",
          "Backhand",
          "Forehand",
          "Serve",
          "Backhand",
          "Serve",
          "Serve",
          "Serve",
          "Forehand",
          "Serve",
          "Forehand",
          "Serve",
          "Serve",
          "Forehand",
          "Serve",
          "Serve",
          "Forehand",
          "Forehand",
          "Forehand",
          "Backhand",
          "Forehand",
          "Serve",
          "Serve",
          "Forehand",
          "Serve",
          "Forehand",
          "Forehand",
          "Forehand",
          "Serve",
          "Forehand",
          "Serve",
          "Serve",
          "Backhand",
          "Backhand",
          "Backhand",
          "Backhand",
          "Forehand",
          "Forehand",
          "Forehand",
          "Forehand",
          "Forehand",
          "Forehand",
          "Forehand",
          "Backhand",
          "Forehand",
          "Forehand",
          "Forehand",
          "Backhand",
          "Forehand",
          "Forehand",
          "Backhand",
          "Backhand",
          "Forehand",
          "Forehand",
          "Forehand",
          "Backhand",
          "Forehand",
          "Forehand",
          "Forehand",
          "Forehand",
          "Backhand",
          "Backhand",
          "Serve",
          "Forehand",
          "Serve",
          "Serve",
          "Serve",
          "Backhand",
          "Backhand",
          "FH Volley",
          "Serve",
          "Backhand",
          "Serve",
          "Forehand",
          "BH Volley",
          "Serve",
          "Backhand",
          "Forehand",
          "Forehand",
          "Backhand",
          "Backhand",
          "Forehand",
          "Backhand",
          "Forehand",
          "Forehand",
          "Forehand",
          "Forehand",
          "Forehand",
          "Serve",
          "Forehand",
          "Backhand",
          "Serve",
          "Serve",
          "Serve",
          "Serve",
          "Forehand",
          "Forehand",
          "Backhand",
          "Forehand",
          "Serve",
          "Serve",
          "Forehand",
          "Serve",
          "Serve",
          "Forehand",
          "Forehand",
          "Backhand",
          "Forehand",
          "Backhand",
          "Backhand",
          "Serve",
          "Serve",
          "Forehand",
          "BH Volley",
          "Serve",
          "Serve",
          "Forehand",
          "Serve",
          "Forehand",
          "BH Volley",
          "Serve",
          "Serve",
          "Backhand",
          "Backhand",
          "Forehand",
          "Forehand",
          "Backhand",
          "Forehand",
          "Backhand",
          "Serve",
          "Serve",
          "Serve",
          "Forehand",
          "Forehand",
          "Serve",
          "Serve",
          "Backhand",
          "Backhand",
          "Forehand",
          "Serve",
          "Serve",
          "Forehand",
          "Serve",
          "Forehand",
          "Serve",
          "Forehand",
          "Serve",
          "Serve",
          "Forehand",
          "Backhand",
          "Backhand",
          "Backhand",
          "Forehand",
          "Serve",
          "Serve",
          "Forehand",
          "Backhand"
         ],
         "y": [
          70.656006,
          90.118004,
          78.757332,
          107.008484,
          115.401077,
          122.690895,
          86.152313,
          90.455971,
          120.514259,
          93.383263,
          73.279663,
          95.120171,
          77.21286,
          93.235603,
          92.444786,
          57.347374,
          145.696243,
          85.205666,
          103.562408,
          118.513489,
          100.287956,
          122.950623,
          111.271889,
          96.919159,
          53.398014,
          null,
          null,
          66.082611,
          87.971054,
          75.404854,
          86.140068,
          76.985634,
          87.684532,
          81.28093,
          133.400818,
          64.797531,
          156.245361,
          108.106529,
          152.219467,
          118.648102,
          195.680084,
          148.512756,
          101.999512,
          110.913551,
          130.91246,
          116.628853,
          37.630787,
          96.83992,
          106.468567,
          98.102432,
          84.601158,
          100.454239,
          76.658569,
          95.573479,
          82.496483,
          117.708092,
          106.503769,
          99.611221,
          92.537392,
          98.843224,
          135.849808,
          80.854759,
          80.580467,
          153.187195,
          80.778633,
          30.662121,
          150.456055,
          97.309517,
          65.942314,
          75.042953,
          120.011848,
          92.029716,
          91.968422,
          140.353561,
          136.05043,
          139.344574,
          128.304657,
          79.032303,
          75.473129,
          87.430115,
          101.75074,
          158.218857,
          158.14296,
          113.648621,
          null,
          140.74617,
          94.530067,
          81.087166,
          110.305969,
          117.396713,
          106.487129,
          143.730392,
          95.949615,
          106.416443,
          110.663696,
          48.324123,
          83.322456,
          89.970474,
          94.439377,
          113.489487,
          123.250603,
          109.298531,
          91.248871,
          82.073555,
          87.755569,
          107.853889,
          91.986244,
          30.662121,
          29.268389,
          91.782944,
          138.085907,
          87.014381,
          131.86058,
          124.574211,
          108.9188,
          123.60685,
          121.899208,
          71.458107,
          88.413597,
          84.286644,
          142.643265,
          95.623726,
          86.265938,
          59.372974,
          89.867363,
          51.779488,
          75.831337,
          112.212112,
          121.958916,
          122.90451,
          201.255249,
          152.574997,
          136.381332,
          117.978516,
          209.089432,
          85.485176,
          78.697899,
          89.176834,
          93.571404,
          87.594299,
          104.283287,
          34.756573,
          161.844543,
          124.04174,
          90.962761,
          94.144615,
          124.911072,
          137.589569,
          68.084602,
          153.740936,
          72.454666,
          97.380569,
          null,
          59.405151,
          129.598526,
          126.181213,
          92.110268,
          50.292553,
          106.643478,
          122.471291,
          119.482353,
          82.973419,
          133.452988,
          103.386101,
          89.15744,
          130.562592,
          93.199921,
          62.44315,
          76.718819,
          90.183571,
          67.941765,
          41.97179,
          111.982384,
          121.374367,
          94.649712,
          80.972885,
          150.820419,
          115.781219,
          118.858398,
          107.963333,
          102.877914,
          96.550537,
          107.338608,
          145.752823,
          122.92408,
          102.892982,
          32.055855,
          33.449589,
          71.547913,
          127.601143,
          78.457787,
          61.307163,
          119.307358,
          82.017311,
          107.381119,
          111.443825,
          90.833778,
          129.603714,
          111.897949,
          84.39032,
          96.033112,
          162.539124,
          72.225868,
          86.223366,
          79.637161,
          93.042175,
          75.024361,
          67.0933,
          106.3004,
          90.870918,
          83.007202,
          null,
          158.131424,
          123.613251,
          120.102486,
          91.757278,
          80.429634,
          65.974373,
          94.765564,
          143.794876,
          101.096817,
          99.011398,
          161.609024,
          137.280319,
          67.767151,
          94.539886,
          107.473808,
          120.233162,
          81.73539,
          94.267609,
          87.147369,
          70.153214,
          89.807037,
          103.30117,
          115.428879,
          75.9813,
          56.099045,
          92.670494,
          131.457169,
          52.239952,
          120.351379,
          121.886116,
          103.920456,
          101.640282,
          129.19957,
          85.677635,
          118.707924,
          77.206642,
          83.614464,
          102.517731,
          104.770317,
          91.025345,
          94.423668,
          94.603905,
          89.87175,
          92.291962,
          186.726456,
          124.10041,
          106.865097,
          148.704697,
          81.016502,
          74.017044,
          76.978638,
          138.765366,
          102.859428,
          125.844757,
          120.81855,
          77.267578,
          97.795929,
          94.240364,
          96.586037,
          92.586441,
          79.858284,
          110.640625,
          90.076088,
          73.599686,
          87.986511,
          101.398796,
          93.220116,
          96.890099,
          71.892464,
          81.026039,
          77.179565,
          99.533524,
          63.170124,
          74.655777,
          68.357719,
          52.867352,
          108.115639,
          85.017792,
          90.365685,
          83.801361,
          75.0522,
          90.097733,
          90.257088,
          84.67408,
          85.257851,
          57.232807,
          76.793213,
          172.482666,
          57.09539,
          125.332176,
          108.933151,
          141.361313,
          29.268389,
          152.479935,
          82.221428,
          118.955734,
          130.453384,
          33.449589,
          164.048965,
          95.844696,
          43.786263,
          42.866737,
          143.220657,
          75.383812,
          74.807152,
          82.154266,
          62.067387,
          86.852219,
          84.629601,
          96.841362,
          45.38821,
          122.134148,
          80.569115,
          89.750084,
          127.108749,
          108.111275,
          106.788429,
          118.314034,
          73.379448,
          70.914108,
          96.334717,
          76.182945,
          109.685471,
          102.299561,
          121.711143,
          131.403687,
          131.795212,
          54.019962,
          71.755188,
          82.959129,
          89.007858,
          57.006466,
          62.732357,
          139.232071,
          145.492859,
          122.545731,
          null,
          129.98027,
          144.249161,
          71.782753,
          140.227371,
          120.41851,
          27.874657,
          125.210449,
          134.486435,
          87.55764,
          98.009247,
          82.743904,
          65.512909,
          79.475365,
          126.065819,
          79.323601,
          146.146027,
          103.849907,
          102.897476,
          90.169418,
          93.291031,
          127.228989,
          null,
          89.314499,
          56.647644,
          65.816864,
          123.205063,
          133.295303,
          81.050453,
          97.957962,
          119.100906,
          105.740318,
          99.644402,
          83.394539,
          87.327179,
          77.291489,
          106.907539,
          79.697868,
          93.371613,
          127.210625,
          133.9729,
          118.228752,
          84.247383,
          51.100441
         ]
        }
       ],
       "layout": {
        "barmode": "group",
        "template": {
         "data": {
          "bar": [
           {
            "error_x": {
             "color": "#2a3f5f"
            },
            "error_y": {
             "color": "#2a3f5f"
            },
            "marker": {
             "line": {
              "color": "#E5ECF6",
              "width": 0.5
             },
             "pattern": {
              "fillmode": "overlay",
              "size": 10,
              "solidity": 0.2
             }
            },
            "type": "bar"
           }
          ],
          "barpolar": [
           {
            "marker": {
             "line": {
              "color": "#E5ECF6",
              "width": 0.5
             },
             "pattern": {
              "fillmode": "overlay",
              "size": 10,
              "solidity": 0.2
             }
            },
            "type": "barpolar"
           }
          ],
          "carpet": [
           {
            "aaxis": {
             "endlinecolor": "#2a3f5f",
             "gridcolor": "white",
             "linecolor": "white",
             "minorgridcolor": "white",
             "startlinecolor": "#2a3f5f"
            },
            "baxis": {
             "endlinecolor": "#2a3f5f",
             "gridcolor": "white",
             "linecolor": "white",
             "minorgridcolor": "white",
             "startlinecolor": "#2a3f5f"
            },
            "type": "carpet"
           }
          ],
          "choropleth": [
           {
            "colorbar": {
             "outlinewidth": 0,
             "ticks": ""
            },
            "type": "choropleth"
           }
          ],
          "contour": [
           {
            "colorbar": {
             "outlinewidth": 0,
             "ticks": ""
            },
            "colorscale": [
             [
              0,
              "#0d0887"
             ],
             [
              0.1111111111111111,
              "#46039f"
             ],
             [
              0.2222222222222222,
              "#7201a8"
             ],
             [
              0.3333333333333333,
              "#9c179e"
             ],
             [
              0.4444444444444444,
              "#bd3786"
             ],
             [
              0.5555555555555556,
              "#d8576b"
             ],
             [
              0.6666666666666666,
              "#ed7953"
             ],
             [
              0.7777777777777778,
              "#fb9f3a"
             ],
             [
              0.8888888888888888,
              "#fdca26"
             ],
             [
              1,
              "#f0f921"
             ]
            ],
            "type": "contour"
           }
          ],
          "contourcarpet": [
           {
            "colorbar": {
             "outlinewidth": 0,
             "ticks": ""
            },
            "type": "contourcarpet"
           }
          ],
          "heatmap": [
           {
            "colorbar": {
             "outlinewidth": 0,
             "ticks": ""
            },
            "colorscale": [
             [
              0,
              "#0d0887"
             ],
             [
              0.1111111111111111,
              "#46039f"
             ],
             [
              0.2222222222222222,
              "#7201a8"
             ],
             [
              0.3333333333333333,
              "#9c179e"
             ],
             [
              0.4444444444444444,
              "#bd3786"
             ],
             [
              0.5555555555555556,
              "#d8576b"
             ],
             [
              0.6666666666666666,
              "#ed7953"
             ],
             [
              0.7777777777777778,
              "#fb9f3a"
             ],
             [
              0.8888888888888888,
              "#fdca26"
             ],
             [
              1,
              "#f0f921"
             ]
            ],
            "type": "heatmap"
           }
          ],
          "heatmapgl": [
           {
            "colorbar": {
             "outlinewidth": 0,
             "ticks": ""
            },
            "colorscale": [
             [
              0,
              "#0d0887"
             ],
             [
              0.1111111111111111,
              "#46039f"
             ],
             [
              0.2222222222222222,
              "#7201a8"
             ],
             [
              0.3333333333333333,
              "#9c179e"
             ],
             [
              0.4444444444444444,
              "#bd3786"
             ],
             [
              0.5555555555555556,
              "#d8576b"
             ],
             [
              0.6666666666666666,
              "#ed7953"
             ],
             [
              0.7777777777777778,
              "#fb9f3a"
             ],
             [
              0.8888888888888888,
              "#fdca26"
             ],
             [
              1,
              "#f0f921"
             ]
            ],
            "type": "heatmapgl"
           }
          ],
          "histogram": [
           {
            "marker": {
             "pattern": {
              "fillmode": "overlay",
              "size": 10,
              "solidity": 0.2
             }
            },
            "type": "histogram"
           }
          ],
          "histogram2d": [
           {
            "colorbar": {
             "outlinewidth": 0,
             "ticks": ""
            },
            "colorscale": [
             [
              0,
              "#0d0887"
             ],
             [
              0.1111111111111111,
              "#46039f"
             ],
             [
              0.2222222222222222,
              "#7201a8"
             ],
             [
              0.3333333333333333,
              "#9c179e"
             ],
             [
              0.4444444444444444,
              "#bd3786"
             ],
             [
              0.5555555555555556,
              "#d8576b"
             ],
             [
              0.6666666666666666,
              "#ed7953"
             ],
             [
              0.7777777777777778,
              "#fb9f3a"
             ],
             [
              0.8888888888888888,
              "#fdca26"
             ],
             [
              1,
              "#f0f921"
             ]
            ],
            "type": "histogram2d"
           }
          ],
          "histogram2dcontour": [
           {
            "colorbar": {
             "outlinewidth": 0,
             "ticks": ""
            },
            "colorscale": [
             [
              0,
              "#0d0887"
             ],
             [
              0.1111111111111111,
              "#46039f"
             ],
             [
              0.2222222222222222,
              "#7201a8"
             ],
             [
              0.3333333333333333,
              "#9c179e"
             ],
             [
              0.4444444444444444,
              "#bd3786"
             ],
             [
              0.5555555555555556,
              "#d8576b"
             ],
             [
              0.6666666666666666,
              "#ed7953"
             ],
             [
              0.7777777777777778,
              "#fb9f3a"
             ],
             [
              0.8888888888888888,
              "#fdca26"
             ],
             [
              1,
              "#f0f921"
             ]
            ],
            "type": "histogram2dcontour"
           }
          ],
          "mesh3d": [
           {
            "colorbar": {
             "outlinewidth": 0,
             "ticks": ""
            },
            "type": "mesh3d"
           }
          ],
          "parcoords": [
           {
            "line": {
             "colorbar": {
              "outlinewidth": 0,
              "ticks": ""
             }
            },
            "type": "parcoords"
           }
          ],
          "pie": [
           {
            "automargin": true,
            "type": "pie"
           }
          ],
          "scatter": [
           {
            "marker": {
             "colorbar": {
              "outlinewidth": 0,
              "ticks": ""
             }
            },
            "type": "scatter"
           }
          ],
          "scatter3d": [
           {
            "line": {
             "colorbar": {
              "outlinewidth": 0,
              "ticks": ""
             }
            },
            "marker": {
             "colorbar": {
              "outlinewidth": 0,
              "ticks": ""
             }
            },
            "type": "scatter3d"
           }
          ],
          "scattercarpet": [
           {
            "marker": {
             "colorbar": {
              "outlinewidth": 0,
              "ticks": ""
             }
            },
            "type": "scattercarpet"
           }
          ],
          "scattergeo": [
           {
            "marker": {
             "colorbar": {
              "outlinewidth": 0,
              "ticks": ""
             }
            },
            "type": "scattergeo"
           }
          ],
          "scattergl": [
           {
            "marker": {
             "colorbar": {
              "outlinewidth": 0,
              "ticks": ""
             }
            },
            "type": "scattergl"
           }
          ],
          "scattermapbox": [
           {
            "marker": {
             "colorbar": {
              "outlinewidth": 0,
              "ticks": ""
             }
            },
            "type": "scattermapbox"
           }
          ],
          "scatterpolar": [
           {
            "marker": {
             "colorbar": {
              "outlinewidth": 0,
              "ticks": ""
             }
            },
            "type": "scatterpolar"
           }
          ],
          "scatterpolargl": [
           {
            "marker": {
             "colorbar": {
              "outlinewidth": 0,
              "ticks": ""
             }
            },
            "type": "scatterpolargl"
           }
          ],
          "scatterternary": [
           {
            "marker": {
             "colorbar": {
              "outlinewidth": 0,
              "ticks": ""
             }
            },
            "type": "scatterternary"
           }
          ],
          "surface": [
           {
            "colorbar": {
             "outlinewidth": 0,
             "ticks": ""
            },
            "colorscale": [
             [
              0,
              "#0d0887"
             ],
             [
              0.1111111111111111,
              "#46039f"
             ],
             [
              0.2222222222222222,
              "#7201a8"
             ],
             [
              0.3333333333333333,
              "#9c179e"
             ],
             [
              0.4444444444444444,
              "#bd3786"
             ],
             [
              0.5555555555555556,
              "#d8576b"
             ],
             [
              0.6666666666666666,
              "#ed7953"
             ],
             [
              0.7777777777777778,
              "#fb9f3a"
             ],
             [
              0.8888888888888888,
              "#fdca26"
             ],
             [
              1,
              "#f0f921"
             ]
            ],
            "type": "surface"
           }
          ],
          "table": [
           {
            "cells": {
             "fill": {
              "color": "#EBF0F8"
             },
             "line": {
              "color": "white"
             }
            },
            "header": {
             "fill": {
              "color": "#C8D4E3"
             },
             "line": {
              "color": "white"
             }
            },
            "type": "table"
           }
          ]
         },
         "layout": {
          "annotationdefaults": {
           "arrowcolor": "#2a3f5f",
           "arrowhead": 0,
           "arrowwidth": 1
          },
          "autotypenumbers": "strict",
          "coloraxis": {
           "colorbar": {
            "outlinewidth": 0,
            "ticks": ""
           }
          },
          "colorscale": {
           "diverging": [
            [
             0,
             "#8e0152"
            ],
            [
             0.1,
             "#c51b7d"
            ],
            [
             0.2,
             "#de77ae"
            ],
            [
             0.3,
             "#f1b6da"
            ],
            [
             0.4,
             "#fde0ef"
            ],
            [
             0.5,
             "#f7f7f7"
            ],
            [
             0.6,
             "#e6f5d0"
            ],
            [
             0.7,
             "#b8e186"
            ],
            [
             0.8,
             "#7fbc41"
            ],
            [
             0.9,
             "#4d9221"
            ],
            [
             1,
             "#276419"
            ]
           ],
           "sequential": [
            [
             0,
             "#0d0887"
            ],
            [
             0.1111111111111111,
             "#46039f"
            ],
            [
             0.2222222222222222,
             "#7201a8"
            ],
            [
             0.3333333333333333,
             "#9c179e"
            ],
            [
             0.4444444444444444,
             "#bd3786"
            ],
            [
             0.5555555555555556,
             "#d8576b"
            ],
            [
             0.6666666666666666,
             "#ed7953"
            ],
            [
             0.7777777777777778,
             "#fb9f3a"
            ],
            [
             0.8888888888888888,
             "#fdca26"
            ],
            [
             1,
             "#f0f921"
            ]
           ],
           "sequentialminus": [
            [
             0,
             "#0d0887"
            ],
            [
             0.1111111111111111,
             "#46039f"
            ],
            [
             0.2222222222222222,
             "#7201a8"
            ],
            [
             0.3333333333333333,
             "#9c179e"
            ],
            [
             0.4444444444444444,
             "#bd3786"
            ],
            [
             0.5555555555555556,
             "#d8576b"
            ],
            [
             0.6666666666666666,
             "#ed7953"
            ],
            [
             0.7777777777777778,
             "#fb9f3a"
            ],
            [
             0.8888888888888888,
             "#fdca26"
            ],
            [
             1,
             "#f0f921"
            ]
           ]
          },
          "colorway": [
           "#636efa",
           "#EF553B",
           "#00cc96",
           "#ab63fa",
           "#FFA15A",
           "#19d3f3",
           "#FF6692",
           "#B6E880",
           "#FF97FF",
           "#FECB52"
          ],
          "font": {
           "color": "#2a3f5f"
          },
          "geo": {
           "bgcolor": "white",
           "lakecolor": "white",
           "landcolor": "#E5ECF6",
           "showlakes": true,
           "showland": true,
           "subunitcolor": "white"
          },
          "hoverlabel": {
           "align": "left"
          },
          "hovermode": "closest",
          "mapbox": {
           "style": "light"
          },
          "paper_bgcolor": "white",
          "plot_bgcolor": "#E5ECF6",
          "polar": {
           "angularaxis": {
            "gridcolor": "white",
            "linecolor": "white",
            "ticks": ""
           },
           "bgcolor": "#E5ECF6",
           "radialaxis": {
            "gridcolor": "white",
            "linecolor": "white",
            "ticks": ""
           }
          },
          "scene": {
           "xaxis": {
            "backgroundcolor": "#E5ECF6",
            "gridcolor": "white",
            "gridwidth": 2,
            "linecolor": "white",
            "showbackground": true,
            "ticks": "",
            "zerolinecolor": "white"
           },
           "yaxis": {
            "backgroundcolor": "#E5ECF6",
            "gridcolor": "white",
            "gridwidth": 2,
            "linecolor": "white",
            "showbackground": true,
            "ticks": "",
            "zerolinecolor": "white"
           },
           "zaxis": {
            "backgroundcolor": "#E5ECF6",
            "gridcolor": "white",
            "gridwidth": 2,
            "linecolor": "white",
            "showbackground": true,
            "ticks": "",
            "zerolinecolor": "white"
           }
          },
          "shapedefaults": {
           "line": {
            "color": "#2a3f5f"
           }
          },
          "ternary": {
           "aaxis": {
            "gridcolor": "white",
            "linecolor": "white",
            "ticks": ""
           },
           "baxis": {
            "gridcolor": "white",
            "linecolor": "white",
            "ticks": ""
           },
           "bgcolor": "#E5ECF6",
           "caxis": {
            "gridcolor": "white",
            "linecolor": "white",
            "ticks": ""
           }
          },
          "title": {
           "x": 0.05
          },
          "xaxis": {
           "automargin": true,
           "gridcolor": "white",
           "linecolor": "white",
           "ticks": "",
           "title": {
            "standoff": 15
           },
           "zerolinecolor": "white",
           "zerolinewidth": 2
          },
          "yaxis": {
           "automargin": true,
           "gridcolor": "white",
           "linecolor": "white",
           "ticks": "",
           "title": {
            "standoff": 15
           },
           "zerolinecolor": "white",
           "zerolinewidth": 2
          }
         }
        },
        "title": {
         "text": "Cumulated Shot Speed by Stroke"
        },
        "xaxis": {
         "title": {
          "text": "Stroke"
         }
        },
        "yaxis": {
         "title": {
          "text": "Shot Speed"
         }
        }
       }
      },
      "text/html": [
       "<div>                            <div id=\"8b248eaf-c0ba-4ecf-8d8f-0477cb9c68c9\" class=\"plotly-graph-div\" style=\"height:525px; width:100%;\"></div>            <script type=\"text/javascript\">                require([\"plotly\"], function(Plotly) {                    window.PLOTLYENV=window.PLOTLYENV || {};                                    if (document.getElementById(\"8b248eaf-c0ba-4ecf-8d8f-0477cb9c68c9\")) {                    Plotly.newPlot(                        \"8b248eaf-c0ba-4ecf-8d8f-0477cb9c68c9\",                        [{\"marker\":{\"color\":\"blue\"},\"name\":\"Pospisil\",\"text\":[\"Player\",\"Player\",\"Player\",\"Player\",\"Player\",\"Player\",\"Player\",\"Player\",\"Player\",\"Player\",\"Player\",\"Player\",\"Player\",\"Player\",\"Player\",\"Player\",\"Player\",\"Player\",\"Player\",\"Player\",\"Player\",\"Player\",\"Player\",\"Player\",\"Player\",\"Player\",\"Player\",\"Player\",\"Player\",\"Player\",\"Player\",\"Player\",\"Player\",\"Player\",\"Player\",\"Player\",\"Player\",\"Player\",\"Player\",\"Player\",\"Player\",\"Player\",\"Player\",\"Player\",\"Player\",\"Player\",\"Player\",\"Player\",\"Player\",\"Player\",\"Player\",\"Player\",\"Player\",\"Player\",\"Player\",\"Player\",\"Player\",\"Player\",\"Player\",\"Player\",\"Player\",\"Player\",\"Player\",\"Player\",\"Player\",\"Player\",\"Player\",\"Player\",\"Player\",\"Player\",\"Player\",\"Player\",\"Player\",\"Player\",\"Player\",\"Player\",\"Player\",\"Player\",\"Player\",\"Player\",\"Player\",\"Player\",\"Player\",\"Player\",\"Player\",\"Player\",\"Player\",\"Player\",\"Player\",\"Player\",\"Player\",\"Player\",\"Player\",\"Player\",\"Player\",\"Player\",\"Player\",\"Player\",\"Player\",\"Player\",\"Player\",\"Player\",\"Player\",\"Player\",\"Player\",\"Player\",\"Player\",\"Player\",\"Player\",\"Player\",\"Player\",\"Player\",\"Player\",\"Player\",\"Player\",\"Player\",\"Player\",\"Player\",\"Player\",\"Player\",\"Player\",\"Player\",\"Player\",\"Player\",\"Player\",\"Player\",\"Player\",\"Player\",\"Player\",\"Player\",\"Player\",\"Player\",\"Player\",\"Player\",\"Player\",\"Player\",\"Player\",\"Player\",\"Player\",\"Player\",\"Player\",\"Player\",\"Player\",\"Player\",\"Player\",\"Player\",\"Player\",\"Player\",\"Player\",\"Player\",\"Player\",\"Player\",\"Player\",\"Player\",\"Player\",\"Player\",\"Player\",\"Player\",\"Player\",\"Player\",\"Player\",\"Player\",\"Player\",\"Player\",\"Player\",\"Player\",\"Player\",\"Player\",\"Player\",\"Player\",\"Player\",\"Player\",\"Player\",\"Player\",\"Player\",\"Player\",\"Player\",\"Player\",\"Player\",\"Player\",\"Player\",\"Player\",\"Player\",\"Player\",\"Player\",\"Player\",\"Player\",\"Player\",\"Player\",\"Player\",\"Player\",\"Player\",\"Player\",\"Player\",\"Player\",\"Player\",\"Player\",\"Player\",\"Player\",\"Player\",\"Player\",\"Player\",\"Player\",\"Player\",\"Player\",\"Player\",\"Player\",\"Player\",\"Player\",\"Player\",\"Player\",\"Player\",\"Player\",\"Player\",\"Player\",\"Player\",\"Player\",\"Player\",\"Player\",\"Player\",\"Player\",\"Player\",\"Player\",\"Player\",\"Player\",\"Player\",\"Player\",\"Player\",\"Player\",\"Player\",\"Player\",\"Player\",\"Player\",\"Player\",\"Player\",\"Player\",\"Player\",\"Player\",\"Player\",\"Player\",\"Player\",\"Player\",\"Player\",\"Player\",\"Player\",\"Player\",\"Player\",\"Player\",\"Player\",\"Player\",\"Player\",\"Player\",\"Player\",\"Player\",\"Player\",\"Player\",\"Player\",\"Player\",\"Player\",\"Player\",\"Player\",\"Player\",\"Player\",\"Player\",\"Player\",\"Player\",\"Player\",\"Player\",\"Player\",\"Player\",\"Player\",\"Player\",\"Player\",\"Player\",\"Player\",\"Player\",\"Player\",\"Player\",\"Player\",\"Player\",\"Player\",\"Player\",\"Player\",\"Player\",\"Player\",\"Player\",\"Player\",\"Player\",\"Player\",\"Player\",\"Player\",\"Player\",\"Player\",\"Player\",\"Player\",\"Player\",\"Player\",\"Player\",\"Player\",\"Player\",\"Player\",\"Player\",\"Player\",\"Player\",\"Player\",\"Player\",\"Player\",\"Player\",\"Player\",\"Player\",\"Player\",\"Player\",\"Player\",\"Player\",\"Player\",\"Player\",\"Player\",\"Player\",\"Player\",\"Player\",\"Player\",\"Player\",\"Player\",\"Player\",\"Player\",\"Player\",\"Player\",\"Player\",\"Player\",\"Player\",\"Player\",\"Player\",\"Player\",\"Player\",\"Player\",\"Player\",\"Player\",\"Player\",\"Player\",\"Player\",\"Player\",\"Player\",\"Player\",\"Player\",\"Player\",\"Player\",\"Player\",\"Player\",\"Player\",\"Player\",\"Player\",\"Player\",\"Player\",\"Player\",\"Player\",\"Player\",\"Player\",\"Player\",\"Player\",\"Player\",\"Player\",\"Player\",\"Player\",\"Player\",\"Player\",\"Player\",\"Player\",\"Player\",\"Player\",\"Player\",\"Player\",\"Player\",\"Player\",\"Player\",\"Player\",\"Player\",\"Player\",\"Player\",\"Player\",\"Player\",\"Player\",\"Player\",\"Player\",\"Player\",\"Player\",\"Player\",\"Player\",\"Player\",\"Player\",\"Player\",\"Player\",\"Player\",\"Player\",\"Player\",\"Player\",\"Player\",\"Player\",\"Player\",\"Player\",\"Player\",\"Player\",\"Player\",\"Player\",\"Player\"],\"x\":[\"Serve\",\"Serve\",\"Forehand\",\"Serve\",\"Serve\",\"Serve\",\"Forehand\",\"Serve\",\"Serve\",\"Serve\",\"Serve\",\"Serve\",\"Backhand\",\"Backhand\",\"Backhand\",\"Backhand\",\"Backhand\",\"Forehand\",\"Forehand\",\"FH Volley\",\"Forehand\",\"Forehand\",\"Backhand\",\"Backhand\",\"Backhand\",\"Serve\",\"Serve\",\"Serve\",\"Serve\",\"Forehand\",\"Serve\",\"Serve\",\"Forehand\",\"Serve\",\"Forehand\",\"Serve\",\"Serve\",\"Backhand\",\"Serve\",\"Serve\",\"Forehand\",\"Forehand\",\"Forehand\",\"Backhand\",\"Forehand\",\"Forehand\",\"Backhand\",\"Forehand\",\"Backhand\",\"Serve\",\"Serve\",\"Forehand\",\"Forehand\",\"Serve\",\"Serve\",\"Forehand\",\"Serve\",\"Backhand\",\"Serve\",\"Backhand\",\"Backhand\",\"Forehand\",\"Forehand\",\"Forehand\",\"Forehand\",\"Forehand\",\"Backhand\",\"Backhand\",\"Forehand\",\"Serve\",\"BH Volley\",\"Serve\",\"Serve\",\"Serve\",\"Serve\",\"Forehand\",\"Serve\",\"Forehand\",\"Forehand\",\"Backhand\",\"Forehand\",\"Backhand\",\"Backhand\",\"Backhand\",\"Backhand\",\"Backhand\",\"Forehand\",\"Backhand\",\"Forehand\",\"Backhand\",\"Forehand\",\"Backhand\",\"Serve\",\"Forehand\",\"Forehand\",\"Forehand\",\"Backhand\",\"Forehand\",\"Backhand\",\"Backhand\",\"Backhand\",\"Serve\",\"Serve\",\"Serve\",\"Forehand\",\"Serve\",\"Serve\",\"Forehand\",\"Forehand\",\"Backhand\",\"Forehand\",\"Backhand\",\"Backhand\",\"Backhand\",\"Forehand\",\"Backhand\",\"Forehand\",\"Backhand\",\"Backhand\",\"Serve\",\"Serve\",\"Backhand\",\"Serve\",\"Serve\",\"Serve\",\"Forehand\",\"Serve\",\"Serve\",\"Backhand\",\"Backhand\",\"Forehand\",\"Forehand\",\"Forehand\",\"Backhand\",\"Serve\",\"Serve\",\"Serve\",\"Forehand\",\"Serve\",\"Serve\",\"Serve\",\"Backhand\",\"Backhand\",\"Backhand\",\"Forehand\",\"Forehand\",\"Backhand\",\"Backhand\",\"Backhand\",\"Forehand\",\"Forehand\",\"Backhand\",\"Backhand\",\"Backhand\",\"Backhand\",\"Backhand\",\"Backhand\",\"Backhand\",\"Backhand\",\"Forehand\",\"Serve\",\"Serve\",\"Forehand\",\"Serve\",\"Serve\",\"Forehand\",\"Backhand\",\"Serve\",\"Serve\",\"Serve\",\"Backhand\",\"Forehand\",\"Backhand\",\"Backhand\",\"Backhand\",\"Forehand\",\"Backhand\",\"Backhand\",\"Forehand\",\"Forehand\",\"Forehand\",\"Backhand\",\"Forehand\",\"Forehand\",\"Backhand\",\"Serve\",\"Forehand\",\"Forehand\",\"Serve\",\"Serve\",\"Backhand\",\"Backhand\",\"Serve\",\"Serve\",\"Serve\",\"Serve\",\"Serve\",\"Serve\",\"Serve\",\"Serve\",\"Backhand\",\"Backhand\",\"Forehand\",\"Backhand\",\"Serve\",\"Forehand\",\"Serve\",\"Forehand\",\"Serve\",\"Serve\",\"Serve\",\"Forehand\",\"Serve\",\"Serve\",\"Forehand\",\"Forehand\",\"Serve\",\"Serve\",\"Backhand\",\"Serve\",\"Serve\",\"Backhand\",\"Backhand\",\"Backhand\",\"Forehand\",\"Backhand\",\"Forehand\",\"Backhand\",\"Backhand\",\"Forehand\",\"Backhand\",\"Forehand\",\"Backhand\",\"Serve\",\"Serve\",\"Forehand\",\"Forehand\",\"Serve\",\"Serve\",\"Forehand\",\"Backhand\",\"Backhand\",\"Forehand\",\"Serve\",\"Serve\",\"Serve\",\"Serve\",\"Forehand\",\"Backhand\",\"Backhand\",\"Forehand\",\"Forehand\",\"Forehand\",\"Forehand\",\"Backhand\",\"Backhand\",\"Forehand\",\"Backhand\",\"Backhand\",\"Backhand\",\"Backhand\",\"Backhand\",\"Forehand\",\"Forehand\",\"Backhand\",\"Forehand\",\"Backhand\",\"Forehand\",\"Forehand\",\"Forehand\",\"Backhand\",\"Serve\",\"Serve\",\"Backhand\",\"Serve\",\"Serve\",\"Serve\",\"Serve\",\"Serve\",\"Forehand\",\"Serve\",\"Forehand\",\"Serve\",\"Forehand\",\"Backhand\",\"Serve\",\"Serve\",\"Serve\",\"Serve\",\"Serve\",\"Backhand\",\"Backhand\",\"Backhand\",\"Serve\",\"Forehand\",\"Serve\",\"Serve\",\"Backhand\",\"Serve\",\"Serve\",\"Forehand\",\"Serve\",\"Serve\",\"Serve\",\"Serve\",\"Backhand\",\"Serve\",\"Serve\",\"Forehand\",\"Serve\",\"Forehand\",\"Forehand\",\"Forehand\",\"Backhand\",\"Backhand\",\"Forehand\",\"Forehand\",\"Backhand\",\"Backhand\",\"Backhand\",\"Backhand\",\"Backhand\",\"Forehand\",\"Forehand\",\"Forehand\",\"Backhand\",\"Backhand\",\"Backhand\",\"BH Volley\",\"Serve\",\"Serve\",\"Serve\",\"Forehand\",\"FH Volley\",\"Backhand\",\"Serve\",\"Serve\",\"Serve\",\"Serve\",\"Serve\",\"Serve\",\"Forehand\",\"Forehand\",\"Forehand\",\"Forehand\",\"Forehand\",\"Backhand\",\"Backhand\",\"Forehand\",\"Backhand\",\"Forehand\",\"Forehand\",\"Backhand\",\"Backhand\",\"Serve\",\"Serve\",\"Serve\",\"Forehand\",\"Serve\",\"Forehand\",\"Serve\",\"Serve\",\"Serve\",\"Forehand\",\"Backhand\",\"Backhand\",\"Backhand\",\"Backhand\",\"Forehand\",\"Backhand\",\"Backhand\",\"Forehand\",\"Backhand\",\"Serve\",\"Serve\",\"Forehand\",\"Forehand\",\"Forehand\",\"Serve\",\"Serve\",\"Serve\",\"FH Volley\",\"Serve\",\"Backhand\",\"Forehand\",\"Backhand\",\"Backhand\",\"Backhand\",\"Backhand\",\"Forehand\",\"BH Volley\",\"Overhead\",\"Backhand\",\"Forehand\",\"Forehand\",\"Backhand\",\"Backhand\",\"Backhand\",\"Backhand\",\"Backhand\",\"Forehand\",\"Forehand\",\"Backhand\",\"Forehand\"],\"y\":[166.363281,126.269508,104.31604,110.567711,94.473465,143.428314,121.841362,73.324745,127.867363,138.194534,126.758484,135.053497,79.956505,91.414658,73.998878,74.146561,104.52829,93.485207,121.069,34.843319,95.097328,115.525398,118.767845,86.101639,84.314781,null,null,202.078918,142.025299,90.916985,118.871452,149.150208,67.103271,145.843109,82.811913,91.834106,130.675079,61.988026,106.161484,128.59906,84.027985,111.239662,44.010815,81.525917,83.750565,114.510849,90.102036,75.569321,58.510414,162.567688,116.530983,105.710678,91.767555,118.566048,151.512466,86.306305,107.916283,46.474094,166.588196,70.724823,84.438766,138.880661,63.228535,84.436371,86.179657,97.699677,69.413628,85.293709,121.33844,170.821655,40.418251,154.751205,154.898346,130.818054,155.280899,127.517418,101.542831,108.328445,103.934494,75.324425,97.880081,72.063347,104.394722,82.689667,78.894096,89.828743,64.099289,50.891689,99.038742,97.112473,77.71389,80.595032,163.357452,125.979408,98.370522,94.703575,89.421379,79.874977,76.715416,89.300713,48.83049,117.779854,103.141624,137.174225,56.267689,116.436615,130.692291,119.212532,111.507843,103.037651,110.053825,102.579086,64.824509,83.374557,99.723221,75.372879,101.58757,100.074409,90.615829,202.92749,147.999054,93.822716,109.466087,149.704681,139.339661,null,115.618561,135.313019,null,58.906158,56.032978,84.942688,78.911583,76.619614,107.96489,115.190155,132.793442,99.720215,114.319725,167.104736,95.396133,62.116451,86.827126,96.118919,105.111687,110.076195,74.431427,107.344002,65.012672,null,81.574692,99.316261,54.644333,85.343544,93.622231,105.564514,93.525055,58.328079,96.813133,75.271919,143.221832,136.398071,114.468361,155.070816,126.443092,84.297203,95.213593,154.441208,183.113083,161.313736,83.81208,100.262436,94.648323,56.252804,79.944664,76.249451,65.513748,89.729584,71.59185,75.004112,82.63858,74.091499,71.737671,87.21228,67.348473,121.712097,120.145248,101.80085,119.387024,134.158463,84.818176,80.718765,129.042877,121.17334,135.090347,152.753952,129.669327,113.434662,153.051682,118.806915,94.847885,85.391418,95.776047,48.105331,180.330566,105.627739,135.720139,82.501259,132.201553,74.454147,85.16597,64.166283,116.556107,108.578003,120.979195,102.330452,106.854721,136.039459,110.440819,136.517929,null,54.995796,56.766331,88.748413,81.118553,80.866776,107.601669,92.904495,60.391788,99.99205,76.2211,101.565132,68.505493,145.279877,123.616066,88.538849,83.194145,137.554901,134.507645,109.964584,89.422569,95.608978,80.951851,117.690926,104.662872,null,128.672958,105.05658,80.326012,43.053253,109.397995,104.398537,61.173656,76.783554,76.932816,93.613075,111.530174,80.912575,102.222694,62.948002,85.263618,null,61.210506,72.850906,106.404999,84.137634,85.851707,50.228252,111.361702,98.696945,69.297447,75.73069,202.92749,67.717346,113.048912,129.566254,160.489914,167.093231,126.122849,110.438393,137.860275,98.722023,195.680084,77.910851,80.865227,147.709503,138.063553,166.00827,39.504692,144.974869,71.761978,106.902702,69.902679,173.839478,93.031387,85.143394,127.729301,86.12738,117.379631,140.661072,140.488266,156.220749,169.817673,182.429214,147.525787,80.72065,88.048271,70.584976,95.641655,null,82.334251,109.926048,81.352936,75.247459,91.167564,84.74485,89.411003,80.58371,83.268433,70.062775,72.031609,68.557838,85.795036,52.65398,95.348717,62.926521,85.720016,78.243675,null,135.886673,103.02195,92.79023,99.135323,30.662121,50.996513,41.277985,126.525276,136.243988,148.107407,143.164764,138.738632,81.068451,92.920174,91.762733,106.598984,86.8209,98.408073,59.253536,80.688751,72.773949,103.144081,103.109367,66.468361,70.524216,155.03595,125.152107,154.221817,126.233253,155.912399,113.105652,159.646866,124.248093,158.792389,111.416878,58.281216,54.479652,70.793716,79.14386,80.363235,80.585121,75.026657,56.75943,85.688118,146.827042,114.806137,91.487587,57.384197,99.732674,93.197632,112.485161,96.524864,37.630787,166.442978,106.515503,104.619637,100.012917,88.348358,78.488785,166.690445,108.673271,27.874657,36.237053,96.001213,61.594387,64.45385,66.683228,85.09304,92.536499,75.055977,76.267067,120.567772,111.376595,88.921425,99.088295],\"type\":\"bar\"},{\"marker\":{\"color\":\"red\"},\"name\":\"Wolf\",\"text\":[\"Opponent\",\"Opponent\",\"Opponent\",\"Opponent\",\"Opponent\",\"Opponent\",\"Opponent\",\"Opponent\",\"Opponent\",\"Opponent\",\"Opponent\",\"Opponent\",\"Opponent\",\"Opponent\",\"Opponent\",\"Opponent\",\"Opponent\",\"Opponent\",\"Opponent\",\"Opponent\",\"Opponent\",\"Opponent\",\"Opponent\",\"Opponent\",\"Opponent\",\"Opponent\",\"Opponent\",\"Opponent\",\"Opponent\",\"Opponent\",\"Opponent\",\"Opponent\",\"Opponent\",\"Opponent\",\"Opponent\",\"Opponent\",\"Opponent\",\"Opponent\",\"Opponent\",\"Opponent\",\"Opponent\",\"Opponent\",\"Opponent\",\"Opponent\",\"Opponent\",\"Opponent\",\"Opponent\",\"Opponent\",\"Opponent\",\"Opponent\",\"Opponent\",\"Opponent\",\"Opponent\",\"Opponent\",\"Opponent\",\"Opponent\",\"Opponent\",\"Opponent\",\"Opponent\",\"Opponent\",\"Opponent\",\"Opponent\",\"Opponent\",\"Opponent\",\"Opponent\",\"Opponent\",\"Opponent\",\"Opponent\",\"Opponent\",\"Opponent\",\"Opponent\",\"Opponent\",\"Opponent\",\"Opponent\",\"Opponent\",\"Opponent\",\"Opponent\",\"Opponent\",\"Opponent\",\"Opponent\",\"Opponent\",\"Opponent\",\"Opponent\",\"Opponent\",\"Opponent\",\"Opponent\",\"Opponent\",\"Opponent\",\"Opponent\",\"Opponent\",\"Opponent\",\"Opponent\",\"Opponent\",\"Opponent\",\"Opponent\",\"Opponent\",\"Opponent\",\"Opponent\",\"Opponent\",\"Opponent\",\"Opponent\",\"Opponent\",\"Opponent\",\"Opponent\",\"Opponent\",\"Opponent\",\"Opponent\",\"Opponent\",\"Opponent\",\"Opponent\",\"Opponent\",\"Opponent\",\"Opponent\",\"Opponent\",\"Opponent\",\"Opponent\",\"Opponent\",\"Opponent\",\"Opponent\",\"Opponent\",\"Opponent\",\"Opponent\",\"Opponent\",\"Opponent\",\"Opponent\",\"Opponent\",\"Opponent\",\"Opponent\",\"Opponent\",\"Opponent\",\"Opponent\",\"Opponent\",\"Opponent\",\"Opponent\",\"Opponent\",\"Opponent\",\"Opponent\",\"Opponent\",\"Opponent\",\"Opponent\",\"Opponent\",\"Opponent\",\"Opponent\",\"Opponent\",\"Opponent\",\"Opponent\",\"Opponent\",\"Opponent\",\"Opponent\",\"Opponent\",\"Opponent\",\"Opponent\",\"Opponent\",\"Opponent\",\"Opponent\",\"Opponent\",\"Opponent\",\"Opponent\",\"Opponent\",\"Opponent\",\"Opponent\",\"Opponent\",\"Opponent\",\"Opponent\",\"Opponent\",\"Opponent\",\"Opponent\",\"Opponent\",\"Opponent\",\"Opponent\",\"Opponent\",\"Opponent\",\"Opponent\",\"Opponent\",\"Opponent\",\"Opponent\",\"Opponent\",\"Opponent\",\"Opponent\",\"Opponent\",\"Opponent\",\"Opponent\",\"Opponent\",\"Opponent\",\"Opponent\",\"Opponent\",\"Opponent\",\"Opponent\",\"Opponent\",\"Opponent\",\"Opponent\",\"Opponent\",\"Opponent\",\"Opponent\",\"Opponent\",\"Opponent\",\"Opponent\",\"Opponent\",\"Opponent\",\"Opponent\",\"Opponent\",\"Opponent\",\"Opponent\",\"Opponent\",\"Opponent\",\"Opponent\",\"Opponent\",\"Opponent\",\"Opponent\",\"Opponent\",\"Opponent\",\"Opponent\",\"Opponent\",\"Opponent\",\"Opponent\",\"Opponent\",\"Opponent\",\"Opponent\",\"Opponent\",\"Opponent\",\"Opponent\",\"Opponent\",\"Opponent\",\"Opponent\",\"Opponent\",\"Opponent\",\"Opponent\",\"Opponent\",\"Opponent\",\"Opponent\",\"Opponent\",\"Opponent\",\"Opponent\",\"Opponent\",\"Opponent\",\"Opponent\",\"Opponent\",\"Opponent\",\"Opponent\",\"Opponent\",\"Opponent\",\"Opponent\",\"Opponent\",\"Opponent\",\"Opponent\",\"Opponent\",\"Opponent\",\"Opponent\",\"Opponent\",\"Opponent\",\"Opponent\",\"Opponent\",\"Opponent\",\"Opponent\",\"Opponent\",\"Opponent\",\"Opponent\",\"Opponent\",\"Opponent\",\"Opponent\",\"Opponent\",\"Opponent\",\"Opponent\",\"Opponent\",\"Opponent\",\"Opponent\",\"Opponent\",\"Opponent\",\"Opponent\",\"Opponent\",\"Opponent\",\"Opponent\",\"Opponent\",\"Opponent\",\"Opponent\",\"Opponent\",\"Opponent\",\"Opponent\",\"Opponent\",\"Opponent\",\"Opponent\",\"Opponent\",\"Opponent\",\"Opponent\",\"Opponent\",\"Opponent\",\"Opponent\",\"Opponent\",\"Opponent\",\"Opponent\",\"Opponent\",\"Opponent\",\"Opponent\",\"Opponent\",\"Opponent\",\"Opponent\",\"Opponent\",\"Opponent\",\"Opponent\",\"Opponent\",\"Opponent\",\"Opponent\",\"Opponent\",\"Opponent\",\"Opponent\",\"Opponent\",\"Opponent\",\"Opponent\",\"Opponent\",\"Opponent\",\"Opponent\",\"Opponent\",\"Opponent\",\"Opponent\",\"Opponent\",\"Opponent\",\"Opponent\",\"Opponent\",\"Opponent\",\"Opponent\",\"Opponent\",\"Opponent\",\"Opponent\",\"Opponent\",\"Opponent\",\"Opponent\",\"Opponent\",\"Opponent\",\"Opponent\",\"Opponent\",\"Opponent\",\"Opponent\",\"Opponent\",\"Opponent\",\"Opponent\",\"Opponent\",\"Opponent\",\"Opponent\",\"Opponent\",\"Opponent\",\"Opponent\",\"Opponent\",\"Opponent\",\"Opponent\",\"Opponent\",\"Opponent\",\"Opponent\",\"Opponent\",\"Opponent\",\"Opponent\",\"Opponent\",\"Opponent\",\"Opponent\",\"Opponent\",\"Opponent\",\"Opponent\",\"Opponent\",\"Opponent\",\"Opponent\",\"Opponent\",\"Opponent\",\"Opponent\",\"Opponent\",\"Opponent\",\"Opponent\",\"Opponent\",\"Opponent\",\"Opponent\",\"Opponent\",\"Opponent\",\"Opponent\",\"Opponent\",\"Opponent\",\"Opponent\",\"Opponent\",\"Opponent\",\"Opponent\",\"Opponent\",\"Opponent\",\"Opponent\",\"Opponent\",\"Opponent\",\"Opponent\",\"Opponent\",\"Opponent\",\"Opponent\",\"Opponent\",\"Opponent\",\"Opponent\",\"Opponent\",\"Opponent\",\"Opponent\"],\"x\":[\"Backhand\",\"Forehand\",\"Backhand\",\"Backhand\",\"Backhand\",\"Serve\",\"Serve\",\"Serve\",\"Forehand\",\"Backhand\",\"Serve\",\"Serve\",\"Forehand\",\"Forehand\",\"Backhand\",\"Backhand\",\"Serve\",\"Forehand\",\"Serve\",\"Serve\",\"Forehand\",\"Serve\",\"Serve\",\"Forehand\",\"Forehand\",\"Backhand\",\"Forehand\",\"Backhand\",\"Backhand\",\"Backhand\",\"Forehand\",\"Forehand\",\"Forehand\",\"Backhand\",\"Serve\",\"Forehand\",\"Serve\",\"Forehand\",\"Serve\",\"Serve\",\"Serve\",\"Serve\",\"Forehand\",\"Forehand\",\"Serve\",\"Forehand\",\"BH Volley\",\"Backhand\",\"Forehand\",\"Forehand\",\"Forehand\",\"Forehand\",\"Backhand\",\"Backhand\",\"Forehand\",\"Serve\",\"Forehand\",\"Backhand\",\"Forehand\",\"Serve\",\"Serve\",\"Backhand\",\"Forehand\",\"Serve\",\"Serve\",\"FH Volley\",\"Serve\",\"Backhand\",\"Forehand\",\"Backhand\",\"Forehand\",\"Forehand\",\"Forehand\",\"Serve\",\"Serve\",\"Serve\",\"Serve\",\"Serve\",\"Backhand\",\"Forehand\",\"Backhand\",\"Serve\",\"Serve\",\"Serve\",\"Forehand\",\"Serve\",\"Forehand\",\"Forehand\",\"Serve\",\"Forehand\",\"Serve\",\"Serve\",\"Forehand\",\"Forehand\",\"Forehand\",\"Backhand\",\"Forehand\",\"Forehand\",\"Forehand\",\"Backhand\",\"Backhand\",\"Backhand\",\"Forehand\",\"Forehand\",\"Backhand\",\"Serve\",\"Forehand\",\"FH Volley\",\"BH Volley\",\"Serve\",\"Serve\",\"Forehand\",\"Serve\",\"Serve\",\"Serve\",\"Serve\",\"Serve\",\"Backhand\",\"Backhand\",\"Forehand\",\"Serve\",\"Serve\",\"Forehand\",\"Forehand\",\"Backhand\",\"Backhand\",\"Forehand\",\"Forehand\",\"Serve\",\"Forehand\",\"Overhead\",\"Serve\",\"Serve\",\"Serve\",\"Serve\",\"Forehand\",\"Backhand\",\"Backhand\",\"Forehand\",\"Backhand\",\"Forehand\",\"Forehand\",\"Serve\",\"Serve\",\"Forehand\",\"Forehand\",\"Serve\",\"Serve\",\"Backhand\",\"Serve\",\"Backhand\",\"Backhand\",\"Serve\",\"Forehand\",\"Serve\",\"Serve\",\"Forehand\",\"Backhand\",\"Backhand\",\"Serve\",\"Serve\",\"Forehand\",\"Serve\",\"Serve\",\"Forehand\",\"Serve\",\"Forehand\",\"Backhand\",\"Backhand\",\"Forehand\",\"Forehand\",\"Forehand\",\"Serve\",\"Serve\",\"Backhand\",\"Forehand\",\"Serve\",\"Overhead\",\"Serve\",\"Forehand\",\"Forehand\",\"Forehand\",\"Backhand\",\"Serve\",\"Forehand\",\"Forehand\",\"BH Volley\",\"FH Volley\",\"Serve\",\"Serve\",\"Forehand\",\"Backhand\",\"Backhand\",\"Backhand\",\"Backhand\",\"Backhand\",\"Forehand\",\"Serve\",\"Serve\",\"Forehand\",\"Serve\",\"Serve\",\"Forehand\",\"Forehand\",\"Backhand\",\"Forehand\",\"Backhand\",\"Backhand\",\"Forehand\",\"Forehand\",\"Backhand\",\"Forehand\",\"Serve\",\"Serve\",\"Serve\",\"Forehand\",\"Forehand\",\"Forehand\",\"Forehand\",\"Serve\",\"Forehand\",\"Backhand\",\"Serve\",\"Serve\",\"Backhand\",\"Backhand\",\"Serve\",\"Serve\",\"Forehand\",\"Forehand\",\"Backhand\",\"Backhand\",\"Backhand\",\"Backhand\",\"Backhand\",\"Backhand\",\"Backhand\",\"Forehand\",\"Serve\",\"Backhand\",\"Serve\",\"Serve\",\"Serve\",\"Forehand\",\"Serve\",\"Forehand\",\"Serve\",\"Serve\",\"Forehand\",\"Serve\",\"Serve\",\"Forehand\",\"Forehand\",\"Forehand\",\"Backhand\",\"Forehand\",\"Serve\",\"Serve\",\"Forehand\",\"Serve\",\"Forehand\",\"Forehand\",\"Forehand\",\"Serve\",\"Forehand\",\"Serve\",\"Serve\",\"Backhand\",\"Backhand\",\"Backhand\",\"Backhand\",\"Forehand\",\"Forehand\",\"Forehand\",\"Forehand\",\"Forehand\",\"Forehand\",\"Forehand\",\"Backhand\",\"Forehand\",\"Forehand\",\"Forehand\",\"Backhand\",\"Forehand\",\"Forehand\",\"Backhand\",\"Backhand\",\"Forehand\",\"Forehand\",\"Forehand\",\"Backhand\",\"Forehand\",\"Forehand\",\"Forehand\",\"Forehand\",\"Backhand\",\"Backhand\",\"Serve\",\"Forehand\",\"Serve\",\"Serve\",\"Serve\",\"Backhand\",\"Backhand\",\"FH Volley\",\"Serve\",\"Backhand\",\"Serve\",\"Forehand\",\"BH Volley\",\"Serve\",\"Backhand\",\"Forehand\",\"Forehand\",\"Backhand\",\"Backhand\",\"Forehand\",\"Backhand\",\"Forehand\",\"Forehand\",\"Forehand\",\"Forehand\",\"Forehand\",\"Serve\",\"Forehand\",\"Backhand\",\"Serve\",\"Serve\",\"Serve\",\"Serve\",\"Forehand\",\"Forehand\",\"Backhand\",\"Forehand\",\"Serve\",\"Serve\",\"Forehand\",\"Serve\",\"Serve\",\"Forehand\",\"Forehand\",\"Backhand\",\"Forehand\",\"Backhand\",\"Backhand\",\"Serve\",\"Serve\",\"Forehand\",\"BH Volley\",\"Serve\",\"Serve\",\"Forehand\",\"Serve\",\"Forehand\",\"BH Volley\",\"Serve\",\"Serve\",\"Backhand\",\"Backhand\",\"Forehand\",\"Forehand\",\"Backhand\",\"Forehand\",\"Backhand\",\"Serve\",\"Serve\",\"Serve\",\"Forehand\",\"Forehand\",\"Serve\",\"Serve\",\"Backhand\",\"Backhand\",\"Forehand\",\"Serve\",\"Serve\",\"Forehand\",\"Serve\",\"Forehand\",\"Serve\",\"Forehand\",\"Serve\",\"Serve\",\"Forehand\",\"Backhand\",\"Backhand\",\"Backhand\",\"Forehand\",\"Serve\",\"Serve\",\"Forehand\",\"Backhand\"],\"y\":[70.656006,90.118004,78.757332,107.008484,115.401077,122.690895,86.152313,90.455971,120.514259,93.383263,73.279663,95.120171,77.21286,93.235603,92.444786,57.347374,145.696243,85.205666,103.562408,118.513489,100.287956,122.950623,111.271889,96.919159,53.398014,null,null,66.082611,87.971054,75.404854,86.140068,76.985634,87.684532,81.28093,133.400818,64.797531,156.245361,108.106529,152.219467,118.648102,195.680084,148.512756,101.999512,110.913551,130.91246,116.628853,37.630787,96.83992,106.468567,98.102432,84.601158,100.454239,76.658569,95.573479,82.496483,117.708092,106.503769,99.611221,92.537392,98.843224,135.849808,80.854759,80.580467,153.187195,80.778633,30.662121,150.456055,97.309517,65.942314,75.042953,120.011848,92.029716,91.968422,140.353561,136.05043,139.344574,128.304657,79.032303,75.473129,87.430115,101.75074,158.218857,158.14296,113.648621,null,140.74617,94.530067,81.087166,110.305969,117.396713,106.487129,143.730392,95.949615,106.416443,110.663696,48.324123,83.322456,89.970474,94.439377,113.489487,123.250603,109.298531,91.248871,82.073555,87.755569,107.853889,91.986244,30.662121,29.268389,91.782944,138.085907,87.014381,131.86058,124.574211,108.9188,123.60685,121.899208,71.458107,88.413597,84.286644,142.643265,95.623726,86.265938,59.372974,89.867363,51.779488,75.831337,112.212112,121.958916,122.90451,201.255249,152.574997,136.381332,117.978516,209.089432,85.485176,78.697899,89.176834,93.571404,87.594299,104.283287,34.756573,161.844543,124.04174,90.962761,94.144615,124.911072,137.589569,68.084602,153.740936,72.454666,97.380569,null,59.405151,129.598526,126.181213,92.110268,50.292553,106.643478,122.471291,119.482353,82.973419,133.452988,103.386101,89.15744,130.562592,93.199921,62.44315,76.718819,90.183571,67.941765,41.97179,111.982384,121.374367,94.649712,80.972885,150.820419,115.781219,118.858398,107.963333,102.877914,96.550537,107.338608,145.752823,122.92408,102.892982,32.055855,33.449589,71.547913,127.601143,78.457787,61.307163,119.307358,82.017311,107.381119,111.443825,90.833778,129.603714,111.897949,84.39032,96.033112,162.539124,72.225868,86.223366,79.637161,93.042175,75.024361,67.0933,106.3004,90.870918,83.007202,null,158.131424,123.613251,120.102486,91.757278,80.429634,65.974373,94.765564,143.794876,101.096817,99.011398,161.609024,137.280319,67.767151,94.539886,107.473808,120.233162,81.73539,94.267609,87.147369,70.153214,89.807037,103.30117,115.428879,75.9813,56.099045,92.670494,131.457169,52.239952,120.351379,121.886116,103.920456,101.640282,129.19957,85.677635,118.707924,77.206642,83.614464,102.517731,104.770317,91.025345,94.423668,94.603905,89.87175,92.291962,186.726456,124.10041,106.865097,148.704697,81.016502,74.017044,76.978638,138.765366,102.859428,125.844757,120.81855,77.267578,97.795929,94.240364,96.586037,92.586441,79.858284,110.640625,90.076088,73.599686,87.986511,101.398796,93.220116,96.890099,71.892464,81.026039,77.179565,99.533524,63.170124,74.655777,68.357719,52.867352,108.115639,85.017792,90.365685,83.801361,75.0522,90.097733,90.257088,84.67408,85.257851,57.232807,76.793213,172.482666,57.09539,125.332176,108.933151,141.361313,29.268389,152.479935,82.221428,118.955734,130.453384,33.449589,164.048965,95.844696,43.786263,42.866737,143.220657,75.383812,74.807152,82.154266,62.067387,86.852219,84.629601,96.841362,45.38821,122.134148,80.569115,89.750084,127.108749,108.111275,106.788429,118.314034,73.379448,70.914108,96.334717,76.182945,109.685471,102.299561,121.711143,131.403687,131.795212,54.019962,71.755188,82.959129,89.007858,57.006466,62.732357,139.232071,145.492859,122.545731,null,129.98027,144.249161,71.782753,140.227371,120.41851,27.874657,125.210449,134.486435,87.55764,98.009247,82.743904,65.512909,79.475365,126.065819,79.323601,146.146027,103.849907,102.897476,90.169418,93.291031,127.228989,null,89.314499,56.647644,65.816864,123.205063,133.295303,81.050453,97.957962,119.100906,105.740318,99.644402,83.394539,87.327179,77.291489,106.907539,79.697868,93.371613,127.210625,133.9729,118.228752,84.247383,51.100441],\"type\":\"bar\"}],                        {\"barmode\":\"group\",\"title\":{\"text\":\"Cumulated Shot Speed by Stroke\"},\"xaxis\":{\"title\":{\"text\":\"Stroke\"}},\"yaxis\":{\"title\":{\"text\":\"Shot Speed\"}},\"template\":{\"data\":{\"bar\":[{\"error_x\":{\"color\":\"#2a3f5f\"},\"error_y\":{\"color\":\"#2a3f5f\"},\"marker\":{\"line\":{\"color\":\"#E5ECF6\",\"width\":0.5},\"pattern\":{\"fillmode\":\"overlay\",\"size\":10,\"solidity\":0.2}},\"type\":\"bar\"}],\"barpolar\":[{\"marker\":{\"line\":{\"color\":\"#E5ECF6\",\"width\":0.5},\"pattern\":{\"fillmode\":\"overlay\",\"size\":10,\"solidity\":0.2}},\"type\":\"barpolar\"}],\"carpet\":[{\"aaxis\":{\"endlinecolor\":\"#2a3f5f\",\"gridcolor\":\"white\",\"linecolor\":\"white\",\"minorgridcolor\":\"white\",\"startlinecolor\":\"#2a3f5f\"},\"baxis\":{\"endlinecolor\":\"#2a3f5f\",\"gridcolor\":\"white\",\"linecolor\":\"white\",\"minorgridcolor\":\"white\",\"startlinecolor\":\"#2a3f5f\"},\"type\":\"carpet\"}],\"choropleth\":[{\"colorbar\":{\"outlinewidth\":0,\"ticks\":\"\"},\"type\":\"choropleth\"}],\"contour\":[{\"colorbar\":{\"outlinewidth\":0,\"ticks\":\"\"},\"colorscale\":[[0.0,\"#0d0887\"],[0.1111111111111111,\"#46039f\"],[0.2222222222222222,\"#7201a8\"],[0.3333333333333333,\"#9c179e\"],[0.4444444444444444,\"#bd3786\"],[0.5555555555555556,\"#d8576b\"],[0.6666666666666666,\"#ed7953\"],[0.7777777777777778,\"#fb9f3a\"],[0.8888888888888888,\"#fdca26\"],[1.0,\"#f0f921\"]],\"type\":\"contour\"}],\"contourcarpet\":[{\"colorbar\":{\"outlinewidth\":0,\"ticks\":\"\"},\"type\":\"contourcarpet\"}],\"heatmap\":[{\"colorbar\":{\"outlinewidth\":0,\"ticks\":\"\"},\"colorscale\":[[0.0,\"#0d0887\"],[0.1111111111111111,\"#46039f\"],[0.2222222222222222,\"#7201a8\"],[0.3333333333333333,\"#9c179e\"],[0.4444444444444444,\"#bd3786\"],[0.5555555555555556,\"#d8576b\"],[0.6666666666666666,\"#ed7953\"],[0.7777777777777778,\"#fb9f3a\"],[0.8888888888888888,\"#fdca26\"],[1.0,\"#f0f921\"]],\"type\":\"heatmap\"}],\"heatmapgl\":[{\"colorbar\":{\"outlinewidth\":0,\"ticks\":\"\"},\"colorscale\":[[0.0,\"#0d0887\"],[0.1111111111111111,\"#46039f\"],[0.2222222222222222,\"#7201a8\"],[0.3333333333333333,\"#9c179e\"],[0.4444444444444444,\"#bd3786\"],[0.5555555555555556,\"#d8576b\"],[0.6666666666666666,\"#ed7953\"],[0.7777777777777778,\"#fb9f3a\"],[0.8888888888888888,\"#fdca26\"],[1.0,\"#f0f921\"]],\"type\":\"heatmapgl\"}],\"histogram\":[{\"marker\":{\"pattern\":{\"fillmode\":\"overlay\",\"size\":10,\"solidity\":0.2}},\"type\":\"histogram\"}],\"histogram2d\":[{\"colorbar\":{\"outlinewidth\":0,\"ticks\":\"\"},\"colorscale\":[[0.0,\"#0d0887\"],[0.1111111111111111,\"#46039f\"],[0.2222222222222222,\"#7201a8\"],[0.3333333333333333,\"#9c179e\"],[0.4444444444444444,\"#bd3786\"],[0.5555555555555556,\"#d8576b\"],[0.6666666666666666,\"#ed7953\"],[0.7777777777777778,\"#fb9f3a\"],[0.8888888888888888,\"#fdca26\"],[1.0,\"#f0f921\"]],\"type\":\"histogram2d\"}],\"histogram2dcontour\":[{\"colorbar\":{\"outlinewidth\":0,\"ticks\":\"\"},\"colorscale\":[[0.0,\"#0d0887\"],[0.1111111111111111,\"#46039f\"],[0.2222222222222222,\"#7201a8\"],[0.3333333333333333,\"#9c179e\"],[0.4444444444444444,\"#bd3786\"],[0.5555555555555556,\"#d8576b\"],[0.6666666666666666,\"#ed7953\"],[0.7777777777777778,\"#fb9f3a\"],[0.8888888888888888,\"#fdca26\"],[1.0,\"#f0f921\"]],\"type\":\"histogram2dcontour\"}],\"mesh3d\":[{\"colorbar\":{\"outlinewidth\":0,\"ticks\":\"\"},\"type\":\"mesh3d\"}],\"parcoords\":[{\"line\":{\"colorbar\":{\"outlinewidth\":0,\"ticks\":\"\"}},\"type\":\"parcoords\"}],\"pie\":[{\"automargin\":true,\"type\":\"pie\"}],\"scatter\":[{\"marker\":{\"colorbar\":{\"outlinewidth\":0,\"ticks\":\"\"}},\"type\":\"scatter\"}],\"scatter3d\":[{\"line\":{\"colorbar\":{\"outlinewidth\":0,\"ticks\":\"\"}},\"marker\":{\"colorbar\":{\"outlinewidth\":0,\"ticks\":\"\"}},\"type\":\"scatter3d\"}],\"scattercarpet\":[{\"marker\":{\"colorbar\":{\"outlinewidth\":0,\"ticks\":\"\"}},\"type\":\"scattercarpet\"}],\"scattergeo\":[{\"marker\":{\"colorbar\":{\"outlinewidth\":0,\"ticks\":\"\"}},\"type\":\"scattergeo\"}],\"scattergl\":[{\"marker\":{\"colorbar\":{\"outlinewidth\":0,\"ticks\":\"\"}},\"type\":\"scattergl\"}],\"scattermapbox\":[{\"marker\":{\"colorbar\":{\"outlinewidth\":0,\"ticks\":\"\"}},\"type\":\"scattermapbox\"}],\"scatterpolar\":[{\"marker\":{\"colorbar\":{\"outlinewidth\":0,\"ticks\":\"\"}},\"type\":\"scatterpolar\"}],\"scatterpolargl\":[{\"marker\":{\"colorbar\":{\"outlinewidth\":0,\"ticks\":\"\"}},\"type\":\"scatterpolargl\"}],\"scatterternary\":[{\"marker\":{\"colorbar\":{\"outlinewidth\":0,\"ticks\":\"\"}},\"type\":\"scatterternary\"}],\"surface\":[{\"colorbar\":{\"outlinewidth\":0,\"ticks\":\"\"},\"colorscale\":[[0.0,\"#0d0887\"],[0.1111111111111111,\"#46039f\"],[0.2222222222222222,\"#7201a8\"],[0.3333333333333333,\"#9c179e\"],[0.4444444444444444,\"#bd3786\"],[0.5555555555555556,\"#d8576b\"],[0.6666666666666666,\"#ed7953\"],[0.7777777777777778,\"#fb9f3a\"],[0.8888888888888888,\"#fdca26\"],[1.0,\"#f0f921\"]],\"type\":\"surface\"}],\"table\":[{\"cells\":{\"fill\":{\"color\":\"#EBF0F8\"},\"line\":{\"color\":\"white\"}},\"header\":{\"fill\":{\"color\":\"#C8D4E3\"},\"line\":{\"color\":\"white\"}},\"type\":\"table\"}]},\"layout\":{\"annotationdefaults\":{\"arrowcolor\":\"#2a3f5f\",\"arrowhead\":0,\"arrowwidth\":1},\"autotypenumbers\":\"strict\",\"coloraxis\":{\"colorbar\":{\"outlinewidth\":0,\"ticks\":\"\"}},\"colorscale\":{\"diverging\":[[0,\"#8e0152\"],[0.1,\"#c51b7d\"],[0.2,\"#de77ae\"],[0.3,\"#f1b6da\"],[0.4,\"#fde0ef\"],[0.5,\"#f7f7f7\"],[0.6,\"#e6f5d0\"],[0.7,\"#b8e186\"],[0.8,\"#7fbc41\"],[0.9,\"#4d9221\"],[1,\"#276419\"]],\"sequential\":[[0.0,\"#0d0887\"],[0.1111111111111111,\"#46039f\"],[0.2222222222222222,\"#7201a8\"],[0.3333333333333333,\"#9c179e\"],[0.4444444444444444,\"#bd3786\"],[0.5555555555555556,\"#d8576b\"],[0.6666666666666666,\"#ed7953\"],[0.7777777777777778,\"#fb9f3a\"],[0.8888888888888888,\"#fdca26\"],[1.0,\"#f0f921\"]],\"sequentialminus\":[[0.0,\"#0d0887\"],[0.1111111111111111,\"#46039f\"],[0.2222222222222222,\"#7201a8\"],[0.3333333333333333,\"#9c179e\"],[0.4444444444444444,\"#bd3786\"],[0.5555555555555556,\"#d8576b\"],[0.6666666666666666,\"#ed7953\"],[0.7777777777777778,\"#fb9f3a\"],[0.8888888888888888,\"#fdca26\"],[1.0,\"#f0f921\"]]},\"colorway\":[\"#636efa\",\"#EF553B\",\"#00cc96\",\"#ab63fa\",\"#FFA15A\",\"#19d3f3\",\"#FF6692\",\"#B6E880\",\"#FF97FF\",\"#FECB52\"],\"font\":{\"color\":\"#2a3f5f\"},\"geo\":{\"bgcolor\":\"white\",\"lakecolor\":\"white\",\"landcolor\":\"#E5ECF6\",\"showlakes\":true,\"showland\":true,\"subunitcolor\":\"white\"},\"hoverlabel\":{\"align\":\"left\"},\"hovermode\":\"closest\",\"mapbox\":{\"style\":\"light\"},\"paper_bgcolor\":\"white\",\"plot_bgcolor\":\"#E5ECF6\",\"polar\":{\"angularaxis\":{\"gridcolor\":\"white\",\"linecolor\":\"white\",\"ticks\":\"\"},\"bgcolor\":\"#E5ECF6\",\"radialaxis\":{\"gridcolor\":\"white\",\"linecolor\":\"white\",\"ticks\":\"\"}},\"scene\":{\"xaxis\":{\"backgroundcolor\":\"#E5ECF6\",\"gridcolor\":\"white\",\"gridwidth\":2,\"linecolor\":\"white\",\"showbackground\":true,\"ticks\":\"\",\"zerolinecolor\":\"white\"},\"yaxis\":{\"backgroundcolor\":\"#E5ECF6\",\"gridcolor\":\"white\",\"gridwidth\":2,\"linecolor\":\"white\",\"showbackground\":true,\"ticks\":\"\",\"zerolinecolor\":\"white\"},\"zaxis\":{\"backgroundcolor\":\"#E5ECF6\",\"gridcolor\":\"white\",\"gridwidth\":2,\"linecolor\":\"white\",\"showbackground\":true,\"ticks\":\"\",\"zerolinecolor\":\"white\"}},\"shapedefaults\":{\"line\":{\"color\":\"#2a3f5f\"}},\"ternary\":{\"aaxis\":{\"gridcolor\":\"white\",\"linecolor\":\"white\",\"ticks\":\"\"},\"baxis\":{\"gridcolor\":\"white\",\"linecolor\":\"white\",\"ticks\":\"\"},\"bgcolor\":\"#E5ECF6\",\"caxis\":{\"gridcolor\":\"white\",\"linecolor\":\"white\",\"ticks\":\"\"}},\"title\":{\"x\":0.05},\"xaxis\":{\"automargin\":true,\"gridcolor\":\"white\",\"linecolor\":\"white\",\"ticks\":\"\",\"title\":{\"standoff\":15},\"zerolinecolor\":\"white\",\"zerolinewidth\":2},\"yaxis\":{\"automargin\":true,\"gridcolor\":\"white\",\"linecolor\":\"white\",\"ticks\":\"\",\"title\":{\"standoff\":15},\"zerolinecolor\":\"white\",\"zerolinewidth\":2}}}},                        {\"responsive\": true}                    ).then(function(){\n",
       "                            \n",
       "var gd = document.getElementById('8b248eaf-c0ba-4ecf-8d8f-0477cb9c68c9');\n",
       "var x = new MutationObserver(function (mutations, observer) {{\n",
       "        var display = window.getComputedStyle(gd).display;\n",
       "        if (!display || display === 'none') {{\n",
       "            console.log([gd, 'removed!']);\n",
       "            Plotly.purge(gd);\n",
       "            observer.disconnect();\n",
       "        }}\n",
       "}});\n",
       "\n",
       "// Listen for the removal of the full notebook cells\n",
       "var notebookContainer = gd.closest('#notebook-container');\n",
       "if (notebookContainer) {{\n",
       "    x.observe(notebookContainer, {childList: true});\n",
       "}}\n",
       "\n",
       "// Listen for the clearing of the current output cell\n",
       "var outputEl = gd.closest('.output');\n",
       "if (outputEl) {{\n",
       "    x.observe(outputEl, {childList: true});\n",
       "}}\n",
       "\n",
       "                        })                };                });            </script>        </div>"
      ]
     },
     "metadata": {},
     "output_type": "display_data"
    }
   ],
   "source": [
    "hide_me\n",
    "#créer une figure\n",
    "\n",
    "trace3 = go.Bar(\n",
    "    x=dfP1.Stroke, y=dfP1[\"Speed (KM/H)\"],\n",
    "    text=dfP1.Player, #annote les points avec cette variable\n",
    "    marker=dict(color='blue'), name=name1\n",
    ")\n",
    "trace4 = go.Bar(\n",
    "    x=dfP2.Stroke, y=dfP2[\"Speed (KM/H)\"],\n",
    "    text=dfP2.Player, #annote les points avec cette variable\n",
    "    marker=dict(color='red'), name=name2\n",
    ")\n",
    "data2=[trace3, trace4]\n",
    "#layout\n",
    "layout2=go.Layout(barmode=\"group\", title=\"Cumulated Shot Speed by Stroke\"\n",
    "                  , xaxis_title=\"Stroke\", yaxis_title=\"Shot Speed\")\n",
    "fig2=go.Figure(data=data2, layout=layout2)\n",
    "#afficher\n",
    "fig2.show()"
   ]
  },
  {
   "cell_type": "markdown",
   "id": "8feee95c",
   "metadata": {},
   "source": [
    "# Multiple Subplots"
   ]
  },
  {
   "cell_type": "code",
   "execution_count": null,
   "id": "423acedc",
   "metadata": {},
   "outputs": [],
   "source": []
  },
  {
   "cell_type": "code",
   "execution_count": 9,
   "id": "c56678e9",
   "metadata": {},
   "outputs": [
    {
     "data": {
      "application/vnd.plotly.v1+json": {
       "config": {
        "plotlyServerURL": "https://plot.ly"
       },
       "data": [
        {
         "marker": {
          "color": "blue"
         },
         "name": "Pospisil",
         "text": [
          "Player",
          "Player",
          "Player",
          "Player",
          "Player",
          "Player",
          "Player",
          "Player",
          "Player",
          "Player",
          "Player",
          "Player",
          "Player",
          "Player",
          "Player",
          "Player",
          "Player",
          "Player",
          "Player",
          "Player",
          "Player",
          "Player",
          "Player",
          "Player",
          "Player",
          "Player",
          "Player",
          "Player",
          "Player",
          "Player",
          "Player",
          "Player",
          "Player",
          "Player",
          "Player",
          "Player",
          "Player",
          "Player",
          "Player",
          "Player",
          "Player",
          "Player",
          "Player",
          "Player",
          "Player",
          "Player",
          "Player",
          "Player",
          "Player",
          "Player",
          "Player",
          "Player",
          "Player",
          "Player",
          "Player",
          "Player",
          "Player",
          "Player",
          "Player",
          "Player",
          "Player",
          "Player",
          "Player",
          "Player",
          "Player",
          "Player",
          "Player",
          "Player",
          "Player",
          "Player",
          "Player",
          "Player",
          "Player",
          "Player",
          "Player",
          "Player",
          "Player",
          "Player",
          "Player",
          "Player",
          "Player",
          "Player",
          "Player",
          "Player",
          "Player",
          "Player",
          "Player",
          "Player",
          "Player",
          "Player",
          "Player",
          "Player",
          "Player",
          "Player",
          "Player",
          "Player",
          "Player",
          "Player",
          "Player",
          "Player",
          "Player",
          "Player",
          "Player",
          "Player",
          "Player",
          "Player",
          "Player",
          "Player",
          "Player",
          "Player",
          "Player",
          "Player",
          "Player",
          "Player",
          "Player",
          "Player",
          "Player",
          "Player",
          "Player",
          "Player",
          "Player",
          "Player",
          "Player",
          "Player",
          "Player",
          "Player",
          "Player",
          "Player",
          "Player",
          "Player",
          "Player",
          "Player",
          "Player",
          "Player",
          "Player",
          "Player",
          "Player",
          "Player",
          "Player",
          "Player",
          "Player",
          "Player",
          "Player",
          "Player",
          "Player",
          "Player",
          "Player",
          "Player",
          "Player",
          "Player",
          "Player",
          "Player",
          "Player",
          "Player",
          "Player",
          "Player",
          "Player",
          "Player",
          "Player",
          "Player",
          "Player",
          "Player",
          "Player",
          "Player",
          "Player",
          "Player",
          "Player",
          "Player",
          "Player",
          "Player",
          "Player",
          "Player",
          "Player",
          "Player",
          "Player",
          "Player",
          "Player",
          "Player",
          "Player",
          "Player",
          "Player",
          "Player",
          "Player",
          "Player",
          "Player",
          "Player",
          "Player",
          "Player",
          "Player",
          "Player",
          "Player",
          "Player",
          "Player",
          "Player",
          "Player",
          "Player",
          "Player",
          "Player",
          "Player",
          "Player",
          "Player",
          "Player",
          "Player",
          "Player",
          "Player",
          "Player",
          "Player",
          "Player",
          "Player",
          "Player",
          "Player",
          "Player",
          "Player",
          "Player",
          "Player",
          "Player",
          "Player",
          "Player",
          "Player",
          "Player",
          "Player",
          "Player",
          "Player",
          "Player",
          "Player",
          "Player",
          "Player",
          "Player",
          "Player",
          "Player",
          "Player",
          "Player",
          "Player",
          "Player",
          "Player",
          "Player",
          "Player",
          "Player",
          "Player",
          "Player",
          "Player",
          "Player",
          "Player",
          "Player",
          "Player",
          "Player",
          "Player",
          "Player",
          "Player",
          "Player",
          "Player",
          "Player",
          "Player",
          "Player",
          "Player",
          "Player",
          "Player",
          "Player",
          "Player",
          "Player",
          "Player",
          "Player",
          "Player",
          "Player",
          "Player",
          "Player",
          "Player",
          "Player",
          "Player",
          "Player",
          "Player",
          "Player",
          "Player",
          "Player",
          "Player",
          "Player",
          "Player",
          "Player",
          "Player",
          "Player",
          "Player",
          "Player",
          "Player",
          "Player",
          "Player",
          "Player",
          "Player",
          "Player",
          "Player",
          "Player",
          "Player",
          "Player",
          "Player",
          "Player",
          "Player",
          "Player",
          "Player",
          "Player",
          "Player",
          "Player",
          "Player",
          "Player",
          "Player",
          "Player",
          "Player",
          "Player",
          "Player",
          "Player",
          "Player",
          "Player",
          "Player",
          "Player",
          "Player",
          "Player",
          "Player",
          "Player",
          "Player",
          "Player",
          "Player",
          "Player",
          "Player",
          "Player",
          "Player",
          "Player",
          "Player",
          "Player",
          "Player",
          "Player",
          "Player",
          "Player",
          "Player",
          "Player",
          "Player",
          "Player",
          "Player",
          "Player",
          "Player",
          "Player",
          "Player",
          "Player",
          "Player",
          "Player",
          "Player",
          "Player",
          "Player",
          "Player",
          "Player",
          "Player",
          "Player",
          "Player",
          "Player",
          "Player",
          "Player",
          "Player",
          "Player",
          "Player",
          "Player",
          "Player",
          "Player",
          "Player",
          "Player",
          "Player",
          "Player",
          "Player",
          "Player",
          "Player",
          "Player",
          "Player",
          "Player",
          "Player",
          "Player",
          "Player",
          "Player",
          "Player",
          "Player",
          "Player",
          "Player",
          "Player",
          "Player",
          "Player",
          "Player",
          "Player",
          "Player",
          "Player",
          "Player",
          "Player",
          "Player",
          "Player",
          "Player",
          "Player",
          "Player",
          "Player",
          "Player",
          "Player",
          "Player",
          "Player",
          "Player",
          "Player",
          "Player",
          "Player",
          "Player",
          "Player",
          "Player",
          "Player"
         ],
         "type": "bar",
         "x": [
          "Serve",
          "Serve",
          "Forehand",
          "Serve",
          "Serve",
          "Serve",
          "Forehand",
          "Serve",
          "Serve",
          "Serve",
          "Serve",
          "Serve",
          "Backhand",
          "Backhand",
          "Backhand",
          "Backhand",
          "Backhand",
          "Forehand",
          "Forehand",
          "FH Volley",
          "Forehand",
          "Forehand",
          "Backhand",
          "Backhand",
          "Backhand",
          "Serve",
          "Serve",
          "Serve",
          "Serve",
          "Forehand",
          "Serve",
          "Serve",
          "Forehand",
          "Serve",
          "Forehand",
          "Serve",
          "Serve",
          "Backhand",
          "Serve",
          "Serve",
          "Forehand",
          "Forehand",
          "Forehand",
          "Backhand",
          "Forehand",
          "Forehand",
          "Backhand",
          "Forehand",
          "Backhand",
          "Serve",
          "Serve",
          "Forehand",
          "Forehand",
          "Serve",
          "Serve",
          "Forehand",
          "Serve",
          "Backhand",
          "Serve",
          "Backhand",
          "Backhand",
          "Forehand",
          "Forehand",
          "Forehand",
          "Forehand",
          "Forehand",
          "Backhand",
          "Backhand",
          "Forehand",
          "Serve",
          "BH Volley",
          "Serve",
          "Serve",
          "Serve",
          "Serve",
          "Forehand",
          "Serve",
          "Forehand",
          "Forehand",
          "Backhand",
          "Forehand",
          "Backhand",
          "Backhand",
          "Backhand",
          "Backhand",
          "Backhand",
          "Forehand",
          "Backhand",
          "Forehand",
          "Backhand",
          "Forehand",
          "Backhand",
          "Serve",
          "Forehand",
          "Forehand",
          "Forehand",
          "Backhand",
          "Forehand",
          "Backhand",
          "Backhand",
          "Backhand",
          "Serve",
          "Serve",
          "Serve",
          "Forehand",
          "Serve",
          "Serve",
          "Forehand",
          "Forehand",
          "Backhand",
          "Forehand",
          "Backhand",
          "Backhand",
          "Backhand",
          "Forehand",
          "Backhand",
          "Forehand",
          "Backhand",
          "Backhand",
          "Serve",
          "Serve",
          "Backhand",
          "Serve",
          "Serve",
          "Serve",
          "Forehand",
          "Serve",
          "Serve",
          "Backhand",
          "Backhand",
          "Forehand",
          "Forehand",
          "Forehand",
          "Backhand",
          "Serve",
          "Serve",
          "Serve",
          "Forehand",
          "Serve",
          "Serve",
          "Serve",
          "Backhand",
          "Backhand",
          "Backhand",
          "Forehand",
          "Forehand",
          "Backhand",
          "Backhand",
          "Backhand",
          "Forehand",
          "Forehand",
          "Backhand",
          "Backhand",
          "Backhand",
          "Backhand",
          "Backhand",
          "Backhand",
          "Backhand",
          "Backhand",
          "Forehand",
          "Serve",
          "Serve",
          "Forehand",
          "Serve",
          "Serve",
          "Forehand",
          "Backhand",
          "Serve",
          "Serve",
          "Serve",
          "Backhand",
          "Forehand",
          "Backhand",
          "Backhand",
          "Backhand",
          "Forehand",
          "Backhand",
          "Backhand",
          "Forehand",
          "Forehand",
          "Forehand",
          "Backhand",
          "Forehand",
          "Forehand",
          "Backhand",
          "Serve",
          "Forehand",
          "Forehand",
          "Serve",
          "Serve",
          "Backhand",
          "Backhand",
          "Serve",
          "Serve",
          "Serve",
          "Serve",
          "Serve",
          "Serve",
          "Serve",
          "Serve",
          "Backhand",
          "Backhand",
          "Forehand",
          "Backhand",
          "Serve",
          "Forehand",
          "Serve",
          "Forehand",
          "Serve",
          "Serve",
          "Serve",
          "Forehand",
          "Serve",
          "Serve",
          "Forehand",
          "Forehand",
          "Serve",
          "Serve",
          "Backhand",
          "Serve",
          "Serve",
          "Backhand",
          "Backhand",
          "Backhand",
          "Forehand",
          "Backhand",
          "Forehand",
          "Backhand",
          "Backhand",
          "Forehand",
          "Backhand",
          "Forehand",
          "Backhand",
          "Serve",
          "Serve",
          "Forehand",
          "Forehand",
          "Serve",
          "Serve",
          "Forehand",
          "Backhand",
          "Backhand",
          "Forehand",
          "Serve",
          "Serve",
          "Serve",
          "Serve",
          "Forehand",
          "Backhand",
          "Backhand",
          "Forehand",
          "Forehand",
          "Forehand",
          "Forehand",
          "Backhand",
          "Backhand",
          "Forehand",
          "Backhand",
          "Backhand",
          "Backhand",
          "Backhand",
          "Backhand",
          "Forehand",
          "Forehand",
          "Backhand",
          "Forehand",
          "Backhand",
          "Forehand",
          "Forehand",
          "Forehand",
          "Backhand",
          "Serve",
          "Serve",
          "Backhand",
          "Serve",
          "Serve",
          "Serve",
          "Serve",
          "Serve",
          "Forehand",
          "Serve",
          "Forehand",
          "Serve",
          "Forehand",
          "Backhand",
          "Serve",
          "Serve",
          "Serve",
          "Serve",
          "Serve",
          "Backhand",
          "Backhand",
          "Backhand",
          "Serve",
          "Forehand",
          "Serve",
          "Serve",
          "Backhand",
          "Serve",
          "Serve",
          "Forehand",
          "Serve",
          "Serve",
          "Serve",
          "Serve",
          "Backhand",
          "Serve",
          "Serve",
          "Forehand",
          "Serve",
          "Forehand",
          "Forehand",
          "Forehand",
          "Backhand",
          "Backhand",
          "Forehand",
          "Forehand",
          "Backhand",
          "Backhand",
          "Backhand",
          "Backhand",
          "Backhand",
          "Forehand",
          "Forehand",
          "Forehand",
          "Backhand",
          "Backhand",
          "Backhand",
          "BH Volley",
          "Serve",
          "Serve",
          "Serve",
          "Forehand",
          "FH Volley",
          "Backhand",
          "Serve",
          "Serve",
          "Serve",
          "Serve",
          "Serve",
          "Serve",
          "Forehand",
          "Forehand",
          "Forehand",
          "Forehand",
          "Forehand",
          "Backhand",
          "Backhand",
          "Forehand",
          "Backhand",
          "Forehand",
          "Forehand",
          "Backhand",
          "Backhand",
          "Serve",
          "Serve",
          "Serve",
          "Forehand",
          "Serve",
          "Forehand",
          "Serve",
          "Serve",
          "Serve",
          "Forehand",
          "Backhand",
          "Backhand",
          "Backhand",
          "Backhand",
          "Forehand",
          "Backhand",
          "Backhand",
          "Forehand",
          "Backhand",
          "Serve",
          "Serve",
          "Forehand",
          "Forehand",
          "Forehand",
          "Serve",
          "Serve",
          "Serve",
          "FH Volley",
          "Serve",
          "Backhand",
          "Forehand",
          "Backhand",
          "Backhand",
          "Backhand",
          "Backhand",
          "Forehand",
          "BH Volley",
          "Overhead",
          "Backhand",
          "Forehand",
          "Forehand",
          "Backhand",
          "Backhand",
          "Backhand",
          "Backhand",
          "Backhand",
          "Forehand",
          "Forehand",
          "Backhand",
          "Forehand"
         ],
         "xaxis": "x",
         "y": [
          166.363281,
          126.269508,
          104.31604,
          110.567711,
          94.473465,
          143.428314,
          121.841362,
          73.324745,
          127.867363,
          138.194534,
          126.758484,
          135.053497,
          79.956505,
          91.414658,
          73.998878,
          74.146561,
          104.52829,
          93.485207,
          121.069,
          34.843319,
          95.097328,
          115.525398,
          118.767845,
          86.101639,
          84.314781,
          null,
          null,
          202.078918,
          142.025299,
          90.916985,
          118.871452,
          149.150208,
          67.103271,
          145.843109,
          82.811913,
          91.834106,
          130.675079,
          61.988026,
          106.161484,
          128.59906,
          84.027985,
          111.239662,
          44.010815,
          81.525917,
          83.750565,
          114.510849,
          90.102036,
          75.569321,
          58.510414,
          162.567688,
          116.530983,
          105.710678,
          91.767555,
          118.566048,
          151.512466,
          86.306305,
          107.916283,
          46.474094,
          166.588196,
          70.724823,
          84.438766,
          138.880661,
          63.228535,
          84.436371,
          86.179657,
          97.699677,
          69.413628,
          85.293709,
          121.33844,
          170.821655,
          40.418251,
          154.751205,
          154.898346,
          130.818054,
          155.280899,
          127.517418,
          101.542831,
          108.328445,
          103.934494,
          75.324425,
          97.880081,
          72.063347,
          104.394722,
          82.689667,
          78.894096,
          89.828743,
          64.099289,
          50.891689,
          99.038742,
          97.112473,
          77.71389,
          80.595032,
          163.357452,
          125.979408,
          98.370522,
          94.703575,
          89.421379,
          79.874977,
          76.715416,
          89.300713,
          48.83049,
          117.779854,
          103.141624,
          137.174225,
          56.267689,
          116.436615,
          130.692291,
          119.212532,
          111.507843,
          103.037651,
          110.053825,
          102.579086,
          64.824509,
          83.374557,
          99.723221,
          75.372879,
          101.58757,
          100.074409,
          90.615829,
          202.92749,
          147.999054,
          93.822716,
          109.466087,
          149.704681,
          139.339661,
          null,
          115.618561,
          135.313019,
          null,
          58.906158,
          56.032978,
          84.942688,
          78.911583,
          76.619614,
          107.96489,
          115.190155,
          132.793442,
          99.720215,
          114.319725,
          167.104736,
          95.396133,
          62.116451,
          86.827126,
          96.118919,
          105.111687,
          110.076195,
          74.431427,
          107.344002,
          65.012672,
          null,
          81.574692,
          99.316261,
          54.644333,
          85.343544,
          93.622231,
          105.564514,
          93.525055,
          58.328079,
          96.813133,
          75.271919,
          143.221832,
          136.398071,
          114.468361,
          155.070816,
          126.443092,
          84.297203,
          95.213593,
          154.441208,
          183.113083,
          161.313736,
          83.81208,
          100.262436,
          94.648323,
          56.252804,
          79.944664,
          76.249451,
          65.513748,
          89.729584,
          71.59185,
          75.004112,
          82.63858,
          74.091499,
          71.737671,
          87.21228,
          67.348473,
          121.712097,
          120.145248,
          101.80085,
          119.387024,
          134.158463,
          84.818176,
          80.718765,
          129.042877,
          121.17334,
          135.090347,
          152.753952,
          129.669327,
          113.434662,
          153.051682,
          118.806915,
          94.847885,
          85.391418,
          95.776047,
          48.105331,
          180.330566,
          105.627739,
          135.720139,
          82.501259,
          132.201553,
          74.454147,
          85.16597,
          64.166283,
          116.556107,
          108.578003,
          120.979195,
          102.330452,
          106.854721,
          136.039459,
          110.440819,
          136.517929,
          null,
          54.995796,
          56.766331,
          88.748413,
          81.118553,
          80.866776,
          107.601669,
          92.904495,
          60.391788,
          99.99205,
          76.2211,
          101.565132,
          68.505493,
          145.279877,
          123.616066,
          88.538849,
          83.194145,
          137.554901,
          134.507645,
          109.964584,
          89.422569,
          95.608978,
          80.951851,
          117.690926,
          104.662872,
          null,
          128.672958,
          105.05658,
          80.326012,
          43.053253,
          109.397995,
          104.398537,
          61.173656,
          76.783554,
          76.932816,
          93.613075,
          111.530174,
          80.912575,
          102.222694,
          62.948002,
          85.263618,
          null,
          61.210506,
          72.850906,
          106.404999,
          84.137634,
          85.851707,
          50.228252,
          111.361702,
          98.696945,
          69.297447,
          75.73069,
          202.92749,
          67.717346,
          113.048912,
          129.566254,
          160.489914,
          167.093231,
          126.122849,
          110.438393,
          137.860275,
          98.722023,
          195.680084,
          77.910851,
          80.865227,
          147.709503,
          138.063553,
          166.00827,
          39.504692,
          144.974869,
          71.761978,
          106.902702,
          69.902679,
          173.839478,
          93.031387,
          85.143394,
          127.729301,
          86.12738,
          117.379631,
          140.661072,
          140.488266,
          156.220749,
          169.817673,
          182.429214,
          147.525787,
          80.72065,
          88.048271,
          70.584976,
          95.641655,
          null,
          82.334251,
          109.926048,
          81.352936,
          75.247459,
          91.167564,
          84.74485,
          89.411003,
          80.58371,
          83.268433,
          70.062775,
          72.031609,
          68.557838,
          85.795036,
          52.65398,
          95.348717,
          62.926521,
          85.720016,
          78.243675,
          null,
          135.886673,
          103.02195,
          92.79023,
          99.135323,
          30.662121,
          50.996513,
          41.277985,
          126.525276,
          136.243988,
          148.107407,
          143.164764,
          138.738632,
          81.068451,
          92.920174,
          91.762733,
          106.598984,
          86.8209,
          98.408073,
          59.253536,
          80.688751,
          72.773949,
          103.144081,
          103.109367,
          66.468361,
          70.524216,
          155.03595,
          125.152107,
          154.221817,
          126.233253,
          155.912399,
          113.105652,
          159.646866,
          124.248093,
          158.792389,
          111.416878,
          58.281216,
          54.479652,
          70.793716,
          79.14386,
          80.363235,
          80.585121,
          75.026657,
          56.75943,
          85.688118,
          146.827042,
          114.806137,
          91.487587,
          57.384197,
          99.732674,
          93.197632,
          112.485161,
          96.524864,
          37.630787,
          166.442978,
          106.515503,
          104.619637,
          100.012917,
          88.348358,
          78.488785,
          166.690445,
          108.673271,
          27.874657,
          36.237053,
          96.001213,
          61.594387,
          64.45385,
          66.683228,
          85.09304,
          92.536499,
          75.055977,
          76.267067,
          120.567772,
          111.376595,
          88.921425,
          99.088295
         ],
         "yaxis": "y"
        },
        {
         "marker": {
          "color": "blue"
         },
         "mode": "markers",
         "name": "Pospisil",
         "text": [
          "Player",
          "Player",
          "Player",
          "Player",
          "Player",
          "Player",
          "Player",
          "Player",
          "Player",
          "Player",
          "Player",
          "Player",
          "Player",
          "Player",
          "Player",
          "Player",
          "Player",
          "Player",
          "Player",
          "Player",
          "Player",
          "Player",
          "Player",
          "Player",
          "Player",
          "Player",
          "Player",
          "Player",
          "Player",
          "Player",
          "Player",
          "Player",
          "Player",
          "Player",
          "Player",
          "Player",
          "Player",
          "Player",
          "Player",
          "Player",
          "Player",
          "Player",
          "Player",
          "Player",
          "Player",
          "Player",
          "Player",
          "Player",
          "Player",
          "Player",
          "Player",
          "Player",
          "Player",
          "Player",
          "Player",
          "Player",
          "Player",
          "Player",
          "Player",
          "Player",
          "Player",
          "Player",
          "Player",
          "Player",
          "Player",
          "Player",
          "Player",
          "Player",
          "Player",
          "Player",
          "Player",
          "Player",
          "Player",
          "Player",
          "Player",
          "Player",
          "Player",
          "Player",
          "Player",
          "Player",
          "Player",
          "Player",
          "Player",
          "Player",
          "Player",
          "Player",
          "Player",
          "Player",
          "Player",
          "Player",
          "Player",
          "Player",
          "Player",
          "Player",
          "Player",
          "Player",
          "Player",
          "Player",
          "Player",
          "Player",
          "Player",
          "Player",
          "Player",
          "Player",
          "Player",
          "Player",
          "Player",
          "Player",
          "Player",
          "Player",
          "Player",
          "Player",
          "Player",
          "Player",
          "Player",
          "Player",
          "Player",
          "Player",
          "Player",
          "Player",
          "Player",
          "Player",
          "Player",
          "Player",
          "Player",
          "Player",
          "Player",
          "Player",
          "Player",
          "Player",
          "Player",
          "Player",
          "Player",
          "Player",
          "Player",
          "Player",
          "Player",
          "Player",
          "Player",
          "Player",
          "Player",
          "Player",
          "Player",
          "Player",
          "Player",
          "Player",
          "Player",
          "Player",
          "Player",
          "Player",
          "Player",
          "Player",
          "Player",
          "Player",
          "Player",
          "Player",
          "Player",
          "Player",
          "Player",
          "Player",
          "Player",
          "Player",
          "Player",
          "Player",
          "Player",
          "Player",
          "Player",
          "Player",
          "Player",
          "Player",
          "Player",
          "Player",
          "Player",
          "Player",
          "Player",
          "Player",
          "Player",
          "Player",
          "Player",
          "Player",
          "Player",
          "Player",
          "Player",
          "Player",
          "Player",
          "Player",
          "Player",
          "Player",
          "Player",
          "Player",
          "Player",
          "Player",
          "Player",
          "Player",
          "Player",
          "Player",
          "Player",
          "Player",
          "Player",
          "Player",
          "Player",
          "Player",
          "Player",
          "Player",
          "Player",
          "Player",
          "Player",
          "Player",
          "Player",
          "Player",
          "Player",
          "Player",
          "Player",
          "Player",
          "Player",
          "Player",
          "Player",
          "Player",
          "Player",
          "Player",
          "Player",
          "Player",
          "Player",
          "Player",
          "Player",
          "Player",
          "Player",
          "Player",
          "Player",
          "Player",
          "Player",
          "Player",
          "Player",
          "Player",
          "Player",
          "Player",
          "Player",
          "Player",
          "Player",
          "Player",
          "Player",
          "Player",
          "Player",
          "Player",
          "Player",
          "Player",
          "Player",
          "Player",
          "Player",
          "Player",
          "Player",
          "Player",
          "Player",
          "Player",
          "Player",
          "Player",
          "Player",
          "Player",
          "Player",
          "Player",
          "Player",
          "Player",
          "Player",
          "Player",
          "Player",
          "Player",
          "Player",
          "Player",
          "Player",
          "Player",
          "Player",
          "Player",
          "Player",
          "Player",
          "Player",
          "Player",
          "Player",
          "Player",
          "Player",
          "Player",
          "Player",
          "Player",
          "Player",
          "Player",
          "Player",
          "Player",
          "Player",
          "Player",
          "Player",
          "Player",
          "Player",
          "Player",
          "Player",
          "Player",
          "Player",
          "Player",
          "Player",
          "Player",
          "Player",
          "Player",
          "Player",
          "Player",
          "Player",
          "Player",
          "Player",
          "Player",
          "Player",
          "Player",
          "Player",
          "Player",
          "Player",
          "Player",
          "Player",
          "Player",
          "Player",
          "Player",
          "Player",
          "Player",
          "Player",
          "Player",
          "Player",
          "Player",
          "Player",
          "Player",
          "Player",
          "Player",
          "Player",
          "Player",
          "Player",
          "Player",
          "Player",
          "Player",
          "Player",
          "Player",
          "Player",
          "Player",
          "Player",
          "Player",
          "Player",
          "Player",
          "Player",
          "Player",
          "Player",
          "Player",
          "Player",
          "Player",
          "Player",
          "Player",
          "Player",
          "Player",
          "Player",
          "Player",
          "Player",
          "Player",
          "Player",
          "Player",
          "Player",
          "Player",
          "Player",
          "Player",
          "Player",
          "Player",
          "Player",
          "Player",
          "Player",
          "Player",
          "Player",
          "Player",
          "Player",
          "Player",
          "Player",
          "Player",
          "Player",
          "Player",
          "Player",
          "Player",
          "Player",
          "Player",
          "Player",
          "Player",
          "Player",
          "Player",
          "Player",
          "Player",
          "Player",
          "Player",
          "Player",
          "Player",
          "Player",
          "Player",
          "Player",
          "Player",
          "Player",
          "Player",
          "Player",
          "Player",
          "Player",
          "Player",
          "Player",
          "Player",
          "Player",
          "Player",
          "Player",
          "Player"
         ],
         "type": "scatter",
         "x": [
          1,
          1,
          3,
          1,
          1,
          1,
          3,
          1,
          1,
          1,
          1,
          1,
          2,
          2,
          4,
          2,
          4,
          6,
          8,
          10,
          2,
          4,
          2,
          2,
          4,
          1,
          1,
          1,
          1,
          3,
          1,
          1,
          3,
          1,
          3,
          1,
          1,
          3,
          1,
          1,
          2,
          2,
          4,
          2,
          2,
          4,
          6,
          2,
          4,
          1,
          1,
          3,
          5,
          1,
          1,
          3,
          1,
          3,
          1,
          2,
          4,
          6,
          8,
          2,
          4,
          6,
          2,
          2,
          4,
          1,
          3,
          1,
          1,
          1,
          1,
          3,
          1,
          3,
          2,
          2,
          2,
          4,
          6,
          2,
          2,
          4,
          2,
          4,
          2,
          4,
          6,
          8,
          1,
          3,
          5,
          7,
          9,
          11,
          13,
          15,
          17,
          1,
          1,
          1,
          3,
          1,
          1,
          3,
          2,
          4,
          6,
          2,
          2,
          2,
          4,
          6,
          8,
          2,
          4,
          1,
          1,
          3,
          1,
          1,
          1,
          3,
          1,
          1,
          3,
          2,
          4,
          2,
          2,
          2,
          1,
          1,
          1,
          3,
          1,
          1,
          1,
          3,
          5,
          2,
          4,
          2,
          2,
          4,
          6,
          2,
          2,
          4,
          6,
          2,
          2,
          4,
          2,
          2,
          2,
          4,
          1,
          1,
          3,
          1,
          1,
          3,
          5,
          1,
          1,
          1,
          2,
          4,
          6,
          2,
          2,
          4,
          6,
          8,
          10,
          2,
          4,
          6,
          8,
          2,
          4,
          1,
          3,
          5,
          1,
          1,
          3,
          5,
          1,
          1,
          1,
          1,
          1,
          1,
          1,
          1,
          2,
          2,
          2,
          2,
          1,
          3,
          1,
          3,
          1,
          1,
          1,
          3,
          1,
          1,
          3,
          5,
          1,
          1,
          3,
          1,
          1,
          3,
          2,
          2,
          4,
          6,
          8,
          10,
          2,
          4,
          2,
          4,
          2,
          1,
          1,
          3,
          5,
          1,
          1,
          3,
          5,
          7,
          9,
          1,
          1,
          1,
          1,
          3,
          2,
          2,
          2,
          2,
          4,
          2,
          2,
          2,
          4,
          6,
          8,
          10,
          12,
          2,
          2,
          2,
          4,
          6,
          2,
          4,
          2,
          4,
          6,
          1,
          1,
          3,
          1,
          1,
          1,
          1,
          1,
          3,
          1,
          3,
          1,
          3,
          5,
          1,
          1,
          1,
          1,
          1,
          3,
          5,
          7,
          1,
          3,
          1,
          1,
          3,
          1,
          1,
          3,
          1,
          1,
          1,
          1,
          3,
          1,
          1,
          3,
          1,
          3,
          5,
          7,
          9,
          11,
          13,
          2,
          4,
          2,
          2,
          4,
          6,
          2,
          4,
          2,
          4,
          2,
          4,
          6,
          1,
          1,
          1,
          3,
          5,
          7,
          1,
          1,
          1,
          1,
          1,
          1,
          3,
          5,
          7,
          2,
          4,
          2,
          2,
          2,
          4,
          6,
          8,
          2,
          2,
          1,
          1,
          1,
          3,
          1,
          3,
          1,
          1,
          1,
          3,
          2,
          4,
          2,
          2,
          4,
          2,
          4,
          6,
          2,
          1,
          1,
          3,
          5,
          7,
          1,
          1,
          1,
          1,
          1,
          3,
          5,
          2,
          2,
          4,
          2,
          4,
          6,
          8,
          2,
          4,
          2,
          2,
          2,
          4,
          6,
          8,
          10,
          2,
          4,
          6
         ],
         "xaxis": "x2",
         "y": [
          166.363281,
          126.269508,
          104.31604,
          110.567711,
          94.473465,
          143.428314,
          121.841362,
          73.324745,
          127.867363,
          138.194534,
          126.758484,
          135.053497,
          79.956505,
          91.414658,
          73.998878,
          74.146561,
          104.52829,
          93.485207,
          121.069,
          34.843319,
          95.097328,
          115.525398,
          118.767845,
          86.101639,
          84.314781,
          null,
          null,
          202.078918,
          142.025299,
          90.916985,
          118.871452,
          149.150208,
          67.103271,
          145.843109,
          82.811913,
          91.834106,
          130.675079,
          61.988026,
          106.161484,
          128.59906,
          84.027985,
          111.239662,
          44.010815,
          81.525917,
          83.750565,
          114.510849,
          90.102036,
          75.569321,
          58.510414,
          162.567688,
          116.530983,
          105.710678,
          91.767555,
          118.566048,
          151.512466,
          86.306305,
          107.916283,
          46.474094,
          166.588196,
          70.724823,
          84.438766,
          138.880661,
          63.228535,
          84.436371,
          86.179657,
          97.699677,
          69.413628,
          85.293709,
          121.33844,
          170.821655,
          40.418251,
          154.751205,
          154.898346,
          130.818054,
          155.280899,
          127.517418,
          101.542831,
          108.328445,
          103.934494,
          75.324425,
          97.880081,
          72.063347,
          104.394722,
          82.689667,
          78.894096,
          89.828743,
          64.099289,
          50.891689,
          99.038742,
          97.112473,
          77.71389,
          80.595032,
          163.357452,
          125.979408,
          98.370522,
          94.703575,
          89.421379,
          79.874977,
          76.715416,
          89.300713,
          48.83049,
          117.779854,
          103.141624,
          137.174225,
          56.267689,
          116.436615,
          130.692291,
          119.212532,
          111.507843,
          103.037651,
          110.053825,
          102.579086,
          64.824509,
          83.374557,
          99.723221,
          75.372879,
          101.58757,
          100.074409,
          90.615829,
          202.92749,
          147.999054,
          93.822716,
          109.466087,
          149.704681,
          139.339661,
          null,
          115.618561,
          135.313019,
          null,
          58.906158,
          56.032978,
          84.942688,
          78.911583,
          76.619614,
          107.96489,
          115.190155,
          132.793442,
          99.720215,
          114.319725,
          167.104736,
          95.396133,
          62.116451,
          86.827126,
          96.118919,
          105.111687,
          110.076195,
          74.431427,
          107.344002,
          65.012672,
          null,
          81.574692,
          99.316261,
          54.644333,
          85.343544,
          93.622231,
          105.564514,
          93.525055,
          58.328079,
          96.813133,
          75.271919,
          143.221832,
          136.398071,
          114.468361,
          155.070816,
          126.443092,
          84.297203,
          95.213593,
          154.441208,
          183.113083,
          161.313736,
          83.81208,
          100.262436,
          94.648323,
          56.252804,
          79.944664,
          76.249451,
          65.513748,
          89.729584,
          71.59185,
          75.004112,
          82.63858,
          74.091499,
          71.737671,
          87.21228,
          67.348473,
          121.712097,
          120.145248,
          101.80085,
          119.387024,
          134.158463,
          84.818176,
          80.718765,
          129.042877,
          121.17334,
          135.090347,
          152.753952,
          129.669327,
          113.434662,
          153.051682,
          118.806915,
          94.847885,
          85.391418,
          95.776047,
          48.105331,
          180.330566,
          105.627739,
          135.720139,
          82.501259,
          132.201553,
          74.454147,
          85.16597,
          64.166283,
          116.556107,
          108.578003,
          120.979195,
          102.330452,
          106.854721,
          136.039459,
          110.440819,
          136.517929,
          null,
          54.995796,
          56.766331,
          88.748413,
          81.118553,
          80.866776,
          107.601669,
          92.904495,
          60.391788,
          99.99205,
          76.2211,
          101.565132,
          68.505493,
          145.279877,
          123.616066,
          88.538849,
          83.194145,
          137.554901,
          134.507645,
          109.964584,
          89.422569,
          95.608978,
          80.951851,
          117.690926,
          104.662872,
          null,
          128.672958,
          105.05658,
          80.326012,
          43.053253,
          109.397995,
          104.398537,
          61.173656,
          76.783554,
          76.932816,
          93.613075,
          111.530174,
          80.912575,
          102.222694,
          62.948002,
          85.263618,
          null,
          61.210506,
          72.850906,
          106.404999,
          84.137634,
          85.851707,
          50.228252,
          111.361702,
          98.696945,
          69.297447,
          75.73069,
          202.92749,
          67.717346,
          113.048912,
          129.566254,
          160.489914,
          167.093231,
          126.122849,
          110.438393,
          137.860275,
          98.722023,
          195.680084,
          77.910851,
          80.865227,
          147.709503,
          138.063553,
          166.00827,
          39.504692,
          144.974869,
          71.761978,
          106.902702,
          69.902679,
          173.839478,
          93.031387,
          85.143394,
          127.729301,
          86.12738,
          117.379631,
          140.661072,
          140.488266,
          156.220749,
          169.817673,
          182.429214,
          147.525787,
          80.72065,
          88.048271,
          70.584976,
          95.641655,
          null,
          82.334251,
          109.926048,
          81.352936,
          75.247459,
          91.167564,
          84.74485,
          89.411003,
          80.58371,
          83.268433,
          70.062775,
          72.031609,
          68.557838,
          85.795036,
          52.65398,
          95.348717,
          62.926521,
          85.720016,
          78.243675,
          null,
          135.886673,
          103.02195,
          92.79023,
          99.135323,
          30.662121,
          50.996513,
          41.277985,
          126.525276,
          136.243988,
          148.107407,
          143.164764,
          138.738632,
          81.068451,
          92.920174,
          91.762733,
          106.598984,
          86.8209,
          98.408073,
          59.253536,
          80.688751,
          72.773949,
          103.144081,
          103.109367,
          66.468361,
          70.524216,
          155.03595,
          125.152107,
          154.221817,
          126.233253,
          155.912399,
          113.105652,
          159.646866,
          124.248093,
          158.792389,
          111.416878,
          58.281216,
          54.479652,
          70.793716,
          79.14386,
          80.363235,
          80.585121,
          75.026657,
          56.75943,
          85.688118,
          146.827042,
          114.806137,
          91.487587,
          57.384197,
          99.732674,
          93.197632,
          112.485161,
          96.524864,
          37.630787,
          166.442978,
          106.515503,
          104.619637,
          100.012917,
          88.348358,
          78.488785,
          166.690445,
          108.673271,
          27.874657,
          36.237053,
          96.001213,
          61.594387,
          64.45385,
          66.683228,
          85.09304,
          92.536499,
          75.055977,
          76.267067,
          120.567772,
          111.376595,
          88.921425,
          99.088295
         ],
         "yaxis": "y2"
        },
        {
         "marker": {
          "color": "red"
         },
         "name": "Wolf",
         "text": [
          "Opponent",
          "Opponent",
          "Opponent",
          "Opponent",
          "Opponent",
          "Opponent",
          "Opponent",
          "Opponent",
          "Opponent",
          "Opponent",
          "Opponent",
          "Opponent",
          "Opponent",
          "Opponent",
          "Opponent",
          "Opponent",
          "Opponent",
          "Opponent",
          "Opponent",
          "Opponent",
          "Opponent",
          "Opponent",
          "Opponent",
          "Opponent",
          "Opponent",
          "Opponent",
          "Opponent",
          "Opponent",
          "Opponent",
          "Opponent",
          "Opponent",
          "Opponent",
          "Opponent",
          "Opponent",
          "Opponent",
          "Opponent",
          "Opponent",
          "Opponent",
          "Opponent",
          "Opponent",
          "Opponent",
          "Opponent",
          "Opponent",
          "Opponent",
          "Opponent",
          "Opponent",
          "Opponent",
          "Opponent",
          "Opponent",
          "Opponent",
          "Opponent",
          "Opponent",
          "Opponent",
          "Opponent",
          "Opponent",
          "Opponent",
          "Opponent",
          "Opponent",
          "Opponent",
          "Opponent",
          "Opponent",
          "Opponent",
          "Opponent",
          "Opponent",
          "Opponent",
          "Opponent",
          "Opponent",
          "Opponent",
          "Opponent",
          "Opponent",
          "Opponent",
          "Opponent",
          "Opponent",
          "Opponent",
          "Opponent",
          "Opponent",
          "Opponent",
          "Opponent",
          "Opponent",
          "Opponent",
          "Opponent",
          "Opponent",
          "Opponent",
          "Opponent",
          "Opponent",
          "Opponent",
          "Opponent",
          "Opponent",
          "Opponent",
          "Opponent",
          "Opponent",
          "Opponent",
          "Opponent",
          "Opponent",
          "Opponent",
          "Opponent",
          "Opponent",
          "Opponent",
          "Opponent",
          "Opponent",
          "Opponent",
          "Opponent",
          "Opponent",
          "Opponent",
          "Opponent",
          "Opponent",
          "Opponent",
          "Opponent",
          "Opponent",
          "Opponent",
          "Opponent",
          "Opponent",
          "Opponent",
          "Opponent",
          "Opponent",
          "Opponent",
          "Opponent",
          "Opponent",
          "Opponent",
          "Opponent",
          "Opponent",
          "Opponent",
          "Opponent",
          "Opponent",
          "Opponent",
          "Opponent",
          "Opponent",
          "Opponent",
          "Opponent",
          "Opponent",
          "Opponent",
          "Opponent",
          "Opponent",
          "Opponent",
          "Opponent",
          "Opponent",
          "Opponent",
          "Opponent",
          "Opponent",
          "Opponent",
          "Opponent",
          "Opponent",
          "Opponent",
          "Opponent",
          "Opponent",
          "Opponent",
          "Opponent",
          "Opponent",
          "Opponent",
          "Opponent",
          "Opponent",
          "Opponent",
          "Opponent",
          "Opponent",
          "Opponent",
          "Opponent",
          "Opponent",
          "Opponent",
          "Opponent",
          "Opponent",
          "Opponent",
          "Opponent",
          "Opponent",
          "Opponent",
          "Opponent",
          "Opponent",
          "Opponent",
          "Opponent",
          "Opponent",
          "Opponent",
          "Opponent",
          "Opponent",
          "Opponent",
          "Opponent",
          "Opponent",
          "Opponent",
          "Opponent",
          "Opponent",
          "Opponent",
          "Opponent",
          "Opponent",
          "Opponent",
          "Opponent",
          "Opponent",
          "Opponent",
          "Opponent",
          "Opponent",
          "Opponent",
          "Opponent",
          "Opponent",
          "Opponent",
          "Opponent",
          "Opponent",
          "Opponent",
          "Opponent",
          "Opponent",
          "Opponent",
          "Opponent",
          "Opponent",
          "Opponent",
          "Opponent",
          "Opponent",
          "Opponent",
          "Opponent",
          "Opponent",
          "Opponent",
          "Opponent",
          "Opponent",
          "Opponent",
          "Opponent",
          "Opponent",
          "Opponent",
          "Opponent",
          "Opponent",
          "Opponent",
          "Opponent",
          "Opponent",
          "Opponent",
          "Opponent",
          "Opponent",
          "Opponent",
          "Opponent",
          "Opponent",
          "Opponent",
          "Opponent",
          "Opponent",
          "Opponent",
          "Opponent",
          "Opponent",
          "Opponent",
          "Opponent",
          "Opponent",
          "Opponent",
          "Opponent",
          "Opponent",
          "Opponent",
          "Opponent",
          "Opponent",
          "Opponent",
          "Opponent",
          "Opponent",
          "Opponent",
          "Opponent",
          "Opponent",
          "Opponent",
          "Opponent",
          "Opponent",
          "Opponent",
          "Opponent",
          "Opponent",
          "Opponent",
          "Opponent",
          "Opponent",
          "Opponent",
          "Opponent",
          "Opponent",
          "Opponent",
          "Opponent",
          "Opponent",
          "Opponent",
          "Opponent",
          "Opponent",
          "Opponent",
          "Opponent",
          "Opponent",
          "Opponent",
          "Opponent",
          "Opponent",
          "Opponent",
          "Opponent",
          "Opponent",
          "Opponent",
          "Opponent",
          "Opponent",
          "Opponent",
          "Opponent",
          "Opponent",
          "Opponent",
          "Opponent",
          "Opponent",
          "Opponent",
          "Opponent",
          "Opponent",
          "Opponent",
          "Opponent",
          "Opponent",
          "Opponent",
          "Opponent",
          "Opponent",
          "Opponent",
          "Opponent",
          "Opponent",
          "Opponent",
          "Opponent",
          "Opponent",
          "Opponent",
          "Opponent",
          "Opponent",
          "Opponent",
          "Opponent",
          "Opponent",
          "Opponent",
          "Opponent",
          "Opponent",
          "Opponent",
          "Opponent",
          "Opponent",
          "Opponent",
          "Opponent",
          "Opponent",
          "Opponent",
          "Opponent",
          "Opponent",
          "Opponent",
          "Opponent",
          "Opponent",
          "Opponent",
          "Opponent",
          "Opponent",
          "Opponent",
          "Opponent",
          "Opponent",
          "Opponent",
          "Opponent",
          "Opponent",
          "Opponent",
          "Opponent",
          "Opponent",
          "Opponent",
          "Opponent",
          "Opponent",
          "Opponent",
          "Opponent",
          "Opponent",
          "Opponent",
          "Opponent",
          "Opponent",
          "Opponent",
          "Opponent",
          "Opponent",
          "Opponent",
          "Opponent",
          "Opponent",
          "Opponent",
          "Opponent",
          "Opponent",
          "Opponent",
          "Opponent",
          "Opponent",
          "Opponent",
          "Opponent",
          "Opponent",
          "Opponent",
          "Opponent",
          "Opponent",
          "Opponent",
          "Opponent",
          "Opponent",
          "Opponent",
          "Opponent",
          "Opponent",
          "Opponent",
          "Opponent",
          "Opponent",
          "Opponent",
          "Opponent",
          "Opponent",
          "Opponent",
          "Opponent",
          "Opponent",
          "Opponent",
          "Opponent",
          "Opponent",
          "Opponent",
          "Opponent",
          "Opponent",
          "Opponent",
          "Opponent",
          "Opponent",
          "Opponent",
          "Opponent",
          "Opponent",
          "Opponent",
          "Opponent",
          "Opponent",
          "Opponent",
          "Opponent",
          "Opponent",
          "Opponent",
          "Opponent",
          "Opponent",
          "Opponent"
         ],
         "type": "bar",
         "x": [
          "Backhand",
          "Forehand",
          "Backhand",
          "Backhand",
          "Backhand",
          "Serve",
          "Serve",
          "Serve",
          "Forehand",
          "Backhand",
          "Serve",
          "Serve",
          "Forehand",
          "Forehand",
          "Backhand",
          "Backhand",
          "Serve",
          "Forehand",
          "Serve",
          "Serve",
          "Forehand",
          "Serve",
          "Serve",
          "Forehand",
          "Forehand",
          "Backhand",
          "Forehand",
          "Backhand",
          "Backhand",
          "Backhand",
          "Forehand",
          "Forehand",
          "Forehand",
          "Backhand",
          "Serve",
          "Forehand",
          "Serve",
          "Forehand",
          "Serve",
          "Serve",
          "Serve",
          "Serve",
          "Forehand",
          "Forehand",
          "Serve",
          "Forehand",
          "BH Volley",
          "Backhand",
          "Forehand",
          "Forehand",
          "Forehand",
          "Forehand",
          "Backhand",
          "Backhand",
          "Forehand",
          "Serve",
          "Forehand",
          "Backhand",
          "Forehand",
          "Serve",
          "Serve",
          "Backhand",
          "Forehand",
          "Serve",
          "Serve",
          "FH Volley",
          "Serve",
          "Backhand",
          "Forehand",
          "Backhand",
          "Forehand",
          "Forehand",
          "Forehand",
          "Serve",
          "Serve",
          "Serve",
          "Serve",
          "Serve",
          "Backhand",
          "Forehand",
          "Backhand",
          "Serve",
          "Serve",
          "Serve",
          "Forehand",
          "Serve",
          "Forehand",
          "Forehand",
          "Serve",
          "Forehand",
          "Serve",
          "Serve",
          "Forehand",
          "Forehand",
          "Forehand",
          "Backhand",
          "Forehand",
          "Forehand",
          "Forehand",
          "Backhand",
          "Backhand",
          "Backhand",
          "Forehand",
          "Forehand",
          "Backhand",
          "Serve",
          "Forehand",
          "FH Volley",
          "BH Volley",
          "Serve",
          "Serve",
          "Forehand",
          "Serve",
          "Serve",
          "Serve",
          "Serve",
          "Serve",
          "Backhand",
          "Backhand",
          "Forehand",
          "Serve",
          "Serve",
          "Forehand",
          "Forehand",
          "Backhand",
          "Backhand",
          "Forehand",
          "Forehand",
          "Serve",
          "Forehand",
          "Overhead",
          "Serve",
          "Serve",
          "Serve",
          "Serve",
          "Forehand",
          "Backhand",
          "Backhand",
          "Forehand",
          "Backhand",
          "Forehand",
          "Forehand",
          "Serve",
          "Serve",
          "Forehand",
          "Forehand",
          "Serve",
          "Serve",
          "Backhand",
          "Serve",
          "Backhand",
          "Backhand",
          "Serve",
          "Forehand",
          "Serve",
          "Serve",
          "Forehand",
          "Backhand",
          "Backhand",
          "Serve",
          "Serve",
          "Forehand",
          "Serve",
          "Serve",
          "Forehand",
          "Serve",
          "Forehand",
          "Backhand",
          "Backhand",
          "Forehand",
          "Forehand",
          "Forehand",
          "Serve",
          "Serve",
          "Backhand",
          "Forehand",
          "Serve",
          "Overhead",
          "Serve",
          "Forehand",
          "Forehand",
          "Forehand",
          "Backhand",
          "Serve",
          "Forehand",
          "Forehand",
          "BH Volley",
          "FH Volley",
          "Serve",
          "Serve",
          "Forehand",
          "Backhand",
          "Backhand",
          "Backhand",
          "Backhand",
          "Backhand",
          "Forehand",
          "Serve",
          "Serve",
          "Forehand",
          "Serve",
          "Serve",
          "Forehand",
          "Forehand",
          "Backhand",
          "Forehand",
          "Backhand",
          "Backhand",
          "Forehand",
          "Forehand",
          "Backhand",
          "Forehand",
          "Serve",
          "Serve",
          "Serve",
          "Forehand",
          "Forehand",
          "Forehand",
          "Forehand",
          "Serve",
          "Forehand",
          "Backhand",
          "Serve",
          "Serve",
          "Backhand",
          "Backhand",
          "Serve",
          "Serve",
          "Forehand",
          "Forehand",
          "Backhand",
          "Backhand",
          "Backhand",
          "Backhand",
          "Backhand",
          "Backhand",
          "Backhand",
          "Forehand",
          "Serve",
          "Backhand",
          "Serve",
          "Serve",
          "Serve",
          "Forehand",
          "Serve",
          "Forehand",
          "Serve",
          "Serve",
          "Forehand",
          "Serve",
          "Serve",
          "Forehand",
          "Forehand",
          "Forehand",
          "Backhand",
          "Forehand",
          "Serve",
          "Serve",
          "Forehand",
          "Serve",
          "Forehand",
          "Forehand",
          "Forehand",
          "Serve",
          "Forehand",
          "Serve",
          "Serve",
          "Backhand",
          "Backhand",
          "Backhand",
          "Backhand",
          "Forehand",
          "Forehand",
          "Forehand",
          "Forehand",
          "Forehand",
          "Forehand",
          "Forehand",
          "Backhand",
          "Forehand",
          "Forehand",
          "Forehand",
          "Backhand",
          "Forehand",
          "Forehand",
          "Backhand",
          "Backhand",
          "Forehand",
          "Forehand",
          "Forehand",
          "Backhand",
          "Forehand",
          "Forehand",
          "Forehand",
          "Forehand",
          "Backhand",
          "Backhand",
          "Serve",
          "Forehand",
          "Serve",
          "Serve",
          "Serve",
          "Backhand",
          "Backhand",
          "FH Volley",
          "Serve",
          "Backhand",
          "Serve",
          "Forehand",
          "BH Volley",
          "Serve",
          "Backhand",
          "Forehand",
          "Forehand",
          "Backhand",
          "Backhand",
          "Forehand",
          "Backhand",
          "Forehand",
          "Forehand",
          "Forehand",
          "Forehand",
          "Forehand",
          "Serve",
          "Forehand",
          "Backhand",
          "Serve",
          "Serve",
          "Serve",
          "Serve",
          "Forehand",
          "Forehand",
          "Backhand",
          "Forehand",
          "Serve",
          "Serve",
          "Forehand",
          "Serve",
          "Serve",
          "Forehand",
          "Forehand",
          "Backhand",
          "Forehand",
          "Backhand",
          "Backhand",
          "Serve",
          "Serve",
          "Forehand",
          "BH Volley",
          "Serve",
          "Serve",
          "Forehand",
          "Serve",
          "Forehand",
          "BH Volley",
          "Serve",
          "Serve",
          "Backhand",
          "Backhand",
          "Forehand",
          "Forehand",
          "Backhand",
          "Forehand",
          "Backhand",
          "Serve",
          "Serve",
          "Serve",
          "Forehand",
          "Forehand",
          "Serve",
          "Serve",
          "Backhand",
          "Backhand",
          "Forehand",
          "Serve",
          "Serve",
          "Forehand",
          "Serve",
          "Forehand",
          "Serve",
          "Forehand",
          "Serve",
          "Serve",
          "Forehand",
          "Backhand",
          "Backhand",
          "Backhand",
          "Forehand",
          "Serve",
          "Serve",
          "Forehand",
          "Backhand"
         ],
         "xaxis": "x3",
         "y": [
          70.656006,
          90.118004,
          78.757332,
          107.008484,
          115.401077,
          122.690895,
          86.152313,
          90.455971,
          120.514259,
          93.383263,
          73.279663,
          95.120171,
          77.21286,
          93.235603,
          92.444786,
          57.347374,
          145.696243,
          85.205666,
          103.562408,
          118.513489,
          100.287956,
          122.950623,
          111.271889,
          96.919159,
          53.398014,
          null,
          null,
          66.082611,
          87.971054,
          75.404854,
          86.140068,
          76.985634,
          87.684532,
          81.28093,
          133.400818,
          64.797531,
          156.245361,
          108.106529,
          152.219467,
          118.648102,
          195.680084,
          148.512756,
          101.999512,
          110.913551,
          130.91246,
          116.628853,
          37.630787,
          96.83992,
          106.468567,
          98.102432,
          84.601158,
          100.454239,
          76.658569,
          95.573479,
          82.496483,
          117.708092,
          106.503769,
          99.611221,
          92.537392,
          98.843224,
          135.849808,
          80.854759,
          80.580467,
          153.187195,
          80.778633,
          30.662121,
          150.456055,
          97.309517,
          65.942314,
          75.042953,
          120.011848,
          92.029716,
          91.968422,
          140.353561,
          136.05043,
          139.344574,
          128.304657,
          79.032303,
          75.473129,
          87.430115,
          101.75074,
          158.218857,
          158.14296,
          113.648621,
          null,
          140.74617,
          94.530067,
          81.087166,
          110.305969,
          117.396713,
          106.487129,
          143.730392,
          95.949615,
          106.416443,
          110.663696,
          48.324123,
          83.322456,
          89.970474,
          94.439377,
          113.489487,
          123.250603,
          109.298531,
          91.248871,
          82.073555,
          87.755569,
          107.853889,
          91.986244,
          30.662121,
          29.268389,
          91.782944,
          138.085907,
          87.014381,
          131.86058,
          124.574211,
          108.9188,
          123.60685,
          121.899208,
          71.458107,
          88.413597,
          84.286644,
          142.643265,
          95.623726,
          86.265938,
          59.372974,
          89.867363,
          51.779488,
          75.831337,
          112.212112,
          121.958916,
          122.90451,
          201.255249,
          152.574997,
          136.381332,
          117.978516,
          209.089432,
          85.485176,
          78.697899,
          89.176834,
          93.571404,
          87.594299,
          104.283287,
          34.756573,
          161.844543,
          124.04174,
          90.962761,
          94.144615,
          124.911072,
          137.589569,
          68.084602,
          153.740936,
          72.454666,
          97.380569,
          null,
          59.405151,
          129.598526,
          126.181213,
          92.110268,
          50.292553,
          106.643478,
          122.471291,
          119.482353,
          82.973419,
          133.452988,
          103.386101,
          89.15744,
          130.562592,
          93.199921,
          62.44315,
          76.718819,
          90.183571,
          67.941765,
          41.97179,
          111.982384,
          121.374367,
          94.649712,
          80.972885,
          150.820419,
          115.781219,
          118.858398,
          107.963333,
          102.877914,
          96.550537,
          107.338608,
          145.752823,
          122.92408,
          102.892982,
          32.055855,
          33.449589,
          71.547913,
          127.601143,
          78.457787,
          61.307163,
          119.307358,
          82.017311,
          107.381119,
          111.443825,
          90.833778,
          129.603714,
          111.897949,
          84.39032,
          96.033112,
          162.539124,
          72.225868,
          86.223366,
          79.637161,
          93.042175,
          75.024361,
          67.0933,
          106.3004,
          90.870918,
          83.007202,
          null,
          158.131424,
          123.613251,
          120.102486,
          91.757278,
          80.429634,
          65.974373,
          94.765564,
          143.794876,
          101.096817,
          99.011398,
          161.609024,
          137.280319,
          67.767151,
          94.539886,
          107.473808,
          120.233162,
          81.73539,
          94.267609,
          87.147369,
          70.153214,
          89.807037,
          103.30117,
          115.428879,
          75.9813,
          56.099045,
          92.670494,
          131.457169,
          52.239952,
          120.351379,
          121.886116,
          103.920456,
          101.640282,
          129.19957,
          85.677635,
          118.707924,
          77.206642,
          83.614464,
          102.517731,
          104.770317,
          91.025345,
          94.423668,
          94.603905,
          89.87175,
          92.291962,
          186.726456,
          124.10041,
          106.865097,
          148.704697,
          81.016502,
          74.017044,
          76.978638,
          138.765366,
          102.859428,
          125.844757,
          120.81855,
          77.267578,
          97.795929,
          94.240364,
          96.586037,
          92.586441,
          79.858284,
          110.640625,
          90.076088,
          73.599686,
          87.986511,
          101.398796,
          93.220116,
          96.890099,
          71.892464,
          81.026039,
          77.179565,
          99.533524,
          63.170124,
          74.655777,
          68.357719,
          52.867352,
          108.115639,
          85.017792,
          90.365685,
          83.801361,
          75.0522,
          90.097733,
          90.257088,
          84.67408,
          85.257851,
          57.232807,
          76.793213,
          172.482666,
          57.09539,
          125.332176,
          108.933151,
          141.361313,
          29.268389,
          152.479935,
          82.221428,
          118.955734,
          130.453384,
          33.449589,
          164.048965,
          95.844696,
          43.786263,
          42.866737,
          143.220657,
          75.383812,
          74.807152,
          82.154266,
          62.067387,
          86.852219,
          84.629601,
          96.841362,
          45.38821,
          122.134148,
          80.569115,
          89.750084,
          127.108749,
          108.111275,
          106.788429,
          118.314034,
          73.379448,
          70.914108,
          96.334717,
          76.182945,
          109.685471,
          102.299561,
          121.711143,
          131.403687,
          131.795212,
          54.019962,
          71.755188,
          82.959129,
          89.007858,
          57.006466,
          62.732357,
          139.232071,
          145.492859,
          122.545731,
          null,
          129.98027,
          144.249161,
          71.782753,
          140.227371,
          120.41851,
          27.874657,
          125.210449,
          134.486435,
          87.55764,
          98.009247,
          82.743904,
          65.512909,
          79.475365,
          126.065819,
          79.323601,
          146.146027,
          103.849907,
          102.897476,
          90.169418,
          93.291031,
          127.228989,
          null,
          89.314499,
          56.647644,
          65.816864,
          123.205063,
          133.295303,
          81.050453,
          97.957962,
          119.100906,
          105.740318,
          99.644402,
          83.394539,
          87.327179,
          77.291489,
          106.907539,
          79.697868,
          93.371613,
          127.210625,
          133.9729,
          118.228752,
          84.247383,
          51.100441
         ],
         "yaxis": "y3"
        },
        {
         "marker": {
          "color": "red"
         },
         "mode": "markers",
         "name": "Wolf",
         "text": [
          "Opponent",
          "Opponent",
          "Opponent",
          "Opponent",
          "Opponent",
          "Opponent",
          "Opponent",
          "Opponent",
          "Opponent",
          "Opponent",
          "Opponent",
          "Opponent",
          "Opponent",
          "Opponent",
          "Opponent",
          "Opponent",
          "Opponent",
          "Opponent",
          "Opponent",
          "Opponent",
          "Opponent",
          "Opponent",
          "Opponent",
          "Opponent",
          "Opponent",
          "Opponent",
          "Opponent",
          "Opponent",
          "Opponent",
          "Opponent",
          "Opponent",
          "Opponent",
          "Opponent",
          "Opponent",
          "Opponent",
          "Opponent",
          "Opponent",
          "Opponent",
          "Opponent",
          "Opponent",
          "Opponent",
          "Opponent",
          "Opponent",
          "Opponent",
          "Opponent",
          "Opponent",
          "Opponent",
          "Opponent",
          "Opponent",
          "Opponent",
          "Opponent",
          "Opponent",
          "Opponent",
          "Opponent",
          "Opponent",
          "Opponent",
          "Opponent",
          "Opponent",
          "Opponent",
          "Opponent",
          "Opponent",
          "Opponent",
          "Opponent",
          "Opponent",
          "Opponent",
          "Opponent",
          "Opponent",
          "Opponent",
          "Opponent",
          "Opponent",
          "Opponent",
          "Opponent",
          "Opponent",
          "Opponent",
          "Opponent",
          "Opponent",
          "Opponent",
          "Opponent",
          "Opponent",
          "Opponent",
          "Opponent",
          "Opponent",
          "Opponent",
          "Opponent",
          "Opponent",
          "Opponent",
          "Opponent",
          "Opponent",
          "Opponent",
          "Opponent",
          "Opponent",
          "Opponent",
          "Opponent",
          "Opponent",
          "Opponent",
          "Opponent",
          "Opponent",
          "Opponent",
          "Opponent",
          "Opponent",
          "Opponent",
          "Opponent",
          "Opponent",
          "Opponent",
          "Opponent",
          "Opponent",
          "Opponent",
          "Opponent",
          "Opponent",
          "Opponent",
          "Opponent",
          "Opponent",
          "Opponent",
          "Opponent",
          "Opponent",
          "Opponent",
          "Opponent",
          "Opponent",
          "Opponent",
          "Opponent",
          "Opponent",
          "Opponent",
          "Opponent",
          "Opponent",
          "Opponent",
          "Opponent",
          "Opponent",
          "Opponent",
          "Opponent",
          "Opponent",
          "Opponent",
          "Opponent",
          "Opponent",
          "Opponent",
          "Opponent",
          "Opponent",
          "Opponent",
          "Opponent",
          "Opponent",
          "Opponent",
          "Opponent",
          "Opponent",
          "Opponent",
          "Opponent",
          "Opponent",
          "Opponent",
          "Opponent",
          "Opponent",
          "Opponent",
          "Opponent",
          "Opponent",
          "Opponent",
          "Opponent",
          "Opponent",
          "Opponent",
          "Opponent",
          "Opponent",
          "Opponent",
          "Opponent",
          "Opponent",
          "Opponent",
          "Opponent",
          "Opponent",
          "Opponent",
          "Opponent",
          "Opponent",
          "Opponent",
          "Opponent",
          "Opponent",
          "Opponent",
          "Opponent",
          "Opponent",
          "Opponent",
          "Opponent",
          "Opponent",
          "Opponent",
          "Opponent",
          "Opponent",
          "Opponent",
          "Opponent",
          "Opponent",
          "Opponent",
          "Opponent",
          "Opponent",
          "Opponent",
          "Opponent",
          "Opponent",
          "Opponent",
          "Opponent",
          "Opponent",
          "Opponent",
          "Opponent",
          "Opponent",
          "Opponent",
          "Opponent",
          "Opponent",
          "Opponent",
          "Opponent",
          "Opponent",
          "Opponent",
          "Opponent",
          "Opponent",
          "Opponent",
          "Opponent",
          "Opponent",
          "Opponent",
          "Opponent",
          "Opponent",
          "Opponent",
          "Opponent",
          "Opponent",
          "Opponent",
          "Opponent",
          "Opponent",
          "Opponent",
          "Opponent",
          "Opponent",
          "Opponent",
          "Opponent",
          "Opponent",
          "Opponent",
          "Opponent",
          "Opponent",
          "Opponent",
          "Opponent",
          "Opponent",
          "Opponent",
          "Opponent",
          "Opponent",
          "Opponent",
          "Opponent",
          "Opponent",
          "Opponent",
          "Opponent",
          "Opponent",
          "Opponent",
          "Opponent",
          "Opponent",
          "Opponent",
          "Opponent",
          "Opponent",
          "Opponent",
          "Opponent",
          "Opponent",
          "Opponent",
          "Opponent",
          "Opponent",
          "Opponent",
          "Opponent",
          "Opponent",
          "Opponent",
          "Opponent",
          "Opponent",
          "Opponent",
          "Opponent",
          "Opponent",
          "Opponent",
          "Opponent",
          "Opponent",
          "Opponent",
          "Opponent",
          "Opponent",
          "Opponent",
          "Opponent",
          "Opponent",
          "Opponent",
          "Opponent",
          "Opponent",
          "Opponent",
          "Opponent",
          "Opponent",
          "Opponent",
          "Opponent",
          "Opponent",
          "Opponent",
          "Opponent",
          "Opponent",
          "Opponent",
          "Opponent",
          "Opponent",
          "Opponent",
          "Opponent",
          "Opponent",
          "Opponent",
          "Opponent",
          "Opponent",
          "Opponent",
          "Opponent",
          "Opponent",
          "Opponent",
          "Opponent",
          "Opponent",
          "Opponent",
          "Opponent",
          "Opponent",
          "Opponent",
          "Opponent",
          "Opponent",
          "Opponent",
          "Opponent",
          "Opponent",
          "Opponent",
          "Opponent",
          "Opponent",
          "Opponent",
          "Opponent",
          "Opponent",
          "Opponent",
          "Opponent",
          "Opponent",
          "Opponent",
          "Opponent",
          "Opponent",
          "Opponent",
          "Opponent",
          "Opponent",
          "Opponent",
          "Opponent",
          "Opponent",
          "Opponent",
          "Opponent",
          "Opponent",
          "Opponent",
          "Opponent",
          "Opponent",
          "Opponent",
          "Opponent",
          "Opponent",
          "Opponent",
          "Opponent",
          "Opponent",
          "Opponent",
          "Opponent",
          "Opponent",
          "Opponent",
          "Opponent",
          "Opponent",
          "Opponent",
          "Opponent",
          "Opponent",
          "Opponent",
          "Opponent",
          "Opponent",
          "Opponent",
          "Opponent",
          "Opponent",
          "Opponent",
          "Opponent",
          "Opponent",
          "Opponent",
          "Opponent",
          "Opponent",
          "Opponent",
          "Opponent",
          "Opponent",
          "Opponent",
          "Opponent",
          "Opponent",
          "Opponent",
          "Opponent",
          "Opponent",
          "Opponent",
          "Opponent",
          "Opponent",
          "Opponent",
          "Opponent",
          "Opponent",
          "Opponent",
          "Opponent",
          "Opponent",
          "Opponent",
          "Opponent",
          "Opponent",
          "Opponent",
          "Opponent",
          "Opponent",
          "Opponent",
          "Opponent",
          "Opponent",
          "Opponent",
          "Opponent",
          "Opponent",
          "Opponent",
          "Opponent",
          "Opponent",
          "Opponent",
          "Opponent",
          "Opponent",
          "Opponent",
          "Opponent",
          "Opponent",
          "Opponent"
         ],
         "type": "scatter",
         "x": [
          2,
          4,
          2,
          2,
          2,
          1,
          1,
          1,
          3,
          5,
          1,
          1,
          3,
          5,
          7,
          9,
          1,
          3,
          1,
          1,
          3,
          1,
          1,
          3,
          5,
          2,
          2,
          2,
          2,
          2,
          4,
          2,
          2,
          2,
          1,
          3,
          1,
          3,
          1,
          1,
          1,
          1,
          3,
          5,
          1,
          3,
          5,
          2,
          4,
          6,
          2,
          2,
          4,
          2,
          2,
          1,
          3,
          5,
          7,
          1,
          1,
          3,
          5,
          1,
          1,
          3,
          1,
          2,
          2,
          2,
          2,
          2,
          4,
          1,
          1,
          1,
          1,
          1,
          3,
          5,
          7,
          1,
          1,
          1,
          3,
          1,
          3,
          5,
          1,
          3,
          1,
          1,
          3,
          5,
          7,
          2,
          4,
          6,
          8,
          10,
          12,
          14,
          16,
          2,
          2,
          1,
          3,
          5,
          7,
          1,
          1,
          3,
          1,
          1,
          1,
          1,
          1,
          3,
          5,
          7,
          1,
          1,
          3,
          5,
          2,
          2,
          4,
          2,
          1,
          3,
          5,
          1,
          1,
          1,
          1,
          2,
          2,
          4,
          2,
          2,
          4,
          6,
          1,
          1,
          3,
          5,
          1,
          1,
          3,
          1,
          3,
          5,
          1,
          3,
          1,
          1,
          3,
          5,
          7,
          1,
          1,
          3,
          1,
          1,
          3,
          1,
          3,
          2,
          2,
          4,
          2,
          2,
          1,
          1,
          3,
          5,
          1,
          3,
          1,
          3,
          5,
          7,
          9,
          1,
          3,
          5,
          7,
          9,
          1,
          1,
          3,
          2,
          4,
          2,
          4,
          6,
          2,
          1,
          1,
          3,
          1,
          1,
          3,
          2,
          2,
          4,
          2,
          2,
          4,
          6,
          2,
          2,
          1,
          1,
          1,
          3,
          5,
          7,
          9,
          1,
          3,
          5,
          1,
          1,
          3,
          5,
          1,
          1,
          2,
          4,
          2,
          2,
          4,
          6,
          8,
          2,
          2,
          4,
          1,
          3,
          1,
          1,
          1,
          3,
          1,
          3,
          1,
          1,
          3,
          1,
          1,
          3,
          5,
          7,
          9,
          11,
          1,
          1,
          3,
          1,
          3,
          5,
          7,
          1,
          3,
          1,
          1,
          3,
          5,
          2,
          2,
          2,
          2,
          2,
          2,
          4,
          6,
          2,
          2,
          2,
          4,
          6,
          2,
          2,
          4,
          2,
          4,
          2,
          2,
          4,
          2,
          2,
          4,
          6,
          8,
          10,
          12,
          1,
          3,
          1,
          1,
          1,
          3,
          5,
          7,
          1,
          3,
          1,
          3,
          5,
          1,
          3,
          5,
          2,
          2,
          4,
          6,
          2,
          2,
          2,
          4,
          6,
          8,
          1,
          3,
          5,
          1,
          1,
          1,
          1,
          3,
          5,
          7,
          9,
          1,
          1,
          3,
          1,
          1,
          3,
          2,
          2,
          2,
          2,
          2,
          1,
          1,
          3,
          5,
          1,
          1,
          3,
          1,
          3,
          5,
          1,
          1,
          2,
          4,
          6,
          8,
          2,
          2,
          4,
          1,
          1,
          1,
          3,
          5,
          1,
          1,
          3,
          5,
          7,
          1,
          1,
          3,
          1,
          3,
          1,
          3,
          1,
          1,
          3,
          5,
          7,
          9,
          11,
          1,
          1,
          3,
          5
         ],
         "xaxis": "x4",
         "y": [
          70.656006,
          90.118004,
          78.757332,
          107.008484,
          115.401077,
          122.690895,
          86.152313,
          90.455971,
          120.514259,
          93.383263,
          73.279663,
          95.120171,
          77.21286,
          93.235603,
          92.444786,
          57.347374,
          145.696243,
          85.205666,
          103.562408,
          118.513489,
          100.287956,
          122.950623,
          111.271889,
          96.919159,
          53.398014,
          null,
          null,
          66.082611,
          87.971054,
          75.404854,
          86.140068,
          76.985634,
          87.684532,
          81.28093,
          133.400818,
          64.797531,
          156.245361,
          108.106529,
          152.219467,
          118.648102,
          195.680084,
          148.512756,
          101.999512,
          110.913551,
          130.91246,
          116.628853,
          37.630787,
          96.83992,
          106.468567,
          98.102432,
          84.601158,
          100.454239,
          76.658569,
          95.573479,
          82.496483,
          117.708092,
          106.503769,
          99.611221,
          92.537392,
          98.843224,
          135.849808,
          80.854759,
          80.580467,
          153.187195,
          80.778633,
          30.662121,
          150.456055,
          97.309517,
          65.942314,
          75.042953,
          120.011848,
          92.029716,
          91.968422,
          140.353561,
          136.05043,
          139.344574,
          128.304657,
          79.032303,
          75.473129,
          87.430115,
          101.75074,
          158.218857,
          158.14296,
          113.648621,
          null,
          140.74617,
          94.530067,
          81.087166,
          110.305969,
          117.396713,
          106.487129,
          143.730392,
          95.949615,
          106.416443,
          110.663696,
          48.324123,
          83.322456,
          89.970474,
          94.439377,
          113.489487,
          123.250603,
          109.298531,
          91.248871,
          82.073555,
          87.755569,
          107.853889,
          91.986244,
          30.662121,
          29.268389,
          91.782944,
          138.085907,
          87.014381,
          131.86058,
          124.574211,
          108.9188,
          123.60685,
          121.899208,
          71.458107,
          88.413597,
          84.286644,
          142.643265,
          95.623726,
          86.265938,
          59.372974,
          89.867363,
          51.779488,
          75.831337,
          112.212112,
          121.958916,
          122.90451,
          201.255249,
          152.574997,
          136.381332,
          117.978516,
          209.089432,
          85.485176,
          78.697899,
          89.176834,
          93.571404,
          87.594299,
          104.283287,
          34.756573,
          161.844543,
          124.04174,
          90.962761,
          94.144615,
          124.911072,
          137.589569,
          68.084602,
          153.740936,
          72.454666,
          97.380569,
          null,
          59.405151,
          129.598526,
          126.181213,
          92.110268,
          50.292553,
          106.643478,
          122.471291,
          119.482353,
          82.973419,
          133.452988,
          103.386101,
          89.15744,
          130.562592,
          93.199921,
          62.44315,
          76.718819,
          90.183571,
          67.941765,
          41.97179,
          111.982384,
          121.374367,
          94.649712,
          80.972885,
          150.820419,
          115.781219,
          118.858398,
          107.963333,
          102.877914,
          96.550537,
          107.338608,
          145.752823,
          122.92408,
          102.892982,
          32.055855,
          33.449589,
          71.547913,
          127.601143,
          78.457787,
          61.307163,
          119.307358,
          82.017311,
          107.381119,
          111.443825,
          90.833778,
          129.603714,
          111.897949,
          84.39032,
          96.033112,
          162.539124,
          72.225868,
          86.223366,
          79.637161,
          93.042175,
          75.024361,
          67.0933,
          106.3004,
          90.870918,
          83.007202,
          null,
          158.131424,
          123.613251,
          120.102486,
          91.757278,
          80.429634,
          65.974373,
          94.765564,
          143.794876,
          101.096817,
          99.011398,
          161.609024,
          137.280319,
          67.767151,
          94.539886,
          107.473808,
          120.233162,
          81.73539,
          94.267609,
          87.147369,
          70.153214,
          89.807037,
          103.30117,
          115.428879,
          75.9813,
          56.099045,
          92.670494,
          131.457169,
          52.239952,
          120.351379,
          121.886116,
          103.920456,
          101.640282,
          129.19957,
          85.677635,
          118.707924,
          77.206642,
          83.614464,
          102.517731,
          104.770317,
          91.025345,
          94.423668,
          94.603905,
          89.87175,
          92.291962,
          186.726456,
          124.10041,
          106.865097,
          148.704697,
          81.016502,
          74.017044,
          76.978638,
          138.765366,
          102.859428,
          125.844757,
          120.81855,
          77.267578,
          97.795929,
          94.240364,
          96.586037,
          92.586441,
          79.858284,
          110.640625,
          90.076088,
          73.599686,
          87.986511,
          101.398796,
          93.220116,
          96.890099,
          71.892464,
          81.026039,
          77.179565,
          99.533524,
          63.170124,
          74.655777,
          68.357719,
          52.867352,
          108.115639,
          85.017792,
          90.365685,
          83.801361,
          75.0522,
          90.097733,
          90.257088,
          84.67408,
          85.257851,
          57.232807,
          76.793213,
          172.482666,
          57.09539,
          125.332176,
          108.933151,
          141.361313,
          29.268389,
          152.479935,
          82.221428,
          118.955734,
          130.453384,
          33.449589,
          164.048965,
          95.844696,
          43.786263,
          42.866737,
          143.220657,
          75.383812,
          74.807152,
          82.154266,
          62.067387,
          86.852219,
          84.629601,
          96.841362,
          45.38821,
          122.134148,
          80.569115,
          89.750084,
          127.108749,
          108.111275,
          106.788429,
          118.314034,
          73.379448,
          70.914108,
          96.334717,
          76.182945,
          109.685471,
          102.299561,
          121.711143,
          131.403687,
          131.795212,
          54.019962,
          71.755188,
          82.959129,
          89.007858,
          57.006466,
          62.732357,
          139.232071,
          145.492859,
          122.545731,
          null,
          129.98027,
          144.249161,
          71.782753,
          140.227371,
          120.41851,
          27.874657,
          125.210449,
          134.486435,
          87.55764,
          98.009247,
          82.743904,
          65.512909,
          79.475365,
          126.065819,
          79.323601,
          146.146027,
          103.849907,
          102.897476,
          90.169418,
          93.291031,
          127.228989,
          null,
          89.314499,
          56.647644,
          65.816864,
          123.205063,
          133.295303,
          81.050453,
          97.957962,
          119.100906,
          105.740318,
          99.644402,
          83.394539,
          87.327179,
          77.291489,
          106.907539,
          79.697868,
          93.371613,
          127.210625,
          133.9729,
          118.228752,
          84.247383,
          51.100441
         ],
         "yaxis": "y4"
        }
       ],
       "layout": {
        "template": {
         "data": {
          "bar": [
           {
            "error_x": {
             "color": "#2a3f5f"
            },
            "error_y": {
             "color": "#2a3f5f"
            },
            "marker": {
             "line": {
              "color": "#E5ECF6",
              "width": 0.5
             },
             "pattern": {
              "fillmode": "overlay",
              "size": 10,
              "solidity": 0.2
             }
            },
            "type": "bar"
           }
          ],
          "barpolar": [
           {
            "marker": {
             "line": {
              "color": "#E5ECF6",
              "width": 0.5
             },
             "pattern": {
              "fillmode": "overlay",
              "size": 10,
              "solidity": 0.2
             }
            },
            "type": "barpolar"
           }
          ],
          "carpet": [
           {
            "aaxis": {
             "endlinecolor": "#2a3f5f",
             "gridcolor": "white",
             "linecolor": "white",
             "minorgridcolor": "white",
             "startlinecolor": "#2a3f5f"
            },
            "baxis": {
             "endlinecolor": "#2a3f5f",
             "gridcolor": "white",
             "linecolor": "white",
             "minorgridcolor": "white",
             "startlinecolor": "#2a3f5f"
            },
            "type": "carpet"
           }
          ],
          "choropleth": [
           {
            "colorbar": {
             "outlinewidth": 0,
             "ticks": ""
            },
            "type": "choropleth"
           }
          ],
          "contour": [
           {
            "colorbar": {
             "outlinewidth": 0,
             "ticks": ""
            },
            "colorscale": [
             [
              0,
              "#0d0887"
             ],
             [
              0.1111111111111111,
              "#46039f"
             ],
             [
              0.2222222222222222,
              "#7201a8"
             ],
             [
              0.3333333333333333,
              "#9c179e"
             ],
             [
              0.4444444444444444,
              "#bd3786"
             ],
             [
              0.5555555555555556,
              "#d8576b"
             ],
             [
              0.6666666666666666,
              "#ed7953"
             ],
             [
              0.7777777777777778,
              "#fb9f3a"
             ],
             [
              0.8888888888888888,
              "#fdca26"
             ],
             [
              1,
              "#f0f921"
             ]
            ],
            "type": "contour"
           }
          ],
          "contourcarpet": [
           {
            "colorbar": {
             "outlinewidth": 0,
             "ticks": ""
            },
            "type": "contourcarpet"
           }
          ],
          "heatmap": [
           {
            "colorbar": {
             "outlinewidth": 0,
             "ticks": ""
            },
            "colorscale": [
             [
              0,
              "#0d0887"
             ],
             [
              0.1111111111111111,
              "#46039f"
             ],
             [
              0.2222222222222222,
              "#7201a8"
             ],
             [
              0.3333333333333333,
              "#9c179e"
             ],
             [
              0.4444444444444444,
              "#bd3786"
             ],
             [
              0.5555555555555556,
              "#d8576b"
             ],
             [
              0.6666666666666666,
              "#ed7953"
             ],
             [
              0.7777777777777778,
              "#fb9f3a"
             ],
             [
              0.8888888888888888,
              "#fdca26"
             ],
             [
              1,
              "#f0f921"
             ]
            ],
            "type": "heatmap"
           }
          ],
          "heatmapgl": [
           {
            "colorbar": {
             "outlinewidth": 0,
             "ticks": ""
            },
            "colorscale": [
             [
              0,
              "#0d0887"
             ],
             [
              0.1111111111111111,
              "#46039f"
             ],
             [
              0.2222222222222222,
              "#7201a8"
             ],
             [
              0.3333333333333333,
              "#9c179e"
             ],
             [
              0.4444444444444444,
              "#bd3786"
             ],
             [
              0.5555555555555556,
              "#d8576b"
             ],
             [
              0.6666666666666666,
              "#ed7953"
             ],
             [
              0.7777777777777778,
              "#fb9f3a"
             ],
             [
              0.8888888888888888,
              "#fdca26"
             ],
             [
              1,
              "#f0f921"
             ]
            ],
            "type": "heatmapgl"
           }
          ],
          "histogram": [
           {
            "marker": {
             "pattern": {
              "fillmode": "overlay",
              "size": 10,
              "solidity": 0.2
             }
            },
            "type": "histogram"
           }
          ],
          "histogram2d": [
           {
            "colorbar": {
             "outlinewidth": 0,
             "ticks": ""
            },
            "colorscale": [
             [
              0,
              "#0d0887"
             ],
             [
              0.1111111111111111,
              "#46039f"
             ],
             [
              0.2222222222222222,
              "#7201a8"
             ],
             [
              0.3333333333333333,
              "#9c179e"
             ],
             [
              0.4444444444444444,
              "#bd3786"
             ],
             [
              0.5555555555555556,
              "#d8576b"
             ],
             [
              0.6666666666666666,
              "#ed7953"
             ],
             [
              0.7777777777777778,
              "#fb9f3a"
             ],
             [
              0.8888888888888888,
              "#fdca26"
             ],
             [
              1,
              "#f0f921"
             ]
            ],
            "type": "histogram2d"
           }
          ],
          "histogram2dcontour": [
           {
            "colorbar": {
             "outlinewidth": 0,
             "ticks": ""
            },
            "colorscale": [
             [
              0,
              "#0d0887"
             ],
             [
              0.1111111111111111,
              "#46039f"
             ],
             [
              0.2222222222222222,
              "#7201a8"
             ],
             [
              0.3333333333333333,
              "#9c179e"
             ],
             [
              0.4444444444444444,
              "#bd3786"
             ],
             [
              0.5555555555555556,
              "#d8576b"
             ],
             [
              0.6666666666666666,
              "#ed7953"
             ],
             [
              0.7777777777777778,
              "#fb9f3a"
             ],
             [
              0.8888888888888888,
              "#fdca26"
             ],
             [
              1,
              "#f0f921"
             ]
            ],
            "type": "histogram2dcontour"
           }
          ],
          "mesh3d": [
           {
            "colorbar": {
             "outlinewidth": 0,
             "ticks": ""
            },
            "type": "mesh3d"
           }
          ],
          "parcoords": [
           {
            "line": {
             "colorbar": {
              "outlinewidth": 0,
              "ticks": ""
             }
            },
            "type": "parcoords"
           }
          ],
          "pie": [
           {
            "automargin": true,
            "type": "pie"
           }
          ],
          "scatter": [
           {
            "marker": {
             "colorbar": {
              "outlinewidth": 0,
              "ticks": ""
             }
            },
            "type": "scatter"
           }
          ],
          "scatter3d": [
           {
            "line": {
             "colorbar": {
              "outlinewidth": 0,
              "ticks": ""
             }
            },
            "marker": {
             "colorbar": {
              "outlinewidth": 0,
              "ticks": ""
             }
            },
            "type": "scatter3d"
           }
          ],
          "scattercarpet": [
           {
            "marker": {
             "colorbar": {
              "outlinewidth": 0,
              "ticks": ""
             }
            },
            "type": "scattercarpet"
           }
          ],
          "scattergeo": [
           {
            "marker": {
             "colorbar": {
              "outlinewidth": 0,
              "ticks": ""
             }
            },
            "type": "scattergeo"
           }
          ],
          "scattergl": [
           {
            "marker": {
             "colorbar": {
              "outlinewidth": 0,
              "ticks": ""
             }
            },
            "type": "scattergl"
           }
          ],
          "scattermapbox": [
           {
            "marker": {
             "colorbar": {
              "outlinewidth": 0,
              "ticks": ""
             }
            },
            "type": "scattermapbox"
           }
          ],
          "scatterpolar": [
           {
            "marker": {
             "colorbar": {
              "outlinewidth": 0,
              "ticks": ""
             }
            },
            "type": "scatterpolar"
           }
          ],
          "scatterpolargl": [
           {
            "marker": {
             "colorbar": {
              "outlinewidth": 0,
              "ticks": ""
             }
            },
            "type": "scatterpolargl"
           }
          ],
          "scatterternary": [
           {
            "marker": {
             "colorbar": {
              "outlinewidth": 0,
              "ticks": ""
             }
            },
            "type": "scatterternary"
           }
          ],
          "surface": [
           {
            "colorbar": {
             "outlinewidth": 0,
             "ticks": ""
            },
            "colorscale": [
             [
              0,
              "#0d0887"
             ],
             [
              0.1111111111111111,
              "#46039f"
             ],
             [
              0.2222222222222222,
              "#7201a8"
             ],
             [
              0.3333333333333333,
              "#9c179e"
             ],
             [
              0.4444444444444444,
              "#bd3786"
             ],
             [
              0.5555555555555556,
              "#d8576b"
             ],
             [
              0.6666666666666666,
              "#ed7953"
             ],
             [
              0.7777777777777778,
              "#fb9f3a"
             ],
             [
              0.8888888888888888,
              "#fdca26"
             ],
             [
              1,
              "#f0f921"
             ]
            ],
            "type": "surface"
           }
          ],
          "table": [
           {
            "cells": {
             "fill": {
              "color": "#EBF0F8"
             },
             "line": {
              "color": "white"
             }
            },
            "header": {
             "fill": {
              "color": "#C8D4E3"
             },
             "line": {
              "color": "white"
             }
            },
            "type": "table"
           }
          ]
         },
         "layout": {
          "annotationdefaults": {
           "arrowcolor": "#2a3f5f",
           "arrowhead": 0,
           "arrowwidth": 1
          },
          "autotypenumbers": "strict",
          "coloraxis": {
           "colorbar": {
            "outlinewidth": 0,
            "ticks": ""
           }
          },
          "colorscale": {
           "diverging": [
            [
             0,
             "#8e0152"
            ],
            [
             0.1,
             "#c51b7d"
            ],
            [
             0.2,
             "#de77ae"
            ],
            [
             0.3,
             "#f1b6da"
            ],
            [
             0.4,
             "#fde0ef"
            ],
            [
             0.5,
             "#f7f7f7"
            ],
            [
             0.6,
             "#e6f5d0"
            ],
            [
             0.7,
             "#b8e186"
            ],
            [
             0.8,
             "#7fbc41"
            ],
            [
             0.9,
             "#4d9221"
            ],
            [
             1,
             "#276419"
            ]
           ],
           "sequential": [
            [
             0,
             "#0d0887"
            ],
            [
             0.1111111111111111,
             "#46039f"
            ],
            [
             0.2222222222222222,
             "#7201a8"
            ],
            [
             0.3333333333333333,
             "#9c179e"
            ],
            [
             0.4444444444444444,
             "#bd3786"
            ],
            [
             0.5555555555555556,
             "#d8576b"
            ],
            [
             0.6666666666666666,
             "#ed7953"
            ],
            [
             0.7777777777777778,
             "#fb9f3a"
            ],
            [
             0.8888888888888888,
             "#fdca26"
            ],
            [
             1,
             "#f0f921"
            ]
           ],
           "sequentialminus": [
            [
             0,
             "#0d0887"
            ],
            [
             0.1111111111111111,
             "#46039f"
            ],
            [
             0.2222222222222222,
             "#7201a8"
            ],
            [
             0.3333333333333333,
             "#9c179e"
            ],
            [
             0.4444444444444444,
             "#bd3786"
            ],
            [
             0.5555555555555556,
             "#d8576b"
            ],
            [
             0.6666666666666666,
             "#ed7953"
            ],
            [
             0.7777777777777778,
             "#fb9f3a"
            ],
            [
             0.8888888888888888,
             "#fdca26"
            ],
            [
             1,
             "#f0f921"
            ]
           ]
          },
          "colorway": [
           "#636efa",
           "#EF553B",
           "#00cc96",
           "#ab63fa",
           "#FFA15A",
           "#19d3f3",
           "#FF6692",
           "#B6E880",
           "#FF97FF",
           "#FECB52"
          ],
          "font": {
           "color": "#2a3f5f"
          },
          "geo": {
           "bgcolor": "white",
           "lakecolor": "white",
           "landcolor": "#E5ECF6",
           "showlakes": true,
           "showland": true,
           "subunitcolor": "white"
          },
          "hoverlabel": {
           "align": "left"
          },
          "hovermode": "closest",
          "mapbox": {
           "style": "light"
          },
          "paper_bgcolor": "white",
          "plot_bgcolor": "#E5ECF6",
          "polar": {
           "angularaxis": {
            "gridcolor": "white",
            "linecolor": "white",
            "ticks": ""
           },
           "bgcolor": "#E5ECF6",
           "radialaxis": {
            "gridcolor": "white",
            "linecolor": "white",
            "ticks": ""
           }
          },
          "scene": {
           "xaxis": {
            "backgroundcolor": "#E5ECF6",
            "gridcolor": "white",
            "gridwidth": 2,
            "linecolor": "white",
            "showbackground": true,
            "ticks": "",
            "zerolinecolor": "white"
           },
           "yaxis": {
            "backgroundcolor": "#E5ECF6",
            "gridcolor": "white",
            "gridwidth": 2,
            "linecolor": "white",
            "showbackground": true,
            "ticks": "",
            "zerolinecolor": "white"
           },
           "zaxis": {
            "backgroundcolor": "#E5ECF6",
            "gridcolor": "white",
            "gridwidth": 2,
            "linecolor": "white",
            "showbackground": true,
            "ticks": "",
            "zerolinecolor": "white"
           }
          },
          "shapedefaults": {
           "line": {
            "color": "#2a3f5f"
           }
          },
          "ternary": {
           "aaxis": {
            "gridcolor": "white",
            "linecolor": "white",
            "ticks": ""
           },
           "baxis": {
            "gridcolor": "white",
            "linecolor": "white",
            "ticks": ""
           },
           "bgcolor": "#E5ECF6",
           "caxis": {
            "gridcolor": "white",
            "linecolor": "white",
            "ticks": ""
           }
          },
          "title": {
           "x": 0.05
          },
          "xaxis": {
           "automargin": true,
           "gridcolor": "white",
           "linecolor": "white",
           "ticks": "",
           "title": {
            "standoff": 15
           },
           "zerolinecolor": "white",
           "zerolinewidth": 2
          },
          "yaxis": {
           "automargin": true,
           "gridcolor": "white",
           "linecolor": "white",
           "ticks": "",
           "title": {
            "standoff": 15
           },
           "zerolinecolor": "white",
           "zerolinewidth": 2
          }
         }
        },
        "xaxis": {
         "anchor": "y",
         "domain": [
          0,
          0.45
         ],
         "matches": "x3",
         "showticklabels": false
        },
        "xaxis2": {
         "anchor": "y2",
         "domain": [
          0.55,
          1
         ],
         "matches": "x4",
         "showticklabels": false
        },
        "xaxis3": {
         "anchor": "y3",
         "domain": [
          0,
          0.45
         ]
        },
        "xaxis4": {
         "anchor": "y4",
         "domain": [
          0.55,
          1
         ]
        },
        "yaxis": {
         "anchor": "x",
         "domain": [
          0.55,
          1
         ]
        },
        "yaxis2": {
         "anchor": "x2",
         "domain": [
          0.55,
          1
         ],
         "matches": "y",
         "showticklabels": false
        },
        "yaxis3": {
         "anchor": "x3",
         "domain": [
          0,
          0.45
         ]
        },
        "yaxis4": {
         "anchor": "x4",
         "domain": [
          0,
          0.45
         ],
         "matches": "y3",
         "showticklabels": false
        }
       }
      },
      "text/html": [
       "<div>                            <div id=\"810370f6-810b-4baf-8381-70d21b92fa49\" class=\"plotly-graph-div\" style=\"height:525px; width:100%;\"></div>            <script type=\"text/javascript\">                require([\"plotly\"], function(Plotly) {                    window.PLOTLYENV=window.PLOTLYENV || {};                                    if (document.getElementById(\"810370f6-810b-4baf-8381-70d21b92fa49\")) {                    Plotly.newPlot(                        \"810370f6-810b-4baf-8381-70d21b92fa49\",                        [{\"marker\":{\"color\":\"blue\"},\"name\":\"Pospisil\",\"text\":[\"Player\",\"Player\",\"Player\",\"Player\",\"Player\",\"Player\",\"Player\",\"Player\",\"Player\",\"Player\",\"Player\",\"Player\",\"Player\",\"Player\",\"Player\",\"Player\",\"Player\",\"Player\",\"Player\",\"Player\",\"Player\",\"Player\",\"Player\",\"Player\",\"Player\",\"Player\",\"Player\",\"Player\",\"Player\",\"Player\",\"Player\",\"Player\",\"Player\",\"Player\",\"Player\",\"Player\",\"Player\",\"Player\",\"Player\",\"Player\",\"Player\",\"Player\",\"Player\",\"Player\",\"Player\",\"Player\",\"Player\",\"Player\",\"Player\",\"Player\",\"Player\",\"Player\",\"Player\",\"Player\",\"Player\",\"Player\",\"Player\",\"Player\",\"Player\",\"Player\",\"Player\",\"Player\",\"Player\",\"Player\",\"Player\",\"Player\",\"Player\",\"Player\",\"Player\",\"Player\",\"Player\",\"Player\",\"Player\",\"Player\",\"Player\",\"Player\",\"Player\",\"Player\",\"Player\",\"Player\",\"Player\",\"Player\",\"Player\",\"Player\",\"Player\",\"Player\",\"Player\",\"Player\",\"Player\",\"Player\",\"Player\",\"Player\",\"Player\",\"Player\",\"Player\",\"Player\",\"Player\",\"Player\",\"Player\",\"Player\",\"Player\",\"Player\",\"Player\",\"Player\",\"Player\",\"Player\",\"Player\",\"Player\",\"Player\",\"Player\",\"Player\",\"Player\",\"Player\",\"Player\",\"Player\",\"Player\",\"Player\",\"Player\",\"Player\",\"Player\",\"Player\",\"Player\",\"Player\",\"Player\",\"Player\",\"Player\",\"Player\",\"Player\",\"Player\",\"Player\",\"Player\",\"Player\",\"Player\",\"Player\",\"Player\",\"Player\",\"Player\",\"Player\",\"Player\",\"Player\",\"Player\",\"Player\",\"Player\",\"Player\",\"Player\",\"Player\",\"Player\",\"Player\",\"Player\",\"Player\",\"Player\",\"Player\",\"Player\",\"Player\",\"Player\",\"Player\",\"Player\",\"Player\",\"Player\",\"Player\",\"Player\",\"Player\",\"Player\",\"Player\",\"Player\",\"Player\",\"Player\",\"Player\",\"Player\",\"Player\",\"Player\",\"Player\",\"Player\",\"Player\",\"Player\",\"Player\",\"Player\",\"Player\",\"Player\",\"Player\",\"Player\",\"Player\",\"Player\",\"Player\",\"Player\",\"Player\",\"Player\",\"Player\",\"Player\",\"Player\",\"Player\",\"Player\",\"Player\",\"Player\",\"Player\",\"Player\",\"Player\",\"Player\",\"Player\",\"Player\",\"Player\",\"Player\",\"Player\",\"Player\",\"Player\",\"Player\",\"Player\",\"Player\",\"Player\",\"Player\",\"Player\",\"Player\",\"Player\",\"Player\",\"Player\",\"Player\",\"Player\",\"Player\",\"Player\",\"Player\",\"Player\",\"Player\",\"Player\",\"Player\",\"Player\",\"Player\",\"Player\",\"Player\",\"Player\",\"Player\",\"Player\",\"Player\",\"Player\",\"Player\",\"Player\",\"Player\",\"Player\",\"Player\",\"Player\",\"Player\",\"Player\",\"Player\",\"Player\",\"Player\",\"Player\",\"Player\",\"Player\",\"Player\",\"Player\",\"Player\",\"Player\",\"Player\",\"Player\",\"Player\",\"Player\",\"Player\",\"Player\",\"Player\",\"Player\",\"Player\",\"Player\",\"Player\",\"Player\",\"Player\",\"Player\",\"Player\",\"Player\",\"Player\",\"Player\",\"Player\",\"Player\",\"Player\",\"Player\",\"Player\",\"Player\",\"Player\",\"Player\",\"Player\",\"Player\",\"Player\",\"Player\",\"Player\",\"Player\",\"Player\",\"Player\",\"Player\",\"Player\",\"Player\",\"Player\",\"Player\",\"Player\",\"Player\",\"Player\",\"Player\",\"Player\",\"Player\",\"Player\",\"Player\",\"Player\",\"Player\",\"Player\",\"Player\",\"Player\",\"Player\",\"Player\",\"Player\",\"Player\",\"Player\",\"Player\",\"Player\",\"Player\",\"Player\",\"Player\",\"Player\",\"Player\",\"Player\",\"Player\",\"Player\",\"Player\",\"Player\",\"Player\",\"Player\",\"Player\",\"Player\",\"Player\",\"Player\",\"Player\",\"Player\",\"Player\",\"Player\",\"Player\",\"Player\",\"Player\",\"Player\",\"Player\",\"Player\",\"Player\",\"Player\",\"Player\",\"Player\",\"Player\",\"Player\",\"Player\",\"Player\",\"Player\",\"Player\",\"Player\",\"Player\",\"Player\",\"Player\",\"Player\",\"Player\",\"Player\",\"Player\",\"Player\",\"Player\",\"Player\",\"Player\",\"Player\",\"Player\",\"Player\",\"Player\",\"Player\",\"Player\",\"Player\",\"Player\",\"Player\",\"Player\",\"Player\",\"Player\",\"Player\",\"Player\",\"Player\",\"Player\",\"Player\",\"Player\",\"Player\",\"Player\",\"Player\",\"Player\",\"Player\",\"Player\",\"Player\",\"Player\",\"Player\",\"Player\",\"Player\",\"Player\",\"Player\",\"Player\",\"Player\",\"Player\",\"Player\",\"Player\",\"Player\",\"Player\",\"Player\",\"Player\",\"Player\",\"Player\",\"Player\",\"Player\",\"Player\",\"Player\"],\"x\":[\"Serve\",\"Serve\",\"Forehand\",\"Serve\",\"Serve\",\"Serve\",\"Forehand\",\"Serve\",\"Serve\",\"Serve\",\"Serve\",\"Serve\",\"Backhand\",\"Backhand\",\"Backhand\",\"Backhand\",\"Backhand\",\"Forehand\",\"Forehand\",\"FH Volley\",\"Forehand\",\"Forehand\",\"Backhand\",\"Backhand\",\"Backhand\",\"Serve\",\"Serve\",\"Serve\",\"Serve\",\"Forehand\",\"Serve\",\"Serve\",\"Forehand\",\"Serve\",\"Forehand\",\"Serve\",\"Serve\",\"Backhand\",\"Serve\",\"Serve\",\"Forehand\",\"Forehand\",\"Forehand\",\"Backhand\",\"Forehand\",\"Forehand\",\"Backhand\",\"Forehand\",\"Backhand\",\"Serve\",\"Serve\",\"Forehand\",\"Forehand\",\"Serve\",\"Serve\",\"Forehand\",\"Serve\",\"Backhand\",\"Serve\",\"Backhand\",\"Backhand\",\"Forehand\",\"Forehand\",\"Forehand\",\"Forehand\",\"Forehand\",\"Backhand\",\"Backhand\",\"Forehand\",\"Serve\",\"BH Volley\",\"Serve\",\"Serve\",\"Serve\",\"Serve\",\"Forehand\",\"Serve\",\"Forehand\",\"Forehand\",\"Backhand\",\"Forehand\",\"Backhand\",\"Backhand\",\"Backhand\",\"Backhand\",\"Backhand\",\"Forehand\",\"Backhand\",\"Forehand\",\"Backhand\",\"Forehand\",\"Backhand\",\"Serve\",\"Forehand\",\"Forehand\",\"Forehand\",\"Backhand\",\"Forehand\",\"Backhand\",\"Backhand\",\"Backhand\",\"Serve\",\"Serve\",\"Serve\",\"Forehand\",\"Serve\",\"Serve\",\"Forehand\",\"Forehand\",\"Backhand\",\"Forehand\",\"Backhand\",\"Backhand\",\"Backhand\",\"Forehand\",\"Backhand\",\"Forehand\",\"Backhand\",\"Backhand\",\"Serve\",\"Serve\",\"Backhand\",\"Serve\",\"Serve\",\"Serve\",\"Forehand\",\"Serve\",\"Serve\",\"Backhand\",\"Backhand\",\"Forehand\",\"Forehand\",\"Forehand\",\"Backhand\",\"Serve\",\"Serve\",\"Serve\",\"Forehand\",\"Serve\",\"Serve\",\"Serve\",\"Backhand\",\"Backhand\",\"Backhand\",\"Forehand\",\"Forehand\",\"Backhand\",\"Backhand\",\"Backhand\",\"Forehand\",\"Forehand\",\"Backhand\",\"Backhand\",\"Backhand\",\"Backhand\",\"Backhand\",\"Backhand\",\"Backhand\",\"Backhand\",\"Forehand\",\"Serve\",\"Serve\",\"Forehand\",\"Serve\",\"Serve\",\"Forehand\",\"Backhand\",\"Serve\",\"Serve\",\"Serve\",\"Backhand\",\"Forehand\",\"Backhand\",\"Backhand\",\"Backhand\",\"Forehand\",\"Backhand\",\"Backhand\",\"Forehand\",\"Forehand\",\"Forehand\",\"Backhand\",\"Forehand\",\"Forehand\",\"Backhand\",\"Serve\",\"Forehand\",\"Forehand\",\"Serve\",\"Serve\",\"Backhand\",\"Backhand\",\"Serve\",\"Serve\",\"Serve\",\"Serve\",\"Serve\",\"Serve\",\"Serve\",\"Serve\",\"Backhand\",\"Backhand\",\"Forehand\",\"Backhand\",\"Serve\",\"Forehand\",\"Serve\",\"Forehand\",\"Serve\",\"Serve\",\"Serve\",\"Forehand\",\"Serve\",\"Serve\",\"Forehand\",\"Forehand\",\"Serve\",\"Serve\",\"Backhand\",\"Serve\",\"Serve\",\"Backhand\",\"Backhand\",\"Backhand\",\"Forehand\",\"Backhand\",\"Forehand\",\"Backhand\",\"Backhand\",\"Forehand\",\"Backhand\",\"Forehand\",\"Backhand\",\"Serve\",\"Serve\",\"Forehand\",\"Forehand\",\"Serve\",\"Serve\",\"Forehand\",\"Backhand\",\"Backhand\",\"Forehand\",\"Serve\",\"Serve\",\"Serve\",\"Serve\",\"Forehand\",\"Backhand\",\"Backhand\",\"Forehand\",\"Forehand\",\"Forehand\",\"Forehand\",\"Backhand\",\"Backhand\",\"Forehand\",\"Backhand\",\"Backhand\",\"Backhand\",\"Backhand\",\"Backhand\",\"Forehand\",\"Forehand\",\"Backhand\",\"Forehand\",\"Backhand\",\"Forehand\",\"Forehand\",\"Forehand\",\"Backhand\",\"Serve\",\"Serve\",\"Backhand\",\"Serve\",\"Serve\",\"Serve\",\"Serve\",\"Serve\",\"Forehand\",\"Serve\",\"Forehand\",\"Serve\",\"Forehand\",\"Backhand\",\"Serve\",\"Serve\",\"Serve\",\"Serve\",\"Serve\",\"Backhand\",\"Backhand\",\"Backhand\",\"Serve\",\"Forehand\",\"Serve\",\"Serve\",\"Backhand\",\"Serve\",\"Serve\",\"Forehand\",\"Serve\",\"Serve\",\"Serve\",\"Serve\",\"Backhand\",\"Serve\",\"Serve\",\"Forehand\",\"Serve\",\"Forehand\",\"Forehand\",\"Forehand\",\"Backhand\",\"Backhand\",\"Forehand\",\"Forehand\",\"Backhand\",\"Backhand\",\"Backhand\",\"Backhand\",\"Backhand\",\"Forehand\",\"Forehand\",\"Forehand\",\"Backhand\",\"Backhand\",\"Backhand\",\"BH Volley\",\"Serve\",\"Serve\",\"Serve\",\"Forehand\",\"FH Volley\",\"Backhand\",\"Serve\",\"Serve\",\"Serve\",\"Serve\",\"Serve\",\"Serve\",\"Forehand\",\"Forehand\",\"Forehand\",\"Forehand\",\"Forehand\",\"Backhand\",\"Backhand\",\"Forehand\",\"Backhand\",\"Forehand\",\"Forehand\",\"Backhand\",\"Backhand\",\"Serve\",\"Serve\",\"Serve\",\"Forehand\",\"Serve\",\"Forehand\",\"Serve\",\"Serve\",\"Serve\",\"Forehand\",\"Backhand\",\"Backhand\",\"Backhand\",\"Backhand\",\"Forehand\",\"Backhand\",\"Backhand\",\"Forehand\",\"Backhand\",\"Serve\",\"Serve\",\"Forehand\",\"Forehand\",\"Forehand\",\"Serve\",\"Serve\",\"Serve\",\"FH Volley\",\"Serve\",\"Backhand\",\"Forehand\",\"Backhand\",\"Backhand\",\"Backhand\",\"Backhand\",\"Forehand\",\"BH Volley\",\"Overhead\",\"Backhand\",\"Forehand\",\"Forehand\",\"Backhand\",\"Backhand\",\"Backhand\",\"Backhand\",\"Backhand\",\"Forehand\",\"Forehand\",\"Backhand\",\"Forehand\"],\"y\":[166.363281,126.269508,104.31604,110.567711,94.473465,143.428314,121.841362,73.324745,127.867363,138.194534,126.758484,135.053497,79.956505,91.414658,73.998878,74.146561,104.52829,93.485207,121.069,34.843319,95.097328,115.525398,118.767845,86.101639,84.314781,null,null,202.078918,142.025299,90.916985,118.871452,149.150208,67.103271,145.843109,82.811913,91.834106,130.675079,61.988026,106.161484,128.59906,84.027985,111.239662,44.010815,81.525917,83.750565,114.510849,90.102036,75.569321,58.510414,162.567688,116.530983,105.710678,91.767555,118.566048,151.512466,86.306305,107.916283,46.474094,166.588196,70.724823,84.438766,138.880661,63.228535,84.436371,86.179657,97.699677,69.413628,85.293709,121.33844,170.821655,40.418251,154.751205,154.898346,130.818054,155.280899,127.517418,101.542831,108.328445,103.934494,75.324425,97.880081,72.063347,104.394722,82.689667,78.894096,89.828743,64.099289,50.891689,99.038742,97.112473,77.71389,80.595032,163.357452,125.979408,98.370522,94.703575,89.421379,79.874977,76.715416,89.300713,48.83049,117.779854,103.141624,137.174225,56.267689,116.436615,130.692291,119.212532,111.507843,103.037651,110.053825,102.579086,64.824509,83.374557,99.723221,75.372879,101.58757,100.074409,90.615829,202.92749,147.999054,93.822716,109.466087,149.704681,139.339661,null,115.618561,135.313019,null,58.906158,56.032978,84.942688,78.911583,76.619614,107.96489,115.190155,132.793442,99.720215,114.319725,167.104736,95.396133,62.116451,86.827126,96.118919,105.111687,110.076195,74.431427,107.344002,65.012672,null,81.574692,99.316261,54.644333,85.343544,93.622231,105.564514,93.525055,58.328079,96.813133,75.271919,143.221832,136.398071,114.468361,155.070816,126.443092,84.297203,95.213593,154.441208,183.113083,161.313736,83.81208,100.262436,94.648323,56.252804,79.944664,76.249451,65.513748,89.729584,71.59185,75.004112,82.63858,74.091499,71.737671,87.21228,67.348473,121.712097,120.145248,101.80085,119.387024,134.158463,84.818176,80.718765,129.042877,121.17334,135.090347,152.753952,129.669327,113.434662,153.051682,118.806915,94.847885,85.391418,95.776047,48.105331,180.330566,105.627739,135.720139,82.501259,132.201553,74.454147,85.16597,64.166283,116.556107,108.578003,120.979195,102.330452,106.854721,136.039459,110.440819,136.517929,null,54.995796,56.766331,88.748413,81.118553,80.866776,107.601669,92.904495,60.391788,99.99205,76.2211,101.565132,68.505493,145.279877,123.616066,88.538849,83.194145,137.554901,134.507645,109.964584,89.422569,95.608978,80.951851,117.690926,104.662872,null,128.672958,105.05658,80.326012,43.053253,109.397995,104.398537,61.173656,76.783554,76.932816,93.613075,111.530174,80.912575,102.222694,62.948002,85.263618,null,61.210506,72.850906,106.404999,84.137634,85.851707,50.228252,111.361702,98.696945,69.297447,75.73069,202.92749,67.717346,113.048912,129.566254,160.489914,167.093231,126.122849,110.438393,137.860275,98.722023,195.680084,77.910851,80.865227,147.709503,138.063553,166.00827,39.504692,144.974869,71.761978,106.902702,69.902679,173.839478,93.031387,85.143394,127.729301,86.12738,117.379631,140.661072,140.488266,156.220749,169.817673,182.429214,147.525787,80.72065,88.048271,70.584976,95.641655,null,82.334251,109.926048,81.352936,75.247459,91.167564,84.74485,89.411003,80.58371,83.268433,70.062775,72.031609,68.557838,85.795036,52.65398,95.348717,62.926521,85.720016,78.243675,null,135.886673,103.02195,92.79023,99.135323,30.662121,50.996513,41.277985,126.525276,136.243988,148.107407,143.164764,138.738632,81.068451,92.920174,91.762733,106.598984,86.8209,98.408073,59.253536,80.688751,72.773949,103.144081,103.109367,66.468361,70.524216,155.03595,125.152107,154.221817,126.233253,155.912399,113.105652,159.646866,124.248093,158.792389,111.416878,58.281216,54.479652,70.793716,79.14386,80.363235,80.585121,75.026657,56.75943,85.688118,146.827042,114.806137,91.487587,57.384197,99.732674,93.197632,112.485161,96.524864,37.630787,166.442978,106.515503,104.619637,100.012917,88.348358,78.488785,166.690445,108.673271,27.874657,36.237053,96.001213,61.594387,64.45385,66.683228,85.09304,92.536499,75.055977,76.267067,120.567772,111.376595,88.921425,99.088295],\"type\":\"bar\",\"xaxis\":\"x\",\"yaxis\":\"y\"},{\"marker\":{\"color\":\"blue\"},\"mode\":\"markers\",\"name\":\"Pospisil\",\"text\":[\"Player\",\"Player\",\"Player\",\"Player\",\"Player\",\"Player\",\"Player\",\"Player\",\"Player\",\"Player\",\"Player\",\"Player\",\"Player\",\"Player\",\"Player\",\"Player\",\"Player\",\"Player\",\"Player\",\"Player\",\"Player\",\"Player\",\"Player\",\"Player\",\"Player\",\"Player\",\"Player\",\"Player\",\"Player\",\"Player\",\"Player\",\"Player\",\"Player\",\"Player\",\"Player\",\"Player\",\"Player\",\"Player\",\"Player\",\"Player\",\"Player\",\"Player\",\"Player\",\"Player\",\"Player\",\"Player\",\"Player\",\"Player\",\"Player\",\"Player\",\"Player\",\"Player\",\"Player\",\"Player\",\"Player\",\"Player\",\"Player\",\"Player\",\"Player\",\"Player\",\"Player\",\"Player\",\"Player\",\"Player\",\"Player\",\"Player\",\"Player\",\"Player\",\"Player\",\"Player\",\"Player\",\"Player\",\"Player\",\"Player\",\"Player\",\"Player\",\"Player\",\"Player\",\"Player\",\"Player\",\"Player\",\"Player\",\"Player\",\"Player\",\"Player\",\"Player\",\"Player\",\"Player\",\"Player\",\"Player\",\"Player\",\"Player\",\"Player\",\"Player\",\"Player\",\"Player\",\"Player\",\"Player\",\"Player\",\"Player\",\"Player\",\"Player\",\"Player\",\"Player\",\"Player\",\"Player\",\"Player\",\"Player\",\"Player\",\"Player\",\"Player\",\"Player\",\"Player\",\"Player\",\"Player\",\"Player\",\"Player\",\"Player\",\"Player\",\"Player\",\"Player\",\"Player\",\"Player\",\"Player\",\"Player\",\"Player\",\"Player\",\"Player\",\"Player\",\"Player\",\"Player\",\"Player\",\"Player\",\"Player\",\"Player\",\"Player\",\"Player\",\"Player\",\"Player\",\"Player\",\"Player\",\"Player\",\"Player\",\"Player\",\"Player\",\"Player\",\"Player\",\"Player\",\"Player\",\"Player\",\"Player\",\"Player\",\"Player\",\"Player\",\"Player\",\"Player\",\"Player\",\"Player\",\"Player\",\"Player\",\"Player\",\"Player\",\"Player\",\"Player\",\"Player\",\"Player\",\"Player\",\"Player\",\"Player\",\"Player\",\"Player\",\"Player\",\"Player\",\"Player\",\"Player\",\"Player\",\"Player\",\"Player\",\"Player\",\"Player\",\"Player\",\"Player\",\"Player\",\"Player\",\"Player\",\"Player\",\"Player\",\"Player\",\"Player\",\"Player\",\"Player\",\"Player\",\"Player\",\"Player\",\"Player\",\"Player\",\"Player\",\"Player\",\"Player\",\"Player\",\"Player\",\"Player\",\"Player\",\"Player\",\"Player\",\"Player\",\"Player\",\"Player\",\"Player\",\"Player\",\"Player\",\"Player\",\"Player\",\"Player\",\"Player\",\"Player\",\"Player\",\"Player\",\"Player\",\"Player\",\"Player\",\"Player\",\"Player\",\"Player\",\"Player\",\"Player\",\"Player\",\"Player\",\"Player\",\"Player\",\"Player\",\"Player\",\"Player\",\"Player\",\"Player\",\"Player\",\"Player\",\"Player\",\"Player\",\"Player\",\"Player\",\"Player\",\"Player\",\"Player\",\"Player\",\"Player\",\"Player\",\"Player\",\"Player\",\"Player\",\"Player\",\"Player\",\"Player\",\"Player\",\"Player\",\"Player\",\"Player\",\"Player\",\"Player\",\"Player\",\"Player\",\"Player\",\"Player\",\"Player\",\"Player\",\"Player\",\"Player\",\"Player\",\"Player\",\"Player\",\"Player\",\"Player\",\"Player\",\"Player\",\"Player\",\"Player\",\"Player\",\"Player\",\"Player\",\"Player\",\"Player\",\"Player\",\"Player\",\"Player\",\"Player\",\"Player\",\"Player\",\"Player\",\"Player\",\"Player\",\"Player\",\"Player\",\"Player\",\"Player\",\"Player\",\"Player\",\"Player\",\"Player\",\"Player\",\"Player\",\"Player\",\"Player\",\"Player\",\"Player\",\"Player\",\"Player\",\"Player\",\"Player\",\"Player\",\"Player\",\"Player\",\"Player\",\"Player\",\"Player\",\"Player\",\"Player\",\"Player\",\"Player\",\"Player\",\"Player\",\"Player\",\"Player\",\"Player\",\"Player\",\"Player\",\"Player\",\"Player\",\"Player\",\"Player\",\"Player\",\"Player\",\"Player\",\"Player\",\"Player\",\"Player\",\"Player\",\"Player\",\"Player\",\"Player\",\"Player\",\"Player\",\"Player\",\"Player\",\"Player\",\"Player\",\"Player\",\"Player\",\"Player\",\"Player\",\"Player\",\"Player\",\"Player\",\"Player\",\"Player\",\"Player\",\"Player\",\"Player\",\"Player\",\"Player\",\"Player\",\"Player\",\"Player\",\"Player\",\"Player\",\"Player\",\"Player\",\"Player\",\"Player\",\"Player\",\"Player\",\"Player\",\"Player\",\"Player\",\"Player\",\"Player\",\"Player\",\"Player\",\"Player\",\"Player\",\"Player\",\"Player\",\"Player\",\"Player\",\"Player\",\"Player\",\"Player\",\"Player\",\"Player\",\"Player\",\"Player\",\"Player\",\"Player\",\"Player\",\"Player\",\"Player\",\"Player\",\"Player\",\"Player\",\"Player\",\"Player\",\"Player\",\"Player\",\"Player\",\"Player\"],\"x\":[1,1,3,1,1,1,3,1,1,1,1,1,2,2,4,2,4,6,8,10,2,4,2,2,4,1,1,1,1,3,1,1,3,1,3,1,1,3,1,1,2,2,4,2,2,4,6,2,4,1,1,3,5,1,1,3,1,3,1,2,4,6,8,2,4,6,2,2,4,1,3,1,1,1,1,3,1,3,2,2,2,4,6,2,2,4,2,4,2,4,6,8,1,3,5,7,9,11,13,15,17,1,1,1,3,1,1,3,2,4,6,2,2,2,4,6,8,2,4,1,1,3,1,1,1,3,1,1,3,2,4,2,2,2,1,1,1,3,1,1,1,3,5,2,4,2,2,4,6,2,2,4,6,2,2,4,2,2,2,4,1,1,3,1,1,3,5,1,1,1,2,4,6,2,2,4,6,8,10,2,4,6,8,2,4,1,3,5,1,1,3,5,1,1,1,1,1,1,1,1,2,2,2,2,1,3,1,3,1,1,1,3,1,1,3,5,1,1,3,1,1,3,2,2,4,6,8,10,2,4,2,4,2,1,1,3,5,1,1,3,5,7,9,1,1,1,1,3,2,2,2,2,4,2,2,2,4,6,8,10,12,2,2,2,4,6,2,4,2,4,6,1,1,3,1,1,1,1,1,3,1,3,1,3,5,1,1,1,1,1,3,5,7,1,3,1,1,3,1,1,3,1,1,1,1,3,1,1,3,1,3,5,7,9,11,13,2,4,2,2,4,6,2,4,2,4,2,4,6,1,1,1,3,5,7,1,1,1,1,1,1,3,5,7,2,4,2,2,2,4,6,8,2,2,1,1,1,3,1,3,1,1,1,3,2,4,2,2,4,2,4,6,2,1,1,3,5,7,1,1,1,1,1,3,5,2,2,4,2,4,6,8,2,4,2,2,2,4,6,8,10,2,4,6],\"y\":[166.363281,126.269508,104.31604,110.567711,94.473465,143.428314,121.841362,73.324745,127.867363,138.194534,126.758484,135.053497,79.956505,91.414658,73.998878,74.146561,104.52829,93.485207,121.069,34.843319,95.097328,115.525398,118.767845,86.101639,84.314781,null,null,202.078918,142.025299,90.916985,118.871452,149.150208,67.103271,145.843109,82.811913,91.834106,130.675079,61.988026,106.161484,128.59906,84.027985,111.239662,44.010815,81.525917,83.750565,114.510849,90.102036,75.569321,58.510414,162.567688,116.530983,105.710678,91.767555,118.566048,151.512466,86.306305,107.916283,46.474094,166.588196,70.724823,84.438766,138.880661,63.228535,84.436371,86.179657,97.699677,69.413628,85.293709,121.33844,170.821655,40.418251,154.751205,154.898346,130.818054,155.280899,127.517418,101.542831,108.328445,103.934494,75.324425,97.880081,72.063347,104.394722,82.689667,78.894096,89.828743,64.099289,50.891689,99.038742,97.112473,77.71389,80.595032,163.357452,125.979408,98.370522,94.703575,89.421379,79.874977,76.715416,89.300713,48.83049,117.779854,103.141624,137.174225,56.267689,116.436615,130.692291,119.212532,111.507843,103.037651,110.053825,102.579086,64.824509,83.374557,99.723221,75.372879,101.58757,100.074409,90.615829,202.92749,147.999054,93.822716,109.466087,149.704681,139.339661,null,115.618561,135.313019,null,58.906158,56.032978,84.942688,78.911583,76.619614,107.96489,115.190155,132.793442,99.720215,114.319725,167.104736,95.396133,62.116451,86.827126,96.118919,105.111687,110.076195,74.431427,107.344002,65.012672,null,81.574692,99.316261,54.644333,85.343544,93.622231,105.564514,93.525055,58.328079,96.813133,75.271919,143.221832,136.398071,114.468361,155.070816,126.443092,84.297203,95.213593,154.441208,183.113083,161.313736,83.81208,100.262436,94.648323,56.252804,79.944664,76.249451,65.513748,89.729584,71.59185,75.004112,82.63858,74.091499,71.737671,87.21228,67.348473,121.712097,120.145248,101.80085,119.387024,134.158463,84.818176,80.718765,129.042877,121.17334,135.090347,152.753952,129.669327,113.434662,153.051682,118.806915,94.847885,85.391418,95.776047,48.105331,180.330566,105.627739,135.720139,82.501259,132.201553,74.454147,85.16597,64.166283,116.556107,108.578003,120.979195,102.330452,106.854721,136.039459,110.440819,136.517929,null,54.995796,56.766331,88.748413,81.118553,80.866776,107.601669,92.904495,60.391788,99.99205,76.2211,101.565132,68.505493,145.279877,123.616066,88.538849,83.194145,137.554901,134.507645,109.964584,89.422569,95.608978,80.951851,117.690926,104.662872,null,128.672958,105.05658,80.326012,43.053253,109.397995,104.398537,61.173656,76.783554,76.932816,93.613075,111.530174,80.912575,102.222694,62.948002,85.263618,null,61.210506,72.850906,106.404999,84.137634,85.851707,50.228252,111.361702,98.696945,69.297447,75.73069,202.92749,67.717346,113.048912,129.566254,160.489914,167.093231,126.122849,110.438393,137.860275,98.722023,195.680084,77.910851,80.865227,147.709503,138.063553,166.00827,39.504692,144.974869,71.761978,106.902702,69.902679,173.839478,93.031387,85.143394,127.729301,86.12738,117.379631,140.661072,140.488266,156.220749,169.817673,182.429214,147.525787,80.72065,88.048271,70.584976,95.641655,null,82.334251,109.926048,81.352936,75.247459,91.167564,84.74485,89.411003,80.58371,83.268433,70.062775,72.031609,68.557838,85.795036,52.65398,95.348717,62.926521,85.720016,78.243675,null,135.886673,103.02195,92.79023,99.135323,30.662121,50.996513,41.277985,126.525276,136.243988,148.107407,143.164764,138.738632,81.068451,92.920174,91.762733,106.598984,86.8209,98.408073,59.253536,80.688751,72.773949,103.144081,103.109367,66.468361,70.524216,155.03595,125.152107,154.221817,126.233253,155.912399,113.105652,159.646866,124.248093,158.792389,111.416878,58.281216,54.479652,70.793716,79.14386,80.363235,80.585121,75.026657,56.75943,85.688118,146.827042,114.806137,91.487587,57.384197,99.732674,93.197632,112.485161,96.524864,37.630787,166.442978,106.515503,104.619637,100.012917,88.348358,78.488785,166.690445,108.673271,27.874657,36.237053,96.001213,61.594387,64.45385,66.683228,85.09304,92.536499,75.055977,76.267067,120.567772,111.376595,88.921425,99.088295],\"type\":\"scatter\",\"xaxis\":\"x2\",\"yaxis\":\"y2\"},{\"marker\":{\"color\":\"red\"},\"name\":\"Wolf\",\"text\":[\"Opponent\",\"Opponent\",\"Opponent\",\"Opponent\",\"Opponent\",\"Opponent\",\"Opponent\",\"Opponent\",\"Opponent\",\"Opponent\",\"Opponent\",\"Opponent\",\"Opponent\",\"Opponent\",\"Opponent\",\"Opponent\",\"Opponent\",\"Opponent\",\"Opponent\",\"Opponent\",\"Opponent\",\"Opponent\",\"Opponent\",\"Opponent\",\"Opponent\",\"Opponent\",\"Opponent\",\"Opponent\",\"Opponent\",\"Opponent\",\"Opponent\",\"Opponent\",\"Opponent\",\"Opponent\",\"Opponent\",\"Opponent\",\"Opponent\",\"Opponent\",\"Opponent\",\"Opponent\",\"Opponent\",\"Opponent\",\"Opponent\",\"Opponent\",\"Opponent\",\"Opponent\",\"Opponent\",\"Opponent\",\"Opponent\",\"Opponent\",\"Opponent\",\"Opponent\",\"Opponent\",\"Opponent\",\"Opponent\",\"Opponent\",\"Opponent\",\"Opponent\",\"Opponent\",\"Opponent\",\"Opponent\",\"Opponent\",\"Opponent\",\"Opponent\",\"Opponent\",\"Opponent\",\"Opponent\",\"Opponent\",\"Opponent\",\"Opponent\",\"Opponent\",\"Opponent\",\"Opponent\",\"Opponent\",\"Opponent\",\"Opponent\",\"Opponent\",\"Opponent\",\"Opponent\",\"Opponent\",\"Opponent\",\"Opponent\",\"Opponent\",\"Opponent\",\"Opponent\",\"Opponent\",\"Opponent\",\"Opponent\",\"Opponent\",\"Opponent\",\"Opponent\",\"Opponent\",\"Opponent\",\"Opponent\",\"Opponent\",\"Opponent\",\"Opponent\",\"Opponent\",\"Opponent\",\"Opponent\",\"Opponent\",\"Opponent\",\"Opponent\",\"Opponent\",\"Opponent\",\"Opponent\",\"Opponent\",\"Opponent\",\"Opponent\",\"Opponent\",\"Opponent\",\"Opponent\",\"Opponent\",\"Opponent\",\"Opponent\",\"Opponent\",\"Opponent\",\"Opponent\",\"Opponent\",\"Opponent\",\"Opponent\",\"Opponent\",\"Opponent\",\"Opponent\",\"Opponent\",\"Opponent\",\"Opponent\",\"Opponent\",\"Opponent\",\"Opponent\",\"Opponent\",\"Opponent\",\"Opponent\",\"Opponent\",\"Opponent\",\"Opponent\",\"Opponent\",\"Opponent\",\"Opponent\",\"Opponent\",\"Opponent\",\"Opponent\",\"Opponent\",\"Opponent\",\"Opponent\",\"Opponent\",\"Opponent\",\"Opponent\",\"Opponent\",\"Opponent\",\"Opponent\",\"Opponent\",\"Opponent\",\"Opponent\",\"Opponent\",\"Opponent\",\"Opponent\",\"Opponent\",\"Opponent\",\"Opponent\",\"Opponent\",\"Opponent\",\"Opponent\",\"Opponent\",\"Opponent\",\"Opponent\",\"Opponent\",\"Opponent\",\"Opponent\",\"Opponent\",\"Opponent\",\"Opponent\",\"Opponent\",\"Opponent\",\"Opponent\",\"Opponent\",\"Opponent\",\"Opponent\",\"Opponent\",\"Opponent\",\"Opponent\",\"Opponent\",\"Opponent\",\"Opponent\",\"Opponent\",\"Opponent\",\"Opponent\",\"Opponent\",\"Opponent\",\"Opponent\",\"Opponent\",\"Opponent\",\"Opponent\",\"Opponent\",\"Opponent\",\"Opponent\",\"Opponent\",\"Opponent\",\"Opponent\",\"Opponent\",\"Opponent\",\"Opponent\",\"Opponent\",\"Opponent\",\"Opponent\",\"Opponent\",\"Opponent\",\"Opponent\",\"Opponent\",\"Opponent\",\"Opponent\",\"Opponent\",\"Opponent\",\"Opponent\",\"Opponent\",\"Opponent\",\"Opponent\",\"Opponent\",\"Opponent\",\"Opponent\",\"Opponent\",\"Opponent\",\"Opponent\",\"Opponent\",\"Opponent\",\"Opponent\",\"Opponent\",\"Opponent\",\"Opponent\",\"Opponent\",\"Opponent\",\"Opponent\",\"Opponent\",\"Opponent\",\"Opponent\",\"Opponent\",\"Opponent\",\"Opponent\",\"Opponent\",\"Opponent\",\"Opponent\",\"Opponent\",\"Opponent\",\"Opponent\",\"Opponent\",\"Opponent\",\"Opponent\",\"Opponent\",\"Opponent\",\"Opponent\",\"Opponent\",\"Opponent\",\"Opponent\",\"Opponent\",\"Opponent\",\"Opponent\",\"Opponent\",\"Opponent\",\"Opponent\",\"Opponent\",\"Opponent\",\"Opponent\",\"Opponent\",\"Opponent\",\"Opponent\",\"Opponent\",\"Opponent\",\"Opponent\",\"Opponent\",\"Opponent\",\"Opponent\",\"Opponent\",\"Opponent\",\"Opponent\",\"Opponent\",\"Opponent\",\"Opponent\",\"Opponent\",\"Opponent\",\"Opponent\",\"Opponent\",\"Opponent\",\"Opponent\",\"Opponent\",\"Opponent\",\"Opponent\",\"Opponent\",\"Opponent\",\"Opponent\",\"Opponent\",\"Opponent\",\"Opponent\",\"Opponent\",\"Opponent\",\"Opponent\",\"Opponent\",\"Opponent\",\"Opponent\",\"Opponent\",\"Opponent\",\"Opponent\",\"Opponent\",\"Opponent\",\"Opponent\",\"Opponent\",\"Opponent\",\"Opponent\",\"Opponent\",\"Opponent\",\"Opponent\",\"Opponent\",\"Opponent\",\"Opponent\",\"Opponent\",\"Opponent\",\"Opponent\",\"Opponent\",\"Opponent\",\"Opponent\",\"Opponent\",\"Opponent\",\"Opponent\",\"Opponent\",\"Opponent\",\"Opponent\",\"Opponent\",\"Opponent\",\"Opponent\",\"Opponent\",\"Opponent\",\"Opponent\",\"Opponent\",\"Opponent\",\"Opponent\",\"Opponent\",\"Opponent\",\"Opponent\",\"Opponent\",\"Opponent\",\"Opponent\",\"Opponent\",\"Opponent\",\"Opponent\",\"Opponent\",\"Opponent\",\"Opponent\",\"Opponent\",\"Opponent\",\"Opponent\",\"Opponent\",\"Opponent\",\"Opponent\",\"Opponent\",\"Opponent\",\"Opponent\",\"Opponent\",\"Opponent\",\"Opponent\",\"Opponent\",\"Opponent\",\"Opponent\",\"Opponent\",\"Opponent\",\"Opponent\",\"Opponent\",\"Opponent\",\"Opponent\",\"Opponent\",\"Opponent\",\"Opponent\",\"Opponent\",\"Opponent\",\"Opponent\",\"Opponent\",\"Opponent\",\"Opponent\",\"Opponent\",\"Opponent\",\"Opponent\",\"Opponent\",\"Opponent\",\"Opponent\",\"Opponent\",\"Opponent\",\"Opponent\",\"Opponent\",\"Opponent\",\"Opponent\",\"Opponent\",\"Opponent\",\"Opponent\",\"Opponent\"],\"x\":[\"Backhand\",\"Forehand\",\"Backhand\",\"Backhand\",\"Backhand\",\"Serve\",\"Serve\",\"Serve\",\"Forehand\",\"Backhand\",\"Serve\",\"Serve\",\"Forehand\",\"Forehand\",\"Backhand\",\"Backhand\",\"Serve\",\"Forehand\",\"Serve\",\"Serve\",\"Forehand\",\"Serve\",\"Serve\",\"Forehand\",\"Forehand\",\"Backhand\",\"Forehand\",\"Backhand\",\"Backhand\",\"Backhand\",\"Forehand\",\"Forehand\",\"Forehand\",\"Backhand\",\"Serve\",\"Forehand\",\"Serve\",\"Forehand\",\"Serve\",\"Serve\",\"Serve\",\"Serve\",\"Forehand\",\"Forehand\",\"Serve\",\"Forehand\",\"BH Volley\",\"Backhand\",\"Forehand\",\"Forehand\",\"Forehand\",\"Forehand\",\"Backhand\",\"Backhand\",\"Forehand\",\"Serve\",\"Forehand\",\"Backhand\",\"Forehand\",\"Serve\",\"Serve\",\"Backhand\",\"Forehand\",\"Serve\",\"Serve\",\"FH Volley\",\"Serve\",\"Backhand\",\"Forehand\",\"Backhand\",\"Forehand\",\"Forehand\",\"Forehand\",\"Serve\",\"Serve\",\"Serve\",\"Serve\",\"Serve\",\"Backhand\",\"Forehand\",\"Backhand\",\"Serve\",\"Serve\",\"Serve\",\"Forehand\",\"Serve\",\"Forehand\",\"Forehand\",\"Serve\",\"Forehand\",\"Serve\",\"Serve\",\"Forehand\",\"Forehand\",\"Forehand\",\"Backhand\",\"Forehand\",\"Forehand\",\"Forehand\",\"Backhand\",\"Backhand\",\"Backhand\",\"Forehand\",\"Forehand\",\"Backhand\",\"Serve\",\"Forehand\",\"FH Volley\",\"BH Volley\",\"Serve\",\"Serve\",\"Forehand\",\"Serve\",\"Serve\",\"Serve\",\"Serve\",\"Serve\",\"Backhand\",\"Backhand\",\"Forehand\",\"Serve\",\"Serve\",\"Forehand\",\"Forehand\",\"Backhand\",\"Backhand\",\"Forehand\",\"Forehand\",\"Serve\",\"Forehand\",\"Overhead\",\"Serve\",\"Serve\",\"Serve\",\"Serve\",\"Forehand\",\"Backhand\",\"Backhand\",\"Forehand\",\"Backhand\",\"Forehand\",\"Forehand\",\"Serve\",\"Serve\",\"Forehand\",\"Forehand\",\"Serve\",\"Serve\",\"Backhand\",\"Serve\",\"Backhand\",\"Backhand\",\"Serve\",\"Forehand\",\"Serve\",\"Serve\",\"Forehand\",\"Backhand\",\"Backhand\",\"Serve\",\"Serve\",\"Forehand\",\"Serve\",\"Serve\",\"Forehand\",\"Serve\",\"Forehand\",\"Backhand\",\"Backhand\",\"Forehand\",\"Forehand\",\"Forehand\",\"Serve\",\"Serve\",\"Backhand\",\"Forehand\",\"Serve\",\"Overhead\",\"Serve\",\"Forehand\",\"Forehand\",\"Forehand\",\"Backhand\",\"Serve\",\"Forehand\",\"Forehand\",\"BH Volley\",\"FH Volley\",\"Serve\",\"Serve\",\"Forehand\",\"Backhand\",\"Backhand\",\"Backhand\",\"Backhand\",\"Backhand\",\"Forehand\",\"Serve\",\"Serve\",\"Forehand\",\"Serve\",\"Serve\",\"Forehand\",\"Forehand\",\"Backhand\",\"Forehand\",\"Backhand\",\"Backhand\",\"Forehand\",\"Forehand\",\"Backhand\",\"Forehand\",\"Serve\",\"Serve\",\"Serve\",\"Forehand\",\"Forehand\",\"Forehand\",\"Forehand\",\"Serve\",\"Forehand\",\"Backhand\",\"Serve\",\"Serve\",\"Backhand\",\"Backhand\",\"Serve\",\"Serve\",\"Forehand\",\"Forehand\",\"Backhand\",\"Backhand\",\"Backhand\",\"Backhand\",\"Backhand\",\"Backhand\",\"Backhand\",\"Forehand\",\"Serve\",\"Backhand\",\"Serve\",\"Serve\",\"Serve\",\"Forehand\",\"Serve\",\"Forehand\",\"Serve\",\"Serve\",\"Forehand\",\"Serve\",\"Serve\",\"Forehand\",\"Forehand\",\"Forehand\",\"Backhand\",\"Forehand\",\"Serve\",\"Serve\",\"Forehand\",\"Serve\",\"Forehand\",\"Forehand\",\"Forehand\",\"Serve\",\"Forehand\",\"Serve\",\"Serve\",\"Backhand\",\"Backhand\",\"Backhand\",\"Backhand\",\"Forehand\",\"Forehand\",\"Forehand\",\"Forehand\",\"Forehand\",\"Forehand\",\"Forehand\",\"Backhand\",\"Forehand\",\"Forehand\",\"Forehand\",\"Backhand\",\"Forehand\",\"Forehand\",\"Backhand\",\"Backhand\",\"Forehand\",\"Forehand\",\"Forehand\",\"Backhand\",\"Forehand\",\"Forehand\",\"Forehand\",\"Forehand\",\"Backhand\",\"Backhand\",\"Serve\",\"Forehand\",\"Serve\",\"Serve\",\"Serve\",\"Backhand\",\"Backhand\",\"FH Volley\",\"Serve\",\"Backhand\",\"Serve\",\"Forehand\",\"BH Volley\",\"Serve\",\"Backhand\",\"Forehand\",\"Forehand\",\"Backhand\",\"Backhand\",\"Forehand\",\"Backhand\",\"Forehand\",\"Forehand\",\"Forehand\",\"Forehand\",\"Forehand\",\"Serve\",\"Forehand\",\"Backhand\",\"Serve\",\"Serve\",\"Serve\",\"Serve\",\"Forehand\",\"Forehand\",\"Backhand\",\"Forehand\",\"Serve\",\"Serve\",\"Forehand\",\"Serve\",\"Serve\",\"Forehand\",\"Forehand\",\"Backhand\",\"Forehand\",\"Backhand\",\"Backhand\",\"Serve\",\"Serve\",\"Forehand\",\"BH Volley\",\"Serve\",\"Serve\",\"Forehand\",\"Serve\",\"Forehand\",\"BH Volley\",\"Serve\",\"Serve\",\"Backhand\",\"Backhand\",\"Forehand\",\"Forehand\",\"Backhand\",\"Forehand\",\"Backhand\",\"Serve\",\"Serve\",\"Serve\",\"Forehand\",\"Forehand\",\"Serve\",\"Serve\",\"Backhand\",\"Backhand\",\"Forehand\",\"Serve\",\"Serve\",\"Forehand\",\"Serve\",\"Forehand\",\"Serve\",\"Forehand\",\"Serve\",\"Serve\",\"Forehand\",\"Backhand\",\"Backhand\",\"Backhand\",\"Forehand\",\"Serve\",\"Serve\",\"Forehand\",\"Backhand\"],\"y\":[70.656006,90.118004,78.757332,107.008484,115.401077,122.690895,86.152313,90.455971,120.514259,93.383263,73.279663,95.120171,77.21286,93.235603,92.444786,57.347374,145.696243,85.205666,103.562408,118.513489,100.287956,122.950623,111.271889,96.919159,53.398014,null,null,66.082611,87.971054,75.404854,86.140068,76.985634,87.684532,81.28093,133.400818,64.797531,156.245361,108.106529,152.219467,118.648102,195.680084,148.512756,101.999512,110.913551,130.91246,116.628853,37.630787,96.83992,106.468567,98.102432,84.601158,100.454239,76.658569,95.573479,82.496483,117.708092,106.503769,99.611221,92.537392,98.843224,135.849808,80.854759,80.580467,153.187195,80.778633,30.662121,150.456055,97.309517,65.942314,75.042953,120.011848,92.029716,91.968422,140.353561,136.05043,139.344574,128.304657,79.032303,75.473129,87.430115,101.75074,158.218857,158.14296,113.648621,null,140.74617,94.530067,81.087166,110.305969,117.396713,106.487129,143.730392,95.949615,106.416443,110.663696,48.324123,83.322456,89.970474,94.439377,113.489487,123.250603,109.298531,91.248871,82.073555,87.755569,107.853889,91.986244,30.662121,29.268389,91.782944,138.085907,87.014381,131.86058,124.574211,108.9188,123.60685,121.899208,71.458107,88.413597,84.286644,142.643265,95.623726,86.265938,59.372974,89.867363,51.779488,75.831337,112.212112,121.958916,122.90451,201.255249,152.574997,136.381332,117.978516,209.089432,85.485176,78.697899,89.176834,93.571404,87.594299,104.283287,34.756573,161.844543,124.04174,90.962761,94.144615,124.911072,137.589569,68.084602,153.740936,72.454666,97.380569,null,59.405151,129.598526,126.181213,92.110268,50.292553,106.643478,122.471291,119.482353,82.973419,133.452988,103.386101,89.15744,130.562592,93.199921,62.44315,76.718819,90.183571,67.941765,41.97179,111.982384,121.374367,94.649712,80.972885,150.820419,115.781219,118.858398,107.963333,102.877914,96.550537,107.338608,145.752823,122.92408,102.892982,32.055855,33.449589,71.547913,127.601143,78.457787,61.307163,119.307358,82.017311,107.381119,111.443825,90.833778,129.603714,111.897949,84.39032,96.033112,162.539124,72.225868,86.223366,79.637161,93.042175,75.024361,67.0933,106.3004,90.870918,83.007202,null,158.131424,123.613251,120.102486,91.757278,80.429634,65.974373,94.765564,143.794876,101.096817,99.011398,161.609024,137.280319,67.767151,94.539886,107.473808,120.233162,81.73539,94.267609,87.147369,70.153214,89.807037,103.30117,115.428879,75.9813,56.099045,92.670494,131.457169,52.239952,120.351379,121.886116,103.920456,101.640282,129.19957,85.677635,118.707924,77.206642,83.614464,102.517731,104.770317,91.025345,94.423668,94.603905,89.87175,92.291962,186.726456,124.10041,106.865097,148.704697,81.016502,74.017044,76.978638,138.765366,102.859428,125.844757,120.81855,77.267578,97.795929,94.240364,96.586037,92.586441,79.858284,110.640625,90.076088,73.599686,87.986511,101.398796,93.220116,96.890099,71.892464,81.026039,77.179565,99.533524,63.170124,74.655777,68.357719,52.867352,108.115639,85.017792,90.365685,83.801361,75.0522,90.097733,90.257088,84.67408,85.257851,57.232807,76.793213,172.482666,57.09539,125.332176,108.933151,141.361313,29.268389,152.479935,82.221428,118.955734,130.453384,33.449589,164.048965,95.844696,43.786263,42.866737,143.220657,75.383812,74.807152,82.154266,62.067387,86.852219,84.629601,96.841362,45.38821,122.134148,80.569115,89.750084,127.108749,108.111275,106.788429,118.314034,73.379448,70.914108,96.334717,76.182945,109.685471,102.299561,121.711143,131.403687,131.795212,54.019962,71.755188,82.959129,89.007858,57.006466,62.732357,139.232071,145.492859,122.545731,null,129.98027,144.249161,71.782753,140.227371,120.41851,27.874657,125.210449,134.486435,87.55764,98.009247,82.743904,65.512909,79.475365,126.065819,79.323601,146.146027,103.849907,102.897476,90.169418,93.291031,127.228989,null,89.314499,56.647644,65.816864,123.205063,133.295303,81.050453,97.957962,119.100906,105.740318,99.644402,83.394539,87.327179,77.291489,106.907539,79.697868,93.371613,127.210625,133.9729,118.228752,84.247383,51.100441],\"type\":\"bar\",\"xaxis\":\"x3\",\"yaxis\":\"y3\"},{\"marker\":{\"color\":\"red\"},\"mode\":\"markers\",\"name\":\"Wolf\",\"text\":[\"Opponent\",\"Opponent\",\"Opponent\",\"Opponent\",\"Opponent\",\"Opponent\",\"Opponent\",\"Opponent\",\"Opponent\",\"Opponent\",\"Opponent\",\"Opponent\",\"Opponent\",\"Opponent\",\"Opponent\",\"Opponent\",\"Opponent\",\"Opponent\",\"Opponent\",\"Opponent\",\"Opponent\",\"Opponent\",\"Opponent\",\"Opponent\",\"Opponent\",\"Opponent\",\"Opponent\",\"Opponent\",\"Opponent\",\"Opponent\",\"Opponent\",\"Opponent\",\"Opponent\",\"Opponent\",\"Opponent\",\"Opponent\",\"Opponent\",\"Opponent\",\"Opponent\",\"Opponent\",\"Opponent\",\"Opponent\",\"Opponent\",\"Opponent\",\"Opponent\",\"Opponent\",\"Opponent\",\"Opponent\",\"Opponent\",\"Opponent\",\"Opponent\",\"Opponent\",\"Opponent\",\"Opponent\",\"Opponent\",\"Opponent\",\"Opponent\",\"Opponent\",\"Opponent\",\"Opponent\",\"Opponent\",\"Opponent\",\"Opponent\",\"Opponent\",\"Opponent\",\"Opponent\",\"Opponent\",\"Opponent\",\"Opponent\",\"Opponent\",\"Opponent\",\"Opponent\",\"Opponent\",\"Opponent\",\"Opponent\",\"Opponent\",\"Opponent\",\"Opponent\",\"Opponent\",\"Opponent\",\"Opponent\",\"Opponent\",\"Opponent\",\"Opponent\",\"Opponent\",\"Opponent\",\"Opponent\",\"Opponent\",\"Opponent\",\"Opponent\",\"Opponent\",\"Opponent\",\"Opponent\",\"Opponent\",\"Opponent\",\"Opponent\",\"Opponent\",\"Opponent\",\"Opponent\",\"Opponent\",\"Opponent\",\"Opponent\",\"Opponent\",\"Opponent\",\"Opponent\",\"Opponent\",\"Opponent\",\"Opponent\",\"Opponent\",\"Opponent\",\"Opponent\",\"Opponent\",\"Opponent\",\"Opponent\",\"Opponent\",\"Opponent\",\"Opponent\",\"Opponent\",\"Opponent\",\"Opponent\",\"Opponent\",\"Opponent\",\"Opponent\",\"Opponent\",\"Opponent\",\"Opponent\",\"Opponent\",\"Opponent\",\"Opponent\",\"Opponent\",\"Opponent\",\"Opponent\",\"Opponent\",\"Opponent\",\"Opponent\",\"Opponent\",\"Opponent\",\"Opponent\",\"Opponent\",\"Opponent\",\"Opponent\",\"Opponent\",\"Opponent\",\"Opponent\",\"Opponent\",\"Opponent\",\"Opponent\",\"Opponent\",\"Opponent\",\"Opponent\",\"Opponent\",\"Opponent\",\"Opponent\",\"Opponent\",\"Opponent\",\"Opponent\",\"Opponent\",\"Opponent\",\"Opponent\",\"Opponent\",\"Opponent\",\"Opponent\",\"Opponent\",\"Opponent\",\"Opponent\",\"Opponent\",\"Opponent\",\"Opponent\",\"Opponent\",\"Opponent\",\"Opponent\",\"Opponent\",\"Opponent\",\"Opponent\",\"Opponent\",\"Opponent\",\"Opponent\",\"Opponent\",\"Opponent\",\"Opponent\",\"Opponent\",\"Opponent\",\"Opponent\",\"Opponent\",\"Opponent\",\"Opponent\",\"Opponent\",\"Opponent\",\"Opponent\",\"Opponent\",\"Opponent\",\"Opponent\",\"Opponent\",\"Opponent\",\"Opponent\",\"Opponent\",\"Opponent\",\"Opponent\",\"Opponent\",\"Opponent\",\"Opponent\",\"Opponent\",\"Opponent\",\"Opponent\",\"Opponent\",\"Opponent\",\"Opponent\",\"Opponent\",\"Opponent\",\"Opponent\",\"Opponent\",\"Opponent\",\"Opponent\",\"Opponent\",\"Opponent\",\"Opponent\",\"Opponent\",\"Opponent\",\"Opponent\",\"Opponent\",\"Opponent\",\"Opponent\",\"Opponent\",\"Opponent\",\"Opponent\",\"Opponent\",\"Opponent\",\"Opponent\",\"Opponent\",\"Opponent\",\"Opponent\",\"Opponent\",\"Opponent\",\"Opponent\",\"Opponent\",\"Opponent\",\"Opponent\",\"Opponent\",\"Opponent\",\"Opponent\",\"Opponent\",\"Opponent\",\"Opponent\",\"Opponent\",\"Opponent\",\"Opponent\",\"Opponent\",\"Opponent\",\"Opponent\",\"Opponent\",\"Opponent\",\"Opponent\",\"Opponent\",\"Opponent\",\"Opponent\",\"Opponent\",\"Opponent\",\"Opponent\",\"Opponent\",\"Opponent\",\"Opponent\",\"Opponent\",\"Opponent\",\"Opponent\",\"Opponent\",\"Opponent\",\"Opponent\",\"Opponent\",\"Opponent\",\"Opponent\",\"Opponent\",\"Opponent\",\"Opponent\",\"Opponent\",\"Opponent\",\"Opponent\",\"Opponent\",\"Opponent\",\"Opponent\",\"Opponent\",\"Opponent\",\"Opponent\",\"Opponent\",\"Opponent\",\"Opponent\",\"Opponent\",\"Opponent\",\"Opponent\",\"Opponent\",\"Opponent\",\"Opponent\",\"Opponent\",\"Opponent\",\"Opponent\",\"Opponent\",\"Opponent\",\"Opponent\",\"Opponent\",\"Opponent\",\"Opponent\",\"Opponent\",\"Opponent\",\"Opponent\",\"Opponent\",\"Opponent\",\"Opponent\",\"Opponent\",\"Opponent\",\"Opponent\",\"Opponent\",\"Opponent\",\"Opponent\",\"Opponent\",\"Opponent\",\"Opponent\",\"Opponent\",\"Opponent\",\"Opponent\",\"Opponent\",\"Opponent\",\"Opponent\",\"Opponent\",\"Opponent\",\"Opponent\",\"Opponent\",\"Opponent\",\"Opponent\",\"Opponent\",\"Opponent\",\"Opponent\",\"Opponent\",\"Opponent\",\"Opponent\",\"Opponent\",\"Opponent\",\"Opponent\",\"Opponent\",\"Opponent\",\"Opponent\",\"Opponent\",\"Opponent\",\"Opponent\",\"Opponent\",\"Opponent\",\"Opponent\",\"Opponent\",\"Opponent\",\"Opponent\",\"Opponent\",\"Opponent\",\"Opponent\",\"Opponent\",\"Opponent\",\"Opponent\",\"Opponent\",\"Opponent\",\"Opponent\",\"Opponent\",\"Opponent\",\"Opponent\",\"Opponent\",\"Opponent\",\"Opponent\",\"Opponent\",\"Opponent\",\"Opponent\",\"Opponent\",\"Opponent\",\"Opponent\",\"Opponent\",\"Opponent\",\"Opponent\",\"Opponent\",\"Opponent\",\"Opponent\",\"Opponent\",\"Opponent\",\"Opponent\",\"Opponent\",\"Opponent\",\"Opponent\",\"Opponent\",\"Opponent\",\"Opponent\",\"Opponent\",\"Opponent\",\"Opponent\",\"Opponent\",\"Opponent\",\"Opponent\",\"Opponent\",\"Opponent\"],\"x\":[2,4,2,2,2,1,1,1,3,5,1,1,3,5,7,9,1,3,1,1,3,1,1,3,5,2,2,2,2,2,4,2,2,2,1,3,1,3,1,1,1,1,3,5,1,3,5,2,4,6,2,2,4,2,2,1,3,5,7,1,1,3,5,1,1,3,1,2,2,2,2,2,4,1,1,1,1,1,3,5,7,1,1,1,3,1,3,5,1,3,1,1,3,5,7,2,4,6,8,10,12,14,16,2,2,1,3,5,7,1,1,3,1,1,1,1,1,3,5,7,1,1,3,5,2,2,4,2,1,3,5,1,1,1,1,2,2,4,2,2,4,6,1,1,3,5,1,1,3,1,3,5,1,3,1,1,3,5,7,1,1,3,1,1,3,1,3,2,2,4,2,2,1,1,3,5,1,3,1,3,5,7,9,1,3,5,7,9,1,1,3,2,4,2,4,6,2,1,1,3,1,1,3,2,2,4,2,2,4,6,2,2,1,1,1,3,5,7,9,1,3,5,1,1,3,5,1,1,2,4,2,2,4,6,8,2,2,4,1,3,1,1,1,3,1,3,1,1,3,1,1,3,5,7,9,11,1,1,3,1,3,5,7,1,3,1,1,3,5,2,2,2,2,2,2,4,6,2,2,2,4,6,2,2,4,2,4,2,2,4,2,2,4,6,8,10,12,1,3,1,1,1,3,5,7,1,3,1,3,5,1,3,5,2,2,4,6,2,2,2,4,6,8,1,3,5,1,1,1,1,3,5,7,9,1,1,3,1,1,3,2,2,2,2,2,1,1,3,5,1,1,3,1,3,5,1,1,2,4,6,8,2,2,4,1,1,1,3,5,1,1,3,5,7,1,1,3,1,3,1,3,1,1,3,5,7,9,11,1,1,3,5],\"y\":[70.656006,90.118004,78.757332,107.008484,115.401077,122.690895,86.152313,90.455971,120.514259,93.383263,73.279663,95.120171,77.21286,93.235603,92.444786,57.347374,145.696243,85.205666,103.562408,118.513489,100.287956,122.950623,111.271889,96.919159,53.398014,null,null,66.082611,87.971054,75.404854,86.140068,76.985634,87.684532,81.28093,133.400818,64.797531,156.245361,108.106529,152.219467,118.648102,195.680084,148.512756,101.999512,110.913551,130.91246,116.628853,37.630787,96.83992,106.468567,98.102432,84.601158,100.454239,76.658569,95.573479,82.496483,117.708092,106.503769,99.611221,92.537392,98.843224,135.849808,80.854759,80.580467,153.187195,80.778633,30.662121,150.456055,97.309517,65.942314,75.042953,120.011848,92.029716,91.968422,140.353561,136.05043,139.344574,128.304657,79.032303,75.473129,87.430115,101.75074,158.218857,158.14296,113.648621,null,140.74617,94.530067,81.087166,110.305969,117.396713,106.487129,143.730392,95.949615,106.416443,110.663696,48.324123,83.322456,89.970474,94.439377,113.489487,123.250603,109.298531,91.248871,82.073555,87.755569,107.853889,91.986244,30.662121,29.268389,91.782944,138.085907,87.014381,131.86058,124.574211,108.9188,123.60685,121.899208,71.458107,88.413597,84.286644,142.643265,95.623726,86.265938,59.372974,89.867363,51.779488,75.831337,112.212112,121.958916,122.90451,201.255249,152.574997,136.381332,117.978516,209.089432,85.485176,78.697899,89.176834,93.571404,87.594299,104.283287,34.756573,161.844543,124.04174,90.962761,94.144615,124.911072,137.589569,68.084602,153.740936,72.454666,97.380569,null,59.405151,129.598526,126.181213,92.110268,50.292553,106.643478,122.471291,119.482353,82.973419,133.452988,103.386101,89.15744,130.562592,93.199921,62.44315,76.718819,90.183571,67.941765,41.97179,111.982384,121.374367,94.649712,80.972885,150.820419,115.781219,118.858398,107.963333,102.877914,96.550537,107.338608,145.752823,122.92408,102.892982,32.055855,33.449589,71.547913,127.601143,78.457787,61.307163,119.307358,82.017311,107.381119,111.443825,90.833778,129.603714,111.897949,84.39032,96.033112,162.539124,72.225868,86.223366,79.637161,93.042175,75.024361,67.0933,106.3004,90.870918,83.007202,null,158.131424,123.613251,120.102486,91.757278,80.429634,65.974373,94.765564,143.794876,101.096817,99.011398,161.609024,137.280319,67.767151,94.539886,107.473808,120.233162,81.73539,94.267609,87.147369,70.153214,89.807037,103.30117,115.428879,75.9813,56.099045,92.670494,131.457169,52.239952,120.351379,121.886116,103.920456,101.640282,129.19957,85.677635,118.707924,77.206642,83.614464,102.517731,104.770317,91.025345,94.423668,94.603905,89.87175,92.291962,186.726456,124.10041,106.865097,148.704697,81.016502,74.017044,76.978638,138.765366,102.859428,125.844757,120.81855,77.267578,97.795929,94.240364,96.586037,92.586441,79.858284,110.640625,90.076088,73.599686,87.986511,101.398796,93.220116,96.890099,71.892464,81.026039,77.179565,99.533524,63.170124,74.655777,68.357719,52.867352,108.115639,85.017792,90.365685,83.801361,75.0522,90.097733,90.257088,84.67408,85.257851,57.232807,76.793213,172.482666,57.09539,125.332176,108.933151,141.361313,29.268389,152.479935,82.221428,118.955734,130.453384,33.449589,164.048965,95.844696,43.786263,42.866737,143.220657,75.383812,74.807152,82.154266,62.067387,86.852219,84.629601,96.841362,45.38821,122.134148,80.569115,89.750084,127.108749,108.111275,106.788429,118.314034,73.379448,70.914108,96.334717,76.182945,109.685471,102.299561,121.711143,131.403687,131.795212,54.019962,71.755188,82.959129,89.007858,57.006466,62.732357,139.232071,145.492859,122.545731,null,129.98027,144.249161,71.782753,140.227371,120.41851,27.874657,125.210449,134.486435,87.55764,98.009247,82.743904,65.512909,79.475365,126.065819,79.323601,146.146027,103.849907,102.897476,90.169418,93.291031,127.228989,null,89.314499,56.647644,65.816864,123.205063,133.295303,81.050453,97.957962,119.100906,105.740318,99.644402,83.394539,87.327179,77.291489,106.907539,79.697868,93.371613,127.210625,133.9729,118.228752,84.247383,51.100441],\"type\":\"scatter\",\"xaxis\":\"x4\",\"yaxis\":\"y4\"}],                        {\"template\":{\"data\":{\"bar\":[{\"error_x\":{\"color\":\"#2a3f5f\"},\"error_y\":{\"color\":\"#2a3f5f\"},\"marker\":{\"line\":{\"color\":\"#E5ECF6\",\"width\":0.5},\"pattern\":{\"fillmode\":\"overlay\",\"size\":10,\"solidity\":0.2}},\"type\":\"bar\"}],\"barpolar\":[{\"marker\":{\"line\":{\"color\":\"#E5ECF6\",\"width\":0.5},\"pattern\":{\"fillmode\":\"overlay\",\"size\":10,\"solidity\":0.2}},\"type\":\"barpolar\"}],\"carpet\":[{\"aaxis\":{\"endlinecolor\":\"#2a3f5f\",\"gridcolor\":\"white\",\"linecolor\":\"white\",\"minorgridcolor\":\"white\",\"startlinecolor\":\"#2a3f5f\"},\"baxis\":{\"endlinecolor\":\"#2a3f5f\",\"gridcolor\":\"white\",\"linecolor\":\"white\",\"minorgridcolor\":\"white\",\"startlinecolor\":\"#2a3f5f\"},\"type\":\"carpet\"}],\"choropleth\":[{\"colorbar\":{\"outlinewidth\":0,\"ticks\":\"\"},\"type\":\"choropleth\"}],\"contour\":[{\"colorbar\":{\"outlinewidth\":0,\"ticks\":\"\"},\"colorscale\":[[0.0,\"#0d0887\"],[0.1111111111111111,\"#46039f\"],[0.2222222222222222,\"#7201a8\"],[0.3333333333333333,\"#9c179e\"],[0.4444444444444444,\"#bd3786\"],[0.5555555555555556,\"#d8576b\"],[0.6666666666666666,\"#ed7953\"],[0.7777777777777778,\"#fb9f3a\"],[0.8888888888888888,\"#fdca26\"],[1.0,\"#f0f921\"]],\"type\":\"contour\"}],\"contourcarpet\":[{\"colorbar\":{\"outlinewidth\":0,\"ticks\":\"\"},\"type\":\"contourcarpet\"}],\"heatmap\":[{\"colorbar\":{\"outlinewidth\":0,\"ticks\":\"\"},\"colorscale\":[[0.0,\"#0d0887\"],[0.1111111111111111,\"#46039f\"],[0.2222222222222222,\"#7201a8\"],[0.3333333333333333,\"#9c179e\"],[0.4444444444444444,\"#bd3786\"],[0.5555555555555556,\"#d8576b\"],[0.6666666666666666,\"#ed7953\"],[0.7777777777777778,\"#fb9f3a\"],[0.8888888888888888,\"#fdca26\"],[1.0,\"#f0f921\"]],\"type\":\"heatmap\"}],\"heatmapgl\":[{\"colorbar\":{\"outlinewidth\":0,\"ticks\":\"\"},\"colorscale\":[[0.0,\"#0d0887\"],[0.1111111111111111,\"#46039f\"],[0.2222222222222222,\"#7201a8\"],[0.3333333333333333,\"#9c179e\"],[0.4444444444444444,\"#bd3786\"],[0.5555555555555556,\"#d8576b\"],[0.6666666666666666,\"#ed7953\"],[0.7777777777777778,\"#fb9f3a\"],[0.8888888888888888,\"#fdca26\"],[1.0,\"#f0f921\"]],\"type\":\"heatmapgl\"}],\"histogram\":[{\"marker\":{\"pattern\":{\"fillmode\":\"overlay\",\"size\":10,\"solidity\":0.2}},\"type\":\"histogram\"}],\"histogram2d\":[{\"colorbar\":{\"outlinewidth\":0,\"ticks\":\"\"},\"colorscale\":[[0.0,\"#0d0887\"],[0.1111111111111111,\"#46039f\"],[0.2222222222222222,\"#7201a8\"],[0.3333333333333333,\"#9c179e\"],[0.4444444444444444,\"#bd3786\"],[0.5555555555555556,\"#d8576b\"],[0.6666666666666666,\"#ed7953\"],[0.7777777777777778,\"#fb9f3a\"],[0.8888888888888888,\"#fdca26\"],[1.0,\"#f0f921\"]],\"type\":\"histogram2d\"}],\"histogram2dcontour\":[{\"colorbar\":{\"outlinewidth\":0,\"ticks\":\"\"},\"colorscale\":[[0.0,\"#0d0887\"],[0.1111111111111111,\"#46039f\"],[0.2222222222222222,\"#7201a8\"],[0.3333333333333333,\"#9c179e\"],[0.4444444444444444,\"#bd3786\"],[0.5555555555555556,\"#d8576b\"],[0.6666666666666666,\"#ed7953\"],[0.7777777777777778,\"#fb9f3a\"],[0.8888888888888888,\"#fdca26\"],[1.0,\"#f0f921\"]],\"type\":\"histogram2dcontour\"}],\"mesh3d\":[{\"colorbar\":{\"outlinewidth\":0,\"ticks\":\"\"},\"type\":\"mesh3d\"}],\"parcoords\":[{\"line\":{\"colorbar\":{\"outlinewidth\":0,\"ticks\":\"\"}},\"type\":\"parcoords\"}],\"pie\":[{\"automargin\":true,\"type\":\"pie\"}],\"scatter\":[{\"marker\":{\"colorbar\":{\"outlinewidth\":0,\"ticks\":\"\"}},\"type\":\"scatter\"}],\"scatter3d\":[{\"line\":{\"colorbar\":{\"outlinewidth\":0,\"ticks\":\"\"}},\"marker\":{\"colorbar\":{\"outlinewidth\":0,\"ticks\":\"\"}},\"type\":\"scatter3d\"}],\"scattercarpet\":[{\"marker\":{\"colorbar\":{\"outlinewidth\":0,\"ticks\":\"\"}},\"type\":\"scattercarpet\"}],\"scattergeo\":[{\"marker\":{\"colorbar\":{\"outlinewidth\":0,\"ticks\":\"\"}},\"type\":\"scattergeo\"}],\"scattergl\":[{\"marker\":{\"colorbar\":{\"outlinewidth\":0,\"ticks\":\"\"}},\"type\":\"scattergl\"}],\"scattermapbox\":[{\"marker\":{\"colorbar\":{\"outlinewidth\":0,\"ticks\":\"\"}},\"type\":\"scattermapbox\"}],\"scatterpolar\":[{\"marker\":{\"colorbar\":{\"outlinewidth\":0,\"ticks\":\"\"}},\"type\":\"scatterpolar\"}],\"scatterpolargl\":[{\"marker\":{\"colorbar\":{\"outlinewidth\":0,\"ticks\":\"\"}},\"type\":\"scatterpolargl\"}],\"scatterternary\":[{\"marker\":{\"colorbar\":{\"outlinewidth\":0,\"ticks\":\"\"}},\"type\":\"scatterternary\"}],\"surface\":[{\"colorbar\":{\"outlinewidth\":0,\"ticks\":\"\"},\"colorscale\":[[0.0,\"#0d0887\"],[0.1111111111111111,\"#46039f\"],[0.2222222222222222,\"#7201a8\"],[0.3333333333333333,\"#9c179e\"],[0.4444444444444444,\"#bd3786\"],[0.5555555555555556,\"#d8576b\"],[0.6666666666666666,\"#ed7953\"],[0.7777777777777778,\"#fb9f3a\"],[0.8888888888888888,\"#fdca26\"],[1.0,\"#f0f921\"]],\"type\":\"surface\"}],\"table\":[{\"cells\":{\"fill\":{\"color\":\"#EBF0F8\"},\"line\":{\"color\":\"white\"}},\"header\":{\"fill\":{\"color\":\"#C8D4E3\"},\"line\":{\"color\":\"white\"}},\"type\":\"table\"}]},\"layout\":{\"annotationdefaults\":{\"arrowcolor\":\"#2a3f5f\",\"arrowhead\":0,\"arrowwidth\":1},\"autotypenumbers\":\"strict\",\"coloraxis\":{\"colorbar\":{\"outlinewidth\":0,\"ticks\":\"\"}},\"colorscale\":{\"diverging\":[[0,\"#8e0152\"],[0.1,\"#c51b7d\"],[0.2,\"#de77ae\"],[0.3,\"#f1b6da\"],[0.4,\"#fde0ef\"],[0.5,\"#f7f7f7\"],[0.6,\"#e6f5d0\"],[0.7,\"#b8e186\"],[0.8,\"#7fbc41\"],[0.9,\"#4d9221\"],[1,\"#276419\"]],\"sequential\":[[0.0,\"#0d0887\"],[0.1111111111111111,\"#46039f\"],[0.2222222222222222,\"#7201a8\"],[0.3333333333333333,\"#9c179e\"],[0.4444444444444444,\"#bd3786\"],[0.5555555555555556,\"#d8576b\"],[0.6666666666666666,\"#ed7953\"],[0.7777777777777778,\"#fb9f3a\"],[0.8888888888888888,\"#fdca26\"],[1.0,\"#f0f921\"]],\"sequentialminus\":[[0.0,\"#0d0887\"],[0.1111111111111111,\"#46039f\"],[0.2222222222222222,\"#7201a8\"],[0.3333333333333333,\"#9c179e\"],[0.4444444444444444,\"#bd3786\"],[0.5555555555555556,\"#d8576b\"],[0.6666666666666666,\"#ed7953\"],[0.7777777777777778,\"#fb9f3a\"],[0.8888888888888888,\"#fdca26\"],[1.0,\"#f0f921\"]]},\"colorway\":[\"#636efa\",\"#EF553B\",\"#00cc96\",\"#ab63fa\",\"#FFA15A\",\"#19d3f3\",\"#FF6692\",\"#B6E880\",\"#FF97FF\",\"#FECB52\"],\"font\":{\"color\":\"#2a3f5f\"},\"geo\":{\"bgcolor\":\"white\",\"lakecolor\":\"white\",\"landcolor\":\"#E5ECF6\",\"showlakes\":true,\"showland\":true,\"subunitcolor\":\"white\"},\"hoverlabel\":{\"align\":\"left\"},\"hovermode\":\"closest\",\"mapbox\":{\"style\":\"light\"},\"paper_bgcolor\":\"white\",\"plot_bgcolor\":\"#E5ECF6\",\"polar\":{\"angularaxis\":{\"gridcolor\":\"white\",\"linecolor\":\"white\",\"ticks\":\"\"},\"bgcolor\":\"#E5ECF6\",\"radialaxis\":{\"gridcolor\":\"white\",\"linecolor\":\"white\",\"ticks\":\"\"}},\"scene\":{\"xaxis\":{\"backgroundcolor\":\"#E5ECF6\",\"gridcolor\":\"white\",\"gridwidth\":2,\"linecolor\":\"white\",\"showbackground\":true,\"ticks\":\"\",\"zerolinecolor\":\"white\"},\"yaxis\":{\"backgroundcolor\":\"#E5ECF6\",\"gridcolor\":\"white\",\"gridwidth\":2,\"linecolor\":\"white\",\"showbackground\":true,\"ticks\":\"\",\"zerolinecolor\":\"white\"},\"zaxis\":{\"backgroundcolor\":\"#E5ECF6\",\"gridcolor\":\"white\",\"gridwidth\":2,\"linecolor\":\"white\",\"showbackground\":true,\"ticks\":\"\",\"zerolinecolor\":\"white\"}},\"shapedefaults\":{\"line\":{\"color\":\"#2a3f5f\"}},\"ternary\":{\"aaxis\":{\"gridcolor\":\"white\",\"linecolor\":\"white\",\"ticks\":\"\"},\"baxis\":{\"gridcolor\":\"white\",\"linecolor\":\"white\",\"ticks\":\"\"},\"bgcolor\":\"#E5ECF6\",\"caxis\":{\"gridcolor\":\"white\",\"linecolor\":\"white\",\"ticks\":\"\"}},\"title\":{\"x\":0.05},\"xaxis\":{\"automargin\":true,\"gridcolor\":\"white\",\"linecolor\":\"white\",\"ticks\":\"\",\"title\":{\"standoff\":15},\"zerolinecolor\":\"white\",\"zerolinewidth\":2},\"yaxis\":{\"automargin\":true,\"gridcolor\":\"white\",\"linecolor\":\"white\",\"ticks\":\"\",\"title\":{\"standoff\":15},\"zerolinecolor\":\"white\",\"zerolinewidth\":2}}},\"xaxis\":{\"anchor\":\"y\",\"domain\":[0.0,0.45],\"matches\":\"x3\",\"showticklabels\":false},\"yaxis\":{\"anchor\":\"x\",\"domain\":[0.55,1.0]},\"xaxis2\":{\"anchor\":\"y2\",\"domain\":[0.55,1.0],\"matches\":\"x4\",\"showticklabels\":false},\"yaxis2\":{\"anchor\":\"x2\",\"domain\":[0.55,1.0],\"matches\":\"y\",\"showticklabels\":false},\"xaxis3\":{\"anchor\":\"y3\",\"domain\":[0.0,0.45]},\"yaxis3\":{\"anchor\":\"x3\",\"domain\":[0.0,0.45]},\"xaxis4\":{\"anchor\":\"y4\",\"domain\":[0.55,1.0]},\"yaxis4\":{\"anchor\":\"x4\",\"domain\":[0.0,0.45],\"matches\":\"y3\",\"showticklabels\":false}},                        {\"responsive\": true}                    ).then(function(){\n",
       "                            \n",
       "var gd = document.getElementById('810370f6-810b-4baf-8381-70d21b92fa49');\n",
       "var x = new MutationObserver(function (mutations, observer) {{\n",
       "        var display = window.getComputedStyle(gd).display;\n",
       "        if (!display || display === 'none') {{\n",
       "            console.log([gd, 'removed!']);\n",
       "            Plotly.purge(gd);\n",
       "            observer.disconnect();\n",
       "        }}\n",
       "}});\n",
       "\n",
       "// Listen for the removal of the full notebook cells\n",
       "var notebookContainer = gd.closest('#notebook-container');\n",
       "if (notebookContainer) {{\n",
       "    x.observe(notebookContainer, {childList: true});\n",
       "}}\n",
       "\n",
       "// Listen for the clearing of the current output cell\n",
       "var outputEl = gd.closest('.output');\n",
       "if (outputEl) {{\n",
       "    x.observe(outputEl, {childList: true});\n",
       "}}\n",
       "\n",
       "                        })                };                });            </script>        </div>"
      ]
     },
     "metadata": {},
     "output_type": "display_data"
    }
   ],
   "source": [
    "hide_me\n",
    "#créer une courbe dont les x sont « world_rank » et les y sont « citations »\n",
    "trace1 = go.Scatter(\n",
    "    x=dfP1.Shot, y=dfP1[\"Speed (KM/H)\"],\n",
    "    text=dfP1.Player, #annote les points avec cette variable\n",
    "    mode=\"markers\", #mode=line+markers\n",
    "    marker=dict(color='blue'), name=name1\n",
    ")\n",
    "fig.add_trace(trace1)\n",
    "#ajouter une autre courbe\n",
    "trace2 = go.Scatter(\n",
    "    x=dfP2.Shot, y=dfP2[\"Speed (KM/H)\"],\n",
    "    text=dfP2.Player, #annote les points avec cette variable\n",
    "    mode=\"markers\", #mode=line+markers\n",
    "    marker=dict(color='red'), name=name2\n",
    ")\n",
    "#create 4 subplots into the figure\n",
    "fig3= subplots.make_subplots(rows=2, cols=2, shared_xaxes=True\n",
    "                             , shared_yaxes=True, vertical_spacing=0.1\n",
    "                            , horizontal_spacing=0.1)\n",
    "#add trace on figure\n",
    "fig3.append_trace(trace3, 1, 1)\n",
    "fig3.append_trace(trace1, 1, 2)\n",
    "fig3.append_trace(trace4, 2, 1)\n",
    "fig3.append_trace(trace2, 2, 2)\n",
    "#afficher\n",
    "fig3.show()"
   ]
  },
  {
   "cell_type": "markdown",
   "id": "9cf98280",
   "metadata": {},
   "source": [
    "# Box Plot"
   ]
  },
  {
   "cell_type": "code",
   "execution_count": 10,
   "id": "2d7e0543",
   "metadata": {},
   "outputs": [
    {
     "data": {
      "application/vnd.plotly.v1+json": {
       "config": {
        "plotlyServerURL": "https://plot.ly"
       },
       "data": [
        {
         "marker": {
          "color": "blue"
         },
         "name": "Pospisil",
         "text": [
          "Player",
          "Player",
          "Player",
          "Player",
          "Player",
          "Player",
          "Player",
          "Player",
          "Player",
          "Player",
          "Player",
          "Player",
          "Player",
          "Player",
          "Player",
          "Player",
          "Player",
          "Player",
          "Player",
          "Player",
          "Player",
          "Player",
          "Player",
          "Player",
          "Player",
          "Player",
          "Player",
          "Player",
          "Player",
          "Player",
          "Player",
          "Player",
          "Player",
          "Player",
          "Player",
          "Player",
          "Player",
          "Player",
          "Player",
          "Player",
          "Player",
          "Player",
          "Player",
          "Player",
          "Player",
          "Player",
          "Player",
          "Player",
          "Player",
          "Player",
          "Player",
          "Player",
          "Player",
          "Player",
          "Player",
          "Player",
          "Player",
          "Player",
          "Player",
          "Player",
          "Player",
          "Player",
          "Player",
          "Player",
          "Player",
          "Player",
          "Player",
          "Player",
          "Player",
          "Player",
          "Player",
          "Player",
          "Player",
          "Player",
          "Player",
          "Player",
          "Player",
          "Player",
          "Player",
          "Player",
          "Player",
          "Player",
          "Player",
          "Player",
          "Player",
          "Player",
          "Player",
          "Player",
          "Player",
          "Player",
          "Player",
          "Player",
          "Player",
          "Player",
          "Player",
          "Player",
          "Player",
          "Player",
          "Player",
          "Player",
          "Player",
          "Player",
          "Player",
          "Player",
          "Player",
          "Player",
          "Player",
          "Player",
          "Player",
          "Player",
          "Player",
          "Player",
          "Player",
          "Player",
          "Player",
          "Player",
          "Player",
          "Player",
          "Player",
          "Player",
          "Player",
          "Player",
          "Player",
          "Player",
          "Player",
          "Player",
          "Player",
          "Player",
          "Player",
          "Player",
          "Player",
          "Player",
          "Player",
          "Player",
          "Player",
          "Player",
          "Player",
          "Player",
          "Player",
          "Player",
          "Player",
          "Player",
          "Player",
          "Player",
          "Player",
          "Player",
          "Player",
          "Player",
          "Player",
          "Player",
          "Player",
          "Player",
          "Player",
          "Player",
          "Player",
          "Player",
          "Player",
          "Player",
          "Player",
          "Player",
          "Player",
          "Player",
          "Player",
          "Player",
          "Player",
          "Player",
          "Player",
          "Player",
          "Player",
          "Player",
          "Player",
          "Player",
          "Player",
          "Player",
          "Player",
          "Player",
          "Player",
          "Player",
          "Player",
          "Player",
          "Player",
          "Player",
          "Player",
          "Player",
          "Player",
          "Player",
          "Player",
          "Player",
          "Player",
          "Player",
          "Player",
          "Player",
          "Player",
          "Player",
          "Player",
          "Player",
          "Player",
          "Player",
          "Player",
          "Player",
          "Player",
          "Player",
          "Player",
          "Player",
          "Player",
          "Player",
          "Player",
          "Player",
          "Player",
          "Player",
          "Player",
          "Player",
          "Player",
          "Player",
          "Player",
          "Player",
          "Player",
          "Player",
          "Player",
          "Player",
          "Player",
          "Player",
          "Player",
          "Player",
          "Player",
          "Player",
          "Player",
          "Player",
          "Player",
          "Player",
          "Player",
          "Player",
          "Player",
          "Player",
          "Player",
          "Player",
          "Player",
          "Player",
          "Player",
          "Player",
          "Player",
          "Player",
          "Player",
          "Player",
          "Player",
          "Player",
          "Player",
          "Player",
          "Player",
          "Player",
          "Player",
          "Player",
          "Player",
          "Player",
          "Player",
          "Player",
          "Player",
          "Player",
          "Player",
          "Player",
          "Player",
          "Player",
          "Player",
          "Player",
          "Player",
          "Player",
          "Player",
          "Player",
          "Player",
          "Player",
          "Player",
          "Player",
          "Player",
          "Player",
          "Player",
          "Player",
          "Player",
          "Player",
          "Player",
          "Player",
          "Player",
          "Player",
          "Player",
          "Player",
          "Player",
          "Player",
          "Player",
          "Player",
          "Player",
          "Player",
          "Player",
          "Player",
          "Player",
          "Player",
          "Player",
          "Player",
          "Player",
          "Player",
          "Player",
          "Player",
          "Player",
          "Player",
          "Player",
          "Player",
          "Player",
          "Player",
          "Player",
          "Player",
          "Player",
          "Player",
          "Player",
          "Player",
          "Player",
          "Player",
          "Player",
          "Player",
          "Player",
          "Player",
          "Player",
          "Player",
          "Player",
          "Player",
          "Player",
          "Player",
          "Player",
          "Player",
          "Player",
          "Player",
          "Player",
          "Player",
          "Player",
          "Player",
          "Player",
          "Player",
          "Player",
          "Player",
          "Player",
          "Player",
          "Player",
          "Player",
          "Player",
          "Player",
          "Player",
          "Player",
          "Player",
          "Player",
          "Player",
          "Player",
          "Player",
          "Player",
          "Player",
          "Player",
          "Player",
          "Player",
          "Player",
          "Player",
          "Player",
          "Player",
          "Player",
          "Player",
          "Player",
          "Player",
          "Player",
          "Player",
          "Player",
          "Player",
          "Player",
          "Player",
          "Player",
          "Player",
          "Player",
          "Player",
          "Player",
          "Player",
          "Player",
          "Player",
          "Player",
          "Player",
          "Player",
          "Player",
          "Player",
          "Player",
          "Player",
          "Player",
          "Player",
          "Player",
          "Player",
          "Player",
          "Player",
          "Player",
          "Player",
          "Player",
          "Player",
          "Player",
          "Player",
          "Player",
          "Player",
          "Player",
          "Player",
          "Player",
          "Player",
          "Player",
          "Player",
          "Player"
         ],
         "type": "box",
         "x": [
          "Serve",
          "Serve",
          "Forehand",
          "Serve",
          "Serve",
          "Serve",
          "Forehand",
          "Serve",
          "Serve",
          "Serve",
          "Serve",
          "Serve",
          "Backhand",
          "Backhand",
          "Backhand",
          "Backhand",
          "Backhand",
          "Forehand",
          "Forehand",
          "FH Volley",
          "Forehand",
          "Forehand",
          "Backhand",
          "Backhand",
          "Backhand",
          "Serve",
          "Serve",
          "Serve",
          "Serve",
          "Forehand",
          "Serve",
          "Serve",
          "Forehand",
          "Serve",
          "Forehand",
          "Serve",
          "Serve",
          "Backhand",
          "Serve",
          "Serve",
          "Forehand",
          "Forehand",
          "Forehand",
          "Backhand",
          "Forehand",
          "Forehand",
          "Backhand",
          "Forehand",
          "Backhand",
          "Serve",
          "Serve",
          "Forehand",
          "Forehand",
          "Serve",
          "Serve",
          "Forehand",
          "Serve",
          "Backhand",
          "Serve",
          "Backhand",
          "Backhand",
          "Forehand",
          "Forehand",
          "Forehand",
          "Forehand",
          "Forehand",
          "Backhand",
          "Backhand",
          "Forehand",
          "Serve",
          "BH Volley",
          "Serve",
          "Serve",
          "Serve",
          "Serve",
          "Forehand",
          "Serve",
          "Forehand",
          "Forehand",
          "Backhand",
          "Forehand",
          "Backhand",
          "Backhand",
          "Backhand",
          "Backhand",
          "Backhand",
          "Forehand",
          "Backhand",
          "Forehand",
          "Backhand",
          "Forehand",
          "Backhand",
          "Serve",
          "Forehand",
          "Forehand",
          "Forehand",
          "Backhand",
          "Forehand",
          "Backhand",
          "Backhand",
          "Backhand",
          "Serve",
          "Serve",
          "Serve",
          "Forehand",
          "Serve",
          "Serve",
          "Forehand",
          "Forehand",
          "Backhand",
          "Forehand",
          "Backhand",
          "Backhand",
          "Backhand",
          "Forehand",
          "Backhand",
          "Forehand",
          "Backhand",
          "Backhand",
          "Serve",
          "Serve",
          "Backhand",
          "Serve",
          "Serve",
          "Serve",
          "Forehand",
          "Serve",
          "Serve",
          "Backhand",
          "Backhand",
          "Forehand",
          "Forehand",
          "Forehand",
          "Backhand",
          "Serve",
          "Serve",
          "Serve",
          "Forehand",
          "Serve",
          "Serve",
          "Serve",
          "Backhand",
          "Backhand",
          "Backhand",
          "Forehand",
          "Forehand",
          "Backhand",
          "Backhand",
          "Backhand",
          "Forehand",
          "Forehand",
          "Backhand",
          "Backhand",
          "Backhand",
          "Backhand",
          "Backhand",
          "Backhand",
          "Backhand",
          "Backhand",
          "Forehand",
          "Serve",
          "Serve",
          "Forehand",
          "Serve",
          "Serve",
          "Forehand",
          "Backhand",
          "Serve",
          "Serve",
          "Serve",
          "Backhand",
          "Forehand",
          "Backhand",
          "Backhand",
          "Backhand",
          "Forehand",
          "Backhand",
          "Backhand",
          "Forehand",
          "Forehand",
          "Forehand",
          "Backhand",
          "Forehand",
          "Forehand",
          "Backhand",
          "Serve",
          "Forehand",
          "Forehand",
          "Serve",
          "Serve",
          "Backhand",
          "Backhand",
          "Serve",
          "Serve",
          "Serve",
          "Serve",
          "Serve",
          "Serve",
          "Serve",
          "Serve",
          "Backhand",
          "Backhand",
          "Forehand",
          "Backhand",
          "Serve",
          "Forehand",
          "Serve",
          "Forehand",
          "Serve",
          "Serve",
          "Serve",
          "Forehand",
          "Serve",
          "Serve",
          "Forehand",
          "Forehand",
          "Serve",
          "Serve",
          "Backhand",
          "Serve",
          "Serve",
          "Backhand",
          "Backhand",
          "Backhand",
          "Forehand",
          "Backhand",
          "Forehand",
          "Backhand",
          "Backhand",
          "Forehand",
          "Backhand",
          "Forehand",
          "Backhand",
          "Serve",
          "Serve",
          "Forehand",
          "Forehand",
          "Serve",
          "Serve",
          "Forehand",
          "Backhand",
          "Backhand",
          "Forehand",
          "Serve",
          "Serve",
          "Serve",
          "Serve",
          "Forehand",
          "Backhand",
          "Backhand",
          "Forehand",
          "Forehand",
          "Forehand",
          "Forehand",
          "Backhand",
          "Backhand",
          "Forehand",
          "Backhand",
          "Backhand",
          "Backhand",
          "Backhand",
          "Backhand",
          "Forehand",
          "Forehand",
          "Backhand",
          "Forehand",
          "Backhand",
          "Forehand",
          "Forehand",
          "Forehand",
          "Backhand",
          "Serve",
          "Serve",
          "Backhand",
          "Serve",
          "Serve",
          "Serve",
          "Serve",
          "Serve",
          "Forehand",
          "Serve",
          "Forehand",
          "Serve",
          "Forehand",
          "Backhand",
          "Serve",
          "Serve",
          "Serve",
          "Serve",
          "Serve",
          "Backhand",
          "Backhand",
          "Backhand",
          "Serve",
          "Forehand",
          "Serve",
          "Serve",
          "Backhand",
          "Serve",
          "Serve",
          "Forehand",
          "Serve",
          "Serve",
          "Serve",
          "Serve",
          "Backhand",
          "Serve",
          "Serve",
          "Forehand",
          "Serve",
          "Forehand",
          "Forehand",
          "Forehand",
          "Backhand",
          "Backhand",
          "Forehand",
          "Forehand",
          "Backhand",
          "Backhand",
          "Backhand",
          "Backhand",
          "Backhand",
          "Forehand",
          "Forehand",
          "Forehand",
          "Backhand",
          "Backhand",
          "Backhand",
          "BH Volley",
          "Serve",
          "Serve",
          "Serve",
          "Forehand",
          "FH Volley",
          "Backhand",
          "Serve",
          "Serve",
          "Serve",
          "Serve",
          "Serve",
          "Serve",
          "Forehand",
          "Forehand",
          "Forehand",
          "Forehand",
          "Forehand",
          "Backhand",
          "Backhand",
          "Forehand",
          "Backhand",
          "Forehand",
          "Forehand",
          "Backhand",
          "Backhand",
          "Serve",
          "Serve",
          "Serve",
          "Forehand",
          "Serve",
          "Forehand",
          "Serve",
          "Serve",
          "Serve",
          "Forehand",
          "Backhand",
          "Backhand",
          "Backhand",
          "Backhand",
          "Forehand",
          "Backhand",
          "Backhand",
          "Forehand",
          "Backhand",
          "Serve",
          "Serve",
          "Forehand",
          "Forehand",
          "Forehand",
          "Serve",
          "Serve",
          "Serve",
          "FH Volley",
          "Serve",
          "Backhand",
          "Forehand",
          "Backhand",
          "Backhand",
          "Backhand",
          "Backhand",
          "Forehand",
          "BH Volley",
          "Overhead",
          "Backhand",
          "Forehand",
          "Forehand",
          "Backhand",
          "Backhand",
          "Backhand",
          "Backhand",
          "Backhand",
          "Forehand",
          "Forehand",
          "Backhand",
          "Forehand"
         ],
         "y": [
          166.363281,
          126.269508,
          104.31604,
          110.567711,
          94.473465,
          143.428314,
          121.841362,
          73.324745,
          127.867363,
          138.194534,
          126.758484,
          135.053497,
          79.956505,
          91.414658,
          73.998878,
          74.146561,
          104.52829,
          93.485207,
          121.069,
          34.843319,
          95.097328,
          115.525398,
          118.767845,
          86.101639,
          84.314781,
          null,
          null,
          202.078918,
          142.025299,
          90.916985,
          118.871452,
          149.150208,
          67.103271,
          145.843109,
          82.811913,
          91.834106,
          130.675079,
          61.988026,
          106.161484,
          128.59906,
          84.027985,
          111.239662,
          44.010815,
          81.525917,
          83.750565,
          114.510849,
          90.102036,
          75.569321,
          58.510414,
          162.567688,
          116.530983,
          105.710678,
          91.767555,
          118.566048,
          151.512466,
          86.306305,
          107.916283,
          46.474094,
          166.588196,
          70.724823,
          84.438766,
          138.880661,
          63.228535,
          84.436371,
          86.179657,
          97.699677,
          69.413628,
          85.293709,
          121.33844,
          170.821655,
          40.418251,
          154.751205,
          154.898346,
          130.818054,
          155.280899,
          127.517418,
          101.542831,
          108.328445,
          103.934494,
          75.324425,
          97.880081,
          72.063347,
          104.394722,
          82.689667,
          78.894096,
          89.828743,
          64.099289,
          50.891689,
          99.038742,
          97.112473,
          77.71389,
          80.595032,
          163.357452,
          125.979408,
          98.370522,
          94.703575,
          89.421379,
          79.874977,
          76.715416,
          89.300713,
          48.83049,
          117.779854,
          103.141624,
          137.174225,
          56.267689,
          116.436615,
          130.692291,
          119.212532,
          111.507843,
          103.037651,
          110.053825,
          102.579086,
          64.824509,
          83.374557,
          99.723221,
          75.372879,
          101.58757,
          100.074409,
          90.615829,
          202.92749,
          147.999054,
          93.822716,
          109.466087,
          149.704681,
          139.339661,
          null,
          115.618561,
          135.313019,
          null,
          58.906158,
          56.032978,
          84.942688,
          78.911583,
          76.619614,
          107.96489,
          115.190155,
          132.793442,
          99.720215,
          114.319725,
          167.104736,
          95.396133,
          62.116451,
          86.827126,
          96.118919,
          105.111687,
          110.076195,
          74.431427,
          107.344002,
          65.012672,
          null,
          81.574692,
          99.316261,
          54.644333,
          85.343544,
          93.622231,
          105.564514,
          93.525055,
          58.328079,
          96.813133,
          75.271919,
          143.221832,
          136.398071,
          114.468361,
          155.070816,
          126.443092,
          84.297203,
          95.213593,
          154.441208,
          183.113083,
          161.313736,
          83.81208,
          100.262436,
          94.648323,
          56.252804,
          79.944664,
          76.249451,
          65.513748,
          89.729584,
          71.59185,
          75.004112,
          82.63858,
          74.091499,
          71.737671,
          87.21228,
          67.348473,
          121.712097,
          120.145248,
          101.80085,
          119.387024,
          134.158463,
          84.818176,
          80.718765,
          129.042877,
          121.17334,
          135.090347,
          152.753952,
          129.669327,
          113.434662,
          153.051682,
          118.806915,
          94.847885,
          85.391418,
          95.776047,
          48.105331,
          180.330566,
          105.627739,
          135.720139,
          82.501259,
          132.201553,
          74.454147,
          85.16597,
          64.166283,
          116.556107,
          108.578003,
          120.979195,
          102.330452,
          106.854721,
          136.039459,
          110.440819,
          136.517929,
          null,
          54.995796,
          56.766331,
          88.748413,
          81.118553,
          80.866776,
          107.601669,
          92.904495,
          60.391788,
          99.99205,
          76.2211,
          101.565132,
          68.505493,
          145.279877,
          123.616066,
          88.538849,
          83.194145,
          137.554901,
          134.507645,
          109.964584,
          89.422569,
          95.608978,
          80.951851,
          117.690926,
          104.662872,
          null,
          128.672958,
          105.05658,
          80.326012,
          43.053253,
          109.397995,
          104.398537,
          61.173656,
          76.783554,
          76.932816,
          93.613075,
          111.530174,
          80.912575,
          102.222694,
          62.948002,
          85.263618,
          null,
          61.210506,
          72.850906,
          106.404999,
          84.137634,
          85.851707,
          50.228252,
          111.361702,
          98.696945,
          69.297447,
          75.73069,
          202.92749,
          67.717346,
          113.048912,
          129.566254,
          160.489914,
          167.093231,
          126.122849,
          110.438393,
          137.860275,
          98.722023,
          195.680084,
          77.910851,
          80.865227,
          147.709503,
          138.063553,
          166.00827,
          39.504692,
          144.974869,
          71.761978,
          106.902702,
          69.902679,
          173.839478,
          93.031387,
          85.143394,
          127.729301,
          86.12738,
          117.379631,
          140.661072,
          140.488266,
          156.220749,
          169.817673,
          182.429214,
          147.525787,
          80.72065,
          88.048271,
          70.584976,
          95.641655,
          null,
          82.334251,
          109.926048,
          81.352936,
          75.247459,
          91.167564,
          84.74485,
          89.411003,
          80.58371,
          83.268433,
          70.062775,
          72.031609,
          68.557838,
          85.795036,
          52.65398,
          95.348717,
          62.926521,
          85.720016,
          78.243675,
          null,
          135.886673,
          103.02195,
          92.79023,
          99.135323,
          30.662121,
          50.996513,
          41.277985,
          126.525276,
          136.243988,
          148.107407,
          143.164764,
          138.738632,
          81.068451,
          92.920174,
          91.762733,
          106.598984,
          86.8209,
          98.408073,
          59.253536,
          80.688751,
          72.773949,
          103.144081,
          103.109367,
          66.468361,
          70.524216,
          155.03595,
          125.152107,
          154.221817,
          126.233253,
          155.912399,
          113.105652,
          159.646866,
          124.248093,
          158.792389,
          111.416878,
          58.281216,
          54.479652,
          70.793716,
          79.14386,
          80.363235,
          80.585121,
          75.026657,
          56.75943,
          85.688118,
          146.827042,
          114.806137,
          91.487587,
          57.384197,
          99.732674,
          93.197632,
          112.485161,
          96.524864,
          37.630787,
          166.442978,
          106.515503,
          104.619637,
          100.012917,
          88.348358,
          78.488785,
          166.690445,
          108.673271,
          27.874657,
          36.237053,
          96.001213,
          61.594387,
          64.45385,
          66.683228,
          85.09304,
          92.536499,
          75.055977,
          76.267067,
          120.567772,
          111.376595,
          88.921425,
          99.088295
         ]
        },
        {
         "marker": {
          "color": "red"
         },
         "name": "Wolf",
         "text": [
          "Opponent",
          "Opponent",
          "Opponent",
          "Opponent",
          "Opponent",
          "Opponent",
          "Opponent",
          "Opponent",
          "Opponent",
          "Opponent",
          "Opponent",
          "Opponent",
          "Opponent",
          "Opponent",
          "Opponent",
          "Opponent",
          "Opponent",
          "Opponent",
          "Opponent",
          "Opponent",
          "Opponent",
          "Opponent",
          "Opponent",
          "Opponent",
          "Opponent",
          "Opponent",
          "Opponent",
          "Opponent",
          "Opponent",
          "Opponent",
          "Opponent",
          "Opponent",
          "Opponent",
          "Opponent",
          "Opponent",
          "Opponent",
          "Opponent",
          "Opponent",
          "Opponent",
          "Opponent",
          "Opponent",
          "Opponent",
          "Opponent",
          "Opponent",
          "Opponent",
          "Opponent",
          "Opponent",
          "Opponent",
          "Opponent",
          "Opponent",
          "Opponent",
          "Opponent",
          "Opponent",
          "Opponent",
          "Opponent",
          "Opponent",
          "Opponent",
          "Opponent",
          "Opponent",
          "Opponent",
          "Opponent",
          "Opponent",
          "Opponent",
          "Opponent",
          "Opponent",
          "Opponent",
          "Opponent",
          "Opponent",
          "Opponent",
          "Opponent",
          "Opponent",
          "Opponent",
          "Opponent",
          "Opponent",
          "Opponent",
          "Opponent",
          "Opponent",
          "Opponent",
          "Opponent",
          "Opponent",
          "Opponent",
          "Opponent",
          "Opponent",
          "Opponent",
          "Opponent",
          "Opponent",
          "Opponent",
          "Opponent",
          "Opponent",
          "Opponent",
          "Opponent",
          "Opponent",
          "Opponent",
          "Opponent",
          "Opponent",
          "Opponent",
          "Opponent",
          "Opponent",
          "Opponent",
          "Opponent",
          "Opponent",
          "Opponent",
          "Opponent",
          "Opponent",
          "Opponent",
          "Opponent",
          "Opponent",
          "Opponent",
          "Opponent",
          "Opponent",
          "Opponent",
          "Opponent",
          "Opponent",
          "Opponent",
          "Opponent",
          "Opponent",
          "Opponent",
          "Opponent",
          "Opponent",
          "Opponent",
          "Opponent",
          "Opponent",
          "Opponent",
          "Opponent",
          "Opponent",
          "Opponent",
          "Opponent",
          "Opponent",
          "Opponent",
          "Opponent",
          "Opponent",
          "Opponent",
          "Opponent",
          "Opponent",
          "Opponent",
          "Opponent",
          "Opponent",
          "Opponent",
          "Opponent",
          "Opponent",
          "Opponent",
          "Opponent",
          "Opponent",
          "Opponent",
          "Opponent",
          "Opponent",
          "Opponent",
          "Opponent",
          "Opponent",
          "Opponent",
          "Opponent",
          "Opponent",
          "Opponent",
          "Opponent",
          "Opponent",
          "Opponent",
          "Opponent",
          "Opponent",
          "Opponent",
          "Opponent",
          "Opponent",
          "Opponent",
          "Opponent",
          "Opponent",
          "Opponent",
          "Opponent",
          "Opponent",
          "Opponent",
          "Opponent",
          "Opponent",
          "Opponent",
          "Opponent",
          "Opponent",
          "Opponent",
          "Opponent",
          "Opponent",
          "Opponent",
          "Opponent",
          "Opponent",
          "Opponent",
          "Opponent",
          "Opponent",
          "Opponent",
          "Opponent",
          "Opponent",
          "Opponent",
          "Opponent",
          "Opponent",
          "Opponent",
          "Opponent",
          "Opponent",
          "Opponent",
          "Opponent",
          "Opponent",
          "Opponent",
          "Opponent",
          "Opponent",
          "Opponent",
          "Opponent",
          "Opponent",
          "Opponent",
          "Opponent",
          "Opponent",
          "Opponent",
          "Opponent",
          "Opponent",
          "Opponent",
          "Opponent",
          "Opponent",
          "Opponent",
          "Opponent",
          "Opponent",
          "Opponent",
          "Opponent",
          "Opponent",
          "Opponent",
          "Opponent",
          "Opponent",
          "Opponent",
          "Opponent",
          "Opponent",
          "Opponent",
          "Opponent",
          "Opponent",
          "Opponent",
          "Opponent",
          "Opponent",
          "Opponent",
          "Opponent",
          "Opponent",
          "Opponent",
          "Opponent",
          "Opponent",
          "Opponent",
          "Opponent",
          "Opponent",
          "Opponent",
          "Opponent",
          "Opponent",
          "Opponent",
          "Opponent",
          "Opponent",
          "Opponent",
          "Opponent",
          "Opponent",
          "Opponent",
          "Opponent",
          "Opponent",
          "Opponent",
          "Opponent",
          "Opponent",
          "Opponent",
          "Opponent",
          "Opponent",
          "Opponent",
          "Opponent",
          "Opponent",
          "Opponent",
          "Opponent",
          "Opponent",
          "Opponent",
          "Opponent",
          "Opponent",
          "Opponent",
          "Opponent",
          "Opponent",
          "Opponent",
          "Opponent",
          "Opponent",
          "Opponent",
          "Opponent",
          "Opponent",
          "Opponent",
          "Opponent",
          "Opponent",
          "Opponent",
          "Opponent",
          "Opponent",
          "Opponent",
          "Opponent",
          "Opponent",
          "Opponent",
          "Opponent",
          "Opponent",
          "Opponent",
          "Opponent",
          "Opponent",
          "Opponent",
          "Opponent",
          "Opponent",
          "Opponent",
          "Opponent",
          "Opponent",
          "Opponent",
          "Opponent",
          "Opponent",
          "Opponent",
          "Opponent",
          "Opponent",
          "Opponent",
          "Opponent",
          "Opponent",
          "Opponent",
          "Opponent",
          "Opponent",
          "Opponent",
          "Opponent",
          "Opponent",
          "Opponent",
          "Opponent",
          "Opponent",
          "Opponent",
          "Opponent",
          "Opponent",
          "Opponent",
          "Opponent",
          "Opponent",
          "Opponent",
          "Opponent",
          "Opponent",
          "Opponent",
          "Opponent",
          "Opponent",
          "Opponent",
          "Opponent",
          "Opponent",
          "Opponent",
          "Opponent",
          "Opponent",
          "Opponent",
          "Opponent",
          "Opponent",
          "Opponent",
          "Opponent",
          "Opponent",
          "Opponent",
          "Opponent",
          "Opponent",
          "Opponent",
          "Opponent",
          "Opponent",
          "Opponent",
          "Opponent",
          "Opponent",
          "Opponent",
          "Opponent",
          "Opponent",
          "Opponent",
          "Opponent",
          "Opponent",
          "Opponent",
          "Opponent",
          "Opponent",
          "Opponent",
          "Opponent",
          "Opponent",
          "Opponent",
          "Opponent",
          "Opponent",
          "Opponent",
          "Opponent",
          "Opponent",
          "Opponent",
          "Opponent",
          "Opponent",
          "Opponent",
          "Opponent",
          "Opponent",
          "Opponent",
          "Opponent",
          "Opponent",
          "Opponent",
          "Opponent",
          "Opponent",
          "Opponent",
          "Opponent",
          "Opponent",
          "Opponent",
          "Opponent",
          "Opponent",
          "Opponent",
          "Opponent",
          "Opponent",
          "Opponent",
          "Opponent",
          "Opponent",
          "Opponent",
          "Opponent",
          "Opponent",
          "Opponent",
          "Opponent",
          "Opponent"
         ],
         "type": "box",
         "x": [
          "Backhand",
          "Forehand",
          "Backhand",
          "Backhand",
          "Backhand",
          "Serve",
          "Serve",
          "Serve",
          "Forehand",
          "Backhand",
          "Serve",
          "Serve",
          "Forehand",
          "Forehand",
          "Backhand",
          "Backhand",
          "Serve",
          "Forehand",
          "Serve",
          "Serve",
          "Forehand",
          "Serve",
          "Serve",
          "Forehand",
          "Forehand",
          "Backhand",
          "Forehand",
          "Backhand",
          "Backhand",
          "Backhand",
          "Forehand",
          "Forehand",
          "Forehand",
          "Backhand",
          "Serve",
          "Forehand",
          "Serve",
          "Forehand",
          "Serve",
          "Serve",
          "Serve",
          "Serve",
          "Forehand",
          "Forehand",
          "Serve",
          "Forehand",
          "BH Volley",
          "Backhand",
          "Forehand",
          "Forehand",
          "Forehand",
          "Forehand",
          "Backhand",
          "Backhand",
          "Forehand",
          "Serve",
          "Forehand",
          "Backhand",
          "Forehand",
          "Serve",
          "Serve",
          "Backhand",
          "Forehand",
          "Serve",
          "Serve",
          "FH Volley",
          "Serve",
          "Backhand",
          "Forehand",
          "Backhand",
          "Forehand",
          "Forehand",
          "Forehand",
          "Serve",
          "Serve",
          "Serve",
          "Serve",
          "Serve",
          "Backhand",
          "Forehand",
          "Backhand",
          "Serve",
          "Serve",
          "Serve",
          "Forehand",
          "Serve",
          "Forehand",
          "Forehand",
          "Serve",
          "Forehand",
          "Serve",
          "Serve",
          "Forehand",
          "Forehand",
          "Forehand",
          "Backhand",
          "Forehand",
          "Forehand",
          "Forehand",
          "Backhand",
          "Backhand",
          "Backhand",
          "Forehand",
          "Forehand",
          "Backhand",
          "Serve",
          "Forehand",
          "FH Volley",
          "BH Volley",
          "Serve",
          "Serve",
          "Forehand",
          "Serve",
          "Serve",
          "Serve",
          "Serve",
          "Serve",
          "Backhand",
          "Backhand",
          "Forehand",
          "Serve",
          "Serve",
          "Forehand",
          "Forehand",
          "Backhand",
          "Backhand",
          "Forehand",
          "Forehand",
          "Serve",
          "Forehand",
          "Overhead",
          "Serve",
          "Serve",
          "Serve",
          "Serve",
          "Forehand",
          "Backhand",
          "Backhand",
          "Forehand",
          "Backhand",
          "Forehand",
          "Forehand",
          "Serve",
          "Serve",
          "Forehand",
          "Forehand",
          "Serve",
          "Serve",
          "Backhand",
          "Serve",
          "Backhand",
          "Backhand",
          "Serve",
          "Forehand",
          "Serve",
          "Serve",
          "Forehand",
          "Backhand",
          "Backhand",
          "Serve",
          "Serve",
          "Forehand",
          "Serve",
          "Serve",
          "Forehand",
          "Serve",
          "Forehand",
          "Backhand",
          "Backhand",
          "Forehand",
          "Forehand",
          "Forehand",
          "Serve",
          "Serve",
          "Backhand",
          "Forehand",
          "Serve",
          "Overhead",
          "Serve",
          "Forehand",
          "Forehand",
          "Forehand",
          "Backhand",
          "Serve",
          "Forehand",
          "Forehand",
          "BH Volley",
          "FH Volley",
          "Serve",
          "Serve",
          "Forehand",
          "Backhand",
          "Backhand",
          "Backhand",
          "Backhand",
          "Backhand",
          "Forehand",
          "Serve",
          "Serve",
          "Forehand",
          "Serve",
          "Serve",
          "Forehand",
          "Forehand",
          "Backhand",
          "Forehand",
          "Backhand",
          "Backhand",
          "Forehand",
          "Forehand",
          "Backhand",
          "Forehand",
          "Serve",
          "Serve",
          "Serve",
          "Forehand",
          "Forehand",
          "Forehand",
          "Forehand",
          "Serve",
          "Forehand",
          "Backhand",
          "Serve",
          "Serve",
          "Backhand",
          "Backhand",
          "Serve",
          "Serve",
          "Forehand",
          "Forehand",
          "Backhand",
          "Backhand",
          "Backhand",
          "Backhand",
          "Backhand",
          "Backhand",
          "Backhand",
          "Forehand",
          "Serve",
          "Backhand",
          "Serve",
          "Serve",
          "Serve",
          "Forehand",
          "Serve",
          "Forehand",
          "Serve",
          "Serve",
          "Forehand",
          "Serve",
          "Serve",
          "Forehand",
          "Forehand",
          "Forehand",
          "Backhand",
          "Forehand",
          "Serve",
          "Serve",
          "Forehand",
          "Serve",
          "Forehand",
          "Forehand",
          "Forehand",
          "Serve",
          "Forehand",
          "Serve",
          "Serve",
          "Backhand",
          "Backhand",
          "Backhand",
          "Backhand",
          "Forehand",
          "Forehand",
          "Forehand",
          "Forehand",
          "Forehand",
          "Forehand",
          "Forehand",
          "Backhand",
          "Forehand",
          "Forehand",
          "Forehand",
          "Backhand",
          "Forehand",
          "Forehand",
          "Backhand",
          "Backhand",
          "Forehand",
          "Forehand",
          "Forehand",
          "Backhand",
          "Forehand",
          "Forehand",
          "Forehand",
          "Forehand",
          "Backhand",
          "Backhand",
          "Serve",
          "Forehand",
          "Serve",
          "Serve",
          "Serve",
          "Backhand",
          "Backhand",
          "FH Volley",
          "Serve",
          "Backhand",
          "Serve",
          "Forehand",
          "BH Volley",
          "Serve",
          "Backhand",
          "Forehand",
          "Forehand",
          "Backhand",
          "Backhand",
          "Forehand",
          "Backhand",
          "Forehand",
          "Forehand",
          "Forehand",
          "Forehand",
          "Forehand",
          "Serve",
          "Forehand",
          "Backhand",
          "Serve",
          "Serve",
          "Serve",
          "Serve",
          "Forehand",
          "Forehand",
          "Backhand",
          "Forehand",
          "Serve",
          "Serve",
          "Forehand",
          "Serve",
          "Serve",
          "Forehand",
          "Forehand",
          "Backhand",
          "Forehand",
          "Backhand",
          "Backhand",
          "Serve",
          "Serve",
          "Forehand",
          "BH Volley",
          "Serve",
          "Serve",
          "Forehand",
          "Serve",
          "Forehand",
          "BH Volley",
          "Serve",
          "Serve",
          "Backhand",
          "Backhand",
          "Forehand",
          "Forehand",
          "Backhand",
          "Forehand",
          "Backhand",
          "Serve",
          "Serve",
          "Serve",
          "Forehand",
          "Forehand",
          "Serve",
          "Serve",
          "Backhand",
          "Backhand",
          "Forehand",
          "Serve",
          "Serve",
          "Forehand",
          "Serve",
          "Forehand",
          "Serve",
          "Forehand",
          "Serve",
          "Serve",
          "Forehand",
          "Backhand",
          "Backhand",
          "Backhand",
          "Forehand",
          "Serve",
          "Serve",
          "Forehand",
          "Backhand"
         ],
         "y": [
          70.656006,
          90.118004,
          78.757332,
          107.008484,
          115.401077,
          122.690895,
          86.152313,
          90.455971,
          120.514259,
          93.383263,
          73.279663,
          95.120171,
          77.21286,
          93.235603,
          92.444786,
          57.347374,
          145.696243,
          85.205666,
          103.562408,
          118.513489,
          100.287956,
          122.950623,
          111.271889,
          96.919159,
          53.398014,
          null,
          null,
          66.082611,
          87.971054,
          75.404854,
          86.140068,
          76.985634,
          87.684532,
          81.28093,
          133.400818,
          64.797531,
          156.245361,
          108.106529,
          152.219467,
          118.648102,
          195.680084,
          148.512756,
          101.999512,
          110.913551,
          130.91246,
          116.628853,
          37.630787,
          96.83992,
          106.468567,
          98.102432,
          84.601158,
          100.454239,
          76.658569,
          95.573479,
          82.496483,
          117.708092,
          106.503769,
          99.611221,
          92.537392,
          98.843224,
          135.849808,
          80.854759,
          80.580467,
          153.187195,
          80.778633,
          30.662121,
          150.456055,
          97.309517,
          65.942314,
          75.042953,
          120.011848,
          92.029716,
          91.968422,
          140.353561,
          136.05043,
          139.344574,
          128.304657,
          79.032303,
          75.473129,
          87.430115,
          101.75074,
          158.218857,
          158.14296,
          113.648621,
          null,
          140.74617,
          94.530067,
          81.087166,
          110.305969,
          117.396713,
          106.487129,
          143.730392,
          95.949615,
          106.416443,
          110.663696,
          48.324123,
          83.322456,
          89.970474,
          94.439377,
          113.489487,
          123.250603,
          109.298531,
          91.248871,
          82.073555,
          87.755569,
          107.853889,
          91.986244,
          30.662121,
          29.268389,
          91.782944,
          138.085907,
          87.014381,
          131.86058,
          124.574211,
          108.9188,
          123.60685,
          121.899208,
          71.458107,
          88.413597,
          84.286644,
          142.643265,
          95.623726,
          86.265938,
          59.372974,
          89.867363,
          51.779488,
          75.831337,
          112.212112,
          121.958916,
          122.90451,
          201.255249,
          152.574997,
          136.381332,
          117.978516,
          209.089432,
          85.485176,
          78.697899,
          89.176834,
          93.571404,
          87.594299,
          104.283287,
          34.756573,
          161.844543,
          124.04174,
          90.962761,
          94.144615,
          124.911072,
          137.589569,
          68.084602,
          153.740936,
          72.454666,
          97.380569,
          null,
          59.405151,
          129.598526,
          126.181213,
          92.110268,
          50.292553,
          106.643478,
          122.471291,
          119.482353,
          82.973419,
          133.452988,
          103.386101,
          89.15744,
          130.562592,
          93.199921,
          62.44315,
          76.718819,
          90.183571,
          67.941765,
          41.97179,
          111.982384,
          121.374367,
          94.649712,
          80.972885,
          150.820419,
          115.781219,
          118.858398,
          107.963333,
          102.877914,
          96.550537,
          107.338608,
          145.752823,
          122.92408,
          102.892982,
          32.055855,
          33.449589,
          71.547913,
          127.601143,
          78.457787,
          61.307163,
          119.307358,
          82.017311,
          107.381119,
          111.443825,
          90.833778,
          129.603714,
          111.897949,
          84.39032,
          96.033112,
          162.539124,
          72.225868,
          86.223366,
          79.637161,
          93.042175,
          75.024361,
          67.0933,
          106.3004,
          90.870918,
          83.007202,
          null,
          158.131424,
          123.613251,
          120.102486,
          91.757278,
          80.429634,
          65.974373,
          94.765564,
          143.794876,
          101.096817,
          99.011398,
          161.609024,
          137.280319,
          67.767151,
          94.539886,
          107.473808,
          120.233162,
          81.73539,
          94.267609,
          87.147369,
          70.153214,
          89.807037,
          103.30117,
          115.428879,
          75.9813,
          56.099045,
          92.670494,
          131.457169,
          52.239952,
          120.351379,
          121.886116,
          103.920456,
          101.640282,
          129.19957,
          85.677635,
          118.707924,
          77.206642,
          83.614464,
          102.517731,
          104.770317,
          91.025345,
          94.423668,
          94.603905,
          89.87175,
          92.291962,
          186.726456,
          124.10041,
          106.865097,
          148.704697,
          81.016502,
          74.017044,
          76.978638,
          138.765366,
          102.859428,
          125.844757,
          120.81855,
          77.267578,
          97.795929,
          94.240364,
          96.586037,
          92.586441,
          79.858284,
          110.640625,
          90.076088,
          73.599686,
          87.986511,
          101.398796,
          93.220116,
          96.890099,
          71.892464,
          81.026039,
          77.179565,
          99.533524,
          63.170124,
          74.655777,
          68.357719,
          52.867352,
          108.115639,
          85.017792,
          90.365685,
          83.801361,
          75.0522,
          90.097733,
          90.257088,
          84.67408,
          85.257851,
          57.232807,
          76.793213,
          172.482666,
          57.09539,
          125.332176,
          108.933151,
          141.361313,
          29.268389,
          152.479935,
          82.221428,
          118.955734,
          130.453384,
          33.449589,
          164.048965,
          95.844696,
          43.786263,
          42.866737,
          143.220657,
          75.383812,
          74.807152,
          82.154266,
          62.067387,
          86.852219,
          84.629601,
          96.841362,
          45.38821,
          122.134148,
          80.569115,
          89.750084,
          127.108749,
          108.111275,
          106.788429,
          118.314034,
          73.379448,
          70.914108,
          96.334717,
          76.182945,
          109.685471,
          102.299561,
          121.711143,
          131.403687,
          131.795212,
          54.019962,
          71.755188,
          82.959129,
          89.007858,
          57.006466,
          62.732357,
          139.232071,
          145.492859,
          122.545731,
          null,
          129.98027,
          144.249161,
          71.782753,
          140.227371,
          120.41851,
          27.874657,
          125.210449,
          134.486435,
          87.55764,
          98.009247,
          82.743904,
          65.512909,
          79.475365,
          126.065819,
          79.323601,
          146.146027,
          103.849907,
          102.897476,
          90.169418,
          93.291031,
          127.228989,
          null,
          89.314499,
          56.647644,
          65.816864,
          123.205063,
          133.295303,
          81.050453,
          97.957962,
          119.100906,
          105.740318,
          99.644402,
          83.394539,
          87.327179,
          77.291489,
          106.907539,
          79.697868,
          93.371613,
          127.210625,
          133.9729,
          118.228752,
          84.247383,
          51.100441
         ]
        }
       ],
       "layout": {
        "template": {
         "data": {
          "bar": [
           {
            "error_x": {
             "color": "#2a3f5f"
            },
            "error_y": {
             "color": "#2a3f5f"
            },
            "marker": {
             "line": {
              "color": "#E5ECF6",
              "width": 0.5
             },
             "pattern": {
              "fillmode": "overlay",
              "size": 10,
              "solidity": 0.2
             }
            },
            "type": "bar"
           }
          ],
          "barpolar": [
           {
            "marker": {
             "line": {
              "color": "#E5ECF6",
              "width": 0.5
             },
             "pattern": {
              "fillmode": "overlay",
              "size": 10,
              "solidity": 0.2
             }
            },
            "type": "barpolar"
           }
          ],
          "carpet": [
           {
            "aaxis": {
             "endlinecolor": "#2a3f5f",
             "gridcolor": "white",
             "linecolor": "white",
             "minorgridcolor": "white",
             "startlinecolor": "#2a3f5f"
            },
            "baxis": {
             "endlinecolor": "#2a3f5f",
             "gridcolor": "white",
             "linecolor": "white",
             "minorgridcolor": "white",
             "startlinecolor": "#2a3f5f"
            },
            "type": "carpet"
           }
          ],
          "choropleth": [
           {
            "colorbar": {
             "outlinewidth": 0,
             "ticks": ""
            },
            "type": "choropleth"
           }
          ],
          "contour": [
           {
            "colorbar": {
             "outlinewidth": 0,
             "ticks": ""
            },
            "colorscale": [
             [
              0,
              "#0d0887"
             ],
             [
              0.1111111111111111,
              "#46039f"
             ],
             [
              0.2222222222222222,
              "#7201a8"
             ],
             [
              0.3333333333333333,
              "#9c179e"
             ],
             [
              0.4444444444444444,
              "#bd3786"
             ],
             [
              0.5555555555555556,
              "#d8576b"
             ],
             [
              0.6666666666666666,
              "#ed7953"
             ],
             [
              0.7777777777777778,
              "#fb9f3a"
             ],
             [
              0.8888888888888888,
              "#fdca26"
             ],
             [
              1,
              "#f0f921"
             ]
            ],
            "type": "contour"
           }
          ],
          "contourcarpet": [
           {
            "colorbar": {
             "outlinewidth": 0,
             "ticks": ""
            },
            "type": "contourcarpet"
           }
          ],
          "heatmap": [
           {
            "colorbar": {
             "outlinewidth": 0,
             "ticks": ""
            },
            "colorscale": [
             [
              0,
              "#0d0887"
             ],
             [
              0.1111111111111111,
              "#46039f"
             ],
             [
              0.2222222222222222,
              "#7201a8"
             ],
             [
              0.3333333333333333,
              "#9c179e"
             ],
             [
              0.4444444444444444,
              "#bd3786"
             ],
             [
              0.5555555555555556,
              "#d8576b"
             ],
             [
              0.6666666666666666,
              "#ed7953"
             ],
             [
              0.7777777777777778,
              "#fb9f3a"
             ],
             [
              0.8888888888888888,
              "#fdca26"
             ],
             [
              1,
              "#f0f921"
             ]
            ],
            "type": "heatmap"
           }
          ],
          "heatmapgl": [
           {
            "colorbar": {
             "outlinewidth": 0,
             "ticks": ""
            },
            "colorscale": [
             [
              0,
              "#0d0887"
             ],
             [
              0.1111111111111111,
              "#46039f"
             ],
             [
              0.2222222222222222,
              "#7201a8"
             ],
             [
              0.3333333333333333,
              "#9c179e"
             ],
             [
              0.4444444444444444,
              "#bd3786"
             ],
             [
              0.5555555555555556,
              "#d8576b"
             ],
             [
              0.6666666666666666,
              "#ed7953"
             ],
             [
              0.7777777777777778,
              "#fb9f3a"
             ],
             [
              0.8888888888888888,
              "#fdca26"
             ],
             [
              1,
              "#f0f921"
             ]
            ],
            "type": "heatmapgl"
           }
          ],
          "histogram": [
           {
            "marker": {
             "pattern": {
              "fillmode": "overlay",
              "size": 10,
              "solidity": 0.2
             }
            },
            "type": "histogram"
           }
          ],
          "histogram2d": [
           {
            "colorbar": {
             "outlinewidth": 0,
             "ticks": ""
            },
            "colorscale": [
             [
              0,
              "#0d0887"
             ],
             [
              0.1111111111111111,
              "#46039f"
             ],
             [
              0.2222222222222222,
              "#7201a8"
             ],
             [
              0.3333333333333333,
              "#9c179e"
             ],
             [
              0.4444444444444444,
              "#bd3786"
             ],
             [
              0.5555555555555556,
              "#d8576b"
             ],
             [
              0.6666666666666666,
              "#ed7953"
             ],
             [
              0.7777777777777778,
              "#fb9f3a"
             ],
             [
              0.8888888888888888,
              "#fdca26"
             ],
             [
              1,
              "#f0f921"
             ]
            ],
            "type": "histogram2d"
           }
          ],
          "histogram2dcontour": [
           {
            "colorbar": {
             "outlinewidth": 0,
             "ticks": ""
            },
            "colorscale": [
             [
              0,
              "#0d0887"
             ],
             [
              0.1111111111111111,
              "#46039f"
             ],
             [
              0.2222222222222222,
              "#7201a8"
             ],
             [
              0.3333333333333333,
              "#9c179e"
             ],
             [
              0.4444444444444444,
              "#bd3786"
             ],
             [
              0.5555555555555556,
              "#d8576b"
             ],
             [
              0.6666666666666666,
              "#ed7953"
             ],
             [
              0.7777777777777778,
              "#fb9f3a"
             ],
             [
              0.8888888888888888,
              "#fdca26"
             ],
             [
              1,
              "#f0f921"
             ]
            ],
            "type": "histogram2dcontour"
           }
          ],
          "mesh3d": [
           {
            "colorbar": {
             "outlinewidth": 0,
             "ticks": ""
            },
            "type": "mesh3d"
           }
          ],
          "parcoords": [
           {
            "line": {
             "colorbar": {
              "outlinewidth": 0,
              "ticks": ""
             }
            },
            "type": "parcoords"
           }
          ],
          "pie": [
           {
            "automargin": true,
            "type": "pie"
           }
          ],
          "scatter": [
           {
            "marker": {
             "colorbar": {
              "outlinewidth": 0,
              "ticks": ""
             }
            },
            "type": "scatter"
           }
          ],
          "scatter3d": [
           {
            "line": {
             "colorbar": {
              "outlinewidth": 0,
              "ticks": ""
             }
            },
            "marker": {
             "colorbar": {
              "outlinewidth": 0,
              "ticks": ""
             }
            },
            "type": "scatter3d"
           }
          ],
          "scattercarpet": [
           {
            "marker": {
             "colorbar": {
              "outlinewidth": 0,
              "ticks": ""
             }
            },
            "type": "scattercarpet"
           }
          ],
          "scattergeo": [
           {
            "marker": {
             "colorbar": {
              "outlinewidth": 0,
              "ticks": ""
             }
            },
            "type": "scattergeo"
           }
          ],
          "scattergl": [
           {
            "marker": {
             "colorbar": {
              "outlinewidth": 0,
              "ticks": ""
             }
            },
            "type": "scattergl"
           }
          ],
          "scattermapbox": [
           {
            "marker": {
             "colorbar": {
              "outlinewidth": 0,
              "ticks": ""
             }
            },
            "type": "scattermapbox"
           }
          ],
          "scatterpolar": [
           {
            "marker": {
             "colorbar": {
              "outlinewidth": 0,
              "ticks": ""
             }
            },
            "type": "scatterpolar"
           }
          ],
          "scatterpolargl": [
           {
            "marker": {
             "colorbar": {
              "outlinewidth": 0,
              "ticks": ""
             }
            },
            "type": "scatterpolargl"
           }
          ],
          "scatterternary": [
           {
            "marker": {
             "colorbar": {
              "outlinewidth": 0,
              "ticks": ""
             }
            },
            "type": "scatterternary"
           }
          ],
          "surface": [
           {
            "colorbar": {
             "outlinewidth": 0,
             "ticks": ""
            },
            "colorscale": [
             [
              0,
              "#0d0887"
             ],
             [
              0.1111111111111111,
              "#46039f"
             ],
             [
              0.2222222222222222,
              "#7201a8"
             ],
             [
              0.3333333333333333,
              "#9c179e"
             ],
             [
              0.4444444444444444,
              "#bd3786"
             ],
             [
              0.5555555555555556,
              "#d8576b"
             ],
             [
              0.6666666666666666,
              "#ed7953"
             ],
             [
              0.7777777777777778,
              "#fb9f3a"
             ],
             [
              0.8888888888888888,
              "#fdca26"
             ],
             [
              1,
              "#f0f921"
             ]
            ],
            "type": "surface"
           }
          ],
          "table": [
           {
            "cells": {
             "fill": {
              "color": "#EBF0F8"
             },
             "line": {
              "color": "white"
             }
            },
            "header": {
             "fill": {
              "color": "#C8D4E3"
             },
             "line": {
              "color": "white"
             }
            },
            "type": "table"
           }
          ]
         },
         "layout": {
          "annotationdefaults": {
           "arrowcolor": "#2a3f5f",
           "arrowhead": 0,
           "arrowwidth": 1
          },
          "autotypenumbers": "strict",
          "coloraxis": {
           "colorbar": {
            "outlinewidth": 0,
            "ticks": ""
           }
          },
          "colorscale": {
           "diverging": [
            [
             0,
             "#8e0152"
            ],
            [
             0.1,
             "#c51b7d"
            ],
            [
             0.2,
             "#de77ae"
            ],
            [
             0.3,
             "#f1b6da"
            ],
            [
             0.4,
             "#fde0ef"
            ],
            [
             0.5,
             "#f7f7f7"
            ],
            [
             0.6,
             "#e6f5d0"
            ],
            [
             0.7,
             "#b8e186"
            ],
            [
             0.8,
             "#7fbc41"
            ],
            [
             0.9,
             "#4d9221"
            ],
            [
             1,
             "#276419"
            ]
           ],
           "sequential": [
            [
             0,
             "#0d0887"
            ],
            [
             0.1111111111111111,
             "#46039f"
            ],
            [
             0.2222222222222222,
             "#7201a8"
            ],
            [
             0.3333333333333333,
             "#9c179e"
            ],
            [
             0.4444444444444444,
             "#bd3786"
            ],
            [
             0.5555555555555556,
             "#d8576b"
            ],
            [
             0.6666666666666666,
             "#ed7953"
            ],
            [
             0.7777777777777778,
             "#fb9f3a"
            ],
            [
             0.8888888888888888,
             "#fdca26"
            ],
            [
             1,
             "#f0f921"
            ]
           ],
           "sequentialminus": [
            [
             0,
             "#0d0887"
            ],
            [
             0.1111111111111111,
             "#46039f"
            ],
            [
             0.2222222222222222,
             "#7201a8"
            ],
            [
             0.3333333333333333,
             "#9c179e"
            ],
            [
             0.4444444444444444,
             "#bd3786"
            ],
            [
             0.5555555555555556,
             "#d8576b"
            ],
            [
             0.6666666666666666,
             "#ed7953"
            ],
            [
             0.7777777777777778,
             "#fb9f3a"
            ],
            [
             0.8888888888888888,
             "#fdca26"
            ],
            [
             1,
             "#f0f921"
            ]
           ]
          },
          "colorway": [
           "#636efa",
           "#EF553B",
           "#00cc96",
           "#ab63fa",
           "#FFA15A",
           "#19d3f3",
           "#FF6692",
           "#B6E880",
           "#FF97FF",
           "#FECB52"
          ],
          "font": {
           "color": "#2a3f5f"
          },
          "geo": {
           "bgcolor": "white",
           "lakecolor": "white",
           "landcolor": "#E5ECF6",
           "showlakes": true,
           "showland": true,
           "subunitcolor": "white"
          },
          "hoverlabel": {
           "align": "left"
          },
          "hovermode": "closest",
          "mapbox": {
           "style": "light"
          },
          "paper_bgcolor": "white",
          "plot_bgcolor": "#E5ECF6",
          "polar": {
           "angularaxis": {
            "gridcolor": "white",
            "linecolor": "white",
            "ticks": ""
           },
           "bgcolor": "#E5ECF6",
           "radialaxis": {
            "gridcolor": "white",
            "linecolor": "white",
            "ticks": ""
           }
          },
          "scene": {
           "xaxis": {
            "backgroundcolor": "#E5ECF6",
            "gridcolor": "white",
            "gridwidth": 2,
            "linecolor": "white",
            "showbackground": true,
            "ticks": "",
            "zerolinecolor": "white"
           },
           "yaxis": {
            "backgroundcolor": "#E5ECF6",
            "gridcolor": "white",
            "gridwidth": 2,
            "linecolor": "white",
            "showbackground": true,
            "ticks": "",
            "zerolinecolor": "white"
           },
           "zaxis": {
            "backgroundcolor": "#E5ECF6",
            "gridcolor": "white",
            "gridwidth": 2,
            "linecolor": "white",
            "showbackground": true,
            "ticks": "",
            "zerolinecolor": "white"
           }
          },
          "shapedefaults": {
           "line": {
            "color": "#2a3f5f"
           }
          },
          "ternary": {
           "aaxis": {
            "gridcolor": "white",
            "linecolor": "white",
            "ticks": ""
           },
           "baxis": {
            "gridcolor": "white",
            "linecolor": "white",
            "ticks": ""
           },
           "bgcolor": "#E5ECF6",
           "caxis": {
            "gridcolor": "white",
            "linecolor": "white",
            "ticks": ""
           }
          },
          "title": {
           "x": 0.05
          },
          "xaxis": {
           "automargin": true,
           "gridcolor": "white",
           "linecolor": "white",
           "ticks": "",
           "title": {
            "standoff": 15
           },
           "zerolinecolor": "white",
           "zerolinewidth": 2
          },
          "yaxis": {
           "automargin": true,
           "gridcolor": "white",
           "linecolor": "white",
           "ticks": "",
           "title": {
            "standoff": 15
           },
           "zerolinecolor": "white",
           "zerolinewidth": 2
          }
         }
        },
        "title": {
         "text": "Shot Speed vs Shot type"
        },
        "xaxis": {
         "title": {
          "text": "Shot type"
         }
        },
        "yaxis": {
         "title": {
          "text": "Shot Speed"
         }
        }
       }
      },
      "text/html": [
       "<div>                            <div id=\"f072d13a-cc6e-4d3e-a6ad-83182eca1348\" class=\"plotly-graph-div\" style=\"height:525px; width:100%;\"></div>            <script type=\"text/javascript\">                require([\"plotly\"], function(Plotly) {                    window.PLOTLYENV=window.PLOTLYENV || {};                                    if (document.getElementById(\"f072d13a-cc6e-4d3e-a6ad-83182eca1348\")) {                    Plotly.newPlot(                        \"f072d13a-cc6e-4d3e-a6ad-83182eca1348\",                        [{\"marker\":{\"color\":\"blue\"},\"name\":\"Pospisil\",\"text\":[\"Player\",\"Player\",\"Player\",\"Player\",\"Player\",\"Player\",\"Player\",\"Player\",\"Player\",\"Player\",\"Player\",\"Player\",\"Player\",\"Player\",\"Player\",\"Player\",\"Player\",\"Player\",\"Player\",\"Player\",\"Player\",\"Player\",\"Player\",\"Player\",\"Player\",\"Player\",\"Player\",\"Player\",\"Player\",\"Player\",\"Player\",\"Player\",\"Player\",\"Player\",\"Player\",\"Player\",\"Player\",\"Player\",\"Player\",\"Player\",\"Player\",\"Player\",\"Player\",\"Player\",\"Player\",\"Player\",\"Player\",\"Player\",\"Player\",\"Player\",\"Player\",\"Player\",\"Player\",\"Player\",\"Player\",\"Player\",\"Player\",\"Player\",\"Player\",\"Player\",\"Player\",\"Player\",\"Player\",\"Player\",\"Player\",\"Player\",\"Player\",\"Player\",\"Player\",\"Player\",\"Player\",\"Player\",\"Player\",\"Player\",\"Player\",\"Player\",\"Player\",\"Player\",\"Player\",\"Player\",\"Player\",\"Player\",\"Player\",\"Player\",\"Player\",\"Player\",\"Player\",\"Player\",\"Player\",\"Player\",\"Player\",\"Player\",\"Player\",\"Player\",\"Player\",\"Player\",\"Player\",\"Player\",\"Player\",\"Player\",\"Player\",\"Player\",\"Player\",\"Player\",\"Player\",\"Player\",\"Player\",\"Player\",\"Player\",\"Player\",\"Player\",\"Player\",\"Player\",\"Player\",\"Player\",\"Player\",\"Player\",\"Player\",\"Player\",\"Player\",\"Player\",\"Player\",\"Player\",\"Player\",\"Player\",\"Player\",\"Player\",\"Player\",\"Player\",\"Player\",\"Player\",\"Player\",\"Player\",\"Player\",\"Player\",\"Player\",\"Player\",\"Player\",\"Player\",\"Player\",\"Player\",\"Player\",\"Player\",\"Player\",\"Player\",\"Player\",\"Player\",\"Player\",\"Player\",\"Player\",\"Player\",\"Player\",\"Player\",\"Player\",\"Player\",\"Player\",\"Player\",\"Player\",\"Player\",\"Player\",\"Player\",\"Player\",\"Player\",\"Player\",\"Player\",\"Player\",\"Player\",\"Player\",\"Player\",\"Player\",\"Player\",\"Player\",\"Player\",\"Player\",\"Player\",\"Player\",\"Player\",\"Player\",\"Player\",\"Player\",\"Player\",\"Player\",\"Player\",\"Player\",\"Player\",\"Player\",\"Player\",\"Player\",\"Player\",\"Player\",\"Player\",\"Player\",\"Player\",\"Player\",\"Player\",\"Player\",\"Player\",\"Player\",\"Player\",\"Player\",\"Player\",\"Player\",\"Player\",\"Player\",\"Player\",\"Player\",\"Player\",\"Player\",\"Player\",\"Player\",\"Player\",\"Player\",\"Player\",\"Player\",\"Player\",\"Player\",\"Player\",\"Player\",\"Player\",\"Player\",\"Player\",\"Player\",\"Player\",\"Player\",\"Player\",\"Player\",\"Player\",\"Player\",\"Player\",\"Player\",\"Player\",\"Player\",\"Player\",\"Player\",\"Player\",\"Player\",\"Player\",\"Player\",\"Player\",\"Player\",\"Player\",\"Player\",\"Player\",\"Player\",\"Player\",\"Player\",\"Player\",\"Player\",\"Player\",\"Player\",\"Player\",\"Player\",\"Player\",\"Player\",\"Player\",\"Player\",\"Player\",\"Player\",\"Player\",\"Player\",\"Player\",\"Player\",\"Player\",\"Player\",\"Player\",\"Player\",\"Player\",\"Player\",\"Player\",\"Player\",\"Player\",\"Player\",\"Player\",\"Player\",\"Player\",\"Player\",\"Player\",\"Player\",\"Player\",\"Player\",\"Player\",\"Player\",\"Player\",\"Player\",\"Player\",\"Player\",\"Player\",\"Player\",\"Player\",\"Player\",\"Player\",\"Player\",\"Player\",\"Player\",\"Player\",\"Player\",\"Player\",\"Player\",\"Player\",\"Player\",\"Player\",\"Player\",\"Player\",\"Player\",\"Player\",\"Player\",\"Player\",\"Player\",\"Player\",\"Player\",\"Player\",\"Player\",\"Player\",\"Player\",\"Player\",\"Player\",\"Player\",\"Player\",\"Player\",\"Player\",\"Player\",\"Player\",\"Player\",\"Player\",\"Player\",\"Player\",\"Player\",\"Player\",\"Player\",\"Player\",\"Player\",\"Player\",\"Player\",\"Player\",\"Player\",\"Player\",\"Player\",\"Player\",\"Player\",\"Player\",\"Player\",\"Player\",\"Player\",\"Player\",\"Player\",\"Player\",\"Player\",\"Player\",\"Player\",\"Player\",\"Player\",\"Player\",\"Player\",\"Player\",\"Player\",\"Player\",\"Player\",\"Player\",\"Player\",\"Player\",\"Player\",\"Player\",\"Player\",\"Player\",\"Player\",\"Player\",\"Player\",\"Player\",\"Player\",\"Player\",\"Player\",\"Player\",\"Player\",\"Player\",\"Player\",\"Player\",\"Player\",\"Player\",\"Player\",\"Player\",\"Player\",\"Player\",\"Player\",\"Player\",\"Player\",\"Player\",\"Player\",\"Player\",\"Player\",\"Player\",\"Player\",\"Player\",\"Player\",\"Player\",\"Player\",\"Player\",\"Player\",\"Player\",\"Player\",\"Player\",\"Player\",\"Player\",\"Player\",\"Player\"],\"x\":[\"Serve\",\"Serve\",\"Forehand\",\"Serve\",\"Serve\",\"Serve\",\"Forehand\",\"Serve\",\"Serve\",\"Serve\",\"Serve\",\"Serve\",\"Backhand\",\"Backhand\",\"Backhand\",\"Backhand\",\"Backhand\",\"Forehand\",\"Forehand\",\"FH Volley\",\"Forehand\",\"Forehand\",\"Backhand\",\"Backhand\",\"Backhand\",\"Serve\",\"Serve\",\"Serve\",\"Serve\",\"Forehand\",\"Serve\",\"Serve\",\"Forehand\",\"Serve\",\"Forehand\",\"Serve\",\"Serve\",\"Backhand\",\"Serve\",\"Serve\",\"Forehand\",\"Forehand\",\"Forehand\",\"Backhand\",\"Forehand\",\"Forehand\",\"Backhand\",\"Forehand\",\"Backhand\",\"Serve\",\"Serve\",\"Forehand\",\"Forehand\",\"Serve\",\"Serve\",\"Forehand\",\"Serve\",\"Backhand\",\"Serve\",\"Backhand\",\"Backhand\",\"Forehand\",\"Forehand\",\"Forehand\",\"Forehand\",\"Forehand\",\"Backhand\",\"Backhand\",\"Forehand\",\"Serve\",\"BH Volley\",\"Serve\",\"Serve\",\"Serve\",\"Serve\",\"Forehand\",\"Serve\",\"Forehand\",\"Forehand\",\"Backhand\",\"Forehand\",\"Backhand\",\"Backhand\",\"Backhand\",\"Backhand\",\"Backhand\",\"Forehand\",\"Backhand\",\"Forehand\",\"Backhand\",\"Forehand\",\"Backhand\",\"Serve\",\"Forehand\",\"Forehand\",\"Forehand\",\"Backhand\",\"Forehand\",\"Backhand\",\"Backhand\",\"Backhand\",\"Serve\",\"Serve\",\"Serve\",\"Forehand\",\"Serve\",\"Serve\",\"Forehand\",\"Forehand\",\"Backhand\",\"Forehand\",\"Backhand\",\"Backhand\",\"Backhand\",\"Forehand\",\"Backhand\",\"Forehand\",\"Backhand\",\"Backhand\",\"Serve\",\"Serve\",\"Backhand\",\"Serve\",\"Serve\",\"Serve\",\"Forehand\",\"Serve\",\"Serve\",\"Backhand\",\"Backhand\",\"Forehand\",\"Forehand\",\"Forehand\",\"Backhand\",\"Serve\",\"Serve\",\"Serve\",\"Forehand\",\"Serve\",\"Serve\",\"Serve\",\"Backhand\",\"Backhand\",\"Backhand\",\"Forehand\",\"Forehand\",\"Backhand\",\"Backhand\",\"Backhand\",\"Forehand\",\"Forehand\",\"Backhand\",\"Backhand\",\"Backhand\",\"Backhand\",\"Backhand\",\"Backhand\",\"Backhand\",\"Backhand\",\"Forehand\",\"Serve\",\"Serve\",\"Forehand\",\"Serve\",\"Serve\",\"Forehand\",\"Backhand\",\"Serve\",\"Serve\",\"Serve\",\"Backhand\",\"Forehand\",\"Backhand\",\"Backhand\",\"Backhand\",\"Forehand\",\"Backhand\",\"Backhand\",\"Forehand\",\"Forehand\",\"Forehand\",\"Backhand\",\"Forehand\",\"Forehand\",\"Backhand\",\"Serve\",\"Forehand\",\"Forehand\",\"Serve\",\"Serve\",\"Backhand\",\"Backhand\",\"Serve\",\"Serve\",\"Serve\",\"Serve\",\"Serve\",\"Serve\",\"Serve\",\"Serve\",\"Backhand\",\"Backhand\",\"Forehand\",\"Backhand\",\"Serve\",\"Forehand\",\"Serve\",\"Forehand\",\"Serve\",\"Serve\",\"Serve\",\"Forehand\",\"Serve\",\"Serve\",\"Forehand\",\"Forehand\",\"Serve\",\"Serve\",\"Backhand\",\"Serve\",\"Serve\",\"Backhand\",\"Backhand\",\"Backhand\",\"Forehand\",\"Backhand\",\"Forehand\",\"Backhand\",\"Backhand\",\"Forehand\",\"Backhand\",\"Forehand\",\"Backhand\",\"Serve\",\"Serve\",\"Forehand\",\"Forehand\",\"Serve\",\"Serve\",\"Forehand\",\"Backhand\",\"Backhand\",\"Forehand\",\"Serve\",\"Serve\",\"Serve\",\"Serve\",\"Forehand\",\"Backhand\",\"Backhand\",\"Forehand\",\"Forehand\",\"Forehand\",\"Forehand\",\"Backhand\",\"Backhand\",\"Forehand\",\"Backhand\",\"Backhand\",\"Backhand\",\"Backhand\",\"Backhand\",\"Forehand\",\"Forehand\",\"Backhand\",\"Forehand\",\"Backhand\",\"Forehand\",\"Forehand\",\"Forehand\",\"Backhand\",\"Serve\",\"Serve\",\"Backhand\",\"Serve\",\"Serve\",\"Serve\",\"Serve\",\"Serve\",\"Forehand\",\"Serve\",\"Forehand\",\"Serve\",\"Forehand\",\"Backhand\",\"Serve\",\"Serve\",\"Serve\",\"Serve\",\"Serve\",\"Backhand\",\"Backhand\",\"Backhand\",\"Serve\",\"Forehand\",\"Serve\",\"Serve\",\"Backhand\",\"Serve\",\"Serve\",\"Forehand\",\"Serve\",\"Serve\",\"Serve\",\"Serve\",\"Backhand\",\"Serve\",\"Serve\",\"Forehand\",\"Serve\",\"Forehand\",\"Forehand\",\"Forehand\",\"Backhand\",\"Backhand\",\"Forehand\",\"Forehand\",\"Backhand\",\"Backhand\",\"Backhand\",\"Backhand\",\"Backhand\",\"Forehand\",\"Forehand\",\"Forehand\",\"Backhand\",\"Backhand\",\"Backhand\",\"BH Volley\",\"Serve\",\"Serve\",\"Serve\",\"Forehand\",\"FH Volley\",\"Backhand\",\"Serve\",\"Serve\",\"Serve\",\"Serve\",\"Serve\",\"Serve\",\"Forehand\",\"Forehand\",\"Forehand\",\"Forehand\",\"Forehand\",\"Backhand\",\"Backhand\",\"Forehand\",\"Backhand\",\"Forehand\",\"Forehand\",\"Backhand\",\"Backhand\",\"Serve\",\"Serve\",\"Serve\",\"Forehand\",\"Serve\",\"Forehand\",\"Serve\",\"Serve\",\"Serve\",\"Forehand\",\"Backhand\",\"Backhand\",\"Backhand\",\"Backhand\",\"Forehand\",\"Backhand\",\"Backhand\",\"Forehand\",\"Backhand\",\"Serve\",\"Serve\",\"Forehand\",\"Forehand\",\"Forehand\",\"Serve\",\"Serve\",\"Serve\",\"FH Volley\",\"Serve\",\"Backhand\",\"Forehand\",\"Backhand\",\"Backhand\",\"Backhand\",\"Backhand\",\"Forehand\",\"BH Volley\",\"Overhead\",\"Backhand\",\"Forehand\",\"Forehand\",\"Backhand\",\"Backhand\",\"Backhand\",\"Backhand\",\"Backhand\",\"Forehand\",\"Forehand\",\"Backhand\",\"Forehand\"],\"y\":[166.363281,126.269508,104.31604,110.567711,94.473465,143.428314,121.841362,73.324745,127.867363,138.194534,126.758484,135.053497,79.956505,91.414658,73.998878,74.146561,104.52829,93.485207,121.069,34.843319,95.097328,115.525398,118.767845,86.101639,84.314781,null,null,202.078918,142.025299,90.916985,118.871452,149.150208,67.103271,145.843109,82.811913,91.834106,130.675079,61.988026,106.161484,128.59906,84.027985,111.239662,44.010815,81.525917,83.750565,114.510849,90.102036,75.569321,58.510414,162.567688,116.530983,105.710678,91.767555,118.566048,151.512466,86.306305,107.916283,46.474094,166.588196,70.724823,84.438766,138.880661,63.228535,84.436371,86.179657,97.699677,69.413628,85.293709,121.33844,170.821655,40.418251,154.751205,154.898346,130.818054,155.280899,127.517418,101.542831,108.328445,103.934494,75.324425,97.880081,72.063347,104.394722,82.689667,78.894096,89.828743,64.099289,50.891689,99.038742,97.112473,77.71389,80.595032,163.357452,125.979408,98.370522,94.703575,89.421379,79.874977,76.715416,89.300713,48.83049,117.779854,103.141624,137.174225,56.267689,116.436615,130.692291,119.212532,111.507843,103.037651,110.053825,102.579086,64.824509,83.374557,99.723221,75.372879,101.58757,100.074409,90.615829,202.92749,147.999054,93.822716,109.466087,149.704681,139.339661,null,115.618561,135.313019,null,58.906158,56.032978,84.942688,78.911583,76.619614,107.96489,115.190155,132.793442,99.720215,114.319725,167.104736,95.396133,62.116451,86.827126,96.118919,105.111687,110.076195,74.431427,107.344002,65.012672,null,81.574692,99.316261,54.644333,85.343544,93.622231,105.564514,93.525055,58.328079,96.813133,75.271919,143.221832,136.398071,114.468361,155.070816,126.443092,84.297203,95.213593,154.441208,183.113083,161.313736,83.81208,100.262436,94.648323,56.252804,79.944664,76.249451,65.513748,89.729584,71.59185,75.004112,82.63858,74.091499,71.737671,87.21228,67.348473,121.712097,120.145248,101.80085,119.387024,134.158463,84.818176,80.718765,129.042877,121.17334,135.090347,152.753952,129.669327,113.434662,153.051682,118.806915,94.847885,85.391418,95.776047,48.105331,180.330566,105.627739,135.720139,82.501259,132.201553,74.454147,85.16597,64.166283,116.556107,108.578003,120.979195,102.330452,106.854721,136.039459,110.440819,136.517929,null,54.995796,56.766331,88.748413,81.118553,80.866776,107.601669,92.904495,60.391788,99.99205,76.2211,101.565132,68.505493,145.279877,123.616066,88.538849,83.194145,137.554901,134.507645,109.964584,89.422569,95.608978,80.951851,117.690926,104.662872,null,128.672958,105.05658,80.326012,43.053253,109.397995,104.398537,61.173656,76.783554,76.932816,93.613075,111.530174,80.912575,102.222694,62.948002,85.263618,null,61.210506,72.850906,106.404999,84.137634,85.851707,50.228252,111.361702,98.696945,69.297447,75.73069,202.92749,67.717346,113.048912,129.566254,160.489914,167.093231,126.122849,110.438393,137.860275,98.722023,195.680084,77.910851,80.865227,147.709503,138.063553,166.00827,39.504692,144.974869,71.761978,106.902702,69.902679,173.839478,93.031387,85.143394,127.729301,86.12738,117.379631,140.661072,140.488266,156.220749,169.817673,182.429214,147.525787,80.72065,88.048271,70.584976,95.641655,null,82.334251,109.926048,81.352936,75.247459,91.167564,84.74485,89.411003,80.58371,83.268433,70.062775,72.031609,68.557838,85.795036,52.65398,95.348717,62.926521,85.720016,78.243675,null,135.886673,103.02195,92.79023,99.135323,30.662121,50.996513,41.277985,126.525276,136.243988,148.107407,143.164764,138.738632,81.068451,92.920174,91.762733,106.598984,86.8209,98.408073,59.253536,80.688751,72.773949,103.144081,103.109367,66.468361,70.524216,155.03595,125.152107,154.221817,126.233253,155.912399,113.105652,159.646866,124.248093,158.792389,111.416878,58.281216,54.479652,70.793716,79.14386,80.363235,80.585121,75.026657,56.75943,85.688118,146.827042,114.806137,91.487587,57.384197,99.732674,93.197632,112.485161,96.524864,37.630787,166.442978,106.515503,104.619637,100.012917,88.348358,78.488785,166.690445,108.673271,27.874657,36.237053,96.001213,61.594387,64.45385,66.683228,85.09304,92.536499,75.055977,76.267067,120.567772,111.376595,88.921425,99.088295],\"type\":\"box\"},{\"marker\":{\"color\":\"red\"},\"name\":\"Wolf\",\"text\":[\"Opponent\",\"Opponent\",\"Opponent\",\"Opponent\",\"Opponent\",\"Opponent\",\"Opponent\",\"Opponent\",\"Opponent\",\"Opponent\",\"Opponent\",\"Opponent\",\"Opponent\",\"Opponent\",\"Opponent\",\"Opponent\",\"Opponent\",\"Opponent\",\"Opponent\",\"Opponent\",\"Opponent\",\"Opponent\",\"Opponent\",\"Opponent\",\"Opponent\",\"Opponent\",\"Opponent\",\"Opponent\",\"Opponent\",\"Opponent\",\"Opponent\",\"Opponent\",\"Opponent\",\"Opponent\",\"Opponent\",\"Opponent\",\"Opponent\",\"Opponent\",\"Opponent\",\"Opponent\",\"Opponent\",\"Opponent\",\"Opponent\",\"Opponent\",\"Opponent\",\"Opponent\",\"Opponent\",\"Opponent\",\"Opponent\",\"Opponent\",\"Opponent\",\"Opponent\",\"Opponent\",\"Opponent\",\"Opponent\",\"Opponent\",\"Opponent\",\"Opponent\",\"Opponent\",\"Opponent\",\"Opponent\",\"Opponent\",\"Opponent\",\"Opponent\",\"Opponent\",\"Opponent\",\"Opponent\",\"Opponent\",\"Opponent\",\"Opponent\",\"Opponent\",\"Opponent\",\"Opponent\",\"Opponent\",\"Opponent\",\"Opponent\",\"Opponent\",\"Opponent\",\"Opponent\",\"Opponent\",\"Opponent\",\"Opponent\",\"Opponent\",\"Opponent\",\"Opponent\",\"Opponent\",\"Opponent\",\"Opponent\",\"Opponent\",\"Opponent\",\"Opponent\",\"Opponent\",\"Opponent\",\"Opponent\",\"Opponent\",\"Opponent\",\"Opponent\",\"Opponent\",\"Opponent\",\"Opponent\",\"Opponent\",\"Opponent\",\"Opponent\",\"Opponent\",\"Opponent\",\"Opponent\",\"Opponent\",\"Opponent\",\"Opponent\",\"Opponent\",\"Opponent\",\"Opponent\",\"Opponent\",\"Opponent\",\"Opponent\",\"Opponent\",\"Opponent\",\"Opponent\",\"Opponent\",\"Opponent\",\"Opponent\",\"Opponent\",\"Opponent\",\"Opponent\",\"Opponent\",\"Opponent\",\"Opponent\",\"Opponent\",\"Opponent\",\"Opponent\",\"Opponent\",\"Opponent\",\"Opponent\",\"Opponent\",\"Opponent\",\"Opponent\",\"Opponent\",\"Opponent\",\"Opponent\",\"Opponent\",\"Opponent\",\"Opponent\",\"Opponent\",\"Opponent\",\"Opponent\",\"Opponent\",\"Opponent\",\"Opponent\",\"Opponent\",\"Opponent\",\"Opponent\",\"Opponent\",\"Opponent\",\"Opponent\",\"Opponent\",\"Opponent\",\"Opponent\",\"Opponent\",\"Opponent\",\"Opponent\",\"Opponent\",\"Opponent\",\"Opponent\",\"Opponent\",\"Opponent\",\"Opponent\",\"Opponent\",\"Opponent\",\"Opponent\",\"Opponent\",\"Opponent\",\"Opponent\",\"Opponent\",\"Opponent\",\"Opponent\",\"Opponent\",\"Opponent\",\"Opponent\",\"Opponent\",\"Opponent\",\"Opponent\",\"Opponent\",\"Opponent\",\"Opponent\",\"Opponent\",\"Opponent\",\"Opponent\",\"Opponent\",\"Opponent\",\"Opponent\",\"Opponent\",\"Opponent\",\"Opponent\",\"Opponent\",\"Opponent\",\"Opponent\",\"Opponent\",\"Opponent\",\"Opponent\",\"Opponent\",\"Opponent\",\"Opponent\",\"Opponent\",\"Opponent\",\"Opponent\",\"Opponent\",\"Opponent\",\"Opponent\",\"Opponent\",\"Opponent\",\"Opponent\",\"Opponent\",\"Opponent\",\"Opponent\",\"Opponent\",\"Opponent\",\"Opponent\",\"Opponent\",\"Opponent\",\"Opponent\",\"Opponent\",\"Opponent\",\"Opponent\",\"Opponent\",\"Opponent\",\"Opponent\",\"Opponent\",\"Opponent\",\"Opponent\",\"Opponent\",\"Opponent\",\"Opponent\",\"Opponent\",\"Opponent\",\"Opponent\",\"Opponent\",\"Opponent\",\"Opponent\",\"Opponent\",\"Opponent\",\"Opponent\",\"Opponent\",\"Opponent\",\"Opponent\",\"Opponent\",\"Opponent\",\"Opponent\",\"Opponent\",\"Opponent\",\"Opponent\",\"Opponent\",\"Opponent\",\"Opponent\",\"Opponent\",\"Opponent\",\"Opponent\",\"Opponent\",\"Opponent\",\"Opponent\",\"Opponent\",\"Opponent\",\"Opponent\",\"Opponent\",\"Opponent\",\"Opponent\",\"Opponent\",\"Opponent\",\"Opponent\",\"Opponent\",\"Opponent\",\"Opponent\",\"Opponent\",\"Opponent\",\"Opponent\",\"Opponent\",\"Opponent\",\"Opponent\",\"Opponent\",\"Opponent\",\"Opponent\",\"Opponent\",\"Opponent\",\"Opponent\",\"Opponent\",\"Opponent\",\"Opponent\",\"Opponent\",\"Opponent\",\"Opponent\",\"Opponent\",\"Opponent\",\"Opponent\",\"Opponent\",\"Opponent\",\"Opponent\",\"Opponent\",\"Opponent\",\"Opponent\",\"Opponent\",\"Opponent\",\"Opponent\",\"Opponent\",\"Opponent\",\"Opponent\",\"Opponent\",\"Opponent\",\"Opponent\",\"Opponent\",\"Opponent\",\"Opponent\",\"Opponent\",\"Opponent\",\"Opponent\",\"Opponent\",\"Opponent\",\"Opponent\",\"Opponent\",\"Opponent\",\"Opponent\",\"Opponent\",\"Opponent\",\"Opponent\",\"Opponent\",\"Opponent\",\"Opponent\",\"Opponent\",\"Opponent\",\"Opponent\",\"Opponent\",\"Opponent\",\"Opponent\",\"Opponent\",\"Opponent\",\"Opponent\",\"Opponent\",\"Opponent\",\"Opponent\",\"Opponent\",\"Opponent\",\"Opponent\",\"Opponent\",\"Opponent\",\"Opponent\",\"Opponent\",\"Opponent\",\"Opponent\",\"Opponent\",\"Opponent\",\"Opponent\",\"Opponent\",\"Opponent\",\"Opponent\",\"Opponent\",\"Opponent\",\"Opponent\",\"Opponent\",\"Opponent\",\"Opponent\",\"Opponent\",\"Opponent\",\"Opponent\",\"Opponent\",\"Opponent\",\"Opponent\",\"Opponent\",\"Opponent\",\"Opponent\",\"Opponent\",\"Opponent\",\"Opponent\",\"Opponent\",\"Opponent\",\"Opponent\",\"Opponent\",\"Opponent\",\"Opponent\",\"Opponent\",\"Opponent\",\"Opponent\",\"Opponent\",\"Opponent\",\"Opponent\",\"Opponent\",\"Opponent\",\"Opponent\",\"Opponent\",\"Opponent\",\"Opponent\",\"Opponent\",\"Opponent\",\"Opponent\",\"Opponent\"],\"x\":[\"Backhand\",\"Forehand\",\"Backhand\",\"Backhand\",\"Backhand\",\"Serve\",\"Serve\",\"Serve\",\"Forehand\",\"Backhand\",\"Serve\",\"Serve\",\"Forehand\",\"Forehand\",\"Backhand\",\"Backhand\",\"Serve\",\"Forehand\",\"Serve\",\"Serve\",\"Forehand\",\"Serve\",\"Serve\",\"Forehand\",\"Forehand\",\"Backhand\",\"Forehand\",\"Backhand\",\"Backhand\",\"Backhand\",\"Forehand\",\"Forehand\",\"Forehand\",\"Backhand\",\"Serve\",\"Forehand\",\"Serve\",\"Forehand\",\"Serve\",\"Serve\",\"Serve\",\"Serve\",\"Forehand\",\"Forehand\",\"Serve\",\"Forehand\",\"BH Volley\",\"Backhand\",\"Forehand\",\"Forehand\",\"Forehand\",\"Forehand\",\"Backhand\",\"Backhand\",\"Forehand\",\"Serve\",\"Forehand\",\"Backhand\",\"Forehand\",\"Serve\",\"Serve\",\"Backhand\",\"Forehand\",\"Serve\",\"Serve\",\"FH Volley\",\"Serve\",\"Backhand\",\"Forehand\",\"Backhand\",\"Forehand\",\"Forehand\",\"Forehand\",\"Serve\",\"Serve\",\"Serve\",\"Serve\",\"Serve\",\"Backhand\",\"Forehand\",\"Backhand\",\"Serve\",\"Serve\",\"Serve\",\"Forehand\",\"Serve\",\"Forehand\",\"Forehand\",\"Serve\",\"Forehand\",\"Serve\",\"Serve\",\"Forehand\",\"Forehand\",\"Forehand\",\"Backhand\",\"Forehand\",\"Forehand\",\"Forehand\",\"Backhand\",\"Backhand\",\"Backhand\",\"Forehand\",\"Forehand\",\"Backhand\",\"Serve\",\"Forehand\",\"FH Volley\",\"BH Volley\",\"Serve\",\"Serve\",\"Forehand\",\"Serve\",\"Serve\",\"Serve\",\"Serve\",\"Serve\",\"Backhand\",\"Backhand\",\"Forehand\",\"Serve\",\"Serve\",\"Forehand\",\"Forehand\",\"Backhand\",\"Backhand\",\"Forehand\",\"Forehand\",\"Serve\",\"Forehand\",\"Overhead\",\"Serve\",\"Serve\",\"Serve\",\"Serve\",\"Forehand\",\"Backhand\",\"Backhand\",\"Forehand\",\"Backhand\",\"Forehand\",\"Forehand\",\"Serve\",\"Serve\",\"Forehand\",\"Forehand\",\"Serve\",\"Serve\",\"Backhand\",\"Serve\",\"Backhand\",\"Backhand\",\"Serve\",\"Forehand\",\"Serve\",\"Serve\",\"Forehand\",\"Backhand\",\"Backhand\",\"Serve\",\"Serve\",\"Forehand\",\"Serve\",\"Serve\",\"Forehand\",\"Serve\",\"Forehand\",\"Backhand\",\"Backhand\",\"Forehand\",\"Forehand\",\"Forehand\",\"Serve\",\"Serve\",\"Backhand\",\"Forehand\",\"Serve\",\"Overhead\",\"Serve\",\"Forehand\",\"Forehand\",\"Forehand\",\"Backhand\",\"Serve\",\"Forehand\",\"Forehand\",\"BH Volley\",\"FH Volley\",\"Serve\",\"Serve\",\"Forehand\",\"Backhand\",\"Backhand\",\"Backhand\",\"Backhand\",\"Backhand\",\"Forehand\",\"Serve\",\"Serve\",\"Forehand\",\"Serve\",\"Serve\",\"Forehand\",\"Forehand\",\"Backhand\",\"Forehand\",\"Backhand\",\"Backhand\",\"Forehand\",\"Forehand\",\"Backhand\",\"Forehand\",\"Serve\",\"Serve\",\"Serve\",\"Forehand\",\"Forehand\",\"Forehand\",\"Forehand\",\"Serve\",\"Forehand\",\"Backhand\",\"Serve\",\"Serve\",\"Backhand\",\"Backhand\",\"Serve\",\"Serve\",\"Forehand\",\"Forehand\",\"Backhand\",\"Backhand\",\"Backhand\",\"Backhand\",\"Backhand\",\"Backhand\",\"Backhand\",\"Forehand\",\"Serve\",\"Backhand\",\"Serve\",\"Serve\",\"Serve\",\"Forehand\",\"Serve\",\"Forehand\",\"Serve\",\"Serve\",\"Forehand\",\"Serve\",\"Serve\",\"Forehand\",\"Forehand\",\"Forehand\",\"Backhand\",\"Forehand\",\"Serve\",\"Serve\",\"Forehand\",\"Serve\",\"Forehand\",\"Forehand\",\"Forehand\",\"Serve\",\"Forehand\",\"Serve\",\"Serve\",\"Backhand\",\"Backhand\",\"Backhand\",\"Backhand\",\"Forehand\",\"Forehand\",\"Forehand\",\"Forehand\",\"Forehand\",\"Forehand\",\"Forehand\",\"Backhand\",\"Forehand\",\"Forehand\",\"Forehand\",\"Backhand\",\"Forehand\",\"Forehand\",\"Backhand\",\"Backhand\",\"Forehand\",\"Forehand\",\"Forehand\",\"Backhand\",\"Forehand\",\"Forehand\",\"Forehand\",\"Forehand\",\"Backhand\",\"Backhand\",\"Serve\",\"Forehand\",\"Serve\",\"Serve\",\"Serve\",\"Backhand\",\"Backhand\",\"FH Volley\",\"Serve\",\"Backhand\",\"Serve\",\"Forehand\",\"BH Volley\",\"Serve\",\"Backhand\",\"Forehand\",\"Forehand\",\"Backhand\",\"Backhand\",\"Forehand\",\"Backhand\",\"Forehand\",\"Forehand\",\"Forehand\",\"Forehand\",\"Forehand\",\"Serve\",\"Forehand\",\"Backhand\",\"Serve\",\"Serve\",\"Serve\",\"Serve\",\"Forehand\",\"Forehand\",\"Backhand\",\"Forehand\",\"Serve\",\"Serve\",\"Forehand\",\"Serve\",\"Serve\",\"Forehand\",\"Forehand\",\"Backhand\",\"Forehand\",\"Backhand\",\"Backhand\",\"Serve\",\"Serve\",\"Forehand\",\"BH Volley\",\"Serve\",\"Serve\",\"Forehand\",\"Serve\",\"Forehand\",\"BH Volley\",\"Serve\",\"Serve\",\"Backhand\",\"Backhand\",\"Forehand\",\"Forehand\",\"Backhand\",\"Forehand\",\"Backhand\",\"Serve\",\"Serve\",\"Serve\",\"Forehand\",\"Forehand\",\"Serve\",\"Serve\",\"Backhand\",\"Backhand\",\"Forehand\",\"Serve\",\"Serve\",\"Forehand\",\"Serve\",\"Forehand\",\"Serve\",\"Forehand\",\"Serve\",\"Serve\",\"Forehand\",\"Backhand\",\"Backhand\",\"Backhand\",\"Forehand\",\"Serve\",\"Serve\",\"Forehand\",\"Backhand\"],\"y\":[70.656006,90.118004,78.757332,107.008484,115.401077,122.690895,86.152313,90.455971,120.514259,93.383263,73.279663,95.120171,77.21286,93.235603,92.444786,57.347374,145.696243,85.205666,103.562408,118.513489,100.287956,122.950623,111.271889,96.919159,53.398014,null,null,66.082611,87.971054,75.404854,86.140068,76.985634,87.684532,81.28093,133.400818,64.797531,156.245361,108.106529,152.219467,118.648102,195.680084,148.512756,101.999512,110.913551,130.91246,116.628853,37.630787,96.83992,106.468567,98.102432,84.601158,100.454239,76.658569,95.573479,82.496483,117.708092,106.503769,99.611221,92.537392,98.843224,135.849808,80.854759,80.580467,153.187195,80.778633,30.662121,150.456055,97.309517,65.942314,75.042953,120.011848,92.029716,91.968422,140.353561,136.05043,139.344574,128.304657,79.032303,75.473129,87.430115,101.75074,158.218857,158.14296,113.648621,null,140.74617,94.530067,81.087166,110.305969,117.396713,106.487129,143.730392,95.949615,106.416443,110.663696,48.324123,83.322456,89.970474,94.439377,113.489487,123.250603,109.298531,91.248871,82.073555,87.755569,107.853889,91.986244,30.662121,29.268389,91.782944,138.085907,87.014381,131.86058,124.574211,108.9188,123.60685,121.899208,71.458107,88.413597,84.286644,142.643265,95.623726,86.265938,59.372974,89.867363,51.779488,75.831337,112.212112,121.958916,122.90451,201.255249,152.574997,136.381332,117.978516,209.089432,85.485176,78.697899,89.176834,93.571404,87.594299,104.283287,34.756573,161.844543,124.04174,90.962761,94.144615,124.911072,137.589569,68.084602,153.740936,72.454666,97.380569,null,59.405151,129.598526,126.181213,92.110268,50.292553,106.643478,122.471291,119.482353,82.973419,133.452988,103.386101,89.15744,130.562592,93.199921,62.44315,76.718819,90.183571,67.941765,41.97179,111.982384,121.374367,94.649712,80.972885,150.820419,115.781219,118.858398,107.963333,102.877914,96.550537,107.338608,145.752823,122.92408,102.892982,32.055855,33.449589,71.547913,127.601143,78.457787,61.307163,119.307358,82.017311,107.381119,111.443825,90.833778,129.603714,111.897949,84.39032,96.033112,162.539124,72.225868,86.223366,79.637161,93.042175,75.024361,67.0933,106.3004,90.870918,83.007202,null,158.131424,123.613251,120.102486,91.757278,80.429634,65.974373,94.765564,143.794876,101.096817,99.011398,161.609024,137.280319,67.767151,94.539886,107.473808,120.233162,81.73539,94.267609,87.147369,70.153214,89.807037,103.30117,115.428879,75.9813,56.099045,92.670494,131.457169,52.239952,120.351379,121.886116,103.920456,101.640282,129.19957,85.677635,118.707924,77.206642,83.614464,102.517731,104.770317,91.025345,94.423668,94.603905,89.87175,92.291962,186.726456,124.10041,106.865097,148.704697,81.016502,74.017044,76.978638,138.765366,102.859428,125.844757,120.81855,77.267578,97.795929,94.240364,96.586037,92.586441,79.858284,110.640625,90.076088,73.599686,87.986511,101.398796,93.220116,96.890099,71.892464,81.026039,77.179565,99.533524,63.170124,74.655777,68.357719,52.867352,108.115639,85.017792,90.365685,83.801361,75.0522,90.097733,90.257088,84.67408,85.257851,57.232807,76.793213,172.482666,57.09539,125.332176,108.933151,141.361313,29.268389,152.479935,82.221428,118.955734,130.453384,33.449589,164.048965,95.844696,43.786263,42.866737,143.220657,75.383812,74.807152,82.154266,62.067387,86.852219,84.629601,96.841362,45.38821,122.134148,80.569115,89.750084,127.108749,108.111275,106.788429,118.314034,73.379448,70.914108,96.334717,76.182945,109.685471,102.299561,121.711143,131.403687,131.795212,54.019962,71.755188,82.959129,89.007858,57.006466,62.732357,139.232071,145.492859,122.545731,null,129.98027,144.249161,71.782753,140.227371,120.41851,27.874657,125.210449,134.486435,87.55764,98.009247,82.743904,65.512909,79.475365,126.065819,79.323601,146.146027,103.849907,102.897476,90.169418,93.291031,127.228989,null,89.314499,56.647644,65.816864,123.205063,133.295303,81.050453,97.957962,119.100906,105.740318,99.644402,83.394539,87.327179,77.291489,106.907539,79.697868,93.371613,127.210625,133.9729,118.228752,84.247383,51.100441],\"type\":\"box\"}],                        {\"template\":{\"data\":{\"bar\":[{\"error_x\":{\"color\":\"#2a3f5f\"},\"error_y\":{\"color\":\"#2a3f5f\"},\"marker\":{\"line\":{\"color\":\"#E5ECF6\",\"width\":0.5},\"pattern\":{\"fillmode\":\"overlay\",\"size\":10,\"solidity\":0.2}},\"type\":\"bar\"}],\"barpolar\":[{\"marker\":{\"line\":{\"color\":\"#E5ECF6\",\"width\":0.5},\"pattern\":{\"fillmode\":\"overlay\",\"size\":10,\"solidity\":0.2}},\"type\":\"barpolar\"}],\"carpet\":[{\"aaxis\":{\"endlinecolor\":\"#2a3f5f\",\"gridcolor\":\"white\",\"linecolor\":\"white\",\"minorgridcolor\":\"white\",\"startlinecolor\":\"#2a3f5f\"},\"baxis\":{\"endlinecolor\":\"#2a3f5f\",\"gridcolor\":\"white\",\"linecolor\":\"white\",\"minorgridcolor\":\"white\",\"startlinecolor\":\"#2a3f5f\"},\"type\":\"carpet\"}],\"choropleth\":[{\"colorbar\":{\"outlinewidth\":0,\"ticks\":\"\"},\"type\":\"choropleth\"}],\"contour\":[{\"colorbar\":{\"outlinewidth\":0,\"ticks\":\"\"},\"colorscale\":[[0.0,\"#0d0887\"],[0.1111111111111111,\"#46039f\"],[0.2222222222222222,\"#7201a8\"],[0.3333333333333333,\"#9c179e\"],[0.4444444444444444,\"#bd3786\"],[0.5555555555555556,\"#d8576b\"],[0.6666666666666666,\"#ed7953\"],[0.7777777777777778,\"#fb9f3a\"],[0.8888888888888888,\"#fdca26\"],[1.0,\"#f0f921\"]],\"type\":\"contour\"}],\"contourcarpet\":[{\"colorbar\":{\"outlinewidth\":0,\"ticks\":\"\"},\"type\":\"contourcarpet\"}],\"heatmap\":[{\"colorbar\":{\"outlinewidth\":0,\"ticks\":\"\"},\"colorscale\":[[0.0,\"#0d0887\"],[0.1111111111111111,\"#46039f\"],[0.2222222222222222,\"#7201a8\"],[0.3333333333333333,\"#9c179e\"],[0.4444444444444444,\"#bd3786\"],[0.5555555555555556,\"#d8576b\"],[0.6666666666666666,\"#ed7953\"],[0.7777777777777778,\"#fb9f3a\"],[0.8888888888888888,\"#fdca26\"],[1.0,\"#f0f921\"]],\"type\":\"heatmap\"}],\"heatmapgl\":[{\"colorbar\":{\"outlinewidth\":0,\"ticks\":\"\"},\"colorscale\":[[0.0,\"#0d0887\"],[0.1111111111111111,\"#46039f\"],[0.2222222222222222,\"#7201a8\"],[0.3333333333333333,\"#9c179e\"],[0.4444444444444444,\"#bd3786\"],[0.5555555555555556,\"#d8576b\"],[0.6666666666666666,\"#ed7953\"],[0.7777777777777778,\"#fb9f3a\"],[0.8888888888888888,\"#fdca26\"],[1.0,\"#f0f921\"]],\"type\":\"heatmapgl\"}],\"histogram\":[{\"marker\":{\"pattern\":{\"fillmode\":\"overlay\",\"size\":10,\"solidity\":0.2}},\"type\":\"histogram\"}],\"histogram2d\":[{\"colorbar\":{\"outlinewidth\":0,\"ticks\":\"\"},\"colorscale\":[[0.0,\"#0d0887\"],[0.1111111111111111,\"#46039f\"],[0.2222222222222222,\"#7201a8\"],[0.3333333333333333,\"#9c179e\"],[0.4444444444444444,\"#bd3786\"],[0.5555555555555556,\"#d8576b\"],[0.6666666666666666,\"#ed7953\"],[0.7777777777777778,\"#fb9f3a\"],[0.8888888888888888,\"#fdca26\"],[1.0,\"#f0f921\"]],\"type\":\"histogram2d\"}],\"histogram2dcontour\":[{\"colorbar\":{\"outlinewidth\":0,\"ticks\":\"\"},\"colorscale\":[[0.0,\"#0d0887\"],[0.1111111111111111,\"#46039f\"],[0.2222222222222222,\"#7201a8\"],[0.3333333333333333,\"#9c179e\"],[0.4444444444444444,\"#bd3786\"],[0.5555555555555556,\"#d8576b\"],[0.6666666666666666,\"#ed7953\"],[0.7777777777777778,\"#fb9f3a\"],[0.8888888888888888,\"#fdca26\"],[1.0,\"#f0f921\"]],\"type\":\"histogram2dcontour\"}],\"mesh3d\":[{\"colorbar\":{\"outlinewidth\":0,\"ticks\":\"\"},\"type\":\"mesh3d\"}],\"parcoords\":[{\"line\":{\"colorbar\":{\"outlinewidth\":0,\"ticks\":\"\"}},\"type\":\"parcoords\"}],\"pie\":[{\"automargin\":true,\"type\":\"pie\"}],\"scatter\":[{\"marker\":{\"colorbar\":{\"outlinewidth\":0,\"ticks\":\"\"}},\"type\":\"scatter\"}],\"scatter3d\":[{\"line\":{\"colorbar\":{\"outlinewidth\":0,\"ticks\":\"\"}},\"marker\":{\"colorbar\":{\"outlinewidth\":0,\"ticks\":\"\"}},\"type\":\"scatter3d\"}],\"scattercarpet\":[{\"marker\":{\"colorbar\":{\"outlinewidth\":0,\"ticks\":\"\"}},\"type\":\"scattercarpet\"}],\"scattergeo\":[{\"marker\":{\"colorbar\":{\"outlinewidth\":0,\"ticks\":\"\"}},\"type\":\"scattergeo\"}],\"scattergl\":[{\"marker\":{\"colorbar\":{\"outlinewidth\":0,\"ticks\":\"\"}},\"type\":\"scattergl\"}],\"scattermapbox\":[{\"marker\":{\"colorbar\":{\"outlinewidth\":0,\"ticks\":\"\"}},\"type\":\"scattermapbox\"}],\"scatterpolar\":[{\"marker\":{\"colorbar\":{\"outlinewidth\":0,\"ticks\":\"\"}},\"type\":\"scatterpolar\"}],\"scatterpolargl\":[{\"marker\":{\"colorbar\":{\"outlinewidth\":0,\"ticks\":\"\"}},\"type\":\"scatterpolargl\"}],\"scatterternary\":[{\"marker\":{\"colorbar\":{\"outlinewidth\":0,\"ticks\":\"\"}},\"type\":\"scatterternary\"}],\"surface\":[{\"colorbar\":{\"outlinewidth\":0,\"ticks\":\"\"},\"colorscale\":[[0.0,\"#0d0887\"],[0.1111111111111111,\"#46039f\"],[0.2222222222222222,\"#7201a8\"],[0.3333333333333333,\"#9c179e\"],[0.4444444444444444,\"#bd3786\"],[0.5555555555555556,\"#d8576b\"],[0.6666666666666666,\"#ed7953\"],[0.7777777777777778,\"#fb9f3a\"],[0.8888888888888888,\"#fdca26\"],[1.0,\"#f0f921\"]],\"type\":\"surface\"}],\"table\":[{\"cells\":{\"fill\":{\"color\":\"#EBF0F8\"},\"line\":{\"color\":\"white\"}},\"header\":{\"fill\":{\"color\":\"#C8D4E3\"},\"line\":{\"color\":\"white\"}},\"type\":\"table\"}]},\"layout\":{\"annotationdefaults\":{\"arrowcolor\":\"#2a3f5f\",\"arrowhead\":0,\"arrowwidth\":1},\"autotypenumbers\":\"strict\",\"coloraxis\":{\"colorbar\":{\"outlinewidth\":0,\"ticks\":\"\"}},\"colorscale\":{\"diverging\":[[0,\"#8e0152\"],[0.1,\"#c51b7d\"],[0.2,\"#de77ae\"],[0.3,\"#f1b6da\"],[0.4,\"#fde0ef\"],[0.5,\"#f7f7f7\"],[0.6,\"#e6f5d0\"],[0.7,\"#b8e186\"],[0.8,\"#7fbc41\"],[0.9,\"#4d9221\"],[1,\"#276419\"]],\"sequential\":[[0.0,\"#0d0887\"],[0.1111111111111111,\"#46039f\"],[0.2222222222222222,\"#7201a8\"],[0.3333333333333333,\"#9c179e\"],[0.4444444444444444,\"#bd3786\"],[0.5555555555555556,\"#d8576b\"],[0.6666666666666666,\"#ed7953\"],[0.7777777777777778,\"#fb9f3a\"],[0.8888888888888888,\"#fdca26\"],[1.0,\"#f0f921\"]],\"sequentialminus\":[[0.0,\"#0d0887\"],[0.1111111111111111,\"#46039f\"],[0.2222222222222222,\"#7201a8\"],[0.3333333333333333,\"#9c179e\"],[0.4444444444444444,\"#bd3786\"],[0.5555555555555556,\"#d8576b\"],[0.6666666666666666,\"#ed7953\"],[0.7777777777777778,\"#fb9f3a\"],[0.8888888888888888,\"#fdca26\"],[1.0,\"#f0f921\"]]},\"colorway\":[\"#636efa\",\"#EF553B\",\"#00cc96\",\"#ab63fa\",\"#FFA15A\",\"#19d3f3\",\"#FF6692\",\"#B6E880\",\"#FF97FF\",\"#FECB52\"],\"font\":{\"color\":\"#2a3f5f\"},\"geo\":{\"bgcolor\":\"white\",\"lakecolor\":\"white\",\"landcolor\":\"#E5ECF6\",\"showlakes\":true,\"showland\":true,\"subunitcolor\":\"white\"},\"hoverlabel\":{\"align\":\"left\"},\"hovermode\":\"closest\",\"mapbox\":{\"style\":\"light\"},\"paper_bgcolor\":\"white\",\"plot_bgcolor\":\"#E5ECF6\",\"polar\":{\"angularaxis\":{\"gridcolor\":\"white\",\"linecolor\":\"white\",\"ticks\":\"\"},\"bgcolor\":\"#E5ECF6\",\"radialaxis\":{\"gridcolor\":\"white\",\"linecolor\":\"white\",\"ticks\":\"\"}},\"scene\":{\"xaxis\":{\"backgroundcolor\":\"#E5ECF6\",\"gridcolor\":\"white\",\"gridwidth\":2,\"linecolor\":\"white\",\"showbackground\":true,\"ticks\":\"\",\"zerolinecolor\":\"white\"},\"yaxis\":{\"backgroundcolor\":\"#E5ECF6\",\"gridcolor\":\"white\",\"gridwidth\":2,\"linecolor\":\"white\",\"showbackground\":true,\"ticks\":\"\",\"zerolinecolor\":\"white\"},\"zaxis\":{\"backgroundcolor\":\"#E5ECF6\",\"gridcolor\":\"white\",\"gridwidth\":2,\"linecolor\":\"white\",\"showbackground\":true,\"ticks\":\"\",\"zerolinecolor\":\"white\"}},\"shapedefaults\":{\"line\":{\"color\":\"#2a3f5f\"}},\"ternary\":{\"aaxis\":{\"gridcolor\":\"white\",\"linecolor\":\"white\",\"ticks\":\"\"},\"baxis\":{\"gridcolor\":\"white\",\"linecolor\":\"white\",\"ticks\":\"\"},\"bgcolor\":\"#E5ECF6\",\"caxis\":{\"gridcolor\":\"white\",\"linecolor\":\"white\",\"ticks\":\"\"}},\"title\":{\"x\":0.05},\"xaxis\":{\"automargin\":true,\"gridcolor\":\"white\",\"linecolor\":\"white\",\"ticks\":\"\",\"title\":{\"standoff\":15},\"zerolinecolor\":\"white\",\"zerolinewidth\":2},\"yaxis\":{\"automargin\":true,\"gridcolor\":\"white\",\"linecolor\":\"white\",\"ticks\":\"\",\"title\":{\"standoff\":15},\"zerolinecolor\":\"white\",\"zerolinewidth\":2}}},\"title\":{\"text\":\"Shot Speed vs Shot type\"},\"xaxis\":{\"title\":{\"text\":\"Shot type\"}},\"yaxis\":{\"title\":{\"text\":\"Shot Speed\"}}},                        {\"responsive\": true}                    ).then(function(){\n",
       "                            \n",
       "var gd = document.getElementById('f072d13a-cc6e-4d3e-a6ad-83182eca1348');\n",
       "var x = new MutationObserver(function (mutations, observer) {{\n",
       "        var display = window.getComputedStyle(gd).display;\n",
       "        if (!display || display === 'none') {{\n",
       "            console.log([gd, 'removed!']);\n",
       "            Plotly.purge(gd);\n",
       "            observer.disconnect();\n",
       "        }}\n",
       "}});\n",
       "\n",
       "// Listen for the removal of the full notebook cells\n",
       "var notebookContainer = gd.closest('#notebook-container');\n",
       "if (notebookContainer) {{\n",
       "    x.observe(notebookContainer, {childList: true});\n",
       "}}\n",
       "\n",
       "// Listen for the clearing of the current output cell\n",
       "var outputEl = gd.closest('.output');\n",
       "if (outputEl) {{\n",
       "    x.observe(outputEl, {childList: true});\n",
       "}}\n",
       "\n",
       "                        })                };                });            </script>        </div>"
      ]
     },
     "metadata": {},
     "output_type": "display_data"
    }
   ],
   "source": [
    "hide_me\n",
    "#créer une figure\n",
    "fig = go.Figure()\n",
    "#créer une courbe dont les x sont « world_rank » et les y sont « citations »\n",
    "trace1 = go.Box(\n",
    "    x=dfP1.Stroke, y=dfP1[\"Speed (KM/H)\"],\n",
    "    text=dfP1.Player, #annote les points avec cette variable\n",
    "    marker=dict(color='blue'), name=name1\n",
    ")\n",
    "fig.add_trace(trace1)\n",
    "#ajouter une autre courbe\n",
    "trace2 = go.Box(\n",
    "    x=dfP2.Stroke, y=dfP2[\"Speed (KM/H)\"],\n",
    "    text=dfP2.Player, #annote les points avec cette variable\n",
    "    marker=dict(color='red'), name=name2\n",
    ")\n",
    "fig.add_trace(trace2)\n",
    "#layout\n",
    "fig.update_layout(title=\"Shot Speed vs Shot type\", xaxis_title=\"Shot type\", yaxis_title=\"Shot Speed\")\n",
    "#afficher\n",
    "fig.show()"
   ]
  },
  {
   "cell_type": "markdown",
   "id": "46ea6ce1",
   "metadata": {},
   "source": [
    "# Pie Charts"
   ]
  },
  {
   "cell_type": "code",
   "execution_count": 11,
   "id": "874a448a",
   "metadata": {},
   "outputs": [],
   "source": [
    "def pie_chart(labels, lst, nameP):\n",
    "    trace5 = go.Pie(labels=labels, values=lst)\n",
    "    layout5= go.Layout(title=\"Spins for \" + nameP)\n",
    "\n",
    "    fig4= go.Figure(data=trace5, layout=layout5)\n",
    "    fig4.show()"
   ]
  },
  {
   "cell_type": "code",
   "execution_count": 12,
   "id": "6f7b4580",
   "metadata": {},
   "outputs": [
    {
     "name": "stdout",
     "output_type": "stream",
     "text": [
      "Topspin    167\n",
      "Flat       142\n",
      "Slice       82\n",
      "Kick         3\n",
      "Name: Spin, dtype: int64\n"
     ]
    },
    {
     "data": {
      "application/vnd.plotly.v1+json": {
       "config": {
        "plotlyServerURL": "https://plot.ly"
       },
       "data": [
        {
         "labels": [
          "Topspin",
          "Flat",
          "Slice",
          "Kick"
         ],
         "type": "pie",
         "values": [
          167,
          142,
          82,
          3
         ]
        }
       ],
       "layout": {
        "template": {
         "data": {
          "bar": [
           {
            "error_x": {
             "color": "#2a3f5f"
            },
            "error_y": {
             "color": "#2a3f5f"
            },
            "marker": {
             "line": {
              "color": "#E5ECF6",
              "width": 0.5
             },
             "pattern": {
              "fillmode": "overlay",
              "size": 10,
              "solidity": 0.2
             }
            },
            "type": "bar"
           }
          ],
          "barpolar": [
           {
            "marker": {
             "line": {
              "color": "#E5ECF6",
              "width": 0.5
             },
             "pattern": {
              "fillmode": "overlay",
              "size": 10,
              "solidity": 0.2
             }
            },
            "type": "barpolar"
           }
          ],
          "carpet": [
           {
            "aaxis": {
             "endlinecolor": "#2a3f5f",
             "gridcolor": "white",
             "linecolor": "white",
             "minorgridcolor": "white",
             "startlinecolor": "#2a3f5f"
            },
            "baxis": {
             "endlinecolor": "#2a3f5f",
             "gridcolor": "white",
             "linecolor": "white",
             "minorgridcolor": "white",
             "startlinecolor": "#2a3f5f"
            },
            "type": "carpet"
           }
          ],
          "choropleth": [
           {
            "colorbar": {
             "outlinewidth": 0,
             "ticks": ""
            },
            "type": "choropleth"
           }
          ],
          "contour": [
           {
            "colorbar": {
             "outlinewidth": 0,
             "ticks": ""
            },
            "colorscale": [
             [
              0,
              "#0d0887"
             ],
             [
              0.1111111111111111,
              "#46039f"
             ],
             [
              0.2222222222222222,
              "#7201a8"
             ],
             [
              0.3333333333333333,
              "#9c179e"
             ],
             [
              0.4444444444444444,
              "#bd3786"
             ],
             [
              0.5555555555555556,
              "#d8576b"
             ],
             [
              0.6666666666666666,
              "#ed7953"
             ],
             [
              0.7777777777777778,
              "#fb9f3a"
             ],
             [
              0.8888888888888888,
              "#fdca26"
             ],
             [
              1,
              "#f0f921"
             ]
            ],
            "type": "contour"
           }
          ],
          "contourcarpet": [
           {
            "colorbar": {
             "outlinewidth": 0,
             "ticks": ""
            },
            "type": "contourcarpet"
           }
          ],
          "heatmap": [
           {
            "colorbar": {
             "outlinewidth": 0,
             "ticks": ""
            },
            "colorscale": [
             [
              0,
              "#0d0887"
             ],
             [
              0.1111111111111111,
              "#46039f"
             ],
             [
              0.2222222222222222,
              "#7201a8"
             ],
             [
              0.3333333333333333,
              "#9c179e"
             ],
             [
              0.4444444444444444,
              "#bd3786"
             ],
             [
              0.5555555555555556,
              "#d8576b"
             ],
             [
              0.6666666666666666,
              "#ed7953"
             ],
             [
              0.7777777777777778,
              "#fb9f3a"
             ],
             [
              0.8888888888888888,
              "#fdca26"
             ],
             [
              1,
              "#f0f921"
             ]
            ],
            "type": "heatmap"
           }
          ],
          "heatmapgl": [
           {
            "colorbar": {
             "outlinewidth": 0,
             "ticks": ""
            },
            "colorscale": [
             [
              0,
              "#0d0887"
             ],
             [
              0.1111111111111111,
              "#46039f"
             ],
             [
              0.2222222222222222,
              "#7201a8"
             ],
             [
              0.3333333333333333,
              "#9c179e"
             ],
             [
              0.4444444444444444,
              "#bd3786"
             ],
             [
              0.5555555555555556,
              "#d8576b"
             ],
             [
              0.6666666666666666,
              "#ed7953"
             ],
             [
              0.7777777777777778,
              "#fb9f3a"
             ],
             [
              0.8888888888888888,
              "#fdca26"
             ],
             [
              1,
              "#f0f921"
             ]
            ],
            "type": "heatmapgl"
           }
          ],
          "histogram": [
           {
            "marker": {
             "pattern": {
              "fillmode": "overlay",
              "size": 10,
              "solidity": 0.2
             }
            },
            "type": "histogram"
           }
          ],
          "histogram2d": [
           {
            "colorbar": {
             "outlinewidth": 0,
             "ticks": ""
            },
            "colorscale": [
             [
              0,
              "#0d0887"
             ],
             [
              0.1111111111111111,
              "#46039f"
             ],
             [
              0.2222222222222222,
              "#7201a8"
             ],
             [
              0.3333333333333333,
              "#9c179e"
             ],
             [
              0.4444444444444444,
              "#bd3786"
             ],
             [
              0.5555555555555556,
              "#d8576b"
             ],
             [
              0.6666666666666666,
              "#ed7953"
             ],
             [
              0.7777777777777778,
              "#fb9f3a"
             ],
             [
              0.8888888888888888,
              "#fdca26"
             ],
             [
              1,
              "#f0f921"
             ]
            ],
            "type": "histogram2d"
           }
          ],
          "histogram2dcontour": [
           {
            "colorbar": {
             "outlinewidth": 0,
             "ticks": ""
            },
            "colorscale": [
             [
              0,
              "#0d0887"
             ],
             [
              0.1111111111111111,
              "#46039f"
             ],
             [
              0.2222222222222222,
              "#7201a8"
             ],
             [
              0.3333333333333333,
              "#9c179e"
             ],
             [
              0.4444444444444444,
              "#bd3786"
             ],
             [
              0.5555555555555556,
              "#d8576b"
             ],
             [
              0.6666666666666666,
              "#ed7953"
             ],
             [
              0.7777777777777778,
              "#fb9f3a"
             ],
             [
              0.8888888888888888,
              "#fdca26"
             ],
             [
              1,
              "#f0f921"
             ]
            ],
            "type": "histogram2dcontour"
           }
          ],
          "mesh3d": [
           {
            "colorbar": {
             "outlinewidth": 0,
             "ticks": ""
            },
            "type": "mesh3d"
           }
          ],
          "parcoords": [
           {
            "line": {
             "colorbar": {
              "outlinewidth": 0,
              "ticks": ""
             }
            },
            "type": "parcoords"
           }
          ],
          "pie": [
           {
            "automargin": true,
            "type": "pie"
           }
          ],
          "scatter": [
           {
            "marker": {
             "colorbar": {
              "outlinewidth": 0,
              "ticks": ""
             }
            },
            "type": "scatter"
           }
          ],
          "scatter3d": [
           {
            "line": {
             "colorbar": {
              "outlinewidth": 0,
              "ticks": ""
             }
            },
            "marker": {
             "colorbar": {
              "outlinewidth": 0,
              "ticks": ""
             }
            },
            "type": "scatter3d"
           }
          ],
          "scattercarpet": [
           {
            "marker": {
             "colorbar": {
              "outlinewidth": 0,
              "ticks": ""
             }
            },
            "type": "scattercarpet"
           }
          ],
          "scattergeo": [
           {
            "marker": {
             "colorbar": {
              "outlinewidth": 0,
              "ticks": ""
             }
            },
            "type": "scattergeo"
           }
          ],
          "scattergl": [
           {
            "marker": {
             "colorbar": {
              "outlinewidth": 0,
              "ticks": ""
             }
            },
            "type": "scattergl"
           }
          ],
          "scattermapbox": [
           {
            "marker": {
             "colorbar": {
              "outlinewidth": 0,
              "ticks": ""
             }
            },
            "type": "scattermapbox"
           }
          ],
          "scatterpolar": [
           {
            "marker": {
             "colorbar": {
              "outlinewidth": 0,
              "ticks": ""
             }
            },
            "type": "scatterpolar"
           }
          ],
          "scatterpolargl": [
           {
            "marker": {
             "colorbar": {
              "outlinewidth": 0,
              "ticks": ""
             }
            },
            "type": "scatterpolargl"
           }
          ],
          "scatterternary": [
           {
            "marker": {
             "colorbar": {
              "outlinewidth": 0,
              "ticks": ""
             }
            },
            "type": "scatterternary"
           }
          ],
          "surface": [
           {
            "colorbar": {
             "outlinewidth": 0,
             "ticks": ""
            },
            "colorscale": [
             [
              0,
              "#0d0887"
             ],
             [
              0.1111111111111111,
              "#46039f"
             ],
             [
              0.2222222222222222,
              "#7201a8"
             ],
             [
              0.3333333333333333,
              "#9c179e"
             ],
             [
              0.4444444444444444,
              "#bd3786"
             ],
             [
              0.5555555555555556,
              "#d8576b"
             ],
             [
              0.6666666666666666,
              "#ed7953"
             ],
             [
              0.7777777777777778,
              "#fb9f3a"
             ],
             [
              0.8888888888888888,
              "#fdca26"
             ],
             [
              1,
              "#f0f921"
             ]
            ],
            "type": "surface"
           }
          ],
          "table": [
           {
            "cells": {
             "fill": {
              "color": "#EBF0F8"
             },
             "line": {
              "color": "white"
             }
            },
            "header": {
             "fill": {
              "color": "#C8D4E3"
             },
             "line": {
              "color": "white"
             }
            },
            "type": "table"
           }
          ]
         },
         "layout": {
          "annotationdefaults": {
           "arrowcolor": "#2a3f5f",
           "arrowhead": 0,
           "arrowwidth": 1
          },
          "autotypenumbers": "strict",
          "coloraxis": {
           "colorbar": {
            "outlinewidth": 0,
            "ticks": ""
           }
          },
          "colorscale": {
           "diverging": [
            [
             0,
             "#8e0152"
            ],
            [
             0.1,
             "#c51b7d"
            ],
            [
             0.2,
             "#de77ae"
            ],
            [
             0.3,
             "#f1b6da"
            ],
            [
             0.4,
             "#fde0ef"
            ],
            [
             0.5,
             "#f7f7f7"
            ],
            [
             0.6,
             "#e6f5d0"
            ],
            [
             0.7,
             "#b8e186"
            ],
            [
             0.8,
             "#7fbc41"
            ],
            [
             0.9,
             "#4d9221"
            ],
            [
             1,
             "#276419"
            ]
           ],
           "sequential": [
            [
             0,
             "#0d0887"
            ],
            [
             0.1111111111111111,
             "#46039f"
            ],
            [
             0.2222222222222222,
             "#7201a8"
            ],
            [
             0.3333333333333333,
             "#9c179e"
            ],
            [
             0.4444444444444444,
             "#bd3786"
            ],
            [
             0.5555555555555556,
             "#d8576b"
            ],
            [
             0.6666666666666666,
             "#ed7953"
            ],
            [
             0.7777777777777778,
             "#fb9f3a"
            ],
            [
             0.8888888888888888,
             "#fdca26"
            ],
            [
             1,
             "#f0f921"
            ]
           ],
           "sequentialminus": [
            [
             0,
             "#0d0887"
            ],
            [
             0.1111111111111111,
             "#46039f"
            ],
            [
             0.2222222222222222,
             "#7201a8"
            ],
            [
             0.3333333333333333,
             "#9c179e"
            ],
            [
             0.4444444444444444,
             "#bd3786"
            ],
            [
             0.5555555555555556,
             "#d8576b"
            ],
            [
             0.6666666666666666,
             "#ed7953"
            ],
            [
             0.7777777777777778,
             "#fb9f3a"
            ],
            [
             0.8888888888888888,
             "#fdca26"
            ],
            [
             1,
             "#f0f921"
            ]
           ]
          },
          "colorway": [
           "#636efa",
           "#EF553B",
           "#00cc96",
           "#ab63fa",
           "#FFA15A",
           "#19d3f3",
           "#FF6692",
           "#B6E880",
           "#FF97FF",
           "#FECB52"
          ],
          "font": {
           "color": "#2a3f5f"
          },
          "geo": {
           "bgcolor": "white",
           "lakecolor": "white",
           "landcolor": "#E5ECF6",
           "showlakes": true,
           "showland": true,
           "subunitcolor": "white"
          },
          "hoverlabel": {
           "align": "left"
          },
          "hovermode": "closest",
          "mapbox": {
           "style": "light"
          },
          "paper_bgcolor": "white",
          "plot_bgcolor": "#E5ECF6",
          "polar": {
           "angularaxis": {
            "gridcolor": "white",
            "linecolor": "white",
            "ticks": ""
           },
           "bgcolor": "#E5ECF6",
           "radialaxis": {
            "gridcolor": "white",
            "linecolor": "white",
            "ticks": ""
           }
          },
          "scene": {
           "xaxis": {
            "backgroundcolor": "#E5ECF6",
            "gridcolor": "white",
            "gridwidth": 2,
            "linecolor": "white",
            "showbackground": true,
            "ticks": "",
            "zerolinecolor": "white"
           },
           "yaxis": {
            "backgroundcolor": "#E5ECF6",
            "gridcolor": "white",
            "gridwidth": 2,
            "linecolor": "white",
            "showbackground": true,
            "ticks": "",
            "zerolinecolor": "white"
           },
           "zaxis": {
            "backgroundcolor": "#E5ECF6",
            "gridcolor": "white",
            "gridwidth": 2,
            "linecolor": "white",
            "showbackground": true,
            "ticks": "",
            "zerolinecolor": "white"
           }
          },
          "shapedefaults": {
           "line": {
            "color": "#2a3f5f"
           }
          },
          "ternary": {
           "aaxis": {
            "gridcolor": "white",
            "linecolor": "white",
            "ticks": ""
           },
           "baxis": {
            "gridcolor": "white",
            "linecolor": "white",
            "ticks": ""
           },
           "bgcolor": "#E5ECF6",
           "caxis": {
            "gridcolor": "white",
            "linecolor": "white",
            "ticks": ""
           }
          },
          "title": {
           "x": 0.05
          },
          "xaxis": {
           "automargin": true,
           "gridcolor": "white",
           "linecolor": "white",
           "ticks": "",
           "title": {
            "standoff": 15
           },
           "zerolinecolor": "white",
           "zerolinewidth": 2
          },
          "yaxis": {
           "automargin": true,
           "gridcolor": "white",
           "linecolor": "white",
           "ticks": "",
           "title": {
            "standoff": 15
           },
           "zerolinecolor": "white",
           "zerolinewidth": 2
          }
         }
        },
        "title": {
         "text": "Spins for Pospisil"
        }
       }
      },
      "text/html": [
       "<div>                            <div id=\"a8e97727-2f15-40c2-b254-c9c94e89b01f\" class=\"plotly-graph-div\" style=\"height:525px; width:100%;\"></div>            <script type=\"text/javascript\">                require([\"plotly\"], function(Plotly) {                    window.PLOTLYENV=window.PLOTLYENV || {};                                    if (document.getElementById(\"a8e97727-2f15-40c2-b254-c9c94e89b01f\")) {                    Plotly.newPlot(                        \"a8e97727-2f15-40c2-b254-c9c94e89b01f\",                        [{\"labels\":[\"Topspin\",\"Flat\",\"Slice\",\"Kick\"],\"values\":[167,142,82,3],\"type\":\"pie\"}],                        {\"title\":{\"text\":\"Spins for Pospisil\"},\"template\":{\"data\":{\"bar\":[{\"error_x\":{\"color\":\"#2a3f5f\"},\"error_y\":{\"color\":\"#2a3f5f\"},\"marker\":{\"line\":{\"color\":\"#E5ECF6\",\"width\":0.5},\"pattern\":{\"fillmode\":\"overlay\",\"size\":10,\"solidity\":0.2}},\"type\":\"bar\"}],\"barpolar\":[{\"marker\":{\"line\":{\"color\":\"#E5ECF6\",\"width\":0.5},\"pattern\":{\"fillmode\":\"overlay\",\"size\":10,\"solidity\":0.2}},\"type\":\"barpolar\"}],\"carpet\":[{\"aaxis\":{\"endlinecolor\":\"#2a3f5f\",\"gridcolor\":\"white\",\"linecolor\":\"white\",\"minorgridcolor\":\"white\",\"startlinecolor\":\"#2a3f5f\"},\"baxis\":{\"endlinecolor\":\"#2a3f5f\",\"gridcolor\":\"white\",\"linecolor\":\"white\",\"minorgridcolor\":\"white\",\"startlinecolor\":\"#2a3f5f\"},\"type\":\"carpet\"}],\"choropleth\":[{\"colorbar\":{\"outlinewidth\":0,\"ticks\":\"\"},\"type\":\"choropleth\"}],\"contour\":[{\"colorbar\":{\"outlinewidth\":0,\"ticks\":\"\"},\"colorscale\":[[0.0,\"#0d0887\"],[0.1111111111111111,\"#46039f\"],[0.2222222222222222,\"#7201a8\"],[0.3333333333333333,\"#9c179e\"],[0.4444444444444444,\"#bd3786\"],[0.5555555555555556,\"#d8576b\"],[0.6666666666666666,\"#ed7953\"],[0.7777777777777778,\"#fb9f3a\"],[0.8888888888888888,\"#fdca26\"],[1.0,\"#f0f921\"]],\"type\":\"contour\"}],\"contourcarpet\":[{\"colorbar\":{\"outlinewidth\":0,\"ticks\":\"\"},\"type\":\"contourcarpet\"}],\"heatmap\":[{\"colorbar\":{\"outlinewidth\":0,\"ticks\":\"\"},\"colorscale\":[[0.0,\"#0d0887\"],[0.1111111111111111,\"#46039f\"],[0.2222222222222222,\"#7201a8\"],[0.3333333333333333,\"#9c179e\"],[0.4444444444444444,\"#bd3786\"],[0.5555555555555556,\"#d8576b\"],[0.6666666666666666,\"#ed7953\"],[0.7777777777777778,\"#fb9f3a\"],[0.8888888888888888,\"#fdca26\"],[1.0,\"#f0f921\"]],\"type\":\"heatmap\"}],\"heatmapgl\":[{\"colorbar\":{\"outlinewidth\":0,\"ticks\":\"\"},\"colorscale\":[[0.0,\"#0d0887\"],[0.1111111111111111,\"#46039f\"],[0.2222222222222222,\"#7201a8\"],[0.3333333333333333,\"#9c179e\"],[0.4444444444444444,\"#bd3786\"],[0.5555555555555556,\"#d8576b\"],[0.6666666666666666,\"#ed7953\"],[0.7777777777777778,\"#fb9f3a\"],[0.8888888888888888,\"#fdca26\"],[1.0,\"#f0f921\"]],\"type\":\"heatmapgl\"}],\"histogram\":[{\"marker\":{\"pattern\":{\"fillmode\":\"overlay\",\"size\":10,\"solidity\":0.2}},\"type\":\"histogram\"}],\"histogram2d\":[{\"colorbar\":{\"outlinewidth\":0,\"ticks\":\"\"},\"colorscale\":[[0.0,\"#0d0887\"],[0.1111111111111111,\"#46039f\"],[0.2222222222222222,\"#7201a8\"],[0.3333333333333333,\"#9c179e\"],[0.4444444444444444,\"#bd3786\"],[0.5555555555555556,\"#d8576b\"],[0.6666666666666666,\"#ed7953\"],[0.7777777777777778,\"#fb9f3a\"],[0.8888888888888888,\"#fdca26\"],[1.0,\"#f0f921\"]],\"type\":\"histogram2d\"}],\"histogram2dcontour\":[{\"colorbar\":{\"outlinewidth\":0,\"ticks\":\"\"},\"colorscale\":[[0.0,\"#0d0887\"],[0.1111111111111111,\"#46039f\"],[0.2222222222222222,\"#7201a8\"],[0.3333333333333333,\"#9c179e\"],[0.4444444444444444,\"#bd3786\"],[0.5555555555555556,\"#d8576b\"],[0.6666666666666666,\"#ed7953\"],[0.7777777777777778,\"#fb9f3a\"],[0.8888888888888888,\"#fdca26\"],[1.0,\"#f0f921\"]],\"type\":\"histogram2dcontour\"}],\"mesh3d\":[{\"colorbar\":{\"outlinewidth\":0,\"ticks\":\"\"},\"type\":\"mesh3d\"}],\"parcoords\":[{\"line\":{\"colorbar\":{\"outlinewidth\":0,\"ticks\":\"\"}},\"type\":\"parcoords\"}],\"pie\":[{\"automargin\":true,\"type\":\"pie\"}],\"scatter\":[{\"marker\":{\"colorbar\":{\"outlinewidth\":0,\"ticks\":\"\"}},\"type\":\"scatter\"}],\"scatter3d\":[{\"line\":{\"colorbar\":{\"outlinewidth\":0,\"ticks\":\"\"}},\"marker\":{\"colorbar\":{\"outlinewidth\":0,\"ticks\":\"\"}},\"type\":\"scatter3d\"}],\"scattercarpet\":[{\"marker\":{\"colorbar\":{\"outlinewidth\":0,\"ticks\":\"\"}},\"type\":\"scattercarpet\"}],\"scattergeo\":[{\"marker\":{\"colorbar\":{\"outlinewidth\":0,\"ticks\":\"\"}},\"type\":\"scattergeo\"}],\"scattergl\":[{\"marker\":{\"colorbar\":{\"outlinewidth\":0,\"ticks\":\"\"}},\"type\":\"scattergl\"}],\"scattermapbox\":[{\"marker\":{\"colorbar\":{\"outlinewidth\":0,\"ticks\":\"\"}},\"type\":\"scattermapbox\"}],\"scatterpolar\":[{\"marker\":{\"colorbar\":{\"outlinewidth\":0,\"ticks\":\"\"}},\"type\":\"scatterpolar\"}],\"scatterpolargl\":[{\"marker\":{\"colorbar\":{\"outlinewidth\":0,\"ticks\":\"\"}},\"type\":\"scatterpolargl\"}],\"scatterternary\":[{\"marker\":{\"colorbar\":{\"outlinewidth\":0,\"ticks\":\"\"}},\"type\":\"scatterternary\"}],\"surface\":[{\"colorbar\":{\"outlinewidth\":0,\"ticks\":\"\"},\"colorscale\":[[0.0,\"#0d0887\"],[0.1111111111111111,\"#46039f\"],[0.2222222222222222,\"#7201a8\"],[0.3333333333333333,\"#9c179e\"],[0.4444444444444444,\"#bd3786\"],[0.5555555555555556,\"#d8576b\"],[0.6666666666666666,\"#ed7953\"],[0.7777777777777778,\"#fb9f3a\"],[0.8888888888888888,\"#fdca26\"],[1.0,\"#f0f921\"]],\"type\":\"surface\"}],\"table\":[{\"cells\":{\"fill\":{\"color\":\"#EBF0F8\"},\"line\":{\"color\":\"white\"}},\"header\":{\"fill\":{\"color\":\"#C8D4E3\"},\"line\":{\"color\":\"white\"}},\"type\":\"table\"}]},\"layout\":{\"annotationdefaults\":{\"arrowcolor\":\"#2a3f5f\",\"arrowhead\":0,\"arrowwidth\":1},\"autotypenumbers\":\"strict\",\"coloraxis\":{\"colorbar\":{\"outlinewidth\":0,\"ticks\":\"\"}},\"colorscale\":{\"diverging\":[[0,\"#8e0152\"],[0.1,\"#c51b7d\"],[0.2,\"#de77ae\"],[0.3,\"#f1b6da\"],[0.4,\"#fde0ef\"],[0.5,\"#f7f7f7\"],[0.6,\"#e6f5d0\"],[0.7,\"#b8e186\"],[0.8,\"#7fbc41\"],[0.9,\"#4d9221\"],[1,\"#276419\"]],\"sequential\":[[0.0,\"#0d0887\"],[0.1111111111111111,\"#46039f\"],[0.2222222222222222,\"#7201a8\"],[0.3333333333333333,\"#9c179e\"],[0.4444444444444444,\"#bd3786\"],[0.5555555555555556,\"#d8576b\"],[0.6666666666666666,\"#ed7953\"],[0.7777777777777778,\"#fb9f3a\"],[0.8888888888888888,\"#fdca26\"],[1.0,\"#f0f921\"]],\"sequentialminus\":[[0.0,\"#0d0887\"],[0.1111111111111111,\"#46039f\"],[0.2222222222222222,\"#7201a8\"],[0.3333333333333333,\"#9c179e\"],[0.4444444444444444,\"#bd3786\"],[0.5555555555555556,\"#d8576b\"],[0.6666666666666666,\"#ed7953\"],[0.7777777777777778,\"#fb9f3a\"],[0.8888888888888888,\"#fdca26\"],[1.0,\"#f0f921\"]]},\"colorway\":[\"#636efa\",\"#EF553B\",\"#00cc96\",\"#ab63fa\",\"#FFA15A\",\"#19d3f3\",\"#FF6692\",\"#B6E880\",\"#FF97FF\",\"#FECB52\"],\"font\":{\"color\":\"#2a3f5f\"},\"geo\":{\"bgcolor\":\"white\",\"lakecolor\":\"white\",\"landcolor\":\"#E5ECF6\",\"showlakes\":true,\"showland\":true,\"subunitcolor\":\"white\"},\"hoverlabel\":{\"align\":\"left\"},\"hovermode\":\"closest\",\"mapbox\":{\"style\":\"light\"},\"paper_bgcolor\":\"white\",\"plot_bgcolor\":\"#E5ECF6\",\"polar\":{\"angularaxis\":{\"gridcolor\":\"white\",\"linecolor\":\"white\",\"ticks\":\"\"},\"bgcolor\":\"#E5ECF6\",\"radialaxis\":{\"gridcolor\":\"white\",\"linecolor\":\"white\",\"ticks\":\"\"}},\"scene\":{\"xaxis\":{\"backgroundcolor\":\"#E5ECF6\",\"gridcolor\":\"white\",\"gridwidth\":2,\"linecolor\":\"white\",\"showbackground\":true,\"ticks\":\"\",\"zerolinecolor\":\"white\"},\"yaxis\":{\"backgroundcolor\":\"#E5ECF6\",\"gridcolor\":\"white\",\"gridwidth\":2,\"linecolor\":\"white\",\"showbackground\":true,\"ticks\":\"\",\"zerolinecolor\":\"white\"},\"zaxis\":{\"backgroundcolor\":\"#E5ECF6\",\"gridcolor\":\"white\",\"gridwidth\":2,\"linecolor\":\"white\",\"showbackground\":true,\"ticks\":\"\",\"zerolinecolor\":\"white\"}},\"shapedefaults\":{\"line\":{\"color\":\"#2a3f5f\"}},\"ternary\":{\"aaxis\":{\"gridcolor\":\"white\",\"linecolor\":\"white\",\"ticks\":\"\"},\"baxis\":{\"gridcolor\":\"white\",\"linecolor\":\"white\",\"ticks\":\"\"},\"bgcolor\":\"#E5ECF6\",\"caxis\":{\"gridcolor\":\"white\",\"linecolor\":\"white\",\"ticks\":\"\"}},\"title\":{\"x\":0.05},\"xaxis\":{\"automargin\":true,\"gridcolor\":\"white\",\"linecolor\":\"white\",\"ticks\":\"\",\"title\":{\"standoff\":15},\"zerolinecolor\":\"white\",\"zerolinewidth\":2},\"yaxis\":{\"automargin\":true,\"gridcolor\":\"white\",\"linecolor\":\"white\",\"ticks\":\"\",\"title\":{\"standoff\":15},\"zerolinecolor\":\"white\",\"zerolinewidth\":2}}}},                        {\"responsive\": true}                    ).then(function(){\n",
       "                            \n",
       "var gd = document.getElementById('a8e97727-2f15-40c2-b254-c9c94e89b01f');\n",
       "var x = new MutationObserver(function (mutations, observer) {{\n",
       "        var display = window.getComputedStyle(gd).display;\n",
       "        if (!display || display === 'none') {{\n",
       "            console.log([gd, 'removed!']);\n",
       "            Plotly.purge(gd);\n",
       "            observer.disconnect();\n",
       "        }}\n",
       "}});\n",
       "\n",
       "// Listen for the removal of the full notebook cells\n",
       "var notebookContainer = gd.closest('#notebook-container');\n",
       "if (notebookContainer) {{\n",
       "    x.observe(notebookContainer, {childList: true});\n",
       "}}\n",
       "\n",
       "// Listen for the clearing of the current output cell\n",
       "var outputEl = gd.closest('.output');\n",
       "if (outputEl) {{\n",
       "    x.observe(outputEl, {childList: true});\n",
       "}}\n",
       "\n",
       "                        })                };                });            </script>        </div>"
      ]
     },
     "metadata": {},
     "output_type": "display_data"
    }
   ],
   "source": [
    "\n",
    "hide_me\n",
    "lst =dfP1[\"Spin\"].value_counts()\n",
    "labels=(lst.index)\n",
    "print(lst)\n",
    "pie_chart(labels, lst, name1)"
   ]
  },
  {
   "cell_type": "code",
   "execution_count": 13,
   "id": "e746cd2d",
   "metadata": {},
   "outputs": [
    {
     "name": "stdout",
     "output_type": "stream",
     "text": [
      "Flat       164\n",
      "Topspin    150\n",
      "Slice       56\n",
      "Kick        15\n",
      "Name: Spin, dtype: int64\n"
     ]
    },
    {
     "data": {
      "application/vnd.plotly.v1+json": {
       "config": {
        "plotlyServerURL": "https://plot.ly"
       },
       "data": [
        {
         "labels": [
          "Flat",
          "Topspin",
          "Slice",
          "Kick"
         ],
         "type": "pie",
         "values": [
          164,
          150,
          56,
          15
         ]
        }
       ],
       "layout": {
        "template": {
         "data": {
          "bar": [
           {
            "error_x": {
             "color": "#2a3f5f"
            },
            "error_y": {
             "color": "#2a3f5f"
            },
            "marker": {
             "line": {
              "color": "#E5ECF6",
              "width": 0.5
             },
             "pattern": {
              "fillmode": "overlay",
              "size": 10,
              "solidity": 0.2
             }
            },
            "type": "bar"
           }
          ],
          "barpolar": [
           {
            "marker": {
             "line": {
              "color": "#E5ECF6",
              "width": 0.5
             },
             "pattern": {
              "fillmode": "overlay",
              "size": 10,
              "solidity": 0.2
             }
            },
            "type": "barpolar"
           }
          ],
          "carpet": [
           {
            "aaxis": {
             "endlinecolor": "#2a3f5f",
             "gridcolor": "white",
             "linecolor": "white",
             "minorgridcolor": "white",
             "startlinecolor": "#2a3f5f"
            },
            "baxis": {
             "endlinecolor": "#2a3f5f",
             "gridcolor": "white",
             "linecolor": "white",
             "minorgridcolor": "white",
             "startlinecolor": "#2a3f5f"
            },
            "type": "carpet"
           }
          ],
          "choropleth": [
           {
            "colorbar": {
             "outlinewidth": 0,
             "ticks": ""
            },
            "type": "choropleth"
           }
          ],
          "contour": [
           {
            "colorbar": {
             "outlinewidth": 0,
             "ticks": ""
            },
            "colorscale": [
             [
              0,
              "#0d0887"
             ],
             [
              0.1111111111111111,
              "#46039f"
             ],
             [
              0.2222222222222222,
              "#7201a8"
             ],
             [
              0.3333333333333333,
              "#9c179e"
             ],
             [
              0.4444444444444444,
              "#bd3786"
             ],
             [
              0.5555555555555556,
              "#d8576b"
             ],
             [
              0.6666666666666666,
              "#ed7953"
             ],
             [
              0.7777777777777778,
              "#fb9f3a"
             ],
             [
              0.8888888888888888,
              "#fdca26"
             ],
             [
              1,
              "#f0f921"
             ]
            ],
            "type": "contour"
           }
          ],
          "contourcarpet": [
           {
            "colorbar": {
             "outlinewidth": 0,
             "ticks": ""
            },
            "type": "contourcarpet"
           }
          ],
          "heatmap": [
           {
            "colorbar": {
             "outlinewidth": 0,
             "ticks": ""
            },
            "colorscale": [
             [
              0,
              "#0d0887"
             ],
             [
              0.1111111111111111,
              "#46039f"
             ],
             [
              0.2222222222222222,
              "#7201a8"
             ],
             [
              0.3333333333333333,
              "#9c179e"
             ],
             [
              0.4444444444444444,
              "#bd3786"
             ],
             [
              0.5555555555555556,
              "#d8576b"
             ],
             [
              0.6666666666666666,
              "#ed7953"
             ],
             [
              0.7777777777777778,
              "#fb9f3a"
             ],
             [
              0.8888888888888888,
              "#fdca26"
             ],
             [
              1,
              "#f0f921"
             ]
            ],
            "type": "heatmap"
           }
          ],
          "heatmapgl": [
           {
            "colorbar": {
             "outlinewidth": 0,
             "ticks": ""
            },
            "colorscale": [
             [
              0,
              "#0d0887"
             ],
             [
              0.1111111111111111,
              "#46039f"
             ],
             [
              0.2222222222222222,
              "#7201a8"
             ],
             [
              0.3333333333333333,
              "#9c179e"
             ],
             [
              0.4444444444444444,
              "#bd3786"
             ],
             [
              0.5555555555555556,
              "#d8576b"
             ],
             [
              0.6666666666666666,
              "#ed7953"
             ],
             [
              0.7777777777777778,
              "#fb9f3a"
             ],
             [
              0.8888888888888888,
              "#fdca26"
             ],
             [
              1,
              "#f0f921"
             ]
            ],
            "type": "heatmapgl"
           }
          ],
          "histogram": [
           {
            "marker": {
             "pattern": {
              "fillmode": "overlay",
              "size": 10,
              "solidity": 0.2
             }
            },
            "type": "histogram"
           }
          ],
          "histogram2d": [
           {
            "colorbar": {
             "outlinewidth": 0,
             "ticks": ""
            },
            "colorscale": [
             [
              0,
              "#0d0887"
             ],
             [
              0.1111111111111111,
              "#46039f"
             ],
             [
              0.2222222222222222,
              "#7201a8"
             ],
             [
              0.3333333333333333,
              "#9c179e"
             ],
             [
              0.4444444444444444,
              "#bd3786"
             ],
             [
              0.5555555555555556,
              "#d8576b"
             ],
             [
              0.6666666666666666,
              "#ed7953"
             ],
             [
              0.7777777777777778,
              "#fb9f3a"
             ],
             [
              0.8888888888888888,
              "#fdca26"
             ],
             [
              1,
              "#f0f921"
             ]
            ],
            "type": "histogram2d"
           }
          ],
          "histogram2dcontour": [
           {
            "colorbar": {
             "outlinewidth": 0,
             "ticks": ""
            },
            "colorscale": [
             [
              0,
              "#0d0887"
             ],
             [
              0.1111111111111111,
              "#46039f"
             ],
             [
              0.2222222222222222,
              "#7201a8"
             ],
             [
              0.3333333333333333,
              "#9c179e"
             ],
             [
              0.4444444444444444,
              "#bd3786"
             ],
             [
              0.5555555555555556,
              "#d8576b"
             ],
             [
              0.6666666666666666,
              "#ed7953"
             ],
             [
              0.7777777777777778,
              "#fb9f3a"
             ],
             [
              0.8888888888888888,
              "#fdca26"
             ],
             [
              1,
              "#f0f921"
             ]
            ],
            "type": "histogram2dcontour"
           }
          ],
          "mesh3d": [
           {
            "colorbar": {
             "outlinewidth": 0,
             "ticks": ""
            },
            "type": "mesh3d"
           }
          ],
          "parcoords": [
           {
            "line": {
             "colorbar": {
              "outlinewidth": 0,
              "ticks": ""
             }
            },
            "type": "parcoords"
           }
          ],
          "pie": [
           {
            "automargin": true,
            "type": "pie"
           }
          ],
          "scatter": [
           {
            "marker": {
             "colorbar": {
              "outlinewidth": 0,
              "ticks": ""
             }
            },
            "type": "scatter"
           }
          ],
          "scatter3d": [
           {
            "line": {
             "colorbar": {
              "outlinewidth": 0,
              "ticks": ""
             }
            },
            "marker": {
             "colorbar": {
              "outlinewidth": 0,
              "ticks": ""
             }
            },
            "type": "scatter3d"
           }
          ],
          "scattercarpet": [
           {
            "marker": {
             "colorbar": {
              "outlinewidth": 0,
              "ticks": ""
             }
            },
            "type": "scattercarpet"
           }
          ],
          "scattergeo": [
           {
            "marker": {
             "colorbar": {
              "outlinewidth": 0,
              "ticks": ""
             }
            },
            "type": "scattergeo"
           }
          ],
          "scattergl": [
           {
            "marker": {
             "colorbar": {
              "outlinewidth": 0,
              "ticks": ""
             }
            },
            "type": "scattergl"
           }
          ],
          "scattermapbox": [
           {
            "marker": {
             "colorbar": {
              "outlinewidth": 0,
              "ticks": ""
             }
            },
            "type": "scattermapbox"
           }
          ],
          "scatterpolar": [
           {
            "marker": {
             "colorbar": {
              "outlinewidth": 0,
              "ticks": ""
             }
            },
            "type": "scatterpolar"
           }
          ],
          "scatterpolargl": [
           {
            "marker": {
             "colorbar": {
              "outlinewidth": 0,
              "ticks": ""
             }
            },
            "type": "scatterpolargl"
           }
          ],
          "scatterternary": [
           {
            "marker": {
             "colorbar": {
              "outlinewidth": 0,
              "ticks": ""
             }
            },
            "type": "scatterternary"
           }
          ],
          "surface": [
           {
            "colorbar": {
             "outlinewidth": 0,
             "ticks": ""
            },
            "colorscale": [
             [
              0,
              "#0d0887"
             ],
             [
              0.1111111111111111,
              "#46039f"
             ],
             [
              0.2222222222222222,
              "#7201a8"
             ],
             [
              0.3333333333333333,
              "#9c179e"
             ],
             [
              0.4444444444444444,
              "#bd3786"
             ],
             [
              0.5555555555555556,
              "#d8576b"
             ],
             [
              0.6666666666666666,
              "#ed7953"
             ],
             [
              0.7777777777777778,
              "#fb9f3a"
             ],
             [
              0.8888888888888888,
              "#fdca26"
             ],
             [
              1,
              "#f0f921"
             ]
            ],
            "type": "surface"
           }
          ],
          "table": [
           {
            "cells": {
             "fill": {
              "color": "#EBF0F8"
             },
             "line": {
              "color": "white"
             }
            },
            "header": {
             "fill": {
              "color": "#C8D4E3"
             },
             "line": {
              "color": "white"
             }
            },
            "type": "table"
           }
          ]
         },
         "layout": {
          "annotationdefaults": {
           "arrowcolor": "#2a3f5f",
           "arrowhead": 0,
           "arrowwidth": 1
          },
          "autotypenumbers": "strict",
          "coloraxis": {
           "colorbar": {
            "outlinewidth": 0,
            "ticks": ""
           }
          },
          "colorscale": {
           "diverging": [
            [
             0,
             "#8e0152"
            ],
            [
             0.1,
             "#c51b7d"
            ],
            [
             0.2,
             "#de77ae"
            ],
            [
             0.3,
             "#f1b6da"
            ],
            [
             0.4,
             "#fde0ef"
            ],
            [
             0.5,
             "#f7f7f7"
            ],
            [
             0.6,
             "#e6f5d0"
            ],
            [
             0.7,
             "#b8e186"
            ],
            [
             0.8,
             "#7fbc41"
            ],
            [
             0.9,
             "#4d9221"
            ],
            [
             1,
             "#276419"
            ]
           ],
           "sequential": [
            [
             0,
             "#0d0887"
            ],
            [
             0.1111111111111111,
             "#46039f"
            ],
            [
             0.2222222222222222,
             "#7201a8"
            ],
            [
             0.3333333333333333,
             "#9c179e"
            ],
            [
             0.4444444444444444,
             "#bd3786"
            ],
            [
             0.5555555555555556,
             "#d8576b"
            ],
            [
             0.6666666666666666,
             "#ed7953"
            ],
            [
             0.7777777777777778,
             "#fb9f3a"
            ],
            [
             0.8888888888888888,
             "#fdca26"
            ],
            [
             1,
             "#f0f921"
            ]
           ],
           "sequentialminus": [
            [
             0,
             "#0d0887"
            ],
            [
             0.1111111111111111,
             "#46039f"
            ],
            [
             0.2222222222222222,
             "#7201a8"
            ],
            [
             0.3333333333333333,
             "#9c179e"
            ],
            [
             0.4444444444444444,
             "#bd3786"
            ],
            [
             0.5555555555555556,
             "#d8576b"
            ],
            [
             0.6666666666666666,
             "#ed7953"
            ],
            [
             0.7777777777777778,
             "#fb9f3a"
            ],
            [
             0.8888888888888888,
             "#fdca26"
            ],
            [
             1,
             "#f0f921"
            ]
           ]
          },
          "colorway": [
           "#636efa",
           "#EF553B",
           "#00cc96",
           "#ab63fa",
           "#FFA15A",
           "#19d3f3",
           "#FF6692",
           "#B6E880",
           "#FF97FF",
           "#FECB52"
          ],
          "font": {
           "color": "#2a3f5f"
          },
          "geo": {
           "bgcolor": "white",
           "lakecolor": "white",
           "landcolor": "#E5ECF6",
           "showlakes": true,
           "showland": true,
           "subunitcolor": "white"
          },
          "hoverlabel": {
           "align": "left"
          },
          "hovermode": "closest",
          "mapbox": {
           "style": "light"
          },
          "paper_bgcolor": "white",
          "plot_bgcolor": "#E5ECF6",
          "polar": {
           "angularaxis": {
            "gridcolor": "white",
            "linecolor": "white",
            "ticks": ""
           },
           "bgcolor": "#E5ECF6",
           "radialaxis": {
            "gridcolor": "white",
            "linecolor": "white",
            "ticks": ""
           }
          },
          "scene": {
           "xaxis": {
            "backgroundcolor": "#E5ECF6",
            "gridcolor": "white",
            "gridwidth": 2,
            "linecolor": "white",
            "showbackground": true,
            "ticks": "",
            "zerolinecolor": "white"
           },
           "yaxis": {
            "backgroundcolor": "#E5ECF6",
            "gridcolor": "white",
            "gridwidth": 2,
            "linecolor": "white",
            "showbackground": true,
            "ticks": "",
            "zerolinecolor": "white"
           },
           "zaxis": {
            "backgroundcolor": "#E5ECF6",
            "gridcolor": "white",
            "gridwidth": 2,
            "linecolor": "white",
            "showbackground": true,
            "ticks": "",
            "zerolinecolor": "white"
           }
          },
          "shapedefaults": {
           "line": {
            "color": "#2a3f5f"
           }
          },
          "ternary": {
           "aaxis": {
            "gridcolor": "white",
            "linecolor": "white",
            "ticks": ""
           },
           "baxis": {
            "gridcolor": "white",
            "linecolor": "white",
            "ticks": ""
           },
           "bgcolor": "#E5ECF6",
           "caxis": {
            "gridcolor": "white",
            "linecolor": "white",
            "ticks": ""
           }
          },
          "title": {
           "x": 0.05
          },
          "xaxis": {
           "automargin": true,
           "gridcolor": "white",
           "linecolor": "white",
           "ticks": "",
           "title": {
            "standoff": 15
           },
           "zerolinecolor": "white",
           "zerolinewidth": 2
          },
          "yaxis": {
           "automargin": true,
           "gridcolor": "white",
           "linecolor": "white",
           "ticks": "",
           "title": {
            "standoff": 15
           },
           "zerolinecolor": "white",
           "zerolinewidth": 2
          }
         }
        },
        "title": {
         "text": "Spins for Wolf"
        }
       }
      },
      "text/html": [
       "<div>                            <div id=\"ab9a8ac3-de86-4ea3-b18f-2b1e8f12884f\" class=\"plotly-graph-div\" style=\"height:525px; width:100%;\"></div>            <script type=\"text/javascript\">                require([\"plotly\"], function(Plotly) {                    window.PLOTLYENV=window.PLOTLYENV || {};                                    if (document.getElementById(\"ab9a8ac3-de86-4ea3-b18f-2b1e8f12884f\")) {                    Plotly.newPlot(                        \"ab9a8ac3-de86-4ea3-b18f-2b1e8f12884f\",                        [{\"labels\":[\"Flat\",\"Topspin\",\"Slice\",\"Kick\"],\"values\":[164,150,56,15],\"type\":\"pie\"}],                        {\"title\":{\"text\":\"Spins for Wolf\"},\"template\":{\"data\":{\"bar\":[{\"error_x\":{\"color\":\"#2a3f5f\"},\"error_y\":{\"color\":\"#2a3f5f\"},\"marker\":{\"line\":{\"color\":\"#E5ECF6\",\"width\":0.5},\"pattern\":{\"fillmode\":\"overlay\",\"size\":10,\"solidity\":0.2}},\"type\":\"bar\"}],\"barpolar\":[{\"marker\":{\"line\":{\"color\":\"#E5ECF6\",\"width\":0.5},\"pattern\":{\"fillmode\":\"overlay\",\"size\":10,\"solidity\":0.2}},\"type\":\"barpolar\"}],\"carpet\":[{\"aaxis\":{\"endlinecolor\":\"#2a3f5f\",\"gridcolor\":\"white\",\"linecolor\":\"white\",\"minorgridcolor\":\"white\",\"startlinecolor\":\"#2a3f5f\"},\"baxis\":{\"endlinecolor\":\"#2a3f5f\",\"gridcolor\":\"white\",\"linecolor\":\"white\",\"minorgridcolor\":\"white\",\"startlinecolor\":\"#2a3f5f\"},\"type\":\"carpet\"}],\"choropleth\":[{\"colorbar\":{\"outlinewidth\":0,\"ticks\":\"\"},\"type\":\"choropleth\"}],\"contour\":[{\"colorbar\":{\"outlinewidth\":0,\"ticks\":\"\"},\"colorscale\":[[0.0,\"#0d0887\"],[0.1111111111111111,\"#46039f\"],[0.2222222222222222,\"#7201a8\"],[0.3333333333333333,\"#9c179e\"],[0.4444444444444444,\"#bd3786\"],[0.5555555555555556,\"#d8576b\"],[0.6666666666666666,\"#ed7953\"],[0.7777777777777778,\"#fb9f3a\"],[0.8888888888888888,\"#fdca26\"],[1.0,\"#f0f921\"]],\"type\":\"contour\"}],\"contourcarpet\":[{\"colorbar\":{\"outlinewidth\":0,\"ticks\":\"\"},\"type\":\"contourcarpet\"}],\"heatmap\":[{\"colorbar\":{\"outlinewidth\":0,\"ticks\":\"\"},\"colorscale\":[[0.0,\"#0d0887\"],[0.1111111111111111,\"#46039f\"],[0.2222222222222222,\"#7201a8\"],[0.3333333333333333,\"#9c179e\"],[0.4444444444444444,\"#bd3786\"],[0.5555555555555556,\"#d8576b\"],[0.6666666666666666,\"#ed7953\"],[0.7777777777777778,\"#fb9f3a\"],[0.8888888888888888,\"#fdca26\"],[1.0,\"#f0f921\"]],\"type\":\"heatmap\"}],\"heatmapgl\":[{\"colorbar\":{\"outlinewidth\":0,\"ticks\":\"\"},\"colorscale\":[[0.0,\"#0d0887\"],[0.1111111111111111,\"#46039f\"],[0.2222222222222222,\"#7201a8\"],[0.3333333333333333,\"#9c179e\"],[0.4444444444444444,\"#bd3786\"],[0.5555555555555556,\"#d8576b\"],[0.6666666666666666,\"#ed7953\"],[0.7777777777777778,\"#fb9f3a\"],[0.8888888888888888,\"#fdca26\"],[1.0,\"#f0f921\"]],\"type\":\"heatmapgl\"}],\"histogram\":[{\"marker\":{\"pattern\":{\"fillmode\":\"overlay\",\"size\":10,\"solidity\":0.2}},\"type\":\"histogram\"}],\"histogram2d\":[{\"colorbar\":{\"outlinewidth\":0,\"ticks\":\"\"},\"colorscale\":[[0.0,\"#0d0887\"],[0.1111111111111111,\"#46039f\"],[0.2222222222222222,\"#7201a8\"],[0.3333333333333333,\"#9c179e\"],[0.4444444444444444,\"#bd3786\"],[0.5555555555555556,\"#d8576b\"],[0.6666666666666666,\"#ed7953\"],[0.7777777777777778,\"#fb9f3a\"],[0.8888888888888888,\"#fdca26\"],[1.0,\"#f0f921\"]],\"type\":\"histogram2d\"}],\"histogram2dcontour\":[{\"colorbar\":{\"outlinewidth\":0,\"ticks\":\"\"},\"colorscale\":[[0.0,\"#0d0887\"],[0.1111111111111111,\"#46039f\"],[0.2222222222222222,\"#7201a8\"],[0.3333333333333333,\"#9c179e\"],[0.4444444444444444,\"#bd3786\"],[0.5555555555555556,\"#d8576b\"],[0.6666666666666666,\"#ed7953\"],[0.7777777777777778,\"#fb9f3a\"],[0.8888888888888888,\"#fdca26\"],[1.0,\"#f0f921\"]],\"type\":\"histogram2dcontour\"}],\"mesh3d\":[{\"colorbar\":{\"outlinewidth\":0,\"ticks\":\"\"},\"type\":\"mesh3d\"}],\"parcoords\":[{\"line\":{\"colorbar\":{\"outlinewidth\":0,\"ticks\":\"\"}},\"type\":\"parcoords\"}],\"pie\":[{\"automargin\":true,\"type\":\"pie\"}],\"scatter\":[{\"marker\":{\"colorbar\":{\"outlinewidth\":0,\"ticks\":\"\"}},\"type\":\"scatter\"}],\"scatter3d\":[{\"line\":{\"colorbar\":{\"outlinewidth\":0,\"ticks\":\"\"}},\"marker\":{\"colorbar\":{\"outlinewidth\":0,\"ticks\":\"\"}},\"type\":\"scatter3d\"}],\"scattercarpet\":[{\"marker\":{\"colorbar\":{\"outlinewidth\":0,\"ticks\":\"\"}},\"type\":\"scattercarpet\"}],\"scattergeo\":[{\"marker\":{\"colorbar\":{\"outlinewidth\":0,\"ticks\":\"\"}},\"type\":\"scattergeo\"}],\"scattergl\":[{\"marker\":{\"colorbar\":{\"outlinewidth\":0,\"ticks\":\"\"}},\"type\":\"scattergl\"}],\"scattermapbox\":[{\"marker\":{\"colorbar\":{\"outlinewidth\":0,\"ticks\":\"\"}},\"type\":\"scattermapbox\"}],\"scatterpolar\":[{\"marker\":{\"colorbar\":{\"outlinewidth\":0,\"ticks\":\"\"}},\"type\":\"scatterpolar\"}],\"scatterpolargl\":[{\"marker\":{\"colorbar\":{\"outlinewidth\":0,\"ticks\":\"\"}},\"type\":\"scatterpolargl\"}],\"scatterternary\":[{\"marker\":{\"colorbar\":{\"outlinewidth\":0,\"ticks\":\"\"}},\"type\":\"scatterternary\"}],\"surface\":[{\"colorbar\":{\"outlinewidth\":0,\"ticks\":\"\"},\"colorscale\":[[0.0,\"#0d0887\"],[0.1111111111111111,\"#46039f\"],[0.2222222222222222,\"#7201a8\"],[0.3333333333333333,\"#9c179e\"],[0.4444444444444444,\"#bd3786\"],[0.5555555555555556,\"#d8576b\"],[0.6666666666666666,\"#ed7953\"],[0.7777777777777778,\"#fb9f3a\"],[0.8888888888888888,\"#fdca26\"],[1.0,\"#f0f921\"]],\"type\":\"surface\"}],\"table\":[{\"cells\":{\"fill\":{\"color\":\"#EBF0F8\"},\"line\":{\"color\":\"white\"}},\"header\":{\"fill\":{\"color\":\"#C8D4E3\"},\"line\":{\"color\":\"white\"}},\"type\":\"table\"}]},\"layout\":{\"annotationdefaults\":{\"arrowcolor\":\"#2a3f5f\",\"arrowhead\":0,\"arrowwidth\":1},\"autotypenumbers\":\"strict\",\"coloraxis\":{\"colorbar\":{\"outlinewidth\":0,\"ticks\":\"\"}},\"colorscale\":{\"diverging\":[[0,\"#8e0152\"],[0.1,\"#c51b7d\"],[0.2,\"#de77ae\"],[0.3,\"#f1b6da\"],[0.4,\"#fde0ef\"],[0.5,\"#f7f7f7\"],[0.6,\"#e6f5d0\"],[0.7,\"#b8e186\"],[0.8,\"#7fbc41\"],[0.9,\"#4d9221\"],[1,\"#276419\"]],\"sequential\":[[0.0,\"#0d0887\"],[0.1111111111111111,\"#46039f\"],[0.2222222222222222,\"#7201a8\"],[0.3333333333333333,\"#9c179e\"],[0.4444444444444444,\"#bd3786\"],[0.5555555555555556,\"#d8576b\"],[0.6666666666666666,\"#ed7953\"],[0.7777777777777778,\"#fb9f3a\"],[0.8888888888888888,\"#fdca26\"],[1.0,\"#f0f921\"]],\"sequentialminus\":[[0.0,\"#0d0887\"],[0.1111111111111111,\"#46039f\"],[0.2222222222222222,\"#7201a8\"],[0.3333333333333333,\"#9c179e\"],[0.4444444444444444,\"#bd3786\"],[0.5555555555555556,\"#d8576b\"],[0.6666666666666666,\"#ed7953\"],[0.7777777777777778,\"#fb9f3a\"],[0.8888888888888888,\"#fdca26\"],[1.0,\"#f0f921\"]]},\"colorway\":[\"#636efa\",\"#EF553B\",\"#00cc96\",\"#ab63fa\",\"#FFA15A\",\"#19d3f3\",\"#FF6692\",\"#B6E880\",\"#FF97FF\",\"#FECB52\"],\"font\":{\"color\":\"#2a3f5f\"},\"geo\":{\"bgcolor\":\"white\",\"lakecolor\":\"white\",\"landcolor\":\"#E5ECF6\",\"showlakes\":true,\"showland\":true,\"subunitcolor\":\"white\"},\"hoverlabel\":{\"align\":\"left\"},\"hovermode\":\"closest\",\"mapbox\":{\"style\":\"light\"},\"paper_bgcolor\":\"white\",\"plot_bgcolor\":\"#E5ECF6\",\"polar\":{\"angularaxis\":{\"gridcolor\":\"white\",\"linecolor\":\"white\",\"ticks\":\"\"},\"bgcolor\":\"#E5ECF6\",\"radialaxis\":{\"gridcolor\":\"white\",\"linecolor\":\"white\",\"ticks\":\"\"}},\"scene\":{\"xaxis\":{\"backgroundcolor\":\"#E5ECF6\",\"gridcolor\":\"white\",\"gridwidth\":2,\"linecolor\":\"white\",\"showbackground\":true,\"ticks\":\"\",\"zerolinecolor\":\"white\"},\"yaxis\":{\"backgroundcolor\":\"#E5ECF6\",\"gridcolor\":\"white\",\"gridwidth\":2,\"linecolor\":\"white\",\"showbackground\":true,\"ticks\":\"\",\"zerolinecolor\":\"white\"},\"zaxis\":{\"backgroundcolor\":\"#E5ECF6\",\"gridcolor\":\"white\",\"gridwidth\":2,\"linecolor\":\"white\",\"showbackground\":true,\"ticks\":\"\",\"zerolinecolor\":\"white\"}},\"shapedefaults\":{\"line\":{\"color\":\"#2a3f5f\"}},\"ternary\":{\"aaxis\":{\"gridcolor\":\"white\",\"linecolor\":\"white\",\"ticks\":\"\"},\"baxis\":{\"gridcolor\":\"white\",\"linecolor\":\"white\",\"ticks\":\"\"},\"bgcolor\":\"#E5ECF6\",\"caxis\":{\"gridcolor\":\"white\",\"linecolor\":\"white\",\"ticks\":\"\"}},\"title\":{\"x\":0.05},\"xaxis\":{\"automargin\":true,\"gridcolor\":\"white\",\"linecolor\":\"white\",\"ticks\":\"\",\"title\":{\"standoff\":15},\"zerolinecolor\":\"white\",\"zerolinewidth\":2},\"yaxis\":{\"automargin\":true,\"gridcolor\":\"white\",\"linecolor\":\"white\",\"ticks\":\"\",\"title\":{\"standoff\":15},\"zerolinecolor\":\"white\",\"zerolinewidth\":2}}}},                        {\"responsive\": true}                    ).then(function(){\n",
       "                            \n",
       "var gd = document.getElementById('ab9a8ac3-de86-4ea3-b18f-2b1e8f12884f');\n",
       "var x = new MutationObserver(function (mutations, observer) {{\n",
       "        var display = window.getComputedStyle(gd).display;\n",
       "        if (!display || display === 'none') {{\n",
       "            console.log([gd, 'removed!']);\n",
       "            Plotly.purge(gd);\n",
       "            observer.disconnect();\n",
       "        }}\n",
       "}});\n",
       "\n",
       "// Listen for the removal of the full notebook cells\n",
       "var notebookContainer = gd.closest('#notebook-container');\n",
       "if (notebookContainer) {{\n",
       "    x.observe(notebookContainer, {childList: true});\n",
       "}}\n",
       "\n",
       "// Listen for the clearing of the current output cell\n",
       "var outputEl = gd.closest('.output');\n",
       "if (outputEl) {{\n",
       "    x.observe(outputEl, {childList: true});\n",
       "}}\n",
       "\n",
       "                        })                };                });            </script>        </div>"
      ]
     },
     "metadata": {},
     "output_type": "display_data"
    }
   ],
   "source": [
    "hide_me\n",
    "lst =dfP2[\"Spin\"].value_counts()\n",
    "print(lst)\n",
    "labels=(lst.index)\n",
    "labels\n",
    "pie_chart(labels, lst, name2)\n"
   ]
  },
  {
   "cell_type": "markdown",
   "id": "713c99da",
   "metadata": {},
   "source": [
    "# SERVES"
   ]
  },
  {
   "cell_type": "code",
   "execution_count": 14,
   "id": "fc098cd0",
   "metadata": {},
   "outputs": [
    {
     "name": "stdout",
     "output_type": "stream",
     "text": [
      "dfServesInP1_near:38\n",
      "dfServesInP1_far:49\n",
      "dfServesInP2_near:56\n",
      "dfServesInP2_far:39\n"
     ]
    }
   ],
   "source": [
    "dfServesInP1_near=df[(df.Stroke==\"Serve\") & (df.Player==\"Player\")& (df.Result==\"In\")& (df[\"Hit Side\"]==\"near\")]\n",
    "print(\"dfServesInP1_near:{0}\".format(len(dfServesInP1_near)))\n",
    "dfServesInP1_far=df[(df.Stroke==\"Serve\") & (df.Player==\"Player\")& (df.Result==\"In\")& (df[\"Hit Side\"]==\"far\")]\n",
    "print(\"dfServesInP1_far:{0}\".format(len(dfServesInP1_far)))\n",
    "dfServesInP2_near=df[(df.Stroke==\"Serve\") & (df.Player!=\"Player\")& (df.Result==\"In\")& (df[\"Hit Side\"]==\"near\")]\n",
    "print(\"dfServesInP2_near:{0}\".format(len(dfServesInP2_near)))\n",
    "dfServesInP2_far=df[(df.Stroke==\"Serve\") & (df.Player!=\"Player\")& (df.Result==\"In\")& (df[\"Hit Side\"]==\"far\")]\n",
    "print(\"dfServesInP2_far:{0}\".format(len(dfServesInP2_far)))"
   ]
  },
  {
   "cell_type": "code",
   "execution_count": 15,
   "id": "cc219594",
   "metadata": {},
   "outputs": [
    {
     "data": {
      "application/vnd.plotly.v1+json": {
       "config": {
        "plotlyServerURL": "https://plot.ly"
       },
       "data": [
        {
         "line": {
          "color": "white"
         },
         "mode": "lines",
         "type": "scatter",
         "x": [
          -5.48,
          -5.48,
          5.48,
          5.48
         ],
         "y": [
          0,
          23.73,
          23.73,
          0
         ]
        },
        {
         "line": {
          "color": "white"
         },
         "mode": "lines",
         "type": "scatter",
         "x": [
          -4.11,
          -4.11,
          4.11,
          4.11
         ],
         "y": [
          0,
          23.73,
          23.73,
          0
         ]
        },
        {
         "line": {
          "color": "white"
         },
         "mode": "lines",
         "type": "scatter",
         "x": [
          -4.11,
          -4.11,
          4.11,
          4.11
         ],
         "y": [
          0,
          11.88,
          11.88,
          0
         ]
        },
        {
         "line": {
          "color": "white"
         },
         "mode": "lines",
         "type": "scatter",
         "x": [
          -4.11,
          -4.11,
          4.11,
          4.11
         ],
         "y": [
          0,
          5.48,
          5.48,
          0
         ]
        },
        {
         "line": {
          "color": "white"
         },
         "mode": "lines",
         "type": "scatter",
         "x": [
          -4.11,
          -4.11,
          4.11,
          4.11
         ],
         "y": [
          0,
          12.08,
          12.08,
          0
         ]
        },
        {
         "line": {
          "color": "white"
         },
         "mode": "lines",
         "type": "scatter",
         "x": [
          -4.11,
          -4.11,
          4.11,
          4.11
         ],
         "y": [
          0,
          18.48,
          18.48,
          0
         ]
        },
        {
         "hovertemplate": "x=%{x}<br>y=%{y}<extra></extra>",
         "legendgroup": "",
         "line": {
          "color": "gray",
          "dash": "dot",
          "width": 1
         },
         "marker": {
          "symbol": "circle"
         },
         "mode": "lines",
         "name": "",
         "orientation": "v",
         "showlegend": false,
         "type": "scatter",
         "x": [
          -2.6715,
          -2.6715
         ],
         "xaxis": "x",
         "y": [
          18.48,
          12.5
         ],
         "yaxis": "y"
        },
        {
         "hovertemplate": "x=%{x}<br>y=%{y}<extra></extra>",
         "legendgroup": "",
         "line": {
          "color": "gray",
          "dash": "dot",
          "width": 1
         },
         "marker": {
          "symbol": "circle"
         },
         "mode": "lines",
         "name": "",
         "orientation": "v",
         "showlegend": false,
         "type": "scatter",
         "x": [
          -1.4385000000000001,
          -1.4385000000000001
         ],
         "xaxis": "x",
         "y": [
          18.48,
          12.5
         ],
         "yaxis": "y"
        },
        {
         "hovertemplate": "x=%{x}<br>y=%{y}<extra></extra>",
         "legendgroup": "",
         "line": {
          "color": "gray",
          "dash": "dot",
          "width": 1
         },
         "marker": {
          "symbol": "circle"
         },
         "mode": "lines",
         "name": "",
         "orientation": "v",
         "showlegend": false,
         "type": "scatter",
         "x": [
          2.6715,
          2.6715
         ],
         "xaxis": "x",
         "y": [
          18.48,
          12.5
         ],
         "yaxis": "y"
        },
        {
         "hovertemplate": "x=%{x}<br>y=%{y}<extra></extra>",
         "legendgroup": "",
         "line": {
          "color": "gray",
          "dash": "dot",
          "width": 1
         },
         "marker": {
          "symbol": "circle"
         },
         "mode": "lines",
         "name": "",
         "orientation": "v",
         "showlegend": false,
         "type": "scatter",
         "x": [
          1.4385000000000001,
          1.4385000000000001
         ],
         "xaxis": "x",
         "y": [
          18.48,
          12.5
         ],
         "yaxis": "y"
        },
        {
         "customdata": [
          [
           14,
           122.690895
          ],
          [
           19,
           95.120171
          ],
          [
           56,
           117.708092
          ],
          [
           59,
           153.187195
          ],
          [
           94,
           107.853889
          ],
          [
           99,
           124.574211
          ],
          [
           135,
           153.740936
          ],
          [
           138,
           126.181213
          ],
          [
           141,
           119.482353
          ],
          [
           143,
           103.386101
          ],
          [
           181,
           129.603714
          ],
          [
           184,
           96.033112
          ],
          [
           222,
           118.707924
          ],
          [
           230,
           124.10041
          ],
          [
           232,
           138.765366
          ],
          [
           298,
           106.788429
          ],
          [
           342,
           97.957962
          ],
          [
           45,
           118.648102
          ],
          [
           48,
           130.91246
          ],
          [
           73,
           136.05043
          ],
          [
           81,
           110.305969
          ],
          [
           118,
           121.958916
          ],
          [
           121,
           117.978516
          ],
          [
           157,
           121.374367
          ],
          [
           159,
           118.858398
          ],
          [
           164,
           127.601143
          ],
          [
           199,
           123.613251
          ],
          [
           280,
           118.955734
          ],
          [
           320,
           144.249161
          ],
          [
           323,
           134.486435
          ],
          [
           58,
           135.849808
          ],
          [
           140,
           122.471291
          ],
          [
           145,
           130.562592
          ],
          [
           182,
           111.897949
          ],
          [
           185,
           162.539124
          ],
          [
           218,
           120.351379
          ],
          [
           221,
           129.19957
          ],
          [
           229,
           186.726456
          ],
          [
           234,
           120.81855
          ],
          [
           297,
           108.111275
          ],
          [
           341,
           133.295303
          ],
          [
           343,
           105.740318
          ],
          [
           43,
           156.245361
          ],
          [
           47,
           148.512756
          ],
          [
           75,
           128.304657
          ],
          [
           77,
           158.218857
          ],
          [
           83,
           143.730392
          ],
          [
           119,
           152.574997
          ],
          [
           122,
           209.089432
          ],
          [
           160,
           145.752823
          ],
          [
           201,
           120.102486
          ],
          [
           203,
           161.609024
          ],
          [
           206,
           120.233162
          ],
          [
           276,
           172.482666
          ],
          [
           279,
           152.479935
          ],
          [
           281,
           164.048965
          ],
          [
           319,
           129.98027
          ],
          [
           321,
           140.227371
          ]
         ],
         "hovertemplate": "Winner_Point=lost<br>Bounce (x)=%{x}<br>Bounce (y)=%{y}<br>Point=%{customdata[0]}<br>Speed (KM/H)=%{customdata[1]}<extra></extra>",
         "legendgroup": "lost",
         "marker": {
          "color": "red",
          "symbol": "circle"
         },
         "mode": "markers",
         "name": "lost",
         "orientation": "v",
         "showlegend": true,
         "type": "scatter",
         "x": [
          -0.585177,
          -0.758101,
          -0.732366,
          -1.102948,
          -2.456892,
          -1.349758,
          -1.623898,
          -2.956261,
          -1.447628,
          -0.966666667,
          -0.2,
          -3.121526,
          -2.127584,
          -2.350792,
          -2.005913,
          -1.422855,
          -2.479284,
          -1.591858,
          -3.9,
          -2.953228,
          -3.8,
          -0.75711,
          -3.708462,
          -0.956,
          -0.655814,
          -2.603902,
          -1.107502,
          -2.51898,
          -1.579432,
          -1.262179,
          1.166303,
          2.22917,
          3.6,
          3.8,
          3.383738,
          3.232542,
          0.517575,
          3.7,
          0.712364,
          2.314736,
          2.762076,
          3.204327,
          0.358162,
          0.990022,
          3.495926,
          3.48543,
          0.345903,
          1.009359,
          3.989312,
          0.785232,
          3.134305,
          3.852342,
          3.067571,
          3.322846,
          0.673046,
          3.344609,
          3.616727,
          3.351341
         ],
         "xaxis": "x",
         "y": [
          17.56229,
          16.634491,
          16.762774,
          17.903118,
          15.736711,
          17.885225,
          18.113962,
          16.736776,
          17.709486,
          17.77,
          17.67,
          17.348362,
          18.181095,
          16.119022,
          18.176979,
          17.616249,
          16.400005,
          17.907753,
          17.060000000000002,
          17.766581000000002,
          17.46,
          17.310861,
          16.862274,
          17.310979,
          17.252171,
          17.916596,
          17.508793,
          16.652752,
          17.591205000000002,
          18.192394,
          18.171671,
          17.040197,
          17.47,
          17.37,
          16.47434,
          15.46493,
          18.267357,
          17.67,
          17.560993,
          18.10284,
          18.177284,
          17.207417,
          16.843934,
          17.07563,
          17.35761,
          16.598115,
          17.517914,
          18.237744,
          18.045834,
          17.571849,
          17.31806,
          17.103308,
          15.809916000000001,
          17.536348,
          17.762285,
          17.901788,
          17.42473,
          17.252171
         ],
         "yaxis": "y"
        },
        {
         "customdata": [
          [
           23,
           118.513489
          ],
          [
           63,
           150.456055
          ],
          [
           102,
           121.899208
          ],
          [
           131,
           124.04174
          ],
          [
           217,
           131.457169
          ],
          [
           220,
           103.920456
          ],
          [
           227,
           104.770317
          ],
          [
           295,
           122.134148
          ],
          [
           301,
           102.299561
          ],
          [
           335,
           103.849907
          ],
          [
           338,
           null
          ],
          [
           345,
           87.327179
          ],
          [
           42,
           133.400818
          ],
          [
           76,
           79.032303
          ],
          [
           79,
           113.648621
          ],
          [
           202,
           143.794876
          ],
          [
           204,
           137.280319
          ],
          [
           272,
           57.232807
          ],
          [
           278,
           125.332176
          ],
          [
           317,
           145.492859
          ],
          [
           17,
           90.455971
          ],
          [
           20,
           145.696243
          ],
          [
           25,
           111.271889
          ],
          [
           60,
           80.778633
          ],
          [
           97,
           138.085907
          ],
          [
           105,
           95.623726
          ],
          [
           134,
           137.589569
          ],
          [
           136,
           null
          ],
          [
           142,
           133.452988
          ],
          [
           224,
           77.206642
          ],
          [
           231,
           148.704697
          ],
          [
           299,
           118.314034
          ],
          [
           303,
           131.795212
          ],
          [
           336,
           102.897476
          ],
          [
           347,
           118.228752
          ],
          [
           80,
           140.74617
          ],
          [
           158,
           150.820419
          ]
         ],
         "hovertemplate": "Winner_Point=won<br>Bounce (x)=%{x}<br>Bounce (y)=%{y}<br>Point=%{customdata[0]}<br>Speed (KM/H)=%{customdata[1]}<extra></extra>",
         "legendgroup": "won",
         "marker": {
          "color": "green",
          "symbol": "circle"
         },
         "mode": "markers",
         "name": "won",
         "orientation": "v",
         "showlegend": true,
         "type": "scatter",
         "x": [
          -1.552521,
          -0.881464,
          -1.303924,
          -0.292052,
          -1.641273,
          -2.554467,
          -0.346348,
          -2.847425,
          -0.558257,
          -1.216827,
          -0.9666666666666668,
          -1.663314,
          -2.500885,
          -3.492854,
          -0.427344,
          -0.873097,
          -1.344872,
          -3.098713,
          -0.383646,
          -0.497981,
          2.820747,
          0.344214,
          2.626929,
          2.799869,
          2.191304,
          2.604993,
          1.297159,
          0.166666667,
          2.767769,
          2.815093,
          0.923138,
          0.757072,
          3.125922,
          2.271604,
          0.665004,
          3.234947,
          3.576242
         ],
         "xaxis": "x",
         "y": [
          18.217306,
          17.345057,
          17.29657,
          17.539425,
          17.732803,
          17.32468,
          18.113962,
          17.789413,
          17.85811,
          17.94418,
          17.77,
          17.513418,
          17.719042,
          15.063797000000001,
          17.279201,
          17.917363,
          17.779245,
          18.100269,
          16.734,
          16.483043000000002,
          16.160191,
          17.065254,
          17.091063,
          14.973251,
          17.372082,
          15.113569,
          17.987478,
          17.47,
          17.212408,
          14.893723,
          17.516392,
          17.654593,
          16.185381,
          15.514292,
          17.5695,
          16.640781,
          16.98177
         ],
         "yaxis": "y"
        }
       ],
       "layout": {
        "template": {
         "data": {
          "bar": [
           {
            "error_x": {
             "color": "#2a3f5f"
            },
            "error_y": {
             "color": "#2a3f5f"
            },
            "marker": {
             "line": {
              "color": "#E5ECF6",
              "width": 0.5
             },
             "pattern": {
              "fillmode": "overlay",
              "size": 10,
              "solidity": 0.2
             }
            },
            "type": "bar"
           }
          ],
          "barpolar": [
           {
            "marker": {
             "line": {
              "color": "#E5ECF6",
              "width": 0.5
             },
             "pattern": {
              "fillmode": "overlay",
              "size": 10,
              "solidity": 0.2
             }
            },
            "type": "barpolar"
           }
          ],
          "carpet": [
           {
            "aaxis": {
             "endlinecolor": "#2a3f5f",
             "gridcolor": "white",
             "linecolor": "white",
             "minorgridcolor": "white",
             "startlinecolor": "#2a3f5f"
            },
            "baxis": {
             "endlinecolor": "#2a3f5f",
             "gridcolor": "white",
             "linecolor": "white",
             "minorgridcolor": "white",
             "startlinecolor": "#2a3f5f"
            },
            "type": "carpet"
           }
          ],
          "choropleth": [
           {
            "colorbar": {
             "outlinewidth": 0,
             "ticks": ""
            },
            "type": "choropleth"
           }
          ],
          "contour": [
           {
            "colorbar": {
             "outlinewidth": 0,
             "ticks": ""
            },
            "colorscale": [
             [
              0,
              "#0d0887"
             ],
             [
              0.1111111111111111,
              "#46039f"
             ],
             [
              0.2222222222222222,
              "#7201a8"
             ],
             [
              0.3333333333333333,
              "#9c179e"
             ],
             [
              0.4444444444444444,
              "#bd3786"
             ],
             [
              0.5555555555555556,
              "#d8576b"
             ],
             [
              0.6666666666666666,
              "#ed7953"
             ],
             [
              0.7777777777777778,
              "#fb9f3a"
             ],
             [
              0.8888888888888888,
              "#fdca26"
             ],
             [
              1,
              "#f0f921"
             ]
            ],
            "type": "contour"
           }
          ],
          "contourcarpet": [
           {
            "colorbar": {
             "outlinewidth": 0,
             "ticks": ""
            },
            "type": "contourcarpet"
           }
          ],
          "heatmap": [
           {
            "colorbar": {
             "outlinewidth": 0,
             "ticks": ""
            },
            "colorscale": [
             [
              0,
              "#0d0887"
             ],
             [
              0.1111111111111111,
              "#46039f"
             ],
             [
              0.2222222222222222,
              "#7201a8"
             ],
             [
              0.3333333333333333,
              "#9c179e"
             ],
             [
              0.4444444444444444,
              "#bd3786"
             ],
             [
              0.5555555555555556,
              "#d8576b"
             ],
             [
              0.6666666666666666,
              "#ed7953"
             ],
             [
              0.7777777777777778,
              "#fb9f3a"
             ],
             [
              0.8888888888888888,
              "#fdca26"
             ],
             [
              1,
              "#f0f921"
             ]
            ],
            "type": "heatmap"
           }
          ],
          "heatmapgl": [
           {
            "colorbar": {
             "outlinewidth": 0,
             "ticks": ""
            },
            "colorscale": [
             [
              0,
              "#0d0887"
             ],
             [
              0.1111111111111111,
              "#46039f"
             ],
             [
              0.2222222222222222,
              "#7201a8"
             ],
             [
              0.3333333333333333,
              "#9c179e"
             ],
             [
              0.4444444444444444,
              "#bd3786"
             ],
             [
              0.5555555555555556,
              "#d8576b"
             ],
             [
              0.6666666666666666,
              "#ed7953"
             ],
             [
              0.7777777777777778,
              "#fb9f3a"
             ],
             [
              0.8888888888888888,
              "#fdca26"
             ],
             [
              1,
              "#f0f921"
             ]
            ],
            "type": "heatmapgl"
           }
          ],
          "histogram": [
           {
            "marker": {
             "pattern": {
              "fillmode": "overlay",
              "size": 10,
              "solidity": 0.2
             }
            },
            "type": "histogram"
           }
          ],
          "histogram2d": [
           {
            "colorbar": {
             "outlinewidth": 0,
             "ticks": ""
            },
            "colorscale": [
             [
              0,
              "#0d0887"
             ],
             [
              0.1111111111111111,
              "#46039f"
             ],
             [
              0.2222222222222222,
              "#7201a8"
             ],
             [
              0.3333333333333333,
              "#9c179e"
             ],
             [
              0.4444444444444444,
              "#bd3786"
             ],
             [
              0.5555555555555556,
              "#d8576b"
             ],
             [
              0.6666666666666666,
              "#ed7953"
             ],
             [
              0.7777777777777778,
              "#fb9f3a"
             ],
             [
              0.8888888888888888,
              "#fdca26"
             ],
             [
              1,
              "#f0f921"
             ]
            ],
            "type": "histogram2d"
           }
          ],
          "histogram2dcontour": [
           {
            "colorbar": {
             "outlinewidth": 0,
             "ticks": ""
            },
            "colorscale": [
             [
              0,
              "#0d0887"
             ],
             [
              0.1111111111111111,
              "#46039f"
             ],
             [
              0.2222222222222222,
              "#7201a8"
             ],
             [
              0.3333333333333333,
              "#9c179e"
             ],
             [
              0.4444444444444444,
              "#bd3786"
             ],
             [
              0.5555555555555556,
              "#d8576b"
             ],
             [
              0.6666666666666666,
              "#ed7953"
             ],
             [
              0.7777777777777778,
              "#fb9f3a"
             ],
             [
              0.8888888888888888,
              "#fdca26"
             ],
             [
              1,
              "#f0f921"
             ]
            ],
            "type": "histogram2dcontour"
           }
          ],
          "mesh3d": [
           {
            "colorbar": {
             "outlinewidth": 0,
             "ticks": ""
            },
            "type": "mesh3d"
           }
          ],
          "parcoords": [
           {
            "line": {
             "colorbar": {
              "outlinewidth": 0,
              "ticks": ""
             }
            },
            "type": "parcoords"
           }
          ],
          "pie": [
           {
            "automargin": true,
            "type": "pie"
           }
          ],
          "scatter": [
           {
            "marker": {
             "colorbar": {
              "outlinewidth": 0,
              "ticks": ""
             }
            },
            "type": "scatter"
           }
          ],
          "scatter3d": [
           {
            "line": {
             "colorbar": {
              "outlinewidth": 0,
              "ticks": ""
             }
            },
            "marker": {
             "colorbar": {
              "outlinewidth": 0,
              "ticks": ""
             }
            },
            "type": "scatter3d"
           }
          ],
          "scattercarpet": [
           {
            "marker": {
             "colorbar": {
              "outlinewidth": 0,
              "ticks": ""
             }
            },
            "type": "scattercarpet"
           }
          ],
          "scattergeo": [
           {
            "marker": {
             "colorbar": {
              "outlinewidth": 0,
              "ticks": ""
             }
            },
            "type": "scattergeo"
           }
          ],
          "scattergl": [
           {
            "marker": {
             "colorbar": {
              "outlinewidth": 0,
              "ticks": ""
             }
            },
            "type": "scattergl"
           }
          ],
          "scattermapbox": [
           {
            "marker": {
             "colorbar": {
              "outlinewidth": 0,
              "ticks": ""
             }
            },
            "type": "scattermapbox"
           }
          ],
          "scatterpolar": [
           {
            "marker": {
             "colorbar": {
              "outlinewidth": 0,
              "ticks": ""
             }
            },
            "type": "scatterpolar"
           }
          ],
          "scatterpolargl": [
           {
            "marker": {
             "colorbar": {
              "outlinewidth": 0,
              "ticks": ""
             }
            },
            "type": "scatterpolargl"
           }
          ],
          "scatterternary": [
           {
            "marker": {
             "colorbar": {
              "outlinewidth": 0,
              "ticks": ""
             }
            },
            "type": "scatterternary"
           }
          ],
          "surface": [
           {
            "colorbar": {
             "outlinewidth": 0,
             "ticks": ""
            },
            "colorscale": [
             [
              0,
              "#0d0887"
             ],
             [
              0.1111111111111111,
              "#46039f"
             ],
             [
              0.2222222222222222,
              "#7201a8"
             ],
             [
              0.3333333333333333,
              "#9c179e"
             ],
             [
              0.4444444444444444,
              "#bd3786"
             ],
             [
              0.5555555555555556,
              "#d8576b"
             ],
             [
              0.6666666666666666,
              "#ed7953"
             ],
             [
              0.7777777777777778,
              "#fb9f3a"
             ],
             [
              0.8888888888888888,
              "#fdca26"
             ],
             [
              1,
              "#f0f921"
             ]
            ],
            "type": "surface"
           }
          ],
          "table": [
           {
            "cells": {
             "fill": {
              "color": "#EBF0F8"
             },
             "line": {
              "color": "white"
             }
            },
            "header": {
             "fill": {
              "color": "#C8D4E3"
             },
             "line": {
              "color": "white"
             }
            },
            "type": "table"
           }
          ]
         },
         "layout": {
          "annotationdefaults": {
           "arrowcolor": "#2a3f5f",
           "arrowhead": 0,
           "arrowwidth": 1
          },
          "autotypenumbers": "strict",
          "coloraxis": {
           "colorbar": {
            "outlinewidth": 0,
            "ticks": ""
           }
          },
          "colorscale": {
           "diverging": [
            [
             0,
             "#8e0152"
            ],
            [
             0.1,
             "#c51b7d"
            ],
            [
             0.2,
             "#de77ae"
            ],
            [
             0.3,
             "#f1b6da"
            ],
            [
             0.4,
             "#fde0ef"
            ],
            [
             0.5,
             "#f7f7f7"
            ],
            [
             0.6,
             "#e6f5d0"
            ],
            [
             0.7,
             "#b8e186"
            ],
            [
             0.8,
             "#7fbc41"
            ],
            [
             0.9,
             "#4d9221"
            ],
            [
             1,
             "#276419"
            ]
           ],
           "sequential": [
            [
             0,
             "#0d0887"
            ],
            [
             0.1111111111111111,
             "#46039f"
            ],
            [
             0.2222222222222222,
             "#7201a8"
            ],
            [
             0.3333333333333333,
             "#9c179e"
            ],
            [
             0.4444444444444444,
             "#bd3786"
            ],
            [
             0.5555555555555556,
             "#d8576b"
            ],
            [
             0.6666666666666666,
             "#ed7953"
            ],
            [
             0.7777777777777778,
             "#fb9f3a"
            ],
            [
             0.8888888888888888,
             "#fdca26"
            ],
            [
             1,
             "#f0f921"
            ]
           ],
           "sequentialminus": [
            [
             0,
             "#0d0887"
            ],
            [
             0.1111111111111111,
             "#46039f"
            ],
            [
             0.2222222222222222,
             "#7201a8"
            ],
            [
             0.3333333333333333,
             "#9c179e"
            ],
            [
             0.4444444444444444,
             "#bd3786"
            ],
            [
             0.5555555555555556,
             "#d8576b"
            ],
            [
             0.6666666666666666,
             "#ed7953"
            ],
            [
             0.7777777777777778,
             "#fb9f3a"
            ],
            [
             0.8888888888888888,
             "#fdca26"
            ],
            [
             1,
             "#f0f921"
            ]
           ]
          },
          "colorway": [
           "#636efa",
           "#EF553B",
           "#00cc96",
           "#ab63fa",
           "#FFA15A",
           "#19d3f3",
           "#FF6692",
           "#B6E880",
           "#FF97FF",
           "#FECB52"
          ],
          "font": {
           "color": "#2a3f5f"
          },
          "geo": {
           "bgcolor": "white",
           "lakecolor": "white",
           "landcolor": "#E5ECF6",
           "showlakes": true,
           "showland": true,
           "subunitcolor": "white"
          },
          "hoverlabel": {
           "align": "left"
          },
          "hovermode": "closest",
          "mapbox": {
           "style": "light"
          },
          "paper_bgcolor": "white",
          "plot_bgcolor": "#E5ECF6",
          "polar": {
           "angularaxis": {
            "gridcolor": "white",
            "linecolor": "white",
            "ticks": ""
           },
           "bgcolor": "#E5ECF6",
           "radialaxis": {
            "gridcolor": "white",
            "linecolor": "white",
            "ticks": ""
           }
          },
          "scene": {
           "xaxis": {
            "backgroundcolor": "#E5ECF6",
            "gridcolor": "white",
            "gridwidth": 2,
            "linecolor": "white",
            "showbackground": true,
            "ticks": "",
            "zerolinecolor": "white"
           },
           "yaxis": {
            "backgroundcolor": "#E5ECF6",
            "gridcolor": "white",
            "gridwidth": 2,
            "linecolor": "white",
            "showbackground": true,
            "ticks": "",
            "zerolinecolor": "white"
           },
           "zaxis": {
            "backgroundcolor": "#E5ECF6",
            "gridcolor": "white",
            "gridwidth": 2,
            "linecolor": "white",
            "showbackground": true,
            "ticks": "",
            "zerolinecolor": "white"
           }
          },
          "shapedefaults": {
           "line": {
            "color": "#2a3f5f"
           }
          },
          "ternary": {
           "aaxis": {
            "gridcolor": "white",
            "linecolor": "white",
            "ticks": ""
           },
           "baxis": {
            "gridcolor": "white",
            "linecolor": "white",
            "ticks": ""
           },
           "bgcolor": "#E5ECF6",
           "caxis": {
            "gridcolor": "white",
            "linecolor": "white",
            "ticks": ""
           }
          },
          "title": {
           "x": 0.05
          },
          "xaxis": {
           "automargin": true,
           "gridcolor": "white",
           "linecolor": "white",
           "ticks": "",
           "title": {
            "standoff": 15
           },
           "zerolinecolor": "white",
           "zerolinewidth": 2
          },
          "yaxis": {
           "automargin": true,
           "gridcolor": "white",
           "linecolor": "white",
           "ticks": "",
           "title": {
            "standoff": 15
           },
           "zerolinecolor": "white",
           "zerolinewidth": 2
          }
         }
        },
        "title": {
         "text": "Serves Wolf (point size represents Speed)"
        },
        "xaxis": {
         "range": [
          -5,
          5
         ],
         "scaleanchor": "y",
         "scaleratio": 2,
         "showgrid": false
        },
        "yaxis": {
         "range": [
          -2,
          24.76
         ],
         "showgrid": false
        }
       }
      },
      "text/html": [
       "<div>                            <div id=\"168ecbf3-46de-4f75-91c1-61956ebef891\" class=\"plotly-graph-div\" style=\"height:525px; width:100%;\"></div>            <script type=\"text/javascript\">                require([\"plotly\"], function(Plotly) {                    window.PLOTLYENV=window.PLOTLYENV || {};                                    if (document.getElementById(\"168ecbf3-46de-4f75-91c1-61956ebef891\")) {                    Plotly.newPlot(                        \"168ecbf3-46de-4f75-91c1-61956ebef891\",                        [{\"line\":{\"color\":\"white\"},\"mode\":\"lines\",\"x\":[-5.48,-5.48,5.48,5.48],\"y\":[0,23.73,23.73,0],\"type\":\"scatter\"},{\"line\":{\"color\":\"white\"},\"mode\":\"lines\",\"x\":[-4.11,-4.11,4.11,4.11],\"y\":[0,23.73,23.73,0],\"type\":\"scatter\"},{\"line\":{\"color\":\"white\"},\"mode\":\"lines\",\"x\":[-4.11,-4.11,4.11,4.11],\"y\":[0,11.88,11.88,0],\"type\":\"scatter\"},{\"line\":{\"color\":\"white\"},\"mode\":\"lines\",\"x\":[-4.11,-4.11,4.11,4.11],\"y\":[0,5.48,5.48,0],\"type\":\"scatter\"},{\"line\":{\"color\":\"white\"},\"mode\":\"lines\",\"x\":[-4.11,-4.11,4.11,4.11],\"y\":[0,12.08,12.08,0],\"type\":\"scatter\"},{\"line\":{\"color\":\"white\"},\"mode\":\"lines\",\"x\":[-4.11,-4.11,4.11,4.11],\"y\":[0,18.48,18.48,0],\"type\":\"scatter\"},{\"hovertemplate\":\"x=%{x}<br>y=%{y}<extra></extra>\",\"legendgroup\":\"\",\"line\":{\"color\":\"gray\",\"dash\":\"dot\",\"width\":1},\"marker\":{\"symbol\":\"circle\"},\"mode\":\"lines\",\"name\":\"\",\"orientation\":\"v\",\"showlegend\":false,\"x\":[-2.6715,-2.6715],\"xaxis\":\"x\",\"y\":[18.48,12.5],\"yaxis\":\"y\",\"type\":\"scatter\"},{\"hovertemplate\":\"x=%{x}<br>y=%{y}<extra></extra>\",\"legendgroup\":\"\",\"line\":{\"color\":\"gray\",\"dash\":\"dot\",\"width\":1},\"marker\":{\"symbol\":\"circle\"},\"mode\":\"lines\",\"name\":\"\",\"orientation\":\"v\",\"showlegend\":false,\"x\":[-1.4385000000000001,-1.4385000000000001],\"xaxis\":\"x\",\"y\":[18.48,12.5],\"yaxis\":\"y\",\"type\":\"scatter\"},{\"hovertemplate\":\"x=%{x}<br>y=%{y}<extra></extra>\",\"legendgroup\":\"\",\"line\":{\"color\":\"gray\",\"dash\":\"dot\",\"width\":1},\"marker\":{\"symbol\":\"circle\"},\"mode\":\"lines\",\"name\":\"\",\"orientation\":\"v\",\"showlegend\":false,\"x\":[2.6715,2.6715],\"xaxis\":\"x\",\"y\":[18.48,12.5],\"yaxis\":\"y\",\"type\":\"scatter\"},{\"hovertemplate\":\"x=%{x}<br>y=%{y}<extra></extra>\",\"legendgroup\":\"\",\"line\":{\"color\":\"gray\",\"dash\":\"dot\",\"width\":1},\"marker\":{\"symbol\":\"circle\"},\"mode\":\"lines\",\"name\":\"\",\"orientation\":\"v\",\"showlegend\":false,\"x\":[1.4385000000000001,1.4385000000000001],\"xaxis\":\"x\",\"y\":[18.48,12.5],\"yaxis\":\"y\",\"type\":\"scatter\"},{\"customdata\":[[14.0,122.690895],[19.0,95.120171],[56.0,117.708092],[59.0,153.187195],[94.0,107.853889],[99.0,124.574211],[135.0,153.740936],[138.0,126.181213],[141.0,119.482353],[143.0,103.386101],[181.0,129.603714],[184.0,96.033112],[222.0,118.707924],[230.0,124.10041],[232.0,138.765366],[298.0,106.788429],[342.0,97.957962],[45.0,118.648102],[48.0,130.91246],[73.0,136.05043],[81.0,110.305969],[118.0,121.958916],[121.0,117.978516],[157.0,121.374367],[159.0,118.858398],[164.0,127.601143],[199.0,123.613251],[280.0,118.955734],[320.0,144.249161],[323.0,134.486435],[58.0,135.849808],[140.0,122.471291],[145.0,130.562592],[182.0,111.897949],[185.0,162.539124],[218.0,120.351379],[221.0,129.19957],[229.0,186.726456],[234.0,120.81855],[297.0,108.111275],[341.0,133.295303],[343.0,105.740318],[43.0,156.245361],[47.0,148.512756],[75.0,128.304657],[77.0,158.218857],[83.0,143.730392],[119.0,152.574997],[122.0,209.089432],[160.0,145.752823],[201.0,120.102486],[203.0,161.609024],[206.0,120.233162],[276.0,172.482666],[279.0,152.479935],[281.0,164.048965],[319.0,129.98027],[321.0,140.227371]],\"hovertemplate\":\"Winner_Point=lost<br>Bounce (x)=%{x}<br>Bounce (y)=%{y}<br>Point=%{customdata[0]}<br>Speed (KM/H)=%{customdata[1]}<extra></extra>\",\"legendgroup\":\"lost\",\"marker\":{\"color\":\"red\",\"symbol\":\"circle\"},\"mode\":\"markers\",\"name\":\"lost\",\"orientation\":\"v\",\"showlegend\":true,\"x\":[-0.585177,-0.758101,-0.732366,-1.102948,-2.456892,-1.349758,-1.623898,-2.956261,-1.447628,-0.966666667,-0.2,-3.121526,-2.127584,-2.350792,-2.005913,-1.422855,-2.479284,-1.591858,-3.9,-2.953228,-3.8,-0.75711,-3.708462,-0.956,-0.655814,-2.603902,-1.107502,-2.51898,-1.579432,-1.262179,1.166303,2.22917,3.6,3.8,3.383738,3.232542,0.517575,3.7,0.712364,2.314736,2.762076,3.204327,0.358162,0.990022,3.495926,3.48543,0.345903,1.009359,3.989312,0.785232,3.134305,3.852342,3.067571,3.322846,0.673046,3.344609,3.616727,3.351341],\"xaxis\":\"x\",\"y\":[17.56229,16.634491,16.762774,17.903118,15.736711,17.885225,18.113962,16.736776,17.709486,17.77,17.67,17.348362,18.181095,16.119022,18.176979,17.616249,16.400005,17.907753,17.060000000000002,17.766581000000002,17.46,17.310861,16.862274,17.310979,17.252171,17.916596,17.508793,16.652752,17.591205000000002,18.192394,18.171671,17.040197,17.47,17.37,16.47434,15.46493,18.267357,17.67,17.560993,18.10284,18.177284,17.207417,16.843934,17.07563,17.35761,16.598115,17.517914,18.237744,18.045834,17.571849,17.31806,17.103308,15.809916000000001,17.536348,17.762285,17.901788,17.42473,17.252171],\"yaxis\":\"y\",\"type\":\"scatter\"},{\"customdata\":[[23.0,118.513489],[63.0,150.456055],[102.0,121.899208],[131.0,124.04174],[217.0,131.457169],[220.0,103.920456],[227.0,104.770317],[295.0,122.134148],[301.0,102.299561],[335.0,103.849907],[338.0,null],[345.0,87.327179],[42.0,133.400818],[76.0,79.032303],[79.0,113.648621],[202.0,143.794876],[204.0,137.280319],[272.0,57.232807],[278.0,125.332176],[317.0,145.492859],[17.0,90.455971],[20.0,145.696243],[25.0,111.271889],[60.0,80.778633],[97.0,138.085907],[105.0,95.623726],[134.0,137.589569],[136.0,null],[142.0,133.452988],[224.0,77.206642],[231.0,148.704697],[299.0,118.314034],[303.0,131.795212],[336.0,102.897476],[347.0,118.228752],[80.0,140.74617],[158.0,150.820419]],\"hovertemplate\":\"Winner_Point=won<br>Bounce (x)=%{x}<br>Bounce (y)=%{y}<br>Point=%{customdata[0]}<br>Speed (KM/H)=%{customdata[1]}<extra></extra>\",\"legendgroup\":\"won\",\"marker\":{\"color\":\"green\",\"symbol\":\"circle\"},\"mode\":\"markers\",\"name\":\"won\",\"orientation\":\"v\",\"showlegend\":true,\"x\":[-1.552521,-0.881464,-1.303924,-0.292052,-1.641273,-2.554467,-0.346348,-2.847425,-0.558257,-1.216827,-0.9666666666666668,-1.663314,-2.500885,-3.492854,-0.427344,-0.873097,-1.344872,-3.098713,-0.383646,-0.497981,2.820747,0.344214,2.626929,2.799869,2.191304,2.604993,1.297159,0.166666667,2.767769,2.815093,0.923138,0.757072,3.125922,2.271604,0.665004,3.234947,3.576242],\"xaxis\":\"x\",\"y\":[18.217306,17.345057,17.29657,17.539425,17.732803,17.32468,18.113962,17.789413,17.85811,17.94418,17.77,17.513418,17.719042,15.063797000000001,17.279201,17.917363,17.779245,18.100269,16.734,16.483043000000002,16.160191,17.065254,17.091063,14.973251,17.372082,15.113569,17.987478,17.47,17.212408,14.893723,17.516392,17.654593,16.185381,15.514292,17.5695,16.640781,16.98177],\"yaxis\":\"y\",\"type\":\"scatter\"}],                        {\"template\":{\"data\":{\"bar\":[{\"error_x\":{\"color\":\"#2a3f5f\"},\"error_y\":{\"color\":\"#2a3f5f\"},\"marker\":{\"line\":{\"color\":\"#E5ECF6\",\"width\":0.5},\"pattern\":{\"fillmode\":\"overlay\",\"size\":10,\"solidity\":0.2}},\"type\":\"bar\"}],\"barpolar\":[{\"marker\":{\"line\":{\"color\":\"#E5ECF6\",\"width\":0.5},\"pattern\":{\"fillmode\":\"overlay\",\"size\":10,\"solidity\":0.2}},\"type\":\"barpolar\"}],\"carpet\":[{\"aaxis\":{\"endlinecolor\":\"#2a3f5f\",\"gridcolor\":\"white\",\"linecolor\":\"white\",\"minorgridcolor\":\"white\",\"startlinecolor\":\"#2a3f5f\"},\"baxis\":{\"endlinecolor\":\"#2a3f5f\",\"gridcolor\":\"white\",\"linecolor\":\"white\",\"minorgridcolor\":\"white\",\"startlinecolor\":\"#2a3f5f\"},\"type\":\"carpet\"}],\"choropleth\":[{\"colorbar\":{\"outlinewidth\":0,\"ticks\":\"\"},\"type\":\"choropleth\"}],\"contour\":[{\"colorbar\":{\"outlinewidth\":0,\"ticks\":\"\"},\"colorscale\":[[0.0,\"#0d0887\"],[0.1111111111111111,\"#46039f\"],[0.2222222222222222,\"#7201a8\"],[0.3333333333333333,\"#9c179e\"],[0.4444444444444444,\"#bd3786\"],[0.5555555555555556,\"#d8576b\"],[0.6666666666666666,\"#ed7953\"],[0.7777777777777778,\"#fb9f3a\"],[0.8888888888888888,\"#fdca26\"],[1.0,\"#f0f921\"]],\"type\":\"contour\"}],\"contourcarpet\":[{\"colorbar\":{\"outlinewidth\":0,\"ticks\":\"\"},\"type\":\"contourcarpet\"}],\"heatmap\":[{\"colorbar\":{\"outlinewidth\":0,\"ticks\":\"\"},\"colorscale\":[[0.0,\"#0d0887\"],[0.1111111111111111,\"#46039f\"],[0.2222222222222222,\"#7201a8\"],[0.3333333333333333,\"#9c179e\"],[0.4444444444444444,\"#bd3786\"],[0.5555555555555556,\"#d8576b\"],[0.6666666666666666,\"#ed7953\"],[0.7777777777777778,\"#fb9f3a\"],[0.8888888888888888,\"#fdca26\"],[1.0,\"#f0f921\"]],\"type\":\"heatmap\"}],\"heatmapgl\":[{\"colorbar\":{\"outlinewidth\":0,\"ticks\":\"\"},\"colorscale\":[[0.0,\"#0d0887\"],[0.1111111111111111,\"#46039f\"],[0.2222222222222222,\"#7201a8\"],[0.3333333333333333,\"#9c179e\"],[0.4444444444444444,\"#bd3786\"],[0.5555555555555556,\"#d8576b\"],[0.6666666666666666,\"#ed7953\"],[0.7777777777777778,\"#fb9f3a\"],[0.8888888888888888,\"#fdca26\"],[1.0,\"#f0f921\"]],\"type\":\"heatmapgl\"}],\"histogram\":[{\"marker\":{\"pattern\":{\"fillmode\":\"overlay\",\"size\":10,\"solidity\":0.2}},\"type\":\"histogram\"}],\"histogram2d\":[{\"colorbar\":{\"outlinewidth\":0,\"ticks\":\"\"},\"colorscale\":[[0.0,\"#0d0887\"],[0.1111111111111111,\"#46039f\"],[0.2222222222222222,\"#7201a8\"],[0.3333333333333333,\"#9c179e\"],[0.4444444444444444,\"#bd3786\"],[0.5555555555555556,\"#d8576b\"],[0.6666666666666666,\"#ed7953\"],[0.7777777777777778,\"#fb9f3a\"],[0.8888888888888888,\"#fdca26\"],[1.0,\"#f0f921\"]],\"type\":\"histogram2d\"}],\"histogram2dcontour\":[{\"colorbar\":{\"outlinewidth\":0,\"ticks\":\"\"},\"colorscale\":[[0.0,\"#0d0887\"],[0.1111111111111111,\"#46039f\"],[0.2222222222222222,\"#7201a8\"],[0.3333333333333333,\"#9c179e\"],[0.4444444444444444,\"#bd3786\"],[0.5555555555555556,\"#d8576b\"],[0.6666666666666666,\"#ed7953\"],[0.7777777777777778,\"#fb9f3a\"],[0.8888888888888888,\"#fdca26\"],[1.0,\"#f0f921\"]],\"type\":\"histogram2dcontour\"}],\"mesh3d\":[{\"colorbar\":{\"outlinewidth\":0,\"ticks\":\"\"},\"type\":\"mesh3d\"}],\"parcoords\":[{\"line\":{\"colorbar\":{\"outlinewidth\":0,\"ticks\":\"\"}},\"type\":\"parcoords\"}],\"pie\":[{\"automargin\":true,\"type\":\"pie\"}],\"scatter\":[{\"marker\":{\"colorbar\":{\"outlinewidth\":0,\"ticks\":\"\"}},\"type\":\"scatter\"}],\"scatter3d\":[{\"line\":{\"colorbar\":{\"outlinewidth\":0,\"ticks\":\"\"}},\"marker\":{\"colorbar\":{\"outlinewidth\":0,\"ticks\":\"\"}},\"type\":\"scatter3d\"}],\"scattercarpet\":[{\"marker\":{\"colorbar\":{\"outlinewidth\":0,\"ticks\":\"\"}},\"type\":\"scattercarpet\"}],\"scattergeo\":[{\"marker\":{\"colorbar\":{\"outlinewidth\":0,\"ticks\":\"\"}},\"type\":\"scattergeo\"}],\"scattergl\":[{\"marker\":{\"colorbar\":{\"outlinewidth\":0,\"ticks\":\"\"}},\"type\":\"scattergl\"}],\"scattermapbox\":[{\"marker\":{\"colorbar\":{\"outlinewidth\":0,\"ticks\":\"\"}},\"type\":\"scattermapbox\"}],\"scatterpolar\":[{\"marker\":{\"colorbar\":{\"outlinewidth\":0,\"ticks\":\"\"}},\"type\":\"scatterpolar\"}],\"scatterpolargl\":[{\"marker\":{\"colorbar\":{\"outlinewidth\":0,\"ticks\":\"\"}},\"type\":\"scatterpolargl\"}],\"scatterternary\":[{\"marker\":{\"colorbar\":{\"outlinewidth\":0,\"ticks\":\"\"}},\"type\":\"scatterternary\"}],\"surface\":[{\"colorbar\":{\"outlinewidth\":0,\"ticks\":\"\"},\"colorscale\":[[0.0,\"#0d0887\"],[0.1111111111111111,\"#46039f\"],[0.2222222222222222,\"#7201a8\"],[0.3333333333333333,\"#9c179e\"],[0.4444444444444444,\"#bd3786\"],[0.5555555555555556,\"#d8576b\"],[0.6666666666666666,\"#ed7953\"],[0.7777777777777778,\"#fb9f3a\"],[0.8888888888888888,\"#fdca26\"],[1.0,\"#f0f921\"]],\"type\":\"surface\"}],\"table\":[{\"cells\":{\"fill\":{\"color\":\"#EBF0F8\"},\"line\":{\"color\":\"white\"}},\"header\":{\"fill\":{\"color\":\"#C8D4E3\"},\"line\":{\"color\":\"white\"}},\"type\":\"table\"}]},\"layout\":{\"annotationdefaults\":{\"arrowcolor\":\"#2a3f5f\",\"arrowhead\":0,\"arrowwidth\":1},\"autotypenumbers\":\"strict\",\"coloraxis\":{\"colorbar\":{\"outlinewidth\":0,\"ticks\":\"\"}},\"colorscale\":{\"diverging\":[[0,\"#8e0152\"],[0.1,\"#c51b7d\"],[0.2,\"#de77ae\"],[0.3,\"#f1b6da\"],[0.4,\"#fde0ef\"],[0.5,\"#f7f7f7\"],[0.6,\"#e6f5d0\"],[0.7,\"#b8e186\"],[0.8,\"#7fbc41\"],[0.9,\"#4d9221\"],[1,\"#276419\"]],\"sequential\":[[0.0,\"#0d0887\"],[0.1111111111111111,\"#46039f\"],[0.2222222222222222,\"#7201a8\"],[0.3333333333333333,\"#9c179e\"],[0.4444444444444444,\"#bd3786\"],[0.5555555555555556,\"#d8576b\"],[0.6666666666666666,\"#ed7953\"],[0.7777777777777778,\"#fb9f3a\"],[0.8888888888888888,\"#fdca26\"],[1.0,\"#f0f921\"]],\"sequentialminus\":[[0.0,\"#0d0887\"],[0.1111111111111111,\"#46039f\"],[0.2222222222222222,\"#7201a8\"],[0.3333333333333333,\"#9c179e\"],[0.4444444444444444,\"#bd3786\"],[0.5555555555555556,\"#d8576b\"],[0.6666666666666666,\"#ed7953\"],[0.7777777777777778,\"#fb9f3a\"],[0.8888888888888888,\"#fdca26\"],[1.0,\"#f0f921\"]]},\"colorway\":[\"#636efa\",\"#EF553B\",\"#00cc96\",\"#ab63fa\",\"#FFA15A\",\"#19d3f3\",\"#FF6692\",\"#B6E880\",\"#FF97FF\",\"#FECB52\"],\"font\":{\"color\":\"#2a3f5f\"},\"geo\":{\"bgcolor\":\"white\",\"lakecolor\":\"white\",\"landcolor\":\"#E5ECF6\",\"showlakes\":true,\"showland\":true,\"subunitcolor\":\"white\"},\"hoverlabel\":{\"align\":\"left\"},\"hovermode\":\"closest\",\"mapbox\":{\"style\":\"light\"},\"paper_bgcolor\":\"white\",\"plot_bgcolor\":\"#E5ECF6\",\"polar\":{\"angularaxis\":{\"gridcolor\":\"white\",\"linecolor\":\"white\",\"ticks\":\"\"},\"bgcolor\":\"#E5ECF6\",\"radialaxis\":{\"gridcolor\":\"white\",\"linecolor\":\"white\",\"ticks\":\"\"}},\"scene\":{\"xaxis\":{\"backgroundcolor\":\"#E5ECF6\",\"gridcolor\":\"white\",\"gridwidth\":2,\"linecolor\":\"white\",\"showbackground\":true,\"ticks\":\"\",\"zerolinecolor\":\"white\"},\"yaxis\":{\"backgroundcolor\":\"#E5ECF6\",\"gridcolor\":\"white\",\"gridwidth\":2,\"linecolor\":\"white\",\"showbackground\":true,\"ticks\":\"\",\"zerolinecolor\":\"white\"},\"zaxis\":{\"backgroundcolor\":\"#E5ECF6\",\"gridcolor\":\"white\",\"gridwidth\":2,\"linecolor\":\"white\",\"showbackground\":true,\"ticks\":\"\",\"zerolinecolor\":\"white\"}},\"shapedefaults\":{\"line\":{\"color\":\"#2a3f5f\"}},\"ternary\":{\"aaxis\":{\"gridcolor\":\"white\",\"linecolor\":\"white\",\"ticks\":\"\"},\"baxis\":{\"gridcolor\":\"white\",\"linecolor\":\"white\",\"ticks\":\"\"},\"bgcolor\":\"#E5ECF6\",\"caxis\":{\"gridcolor\":\"white\",\"linecolor\":\"white\",\"ticks\":\"\"}},\"title\":{\"x\":0.05},\"xaxis\":{\"automargin\":true,\"gridcolor\":\"white\",\"linecolor\":\"white\",\"ticks\":\"\",\"title\":{\"standoff\":15},\"zerolinecolor\":\"white\",\"zerolinewidth\":2},\"yaxis\":{\"automargin\":true,\"gridcolor\":\"white\",\"linecolor\":\"white\",\"ticks\":\"\",\"title\":{\"standoff\":15},\"zerolinecolor\":\"white\",\"zerolinewidth\":2}}},\"title\":{\"text\":\"Serves Wolf (point size represents Speed)\"},\"xaxis\":{\"scaleanchor\":\"y\",\"scaleratio\":2,\"range\":[-5,5],\"showgrid\":false},\"yaxis\":{\"range\":[-2,24.76],\"showgrid\":false}},                        {\"responsive\": true}                    ).then(function(){\n",
       "                            \n",
       "var gd = document.getElementById('168ecbf3-46de-4f75-91c1-61956ebef891');\n",
       "var x = new MutationObserver(function (mutations, observer) {{\n",
       "        var display = window.getComputedStyle(gd).display;\n",
       "        if (!display || display === 'none') {{\n",
       "            console.log([gd, 'removed!']);\n",
       "            Plotly.purge(gd);\n",
       "            observer.disconnect();\n",
       "        }}\n",
       "}});\n",
       "\n",
       "// Listen for the removal of the full notebook cells\n",
       "var notebookContainer = gd.closest('#notebook-container');\n",
       "if (notebookContainer) {{\n",
       "    x.observe(notebookContainer, {childList: true});\n",
       "}}\n",
       "\n",
       "// Listen for the clearing of the current output cell\n",
       "var outputEl = gd.closest('.output');\n",
       "if (outputEl) {{\n",
       "    x.observe(outputEl, {childList: true});\n",
       "}}\n",
       "\n",
       "                        })                };                });            </script>        </div>"
      ]
     },
     "metadata": {},
     "output_type": "display_data"
    }
   ],
   "source": [
    "hide_me\n",
    "#créer une figure\n",
    "#fig = go.Figure()\n",
    "def transform_far_to_near(df):\n",
    "    df[\"Bounce (x)\"]=df.apply(lambda x: -(x[\"Bounce (x)\"]), axis=1)\n",
    "    df[\"Bounce (y)\"]=df.apply(lambda x: 23.73-(x[\"Bounce (y)\"]), axis=1)\n",
    "    return df\n",
    "                              \n",
    "def trace_rect(fig1, left_double_court_x,right_double_court_x, top_double_court_y ):\n",
    "    \"\"\"\n",
    "    outside lines\n",
    "    \"\"\"\n",
    "    court_x=[left_double_court_x, left_double_court_x, right_double_court_x, right_double_court_x]\n",
    "    court_y=[0,top_double_court_y, top_double_court_y, 0]\n",
    "    trace0=go.Scatter(\n",
    "        x=court_x, y=court_y,\n",
    "        mode=\"lines\",line=dict(color='white')\n",
    "    )\n",
    "    #fig.add_trace(trace0)\n",
    "    \n",
    "    #trace0=go.Scatter(\n",
    "    fig1.add_trace(go.Scatter(\n",
    "        x=court_x, y=court_y,\n",
    "        mode=\"lines\",line=dict(color='white')\n",
    "    ))\n",
    "    #fig.add_trace(trace0)\n",
    "\n",
    "def trace_court():\n",
    "    fig1 = px.line()\n",
    "    trace_rect(fig1, 0-4.11-1.37, 0+4.11+1.37, 23.73)\n",
    "    trace_rect(fig1, 0-4.11, 0+4.11, 23.73)\n",
    "    trace_rect(fig1, 0-4.11, 0+4.11, 11.88)\n",
    "    trace_rect(fig1, 0-4.11, 0+4.11, 5.48)\n",
    "    trace_rect(fig1, 0-4.11, 0+4.11, 12.08)\n",
    "    trace_rect(fig1, 0-4.11, 0+4.11, 18.48)\n",
    "    return fig1\n",
    "\n",
    "    \n",
    "fig1 = trace_court()\n",
    "fig2 = trace_serve_3areas()\n",
    "fig2.update_traces(patch={\"line\": {\"color\": \"gray\", \"width\": 1, \"dash\": 'dot'}}) \n",
    "\n",
    "df_to_check_1=dfServesInP2_near[dfServesInP2_near[\"Hit Zone\"]==\"deuce\"]\n",
    "df_to_check_2=dfServesInP2_far[dfServesInP2_far[\"Hit Zone\"]==\"deuce\"]\n",
    "df_to_check_2=transform_far_to_near(df_to_check_2)\n",
    "\n",
    "df_to_check_3=dfServesInP2_near[dfServesInP2_near[\"Hit Zone\"]==\"ad\"]\n",
    "df_to_check_4=dfServesInP2_far[dfServesInP2_far[\"Hit Zone\"]==\"ad\"]\n",
    "df_to_check_4=transform_far_to_near(df_to_check_4)\n",
    "\n",
    "df_to_check = pd.concat([df_to_check_1, df_to_check_2, df_to_check_3, df_to_check_4])\n",
    "df_to_check[\"Winner_Point\"]=df_to_check[\"Winner_Point\"].replace({\"1\":\"won\",\"2\":\"lost\"})\n",
    "fig3=px.scatter(df_to_check,x=\"Bounce (x)\",y=\"Bounce (y)\"\n",
    "                #,size=df_to_check[\"Speed (KM/H)\"].clip(170, 220)-150, size_max=10\n",
    "                #, symbol=\"Spin\"\n",
    "                   #, trendline='ols',trendline_color_override='red'\n",
    "                    #, marginal_y=\"rug\"\n",
    "                    #, marginal_x=\"histogram\"\n",
    "                    #, facet_col=\"Winner_Point\"#, facet_row=\"time\"\n",
    "                    ,color=\"Winner_Point\", color_discrete_map={\"won\":\"green\",\"lost\":\"red\"}\n",
    "                    , hover_data=[\"Point\",\"Speed (KM/H)\"]\n",
    "                   )\n",
    "\n",
    "fig=go.Figure(data=fig1.data + fig2.data + fig3.data)\n",
    "\n",
    "fig.update_layout(title=\"Serves \"+name2+\" (point size represents Speed)\")\n",
    "fig.update_xaxes(\n",
    "    scaleanchor = \"y\",\n",
    "    scaleratio = 2,\n",
    "  )\n",
    "fig.update_layout(xaxis_range=[-5,5], yaxis_range=[-2,11.88*2+1])\n",
    "fig.update_layout(\n",
    "     xaxis=dict(showgrid=False), \n",
    "     yaxis=dict(showgrid=False)\n",
    ")\n",
    "fig.show()\n"
   ]
  },
  {
   "cell_type": "code",
   "execution_count": 16,
   "id": "ba6c5a21",
   "metadata": {
    "scrolled": false
   },
   "outputs": [
    {
     "data": {
      "application/vnd.plotly.v1+json": {
       "config": {
        "plotlyServerURL": "https://plot.ly"
       },
       "data": [
        {
         "alignmentgroup": "True",
         "bingroup": "x",
         "hovertemplate": "Winner_Point=lost<br>Bounce (x)=%{x}<br>count=%{y}<extra></extra>",
         "legendgroup": "lost",
         "marker": {
          "color": "red",
          "pattern": {
           "shape": ""
          }
         },
         "name": "lost",
         "nbinsx": 3,
         "offsetgroup": "lost",
         "orientation": "v",
         "showlegend": true,
         "type": "histogram",
         "x": [
          -0.585177,
          -0.758101,
          -0.732366,
          -1.102948,
          -2.456892,
          -1.349758,
          -1.623898,
          -2.956261,
          -1.447628,
          -0.966666667,
          -0.2,
          -3.121526,
          -2.127584,
          -2.350792,
          -2.005913,
          -1.422855,
          -2.479284,
          -1.591858,
          -3.9,
          -2.953228,
          -3.8,
          -0.75711,
          -3.708462,
          -0.956,
          -0.655814,
          -2.603902,
          -1.107502,
          -2.51898,
          -1.579432,
          -1.262179
         ],
         "xaxis": "x",
         "xbins": {
          "end": 0,
          "size": 1.37,
          "start": -4.11
         },
         "yaxis": "y"
        },
        {
         "alignmentgroup": "True",
         "bingroup": "x",
         "hovertemplate": "Winner_Point=won<br>Bounce (x)=%{x}<br>count=%{y}<extra></extra>",
         "legendgroup": "won",
         "marker": {
          "color": "green",
          "pattern": {
           "shape": ""
          }
         },
         "name": "won",
         "nbinsx": 3,
         "offsetgroup": "won",
         "orientation": "v",
         "showlegend": true,
         "type": "histogram",
         "x": [
          -1.552521,
          -0.881464,
          -1.303924,
          -0.292052,
          -1.641273,
          -2.554467,
          -0.346348,
          -2.847425,
          -0.558257,
          -1.216827,
          -0.9666666666666668,
          -1.663314,
          -2.500885,
          -3.492854,
          -0.427344,
          -0.873097,
          -1.344872,
          -3.098713,
          -0.383646,
          -0.497981
         ],
         "xaxis": "x",
         "xbins": {
          "end": 0,
          "size": 1.37,
          "start": -4.11
         },
         "yaxis": "y"
        }
       ],
       "layout": {
        "barmode": "group",
        "legend": {
         "title": {
          "text": "Winner_Point"
         },
         "tracegroupgap": 0
        },
        "template": {
         "data": {
          "bar": [
           {
            "error_x": {
             "color": "#2a3f5f"
            },
            "error_y": {
             "color": "#2a3f5f"
            },
            "marker": {
             "line": {
              "color": "#E5ECF6",
              "width": 0.5
             },
             "pattern": {
              "fillmode": "overlay",
              "size": 10,
              "solidity": 0.2
             }
            },
            "type": "bar"
           }
          ],
          "barpolar": [
           {
            "marker": {
             "line": {
              "color": "#E5ECF6",
              "width": 0.5
             },
             "pattern": {
              "fillmode": "overlay",
              "size": 10,
              "solidity": 0.2
             }
            },
            "type": "barpolar"
           }
          ],
          "carpet": [
           {
            "aaxis": {
             "endlinecolor": "#2a3f5f",
             "gridcolor": "white",
             "linecolor": "white",
             "minorgridcolor": "white",
             "startlinecolor": "#2a3f5f"
            },
            "baxis": {
             "endlinecolor": "#2a3f5f",
             "gridcolor": "white",
             "linecolor": "white",
             "minorgridcolor": "white",
             "startlinecolor": "#2a3f5f"
            },
            "type": "carpet"
           }
          ],
          "choropleth": [
           {
            "colorbar": {
             "outlinewidth": 0,
             "ticks": ""
            },
            "type": "choropleth"
           }
          ],
          "contour": [
           {
            "colorbar": {
             "outlinewidth": 0,
             "ticks": ""
            },
            "colorscale": [
             [
              0,
              "#0d0887"
             ],
             [
              0.1111111111111111,
              "#46039f"
             ],
             [
              0.2222222222222222,
              "#7201a8"
             ],
             [
              0.3333333333333333,
              "#9c179e"
             ],
             [
              0.4444444444444444,
              "#bd3786"
             ],
             [
              0.5555555555555556,
              "#d8576b"
             ],
             [
              0.6666666666666666,
              "#ed7953"
             ],
             [
              0.7777777777777778,
              "#fb9f3a"
             ],
             [
              0.8888888888888888,
              "#fdca26"
             ],
             [
              1,
              "#f0f921"
             ]
            ],
            "type": "contour"
           }
          ],
          "contourcarpet": [
           {
            "colorbar": {
             "outlinewidth": 0,
             "ticks": ""
            },
            "type": "contourcarpet"
           }
          ],
          "heatmap": [
           {
            "colorbar": {
             "outlinewidth": 0,
             "ticks": ""
            },
            "colorscale": [
             [
              0,
              "#0d0887"
             ],
             [
              0.1111111111111111,
              "#46039f"
             ],
             [
              0.2222222222222222,
              "#7201a8"
             ],
             [
              0.3333333333333333,
              "#9c179e"
             ],
             [
              0.4444444444444444,
              "#bd3786"
             ],
             [
              0.5555555555555556,
              "#d8576b"
             ],
             [
              0.6666666666666666,
              "#ed7953"
             ],
             [
              0.7777777777777778,
              "#fb9f3a"
             ],
             [
              0.8888888888888888,
              "#fdca26"
             ],
             [
              1,
              "#f0f921"
             ]
            ],
            "type": "heatmap"
           }
          ],
          "heatmapgl": [
           {
            "colorbar": {
             "outlinewidth": 0,
             "ticks": ""
            },
            "colorscale": [
             [
              0,
              "#0d0887"
             ],
             [
              0.1111111111111111,
              "#46039f"
             ],
             [
              0.2222222222222222,
              "#7201a8"
             ],
             [
              0.3333333333333333,
              "#9c179e"
             ],
             [
              0.4444444444444444,
              "#bd3786"
             ],
             [
              0.5555555555555556,
              "#d8576b"
             ],
             [
              0.6666666666666666,
              "#ed7953"
             ],
             [
              0.7777777777777778,
              "#fb9f3a"
             ],
             [
              0.8888888888888888,
              "#fdca26"
             ],
             [
              1,
              "#f0f921"
             ]
            ],
            "type": "heatmapgl"
           }
          ],
          "histogram": [
           {
            "marker": {
             "pattern": {
              "fillmode": "overlay",
              "size": 10,
              "solidity": 0.2
             }
            },
            "type": "histogram"
           }
          ],
          "histogram2d": [
           {
            "colorbar": {
             "outlinewidth": 0,
             "ticks": ""
            },
            "colorscale": [
             [
              0,
              "#0d0887"
             ],
             [
              0.1111111111111111,
              "#46039f"
             ],
             [
              0.2222222222222222,
              "#7201a8"
             ],
             [
              0.3333333333333333,
              "#9c179e"
             ],
             [
              0.4444444444444444,
              "#bd3786"
             ],
             [
              0.5555555555555556,
              "#d8576b"
             ],
             [
              0.6666666666666666,
              "#ed7953"
             ],
             [
              0.7777777777777778,
              "#fb9f3a"
             ],
             [
              0.8888888888888888,
              "#fdca26"
             ],
             [
              1,
              "#f0f921"
             ]
            ],
            "type": "histogram2d"
           }
          ],
          "histogram2dcontour": [
           {
            "colorbar": {
             "outlinewidth": 0,
             "ticks": ""
            },
            "colorscale": [
             [
              0,
              "#0d0887"
             ],
             [
              0.1111111111111111,
              "#46039f"
             ],
             [
              0.2222222222222222,
              "#7201a8"
             ],
             [
              0.3333333333333333,
              "#9c179e"
             ],
             [
              0.4444444444444444,
              "#bd3786"
             ],
             [
              0.5555555555555556,
              "#d8576b"
             ],
             [
              0.6666666666666666,
              "#ed7953"
             ],
             [
              0.7777777777777778,
              "#fb9f3a"
             ],
             [
              0.8888888888888888,
              "#fdca26"
             ],
             [
              1,
              "#f0f921"
             ]
            ],
            "type": "histogram2dcontour"
           }
          ],
          "mesh3d": [
           {
            "colorbar": {
             "outlinewidth": 0,
             "ticks": ""
            },
            "type": "mesh3d"
           }
          ],
          "parcoords": [
           {
            "line": {
             "colorbar": {
              "outlinewidth": 0,
              "ticks": ""
             }
            },
            "type": "parcoords"
           }
          ],
          "pie": [
           {
            "automargin": true,
            "type": "pie"
           }
          ],
          "scatter": [
           {
            "marker": {
             "colorbar": {
              "outlinewidth": 0,
              "ticks": ""
             }
            },
            "type": "scatter"
           }
          ],
          "scatter3d": [
           {
            "line": {
             "colorbar": {
              "outlinewidth": 0,
              "ticks": ""
             }
            },
            "marker": {
             "colorbar": {
              "outlinewidth": 0,
              "ticks": ""
             }
            },
            "type": "scatter3d"
           }
          ],
          "scattercarpet": [
           {
            "marker": {
             "colorbar": {
              "outlinewidth": 0,
              "ticks": ""
             }
            },
            "type": "scattercarpet"
           }
          ],
          "scattergeo": [
           {
            "marker": {
             "colorbar": {
              "outlinewidth": 0,
              "ticks": ""
             }
            },
            "type": "scattergeo"
           }
          ],
          "scattergl": [
           {
            "marker": {
             "colorbar": {
              "outlinewidth": 0,
              "ticks": ""
             }
            },
            "type": "scattergl"
           }
          ],
          "scattermapbox": [
           {
            "marker": {
             "colorbar": {
              "outlinewidth": 0,
              "ticks": ""
             }
            },
            "type": "scattermapbox"
           }
          ],
          "scatterpolar": [
           {
            "marker": {
             "colorbar": {
              "outlinewidth": 0,
              "ticks": ""
             }
            },
            "type": "scatterpolar"
           }
          ],
          "scatterpolargl": [
           {
            "marker": {
             "colorbar": {
              "outlinewidth": 0,
              "ticks": ""
             }
            },
            "type": "scatterpolargl"
           }
          ],
          "scatterternary": [
           {
            "marker": {
             "colorbar": {
              "outlinewidth": 0,
              "ticks": ""
             }
            },
            "type": "scatterternary"
           }
          ],
          "surface": [
           {
            "colorbar": {
             "outlinewidth": 0,
             "ticks": ""
            },
            "colorscale": [
             [
              0,
              "#0d0887"
             ],
             [
              0.1111111111111111,
              "#46039f"
             ],
             [
              0.2222222222222222,
              "#7201a8"
             ],
             [
              0.3333333333333333,
              "#9c179e"
             ],
             [
              0.4444444444444444,
              "#bd3786"
             ],
             [
              0.5555555555555556,
              "#d8576b"
             ],
             [
              0.6666666666666666,
              "#ed7953"
             ],
             [
              0.7777777777777778,
              "#fb9f3a"
             ],
             [
              0.8888888888888888,
              "#fdca26"
             ],
             [
              1,
              "#f0f921"
             ]
            ],
            "type": "surface"
           }
          ],
          "table": [
           {
            "cells": {
             "fill": {
              "color": "#EBF0F8"
             },
             "line": {
              "color": "white"
             }
            },
            "header": {
             "fill": {
              "color": "#C8D4E3"
             },
             "line": {
              "color": "white"
             }
            },
            "type": "table"
           }
          ]
         },
         "layout": {
          "annotationdefaults": {
           "arrowcolor": "#2a3f5f",
           "arrowhead": 0,
           "arrowwidth": 1
          },
          "autotypenumbers": "strict",
          "coloraxis": {
           "colorbar": {
            "outlinewidth": 0,
            "ticks": ""
           }
          },
          "colorscale": {
           "diverging": [
            [
             0,
             "#8e0152"
            ],
            [
             0.1,
             "#c51b7d"
            ],
            [
             0.2,
             "#de77ae"
            ],
            [
             0.3,
             "#f1b6da"
            ],
            [
             0.4,
             "#fde0ef"
            ],
            [
             0.5,
             "#f7f7f7"
            ],
            [
             0.6,
             "#e6f5d0"
            ],
            [
             0.7,
             "#b8e186"
            ],
            [
             0.8,
             "#7fbc41"
            ],
            [
             0.9,
             "#4d9221"
            ],
            [
             1,
             "#276419"
            ]
           ],
           "sequential": [
            [
             0,
             "#0d0887"
            ],
            [
             0.1111111111111111,
             "#46039f"
            ],
            [
             0.2222222222222222,
             "#7201a8"
            ],
            [
             0.3333333333333333,
             "#9c179e"
            ],
            [
             0.4444444444444444,
             "#bd3786"
            ],
            [
             0.5555555555555556,
             "#d8576b"
            ],
            [
             0.6666666666666666,
             "#ed7953"
            ],
            [
             0.7777777777777778,
             "#fb9f3a"
            ],
            [
             0.8888888888888888,
             "#fdca26"
            ],
            [
             1,
             "#f0f921"
            ]
           ],
           "sequentialminus": [
            [
             0,
             "#0d0887"
            ],
            [
             0.1111111111111111,
             "#46039f"
            ],
            [
             0.2222222222222222,
             "#7201a8"
            ],
            [
             0.3333333333333333,
             "#9c179e"
            ],
            [
             0.4444444444444444,
             "#bd3786"
            ],
            [
             0.5555555555555556,
             "#d8576b"
            ],
            [
             0.6666666666666666,
             "#ed7953"
            ],
            [
             0.7777777777777778,
             "#fb9f3a"
            ],
            [
             0.8888888888888888,
             "#fdca26"
            ],
            [
             1,
             "#f0f921"
            ]
           ]
          },
          "colorway": [
           "#636efa",
           "#EF553B",
           "#00cc96",
           "#ab63fa",
           "#FFA15A",
           "#19d3f3",
           "#FF6692",
           "#B6E880",
           "#FF97FF",
           "#FECB52"
          ],
          "font": {
           "color": "#2a3f5f"
          },
          "geo": {
           "bgcolor": "white",
           "lakecolor": "white",
           "landcolor": "#E5ECF6",
           "showlakes": true,
           "showland": true,
           "subunitcolor": "white"
          },
          "hoverlabel": {
           "align": "left"
          },
          "hovermode": "closest",
          "mapbox": {
           "style": "light"
          },
          "paper_bgcolor": "white",
          "plot_bgcolor": "#E5ECF6",
          "polar": {
           "angularaxis": {
            "gridcolor": "white",
            "linecolor": "white",
            "ticks": ""
           },
           "bgcolor": "#E5ECF6",
           "radialaxis": {
            "gridcolor": "white",
            "linecolor": "white",
            "ticks": ""
           }
          },
          "scene": {
           "xaxis": {
            "backgroundcolor": "#E5ECF6",
            "gridcolor": "white",
            "gridwidth": 2,
            "linecolor": "white",
            "showbackground": true,
            "ticks": "",
            "zerolinecolor": "white"
           },
           "yaxis": {
            "backgroundcolor": "#E5ECF6",
            "gridcolor": "white",
            "gridwidth": 2,
            "linecolor": "white",
            "showbackground": true,
            "ticks": "",
            "zerolinecolor": "white"
           },
           "zaxis": {
            "backgroundcolor": "#E5ECF6",
            "gridcolor": "white",
            "gridwidth": 2,
            "linecolor": "white",
            "showbackground": true,
            "ticks": "",
            "zerolinecolor": "white"
           }
          },
          "shapedefaults": {
           "line": {
            "color": "#2a3f5f"
           }
          },
          "ternary": {
           "aaxis": {
            "gridcolor": "white",
            "linecolor": "white",
            "ticks": ""
           },
           "baxis": {
            "gridcolor": "white",
            "linecolor": "white",
            "ticks": ""
           },
           "bgcolor": "#E5ECF6",
           "caxis": {
            "gridcolor": "white",
            "linecolor": "white",
            "ticks": ""
           }
          },
          "title": {
           "x": 0.05
          },
          "xaxis": {
           "automargin": true,
           "gridcolor": "white",
           "linecolor": "white",
           "ticks": "",
           "title": {
            "standoff": 15
           },
           "zerolinecolor": "white",
           "zerolinewidth": 2
          },
          "yaxis": {
           "automargin": true,
           "gridcolor": "white",
           "linecolor": "white",
           "ticks": "",
           "title": {
            "standoff": 15
           },
           "zerolinecolor": "white",
           "zerolinewidth": 2
          }
         }
        },
        "title": {
         "text": "Serves (to deuce side)"
        },
        "width": 500,
        "xaxis": {
         "anchor": "y",
         "domain": [
          0,
          1
         ],
         "title": {
          "text": "Areas: Outside / Center / T"
         }
        },
        "yaxis": {
         "anchor": "x",
         "domain": [
          0,
          1
         ],
         "title": {
          "text": "Point Results"
         }
        }
       }
      },
      "text/html": [
       "<div>                            <div id=\"f65b46b4-f03a-43e9-aea3-194040fdf3cf\" class=\"plotly-graph-div\" style=\"height:525px; width:500px;\"></div>            <script type=\"text/javascript\">                require([\"plotly\"], function(Plotly) {                    window.PLOTLYENV=window.PLOTLYENV || {};                                    if (document.getElementById(\"f65b46b4-f03a-43e9-aea3-194040fdf3cf\")) {                    Plotly.newPlot(                        \"f65b46b4-f03a-43e9-aea3-194040fdf3cf\",                        [{\"alignmentgroup\":\"True\",\"bingroup\":\"x\",\"hovertemplate\":\"Winner_Point=lost<br>Bounce (x)=%{x}<br>count=%{y}<extra></extra>\",\"legendgroup\":\"lost\",\"marker\":{\"color\":\"red\",\"pattern\":{\"shape\":\"\"}},\"name\":\"lost\",\"nbinsx\":3,\"offsetgroup\":\"lost\",\"orientation\":\"v\",\"showlegend\":true,\"x\":[-0.585177,-0.758101,-0.732366,-1.102948,-2.456892,-1.349758,-1.623898,-2.956261,-1.447628,-0.966666667,-0.2,-3.121526,-2.127584,-2.350792,-2.005913,-1.422855,-2.479284,-1.591858,-3.9,-2.953228,-3.8,-0.75711,-3.708462,-0.956,-0.655814,-2.603902,-1.107502,-2.51898,-1.579432,-1.262179],\"xaxis\":\"x\",\"yaxis\":\"y\",\"type\":\"histogram\",\"xbins\":{\"end\":0,\"size\":1.37,\"start\":-4.11}},{\"alignmentgroup\":\"True\",\"bingroup\":\"x\",\"hovertemplate\":\"Winner_Point=won<br>Bounce (x)=%{x}<br>count=%{y}<extra></extra>\",\"legendgroup\":\"won\",\"marker\":{\"color\":\"green\",\"pattern\":{\"shape\":\"\"}},\"name\":\"won\",\"nbinsx\":3,\"offsetgroup\":\"won\",\"orientation\":\"v\",\"showlegend\":true,\"x\":[-1.552521,-0.881464,-1.303924,-0.292052,-1.641273,-2.554467,-0.346348,-2.847425,-0.558257,-1.216827,-0.9666666666666668,-1.663314,-2.500885,-3.492854,-0.427344,-0.873097,-1.344872,-3.098713,-0.383646,-0.497981],\"xaxis\":\"x\",\"yaxis\":\"y\",\"type\":\"histogram\",\"xbins\":{\"end\":0,\"size\":1.37,\"start\":-4.11}}],                        {\"template\":{\"data\":{\"bar\":[{\"error_x\":{\"color\":\"#2a3f5f\"},\"error_y\":{\"color\":\"#2a3f5f\"},\"marker\":{\"line\":{\"color\":\"#E5ECF6\",\"width\":0.5},\"pattern\":{\"fillmode\":\"overlay\",\"size\":10,\"solidity\":0.2}},\"type\":\"bar\"}],\"barpolar\":[{\"marker\":{\"line\":{\"color\":\"#E5ECF6\",\"width\":0.5},\"pattern\":{\"fillmode\":\"overlay\",\"size\":10,\"solidity\":0.2}},\"type\":\"barpolar\"}],\"carpet\":[{\"aaxis\":{\"endlinecolor\":\"#2a3f5f\",\"gridcolor\":\"white\",\"linecolor\":\"white\",\"minorgridcolor\":\"white\",\"startlinecolor\":\"#2a3f5f\"},\"baxis\":{\"endlinecolor\":\"#2a3f5f\",\"gridcolor\":\"white\",\"linecolor\":\"white\",\"minorgridcolor\":\"white\",\"startlinecolor\":\"#2a3f5f\"},\"type\":\"carpet\"}],\"choropleth\":[{\"colorbar\":{\"outlinewidth\":0,\"ticks\":\"\"},\"type\":\"choropleth\"}],\"contour\":[{\"colorbar\":{\"outlinewidth\":0,\"ticks\":\"\"},\"colorscale\":[[0.0,\"#0d0887\"],[0.1111111111111111,\"#46039f\"],[0.2222222222222222,\"#7201a8\"],[0.3333333333333333,\"#9c179e\"],[0.4444444444444444,\"#bd3786\"],[0.5555555555555556,\"#d8576b\"],[0.6666666666666666,\"#ed7953\"],[0.7777777777777778,\"#fb9f3a\"],[0.8888888888888888,\"#fdca26\"],[1.0,\"#f0f921\"]],\"type\":\"contour\"}],\"contourcarpet\":[{\"colorbar\":{\"outlinewidth\":0,\"ticks\":\"\"},\"type\":\"contourcarpet\"}],\"heatmap\":[{\"colorbar\":{\"outlinewidth\":0,\"ticks\":\"\"},\"colorscale\":[[0.0,\"#0d0887\"],[0.1111111111111111,\"#46039f\"],[0.2222222222222222,\"#7201a8\"],[0.3333333333333333,\"#9c179e\"],[0.4444444444444444,\"#bd3786\"],[0.5555555555555556,\"#d8576b\"],[0.6666666666666666,\"#ed7953\"],[0.7777777777777778,\"#fb9f3a\"],[0.8888888888888888,\"#fdca26\"],[1.0,\"#f0f921\"]],\"type\":\"heatmap\"}],\"heatmapgl\":[{\"colorbar\":{\"outlinewidth\":0,\"ticks\":\"\"},\"colorscale\":[[0.0,\"#0d0887\"],[0.1111111111111111,\"#46039f\"],[0.2222222222222222,\"#7201a8\"],[0.3333333333333333,\"#9c179e\"],[0.4444444444444444,\"#bd3786\"],[0.5555555555555556,\"#d8576b\"],[0.6666666666666666,\"#ed7953\"],[0.7777777777777778,\"#fb9f3a\"],[0.8888888888888888,\"#fdca26\"],[1.0,\"#f0f921\"]],\"type\":\"heatmapgl\"}],\"histogram\":[{\"marker\":{\"pattern\":{\"fillmode\":\"overlay\",\"size\":10,\"solidity\":0.2}},\"type\":\"histogram\"}],\"histogram2d\":[{\"colorbar\":{\"outlinewidth\":0,\"ticks\":\"\"},\"colorscale\":[[0.0,\"#0d0887\"],[0.1111111111111111,\"#46039f\"],[0.2222222222222222,\"#7201a8\"],[0.3333333333333333,\"#9c179e\"],[0.4444444444444444,\"#bd3786\"],[0.5555555555555556,\"#d8576b\"],[0.6666666666666666,\"#ed7953\"],[0.7777777777777778,\"#fb9f3a\"],[0.8888888888888888,\"#fdca26\"],[1.0,\"#f0f921\"]],\"type\":\"histogram2d\"}],\"histogram2dcontour\":[{\"colorbar\":{\"outlinewidth\":0,\"ticks\":\"\"},\"colorscale\":[[0.0,\"#0d0887\"],[0.1111111111111111,\"#46039f\"],[0.2222222222222222,\"#7201a8\"],[0.3333333333333333,\"#9c179e\"],[0.4444444444444444,\"#bd3786\"],[0.5555555555555556,\"#d8576b\"],[0.6666666666666666,\"#ed7953\"],[0.7777777777777778,\"#fb9f3a\"],[0.8888888888888888,\"#fdca26\"],[1.0,\"#f0f921\"]],\"type\":\"histogram2dcontour\"}],\"mesh3d\":[{\"colorbar\":{\"outlinewidth\":0,\"ticks\":\"\"},\"type\":\"mesh3d\"}],\"parcoords\":[{\"line\":{\"colorbar\":{\"outlinewidth\":0,\"ticks\":\"\"}},\"type\":\"parcoords\"}],\"pie\":[{\"automargin\":true,\"type\":\"pie\"}],\"scatter\":[{\"marker\":{\"colorbar\":{\"outlinewidth\":0,\"ticks\":\"\"}},\"type\":\"scatter\"}],\"scatter3d\":[{\"line\":{\"colorbar\":{\"outlinewidth\":0,\"ticks\":\"\"}},\"marker\":{\"colorbar\":{\"outlinewidth\":0,\"ticks\":\"\"}},\"type\":\"scatter3d\"}],\"scattercarpet\":[{\"marker\":{\"colorbar\":{\"outlinewidth\":0,\"ticks\":\"\"}},\"type\":\"scattercarpet\"}],\"scattergeo\":[{\"marker\":{\"colorbar\":{\"outlinewidth\":0,\"ticks\":\"\"}},\"type\":\"scattergeo\"}],\"scattergl\":[{\"marker\":{\"colorbar\":{\"outlinewidth\":0,\"ticks\":\"\"}},\"type\":\"scattergl\"}],\"scattermapbox\":[{\"marker\":{\"colorbar\":{\"outlinewidth\":0,\"ticks\":\"\"}},\"type\":\"scattermapbox\"}],\"scatterpolar\":[{\"marker\":{\"colorbar\":{\"outlinewidth\":0,\"ticks\":\"\"}},\"type\":\"scatterpolar\"}],\"scatterpolargl\":[{\"marker\":{\"colorbar\":{\"outlinewidth\":0,\"ticks\":\"\"}},\"type\":\"scatterpolargl\"}],\"scatterternary\":[{\"marker\":{\"colorbar\":{\"outlinewidth\":0,\"ticks\":\"\"}},\"type\":\"scatterternary\"}],\"surface\":[{\"colorbar\":{\"outlinewidth\":0,\"ticks\":\"\"},\"colorscale\":[[0.0,\"#0d0887\"],[0.1111111111111111,\"#46039f\"],[0.2222222222222222,\"#7201a8\"],[0.3333333333333333,\"#9c179e\"],[0.4444444444444444,\"#bd3786\"],[0.5555555555555556,\"#d8576b\"],[0.6666666666666666,\"#ed7953\"],[0.7777777777777778,\"#fb9f3a\"],[0.8888888888888888,\"#fdca26\"],[1.0,\"#f0f921\"]],\"type\":\"surface\"}],\"table\":[{\"cells\":{\"fill\":{\"color\":\"#EBF0F8\"},\"line\":{\"color\":\"white\"}},\"header\":{\"fill\":{\"color\":\"#C8D4E3\"},\"line\":{\"color\":\"white\"}},\"type\":\"table\"}]},\"layout\":{\"annotationdefaults\":{\"arrowcolor\":\"#2a3f5f\",\"arrowhead\":0,\"arrowwidth\":1},\"autotypenumbers\":\"strict\",\"coloraxis\":{\"colorbar\":{\"outlinewidth\":0,\"ticks\":\"\"}},\"colorscale\":{\"diverging\":[[0,\"#8e0152\"],[0.1,\"#c51b7d\"],[0.2,\"#de77ae\"],[0.3,\"#f1b6da\"],[0.4,\"#fde0ef\"],[0.5,\"#f7f7f7\"],[0.6,\"#e6f5d0\"],[0.7,\"#b8e186\"],[0.8,\"#7fbc41\"],[0.9,\"#4d9221\"],[1,\"#276419\"]],\"sequential\":[[0.0,\"#0d0887\"],[0.1111111111111111,\"#46039f\"],[0.2222222222222222,\"#7201a8\"],[0.3333333333333333,\"#9c179e\"],[0.4444444444444444,\"#bd3786\"],[0.5555555555555556,\"#d8576b\"],[0.6666666666666666,\"#ed7953\"],[0.7777777777777778,\"#fb9f3a\"],[0.8888888888888888,\"#fdca26\"],[1.0,\"#f0f921\"]],\"sequentialminus\":[[0.0,\"#0d0887\"],[0.1111111111111111,\"#46039f\"],[0.2222222222222222,\"#7201a8\"],[0.3333333333333333,\"#9c179e\"],[0.4444444444444444,\"#bd3786\"],[0.5555555555555556,\"#d8576b\"],[0.6666666666666666,\"#ed7953\"],[0.7777777777777778,\"#fb9f3a\"],[0.8888888888888888,\"#fdca26\"],[1.0,\"#f0f921\"]]},\"colorway\":[\"#636efa\",\"#EF553B\",\"#00cc96\",\"#ab63fa\",\"#FFA15A\",\"#19d3f3\",\"#FF6692\",\"#B6E880\",\"#FF97FF\",\"#FECB52\"],\"font\":{\"color\":\"#2a3f5f\"},\"geo\":{\"bgcolor\":\"white\",\"lakecolor\":\"white\",\"landcolor\":\"#E5ECF6\",\"showlakes\":true,\"showland\":true,\"subunitcolor\":\"white\"},\"hoverlabel\":{\"align\":\"left\"},\"hovermode\":\"closest\",\"mapbox\":{\"style\":\"light\"},\"paper_bgcolor\":\"white\",\"plot_bgcolor\":\"#E5ECF6\",\"polar\":{\"angularaxis\":{\"gridcolor\":\"white\",\"linecolor\":\"white\",\"ticks\":\"\"},\"bgcolor\":\"#E5ECF6\",\"radialaxis\":{\"gridcolor\":\"white\",\"linecolor\":\"white\",\"ticks\":\"\"}},\"scene\":{\"xaxis\":{\"backgroundcolor\":\"#E5ECF6\",\"gridcolor\":\"white\",\"gridwidth\":2,\"linecolor\":\"white\",\"showbackground\":true,\"ticks\":\"\",\"zerolinecolor\":\"white\"},\"yaxis\":{\"backgroundcolor\":\"#E5ECF6\",\"gridcolor\":\"white\",\"gridwidth\":2,\"linecolor\":\"white\",\"showbackground\":true,\"ticks\":\"\",\"zerolinecolor\":\"white\"},\"zaxis\":{\"backgroundcolor\":\"#E5ECF6\",\"gridcolor\":\"white\",\"gridwidth\":2,\"linecolor\":\"white\",\"showbackground\":true,\"ticks\":\"\",\"zerolinecolor\":\"white\"}},\"shapedefaults\":{\"line\":{\"color\":\"#2a3f5f\"}},\"ternary\":{\"aaxis\":{\"gridcolor\":\"white\",\"linecolor\":\"white\",\"ticks\":\"\"},\"baxis\":{\"gridcolor\":\"white\",\"linecolor\":\"white\",\"ticks\":\"\"},\"bgcolor\":\"#E5ECF6\",\"caxis\":{\"gridcolor\":\"white\",\"linecolor\":\"white\",\"ticks\":\"\"}},\"title\":{\"x\":0.05},\"xaxis\":{\"automargin\":true,\"gridcolor\":\"white\",\"linecolor\":\"white\",\"ticks\":\"\",\"title\":{\"standoff\":15},\"zerolinecolor\":\"white\",\"zerolinewidth\":2},\"yaxis\":{\"automargin\":true,\"gridcolor\":\"white\",\"linecolor\":\"white\",\"ticks\":\"\",\"title\":{\"standoff\":15},\"zerolinecolor\":\"white\",\"zerolinewidth\":2}}},\"xaxis\":{\"anchor\":\"y\",\"domain\":[0.0,1.0],\"title\":{\"text\":\"Areas: Outside / Center / T\"}},\"yaxis\":{\"anchor\":\"x\",\"domain\":[0.0,1.0],\"title\":{\"text\":\"Point Results\"}},\"legend\":{\"title\":{\"text\":\"Winner_Point\"},\"tracegroupgap\":0},\"title\":{\"text\":\"Serves (to deuce side)\"},\"barmode\":\"group\",\"width\":500},                        {\"responsive\": true}                    ).then(function(){\n",
       "                            \n",
       "var gd = document.getElementById('f65b46b4-f03a-43e9-aea3-194040fdf3cf');\n",
       "var x = new MutationObserver(function (mutations, observer) {{\n",
       "        var display = window.getComputedStyle(gd).display;\n",
       "        if (!display || display === 'none') {{\n",
       "            console.log([gd, 'removed!']);\n",
       "            Plotly.purge(gd);\n",
       "            observer.disconnect();\n",
       "        }}\n",
       "}});\n",
       "\n",
       "// Listen for the removal of the full notebook cells\n",
       "var notebookContainer = gd.closest('#notebook-container');\n",
       "if (notebookContainer) {{\n",
       "    x.observe(notebookContainer, {childList: true});\n",
       "}}\n",
       "\n",
       "// Listen for the clearing of the current output cell\n",
       "var outputEl = gd.closest('.output');\n",
       "if (outputEl) {{\n",
       "    x.observe(outputEl, {childList: true});\n",
       "}}\n",
       "\n",
       "                        })                };                });            </script>        </div>"
      ]
     },
     "metadata": {},
     "output_type": "display_data"
    },
    {
     "data": {
      "application/vnd.plotly.v1+json": {
       "config": {
        "plotlyServerURL": "https://plot.ly"
       },
       "data": [
        {
         "alignmentgroup": "True",
         "bingroup": "x",
         "hovertemplate": "Winner_Point=won<br>Bounce (x)=%{x}<br>count=%{y}<extra></extra>",
         "legendgroup": "won",
         "marker": {
          "color": "green",
          "pattern": {
           "shape": ""
          }
         },
         "name": "won",
         "nbinsx": 3,
         "offsetgroup": "won",
         "orientation": "v",
         "showlegend": true,
         "type": "histogram",
         "x": [
          2.820747,
          0.344214,
          2.626929,
          2.799869,
          2.191304,
          2.604993,
          1.297159,
          0.166666667,
          2.767769,
          2.815093,
          0.923138,
          0.757072,
          3.125922,
          2.271604,
          0.665004,
          3.234947,
          3.576242
         ],
         "xaxis": "x",
         "xbins": {
          "end": 4.11,
          "size": 1.37,
          "start": 0
         },
         "yaxis": "y"
        },
        {
         "alignmentgroup": "True",
         "bingroup": "x",
         "hovertemplate": "Winner_Point=lost<br>Bounce (x)=%{x}<br>count=%{y}<extra></extra>",
         "legendgroup": "lost",
         "marker": {
          "color": "red",
          "pattern": {
           "shape": ""
          }
         },
         "name": "lost",
         "nbinsx": 3,
         "offsetgroup": "lost",
         "orientation": "v",
         "showlegend": true,
         "type": "histogram",
         "x": [
          1.166303,
          2.22917,
          3.6,
          3.8,
          3.383738,
          3.232542,
          0.517575,
          3.7,
          0.712364,
          2.314736,
          2.762076,
          3.204327,
          0.358162,
          0.990022,
          3.495926,
          3.48543,
          0.345903,
          1.009359,
          3.989312,
          0.785232,
          3.134305,
          3.852342,
          3.067571,
          3.322846,
          0.673046,
          3.344609,
          3.616727,
          3.351341
         ],
         "xaxis": "x",
         "xbins": {
          "end": 4.11,
          "size": 1.37,
          "start": 0
         },
         "yaxis": "y"
        }
       ],
       "layout": {
        "barmode": "group",
        "legend": {
         "title": {
          "text": "Winner_Point"
         },
         "tracegroupgap": 0
        },
        "template": {
         "data": {
          "bar": [
           {
            "error_x": {
             "color": "#2a3f5f"
            },
            "error_y": {
             "color": "#2a3f5f"
            },
            "marker": {
             "line": {
              "color": "#E5ECF6",
              "width": 0.5
             },
             "pattern": {
              "fillmode": "overlay",
              "size": 10,
              "solidity": 0.2
             }
            },
            "type": "bar"
           }
          ],
          "barpolar": [
           {
            "marker": {
             "line": {
              "color": "#E5ECF6",
              "width": 0.5
             },
             "pattern": {
              "fillmode": "overlay",
              "size": 10,
              "solidity": 0.2
             }
            },
            "type": "barpolar"
           }
          ],
          "carpet": [
           {
            "aaxis": {
             "endlinecolor": "#2a3f5f",
             "gridcolor": "white",
             "linecolor": "white",
             "minorgridcolor": "white",
             "startlinecolor": "#2a3f5f"
            },
            "baxis": {
             "endlinecolor": "#2a3f5f",
             "gridcolor": "white",
             "linecolor": "white",
             "minorgridcolor": "white",
             "startlinecolor": "#2a3f5f"
            },
            "type": "carpet"
           }
          ],
          "choropleth": [
           {
            "colorbar": {
             "outlinewidth": 0,
             "ticks": ""
            },
            "type": "choropleth"
           }
          ],
          "contour": [
           {
            "colorbar": {
             "outlinewidth": 0,
             "ticks": ""
            },
            "colorscale": [
             [
              0,
              "#0d0887"
             ],
             [
              0.1111111111111111,
              "#46039f"
             ],
             [
              0.2222222222222222,
              "#7201a8"
             ],
             [
              0.3333333333333333,
              "#9c179e"
             ],
             [
              0.4444444444444444,
              "#bd3786"
             ],
             [
              0.5555555555555556,
              "#d8576b"
             ],
             [
              0.6666666666666666,
              "#ed7953"
             ],
             [
              0.7777777777777778,
              "#fb9f3a"
             ],
             [
              0.8888888888888888,
              "#fdca26"
             ],
             [
              1,
              "#f0f921"
             ]
            ],
            "type": "contour"
           }
          ],
          "contourcarpet": [
           {
            "colorbar": {
             "outlinewidth": 0,
             "ticks": ""
            },
            "type": "contourcarpet"
           }
          ],
          "heatmap": [
           {
            "colorbar": {
             "outlinewidth": 0,
             "ticks": ""
            },
            "colorscale": [
             [
              0,
              "#0d0887"
             ],
             [
              0.1111111111111111,
              "#46039f"
             ],
             [
              0.2222222222222222,
              "#7201a8"
             ],
             [
              0.3333333333333333,
              "#9c179e"
             ],
             [
              0.4444444444444444,
              "#bd3786"
             ],
             [
              0.5555555555555556,
              "#d8576b"
             ],
             [
              0.6666666666666666,
              "#ed7953"
             ],
             [
              0.7777777777777778,
              "#fb9f3a"
             ],
             [
              0.8888888888888888,
              "#fdca26"
             ],
             [
              1,
              "#f0f921"
             ]
            ],
            "type": "heatmap"
           }
          ],
          "heatmapgl": [
           {
            "colorbar": {
             "outlinewidth": 0,
             "ticks": ""
            },
            "colorscale": [
             [
              0,
              "#0d0887"
             ],
             [
              0.1111111111111111,
              "#46039f"
             ],
             [
              0.2222222222222222,
              "#7201a8"
             ],
             [
              0.3333333333333333,
              "#9c179e"
             ],
             [
              0.4444444444444444,
              "#bd3786"
             ],
             [
              0.5555555555555556,
              "#d8576b"
             ],
             [
              0.6666666666666666,
              "#ed7953"
             ],
             [
              0.7777777777777778,
              "#fb9f3a"
             ],
             [
              0.8888888888888888,
              "#fdca26"
             ],
             [
              1,
              "#f0f921"
             ]
            ],
            "type": "heatmapgl"
           }
          ],
          "histogram": [
           {
            "marker": {
             "pattern": {
              "fillmode": "overlay",
              "size": 10,
              "solidity": 0.2
             }
            },
            "type": "histogram"
           }
          ],
          "histogram2d": [
           {
            "colorbar": {
             "outlinewidth": 0,
             "ticks": ""
            },
            "colorscale": [
             [
              0,
              "#0d0887"
             ],
             [
              0.1111111111111111,
              "#46039f"
             ],
             [
              0.2222222222222222,
              "#7201a8"
             ],
             [
              0.3333333333333333,
              "#9c179e"
             ],
             [
              0.4444444444444444,
              "#bd3786"
             ],
             [
              0.5555555555555556,
              "#d8576b"
             ],
             [
              0.6666666666666666,
              "#ed7953"
             ],
             [
              0.7777777777777778,
              "#fb9f3a"
             ],
             [
              0.8888888888888888,
              "#fdca26"
             ],
             [
              1,
              "#f0f921"
             ]
            ],
            "type": "histogram2d"
           }
          ],
          "histogram2dcontour": [
           {
            "colorbar": {
             "outlinewidth": 0,
             "ticks": ""
            },
            "colorscale": [
             [
              0,
              "#0d0887"
             ],
             [
              0.1111111111111111,
              "#46039f"
             ],
             [
              0.2222222222222222,
              "#7201a8"
             ],
             [
              0.3333333333333333,
              "#9c179e"
             ],
             [
              0.4444444444444444,
              "#bd3786"
             ],
             [
              0.5555555555555556,
              "#d8576b"
             ],
             [
              0.6666666666666666,
              "#ed7953"
             ],
             [
              0.7777777777777778,
              "#fb9f3a"
             ],
             [
              0.8888888888888888,
              "#fdca26"
             ],
             [
              1,
              "#f0f921"
             ]
            ],
            "type": "histogram2dcontour"
           }
          ],
          "mesh3d": [
           {
            "colorbar": {
             "outlinewidth": 0,
             "ticks": ""
            },
            "type": "mesh3d"
           }
          ],
          "parcoords": [
           {
            "line": {
             "colorbar": {
              "outlinewidth": 0,
              "ticks": ""
             }
            },
            "type": "parcoords"
           }
          ],
          "pie": [
           {
            "automargin": true,
            "type": "pie"
           }
          ],
          "scatter": [
           {
            "marker": {
             "colorbar": {
              "outlinewidth": 0,
              "ticks": ""
             }
            },
            "type": "scatter"
           }
          ],
          "scatter3d": [
           {
            "line": {
             "colorbar": {
              "outlinewidth": 0,
              "ticks": ""
             }
            },
            "marker": {
             "colorbar": {
              "outlinewidth": 0,
              "ticks": ""
             }
            },
            "type": "scatter3d"
           }
          ],
          "scattercarpet": [
           {
            "marker": {
             "colorbar": {
              "outlinewidth": 0,
              "ticks": ""
             }
            },
            "type": "scattercarpet"
           }
          ],
          "scattergeo": [
           {
            "marker": {
             "colorbar": {
              "outlinewidth": 0,
              "ticks": ""
             }
            },
            "type": "scattergeo"
           }
          ],
          "scattergl": [
           {
            "marker": {
             "colorbar": {
              "outlinewidth": 0,
              "ticks": ""
             }
            },
            "type": "scattergl"
           }
          ],
          "scattermapbox": [
           {
            "marker": {
             "colorbar": {
              "outlinewidth": 0,
              "ticks": ""
             }
            },
            "type": "scattermapbox"
           }
          ],
          "scatterpolar": [
           {
            "marker": {
             "colorbar": {
              "outlinewidth": 0,
              "ticks": ""
             }
            },
            "type": "scatterpolar"
           }
          ],
          "scatterpolargl": [
           {
            "marker": {
             "colorbar": {
              "outlinewidth": 0,
              "ticks": ""
             }
            },
            "type": "scatterpolargl"
           }
          ],
          "scatterternary": [
           {
            "marker": {
             "colorbar": {
              "outlinewidth": 0,
              "ticks": ""
             }
            },
            "type": "scatterternary"
           }
          ],
          "surface": [
           {
            "colorbar": {
             "outlinewidth": 0,
             "ticks": ""
            },
            "colorscale": [
             [
              0,
              "#0d0887"
             ],
             [
              0.1111111111111111,
              "#46039f"
             ],
             [
              0.2222222222222222,
              "#7201a8"
             ],
             [
              0.3333333333333333,
              "#9c179e"
             ],
             [
              0.4444444444444444,
              "#bd3786"
             ],
             [
              0.5555555555555556,
              "#d8576b"
             ],
             [
              0.6666666666666666,
              "#ed7953"
             ],
             [
              0.7777777777777778,
              "#fb9f3a"
             ],
             [
              0.8888888888888888,
              "#fdca26"
             ],
             [
              1,
              "#f0f921"
             ]
            ],
            "type": "surface"
           }
          ],
          "table": [
           {
            "cells": {
             "fill": {
              "color": "#EBF0F8"
             },
             "line": {
              "color": "white"
             }
            },
            "header": {
             "fill": {
              "color": "#C8D4E3"
             },
             "line": {
              "color": "white"
             }
            },
            "type": "table"
           }
          ]
         },
         "layout": {
          "annotationdefaults": {
           "arrowcolor": "#2a3f5f",
           "arrowhead": 0,
           "arrowwidth": 1
          },
          "autotypenumbers": "strict",
          "coloraxis": {
           "colorbar": {
            "outlinewidth": 0,
            "ticks": ""
           }
          },
          "colorscale": {
           "diverging": [
            [
             0,
             "#8e0152"
            ],
            [
             0.1,
             "#c51b7d"
            ],
            [
             0.2,
             "#de77ae"
            ],
            [
             0.3,
             "#f1b6da"
            ],
            [
             0.4,
             "#fde0ef"
            ],
            [
             0.5,
             "#f7f7f7"
            ],
            [
             0.6,
             "#e6f5d0"
            ],
            [
             0.7,
             "#b8e186"
            ],
            [
             0.8,
             "#7fbc41"
            ],
            [
             0.9,
             "#4d9221"
            ],
            [
             1,
             "#276419"
            ]
           ],
           "sequential": [
            [
             0,
             "#0d0887"
            ],
            [
             0.1111111111111111,
             "#46039f"
            ],
            [
             0.2222222222222222,
             "#7201a8"
            ],
            [
             0.3333333333333333,
             "#9c179e"
            ],
            [
             0.4444444444444444,
             "#bd3786"
            ],
            [
             0.5555555555555556,
             "#d8576b"
            ],
            [
             0.6666666666666666,
             "#ed7953"
            ],
            [
             0.7777777777777778,
             "#fb9f3a"
            ],
            [
             0.8888888888888888,
             "#fdca26"
            ],
            [
             1,
             "#f0f921"
            ]
           ],
           "sequentialminus": [
            [
             0,
             "#0d0887"
            ],
            [
             0.1111111111111111,
             "#46039f"
            ],
            [
             0.2222222222222222,
             "#7201a8"
            ],
            [
             0.3333333333333333,
             "#9c179e"
            ],
            [
             0.4444444444444444,
             "#bd3786"
            ],
            [
             0.5555555555555556,
             "#d8576b"
            ],
            [
             0.6666666666666666,
             "#ed7953"
            ],
            [
             0.7777777777777778,
             "#fb9f3a"
            ],
            [
             0.8888888888888888,
             "#fdca26"
            ],
            [
             1,
             "#f0f921"
            ]
           ]
          },
          "colorway": [
           "#636efa",
           "#EF553B",
           "#00cc96",
           "#ab63fa",
           "#FFA15A",
           "#19d3f3",
           "#FF6692",
           "#B6E880",
           "#FF97FF",
           "#FECB52"
          ],
          "font": {
           "color": "#2a3f5f"
          },
          "geo": {
           "bgcolor": "white",
           "lakecolor": "white",
           "landcolor": "#E5ECF6",
           "showlakes": true,
           "showland": true,
           "subunitcolor": "white"
          },
          "hoverlabel": {
           "align": "left"
          },
          "hovermode": "closest",
          "mapbox": {
           "style": "light"
          },
          "paper_bgcolor": "white",
          "plot_bgcolor": "#E5ECF6",
          "polar": {
           "angularaxis": {
            "gridcolor": "white",
            "linecolor": "white",
            "ticks": ""
           },
           "bgcolor": "#E5ECF6",
           "radialaxis": {
            "gridcolor": "white",
            "linecolor": "white",
            "ticks": ""
           }
          },
          "scene": {
           "xaxis": {
            "backgroundcolor": "#E5ECF6",
            "gridcolor": "white",
            "gridwidth": 2,
            "linecolor": "white",
            "showbackground": true,
            "ticks": "",
            "zerolinecolor": "white"
           },
           "yaxis": {
            "backgroundcolor": "#E5ECF6",
            "gridcolor": "white",
            "gridwidth": 2,
            "linecolor": "white",
            "showbackground": true,
            "ticks": "",
            "zerolinecolor": "white"
           },
           "zaxis": {
            "backgroundcolor": "#E5ECF6",
            "gridcolor": "white",
            "gridwidth": 2,
            "linecolor": "white",
            "showbackground": true,
            "ticks": "",
            "zerolinecolor": "white"
           }
          },
          "shapedefaults": {
           "line": {
            "color": "#2a3f5f"
           }
          },
          "ternary": {
           "aaxis": {
            "gridcolor": "white",
            "linecolor": "white",
            "ticks": ""
           },
           "baxis": {
            "gridcolor": "white",
            "linecolor": "white",
            "ticks": ""
           },
           "bgcolor": "#E5ECF6",
           "caxis": {
            "gridcolor": "white",
            "linecolor": "white",
            "ticks": ""
           }
          },
          "title": {
           "x": 0.05
          },
          "xaxis": {
           "automargin": true,
           "gridcolor": "white",
           "linecolor": "white",
           "ticks": "",
           "title": {
            "standoff": 15
           },
           "zerolinecolor": "white",
           "zerolinewidth": 2
          },
          "yaxis": {
           "automargin": true,
           "gridcolor": "white",
           "linecolor": "white",
           "ticks": "",
           "title": {
            "standoff": 15
           },
           "zerolinecolor": "white",
           "zerolinewidth": 2
          }
         }
        },
        "title": {
         "text": "Serves (to Ad side)"
        },
        "width": 500,
        "xaxis": {
         "anchor": "y",
         "domain": [
          0,
          1
         ],
         "title": {
          "text": "Areas: T / Center / Outside"
         }
        },
        "yaxis": {
         "anchor": "x",
         "domain": [
          0,
          1
         ],
         "title": {
          "text": "Point Results"
         }
        }
       }
      },
      "text/html": [
       "<div>                            <div id=\"e278db59-e045-4396-bf7f-9b54e8067ee7\" class=\"plotly-graph-div\" style=\"height:525px; width:500px;\"></div>            <script type=\"text/javascript\">                require([\"plotly\"], function(Plotly) {                    window.PLOTLYENV=window.PLOTLYENV || {};                                    if (document.getElementById(\"e278db59-e045-4396-bf7f-9b54e8067ee7\")) {                    Plotly.newPlot(                        \"e278db59-e045-4396-bf7f-9b54e8067ee7\",                        [{\"alignmentgroup\":\"True\",\"bingroup\":\"x\",\"hovertemplate\":\"Winner_Point=won<br>Bounce (x)=%{x}<br>count=%{y}<extra></extra>\",\"legendgroup\":\"won\",\"marker\":{\"color\":\"green\",\"pattern\":{\"shape\":\"\"}},\"name\":\"won\",\"nbinsx\":3,\"offsetgroup\":\"won\",\"orientation\":\"v\",\"showlegend\":true,\"x\":[2.820747,0.344214,2.626929,2.799869,2.191304,2.604993,1.297159,0.166666667,2.767769,2.815093,0.923138,0.757072,3.125922,2.271604,0.665004,3.234947,3.576242],\"xaxis\":\"x\",\"yaxis\":\"y\",\"type\":\"histogram\",\"xbins\":{\"end\":4.11,\"size\":1.37,\"start\":0}},{\"alignmentgroup\":\"True\",\"bingroup\":\"x\",\"hovertemplate\":\"Winner_Point=lost<br>Bounce (x)=%{x}<br>count=%{y}<extra></extra>\",\"legendgroup\":\"lost\",\"marker\":{\"color\":\"red\",\"pattern\":{\"shape\":\"\"}},\"name\":\"lost\",\"nbinsx\":3,\"offsetgroup\":\"lost\",\"orientation\":\"v\",\"showlegend\":true,\"x\":[1.166303,2.22917,3.6,3.8,3.383738,3.232542,0.517575,3.7,0.712364,2.314736,2.762076,3.204327,0.358162,0.990022,3.495926,3.48543,0.345903,1.009359,3.989312,0.785232,3.134305,3.852342,3.067571,3.322846,0.673046,3.344609,3.616727,3.351341],\"xaxis\":\"x\",\"yaxis\":\"y\",\"type\":\"histogram\",\"xbins\":{\"end\":4.11,\"size\":1.37,\"start\":0}}],                        {\"template\":{\"data\":{\"bar\":[{\"error_x\":{\"color\":\"#2a3f5f\"},\"error_y\":{\"color\":\"#2a3f5f\"},\"marker\":{\"line\":{\"color\":\"#E5ECF6\",\"width\":0.5},\"pattern\":{\"fillmode\":\"overlay\",\"size\":10,\"solidity\":0.2}},\"type\":\"bar\"}],\"barpolar\":[{\"marker\":{\"line\":{\"color\":\"#E5ECF6\",\"width\":0.5},\"pattern\":{\"fillmode\":\"overlay\",\"size\":10,\"solidity\":0.2}},\"type\":\"barpolar\"}],\"carpet\":[{\"aaxis\":{\"endlinecolor\":\"#2a3f5f\",\"gridcolor\":\"white\",\"linecolor\":\"white\",\"minorgridcolor\":\"white\",\"startlinecolor\":\"#2a3f5f\"},\"baxis\":{\"endlinecolor\":\"#2a3f5f\",\"gridcolor\":\"white\",\"linecolor\":\"white\",\"minorgridcolor\":\"white\",\"startlinecolor\":\"#2a3f5f\"},\"type\":\"carpet\"}],\"choropleth\":[{\"colorbar\":{\"outlinewidth\":0,\"ticks\":\"\"},\"type\":\"choropleth\"}],\"contour\":[{\"colorbar\":{\"outlinewidth\":0,\"ticks\":\"\"},\"colorscale\":[[0.0,\"#0d0887\"],[0.1111111111111111,\"#46039f\"],[0.2222222222222222,\"#7201a8\"],[0.3333333333333333,\"#9c179e\"],[0.4444444444444444,\"#bd3786\"],[0.5555555555555556,\"#d8576b\"],[0.6666666666666666,\"#ed7953\"],[0.7777777777777778,\"#fb9f3a\"],[0.8888888888888888,\"#fdca26\"],[1.0,\"#f0f921\"]],\"type\":\"contour\"}],\"contourcarpet\":[{\"colorbar\":{\"outlinewidth\":0,\"ticks\":\"\"},\"type\":\"contourcarpet\"}],\"heatmap\":[{\"colorbar\":{\"outlinewidth\":0,\"ticks\":\"\"},\"colorscale\":[[0.0,\"#0d0887\"],[0.1111111111111111,\"#46039f\"],[0.2222222222222222,\"#7201a8\"],[0.3333333333333333,\"#9c179e\"],[0.4444444444444444,\"#bd3786\"],[0.5555555555555556,\"#d8576b\"],[0.6666666666666666,\"#ed7953\"],[0.7777777777777778,\"#fb9f3a\"],[0.8888888888888888,\"#fdca26\"],[1.0,\"#f0f921\"]],\"type\":\"heatmap\"}],\"heatmapgl\":[{\"colorbar\":{\"outlinewidth\":0,\"ticks\":\"\"},\"colorscale\":[[0.0,\"#0d0887\"],[0.1111111111111111,\"#46039f\"],[0.2222222222222222,\"#7201a8\"],[0.3333333333333333,\"#9c179e\"],[0.4444444444444444,\"#bd3786\"],[0.5555555555555556,\"#d8576b\"],[0.6666666666666666,\"#ed7953\"],[0.7777777777777778,\"#fb9f3a\"],[0.8888888888888888,\"#fdca26\"],[1.0,\"#f0f921\"]],\"type\":\"heatmapgl\"}],\"histogram\":[{\"marker\":{\"pattern\":{\"fillmode\":\"overlay\",\"size\":10,\"solidity\":0.2}},\"type\":\"histogram\"}],\"histogram2d\":[{\"colorbar\":{\"outlinewidth\":0,\"ticks\":\"\"},\"colorscale\":[[0.0,\"#0d0887\"],[0.1111111111111111,\"#46039f\"],[0.2222222222222222,\"#7201a8\"],[0.3333333333333333,\"#9c179e\"],[0.4444444444444444,\"#bd3786\"],[0.5555555555555556,\"#d8576b\"],[0.6666666666666666,\"#ed7953\"],[0.7777777777777778,\"#fb9f3a\"],[0.8888888888888888,\"#fdca26\"],[1.0,\"#f0f921\"]],\"type\":\"histogram2d\"}],\"histogram2dcontour\":[{\"colorbar\":{\"outlinewidth\":0,\"ticks\":\"\"},\"colorscale\":[[0.0,\"#0d0887\"],[0.1111111111111111,\"#46039f\"],[0.2222222222222222,\"#7201a8\"],[0.3333333333333333,\"#9c179e\"],[0.4444444444444444,\"#bd3786\"],[0.5555555555555556,\"#d8576b\"],[0.6666666666666666,\"#ed7953\"],[0.7777777777777778,\"#fb9f3a\"],[0.8888888888888888,\"#fdca26\"],[1.0,\"#f0f921\"]],\"type\":\"histogram2dcontour\"}],\"mesh3d\":[{\"colorbar\":{\"outlinewidth\":0,\"ticks\":\"\"},\"type\":\"mesh3d\"}],\"parcoords\":[{\"line\":{\"colorbar\":{\"outlinewidth\":0,\"ticks\":\"\"}},\"type\":\"parcoords\"}],\"pie\":[{\"automargin\":true,\"type\":\"pie\"}],\"scatter\":[{\"marker\":{\"colorbar\":{\"outlinewidth\":0,\"ticks\":\"\"}},\"type\":\"scatter\"}],\"scatter3d\":[{\"line\":{\"colorbar\":{\"outlinewidth\":0,\"ticks\":\"\"}},\"marker\":{\"colorbar\":{\"outlinewidth\":0,\"ticks\":\"\"}},\"type\":\"scatter3d\"}],\"scattercarpet\":[{\"marker\":{\"colorbar\":{\"outlinewidth\":0,\"ticks\":\"\"}},\"type\":\"scattercarpet\"}],\"scattergeo\":[{\"marker\":{\"colorbar\":{\"outlinewidth\":0,\"ticks\":\"\"}},\"type\":\"scattergeo\"}],\"scattergl\":[{\"marker\":{\"colorbar\":{\"outlinewidth\":0,\"ticks\":\"\"}},\"type\":\"scattergl\"}],\"scattermapbox\":[{\"marker\":{\"colorbar\":{\"outlinewidth\":0,\"ticks\":\"\"}},\"type\":\"scattermapbox\"}],\"scatterpolar\":[{\"marker\":{\"colorbar\":{\"outlinewidth\":0,\"ticks\":\"\"}},\"type\":\"scatterpolar\"}],\"scatterpolargl\":[{\"marker\":{\"colorbar\":{\"outlinewidth\":0,\"ticks\":\"\"}},\"type\":\"scatterpolargl\"}],\"scatterternary\":[{\"marker\":{\"colorbar\":{\"outlinewidth\":0,\"ticks\":\"\"}},\"type\":\"scatterternary\"}],\"surface\":[{\"colorbar\":{\"outlinewidth\":0,\"ticks\":\"\"},\"colorscale\":[[0.0,\"#0d0887\"],[0.1111111111111111,\"#46039f\"],[0.2222222222222222,\"#7201a8\"],[0.3333333333333333,\"#9c179e\"],[0.4444444444444444,\"#bd3786\"],[0.5555555555555556,\"#d8576b\"],[0.6666666666666666,\"#ed7953\"],[0.7777777777777778,\"#fb9f3a\"],[0.8888888888888888,\"#fdca26\"],[1.0,\"#f0f921\"]],\"type\":\"surface\"}],\"table\":[{\"cells\":{\"fill\":{\"color\":\"#EBF0F8\"},\"line\":{\"color\":\"white\"}},\"header\":{\"fill\":{\"color\":\"#C8D4E3\"},\"line\":{\"color\":\"white\"}},\"type\":\"table\"}]},\"layout\":{\"annotationdefaults\":{\"arrowcolor\":\"#2a3f5f\",\"arrowhead\":0,\"arrowwidth\":1},\"autotypenumbers\":\"strict\",\"coloraxis\":{\"colorbar\":{\"outlinewidth\":0,\"ticks\":\"\"}},\"colorscale\":{\"diverging\":[[0,\"#8e0152\"],[0.1,\"#c51b7d\"],[0.2,\"#de77ae\"],[0.3,\"#f1b6da\"],[0.4,\"#fde0ef\"],[0.5,\"#f7f7f7\"],[0.6,\"#e6f5d0\"],[0.7,\"#b8e186\"],[0.8,\"#7fbc41\"],[0.9,\"#4d9221\"],[1,\"#276419\"]],\"sequential\":[[0.0,\"#0d0887\"],[0.1111111111111111,\"#46039f\"],[0.2222222222222222,\"#7201a8\"],[0.3333333333333333,\"#9c179e\"],[0.4444444444444444,\"#bd3786\"],[0.5555555555555556,\"#d8576b\"],[0.6666666666666666,\"#ed7953\"],[0.7777777777777778,\"#fb9f3a\"],[0.8888888888888888,\"#fdca26\"],[1.0,\"#f0f921\"]],\"sequentialminus\":[[0.0,\"#0d0887\"],[0.1111111111111111,\"#46039f\"],[0.2222222222222222,\"#7201a8\"],[0.3333333333333333,\"#9c179e\"],[0.4444444444444444,\"#bd3786\"],[0.5555555555555556,\"#d8576b\"],[0.6666666666666666,\"#ed7953\"],[0.7777777777777778,\"#fb9f3a\"],[0.8888888888888888,\"#fdca26\"],[1.0,\"#f0f921\"]]},\"colorway\":[\"#636efa\",\"#EF553B\",\"#00cc96\",\"#ab63fa\",\"#FFA15A\",\"#19d3f3\",\"#FF6692\",\"#B6E880\",\"#FF97FF\",\"#FECB52\"],\"font\":{\"color\":\"#2a3f5f\"},\"geo\":{\"bgcolor\":\"white\",\"lakecolor\":\"white\",\"landcolor\":\"#E5ECF6\",\"showlakes\":true,\"showland\":true,\"subunitcolor\":\"white\"},\"hoverlabel\":{\"align\":\"left\"},\"hovermode\":\"closest\",\"mapbox\":{\"style\":\"light\"},\"paper_bgcolor\":\"white\",\"plot_bgcolor\":\"#E5ECF6\",\"polar\":{\"angularaxis\":{\"gridcolor\":\"white\",\"linecolor\":\"white\",\"ticks\":\"\"},\"bgcolor\":\"#E5ECF6\",\"radialaxis\":{\"gridcolor\":\"white\",\"linecolor\":\"white\",\"ticks\":\"\"}},\"scene\":{\"xaxis\":{\"backgroundcolor\":\"#E5ECF6\",\"gridcolor\":\"white\",\"gridwidth\":2,\"linecolor\":\"white\",\"showbackground\":true,\"ticks\":\"\",\"zerolinecolor\":\"white\"},\"yaxis\":{\"backgroundcolor\":\"#E5ECF6\",\"gridcolor\":\"white\",\"gridwidth\":2,\"linecolor\":\"white\",\"showbackground\":true,\"ticks\":\"\",\"zerolinecolor\":\"white\"},\"zaxis\":{\"backgroundcolor\":\"#E5ECF6\",\"gridcolor\":\"white\",\"gridwidth\":2,\"linecolor\":\"white\",\"showbackground\":true,\"ticks\":\"\",\"zerolinecolor\":\"white\"}},\"shapedefaults\":{\"line\":{\"color\":\"#2a3f5f\"}},\"ternary\":{\"aaxis\":{\"gridcolor\":\"white\",\"linecolor\":\"white\",\"ticks\":\"\"},\"baxis\":{\"gridcolor\":\"white\",\"linecolor\":\"white\",\"ticks\":\"\"},\"bgcolor\":\"#E5ECF6\",\"caxis\":{\"gridcolor\":\"white\",\"linecolor\":\"white\",\"ticks\":\"\"}},\"title\":{\"x\":0.05},\"xaxis\":{\"automargin\":true,\"gridcolor\":\"white\",\"linecolor\":\"white\",\"ticks\":\"\",\"title\":{\"standoff\":15},\"zerolinecolor\":\"white\",\"zerolinewidth\":2},\"yaxis\":{\"automargin\":true,\"gridcolor\":\"white\",\"linecolor\":\"white\",\"ticks\":\"\",\"title\":{\"standoff\":15},\"zerolinecolor\":\"white\",\"zerolinewidth\":2}}},\"xaxis\":{\"anchor\":\"y\",\"domain\":[0.0,1.0],\"title\":{\"text\":\"Areas: T / Center / Outside\"}},\"yaxis\":{\"anchor\":\"x\",\"domain\":[0.0,1.0],\"title\":{\"text\":\"Point Results\"}},\"legend\":{\"title\":{\"text\":\"Winner_Point\"},\"tracegroupgap\":0},\"title\":{\"text\":\"Serves (to Ad side)\"},\"barmode\":\"group\",\"width\":500},                        {\"responsive\": true}                    ).then(function(){\n",
       "                            \n",
       "var gd = document.getElementById('e278db59-e045-4396-bf7f-9b54e8067ee7');\n",
       "var x = new MutationObserver(function (mutations, observer) {{\n",
       "        var display = window.getComputedStyle(gd).display;\n",
       "        if (!display || display === 'none') {{\n",
       "            console.log([gd, 'removed!']);\n",
       "            Plotly.purge(gd);\n",
       "            observer.disconnect();\n",
       "        }}\n",
       "}});\n",
       "\n",
       "// Listen for the removal of the full notebook cells\n",
       "var notebookContainer = gd.closest('#notebook-container');\n",
       "if (notebookContainer) {{\n",
       "    x.observe(notebookContainer, {childList: true});\n",
       "}}\n",
       "\n",
       "// Listen for the clearing of the current output cell\n",
       "var outputEl = gd.closest('.output');\n",
       "if (outputEl) {{\n",
       "    x.observe(outputEl, {childList: true});\n",
       "}}\n",
       "\n",
       "                        })                };                });            </script>        </div>"
      ]
     },
     "metadata": {},
     "output_type": "display_data"
    }
   ],
   "source": [
    "hide_me\n",
    "fig4=px.histogram(df_to_check[df_to_check[\"Hit Zone\"]==\"deuce\"],x=\"Bounce (x)\",color=\"Winner_Point\"\n",
    "                    , color_discrete_map={\"won\":\"green\",\"lost\":\"red\"}\n",
    "                    , barmode=\"group\", width=500\n",
    "                    , hover_data=[\"Speed (KM/H)\"], nbins=3\n",
    "                    , title=\"Serves (to deuce side)\"\n",
    "                  \n",
    "                   )\n",
    "bin_size=4.11/3\n",
    "fig4.update_traces(xbins=dict( # bins used for histogram\n",
    "        start=-4.11,\n",
    "        end=0,\n",
    "        size=bin_size\n",
    "    ))\n",
    "fig4.update_layout(\n",
    "    xaxis_title=\"Areas: Outside / Center / T\",\n",
    "    yaxis_title=\"Point Results\",\n",
    ")\n",
    "#newnames = {'-3.43':'hello', '-2/06': 'hi'}\n",
    "#fig4.for_each_trace(lambda t: t.update(name = newnames[t.name]))\n",
    "fig4.show()\n",
    "\n",
    "\n",
    "fig5=px.histogram(df_to_check[df_to_check[\"Hit Zone\"]==\"ad\"],x=\"Bounce (x)\",color=\"Winner_Point\"\n",
    "                    , color_discrete_map={\"won\":\"green\",\"lost\":\"red\"}\n",
    "                    , barmode=\"group\", width=500\n",
    "                    , hover_data=[\"Speed (KM/H)\"], nbins=3\n",
    "                    , title=\"Serves (to Ad side)\"\n",
    "                   )\n",
    "fig5.update_traces(xbins=dict( # bins used for histogram\n",
    "        start=0,\n",
    "        end=4.11,\n",
    "        size=bin_size\n",
    "    ))\n",
    "fig5.update_layout(\n",
    "    xaxis_title=\"Areas: T / Center / Outside\",\n",
    "    yaxis_title=\"Point Results\",\n",
    ")\n",
    "fig5.show()"
   ]
  },
  {
   "cell_type": "code",
   "execution_count": 17,
   "id": "e309f6ae",
   "metadata": {},
   "outputs": [
    {
     "name": "stdout",
     "output_type": "stream",
     "text": [
      "             Direction     Spin    \n",
      "Winner_Point      lost won lost won\n",
      "Hit Zone                           \n",
      "ad                  28  16   28  16\n",
      "deuce               30  19   30  19\n"
     ]
    },
    {
     "data": {
      "text/html": [
       "<div>\n",
       "<style scoped>\n",
       "    .dataframe tbody tr th:only-of-type {\n",
       "        vertical-align: middle;\n",
       "    }\n",
       "\n",
       "    .dataframe tbody tr th {\n",
       "        vertical-align: top;\n",
       "    }\n",
       "\n",
       "    .dataframe thead th {\n",
       "        text-align: right;\n",
       "    }\n",
       "</style>\n",
       "<table border=\"1\" class=\"dataframe\">\n",
       "  <thead>\n",
       "    <tr style=\"text-align: right;\">\n",
       "      <th></th>\n",
       "      <th>won</th>\n",
       "      <th>lost</th>\n",
       "    </tr>\n",
       "    <tr>\n",
       "      <th>Hit Zone</th>\n",
       "      <th></th>\n",
       "      <th></th>\n",
       "    </tr>\n",
       "  </thead>\n",
       "  <tbody>\n",
       "    <tr>\n",
       "      <th>ad</th>\n",
       "      <td>36.0</td>\n",
       "      <td>64.0</td>\n",
       "    </tr>\n",
       "    <tr>\n",
       "      <th>deuce</th>\n",
       "      <td>39.0</td>\n",
       "      <td>61.0</td>\n",
       "    </tr>\n",
       "  </tbody>\n",
       "</table>\n",
       "</div>"
      ],
      "text/plain": [
       "           won  lost\n",
       "Hit Zone            \n",
       "ad        36.0  64.0\n",
       "deuce     39.0  61.0"
      ]
     },
     "execution_count": 17,
     "metadata": {},
     "output_type": "execute_result"
    }
   ],
   "source": [
    "hide_me\n",
    "df_serves = df_to_check[[\"Direction\",\"Hit Zone\",\"Winner_Point\",\"Spin\"]]#[df_to_check[\"Hit Zone\"]==\"deuce\"]\n",
    "pivot=pd.pivot_table(df_serves, index=[\"Hit Zone\"], columns=[\"Winner_Point\"],aggfunc='count')\n",
    "#df_serves_deuce.groupby(\"Winner_Point\")[\"Winner_Point\",\"Direction\"].count()\n",
    "print(pivot.head())\n",
    "lost=round(pivot[\"Spin\"][\"lost\"]*100/(pivot[\"Spin\"][\"lost\"]+pivot[\"Spin\"][\"won\"]))\n",
    "#print(lost)\n",
    "won=round(pivot[\"Spin\"][\"won\"]*100/(pivot[\"Spin\"][\"lost\"]+pivot[\"Spin\"][\"won\"]))\n",
    "#print(won)\n",
    "df_serves=pd.concat([won, lost], axis=1)\n",
    "df_serves.columns=[\"won\",\"lost\"]\n",
    "df_serves.head()"
   ]
  },
  {
   "cell_type": "code",
   "execution_count": 18,
   "id": "2e47b199",
   "metadata": {},
   "outputs": [
    {
     "data": {
      "text/html": [
       "<div>\n",
       "<style scoped>\n",
       "    .dataframe tbody tr th:only-of-type {\n",
       "        vertical-align: middle;\n",
       "    }\n",
       "\n",
       "    .dataframe tbody tr th {\n",
       "        vertical-align: top;\n",
       "    }\n",
       "\n",
       "    .dataframe thead th {\n",
       "        text-align: right;\n",
       "    }\n",
       "</style>\n",
       "<table border=\"1\" class=\"dataframe\">\n",
       "  <thead>\n",
       "    <tr style=\"text-align: right;\">\n",
       "      <th></th>\n",
       "      <th></th>\n",
       "      <th>won</th>\n",
       "      <th>lost</th>\n",
       "    </tr>\n",
       "    <tr>\n",
       "      <th>Hit Zone</th>\n",
       "      <th>Direction</th>\n",
       "      <th></th>\n",
       "      <th></th>\n",
       "    </tr>\n",
       "  </thead>\n",
       "  <tbody>\n",
       "    <tr>\n",
       "      <th rowspan=\"2\" valign=\"top\">ad</th>\n",
       "      <th>down the T</th>\n",
       "      <td>38.0</td>\n",
       "      <td>62.0</td>\n",
       "    </tr>\n",
       "    <tr>\n",
       "      <th>out wide</th>\n",
       "      <td>36.0</td>\n",
       "      <td>64.0</td>\n",
       "    </tr>\n",
       "    <tr>\n",
       "      <th rowspan=\"2\" valign=\"top\">deuce</th>\n",
       "      <th>down the T</th>\n",
       "      <td>42.0</td>\n",
       "      <td>58.0</td>\n",
       "    </tr>\n",
       "    <tr>\n",
       "      <th>out wide</th>\n",
       "      <td>31.0</td>\n",
       "      <td>69.0</td>\n",
       "    </tr>\n",
       "  </tbody>\n",
       "</table>\n",
       "</div>"
      ],
      "text/plain": [
       "                      won  lost\n",
       "Hit Zone Direction             \n",
       "ad       down the T  38.0  62.0\n",
       "         out wide    36.0  64.0\n",
       "deuce    down the T  42.0  58.0\n",
       "         out wide    31.0  69.0"
      ]
     },
     "execution_count": 18,
     "metadata": {},
     "output_type": "execute_result"
    }
   ],
   "source": [
    "hide_me\n",
    "df_serves = df_to_check[[\"Direction\",\"Hit Zone\",\"Winner_Point\",\"Spin\"]]#[df_to_check[\"Hit Zone\"]==\"deuce\"]\n",
    "pivot=pd.pivot_table(df_serves, index=[\"Hit Zone\",\"Direction\"], columns=[\"Winner_Point\"],aggfunc='count')\n",
    "#df_serves_deuce.groupby(\"Winner_Point\")[\"Winner_Point\",\"Direction\"].count()\n",
    "lost=round(pivot[\"Spin\"][\"lost\"]*100/(pivot[\"Spin\"][\"lost\"]+pivot[\"Spin\"][\"won\"]))\n",
    "#print(lost)\n",
    "won=round(pivot[\"Spin\"][\"won\"]*100/(pivot[\"Spin\"][\"lost\"]+pivot[\"Spin\"][\"won\"]))\n",
    "#print(won)\n",
    "df_serves=pd.concat([won, lost], axis=1)\n",
    "df_serves.columns=[\"won\",\"lost\"]\n",
    "df_serves.head()"
   ]
  },
  {
   "cell_type": "code",
   "execution_count": 19,
   "id": "43a49a7a",
   "metadata": {
    "scrolled": false
   },
   "outputs": [
    {
     "data": {
      "application/vnd.plotly.v1+json": {
       "config": {
        "plotlyServerURL": "https://plot.ly"
       },
       "data": [
        {
         "line": {
          "color": "white"
         },
         "mode": "lines",
         "type": "scatter",
         "x": [
          -5.48,
          -5.48,
          5.48,
          5.48
         ],
         "y": [
          0,
          23.73,
          23.73,
          0
         ]
        },
        {
         "line": {
          "color": "white"
         },
         "mode": "lines",
         "type": "scatter",
         "x": [
          -4.11,
          -4.11,
          4.11,
          4.11
         ],
         "y": [
          0,
          23.73,
          23.73,
          0
         ]
        },
        {
         "line": {
          "color": "white"
         },
         "mode": "lines",
         "type": "scatter",
         "x": [
          -4.11,
          -4.11,
          4.11,
          4.11
         ],
         "y": [
          0,
          11.88,
          11.88,
          0
         ]
        },
        {
         "line": {
          "color": "white"
         },
         "mode": "lines",
         "type": "scatter",
         "x": [
          -4.11,
          -4.11,
          4.11,
          4.11
         ],
         "y": [
          0,
          5.48,
          5.48,
          0
         ]
        },
        {
         "line": {
          "color": "white"
         },
         "mode": "lines",
         "type": "scatter",
         "x": [
          -4.11,
          -4.11,
          4.11,
          4.11
         ],
         "y": [
          0,
          12.08,
          12.08,
          0
         ]
        },
        {
         "line": {
          "color": "white"
         },
         "mode": "lines",
         "type": "scatter",
         "x": [
          -4.11,
          -4.11,
          4.11,
          4.11
         ],
         "y": [
          0,
          18.48,
          18.48,
          0
         ]
        },
        {
         "contours": {
          "coloring": "none"
         },
         "hovertemplate": "Hit (x)=%{x}<br>Hit (y)=%{y}<br>count=%{z}<extra></extra>",
         "legendgroup": "",
         "line": {
          "color": "#636efa"
         },
         "name": "",
         "nbinsx": 6,
         "nbinsy": 6,
         "showlegend": false,
         "type": "histogram2dcontour",
         "x": [
          -0.674418,
          2.342778,
          -0.983059,
          0.533415,
          -1.130125,
          3.855814,
          -3.405324,
          0.491233,
          2.258734,
          0.962279,
          -2.281308,
          -0.472501,
          0.634474,
          -3.909675,
          -3.387611,
          -1.2518,
          0.298964,
          -0.581076,
          1.749767,
          -0.306816,
          0.707732,
          0.196458,
          -2.111772,
          2.991407,
          -0.803517,
          -0.027756,
          0.053706,
          0.505736,
          -0.270006,
          0.233191,
          -1.390901,
          0.000318,
          -2.027506,
          -0.505548,
          -2.590676,
          -1.430251,
          -0.648901,
          0.065562,
          2.836711,
          -1.037725,
          3.20421,
          0.558032,
          -1.358867,
          -0.099442,
          -0.474358,
          -1.300762,
          -0.909494,
          -1,
          -2.399193,
          -0.566666667,
          0.447296,
          1.199283,
          -0.949549,
          0.194135,
          2.643915,
          3.276294,
          4.308726,
          -1.048188,
          1.289688,
          -1.021257,
          2.112228,
          -1.209712,
          -2.584859,
          2.129744,
          -2.786871,
          0.96902,
          4.873705,
          0.165157
         ],
         "xaxis": "x",
         "xbingroup": "x",
         "y": [
          -0.013305,
          0.831471,
          0.275035,
          0.509677,
          0.122904,
          -0.25817,
          -0.01878,
          5.091979,
          -0.062238,
          -0.211752,
          1.245665,
          0.282913,
          0.034957,
          -0.47369,
          -1.139783,
          0.202397,
          0.566247,
          -0.418297,
          3.422635,
          0.043374,
          2.826523,
          5.872119,
          0.193976,
          -0.488228,
          0.006539,
          1.064275,
          -0.509978,
          0.688683,
          0.639001,
          0.162064,
          -0.136479,
          0.650533,
          0.685668,
          1.189782,
          0.69211,
          0.363507,
          0.246153,
          0.144159,
          3.53975,
          0.325314,
          -0.109621,
          0.754648,
          -1.6235980000000012,
          -1.601386999999999,
          -1.4407479999999993,
          -0.4685680000000012,
          -0.1647999999999996,
          -1.1400000000000006,
          -0.5526939999999989,
          0.6600000000000001,
          -0.2799580000000006,
          -0.9610710000000005,
          -0.5624819999999993,
          5.332122999999999,
          -0.7248400000000004,
          -1.3770290000000003,
          -1.5930530000000012,
          -1.3170979999999979,
          -1.0063870000000001,
          -1.1642930000000007,
          -0.89649,
          -2.0847739999999995,
          -1.0939769999999989,
          0.32487199999999916,
          -0.15765499999999832,
          -1.4251719999999999,
          -2.5035409999999985,
          1.929117999999999
         ],
         "yaxis": "y",
         "ybingroup": "y"
        },
        {
         "customdata": [
          [
           120.514259,
           "1"
          ],
          [
           85.205666,
           "1"
          ],
          [
           100.287956,
           "1"
          ],
          [
           96.919159,
           "1"
          ],
          [
           30.662121,
           "1"
          ],
          [
           87.014381,
           "1"
          ],
          [
           71.458107,
           "1"
          ],
          [
           86.265938,
           "1"
          ],
          [
           90.962761,
           "1"
          ],
          [
           68.084602,
           "1"
          ],
          [
           59.405151,
           "1"
          ],
          [
           52.239952,
           "1"
          ],
          [
           101.640282,
           "1"
          ],
          [
           83.614464,
           "1"
          ],
          [
           91.025345,
           "1"
          ],
          [
           81.016502,
           "1"
          ],
          [
           80.569115,
           "1"
          ],
          [
           73.379448,
           "1"
          ],
          [
           121.711143,
           "1"
          ],
          [
           54.019962,
           "1"
          ],
          [
           90.169418,
           "1"
          ],
          [
           89.314499,
           "1"
          ],
          [
           77.291489,
           "1"
          ],
          [
           84.247383,
           "1"
          ],
          [
           64.797531,
           "1"
          ],
          [
           75.473129,
           "1"
          ],
          [
           null,
           "1"
          ],
          [
           94.530067,
           "1"
          ],
          [
           115.781219,
           "1"
          ],
          [
           101.096817,
           "1"
          ],
          [
           67.767151,
           "1"
          ],
          [
           76.793213,
           "1"
          ],
          [
           108.933151,
           "1"
          ],
          [
           122.545731,
           "1"
          ]
         ],
         "hovertemplate": "Winner_Point=%{customdata[1]}<br>Hit (x)=%{x}<br>Hit (y)=%{y}<br>Speed (KM/H)=%{customdata[0]}<extra></extra>",
         "legendgroup": "1",
         "marker": {
          "color": "#00cc96",
          "symbol": "circle"
         },
         "mode": "markers",
         "name": "1",
         "orientation": "v",
         "showlegend": true,
         "type": "scatter",
         "x": [
          -0.674418,
          -0.983059,
          0.533415,
          -1.130125,
          0.491233,
          0.962279,
          -2.281308,
          -0.472501,
          0.634474,
          -3.909675,
          -1.2518,
          -2.111772,
          2.991407,
          -0.027756,
          0.053706,
          -0.270006,
          0.000318,
          -2.027506,
          -0.505548,
          -2.590676,
          -1.430251,
          -0.648901,
          3.20421,
          0.558032,
          -1.358867,
          -0.909494,
          -1,
          -2.399193,
          0.194135,
          1.289688,
          -1.021257,
          2.112228,
          -1.209712,
          0.96902
         ],
         "xaxis": "x",
         "y": [
          -0.013305,
          0.275035,
          0.509677,
          0.122904,
          5.091979,
          -0.211752,
          1.245665,
          0.282913,
          0.034957,
          -0.47369,
          0.202397,
          0.193976,
          -0.488228,
          1.064275,
          -0.509978,
          0.639001,
          0.650533,
          0.685668,
          1.189782,
          0.69211,
          0.363507,
          0.246153,
          -0.109621,
          0.754648,
          -1.6235980000000012,
          -0.1647999999999996,
          -1.1400000000000006,
          -0.5526939999999989,
          5.332122999999999,
          -1.0063870000000001,
          -1.1642930000000007,
          -0.89649,
          -2.0847739999999995,
          -1.4251719999999999
         ],
         "yaxis": "y"
        },
        {
         "customdata": [
          [
           77.21286,
           "2"
          ],
          [
           106.503769,
           "2"
          ],
          [
           80.854759,
           "2"
          ],
          [
           91.986244,
           "2"
          ],
          [
           72.454666,
           "2"
          ],
          [
           92.110268,
           "2"
          ],
          [
           82.973419,
           "2"
          ],
          [
           89.15744,
           "2"
          ],
          [
           93.199921,
           "2"
          ],
          [
           84.39032,
           "2"
          ],
          [
           72.225868,
           "2"
          ],
          [
           85.677635,
           "2"
          ],
          [
           106.865097,
           "2"
          ],
          [
           102.859428,
           "2"
          ],
          [
           77.267578,
           "2"
          ],
          [
           81.050453,
           "2"
          ],
          [
           119.100906,
           "2"
          ],
          [
           99.644402,
           "2"
          ],
          [
           108.106529,
           "2"
          ],
          [
           101.999512,
           "2"
          ],
          [
           116.628853,
           "2"
          ],
          [
           117.396713,
           "2"
          ],
          [
           95.949615,
           "2"
          ],
          [
           122.90451,
           "2"
          ],
          [
           94.649712,
           "2"
          ],
          [
           107.963333,
           "2"
          ],
          [
           122.92408,
           "2"
          ],
          [
           78.457787,
           "2"
          ],
          [
           91.757278,
           "2"
          ],
          [
           82.221428,
           "2"
          ],
          [
           130.453384,
           "2"
          ],
          [
           95.844696,
           "2"
          ],
          [
           71.782753,
           "2"
          ],
          [
           120.41851,
           "2"
          ]
         ],
         "hovertemplate": "Winner_Point=%{customdata[1]}<br>Hit (x)=%{x}<br>Hit (y)=%{y}<br>Speed (KM/H)=%{customdata[0]}<extra></extra>",
         "legendgroup": "2",
         "marker": {
          "color": "#ab63fa",
          "symbol": "circle"
         },
         "mode": "markers",
         "name": "2",
         "orientation": "v",
         "showlegend": true,
         "type": "scatter",
         "x": [
          2.342778,
          3.855814,
          -3.405324,
          2.258734,
          -3.387611,
          0.298964,
          -0.581076,
          1.749767,
          -0.306816,
          0.707732,
          0.196458,
          -0.803517,
          0.505736,
          0.233191,
          -1.390901,
          0.065562,
          2.836711,
          -1.037725,
          -0.099442,
          -0.474358,
          -1.300762,
          -0.566666667,
          0.447296,
          1.199283,
          -0.949549,
          2.643915,
          3.276294,
          4.308726,
          -1.048188,
          -2.584859,
          2.129744,
          -2.786871,
          4.873705,
          0.165157
         ],
         "xaxis": "x",
         "y": [
          0.831471,
          -0.25817,
          -0.01878,
          -0.062238,
          -1.139783,
          0.566247,
          -0.418297,
          3.422635,
          0.043374,
          2.826523,
          5.872119,
          0.006539,
          0.688683,
          0.162064,
          -0.136479,
          0.144159,
          3.53975,
          0.325314,
          -1.601386999999999,
          -1.4407479999999993,
          -0.4685680000000012,
          0.6600000000000001,
          -0.2799580000000006,
          -0.9610710000000005,
          -0.5624819999999993,
          -0.7248400000000004,
          -1.3770290000000003,
          -1.5930530000000012,
          -1.3170979999999979,
          -1.0939769999999989,
          0.32487199999999916,
          -0.15765499999999832,
          -2.5035409999999985,
          1.929117999999999
         ],
         "yaxis": "y"
        }
       ],
       "layout": {
        "template": {
         "data": {
          "bar": [
           {
            "error_x": {
             "color": "#2a3f5f"
            },
            "error_y": {
             "color": "#2a3f5f"
            },
            "marker": {
             "line": {
              "color": "#E5ECF6",
              "width": 0.5
             },
             "pattern": {
              "fillmode": "overlay",
              "size": 10,
              "solidity": 0.2
             }
            },
            "type": "bar"
           }
          ],
          "barpolar": [
           {
            "marker": {
             "line": {
              "color": "#E5ECF6",
              "width": 0.5
             },
             "pattern": {
              "fillmode": "overlay",
              "size": 10,
              "solidity": 0.2
             }
            },
            "type": "barpolar"
           }
          ],
          "carpet": [
           {
            "aaxis": {
             "endlinecolor": "#2a3f5f",
             "gridcolor": "white",
             "linecolor": "white",
             "minorgridcolor": "white",
             "startlinecolor": "#2a3f5f"
            },
            "baxis": {
             "endlinecolor": "#2a3f5f",
             "gridcolor": "white",
             "linecolor": "white",
             "minorgridcolor": "white",
             "startlinecolor": "#2a3f5f"
            },
            "type": "carpet"
           }
          ],
          "choropleth": [
           {
            "colorbar": {
             "outlinewidth": 0,
             "ticks": ""
            },
            "type": "choropleth"
           }
          ],
          "contour": [
           {
            "colorbar": {
             "outlinewidth": 0,
             "ticks": ""
            },
            "colorscale": [
             [
              0,
              "#0d0887"
             ],
             [
              0.1111111111111111,
              "#46039f"
             ],
             [
              0.2222222222222222,
              "#7201a8"
             ],
             [
              0.3333333333333333,
              "#9c179e"
             ],
             [
              0.4444444444444444,
              "#bd3786"
             ],
             [
              0.5555555555555556,
              "#d8576b"
             ],
             [
              0.6666666666666666,
              "#ed7953"
             ],
             [
              0.7777777777777778,
              "#fb9f3a"
             ],
             [
              0.8888888888888888,
              "#fdca26"
             ],
             [
              1,
              "#f0f921"
             ]
            ],
            "type": "contour"
           }
          ],
          "contourcarpet": [
           {
            "colorbar": {
             "outlinewidth": 0,
             "ticks": ""
            },
            "type": "contourcarpet"
           }
          ],
          "heatmap": [
           {
            "colorbar": {
             "outlinewidth": 0,
             "ticks": ""
            },
            "colorscale": [
             [
              0,
              "#0d0887"
             ],
             [
              0.1111111111111111,
              "#46039f"
             ],
             [
              0.2222222222222222,
              "#7201a8"
             ],
             [
              0.3333333333333333,
              "#9c179e"
             ],
             [
              0.4444444444444444,
              "#bd3786"
             ],
             [
              0.5555555555555556,
              "#d8576b"
             ],
             [
              0.6666666666666666,
              "#ed7953"
             ],
             [
              0.7777777777777778,
              "#fb9f3a"
             ],
             [
              0.8888888888888888,
              "#fdca26"
             ],
             [
              1,
              "#f0f921"
             ]
            ],
            "type": "heatmap"
           }
          ],
          "heatmapgl": [
           {
            "colorbar": {
             "outlinewidth": 0,
             "ticks": ""
            },
            "colorscale": [
             [
              0,
              "#0d0887"
             ],
             [
              0.1111111111111111,
              "#46039f"
             ],
             [
              0.2222222222222222,
              "#7201a8"
             ],
             [
              0.3333333333333333,
              "#9c179e"
             ],
             [
              0.4444444444444444,
              "#bd3786"
             ],
             [
              0.5555555555555556,
              "#d8576b"
             ],
             [
              0.6666666666666666,
              "#ed7953"
             ],
             [
              0.7777777777777778,
              "#fb9f3a"
             ],
             [
              0.8888888888888888,
              "#fdca26"
             ],
             [
              1,
              "#f0f921"
             ]
            ],
            "type": "heatmapgl"
           }
          ],
          "histogram": [
           {
            "marker": {
             "pattern": {
              "fillmode": "overlay",
              "size": 10,
              "solidity": 0.2
             }
            },
            "type": "histogram"
           }
          ],
          "histogram2d": [
           {
            "colorbar": {
             "outlinewidth": 0,
             "ticks": ""
            },
            "colorscale": [
             [
              0,
              "#0d0887"
             ],
             [
              0.1111111111111111,
              "#46039f"
             ],
             [
              0.2222222222222222,
              "#7201a8"
             ],
             [
              0.3333333333333333,
              "#9c179e"
             ],
             [
              0.4444444444444444,
              "#bd3786"
             ],
             [
              0.5555555555555556,
              "#d8576b"
             ],
             [
              0.6666666666666666,
              "#ed7953"
             ],
             [
              0.7777777777777778,
              "#fb9f3a"
             ],
             [
              0.8888888888888888,
              "#fdca26"
             ],
             [
              1,
              "#f0f921"
             ]
            ],
            "type": "histogram2d"
           }
          ],
          "histogram2dcontour": [
           {
            "colorbar": {
             "outlinewidth": 0,
             "ticks": ""
            },
            "colorscale": [
             [
              0,
              "#0d0887"
             ],
             [
              0.1111111111111111,
              "#46039f"
             ],
             [
              0.2222222222222222,
              "#7201a8"
             ],
             [
              0.3333333333333333,
              "#9c179e"
             ],
             [
              0.4444444444444444,
              "#bd3786"
             ],
             [
              0.5555555555555556,
              "#d8576b"
             ],
             [
              0.6666666666666666,
              "#ed7953"
             ],
             [
              0.7777777777777778,
              "#fb9f3a"
             ],
             [
              0.8888888888888888,
              "#fdca26"
             ],
             [
              1,
              "#f0f921"
             ]
            ],
            "type": "histogram2dcontour"
           }
          ],
          "mesh3d": [
           {
            "colorbar": {
             "outlinewidth": 0,
             "ticks": ""
            },
            "type": "mesh3d"
           }
          ],
          "parcoords": [
           {
            "line": {
             "colorbar": {
              "outlinewidth": 0,
              "ticks": ""
             }
            },
            "type": "parcoords"
           }
          ],
          "pie": [
           {
            "automargin": true,
            "type": "pie"
           }
          ],
          "scatter": [
           {
            "marker": {
             "colorbar": {
              "outlinewidth": 0,
              "ticks": ""
             }
            },
            "type": "scatter"
           }
          ],
          "scatter3d": [
           {
            "line": {
             "colorbar": {
              "outlinewidth": 0,
              "ticks": ""
             }
            },
            "marker": {
             "colorbar": {
              "outlinewidth": 0,
              "ticks": ""
             }
            },
            "type": "scatter3d"
           }
          ],
          "scattercarpet": [
           {
            "marker": {
             "colorbar": {
              "outlinewidth": 0,
              "ticks": ""
             }
            },
            "type": "scattercarpet"
           }
          ],
          "scattergeo": [
           {
            "marker": {
             "colorbar": {
              "outlinewidth": 0,
              "ticks": ""
             }
            },
            "type": "scattergeo"
           }
          ],
          "scattergl": [
           {
            "marker": {
             "colorbar": {
              "outlinewidth": 0,
              "ticks": ""
             }
            },
            "type": "scattergl"
           }
          ],
          "scattermapbox": [
           {
            "marker": {
             "colorbar": {
              "outlinewidth": 0,
              "ticks": ""
             }
            },
            "type": "scattermapbox"
           }
          ],
          "scatterpolar": [
           {
            "marker": {
             "colorbar": {
              "outlinewidth": 0,
              "ticks": ""
             }
            },
            "type": "scatterpolar"
           }
          ],
          "scatterpolargl": [
           {
            "marker": {
             "colorbar": {
              "outlinewidth": 0,
              "ticks": ""
             }
            },
            "type": "scatterpolargl"
           }
          ],
          "scatterternary": [
           {
            "marker": {
             "colorbar": {
              "outlinewidth": 0,
              "ticks": ""
             }
            },
            "type": "scatterternary"
           }
          ],
          "surface": [
           {
            "colorbar": {
             "outlinewidth": 0,
             "ticks": ""
            },
            "colorscale": [
             [
              0,
              "#0d0887"
             ],
             [
              0.1111111111111111,
              "#46039f"
             ],
             [
              0.2222222222222222,
              "#7201a8"
             ],
             [
              0.3333333333333333,
              "#9c179e"
             ],
             [
              0.4444444444444444,
              "#bd3786"
             ],
             [
              0.5555555555555556,
              "#d8576b"
             ],
             [
              0.6666666666666666,
              "#ed7953"
             ],
             [
              0.7777777777777778,
              "#fb9f3a"
             ],
             [
              0.8888888888888888,
              "#fdca26"
             ],
             [
              1,
              "#f0f921"
             ]
            ],
            "type": "surface"
           }
          ],
          "table": [
           {
            "cells": {
             "fill": {
              "color": "#EBF0F8"
             },
             "line": {
              "color": "white"
             }
            },
            "header": {
             "fill": {
              "color": "#C8D4E3"
             },
             "line": {
              "color": "white"
             }
            },
            "type": "table"
           }
          ]
         },
         "layout": {
          "annotationdefaults": {
           "arrowcolor": "#2a3f5f",
           "arrowhead": 0,
           "arrowwidth": 1
          },
          "autotypenumbers": "strict",
          "coloraxis": {
           "colorbar": {
            "outlinewidth": 0,
            "ticks": ""
           }
          },
          "colorscale": {
           "diverging": [
            [
             0,
             "#8e0152"
            ],
            [
             0.1,
             "#c51b7d"
            ],
            [
             0.2,
             "#de77ae"
            ],
            [
             0.3,
             "#f1b6da"
            ],
            [
             0.4,
             "#fde0ef"
            ],
            [
             0.5,
             "#f7f7f7"
            ],
            [
             0.6,
             "#e6f5d0"
            ],
            [
             0.7,
             "#b8e186"
            ],
            [
             0.8,
             "#7fbc41"
            ],
            [
             0.9,
             "#4d9221"
            ],
            [
             1,
             "#276419"
            ]
           ],
           "sequential": [
            [
             0,
             "#0d0887"
            ],
            [
             0.1111111111111111,
             "#46039f"
            ],
            [
             0.2222222222222222,
             "#7201a8"
            ],
            [
             0.3333333333333333,
             "#9c179e"
            ],
            [
             0.4444444444444444,
             "#bd3786"
            ],
            [
             0.5555555555555556,
             "#d8576b"
            ],
            [
             0.6666666666666666,
             "#ed7953"
            ],
            [
             0.7777777777777778,
             "#fb9f3a"
            ],
            [
             0.8888888888888888,
             "#fdca26"
            ],
            [
             1,
             "#f0f921"
            ]
           ],
           "sequentialminus": [
            [
             0,
             "#0d0887"
            ],
            [
             0.1111111111111111,
             "#46039f"
            ],
            [
             0.2222222222222222,
             "#7201a8"
            ],
            [
             0.3333333333333333,
             "#9c179e"
            ],
            [
             0.4444444444444444,
             "#bd3786"
            ],
            [
             0.5555555555555556,
             "#d8576b"
            ],
            [
             0.6666666666666666,
             "#ed7953"
            ],
            [
             0.7777777777777778,
             "#fb9f3a"
            ],
            [
             0.8888888888888888,
             "#fdca26"
            ],
            [
             1,
             "#f0f921"
            ]
           ]
          },
          "colorway": [
           "#636efa",
           "#EF553B",
           "#00cc96",
           "#ab63fa",
           "#FFA15A",
           "#19d3f3",
           "#FF6692",
           "#B6E880",
           "#FF97FF",
           "#FECB52"
          ],
          "font": {
           "color": "#2a3f5f"
          },
          "geo": {
           "bgcolor": "white",
           "lakecolor": "white",
           "landcolor": "#E5ECF6",
           "showlakes": true,
           "showland": true,
           "subunitcolor": "white"
          },
          "hoverlabel": {
           "align": "left"
          },
          "hovermode": "closest",
          "mapbox": {
           "style": "light"
          },
          "paper_bgcolor": "white",
          "plot_bgcolor": "#E5ECF6",
          "polar": {
           "angularaxis": {
            "gridcolor": "white",
            "linecolor": "white",
            "ticks": ""
           },
           "bgcolor": "#E5ECF6",
           "radialaxis": {
            "gridcolor": "white",
            "linecolor": "white",
            "ticks": ""
           }
          },
          "scene": {
           "xaxis": {
            "backgroundcolor": "#E5ECF6",
            "gridcolor": "white",
            "gridwidth": 2,
            "linecolor": "white",
            "showbackground": true,
            "ticks": "",
            "zerolinecolor": "white"
           },
           "yaxis": {
            "backgroundcolor": "#E5ECF6",
            "gridcolor": "white",
            "gridwidth": 2,
            "linecolor": "white",
            "showbackground": true,
            "ticks": "",
            "zerolinecolor": "white"
           },
           "zaxis": {
            "backgroundcolor": "#E5ECF6",
            "gridcolor": "white",
            "gridwidth": 2,
            "linecolor": "white",
            "showbackground": true,
            "ticks": "",
            "zerolinecolor": "white"
           }
          },
          "shapedefaults": {
           "line": {
            "color": "#2a3f5f"
           }
          },
          "ternary": {
           "aaxis": {
            "gridcolor": "white",
            "linecolor": "white",
            "ticks": ""
           },
           "baxis": {
            "gridcolor": "white",
            "linecolor": "white",
            "ticks": ""
           },
           "bgcolor": "#E5ECF6",
           "caxis": {
            "gridcolor": "white",
            "linecolor": "white",
            "ticks": ""
           }
          },
          "title": {
           "x": 0.05
          },
          "xaxis": {
           "automargin": true,
           "gridcolor": "white",
           "linecolor": "white",
           "ticks": "",
           "title": {
            "standoff": 15
           },
           "zerolinecolor": "white",
           "zerolinewidth": 2
          },
          "yaxis": {
           "automargin": true,
           "gridcolor": "white",
           "linecolor": "white",
           "ticks": "",
           "title": {
            "standoff": 15
           },
           "zerolinecolor": "white",
           "zerolinewidth": 2
          }
         }
        },
        "title": {
         "text": "Hitting positions (2nd shot) for Pospisil On Serve"
        },
        "xaxis": {
         "range": [
          -5,
          5
         ],
         "scaleanchor": "y",
         "scaleratio": 2,
         "showgrid": false
        },
        "yaxis": {
         "range": [
          -6,
          16.76
         ],
         "showgrid": false
        }
       }
      },
      "text/html": [
       "<div>                            <div id=\"5e0b7d8d-0947-45e4-acb6-a3b20adbeb28\" class=\"plotly-graph-div\" style=\"height:525px; width:100%;\"></div>            <script type=\"text/javascript\">                require([\"plotly\"], function(Plotly) {                    window.PLOTLYENV=window.PLOTLYENV || {};                                    if (document.getElementById(\"5e0b7d8d-0947-45e4-acb6-a3b20adbeb28\")) {                    Plotly.newPlot(                        \"5e0b7d8d-0947-45e4-acb6-a3b20adbeb28\",                        [{\"line\":{\"color\":\"white\"},\"mode\":\"lines\",\"x\":[-5.48,-5.48,5.48,5.48],\"y\":[0,23.73,23.73,0],\"type\":\"scatter\"},{\"line\":{\"color\":\"white\"},\"mode\":\"lines\",\"x\":[-4.11,-4.11,4.11,4.11],\"y\":[0,23.73,23.73,0],\"type\":\"scatter\"},{\"line\":{\"color\":\"white\"},\"mode\":\"lines\",\"x\":[-4.11,-4.11,4.11,4.11],\"y\":[0,11.88,11.88,0],\"type\":\"scatter\"},{\"line\":{\"color\":\"white\"},\"mode\":\"lines\",\"x\":[-4.11,-4.11,4.11,4.11],\"y\":[0,5.48,5.48,0],\"type\":\"scatter\"},{\"line\":{\"color\":\"white\"},\"mode\":\"lines\",\"x\":[-4.11,-4.11,4.11,4.11],\"y\":[0,12.08,12.08,0],\"type\":\"scatter\"},{\"line\":{\"color\":\"white\"},\"mode\":\"lines\",\"x\":[-4.11,-4.11,4.11,4.11],\"y\":[0,18.48,18.48,0],\"type\":\"scatter\"},{\"contours\":{\"coloring\":\"none\"},\"hovertemplate\":\"Hit (x)=%{x}<br>Hit (y)=%{y}<br>count=%{z}<extra></extra>\",\"legendgroup\":\"\",\"line\":{\"color\":\"#636efa\"},\"name\":\"\",\"nbinsx\":6,\"nbinsy\":6,\"showlegend\":false,\"x\":[-0.674418,2.342778,-0.983059,0.533415,-1.130125,3.855814,-3.405324,0.491233,2.258734,0.962279,-2.281308,-0.472501,0.634474,-3.909675,-3.387611,-1.2518,0.298964,-0.581076,1.749767,-0.306816,0.707732,0.196458,-2.111772,2.991407,-0.803517,-0.027756,0.053706,0.505736,-0.270006,0.233191,-1.390901,0.000318,-2.027506,-0.505548,-2.590676,-1.430251,-0.648901,0.065562,2.836711,-1.037725,3.20421,0.558032,-1.358867,-0.099442,-0.474358,-1.300762,-0.909494,-1.0,-2.399193,-0.566666667,0.447296,1.199283,-0.949549,0.194135,2.643915,3.276294,4.308726,-1.048188,1.289688,-1.021257,2.112228,-1.209712,-2.584859,2.129744,-2.786871,0.96902,4.873705,0.165157],\"xaxis\":\"x\",\"xbingroup\":\"x\",\"y\":[-0.013305,0.831471,0.275035,0.509677,0.122904,-0.25817,-0.01878,5.091979,-0.062238,-0.211752,1.245665,0.282913,0.034957,-0.47369,-1.139783,0.202397,0.566247,-0.418297,3.422635,0.043374,2.826523,5.872119,0.193976,-0.488228,0.006539,1.064275,-0.509978,0.688683,0.639001,0.162064,-0.136479,0.650533,0.685668,1.189782,0.69211,0.363507,0.246153,0.144159,3.53975,0.325314,-0.109621,0.754648,-1.6235980000000012,-1.601386999999999,-1.4407479999999993,-0.4685680000000012,-0.1647999999999996,-1.1400000000000006,-0.5526939999999989,0.6600000000000001,-0.2799580000000006,-0.9610710000000005,-0.5624819999999993,5.332122999999999,-0.7248400000000004,-1.3770290000000003,-1.5930530000000012,-1.3170979999999979,-1.0063870000000001,-1.1642930000000007,-0.89649,-2.0847739999999995,-1.0939769999999989,0.32487199999999916,-0.15765499999999832,-1.4251719999999999,-2.5035409999999985,1.929117999999999],\"yaxis\":\"y\",\"ybingroup\":\"y\",\"type\":\"histogram2dcontour\"},{\"customdata\":[[120.514259,\"1\"],[85.205666,\"1\"],[100.287956,\"1\"],[96.919159,\"1\"],[30.662121,\"1\"],[87.014381,\"1\"],[71.458107,\"1\"],[86.265938,\"1\"],[90.962761,\"1\"],[68.084602,\"1\"],[59.405151,\"1\"],[52.239952,\"1\"],[101.640282,\"1\"],[83.614464,\"1\"],[91.025345,\"1\"],[81.016502,\"1\"],[80.569115,\"1\"],[73.379448,\"1\"],[121.711143,\"1\"],[54.019962,\"1\"],[90.169418,\"1\"],[89.314499,\"1\"],[77.291489,\"1\"],[84.247383,\"1\"],[64.797531,\"1\"],[75.473129,\"1\"],[null,\"1\"],[94.530067,\"1\"],[115.781219,\"1\"],[101.096817,\"1\"],[67.767151,\"1\"],[76.793213,\"1\"],[108.933151,\"1\"],[122.545731,\"1\"]],\"hovertemplate\":\"Winner_Point=%{customdata[1]}<br>Hit (x)=%{x}<br>Hit (y)=%{y}<br>Speed (KM/H)=%{customdata[0]}<extra></extra>\",\"legendgroup\":\"1\",\"marker\":{\"color\":\"#00cc96\",\"symbol\":\"circle\"},\"mode\":\"markers\",\"name\":\"1\",\"orientation\":\"v\",\"showlegend\":true,\"x\":[-0.674418,-0.983059,0.533415,-1.130125,0.491233,0.962279,-2.281308,-0.472501,0.634474,-3.909675,-1.2518,-2.111772,2.991407,-0.027756,0.053706,-0.270006,0.000318,-2.027506,-0.505548,-2.590676,-1.430251,-0.648901,3.20421,0.558032,-1.358867,-0.909494,-1.0,-2.399193,0.194135,1.289688,-1.021257,2.112228,-1.209712,0.96902],\"xaxis\":\"x\",\"y\":[-0.013305,0.275035,0.509677,0.122904,5.091979,-0.211752,1.245665,0.282913,0.034957,-0.47369,0.202397,0.193976,-0.488228,1.064275,-0.509978,0.639001,0.650533,0.685668,1.189782,0.69211,0.363507,0.246153,-0.109621,0.754648,-1.6235980000000012,-0.1647999999999996,-1.1400000000000006,-0.5526939999999989,5.332122999999999,-1.0063870000000001,-1.1642930000000007,-0.89649,-2.0847739999999995,-1.4251719999999999],\"yaxis\":\"y\",\"type\":\"scatter\"},{\"customdata\":[[77.21286,\"2\"],[106.503769,\"2\"],[80.854759,\"2\"],[91.986244,\"2\"],[72.454666,\"2\"],[92.110268,\"2\"],[82.973419,\"2\"],[89.15744,\"2\"],[93.199921,\"2\"],[84.39032,\"2\"],[72.225868,\"2\"],[85.677635,\"2\"],[106.865097,\"2\"],[102.859428,\"2\"],[77.267578,\"2\"],[81.050453,\"2\"],[119.100906,\"2\"],[99.644402,\"2\"],[108.106529,\"2\"],[101.999512,\"2\"],[116.628853,\"2\"],[117.396713,\"2\"],[95.949615,\"2\"],[122.90451,\"2\"],[94.649712,\"2\"],[107.963333,\"2\"],[122.92408,\"2\"],[78.457787,\"2\"],[91.757278,\"2\"],[82.221428,\"2\"],[130.453384,\"2\"],[95.844696,\"2\"],[71.782753,\"2\"],[120.41851,\"2\"]],\"hovertemplate\":\"Winner_Point=%{customdata[1]}<br>Hit (x)=%{x}<br>Hit (y)=%{y}<br>Speed (KM/H)=%{customdata[0]}<extra></extra>\",\"legendgroup\":\"2\",\"marker\":{\"color\":\"#ab63fa\",\"symbol\":\"circle\"},\"mode\":\"markers\",\"name\":\"2\",\"orientation\":\"v\",\"showlegend\":true,\"x\":[2.342778,3.855814,-3.405324,2.258734,-3.387611,0.298964,-0.581076,1.749767,-0.306816,0.707732,0.196458,-0.803517,0.505736,0.233191,-1.390901,0.065562,2.836711,-1.037725,-0.099442,-0.474358,-1.300762,-0.566666667,0.447296,1.199283,-0.949549,2.643915,3.276294,4.308726,-1.048188,-2.584859,2.129744,-2.786871,4.873705,0.165157],\"xaxis\":\"x\",\"y\":[0.831471,-0.25817,-0.01878,-0.062238,-1.139783,0.566247,-0.418297,3.422635,0.043374,2.826523,5.872119,0.006539,0.688683,0.162064,-0.136479,0.144159,3.53975,0.325314,-1.601386999999999,-1.4407479999999993,-0.4685680000000012,0.6600000000000001,-0.2799580000000006,-0.9610710000000005,-0.5624819999999993,-0.7248400000000004,-1.3770290000000003,-1.5930530000000012,-1.3170979999999979,-1.0939769999999989,0.32487199999999916,-0.15765499999999832,-2.5035409999999985,1.929117999999999],\"yaxis\":\"y\",\"type\":\"scatter\"}],                        {\"template\":{\"data\":{\"bar\":[{\"error_x\":{\"color\":\"#2a3f5f\"},\"error_y\":{\"color\":\"#2a3f5f\"},\"marker\":{\"line\":{\"color\":\"#E5ECF6\",\"width\":0.5},\"pattern\":{\"fillmode\":\"overlay\",\"size\":10,\"solidity\":0.2}},\"type\":\"bar\"}],\"barpolar\":[{\"marker\":{\"line\":{\"color\":\"#E5ECF6\",\"width\":0.5},\"pattern\":{\"fillmode\":\"overlay\",\"size\":10,\"solidity\":0.2}},\"type\":\"barpolar\"}],\"carpet\":[{\"aaxis\":{\"endlinecolor\":\"#2a3f5f\",\"gridcolor\":\"white\",\"linecolor\":\"white\",\"minorgridcolor\":\"white\",\"startlinecolor\":\"#2a3f5f\"},\"baxis\":{\"endlinecolor\":\"#2a3f5f\",\"gridcolor\":\"white\",\"linecolor\":\"white\",\"minorgridcolor\":\"white\",\"startlinecolor\":\"#2a3f5f\"},\"type\":\"carpet\"}],\"choropleth\":[{\"colorbar\":{\"outlinewidth\":0,\"ticks\":\"\"},\"type\":\"choropleth\"}],\"contour\":[{\"colorbar\":{\"outlinewidth\":0,\"ticks\":\"\"},\"colorscale\":[[0.0,\"#0d0887\"],[0.1111111111111111,\"#46039f\"],[0.2222222222222222,\"#7201a8\"],[0.3333333333333333,\"#9c179e\"],[0.4444444444444444,\"#bd3786\"],[0.5555555555555556,\"#d8576b\"],[0.6666666666666666,\"#ed7953\"],[0.7777777777777778,\"#fb9f3a\"],[0.8888888888888888,\"#fdca26\"],[1.0,\"#f0f921\"]],\"type\":\"contour\"}],\"contourcarpet\":[{\"colorbar\":{\"outlinewidth\":0,\"ticks\":\"\"},\"type\":\"contourcarpet\"}],\"heatmap\":[{\"colorbar\":{\"outlinewidth\":0,\"ticks\":\"\"},\"colorscale\":[[0.0,\"#0d0887\"],[0.1111111111111111,\"#46039f\"],[0.2222222222222222,\"#7201a8\"],[0.3333333333333333,\"#9c179e\"],[0.4444444444444444,\"#bd3786\"],[0.5555555555555556,\"#d8576b\"],[0.6666666666666666,\"#ed7953\"],[0.7777777777777778,\"#fb9f3a\"],[0.8888888888888888,\"#fdca26\"],[1.0,\"#f0f921\"]],\"type\":\"heatmap\"}],\"heatmapgl\":[{\"colorbar\":{\"outlinewidth\":0,\"ticks\":\"\"},\"colorscale\":[[0.0,\"#0d0887\"],[0.1111111111111111,\"#46039f\"],[0.2222222222222222,\"#7201a8\"],[0.3333333333333333,\"#9c179e\"],[0.4444444444444444,\"#bd3786\"],[0.5555555555555556,\"#d8576b\"],[0.6666666666666666,\"#ed7953\"],[0.7777777777777778,\"#fb9f3a\"],[0.8888888888888888,\"#fdca26\"],[1.0,\"#f0f921\"]],\"type\":\"heatmapgl\"}],\"histogram\":[{\"marker\":{\"pattern\":{\"fillmode\":\"overlay\",\"size\":10,\"solidity\":0.2}},\"type\":\"histogram\"}],\"histogram2d\":[{\"colorbar\":{\"outlinewidth\":0,\"ticks\":\"\"},\"colorscale\":[[0.0,\"#0d0887\"],[0.1111111111111111,\"#46039f\"],[0.2222222222222222,\"#7201a8\"],[0.3333333333333333,\"#9c179e\"],[0.4444444444444444,\"#bd3786\"],[0.5555555555555556,\"#d8576b\"],[0.6666666666666666,\"#ed7953\"],[0.7777777777777778,\"#fb9f3a\"],[0.8888888888888888,\"#fdca26\"],[1.0,\"#f0f921\"]],\"type\":\"histogram2d\"}],\"histogram2dcontour\":[{\"colorbar\":{\"outlinewidth\":0,\"ticks\":\"\"},\"colorscale\":[[0.0,\"#0d0887\"],[0.1111111111111111,\"#46039f\"],[0.2222222222222222,\"#7201a8\"],[0.3333333333333333,\"#9c179e\"],[0.4444444444444444,\"#bd3786\"],[0.5555555555555556,\"#d8576b\"],[0.6666666666666666,\"#ed7953\"],[0.7777777777777778,\"#fb9f3a\"],[0.8888888888888888,\"#fdca26\"],[1.0,\"#f0f921\"]],\"type\":\"histogram2dcontour\"}],\"mesh3d\":[{\"colorbar\":{\"outlinewidth\":0,\"ticks\":\"\"},\"type\":\"mesh3d\"}],\"parcoords\":[{\"line\":{\"colorbar\":{\"outlinewidth\":0,\"ticks\":\"\"}},\"type\":\"parcoords\"}],\"pie\":[{\"automargin\":true,\"type\":\"pie\"}],\"scatter\":[{\"marker\":{\"colorbar\":{\"outlinewidth\":0,\"ticks\":\"\"}},\"type\":\"scatter\"}],\"scatter3d\":[{\"line\":{\"colorbar\":{\"outlinewidth\":0,\"ticks\":\"\"}},\"marker\":{\"colorbar\":{\"outlinewidth\":0,\"ticks\":\"\"}},\"type\":\"scatter3d\"}],\"scattercarpet\":[{\"marker\":{\"colorbar\":{\"outlinewidth\":0,\"ticks\":\"\"}},\"type\":\"scattercarpet\"}],\"scattergeo\":[{\"marker\":{\"colorbar\":{\"outlinewidth\":0,\"ticks\":\"\"}},\"type\":\"scattergeo\"}],\"scattergl\":[{\"marker\":{\"colorbar\":{\"outlinewidth\":0,\"ticks\":\"\"}},\"type\":\"scattergl\"}],\"scattermapbox\":[{\"marker\":{\"colorbar\":{\"outlinewidth\":0,\"ticks\":\"\"}},\"type\":\"scattermapbox\"}],\"scatterpolar\":[{\"marker\":{\"colorbar\":{\"outlinewidth\":0,\"ticks\":\"\"}},\"type\":\"scatterpolar\"}],\"scatterpolargl\":[{\"marker\":{\"colorbar\":{\"outlinewidth\":0,\"ticks\":\"\"}},\"type\":\"scatterpolargl\"}],\"scatterternary\":[{\"marker\":{\"colorbar\":{\"outlinewidth\":0,\"ticks\":\"\"}},\"type\":\"scatterternary\"}],\"surface\":[{\"colorbar\":{\"outlinewidth\":0,\"ticks\":\"\"},\"colorscale\":[[0.0,\"#0d0887\"],[0.1111111111111111,\"#46039f\"],[0.2222222222222222,\"#7201a8\"],[0.3333333333333333,\"#9c179e\"],[0.4444444444444444,\"#bd3786\"],[0.5555555555555556,\"#d8576b\"],[0.6666666666666666,\"#ed7953\"],[0.7777777777777778,\"#fb9f3a\"],[0.8888888888888888,\"#fdca26\"],[1.0,\"#f0f921\"]],\"type\":\"surface\"}],\"table\":[{\"cells\":{\"fill\":{\"color\":\"#EBF0F8\"},\"line\":{\"color\":\"white\"}},\"header\":{\"fill\":{\"color\":\"#C8D4E3\"},\"line\":{\"color\":\"white\"}},\"type\":\"table\"}]},\"layout\":{\"annotationdefaults\":{\"arrowcolor\":\"#2a3f5f\",\"arrowhead\":0,\"arrowwidth\":1},\"autotypenumbers\":\"strict\",\"coloraxis\":{\"colorbar\":{\"outlinewidth\":0,\"ticks\":\"\"}},\"colorscale\":{\"diverging\":[[0,\"#8e0152\"],[0.1,\"#c51b7d\"],[0.2,\"#de77ae\"],[0.3,\"#f1b6da\"],[0.4,\"#fde0ef\"],[0.5,\"#f7f7f7\"],[0.6,\"#e6f5d0\"],[0.7,\"#b8e186\"],[0.8,\"#7fbc41\"],[0.9,\"#4d9221\"],[1,\"#276419\"]],\"sequential\":[[0.0,\"#0d0887\"],[0.1111111111111111,\"#46039f\"],[0.2222222222222222,\"#7201a8\"],[0.3333333333333333,\"#9c179e\"],[0.4444444444444444,\"#bd3786\"],[0.5555555555555556,\"#d8576b\"],[0.6666666666666666,\"#ed7953\"],[0.7777777777777778,\"#fb9f3a\"],[0.8888888888888888,\"#fdca26\"],[1.0,\"#f0f921\"]],\"sequentialminus\":[[0.0,\"#0d0887\"],[0.1111111111111111,\"#46039f\"],[0.2222222222222222,\"#7201a8\"],[0.3333333333333333,\"#9c179e\"],[0.4444444444444444,\"#bd3786\"],[0.5555555555555556,\"#d8576b\"],[0.6666666666666666,\"#ed7953\"],[0.7777777777777778,\"#fb9f3a\"],[0.8888888888888888,\"#fdca26\"],[1.0,\"#f0f921\"]]},\"colorway\":[\"#636efa\",\"#EF553B\",\"#00cc96\",\"#ab63fa\",\"#FFA15A\",\"#19d3f3\",\"#FF6692\",\"#B6E880\",\"#FF97FF\",\"#FECB52\"],\"font\":{\"color\":\"#2a3f5f\"},\"geo\":{\"bgcolor\":\"white\",\"lakecolor\":\"white\",\"landcolor\":\"#E5ECF6\",\"showlakes\":true,\"showland\":true,\"subunitcolor\":\"white\"},\"hoverlabel\":{\"align\":\"left\"},\"hovermode\":\"closest\",\"mapbox\":{\"style\":\"light\"},\"paper_bgcolor\":\"white\",\"plot_bgcolor\":\"#E5ECF6\",\"polar\":{\"angularaxis\":{\"gridcolor\":\"white\",\"linecolor\":\"white\",\"ticks\":\"\"},\"bgcolor\":\"#E5ECF6\",\"radialaxis\":{\"gridcolor\":\"white\",\"linecolor\":\"white\",\"ticks\":\"\"}},\"scene\":{\"xaxis\":{\"backgroundcolor\":\"#E5ECF6\",\"gridcolor\":\"white\",\"gridwidth\":2,\"linecolor\":\"white\",\"showbackground\":true,\"ticks\":\"\",\"zerolinecolor\":\"white\"},\"yaxis\":{\"backgroundcolor\":\"#E5ECF6\",\"gridcolor\":\"white\",\"gridwidth\":2,\"linecolor\":\"white\",\"showbackground\":true,\"ticks\":\"\",\"zerolinecolor\":\"white\"},\"zaxis\":{\"backgroundcolor\":\"#E5ECF6\",\"gridcolor\":\"white\",\"gridwidth\":2,\"linecolor\":\"white\",\"showbackground\":true,\"ticks\":\"\",\"zerolinecolor\":\"white\"}},\"shapedefaults\":{\"line\":{\"color\":\"#2a3f5f\"}},\"ternary\":{\"aaxis\":{\"gridcolor\":\"white\",\"linecolor\":\"white\",\"ticks\":\"\"},\"baxis\":{\"gridcolor\":\"white\",\"linecolor\":\"white\",\"ticks\":\"\"},\"bgcolor\":\"#E5ECF6\",\"caxis\":{\"gridcolor\":\"white\",\"linecolor\":\"white\",\"ticks\":\"\"}},\"title\":{\"x\":0.05},\"xaxis\":{\"automargin\":true,\"gridcolor\":\"white\",\"linecolor\":\"white\",\"ticks\":\"\",\"title\":{\"standoff\":15},\"zerolinecolor\":\"white\",\"zerolinewidth\":2},\"yaxis\":{\"automargin\":true,\"gridcolor\":\"white\",\"linecolor\":\"white\",\"ticks\":\"\",\"title\":{\"standoff\":15},\"zerolinecolor\":\"white\",\"zerolinewidth\":2}}},\"title\":{\"text\":\"Hitting positions (2nd shot) for Pospisil On Serve\"},\"xaxis\":{\"scaleanchor\":\"y\",\"scaleratio\":2,\"range\":[-5,5],\"showgrid\":false},\"yaxis\":{\"range\":[-6,16.76],\"showgrid\":false}},                        {\"responsive\": true}                    ).then(function(){\n",
       "                            \n",
       "var gd = document.getElementById('5e0b7d8d-0947-45e4-acb6-a3b20adbeb28');\n",
       "var x = new MutationObserver(function (mutations, observer) {{\n",
       "        var display = window.getComputedStyle(gd).display;\n",
       "        if (!display || display === 'none') {{\n",
       "            console.log([gd, 'removed!']);\n",
       "            Plotly.purge(gd);\n",
       "            observer.disconnect();\n",
       "        }}\n",
       "}});\n",
       "\n",
       "// Listen for the removal of the full notebook cells\n",
       "var notebookContainer = gd.closest('#notebook-container');\n",
       "if (notebookContainer) {{\n",
       "    x.observe(notebookContainer, {childList: true});\n",
       "}}\n",
       "\n",
       "// Listen for the clearing of the current output cell\n",
       "var outputEl = gd.closest('.output');\n",
       "if (outputEl) {{\n",
       "    x.observe(outputEl, {childList: true});\n",
       "}}\n",
       "\n",
       "                        })                };                });            </script>        </div>"
      ]
     },
     "metadata": {},
     "output_type": "display_data"
    }
   ],
   "source": [
    "\n",
    "def transform_hit_far_to_near(df):\n",
    "    df[\"Hit (x)\"]=df.apply(lambda x: -(x[\"Hit (x)\"]), axis=1)\n",
    "    df[\"Hit (y)\"]=df.apply(lambda x: 23.73-(x[\"Hit (y)\"]), axis=1)\n",
    "    return df\n",
    "\n",
    "def trace_hitting_pos(player, name, is_on_serve, shot_ix):\n",
    "    serve_index=is_on_serve\n",
    "    serve_str=\"On Serve\" if is_on_serve else \"On Return\"\n",
    "    dfPlayerHits_near=df[(df[\"Player\"]==player) & (df[\"Hit Side\"]==\"near\") & (df[\"Shot\"]%2==serve_index)]\n",
    "    dfPlayerHits_far=df[(df[\"Player\"]==player) & (df[\"Hit Side\"]==\"far\") & (df[\"Shot\"]%2==serve_index)]\n",
    "    dfPlayerHits_far = transform_hit_far_to_near(dfPlayerHits_far)\n",
    "    dfPlayerHits = pd.concat([dfPlayerHits_near, dfPlayerHits_far], axis=0)\n",
    "    dfPlayerHits=dfPlayerHits[dfPlayerHits[\"Shot\"]==shot_ix]\n",
    "    fig3=px.scatter(dfPlayerHits,x=\"Hit (x)\",y=\"Hit (y)\",color=\"Winner_Point\"\n",
    "                    , color_discrete_map={\"won\":\"green\",\"lost\":\"black\"}\n",
    "                    , hover_data=[\"Speed (KM/H)\",\"Winner_Point\"]\n",
    "                       )\n",
    "\n",
    "\n",
    "    fig1 = trace_court()\n",
    "    fig2 = px.density_contour(dfPlayerHits, x=\"Hit (x)\", y=\"Hit (y)\", \n",
    "                             nbinsx=6, nbinsy=6)\n",
    "\n",
    "    fig=go.Figure(data=fig1.data + fig2.data + fig3.data)\n",
    "\n",
    "    fig.update_layout(title=\"Hitting positions (2nd shot) for \" + name + \" \" + serve_str)\n",
    "    fig.update_xaxes(\n",
    "        scaleanchor = \"y\",\n",
    "        scaleratio = 2,\n",
    "      )\n",
    "    fig.update_layout(xaxis_range=[-5,5], yaxis_range=[-6,11.88*2-7])\n",
    "    fig.update_layout(\n",
    "         xaxis=dict(showgrid=False), \n",
    "         yaxis=dict(showgrid=False)\n",
    "    )\n",
    "    fig.show()\n",
    "    \n",
    "trace_hitting_pos(\"Opponent\", name1, True,3)"
   ]
  },
  {
   "cell_type": "code",
   "execution_count": 20,
   "id": "dd61ab3a",
   "metadata": {},
   "outputs": [
    {
     "data": {
      "application/vnd.plotly.v1+json": {
       "config": {
        "plotlyServerURL": "https://plot.ly"
       },
       "data": [
        {
         "line": {
          "color": "white"
         },
         "mode": "lines",
         "type": "scatter",
         "x": [
          -5.48,
          -5.48,
          5.48,
          5.48
         ],
         "y": [
          0,
          23.73,
          23.73,
          0
         ]
        },
        {
         "line": {
          "color": "white"
         },
         "mode": "lines",
         "type": "scatter",
         "x": [
          -4.11,
          -4.11,
          4.11,
          4.11
         ],
         "y": [
          0,
          23.73,
          23.73,
          0
         ]
        },
        {
         "line": {
          "color": "white"
         },
         "mode": "lines",
         "type": "scatter",
         "x": [
          -4.11,
          -4.11,
          4.11,
          4.11
         ],
         "y": [
          0,
          11.88,
          11.88,
          0
         ]
        },
        {
         "line": {
          "color": "white"
         },
         "mode": "lines",
         "type": "scatter",
         "x": [
          -4.11,
          -4.11,
          4.11,
          4.11
         ],
         "y": [
          0,
          5.48,
          5.48,
          0
         ]
        },
        {
         "line": {
          "color": "white"
         },
         "mode": "lines",
         "type": "scatter",
         "x": [
          -4.11,
          -4.11,
          4.11,
          4.11
         ],
         "y": [
          0,
          12.08,
          12.08,
          0
         ]
        },
        {
         "line": {
          "color": "white"
         },
         "mode": "lines",
         "type": "scatter",
         "x": [
          -4.11,
          -4.11,
          4.11,
          4.11
         ],
         "y": [
          0,
          18.48,
          18.48,
          0
         ]
        },
        {
         "contours": {
          "coloring": "none"
         },
         "hovertemplate": "Hit (x)=%{x}<br>Hit (y)=%{y}<br>count=%{z}<extra></extra>",
         "legendgroup": "",
         "line": {
          "color": "#636efa"
         },
         "name": "",
         "nbinsx": 6,
         "nbinsy": 6,
         "showlegend": false,
         "type": "histogram2dcontour",
         "x": [
          3.405089,
          2.651616,
          -3.528963,
          -1.402052,
          -3.261946,
          -2.502925,
          -3.916364,
          3.662172,
          0.617904,
          1.958531,
          3.078381,
          -2.827089,
          2.972745,
          3.306978,
          0.433745,
          -2.220199,
          -2.867887,
          -1.819889,
          -3.614,
          -4.612084,
          -4.529147,
          -0.771841,
          -3.679617,
          -2.910961,
          -3.022586,
          -3.208529,
          -3.913856,
          -2.74333,
          -2.059501,
          3.746895,
          -2.583469,
          -3.057503,
          -3.240819,
          3.029377,
          -3.232229,
          -2.598502,
          -2.859591,
          1.189089,
          -2.694001,
          1.282187,
          -3.414733,
          3.575305,
          -1.861925,
          -0.743051,
          -3.740704,
          -3.954295,
          0.88862,
          2.900964,
          -1.495505,
          -3.210992
         ],
         "xaxis": "x",
         "xbingroup": "x",
         "y": [
          -0.944056,
          -0.364502,
          -0.201229,
          -0.648381,
          -1.023511,
          -0.191927,
          -0.774669,
          -1.565671,
          0.127556,
          1.615546,
          -1.300311,
          -1.5926,
          -0.833639,
          -1.131841,
          0.326144,
          0.399417,
          -1.780815,
          -0.6252,
          0.367518,
          1.148866,
          -0.884361,
          0.5985,
          -0.697162,
          -0.14844300000000032,
          -1.93947,
          -1.899201999999999,
          -1.1362009999999998,
          -2.453588,
          -1.3436179999999993,
          -0.4244209999999988,
          -0.3808720000000001,
          -1.0189869999999992,
          -1.6156569999999988,
          -1.1006999999999998,
          -1.3414399999999986,
          -1.8081110000000002,
          -1.9196999999999989,
          -0.9582529999999991,
          -2.0013940000000012,
          -0.9488160000000008,
          -2.009242999999998,
          -2.183212000000001,
          -2.3228769999999983,
          -1.5249109999999995,
          -1.5720109999999998,
          -2.2097620000000013,
          -1.587260999999998,
          -1.1620880000000007,
          -1.3791060000000002,
          -1.0227429999999984
         ],
         "yaxis": "y",
         "ybingroup": "y"
        },
        {
         "customdata": [
          [
           44.010815,
           "2"
          ],
          [
           114.510849,
           "2"
          ],
          [
           58.510414,
           "2"
          ],
          [
           50.891689,
           "2"
          ],
          [
           97.112473,
           "2"
          ],
          [
           56.032978,
           "2"
          ],
          [
           100.262436,
           "2"
          ],
          [
           76.249451,
           "2"
          ],
          [
           82.63858,
           "2"
          ],
          [
           67.348473,
           "2"
          ],
          [
           81.118553,
           "2"
          ],
          [
           52.65398,
           "2"
          ],
          [
           62.926521,
           "2"
          ],
          [
           78.243675,
           "2"
          ],
          [
           80.363235,
           "2"
          ],
          [
           75.026657,
           "2"
          ],
          [
           104.52829,
           "2"
          ],
          [
           84.438766,
           "2"
          ],
          [
           86.179657,
           "2"
          ],
          [
           103.037651,
           "2"
          ],
          [
           107.344002,
           "2"
          ],
          [
           99.316261,
           "2"
          ],
          [
           105.564514,
           "2"
          ],
          [
           75.271919,
           "2"
          ],
          [
           61.173656,
           "2"
          ],
          [
           50.228252,
           "2"
          ],
          [
           98.696945,
           "2"
          ],
          [
           61.594387,
           "2"
          ]
         ],
         "hovertemplate": "Winner_Point=%{customdata[1]}<br>Hit (x)=%{x}<br>Hit (y)=%{y}<br>Speed (KM/H)=%{customdata[0]}<extra></extra>",
         "legendgroup": "2",
         "marker": {
          "color": "#00cc96",
          "symbol": "circle"
         },
         "mode": "markers",
         "name": "2",
         "orientation": "v",
         "showlegend": true,
         "type": "scatter",
         "x": [
          3.405089,
          2.651616,
          -3.528963,
          -2.502925,
          -3.916364,
          3.662172,
          0.617904,
          1.958531,
          3.078381,
          -2.827089,
          2.972745,
          -1.819889,
          -3.614,
          -4.612084,
          -0.771841,
          -3.679617,
          -3.022586,
          -2.74333,
          -2.059501,
          -2.583469,
          -3.232229,
          -2.598502,
          -2.859591,
          1.189089,
          -2.694001,
          3.575305,
          -1.861925,
          2.900964
         ],
         "xaxis": "x",
         "y": [
          -0.944056,
          -0.364502,
          -0.201229,
          -0.191927,
          -0.774669,
          -1.565671,
          0.127556,
          1.615546,
          -1.300311,
          -1.5926,
          -0.833639,
          -0.6252,
          0.367518,
          1.148866,
          0.5985,
          -0.697162,
          -1.93947,
          -2.453588,
          -1.3436179999999993,
          -0.3808720000000001,
          -1.3414399999999986,
          -1.8081110000000002,
          -1.9196999999999989,
          -0.9582529999999991,
          -2.0013940000000012,
          -2.183212000000001,
          -2.3228769999999983,
          -1.1620880000000007
         ],
         "yaxis": "y"
        },
        {
         "customdata": [
          [
           72.063347,
           "1"
          ],
          [
           89.828743,
           "1"
          ],
          [
           99.99205,
           "1"
          ],
          [
           101.565132,
           "1"
          ],
          [
           80.58371,
           "1"
          ],
          [
           72.031609,
           "1"
          ],
          [
           54.479652,
           "1"
          ],
          [
           73.998878,
           "1"
          ],
          [
           115.525398,
           "1"
          ],
          [
           84.314781,
           "1"
          ],
          [
           121.33844,
           "1"
          ],
          [
           99.723221,
           "1"
          ],
          [
           90.615829,
           "1"
          ],
          [
           105.111687,
           "1"
          ],
          [
           111.530174,
           "1"
          ],
          [
           106.404999,
           "1"
          ],
          [
           86.8209,
           "1"
          ],
          [
           72.773949,
           "1"
          ],
          [
           78.488785,
           "1"
          ],
          [
           108.673271,
           "1"
          ],
          [
           92.536499,
           "1"
          ],
          [
           88.921425,
           "1"
          ]
         ],
         "hovertemplate": "Winner_Point=%{customdata[1]}<br>Hit (x)=%{x}<br>Hit (y)=%{y}<br>Speed (KM/H)=%{customdata[0]}<extra></extra>",
         "legendgroup": "1",
         "marker": {
          "color": "#ab63fa",
          "symbol": "circle"
         },
         "mode": "markers",
         "name": "1",
         "orientation": "v",
         "showlegend": true,
         "type": "scatter",
         "x": [
          -1.402052,
          -3.261946,
          3.306978,
          0.433745,
          -2.220199,
          -2.867887,
          -4.529147,
          -2.910961,
          -3.208529,
          -3.913856,
          3.746895,
          -3.057503,
          -3.240819,
          3.029377,
          1.282187,
          -3.414733,
          -0.743051,
          -3.740704,
          -3.954295,
          0.88862,
          -1.495505,
          -3.210992
         ],
         "xaxis": "x",
         "y": [
          -0.648381,
          -1.023511,
          -1.131841,
          0.326144,
          0.399417,
          -1.780815,
          -0.884361,
          -0.14844300000000032,
          -1.899201999999999,
          -1.1362009999999998,
          -0.4244209999999988,
          -1.0189869999999992,
          -1.6156569999999988,
          -1.1006999999999998,
          -0.9488160000000008,
          -2.009242999999998,
          -1.5249109999999995,
          -1.5720109999999998,
          -2.2097620000000013,
          -1.587260999999998,
          -1.3791060000000002,
          -1.0227429999999984
         ],
         "yaxis": "y"
        }
       ],
       "layout": {
        "template": {
         "data": {
          "bar": [
           {
            "error_x": {
             "color": "#2a3f5f"
            },
            "error_y": {
             "color": "#2a3f5f"
            },
            "marker": {
             "line": {
              "color": "#E5ECF6",
              "width": 0.5
             },
             "pattern": {
              "fillmode": "overlay",
              "size": 10,
              "solidity": 0.2
             }
            },
            "type": "bar"
           }
          ],
          "barpolar": [
           {
            "marker": {
             "line": {
              "color": "#E5ECF6",
              "width": 0.5
             },
             "pattern": {
              "fillmode": "overlay",
              "size": 10,
              "solidity": 0.2
             }
            },
            "type": "barpolar"
           }
          ],
          "carpet": [
           {
            "aaxis": {
             "endlinecolor": "#2a3f5f",
             "gridcolor": "white",
             "linecolor": "white",
             "minorgridcolor": "white",
             "startlinecolor": "#2a3f5f"
            },
            "baxis": {
             "endlinecolor": "#2a3f5f",
             "gridcolor": "white",
             "linecolor": "white",
             "minorgridcolor": "white",
             "startlinecolor": "#2a3f5f"
            },
            "type": "carpet"
           }
          ],
          "choropleth": [
           {
            "colorbar": {
             "outlinewidth": 0,
             "ticks": ""
            },
            "type": "choropleth"
           }
          ],
          "contour": [
           {
            "colorbar": {
             "outlinewidth": 0,
             "ticks": ""
            },
            "colorscale": [
             [
              0,
              "#0d0887"
             ],
             [
              0.1111111111111111,
              "#46039f"
             ],
             [
              0.2222222222222222,
              "#7201a8"
             ],
             [
              0.3333333333333333,
              "#9c179e"
             ],
             [
              0.4444444444444444,
              "#bd3786"
             ],
             [
              0.5555555555555556,
              "#d8576b"
             ],
             [
              0.6666666666666666,
              "#ed7953"
             ],
             [
              0.7777777777777778,
              "#fb9f3a"
             ],
             [
              0.8888888888888888,
              "#fdca26"
             ],
             [
              1,
              "#f0f921"
             ]
            ],
            "type": "contour"
           }
          ],
          "contourcarpet": [
           {
            "colorbar": {
             "outlinewidth": 0,
             "ticks": ""
            },
            "type": "contourcarpet"
           }
          ],
          "heatmap": [
           {
            "colorbar": {
             "outlinewidth": 0,
             "ticks": ""
            },
            "colorscale": [
             [
              0,
              "#0d0887"
             ],
             [
              0.1111111111111111,
              "#46039f"
             ],
             [
              0.2222222222222222,
              "#7201a8"
             ],
             [
              0.3333333333333333,
              "#9c179e"
             ],
             [
              0.4444444444444444,
              "#bd3786"
             ],
             [
              0.5555555555555556,
              "#d8576b"
             ],
             [
              0.6666666666666666,
              "#ed7953"
             ],
             [
              0.7777777777777778,
              "#fb9f3a"
             ],
             [
              0.8888888888888888,
              "#fdca26"
             ],
             [
              1,
              "#f0f921"
             ]
            ],
            "type": "heatmap"
           }
          ],
          "heatmapgl": [
           {
            "colorbar": {
             "outlinewidth": 0,
             "ticks": ""
            },
            "colorscale": [
             [
              0,
              "#0d0887"
             ],
             [
              0.1111111111111111,
              "#46039f"
             ],
             [
              0.2222222222222222,
              "#7201a8"
             ],
             [
              0.3333333333333333,
              "#9c179e"
             ],
             [
              0.4444444444444444,
              "#bd3786"
             ],
             [
              0.5555555555555556,
              "#d8576b"
             ],
             [
              0.6666666666666666,
              "#ed7953"
             ],
             [
              0.7777777777777778,
              "#fb9f3a"
             ],
             [
              0.8888888888888888,
              "#fdca26"
             ],
             [
              1,
              "#f0f921"
             ]
            ],
            "type": "heatmapgl"
           }
          ],
          "histogram": [
           {
            "marker": {
             "pattern": {
              "fillmode": "overlay",
              "size": 10,
              "solidity": 0.2
             }
            },
            "type": "histogram"
           }
          ],
          "histogram2d": [
           {
            "colorbar": {
             "outlinewidth": 0,
             "ticks": ""
            },
            "colorscale": [
             [
              0,
              "#0d0887"
             ],
             [
              0.1111111111111111,
              "#46039f"
             ],
             [
              0.2222222222222222,
              "#7201a8"
             ],
             [
              0.3333333333333333,
              "#9c179e"
             ],
             [
              0.4444444444444444,
              "#bd3786"
             ],
             [
              0.5555555555555556,
              "#d8576b"
             ],
             [
              0.6666666666666666,
              "#ed7953"
             ],
             [
              0.7777777777777778,
              "#fb9f3a"
             ],
             [
              0.8888888888888888,
              "#fdca26"
             ],
             [
              1,
              "#f0f921"
             ]
            ],
            "type": "histogram2d"
           }
          ],
          "histogram2dcontour": [
           {
            "colorbar": {
             "outlinewidth": 0,
             "ticks": ""
            },
            "colorscale": [
             [
              0,
              "#0d0887"
             ],
             [
              0.1111111111111111,
              "#46039f"
             ],
             [
              0.2222222222222222,
              "#7201a8"
             ],
             [
              0.3333333333333333,
              "#9c179e"
             ],
             [
              0.4444444444444444,
              "#bd3786"
             ],
             [
              0.5555555555555556,
              "#d8576b"
             ],
             [
              0.6666666666666666,
              "#ed7953"
             ],
             [
              0.7777777777777778,
              "#fb9f3a"
             ],
             [
              0.8888888888888888,
              "#fdca26"
             ],
             [
              1,
              "#f0f921"
             ]
            ],
            "type": "histogram2dcontour"
           }
          ],
          "mesh3d": [
           {
            "colorbar": {
             "outlinewidth": 0,
             "ticks": ""
            },
            "type": "mesh3d"
           }
          ],
          "parcoords": [
           {
            "line": {
             "colorbar": {
              "outlinewidth": 0,
              "ticks": ""
             }
            },
            "type": "parcoords"
           }
          ],
          "pie": [
           {
            "automargin": true,
            "type": "pie"
           }
          ],
          "scatter": [
           {
            "marker": {
             "colorbar": {
              "outlinewidth": 0,
              "ticks": ""
             }
            },
            "type": "scatter"
           }
          ],
          "scatter3d": [
           {
            "line": {
             "colorbar": {
              "outlinewidth": 0,
              "ticks": ""
             }
            },
            "marker": {
             "colorbar": {
              "outlinewidth": 0,
              "ticks": ""
             }
            },
            "type": "scatter3d"
           }
          ],
          "scattercarpet": [
           {
            "marker": {
             "colorbar": {
              "outlinewidth": 0,
              "ticks": ""
             }
            },
            "type": "scattercarpet"
           }
          ],
          "scattergeo": [
           {
            "marker": {
             "colorbar": {
              "outlinewidth": 0,
              "ticks": ""
             }
            },
            "type": "scattergeo"
           }
          ],
          "scattergl": [
           {
            "marker": {
             "colorbar": {
              "outlinewidth": 0,
              "ticks": ""
             }
            },
            "type": "scattergl"
           }
          ],
          "scattermapbox": [
           {
            "marker": {
             "colorbar": {
              "outlinewidth": 0,
              "ticks": ""
             }
            },
            "type": "scattermapbox"
           }
          ],
          "scatterpolar": [
           {
            "marker": {
             "colorbar": {
              "outlinewidth": 0,
              "ticks": ""
             }
            },
            "type": "scatterpolar"
           }
          ],
          "scatterpolargl": [
           {
            "marker": {
             "colorbar": {
              "outlinewidth": 0,
              "ticks": ""
             }
            },
            "type": "scatterpolargl"
           }
          ],
          "scatterternary": [
           {
            "marker": {
             "colorbar": {
              "outlinewidth": 0,
              "ticks": ""
             }
            },
            "type": "scatterternary"
           }
          ],
          "surface": [
           {
            "colorbar": {
             "outlinewidth": 0,
             "ticks": ""
            },
            "colorscale": [
             [
              0,
              "#0d0887"
             ],
             [
              0.1111111111111111,
              "#46039f"
             ],
             [
              0.2222222222222222,
              "#7201a8"
             ],
             [
              0.3333333333333333,
              "#9c179e"
             ],
             [
              0.4444444444444444,
              "#bd3786"
             ],
             [
              0.5555555555555556,
              "#d8576b"
             ],
             [
              0.6666666666666666,
              "#ed7953"
             ],
             [
              0.7777777777777778,
              "#fb9f3a"
             ],
             [
              0.8888888888888888,
              "#fdca26"
             ],
             [
              1,
              "#f0f921"
             ]
            ],
            "type": "surface"
           }
          ],
          "table": [
           {
            "cells": {
             "fill": {
              "color": "#EBF0F8"
             },
             "line": {
              "color": "white"
             }
            },
            "header": {
             "fill": {
              "color": "#C8D4E3"
             },
             "line": {
              "color": "white"
             }
            },
            "type": "table"
           }
          ]
         },
         "layout": {
          "annotationdefaults": {
           "arrowcolor": "#2a3f5f",
           "arrowhead": 0,
           "arrowwidth": 1
          },
          "autotypenumbers": "strict",
          "coloraxis": {
           "colorbar": {
            "outlinewidth": 0,
            "ticks": ""
           }
          },
          "colorscale": {
           "diverging": [
            [
             0,
             "#8e0152"
            ],
            [
             0.1,
             "#c51b7d"
            ],
            [
             0.2,
             "#de77ae"
            ],
            [
             0.3,
             "#f1b6da"
            ],
            [
             0.4,
             "#fde0ef"
            ],
            [
             0.5,
             "#f7f7f7"
            ],
            [
             0.6,
             "#e6f5d0"
            ],
            [
             0.7,
             "#b8e186"
            ],
            [
             0.8,
             "#7fbc41"
            ],
            [
             0.9,
             "#4d9221"
            ],
            [
             1,
             "#276419"
            ]
           ],
           "sequential": [
            [
             0,
             "#0d0887"
            ],
            [
             0.1111111111111111,
             "#46039f"
            ],
            [
             0.2222222222222222,
             "#7201a8"
            ],
            [
             0.3333333333333333,
             "#9c179e"
            ],
            [
             0.4444444444444444,
             "#bd3786"
            ],
            [
             0.5555555555555556,
             "#d8576b"
            ],
            [
             0.6666666666666666,
             "#ed7953"
            ],
            [
             0.7777777777777778,
             "#fb9f3a"
            ],
            [
             0.8888888888888888,
             "#fdca26"
            ],
            [
             1,
             "#f0f921"
            ]
           ],
           "sequentialminus": [
            [
             0,
             "#0d0887"
            ],
            [
             0.1111111111111111,
             "#46039f"
            ],
            [
             0.2222222222222222,
             "#7201a8"
            ],
            [
             0.3333333333333333,
             "#9c179e"
            ],
            [
             0.4444444444444444,
             "#bd3786"
            ],
            [
             0.5555555555555556,
             "#d8576b"
            ],
            [
             0.6666666666666666,
             "#ed7953"
            ],
            [
             0.7777777777777778,
             "#fb9f3a"
            ],
            [
             0.8888888888888888,
             "#fdca26"
            ],
            [
             1,
             "#f0f921"
            ]
           ]
          },
          "colorway": [
           "#636efa",
           "#EF553B",
           "#00cc96",
           "#ab63fa",
           "#FFA15A",
           "#19d3f3",
           "#FF6692",
           "#B6E880",
           "#FF97FF",
           "#FECB52"
          ],
          "font": {
           "color": "#2a3f5f"
          },
          "geo": {
           "bgcolor": "white",
           "lakecolor": "white",
           "landcolor": "#E5ECF6",
           "showlakes": true,
           "showland": true,
           "subunitcolor": "white"
          },
          "hoverlabel": {
           "align": "left"
          },
          "hovermode": "closest",
          "mapbox": {
           "style": "light"
          },
          "paper_bgcolor": "white",
          "plot_bgcolor": "#E5ECF6",
          "polar": {
           "angularaxis": {
            "gridcolor": "white",
            "linecolor": "white",
            "ticks": ""
           },
           "bgcolor": "#E5ECF6",
           "radialaxis": {
            "gridcolor": "white",
            "linecolor": "white",
            "ticks": ""
           }
          },
          "scene": {
           "xaxis": {
            "backgroundcolor": "#E5ECF6",
            "gridcolor": "white",
            "gridwidth": 2,
            "linecolor": "white",
            "showbackground": true,
            "ticks": "",
            "zerolinecolor": "white"
           },
           "yaxis": {
            "backgroundcolor": "#E5ECF6",
            "gridcolor": "white",
            "gridwidth": 2,
            "linecolor": "white",
            "showbackground": true,
            "ticks": "",
            "zerolinecolor": "white"
           },
           "zaxis": {
            "backgroundcolor": "#E5ECF6",
            "gridcolor": "white",
            "gridwidth": 2,
            "linecolor": "white",
            "showbackground": true,
            "ticks": "",
            "zerolinecolor": "white"
           }
          },
          "shapedefaults": {
           "line": {
            "color": "#2a3f5f"
           }
          },
          "ternary": {
           "aaxis": {
            "gridcolor": "white",
            "linecolor": "white",
            "ticks": ""
           },
           "baxis": {
            "gridcolor": "white",
            "linecolor": "white",
            "ticks": ""
           },
           "bgcolor": "#E5ECF6",
           "caxis": {
            "gridcolor": "white",
            "linecolor": "white",
            "ticks": ""
           }
          },
          "title": {
           "x": 0.05
          },
          "xaxis": {
           "automargin": true,
           "gridcolor": "white",
           "linecolor": "white",
           "ticks": "",
           "title": {
            "standoff": 15
           },
           "zerolinecolor": "white",
           "zerolinewidth": 2
          },
          "yaxis": {
           "automargin": true,
           "gridcolor": "white",
           "linecolor": "white",
           "ticks": "",
           "title": {
            "standoff": 15
           },
           "zerolinecolor": "white",
           "zerolinewidth": 2
          }
         }
        },
        "title": {
         "text": "Hitting positions (2nd shot) for Pospisil On Return"
        },
        "xaxis": {
         "range": [
          -5,
          5
         ],
         "scaleanchor": "y",
         "scaleratio": 2,
         "showgrid": false
        },
        "yaxis": {
         "range": [
          -6,
          16.76
         ],
         "showgrid": false
        }
       }
      },
      "text/html": [
       "<div>                            <div id=\"0790fb18-3882-4b8a-a95d-c09d11d27652\" class=\"plotly-graph-div\" style=\"height:525px; width:100%;\"></div>            <script type=\"text/javascript\">                require([\"plotly\"], function(Plotly) {                    window.PLOTLYENV=window.PLOTLYENV || {};                                    if (document.getElementById(\"0790fb18-3882-4b8a-a95d-c09d11d27652\")) {                    Plotly.newPlot(                        \"0790fb18-3882-4b8a-a95d-c09d11d27652\",                        [{\"line\":{\"color\":\"white\"},\"mode\":\"lines\",\"x\":[-5.48,-5.48,5.48,5.48],\"y\":[0,23.73,23.73,0],\"type\":\"scatter\"},{\"line\":{\"color\":\"white\"},\"mode\":\"lines\",\"x\":[-4.11,-4.11,4.11,4.11],\"y\":[0,23.73,23.73,0],\"type\":\"scatter\"},{\"line\":{\"color\":\"white\"},\"mode\":\"lines\",\"x\":[-4.11,-4.11,4.11,4.11],\"y\":[0,11.88,11.88,0],\"type\":\"scatter\"},{\"line\":{\"color\":\"white\"},\"mode\":\"lines\",\"x\":[-4.11,-4.11,4.11,4.11],\"y\":[0,5.48,5.48,0],\"type\":\"scatter\"},{\"line\":{\"color\":\"white\"},\"mode\":\"lines\",\"x\":[-4.11,-4.11,4.11,4.11],\"y\":[0,12.08,12.08,0],\"type\":\"scatter\"},{\"line\":{\"color\":\"white\"},\"mode\":\"lines\",\"x\":[-4.11,-4.11,4.11,4.11],\"y\":[0,18.48,18.48,0],\"type\":\"scatter\"},{\"contours\":{\"coloring\":\"none\"},\"hovertemplate\":\"Hit (x)=%{x}<br>Hit (y)=%{y}<br>count=%{z}<extra></extra>\",\"legendgroup\":\"\",\"line\":{\"color\":\"#636efa\"},\"name\":\"\",\"nbinsx\":6,\"nbinsy\":6,\"showlegend\":false,\"x\":[3.405089,2.651616,-3.528963,-1.402052,-3.261946,-2.502925,-3.916364,3.662172,0.617904,1.958531,3.078381,-2.827089,2.972745,3.306978,0.433745,-2.220199,-2.867887,-1.819889,-3.614,-4.612084,-4.529147,-0.771841,-3.679617,-2.910961,-3.022586,-3.208529,-3.913856,-2.74333,-2.059501,3.746895,-2.583469,-3.057503,-3.240819,3.029377,-3.232229,-2.598502,-2.859591,1.189089,-2.694001,1.282187,-3.414733,3.575305,-1.861925,-0.743051,-3.740704,-3.954295,0.88862,2.900964,-1.495505,-3.210992],\"xaxis\":\"x\",\"xbingroup\":\"x\",\"y\":[-0.944056,-0.364502,-0.201229,-0.648381,-1.023511,-0.191927,-0.774669,-1.565671,0.127556,1.615546,-1.300311,-1.5926,-0.833639,-1.131841,0.326144,0.399417,-1.780815,-0.6252,0.367518,1.148866,-0.884361,0.5985,-0.697162,-0.14844300000000032,-1.93947,-1.899201999999999,-1.1362009999999998,-2.453588,-1.3436179999999993,-0.4244209999999988,-0.3808720000000001,-1.0189869999999992,-1.6156569999999988,-1.1006999999999998,-1.3414399999999986,-1.8081110000000002,-1.9196999999999989,-0.9582529999999991,-2.0013940000000012,-0.9488160000000008,-2.009242999999998,-2.183212000000001,-2.3228769999999983,-1.5249109999999995,-1.5720109999999998,-2.2097620000000013,-1.587260999999998,-1.1620880000000007,-1.3791060000000002,-1.0227429999999984],\"yaxis\":\"y\",\"ybingroup\":\"y\",\"type\":\"histogram2dcontour\"},{\"customdata\":[[44.010815,\"2\"],[114.510849,\"2\"],[58.510414,\"2\"],[50.891689,\"2\"],[97.112473,\"2\"],[56.032978,\"2\"],[100.262436,\"2\"],[76.249451,\"2\"],[82.63858,\"2\"],[67.348473,\"2\"],[81.118553,\"2\"],[52.65398,\"2\"],[62.926521,\"2\"],[78.243675,\"2\"],[80.363235,\"2\"],[75.026657,\"2\"],[104.52829,\"2\"],[84.438766,\"2\"],[86.179657,\"2\"],[103.037651,\"2\"],[107.344002,\"2\"],[99.316261,\"2\"],[105.564514,\"2\"],[75.271919,\"2\"],[61.173656,\"2\"],[50.228252,\"2\"],[98.696945,\"2\"],[61.594387,\"2\"]],\"hovertemplate\":\"Winner_Point=%{customdata[1]}<br>Hit (x)=%{x}<br>Hit (y)=%{y}<br>Speed (KM/H)=%{customdata[0]}<extra></extra>\",\"legendgroup\":\"2\",\"marker\":{\"color\":\"#00cc96\",\"symbol\":\"circle\"},\"mode\":\"markers\",\"name\":\"2\",\"orientation\":\"v\",\"showlegend\":true,\"x\":[3.405089,2.651616,-3.528963,-2.502925,-3.916364,3.662172,0.617904,1.958531,3.078381,-2.827089,2.972745,-1.819889,-3.614,-4.612084,-0.771841,-3.679617,-3.022586,-2.74333,-2.059501,-2.583469,-3.232229,-2.598502,-2.859591,1.189089,-2.694001,3.575305,-1.861925,2.900964],\"xaxis\":\"x\",\"y\":[-0.944056,-0.364502,-0.201229,-0.191927,-0.774669,-1.565671,0.127556,1.615546,-1.300311,-1.5926,-0.833639,-0.6252,0.367518,1.148866,0.5985,-0.697162,-1.93947,-2.453588,-1.3436179999999993,-0.3808720000000001,-1.3414399999999986,-1.8081110000000002,-1.9196999999999989,-0.9582529999999991,-2.0013940000000012,-2.183212000000001,-2.3228769999999983,-1.1620880000000007],\"yaxis\":\"y\",\"type\":\"scatter\"},{\"customdata\":[[72.063347,\"1\"],[89.828743,\"1\"],[99.99205,\"1\"],[101.565132,\"1\"],[80.58371,\"1\"],[72.031609,\"1\"],[54.479652,\"1\"],[73.998878,\"1\"],[115.525398,\"1\"],[84.314781,\"1\"],[121.33844,\"1\"],[99.723221,\"1\"],[90.615829,\"1\"],[105.111687,\"1\"],[111.530174,\"1\"],[106.404999,\"1\"],[86.8209,\"1\"],[72.773949,\"1\"],[78.488785,\"1\"],[108.673271,\"1\"],[92.536499,\"1\"],[88.921425,\"1\"]],\"hovertemplate\":\"Winner_Point=%{customdata[1]}<br>Hit (x)=%{x}<br>Hit (y)=%{y}<br>Speed (KM/H)=%{customdata[0]}<extra></extra>\",\"legendgroup\":\"1\",\"marker\":{\"color\":\"#ab63fa\",\"symbol\":\"circle\"},\"mode\":\"markers\",\"name\":\"1\",\"orientation\":\"v\",\"showlegend\":true,\"x\":[-1.402052,-3.261946,3.306978,0.433745,-2.220199,-2.867887,-4.529147,-2.910961,-3.208529,-3.913856,3.746895,-3.057503,-3.240819,3.029377,1.282187,-3.414733,-0.743051,-3.740704,-3.954295,0.88862,-1.495505,-3.210992],\"xaxis\":\"x\",\"y\":[-0.648381,-1.023511,-1.131841,0.326144,0.399417,-1.780815,-0.884361,-0.14844300000000032,-1.899201999999999,-1.1362009999999998,-0.4244209999999988,-1.0189869999999992,-1.6156569999999988,-1.1006999999999998,-0.9488160000000008,-2.009242999999998,-1.5249109999999995,-1.5720109999999998,-2.2097620000000013,-1.587260999999998,-1.3791060000000002,-1.0227429999999984],\"yaxis\":\"y\",\"type\":\"scatter\"}],                        {\"template\":{\"data\":{\"bar\":[{\"error_x\":{\"color\":\"#2a3f5f\"},\"error_y\":{\"color\":\"#2a3f5f\"},\"marker\":{\"line\":{\"color\":\"#E5ECF6\",\"width\":0.5},\"pattern\":{\"fillmode\":\"overlay\",\"size\":10,\"solidity\":0.2}},\"type\":\"bar\"}],\"barpolar\":[{\"marker\":{\"line\":{\"color\":\"#E5ECF6\",\"width\":0.5},\"pattern\":{\"fillmode\":\"overlay\",\"size\":10,\"solidity\":0.2}},\"type\":\"barpolar\"}],\"carpet\":[{\"aaxis\":{\"endlinecolor\":\"#2a3f5f\",\"gridcolor\":\"white\",\"linecolor\":\"white\",\"minorgridcolor\":\"white\",\"startlinecolor\":\"#2a3f5f\"},\"baxis\":{\"endlinecolor\":\"#2a3f5f\",\"gridcolor\":\"white\",\"linecolor\":\"white\",\"minorgridcolor\":\"white\",\"startlinecolor\":\"#2a3f5f\"},\"type\":\"carpet\"}],\"choropleth\":[{\"colorbar\":{\"outlinewidth\":0,\"ticks\":\"\"},\"type\":\"choropleth\"}],\"contour\":[{\"colorbar\":{\"outlinewidth\":0,\"ticks\":\"\"},\"colorscale\":[[0.0,\"#0d0887\"],[0.1111111111111111,\"#46039f\"],[0.2222222222222222,\"#7201a8\"],[0.3333333333333333,\"#9c179e\"],[0.4444444444444444,\"#bd3786\"],[0.5555555555555556,\"#d8576b\"],[0.6666666666666666,\"#ed7953\"],[0.7777777777777778,\"#fb9f3a\"],[0.8888888888888888,\"#fdca26\"],[1.0,\"#f0f921\"]],\"type\":\"contour\"}],\"contourcarpet\":[{\"colorbar\":{\"outlinewidth\":0,\"ticks\":\"\"},\"type\":\"contourcarpet\"}],\"heatmap\":[{\"colorbar\":{\"outlinewidth\":0,\"ticks\":\"\"},\"colorscale\":[[0.0,\"#0d0887\"],[0.1111111111111111,\"#46039f\"],[0.2222222222222222,\"#7201a8\"],[0.3333333333333333,\"#9c179e\"],[0.4444444444444444,\"#bd3786\"],[0.5555555555555556,\"#d8576b\"],[0.6666666666666666,\"#ed7953\"],[0.7777777777777778,\"#fb9f3a\"],[0.8888888888888888,\"#fdca26\"],[1.0,\"#f0f921\"]],\"type\":\"heatmap\"}],\"heatmapgl\":[{\"colorbar\":{\"outlinewidth\":0,\"ticks\":\"\"},\"colorscale\":[[0.0,\"#0d0887\"],[0.1111111111111111,\"#46039f\"],[0.2222222222222222,\"#7201a8\"],[0.3333333333333333,\"#9c179e\"],[0.4444444444444444,\"#bd3786\"],[0.5555555555555556,\"#d8576b\"],[0.6666666666666666,\"#ed7953\"],[0.7777777777777778,\"#fb9f3a\"],[0.8888888888888888,\"#fdca26\"],[1.0,\"#f0f921\"]],\"type\":\"heatmapgl\"}],\"histogram\":[{\"marker\":{\"pattern\":{\"fillmode\":\"overlay\",\"size\":10,\"solidity\":0.2}},\"type\":\"histogram\"}],\"histogram2d\":[{\"colorbar\":{\"outlinewidth\":0,\"ticks\":\"\"},\"colorscale\":[[0.0,\"#0d0887\"],[0.1111111111111111,\"#46039f\"],[0.2222222222222222,\"#7201a8\"],[0.3333333333333333,\"#9c179e\"],[0.4444444444444444,\"#bd3786\"],[0.5555555555555556,\"#d8576b\"],[0.6666666666666666,\"#ed7953\"],[0.7777777777777778,\"#fb9f3a\"],[0.8888888888888888,\"#fdca26\"],[1.0,\"#f0f921\"]],\"type\":\"histogram2d\"}],\"histogram2dcontour\":[{\"colorbar\":{\"outlinewidth\":0,\"ticks\":\"\"},\"colorscale\":[[0.0,\"#0d0887\"],[0.1111111111111111,\"#46039f\"],[0.2222222222222222,\"#7201a8\"],[0.3333333333333333,\"#9c179e\"],[0.4444444444444444,\"#bd3786\"],[0.5555555555555556,\"#d8576b\"],[0.6666666666666666,\"#ed7953\"],[0.7777777777777778,\"#fb9f3a\"],[0.8888888888888888,\"#fdca26\"],[1.0,\"#f0f921\"]],\"type\":\"histogram2dcontour\"}],\"mesh3d\":[{\"colorbar\":{\"outlinewidth\":0,\"ticks\":\"\"},\"type\":\"mesh3d\"}],\"parcoords\":[{\"line\":{\"colorbar\":{\"outlinewidth\":0,\"ticks\":\"\"}},\"type\":\"parcoords\"}],\"pie\":[{\"automargin\":true,\"type\":\"pie\"}],\"scatter\":[{\"marker\":{\"colorbar\":{\"outlinewidth\":0,\"ticks\":\"\"}},\"type\":\"scatter\"}],\"scatter3d\":[{\"line\":{\"colorbar\":{\"outlinewidth\":0,\"ticks\":\"\"}},\"marker\":{\"colorbar\":{\"outlinewidth\":0,\"ticks\":\"\"}},\"type\":\"scatter3d\"}],\"scattercarpet\":[{\"marker\":{\"colorbar\":{\"outlinewidth\":0,\"ticks\":\"\"}},\"type\":\"scattercarpet\"}],\"scattergeo\":[{\"marker\":{\"colorbar\":{\"outlinewidth\":0,\"ticks\":\"\"}},\"type\":\"scattergeo\"}],\"scattergl\":[{\"marker\":{\"colorbar\":{\"outlinewidth\":0,\"ticks\":\"\"}},\"type\":\"scattergl\"}],\"scattermapbox\":[{\"marker\":{\"colorbar\":{\"outlinewidth\":0,\"ticks\":\"\"}},\"type\":\"scattermapbox\"}],\"scatterpolar\":[{\"marker\":{\"colorbar\":{\"outlinewidth\":0,\"ticks\":\"\"}},\"type\":\"scatterpolar\"}],\"scatterpolargl\":[{\"marker\":{\"colorbar\":{\"outlinewidth\":0,\"ticks\":\"\"}},\"type\":\"scatterpolargl\"}],\"scatterternary\":[{\"marker\":{\"colorbar\":{\"outlinewidth\":0,\"ticks\":\"\"}},\"type\":\"scatterternary\"}],\"surface\":[{\"colorbar\":{\"outlinewidth\":0,\"ticks\":\"\"},\"colorscale\":[[0.0,\"#0d0887\"],[0.1111111111111111,\"#46039f\"],[0.2222222222222222,\"#7201a8\"],[0.3333333333333333,\"#9c179e\"],[0.4444444444444444,\"#bd3786\"],[0.5555555555555556,\"#d8576b\"],[0.6666666666666666,\"#ed7953\"],[0.7777777777777778,\"#fb9f3a\"],[0.8888888888888888,\"#fdca26\"],[1.0,\"#f0f921\"]],\"type\":\"surface\"}],\"table\":[{\"cells\":{\"fill\":{\"color\":\"#EBF0F8\"},\"line\":{\"color\":\"white\"}},\"header\":{\"fill\":{\"color\":\"#C8D4E3\"},\"line\":{\"color\":\"white\"}},\"type\":\"table\"}]},\"layout\":{\"annotationdefaults\":{\"arrowcolor\":\"#2a3f5f\",\"arrowhead\":0,\"arrowwidth\":1},\"autotypenumbers\":\"strict\",\"coloraxis\":{\"colorbar\":{\"outlinewidth\":0,\"ticks\":\"\"}},\"colorscale\":{\"diverging\":[[0,\"#8e0152\"],[0.1,\"#c51b7d\"],[0.2,\"#de77ae\"],[0.3,\"#f1b6da\"],[0.4,\"#fde0ef\"],[0.5,\"#f7f7f7\"],[0.6,\"#e6f5d0\"],[0.7,\"#b8e186\"],[0.8,\"#7fbc41\"],[0.9,\"#4d9221\"],[1,\"#276419\"]],\"sequential\":[[0.0,\"#0d0887\"],[0.1111111111111111,\"#46039f\"],[0.2222222222222222,\"#7201a8\"],[0.3333333333333333,\"#9c179e\"],[0.4444444444444444,\"#bd3786\"],[0.5555555555555556,\"#d8576b\"],[0.6666666666666666,\"#ed7953\"],[0.7777777777777778,\"#fb9f3a\"],[0.8888888888888888,\"#fdca26\"],[1.0,\"#f0f921\"]],\"sequentialminus\":[[0.0,\"#0d0887\"],[0.1111111111111111,\"#46039f\"],[0.2222222222222222,\"#7201a8\"],[0.3333333333333333,\"#9c179e\"],[0.4444444444444444,\"#bd3786\"],[0.5555555555555556,\"#d8576b\"],[0.6666666666666666,\"#ed7953\"],[0.7777777777777778,\"#fb9f3a\"],[0.8888888888888888,\"#fdca26\"],[1.0,\"#f0f921\"]]},\"colorway\":[\"#636efa\",\"#EF553B\",\"#00cc96\",\"#ab63fa\",\"#FFA15A\",\"#19d3f3\",\"#FF6692\",\"#B6E880\",\"#FF97FF\",\"#FECB52\"],\"font\":{\"color\":\"#2a3f5f\"},\"geo\":{\"bgcolor\":\"white\",\"lakecolor\":\"white\",\"landcolor\":\"#E5ECF6\",\"showlakes\":true,\"showland\":true,\"subunitcolor\":\"white\"},\"hoverlabel\":{\"align\":\"left\"},\"hovermode\":\"closest\",\"mapbox\":{\"style\":\"light\"},\"paper_bgcolor\":\"white\",\"plot_bgcolor\":\"#E5ECF6\",\"polar\":{\"angularaxis\":{\"gridcolor\":\"white\",\"linecolor\":\"white\",\"ticks\":\"\"},\"bgcolor\":\"#E5ECF6\",\"radialaxis\":{\"gridcolor\":\"white\",\"linecolor\":\"white\",\"ticks\":\"\"}},\"scene\":{\"xaxis\":{\"backgroundcolor\":\"#E5ECF6\",\"gridcolor\":\"white\",\"gridwidth\":2,\"linecolor\":\"white\",\"showbackground\":true,\"ticks\":\"\",\"zerolinecolor\":\"white\"},\"yaxis\":{\"backgroundcolor\":\"#E5ECF6\",\"gridcolor\":\"white\",\"gridwidth\":2,\"linecolor\":\"white\",\"showbackground\":true,\"ticks\":\"\",\"zerolinecolor\":\"white\"},\"zaxis\":{\"backgroundcolor\":\"#E5ECF6\",\"gridcolor\":\"white\",\"gridwidth\":2,\"linecolor\":\"white\",\"showbackground\":true,\"ticks\":\"\",\"zerolinecolor\":\"white\"}},\"shapedefaults\":{\"line\":{\"color\":\"#2a3f5f\"}},\"ternary\":{\"aaxis\":{\"gridcolor\":\"white\",\"linecolor\":\"white\",\"ticks\":\"\"},\"baxis\":{\"gridcolor\":\"white\",\"linecolor\":\"white\",\"ticks\":\"\"},\"bgcolor\":\"#E5ECF6\",\"caxis\":{\"gridcolor\":\"white\",\"linecolor\":\"white\",\"ticks\":\"\"}},\"title\":{\"x\":0.05},\"xaxis\":{\"automargin\":true,\"gridcolor\":\"white\",\"linecolor\":\"white\",\"ticks\":\"\",\"title\":{\"standoff\":15},\"zerolinecolor\":\"white\",\"zerolinewidth\":2},\"yaxis\":{\"automargin\":true,\"gridcolor\":\"white\",\"linecolor\":\"white\",\"ticks\":\"\",\"title\":{\"standoff\":15},\"zerolinecolor\":\"white\",\"zerolinewidth\":2}}},\"title\":{\"text\":\"Hitting positions (2nd shot) for Pospisil On Return\"},\"xaxis\":{\"scaleanchor\":\"y\",\"scaleratio\":2,\"range\":[-5,5],\"showgrid\":false},\"yaxis\":{\"range\":[-6,16.76],\"showgrid\":false}},                        {\"responsive\": true}                    ).then(function(){\n",
       "                            \n",
       "var gd = document.getElementById('0790fb18-3882-4b8a-a95d-c09d11d27652');\n",
       "var x = new MutationObserver(function (mutations, observer) {{\n",
       "        var display = window.getComputedStyle(gd).display;\n",
       "        if (!display || display === 'none') {{\n",
       "            console.log([gd, 'removed!']);\n",
       "            Plotly.purge(gd);\n",
       "            observer.disconnect();\n",
       "        }}\n",
       "}});\n",
       "\n",
       "// Listen for the removal of the full notebook cells\n",
       "var notebookContainer = gd.closest('#notebook-container');\n",
       "if (notebookContainer) {{\n",
       "    x.observe(notebookContainer, {childList: true});\n",
       "}}\n",
       "\n",
       "// Listen for the clearing of the current output cell\n",
       "var outputEl = gd.closest('.output');\n",
       "if (outputEl) {{\n",
       "    x.observe(outputEl, {childList: true});\n",
       "}}\n",
       "\n",
       "                        })                };                });            </script>        </div>"
      ]
     },
     "metadata": {},
     "output_type": "display_data"
    }
   ],
   "source": [
    "trace_hitting_pos(\"Player\", name1, False,4)"
   ]
  }
 ],
 "metadata": {
  "kernelspec": {
   "display_name": "Python 3",
   "language": "python",
   "name": "python3"
  },
  "language_info": {
   "codemirror_mode": {
    "name": "ipython",
    "version": 3
   },
   "file_extension": ".py",
   "mimetype": "text/x-python",
   "name": "python",
   "nbconvert_exporter": "python",
   "pygments_lexer": "ipython3",
   "version": "3.8.8"
  }
 },
 "nbformat": 4,
 "nbformat_minor": 5
}
