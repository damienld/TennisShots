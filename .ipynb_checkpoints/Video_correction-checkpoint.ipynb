{
 "cells": [
  {
   "cell_type": "code",
   "execution_count": 1,
   "id": "9411a6b3",
   "metadata": {},
   "outputs": [
    {
     "data": {
      "text/html": [
       "<script>\n",
       "code_show=true; \n",
       "function code_toggle() {\n",
       "  if (code_show) {\n",
       "    $('div.input').each(function(id) {\n",
       "      el = $(this).find('.cm-variable:first');\n",
       "      if (id == 0 || el.text() == 'hide_me') {\n",
       "        $(this).show();\n",
       "      }\n",
       "    });\n",
       "    $('div.output_prompt').css('opacity', 1);\n",
       "  } else {\n",
       "    $('div.input').each(function(id) {\n",
       "      $(this).show();\n",
       "    });\n",
       "    $('div.output_prompt').css('opacity', 1);\n",
       "  }\n",
       "  code_show = !code_show\n",
       "} \n",
       "$( document ).ready(code_toggle);\n",
       "</script>\n",
       "<form action=\"javascript:code_toggle()\"><input style=\"opacity:0\" type=\"submit\" value=\"Click here to toggle on/off the raw code.\"></form>"
      ],
      "text/plain": [
       "<IPython.core.display.HTML object>"
      ]
     },
     "execution_count": 1,
     "metadata": {},
     "output_type": "execute_result"
    }
   ],
   "source": [
    "# This is a cell to hide code snippets from displaying\n",
    "# This must be at first cell!\n",
    "\n",
    "from IPython.display import HTML\n",
    "\n",
    "hide_me = ''\n",
    "HTML('''<script>\n",
    "code_show=true; \n",
    "function code_toggle() {\n",
    "  if (code_show) {\n",
    "    $('div.input').each(function(id) {\n",
    "      el = $(this).find('.cm-variable:first');\n",
    "      if (id == 0 || el.text() == 'hide_me') {\n",
    "        $(this).show();\n",
    "      }\n",
    "    });\n",
    "    $('div.output_prompt').css('opacity', 1);\n",
    "  } else {\n",
    "    $('div.input').each(function(id) {\n",
    "      $(this).show();\n",
    "    });\n",
    "    $('div.output_prompt').css('opacity', 1);\n",
    "  }\n",
    "  code_show = !code_show\n",
    "} \n",
    "$( document ).ready(code_toggle);\n",
    "</script>\n",
    "<form action=\"javascript:code_toggle()\"><input style=\"opacity:0\" type=\"submit\" value=\"Click here to toggle on/off the raw code.\"></form>''')"
   ]
  },
  {
   "cell_type": "code",
   "execution_count": 70,
   "id": "204d13ff",
   "metadata": {},
   "outputs": [],
   "source": [
    "def get_all_shots_for_point(df, point_index: int):\n",
    "    return (df[df[\"Point\"].astype(int)==int(point_index)]).sort_values(by='Shot')\n",
    "\n",
    "#set the winner of the point for every shot\n",
    "\n",
    "def set_point_winner(df, point_index: int):\n",
    "    \"\"\"\n",
    "    Returns\n",
    "    1 if player1 won the point\n",
    "    0 if player 2\n",
    "    -1 if player 1 hit his serve out\n",
    "    -2 if player 2 hit his serve out\n",
    "    \"\"\"\n",
    "    df_all_shots_for_point = get_all_shots_for_point(df, point_index)\n",
    "    df_last_shot = df_all_shots_for_point[df_all_shots_for_point[\"Shot\"]==df_all_shots_for_point[\"Shot\"].max()]\n",
    "    last_shot_result = df_last_shot.iloc[0][\"Result\"]\n",
    "    index_winner = -1\n",
    "    str_player_last_shot = df_last_shot.iloc[0][\"Player\"]\n",
    "    print(str_player_last_shot)\n",
    "    if (df_last_shot.iloc[0][\"Shot\"]==1) and (last_shot_result in [\"Out\", \"Net\"]):\n",
    "        if (str_player_last_shot == \"Player\"):\n",
    "            if df_last_shot.iloc[0][\"Type\"]==\"second_serve\":\n",
    "                index_winner = \"0\" #DF\n",
    "            else:\n",
    "                index_winner = \"-1\" #Player serve out or net\n",
    "        else:\n",
    "            if df_last_shot.iloc[0][\"Type\"]==\"second_serve\":\n",
    "                index_winner = \"1\"#DF\n",
    "            else:\n",
    "                index_winner = \"-2\" #Opponent serve out or net\n",
    "    elif (str_player_last_shot == \"Player\"):\n",
    "        if (last_shot_result in [\"In\"]):\n",
    "            index_winner = \"1\"\n",
    "        elif (last_shot_result in [\"Out\", \"Net\"]):\n",
    "            index_winner = \"0\"\n",
    "        else:\n",
    "            index_winner = \"-1\"\n",
    "    elif (str_player_last_shot == \"Opponent\"):\n",
    "        if (last_shot_result in [\"In\"]):\n",
    "            index_winner = \"0\"\n",
    "        elif (last_shot_result in [\"Out\", \"Net\"]):\n",
    "            index_winner = \"1\"\n",
    "        else:\n",
    "            index_winner = \"-1\"\n",
    "    else:\n",
    "        index_winner = \"-1\"\n",
    "    #print(str(index_winner))\n",
    "    df.loc[df[\"Point\"]==point_index,\"Winner_Point\"]=index_winner\n",
    "    \n",
    "#set_point_winner(df, 8)"
   ]
  },
  {
   "cell_type": "code",
   "execution_count": 104,
   "id": "a8be942b",
   "metadata": {},
   "outputs": [],
   "source": [
    "def swap_server_all_shots(df, current_point):\n",
    "\tdf_shot1=df[(df[\"Shot\"]==1)&(df[\"Point\"]==current_point)]\n",
    "\tif len(df_shot1) > 0:\n",
    "\t\tserver=df_shot1.iloc[0][\"Player\"]\n",
    "\t\tif server==\"Player\":\n",
    "\t\t\tserver=\"Opponent\"\n",
    "\t\t\treturner=\"Player\"\n",
    "\t\telse:\n",
    "\t\t\tserver=\"Player\"\n",
    "\t\t\treturner=\"Opponent\"\n",
    "\t\tdf.loc[(df[\"Point\"]==current_point)&(df[\"Shot\"]%2==0),\"Player\"]=returner\n",
    "\t\tdf.loc[(df[\"Point\"]==current_point)&(df[\"Shot\"]%2==1),\"Player\"]=server\n",
    "\t\tdf.loc[(df[\"Point\"]==current_point),\"comment\"]=\"swapped srv\""
   ]
  },
  {
   "cell_type": "code",
   "execution_count": 4,
   "id": "c26174f4",
   "metadata": {},
   "outputs": [],
   "source": [
    "#créer une figure\n",
    "#fig = go.Figure()\n",
    "def transform_far_to_near(df):\n",
    "    df[\"Bounce (x)\"]=df.apply(lambda x: -(x[\"Bounce (x)\"]), axis=1)\n",
    "    df[\"Bounce (y)\"]=df.apply(lambda x: 23.73-(x[\"Bounce (y)\"]), axis=1)\n",
    "    return df\n",
    "                              \n",
    "def trace_rect(fig1, left_double_court_x,right_double_court_x, top_double_court_y ):\n",
    "    \"\"\"\n",
    "    outside lines\n",
    "    \"\"\"\n",
    "    court_x=[left_double_court_x, left_double_court_x, right_double_court_x, right_double_court_x]\n",
    "    court_y=[0,top_double_court_y, top_double_court_y, 0]\n",
    "    trace0=go.Scatter(\n",
    "        x=court_x, y=court_y,\n",
    "        mode=\"lines\",line=dict(color='white')\n",
    "    )\n",
    "    #fig.add_trace(trace0)\n",
    "    \n",
    "    #trace0=go.Scatter(\n",
    "    fig1.add_trace(go.Scatter(\n",
    "        x=court_x, y=court_y,\n",
    "        mode=\"lines\",line=dict(color='white')\n",
    "    ))\n",
    "    #fig.add_trace(trace0)\n",
    "\n",
    "def trace_court():\n",
    "    fig1 = px.line()\n",
    "    trace_rect(fig1, 0-4.11-1.37, 0+4.11+1.37, 23.73)\n",
    "    trace_rect(fig1, 0-4.11, 0+4.11, 23.73)\n",
    "    trace_rect(fig1, 0-4.11, 0+4.11, 11.88)\n",
    "    trace_rect(fig1, 0-4.11, 0+4.11, 5.48)\n",
    "    trace_rect(fig1, 0-4.11, 0+4.11, 12.08)\n",
    "    trace_rect(fig1, 0-4.11, 0+4.11, 18.48)\n",
    "    return fig1"
   ]
  },
  {
   "cell_type": "code",
   "execution_count": 5,
   "id": "89bbb56a",
   "metadata": {},
   "outputs": [],
   "source": [
    "def apply_corrections(df):\n",
    "    for index, row in df.iterrows():\n",
    "        result2 = row[\"Result2\"]\n",
    "        print(result2)\n",
    "        if (result2!=\"\")and(str(result2).lower()!=\"nan\"):\n",
    "            if(result2==\"Shot=0\"):\n",
    "                df.loc[index,\"Shot\"]=0\n",
    "            else:\n",
    "                df.loc[index,\"ResultOld\"]=row[\"Result\"]\n",
    "                df.loc[index,\"Result\"]=row[\"Result2\"]\n",
    "                df.loc[index,\"Bounce (x)old\"]=row[\"Bounce (x)\"]\n",
    "                df.loc[index,\"Bounce (y)old\"]=row[\"Bounce (y)\"]\n",
    "                df.loc[index,\"Bounce (x)\"]=row[\"Bounce (x)2\"]\n",
    "                df.loc[index,\"Bounce (y)\"]=row[\"Bounce (y)2\"]\n",
    "            print(index, row)\n",
    "        \n",
    "#apply_corrections(df)\n",
    "#df.to_csv(\"Gerasimov FAA.csv\")"
   ]
  },
  {
   "cell_type": "code",
   "execution_count": 6,
   "id": "6cb81e16",
   "metadata": {},
   "outputs": [],
   "source": [
    "import pandas as pd\n",
    "import numpy as np\n",
    "import plotly.graph_objects as go\n",
    "import plotly.express as px\n",
    "import warnings\n",
    "warnings.filterwarnings('ignore')"
   ]
  },
  {
   "cell_type": "code",
   "execution_count": 7,
   "id": "2954fbd4",
   "metadata": {},
   "outputs": [],
   "source": [
    "filename_csv=\"Gerasimov FAA.csv\"\n",
    "df=pd.read_csv(filename_csv, index_col=0)\n",
    "lst_players=filename_csv.split(\".\")[0].split(\" \")\n",
    "name1=lst_players[0]\n",
    "name2=lst_players[1]"
   ]
  },
  {
   "cell_type": "code",
   "execution_count": 53,
   "id": "60658239",
   "metadata": {},
   "outputs": [],
   "source": [
    "# LAUNCH VIDEO PLAYER\n",
    "\n",
    "#pip install python-vlc\n",
    "import time, vlc\n",
    "\n",
    "#http://olivieraubert.net/vlc/python-ctypes/doc/vlc.MediaPlayer-class.html\n",
    "filename=filename_csv.replace(\"csv\",\"mp4\")#\"Gerasimov FAA.mp4\"\n",
    "\n",
    "# method to play video\n",
    "def video2(source):\n",
    "    # creating vlc media player object\n",
    "    media_player = vlc.MediaPlayer()\n",
    "  \n",
    "    # media object\n",
    "    media = vlc.Media(source)\n",
    "\n",
    "    # setting media to the media player\n",
    "    media_player.set_media(media)\n",
    "\n",
    "    # setting video scale\n",
    "    media_player.video_set_scale(0.6)\n",
    "    media_player.audio_set_mute(True)\n",
    "    # setting play rate\n",
    "    # doubles the speed of the video\n",
    "    media_player.set_rate(1.5)\n",
    "    # start playing video\n",
    "    media_player.play()\n",
    "\n",
    "    # wait so the video can be played for 5 seconds\n",
    "    # irrespective for length of video\n",
    "    time.sleep(5)\n",
    "    return media_player\n",
    "\n",
    "\"\"\"# method to play video\n",
    "def video(source):\n",
    "\t\n",
    "\t# creating a vlc instance\n",
    "\tvlc_instance = vlc.Instance()\n",
    "\t\n",
    "\t# creating a media player\n",
    "\tplayer = vlc_instance.media_player_new()\n",
    "\t\n",
    "\t# creating a media\n",
    "\tmedia = vlc_instance.media_new(source)\n",
    "\t\n",
    "\t# setting media to the player\n",
    "\tplayer.set_media(media)\n",
    "\tplayer.audio_set_mute(True)\n",
    "\t# play the video\n",
    "\tplayer.play()\n",
    "\t\n",
    "\t# wait time\n",
    "\ttime.sleep(0.5)\n",
    "\t\n",
    "\t# getting the duration of the video\n",
    "\tduration = player.get_length()\n",
    "\t# printing the duration of the video\n",
    "\tprint(\"Duration : \" + str(duration))\n",
    "\treturn player\"\"\"\n",
    "\n",
    "# call the video method\n",
    "player = video2(filename)\n",
    "#GO to point 1\n",
    "current_point=0"
   ]
  },
  {
   "cell_type": "code",
   "execution_count": 9,
   "id": "779d6af5",
   "metadata": {},
   "outputs": [],
   "source": [
    "#WRITE SOME TEXT OVER THE VIDEO\n",
    "from vlc import VideoMarqueeOption\n",
    "\n",
    "def write_text_video(player, text):\n",
    "    # Some marquee examples.  Marquee requires '--sub-source marq' in the\n",
    "    # Instance() call above, see <http://www.videolan.org/doc/play-howto/en/ch04.html>\n",
    "    #https://www.olivieraubert.net/vlc/python-ctypes/doc/vlc.VideoMarqueeOption-class.html\n",
    "    player.video_set_marquee_int(VideoMarqueeOption.Enable, 1)\n",
    "    player.video_set_marquee_int(VideoMarqueeOption.Size, 24)  # pixels\n",
    "    #player.video_set_marquee_int(VideoMarqueeOption.Position, Position.Bottom)\n",
    "    if False:  # only one marquee can be specified\n",
    "        player.video_set_marquee_int(VideoMarqueeOption.Timeout, 5000)  # millisec, 0==forever\n",
    "        t = media.get_mrl()  # movie\n",
    "    else:  # update marquee text periodically\n",
    "        player.video_set_marquee_int(VideoMarqueeOption.Timeout, 0)  # millisec, 0==forever\n",
    "        player.video_set_marquee_int(VideoMarqueeOption.Refresh, 1000)  # millisec (or sec?)\n",
    "    df_point = df[df[\"Point\"]==current_point]\n",
    "    player.video_set_marquee_string(VideoMarqueeOption.Text, text)\n",
    "\n",
    "#write_text_video(player,\"a\")"
   ]
  },
  {
   "cell_type": "code",
   "execution_count": 10,
   "id": "b7dc2eed",
   "metadata": {},
   "outputs": [],
   "source": [
    "#VIDEO Go TO next POINT\n",
    "def go_to_nextpoint(videoplayer, current_point, indexshot):\n",
    "    \"\"\"\n",
    "    Args:\n",
    "        player(str): \"Player\" or \"Opponent\" \n",
    "        current_point(int): index of current_point\n",
    "        indexshot(int): index of shot (1=Serve, -1=Last shot)\n",
    "    \"\"\"\n",
    "    print(\"go_to_nextpoint \" + str(current_point))\n",
    "    df_point = df[df[\"Point\"]==current_point]\n",
    "    delay_before_shot = 0\n",
    "    if len(df_point) > 0:\n",
    "        if (indexshot == -1):\n",
    "            shot_index = max(df_point[\"Shot\"])\n",
    "            delay_before_shot = 1500\n",
    "        else:\n",
    "            shot_index = indexshot\n",
    "        #move video to the time of the point\n",
    "        #get time of point at indexshot\n",
    "        time_point=df_point[(df_point[\"Shot\"]==shot_index)].iloc[0][\"Video Time\"]\n",
    "        #print(\"at\" + str(time_point) + \" sec\")\n",
    "        videoplayer.set_time(round(time_point*1000)+1500-delay_before_shot) #go to 7mn\n",
    "        #print(df_point.head())\n",
    "        time = round(player.get_time()/1000)\n",
    "        server=df_point.iloc[0][\"Player\"]\n",
    "        #shot_results = \"-\".join(list(df_point[\"Result\"]))\n",
    "        shot_results = [\"{0}-{1}; \".format(i+1, df_point.iloc[i][\"Result\"]) for i in range(len(df_point))]\n",
    "        text=\"{3}\\n Serve:{0} \\n {2} \\n {1}\".format(server, \" \".join(shot_results), df_point.iloc[0]['Winner_Point'], time)\n",
    "        write_text_video(player, text)\n",
    "#go_to_nextpoint(player, 1, -1)"
   ]
  },
  {
   "cell_type": "code",
   "execution_count": 11,
   "id": "527bd98a",
   "metadata": {},
   "outputs": [],
   "source": [
    "#TRACE court with all shots of the point\n",
    "\n",
    "import ipywidgets as widgets\n",
    "from IPython.display import display, Javascript\n",
    "# These lines before the animated plotly figure\n",
    "#import plotly.io as pio\n",
    "#pio.renderers.default = 'notebook'\n",
    "def trace_point(index_point):\n",
    "    print(\"trace_point \" + str(current_point))\n",
    "    fig1 = trace_court()\n",
    "    df_point = df[df[\"Point\"]==index_point]\n",
    "    last_shot = None\n",
    "    if len(df_point) >0:\n",
    "        #trace a line from last hit position to last bounce to display the last shot\n",
    "        last_shot = df_point.iloc[-1]\n",
    "        #print(last_shot[\"Hit (x)\"])\n",
    "        df2 = pd.DataFrame(dict(\n",
    "        x = [last_shot[\"Hit (x)\"],last_shot[\"Bounce (x)\"]],\n",
    "        y = [last_shot[\"Hit (y)\"],last_shot[\"Bounce (y)\"]]))\n",
    "        fig4=px.line(df2,x=\"x\",y=\"y\")\n",
    "        fig4.update_traces(patch={\"line\": {\"width\": 1, \"dash\": 'dot'}})\n",
    "\n",
    "    #FIG BOUNCE\n",
    "    fig2=px.scatter(df_point,x=\"Hit (x)\",y=\"Hit (y)\",text=\"Shot\"#, color=\"Player\"\n",
    "                    #, symbol=\"Stroke\"\n",
    "                    #, animation_frame=\"Shot\"#, animation_group=\"Player\"\n",
    "                    #, textposition='top right',textfont=dict(color='#E58606')\n",
    "\n",
    "                    #, symbol=\"Spin\"\n",
    "                       #, trendline='ols',trendline_color_override='red'\n",
    "                        #, marginal_y=\"rug\"\n",
    "                        #, marginal_x=\"histogram\"\n",
    "                        #, facet_col=\"Winner_Point\"#, facet_row=\"time\"\n",
    "                        , color_discrete_map={\"Player\":\"green\",\"Opponent\":\"red\"}\n",
    "                        , hover_data=[\"Shot\",\"Stroke\"]\n",
    "                       )\n",
    "    \n",
    "    fig2.for_each_trace(lambda t: t.update(mode = 'lines+markers+text', textposition='top right',textfont=dict(color='#E58606')))\n",
    "    for fr in fig2.frames:\n",
    "        for d in fr.data:\n",
    "            d.update(mode='markers+lines+text', textposition='top right',textfont=dict(color='#E58606'))\n",
    "    fig2.update_traces(patch={\"line\": {\"width\": 1, \"dash\": 'dot'}}) \n",
    "    \"\"\"marker_symbol=[1,101], \"\"\"\n",
    "    \"\"\"fig2.add_annotation(\n",
    "      x=5,  # arrows' head\n",
    "      y=5,  # arrows' head\n",
    "      ax=10,  # arrows' tail\n",
    "      ay=10,  # arrows' tail\n",
    "      xref='x',\n",
    "      yref='y',\n",
    "      axref='x',\n",
    "      ayref='y',\n",
    "      text='',  # if you want only the arrow\n",
    "      showarrow=True,\n",
    "      arrowhead=3,\n",
    "      arrowsize=1,\n",
    "      arrowwidth=1,\n",
    "      arrowcolor='black'\n",
    "    )\"\"\"\n",
    "    #FIG Player POSITION\n",
    "    fig3=px.scatter(df_point,x=\"Bounce (x)\",y=\"Bounce (y)\",color=\"Result\"\n",
    "                    \n",
    "                       #, trendline='ols',trendline_color_override='red'\n",
    "                        #, marginal_y=\"rug\"\n",
    "                        #, marginal_x=\"histogram\"\n",
    "                        #, facet_col=\"Winner_Point\"#, facet_row=\"time\"\n",
    "                        , color_discrete_map={\"Net\":\"black\",\"In\":\"orange\",\"Out\":\"black\"}\n",
    "                        , hover_data=[\"Shot\"],text=\"Shot\"\n",
    "                       )\n",
    "    fig3.for_each_trace(lambda t: t.update(mode = 'markers+text', textposition='top right',textfont=dict(color='gray')))\n",
    "    \n",
    "    fig=go.Figure(data=fig1.data + fig2.data + fig3.data)\n",
    "\n",
    "    #fig.update_layout(title=\"Serves P1 (point size represents Speed)\")\n",
    "    fig.update_xaxes(\n",
    "        scaleanchor = \"y\",\n",
    "        scaleratio = 2,\n",
    "      )\n",
    "    fig.update_layout(xaxis_range=[-5,5], yaxis_range=[-4,11.88*2+4])\n",
    "    fig.update_layout(\n",
    "         xaxis=dict(showgrid=False), \n",
    "         yaxis=dict(showgrid=False),\n",
    "        autosize=False,\n",
    "    width=500,\n",
    "    height=300\n",
    "    )\n",
    "    fig.show()\n",
    "    \n",
    "#trace_point(current_point)\n"
   ]
  },
  {
   "cell_type": "code",
   "execution_count": 19,
   "id": "51f55c0e",
   "metadata": {},
   "outputs": [],
   "source": [
    "def get_point_infos(index_point, is_replace_with_names, name1, name2):\n",
    "    \"\"\"\n",
    "    Returns:\n",
    "        server(str or \"\"): \"Player\" or \"Opponent\" (if is_replace_with_names => name1, name2)\n",
    "        winner(str or \"\"): \"0\" (P2) or \"1\" (P1) (if is_replace_with_names => name1, name2)\n",
    "        lst_shots_out(Dataframe or None): dataframe with list of shots where Result=Out or Net\n",
    "        last_shot(Dataframe or None): dataframe with the row of the max Shot\n",
    "    \"\"\"\n",
    "    df_point = df[df[\"Point\"]==index_point]\n",
    "    server = \"\"\n",
    "    winner = \"\"\n",
    "    server_side = \"\"\n",
    "    last_shot = None\n",
    "    df_shots_out_or_net = None\n",
    "    if len(df_point) > 0:\n",
    "        df_point=df_point.sort_values(by=\"Shot\")\n",
    "        df_shot1=df_point[(df_point[\"Shot\"]==1)]\n",
    "        if len(df_shot1) > 0:\n",
    "            \n",
    "            server=df_shot1.iloc[0][\"Player\"]\n",
    "            server_side=df_shot1.iloc[0][\"Hit Zone\"]\n",
    "            if (is_replace_with_names):\n",
    "                server=server.replace(\"Player\", name1).replace(\"Opponent\", name2)\n",
    "            \n",
    "            winner=df_shot1.iloc[0][\"Winner_Point\"]\n",
    "            if (is_replace_with_names):\n",
    "                #print(str(winner))\n",
    "                if (str(winner)==\"0\"):\n",
    "                    winner=name2\n",
    "                if (str(winner)==\"1\"):\n",
    "                    winner=name1\n",
    "\n",
    "            df_shots_out_or_net = df_point[df_point[\"Result\"].isin([\"Out\",\"Net\"])]\n",
    "            #if len(df_shots_out_or_net)>0:\n",
    "            #    lst_shots_out = df_shots_out_or_net[\"Shot\"].tolist()\n",
    "            last_shot = df_point.iloc[-1]\n",
    "    return (server, server_side, winner, df_shots_out_or_net, last_shot)\n",
    "                                           \n",
    "#print(get_point_infos(65, True, name1, name2))\n",
    "def display_point_infos(index_point):\n",
    "    print(index_point)\n",
    "    (server, server_side, winner, df_shots_out_or_net, last_shot)=(get_point_infos(index_point, True, name1, name2))\n",
    "    lst_shots_out = []\n",
    "    if (df_shots_out_or_net is not None):\n",
    "        if (len(df_shots_out_or_net)>0):\n",
    "            lst_shots_out = df_shots_out_or_net[\"Shot\"].tolist()\n",
    "            lst_shots_out = [str(shot) for shot in lst_shots_out]\n",
    "    last_shot_str = \"\"\n",
    "    time = \"\"\n",
    "    #print(last_shot)\n",
    "    if (last_shot is not None):\n",
    "        last_shot_str = last_shot[\"Player\"].replace(\"Player\", name1).replace(\"Opponent\", name2).upper()[0:3]\n",
    "        last_shot_str += \" \" + last_shot[\"Result\"]\n",
    "        last_shot_str += \"(\" + str(last_shot[\"Shot\"]) + \")\"\n",
    "        try:\n",
    "            time = str(round(last_shot[\"Video Time\"]))\n",
    "        except:\n",
    "            time=\"\"\n",
    "    print(\"Pt {0} ({6})- Srv: {1}*{5} - Won: {2} --- Last: {4} --- Shots OUT(or net): {3}\".format(str(index_point),str(server).upper()[0:3], str(winner).upper()[0:3], \", \".join(lst_shots_out),last_shot_str, server_side, time))\n",
    "#print(display_point_infos(1))"
   ]
  },
  {
   "cell_type": "code",
   "execution_count": 577,
   "id": "e1c3be53",
   "metadata": {},
   "outputs": [
    {
     "name": "stdout",
     "output_type": "stream",
     "text": [
      "310\n",
      "go_to_nextpoint 310\n"
     ]
    }
   ],
   "source": [
    "#GO TO NEXT POINT - last shot\n",
    "current_point+=1\n",
    "print(current_point)\n",
    "go_to_nextpoint(player, current_point, -1)\n",
    "#trace_point()"
   ]
  },
  {
   "cell_type": "code",
   "execution_count": 558,
   "id": "f687eb7f",
   "metadata": {},
   "outputs": [
    {
     "name": "stdout",
     "output_type": "stream",
     "text": [
      "go_to_nextpoint 291\n"
     ]
    }
   ],
   "source": [
    "#GO TO PREV POINT - last shot\n",
    "current_point-=1\n",
    "#print(current_point)\n",
    "go_to_nextpoint(player, current_point, -1)"
   ]
  },
  {
   "cell_type": "code",
   "execution_count": 478,
   "id": "dfff6692",
   "metadata": {},
   "outputs": [
    {
     "name": "stdout",
     "output_type": "stream",
     "text": [
      "go_to_nextpoint 243\n"
     ]
    }
   ],
   "source": [
    "#GO TO NEXT POINT - serve\n",
    "current_point+=1\n",
    "go_to_nextpoint(player, current_point, 1)\n",
    "#trace_point()"
   ]
  },
  {
   "cell_type": "code",
   "execution_count": 475,
   "id": "9c95722e",
   "metadata": {},
   "outputs": [
    {
     "name": "stdout",
     "output_type": "stream",
     "text": [
      "go_to_nextpoint 240\n"
     ]
    }
   ],
   "source": [
    "#GO TO PREV POINT - serve\n",
    "current_point-=1\n",
    "#print(current_point)\n",
    "go_to_nextpoint(player, current_point, 1)"
   ]
  },
  {
   "cell_type": "code",
   "execution_count": 142,
   "id": "793b4464",
   "metadata": {},
   "outputs": [
    {
     "data": {
      "application/vnd.jupyter.widget-view+json": {
       "model_id": "35cd770c876c43ebae278859cb4998f1",
       "version_major": 2,
       "version_minor": 0
      },
      "text/plain": [
       "VBox(children=(HBox(children=(Button(description='Next Point', layout=Layout(width='160px'), style=ButtonStyle…"
      ]
     },
     "metadata": {},
     "output_type": "display_data"
    },
    {
     "data": {
      "application/javascript": [
       "IPython.notebook.execute_cell_range(IPython.notebook.get_selected_index()-4, IPython.notebook.get_selected_index()-3)"
      ],
      "text/plain": [
       "<IPython.core.display.Javascript object>"
      ]
     },
     "metadata": {},
     "output_type": "display_data"
    },
    {
     "name": "stdout",
     "output_type": "stream",
     "text": [
      "310\n",
      "Pt 310 ()- Srv: * - Won:  --- Last:  --- Shots OUT(or net): \n",
      "trace_point 309\n"
     ]
    },
    {
     "data": {
      "application/vnd.plotly.v1+json": {
       "config": {
        "plotlyServerURL": "https://plot.ly"
       },
       "data": [
        {
         "line": {
          "color": "white"
         },
         "mode": "lines",
         "type": "scatter",
         "x": [
          -5.48,
          -5.48,
          5.48,
          5.48
         ],
         "y": [
          0,
          23.73,
          23.73,
          0
         ]
        },
        {
         "line": {
          "color": "white"
         },
         "mode": "lines",
         "type": "scatter",
         "x": [
          -4.11,
          -4.11,
          4.11,
          4.11
         ],
         "y": [
          0,
          23.73,
          23.73,
          0
         ]
        },
        {
         "line": {
          "color": "white"
         },
         "mode": "lines",
         "type": "scatter",
         "x": [
          -4.11,
          -4.11,
          4.11,
          4.11
         ],
         "y": [
          0,
          11.88,
          11.88,
          0
         ]
        },
        {
         "line": {
          "color": "white"
         },
         "mode": "lines",
         "type": "scatter",
         "x": [
          -4.11,
          -4.11,
          4.11,
          4.11
         ],
         "y": [
          0,
          5.48,
          5.48,
          0
         ]
        },
        {
         "line": {
          "color": "white"
         },
         "mode": "lines",
         "type": "scatter",
         "x": [
          -4.11,
          -4.11,
          4.11,
          4.11
         ],
         "y": [
          0,
          12.08,
          12.08,
          0
         ]
        },
        {
         "line": {
          "color": "white"
         },
         "mode": "lines",
         "type": "scatter",
         "x": [
          -4.11,
          -4.11,
          4.11,
          4.11
         ],
         "y": [
          0,
          18.48,
          18.48,
          0
         ]
        }
       ],
       "layout": {
        "autosize": false,
        "height": 300,
        "template": {
         "data": {
          "bar": [
           {
            "error_x": {
             "color": "#2a3f5f"
            },
            "error_y": {
             "color": "#2a3f5f"
            },
            "marker": {
             "line": {
              "color": "#E5ECF6",
              "width": 0.5
             },
             "pattern": {
              "fillmode": "overlay",
              "size": 10,
              "solidity": 0.2
             }
            },
            "type": "bar"
           }
          ],
          "barpolar": [
           {
            "marker": {
             "line": {
              "color": "#E5ECF6",
              "width": 0.5
             },
             "pattern": {
              "fillmode": "overlay",
              "size": 10,
              "solidity": 0.2
             }
            },
            "type": "barpolar"
           }
          ],
          "carpet": [
           {
            "aaxis": {
             "endlinecolor": "#2a3f5f",
             "gridcolor": "white",
             "linecolor": "white",
             "minorgridcolor": "white",
             "startlinecolor": "#2a3f5f"
            },
            "baxis": {
             "endlinecolor": "#2a3f5f",
             "gridcolor": "white",
             "linecolor": "white",
             "minorgridcolor": "white",
             "startlinecolor": "#2a3f5f"
            },
            "type": "carpet"
           }
          ],
          "choropleth": [
           {
            "colorbar": {
             "outlinewidth": 0,
             "ticks": ""
            },
            "type": "choropleth"
           }
          ],
          "contour": [
           {
            "colorbar": {
             "outlinewidth": 0,
             "ticks": ""
            },
            "colorscale": [
             [
              0,
              "#0d0887"
             ],
             [
              0.1111111111111111,
              "#46039f"
             ],
             [
              0.2222222222222222,
              "#7201a8"
             ],
             [
              0.3333333333333333,
              "#9c179e"
             ],
             [
              0.4444444444444444,
              "#bd3786"
             ],
             [
              0.5555555555555556,
              "#d8576b"
             ],
             [
              0.6666666666666666,
              "#ed7953"
             ],
             [
              0.7777777777777778,
              "#fb9f3a"
             ],
             [
              0.8888888888888888,
              "#fdca26"
             ],
             [
              1,
              "#f0f921"
             ]
            ],
            "type": "contour"
           }
          ],
          "contourcarpet": [
           {
            "colorbar": {
             "outlinewidth": 0,
             "ticks": ""
            },
            "type": "contourcarpet"
           }
          ],
          "heatmap": [
           {
            "colorbar": {
             "outlinewidth": 0,
             "ticks": ""
            },
            "colorscale": [
             [
              0,
              "#0d0887"
             ],
             [
              0.1111111111111111,
              "#46039f"
             ],
             [
              0.2222222222222222,
              "#7201a8"
             ],
             [
              0.3333333333333333,
              "#9c179e"
             ],
             [
              0.4444444444444444,
              "#bd3786"
             ],
             [
              0.5555555555555556,
              "#d8576b"
             ],
             [
              0.6666666666666666,
              "#ed7953"
             ],
             [
              0.7777777777777778,
              "#fb9f3a"
             ],
             [
              0.8888888888888888,
              "#fdca26"
             ],
             [
              1,
              "#f0f921"
             ]
            ],
            "type": "heatmap"
           }
          ],
          "heatmapgl": [
           {
            "colorbar": {
             "outlinewidth": 0,
             "ticks": ""
            },
            "colorscale": [
             [
              0,
              "#0d0887"
             ],
             [
              0.1111111111111111,
              "#46039f"
             ],
             [
              0.2222222222222222,
              "#7201a8"
             ],
             [
              0.3333333333333333,
              "#9c179e"
             ],
             [
              0.4444444444444444,
              "#bd3786"
             ],
             [
              0.5555555555555556,
              "#d8576b"
             ],
             [
              0.6666666666666666,
              "#ed7953"
             ],
             [
              0.7777777777777778,
              "#fb9f3a"
             ],
             [
              0.8888888888888888,
              "#fdca26"
             ],
             [
              1,
              "#f0f921"
             ]
            ],
            "type": "heatmapgl"
           }
          ],
          "histogram": [
           {
            "marker": {
             "pattern": {
              "fillmode": "overlay",
              "size": 10,
              "solidity": 0.2
             }
            },
            "type": "histogram"
           }
          ],
          "histogram2d": [
           {
            "colorbar": {
             "outlinewidth": 0,
             "ticks": ""
            },
            "colorscale": [
             [
              0,
              "#0d0887"
             ],
             [
              0.1111111111111111,
              "#46039f"
             ],
             [
              0.2222222222222222,
              "#7201a8"
             ],
             [
              0.3333333333333333,
              "#9c179e"
             ],
             [
              0.4444444444444444,
              "#bd3786"
             ],
             [
              0.5555555555555556,
              "#d8576b"
             ],
             [
              0.6666666666666666,
              "#ed7953"
             ],
             [
              0.7777777777777778,
              "#fb9f3a"
             ],
             [
              0.8888888888888888,
              "#fdca26"
             ],
             [
              1,
              "#f0f921"
             ]
            ],
            "type": "histogram2d"
           }
          ],
          "histogram2dcontour": [
           {
            "colorbar": {
             "outlinewidth": 0,
             "ticks": ""
            },
            "colorscale": [
             [
              0,
              "#0d0887"
             ],
             [
              0.1111111111111111,
              "#46039f"
             ],
             [
              0.2222222222222222,
              "#7201a8"
             ],
             [
              0.3333333333333333,
              "#9c179e"
             ],
             [
              0.4444444444444444,
              "#bd3786"
             ],
             [
              0.5555555555555556,
              "#d8576b"
             ],
             [
              0.6666666666666666,
              "#ed7953"
             ],
             [
              0.7777777777777778,
              "#fb9f3a"
             ],
             [
              0.8888888888888888,
              "#fdca26"
             ],
             [
              1,
              "#f0f921"
             ]
            ],
            "type": "histogram2dcontour"
           }
          ],
          "mesh3d": [
           {
            "colorbar": {
             "outlinewidth": 0,
             "ticks": ""
            },
            "type": "mesh3d"
           }
          ],
          "parcoords": [
           {
            "line": {
             "colorbar": {
              "outlinewidth": 0,
              "ticks": ""
             }
            },
            "type": "parcoords"
           }
          ],
          "pie": [
           {
            "automargin": true,
            "type": "pie"
           }
          ],
          "scatter": [
           {
            "marker": {
             "colorbar": {
              "outlinewidth": 0,
              "ticks": ""
             }
            },
            "type": "scatter"
           }
          ],
          "scatter3d": [
           {
            "line": {
             "colorbar": {
              "outlinewidth": 0,
              "ticks": ""
             }
            },
            "marker": {
             "colorbar": {
              "outlinewidth": 0,
              "ticks": ""
             }
            },
            "type": "scatter3d"
           }
          ],
          "scattercarpet": [
           {
            "marker": {
             "colorbar": {
              "outlinewidth": 0,
              "ticks": ""
             }
            },
            "type": "scattercarpet"
           }
          ],
          "scattergeo": [
           {
            "marker": {
             "colorbar": {
              "outlinewidth": 0,
              "ticks": ""
             }
            },
            "type": "scattergeo"
           }
          ],
          "scattergl": [
           {
            "marker": {
             "colorbar": {
              "outlinewidth": 0,
              "ticks": ""
             }
            },
            "type": "scattergl"
           }
          ],
          "scattermapbox": [
           {
            "marker": {
             "colorbar": {
              "outlinewidth": 0,
              "ticks": ""
             }
            },
            "type": "scattermapbox"
           }
          ],
          "scatterpolar": [
           {
            "marker": {
             "colorbar": {
              "outlinewidth": 0,
              "ticks": ""
             }
            },
            "type": "scatterpolar"
           }
          ],
          "scatterpolargl": [
           {
            "marker": {
             "colorbar": {
              "outlinewidth": 0,
              "ticks": ""
             }
            },
            "type": "scatterpolargl"
           }
          ],
          "scatterternary": [
           {
            "marker": {
             "colorbar": {
              "outlinewidth": 0,
              "ticks": ""
             }
            },
            "type": "scatterternary"
           }
          ],
          "surface": [
           {
            "colorbar": {
             "outlinewidth": 0,
             "ticks": ""
            },
            "colorscale": [
             [
              0,
              "#0d0887"
             ],
             [
              0.1111111111111111,
              "#46039f"
             ],
             [
              0.2222222222222222,
              "#7201a8"
             ],
             [
              0.3333333333333333,
              "#9c179e"
             ],
             [
              0.4444444444444444,
              "#bd3786"
             ],
             [
              0.5555555555555556,
              "#d8576b"
             ],
             [
              0.6666666666666666,
              "#ed7953"
             ],
             [
              0.7777777777777778,
              "#fb9f3a"
             ],
             [
              0.8888888888888888,
              "#fdca26"
             ],
             [
              1,
              "#f0f921"
             ]
            ],
            "type": "surface"
           }
          ],
          "table": [
           {
            "cells": {
             "fill": {
              "color": "#EBF0F8"
             },
             "line": {
              "color": "white"
             }
            },
            "header": {
             "fill": {
              "color": "#C8D4E3"
             },
             "line": {
              "color": "white"
             }
            },
            "type": "table"
           }
          ]
         },
         "layout": {
          "annotationdefaults": {
           "arrowcolor": "#2a3f5f",
           "arrowhead": 0,
           "arrowwidth": 1
          },
          "autotypenumbers": "strict",
          "coloraxis": {
           "colorbar": {
            "outlinewidth": 0,
            "ticks": ""
           }
          },
          "colorscale": {
           "diverging": [
            [
             0,
             "#8e0152"
            ],
            [
             0.1,
             "#c51b7d"
            ],
            [
             0.2,
             "#de77ae"
            ],
            [
             0.3,
             "#f1b6da"
            ],
            [
             0.4,
             "#fde0ef"
            ],
            [
             0.5,
             "#f7f7f7"
            ],
            [
             0.6,
             "#e6f5d0"
            ],
            [
             0.7,
             "#b8e186"
            ],
            [
             0.8,
             "#7fbc41"
            ],
            [
             0.9,
             "#4d9221"
            ],
            [
             1,
             "#276419"
            ]
           ],
           "sequential": [
            [
             0,
             "#0d0887"
            ],
            [
             0.1111111111111111,
             "#46039f"
            ],
            [
             0.2222222222222222,
             "#7201a8"
            ],
            [
             0.3333333333333333,
             "#9c179e"
            ],
            [
             0.4444444444444444,
             "#bd3786"
            ],
            [
             0.5555555555555556,
             "#d8576b"
            ],
            [
             0.6666666666666666,
             "#ed7953"
            ],
            [
             0.7777777777777778,
             "#fb9f3a"
            ],
            [
             0.8888888888888888,
             "#fdca26"
            ],
            [
             1,
             "#f0f921"
            ]
           ],
           "sequentialminus": [
            [
             0,
             "#0d0887"
            ],
            [
             0.1111111111111111,
             "#46039f"
            ],
            [
             0.2222222222222222,
             "#7201a8"
            ],
            [
             0.3333333333333333,
             "#9c179e"
            ],
            [
             0.4444444444444444,
             "#bd3786"
            ],
            [
             0.5555555555555556,
             "#d8576b"
            ],
            [
             0.6666666666666666,
             "#ed7953"
            ],
            [
             0.7777777777777778,
             "#fb9f3a"
            ],
            [
             0.8888888888888888,
             "#fdca26"
            ],
            [
             1,
             "#f0f921"
            ]
           ]
          },
          "colorway": [
           "#636efa",
           "#EF553B",
           "#00cc96",
           "#ab63fa",
           "#FFA15A",
           "#19d3f3",
           "#FF6692",
           "#B6E880",
           "#FF97FF",
           "#FECB52"
          ],
          "font": {
           "color": "#2a3f5f"
          },
          "geo": {
           "bgcolor": "white",
           "lakecolor": "white",
           "landcolor": "#E5ECF6",
           "showlakes": true,
           "showland": true,
           "subunitcolor": "white"
          },
          "hoverlabel": {
           "align": "left"
          },
          "hovermode": "closest",
          "mapbox": {
           "style": "light"
          },
          "paper_bgcolor": "white",
          "plot_bgcolor": "#E5ECF6",
          "polar": {
           "angularaxis": {
            "gridcolor": "white",
            "linecolor": "white",
            "ticks": ""
           },
           "bgcolor": "#E5ECF6",
           "radialaxis": {
            "gridcolor": "white",
            "linecolor": "white",
            "ticks": ""
           }
          },
          "scene": {
           "xaxis": {
            "backgroundcolor": "#E5ECF6",
            "gridcolor": "white",
            "gridwidth": 2,
            "linecolor": "white",
            "showbackground": true,
            "ticks": "",
            "zerolinecolor": "white"
           },
           "yaxis": {
            "backgroundcolor": "#E5ECF6",
            "gridcolor": "white",
            "gridwidth": 2,
            "linecolor": "white",
            "showbackground": true,
            "ticks": "",
            "zerolinecolor": "white"
           },
           "zaxis": {
            "backgroundcolor": "#E5ECF6",
            "gridcolor": "white",
            "gridwidth": 2,
            "linecolor": "white",
            "showbackground": true,
            "ticks": "",
            "zerolinecolor": "white"
           }
          },
          "shapedefaults": {
           "line": {
            "color": "#2a3f5f"
           }
          },
          "ternary": {
           "aaxis": {
            "gridcolor": "white",
            "linecolor": "white",
            "ticks": ""
           },
           "baxis": {
            "gridcolor": "white",
            "linecolor": "white",
            "ticks": ""
           },
           "bgcolor": "#E5ECF6",
           "caxis": {
            "gridcolor": "white",
            "linecolor": "white",
            "ticks": ""
           }
          },
          "title": {
           "x": 0.05
          },
          "xaxis": {
           "automargin": true,
           "gridcolor": "white",
           "linecolor": "white",
           "ticks": "",
           "title": {
            "standoff": 15
           },
           "zerolinecolor": "white",
           "zerolinewidth": 2
          },
          "yaxis": {
           "automargin": true,
           "gridcolor": "white",
           "linecolor": "white",
           "ticks": "",
           "title": {
            "standoff": 15
           },
           "zerolinecolor": "white",
           "zerolinewidth": 2
          }
         }
        },
        "width": 500,
        "xaxis": {
         "range": [
          -5,
          5
         ],
         "scaleanchor": "y",
         "scaleratio": 2,
         "showgrid": false
        },
        "yaxis": {
         "range": [
          -4,
          27.76
         ],
         "showgrid": false
        }
       }
      },
      "text/html": [
       "<div>                            <div id=\"a4c659a3-6172-4b94-956e-97db6d89a445\" class=\"plotly-graph-div\" style=\"height:300px; width:500px;\"></div>            <script type=\"text/javascript\">                require([\"plotly\"], function(Plotly) {                    window.PLOTLYENV=window.PLOTLYENV || {};                                    if (document.getElementById(\"a4c659a3-6172-4b94-956e-97db6d89a445\")) {                    Plotly.newPlot(                        \"a4c659a3-6172-4b94-956e-97db6d89a445\",                        [{\"line\":{\"color\":\"white\"},\"mode\":\"lines\",\"x\":[-5.48,-5.48,5.48,5.48],\"y\":[0,23.73,23.73,0],\"type\":\"scatter\"},{\"line\":{\"color\":\"white\"},\"mode\":\"lines\",\"x\":[-4.11,-4.11,4.11,4.11],\"y\":[0,23.73,23.73,0],\"type\":\"scatter\"},{\"line\":{\"color\":\"white\"},\"mode\":\"lines\",\"x\":[-4.11,-4.11,4.11,4.11],\"y\":[0,11.88,11.88,0],\"type\":\"scatter\"},{\"line\":{\"color\":\"white\"},\"mode\":\"lines\",\"x\":[-4.11,-4.11,4.11,4.11],\"y\":[0,5.48,5.48,0],\"type\":\"scatter\"},{\"line\":{\"color\":\"white\"},\"mode\":\"lines\",\"x\":[-4.11,-4.11,4.11,4.11],\"y\":[0,12.08,12.08,0],\"type\":\"scatter\"},{\"line\":{\"color\":\"white\"},\"mode\":\"lines\",\"x\":[-4.11,-4.11,4.11,4.11],\"y\":[0,18.48,18.48,0],\"type\":\"scatter\"}],                        {\"template\":{\"data\":{\"bar\":[{\"error_x\":{\"color\":\"#2a3f5f\"},\"error_y\":{\"color\":\"#2a3f5f\"},\"marker\":{\"line\":{\"color\":\"#E5ECF6\",\"width\":0.5},\"pattern\":{\"fillmode\":\"overlay\",\"size\":10,\"solidity\":0.2}},\"type\":\"bar\"}],\"barpolar\":[{\"marker\":{\"line\":{\"color\":\"#E5ECF6\",\"width\":0.5},\"pattern\":{\"fillmode\":\"overlay\",\"size\":10,\"solidity\":0.2}},\"type\":\"barpolar\"}],\"carpet\":[{\"aaxis\":{\"endlinecolor\":\"#2a3f5f\",\"gridcolor\":\"white\",\"linecolor\":\"white\",\"minorgridcolor\":\"white\",\"startlinecolor\":\"#2a3f5f\"},\"baxis\":{\"endlinecolor\":\"#2a3f5f\",\"gridcolor\":\"white\",\"linecolor\":\"white\",\"minorgridcolor\":\"white\",\"startlinecolor\":\"#2a3f5f\"},\"type\":\"carpet\"}],\"choropleth\":[{\"colorbar\":{\"outlinewidth\":0,\"ticks\":\"\"},\"type\":\"choropleth\"}],\"contour\":[{\"colorbar\":{\"outlinewidth\":0,\"ticks\":\"\"},\"colorscale\":[[0.0,\"#0d0887\"],[0.1111111111111111,\"#46039f\"],[0.2222222222222222,\"#7201a8\"],[0.3333333333333333,\"#9c179e\"],[0.4444444444444444,\"#bd3786\"],[0.5555555555555556,\"#d8576b\"],[0.6666666666666666,\"#ed7953\"],[0.7777777777777778,\"#fb9f3a\"],[0.8888888888888888,\"#fdca26\"],[1.0,\"#f0f921\"]],\"type\":\"contour\"}],\"contourcarpet\":[{\"colorbar\":{\"outlinewidth\":0,\"ticks\":\"\"},\"type\":\"contourcarpet\"}],\"heatmap\":[{\"colorbar\":{\"outlinewidth\":0,\"ticks\":\"\"},\"colorscale\":[[0.0,\"#0d0887\"],[0.1111111111111111,\"#46039f\"],[0.2222222222222222,\"#7201a8\"],[0.3333333333333333,\"#9c179e\"],[0.4444444444444444,\"#bd3786\"],[0.5555555555555556,\"#d8576b\"],[0.6666666666666666,\"#ed7953\"],[0.7777777777777778,\"#fb9f3a\"],[0.8888888888888888,\"#fdca26\"],[1.0,\"#f0f921\"]],\"type\":\"heatmap\"}],\"heatmapgl\":[{\"colorbar\":{\"outlinewidth\":0,\"ticks\":\"\"},\"colorscale\":[[0.0,\"#0d0887\"],[0.1111111111111111,\"#46039f\"],[0.2222222222222222,\"#7201a8\"],[0.3333333333333333,\"#9c179e\"],[0.4444444444444444,\"#bd3786\"],[0.5555555555555556,\"#d8576b\"],[0.6666666666666666,\"#ed7953\"],[0.7777777777777778,\"#fb9f3a\"],[0.8888888888888888,\"#fdca26\"],[1.0,\"#f0f921\"]],\"type\":\"heatmapgl\"}],\"histogram\":[{\"marker\":{\"pattern\":{\"fillmode\":\"overlay\",\"size\":10,\"solidity\":0.2}},\"type\":\"histogram\"}],\"histogram2d\":[{\"colorbar\":{\"outlinewidth\":0,\"ticks\":\"\"},\"colorscale\":[[0.0,\"#0d0887\"],[0.1111111111111111,\"#46039f\"],[0.2222222222222222,\"#7201a8\"],[0.3333333333333333,\"#9c179e\"],[0.4444444444444444,\"#bd3786\"],[0.5555555555555556,\"#d8576b\"],[0.6666666666666666,\"#ed7953\"],[0.7777777777777778,\"#fb9f3a\"],[0.8888888888888888,\"#fdca26\"],[1.0,\"#f0f921\"]],\"type\":\"histogram2d\"}],\"histogram2dcontour\":[{\"colorbar\":{\"outlinewidth\":0,\"ticks\":\"\"},\"colorscale\":[[0.0,\"#0d0887\"],[0.1111111111111111,\"#46039f\"],[0.2222222222222222,\"#7201a8\"],[0.3333333333333333,\"#9c179e\"],[0.4444444444444444,\"#bd3786\"],[0.5555555555555556,\"#d8576b\"],[0.6666666666666666,\"#ed7953\"],[0.7777777777777778,\"#fb9f3a\"],[0.8888888888888888,\"#fdca26\"],[1.0,\"#f0f921\"]],\"type\":\"histogram2dcontour\"}],\"mesh3d\":[{\"colorbar\":{\"outlinewidth\":0,\"ticks\":\"\"},\"type\":\"mesh3d\"}],\"parcoords\":[{\"line\":{\"colorbar\":{\"outlinewidth\":0,\"ticks\":\"\"}},\"type\":\"parcoords\"}],\"pie\":[{\"automargin\":true,\"type\":\"pie\"}],\"scatter\":[{\"marker\":{\"colorbar\":{\"outlinewidth\":0,\"ticks\":\"\"}},\"type\":\"scatter\"}],\"scatter3d\":[{\"line\":{\"colorbar\":{\"outlinewidth\":0,\"ticks\":\"\"}},\"marker\":{\"colorbar\":{\"outlinewidth\":0,\"ticks\":\"\"}},\"type\":\"scatter3d\"}],\"scattercarpet\":[{\"marker\":{\"colorbar\":{\"outlinewidth\":0,\"ticks\":\"\"}},\"type\":\"scattercarpet\"}],\"scattergeo\":[{\"marker\":{\"colorbar\":{\"outlinewidth\":0,\"ticks\":\"\"}},\"type\":\"scattergeo\"}],\"scattergl\":[{\"marker\":{\"colorbar\":{\"outlinewidth\":0,\"ticks\":\"\"}},\"type\":\"scattergl\"}],\"scattermapbox\":[{\"marker\":{\"colorbar\":{\"outlinewidth\":0,\"ticks\":\"\"}},\"type\":\"scattermapbox\"}],\"scatterpolar\":[{\"marker\":{\"colorbar\":{\"outlinewidth\":0,\"ticks\":\"\"}},\"type\":\"scatterpolar\"}],\"scatterpolargl\":[{\"marker\":{\"colorbar\":{\"outlinewidth\":0,\"ticks\":\"\"}},\"type\":\"scatterpolargl\"}],\"scatterternary\":[{\"marker\":{\"colorbar\":{\"outlinewidth\":0,\"ticks\":\"\"}},\"type\":\"scatterternary\"}],\"surface\":[{\"colorbar\":{\"outlinewidth\":0,\"ticks\":\"\"},\"colorscale\":[[0.0,\"#0d0887\"],[0.1111111111111111,\"#46039f\"],[0.2222222222222222,\"#7201a8\"],[0.3333333333333333,\"#9c179e\"],[0.4444444444444444,\"#bd3786\"],[0.5555555555555556,\"#d8576b\"],[0.6666666666666666,\"#ed7953\"],[0.7777777777777778,\"#fb9f3a\"],[0.8888888888888888,\"#fdca26\"],[1.0,\"#f0f921\"]],\"type\":\"surface\"}],\"table\":[{\"cells\":{\"fill\":{\"color\":\"#EBF0F8\"},\"line\":{\"color\":\"white\"}},\"header\":{\"fill\":{\"color\":\"#C8D4E3\"},\"line\":{\"color\":\"white\"}},\"type\":\"table\"}]},\"layout\":{\"annotationdefaults\":{\"arrowcolor\":\"#2a3f5f\",\"arrowhead\":0,\"arrowwidth\":1},\"autotypenumbers\":\"strict\",\"coloraxis\":{\"colorbar\":{\"outlinewidth\":0,\"ticks\":\"\"}},\"colorscale\":{\"diverging\":[[0,\"#8e0152\"],[0.1,\"#c51b7d\"],[0.2,\"#de77ae\"],[0.3,\"#f1b6da\"],[0.4,\"#fde0ef\"],[0.5,\"#f7f7f7\"],[0.6,\"#e6f5d0\"],[0.7,\"#b8e186\"],[0.8,\"#7fbc41\"],[0.9,\"#4d9221\"],[1,\"#276419\"]],\"sequential\":[[0.0,\"#0d0887\"],[0.1111111111111111,\"#46039f\"],[0.2222222222222222,\"#7201a8\"],[0.3333333333333333,\"#9c179e\"],[0.4444444444444444,\"#bd3786\"],[0.5555555555555556,\"#d8576b\"],[0.6666666666666666,\"#ed7953\"],[0.7777777777777778,\"#fb9f3a\"],[0.8888888888888888,\"#fdca26\"],[1.0,\"#f0f921\"]],\"sequentialminus\":[[0.0,\"#0d0887\"],[0.1111111111111111,\"#46039f\"],[0.2222222222222222,\"#7201a8\"],[0.3333333333333333,\"#9c179e\"],[0.4444444444444444,\"#bd3786\"],[0.5555555555555556,\"#d8576b\"],[0.6666666666666666,\"#ed7953\"],[0.7777777777777778,\"#fb9f3a\"],[0.8888888888888888,\"#fdca26\"],[1.0,\"#f0f921\"]]},\"colorway\":[\"#636efa\",\"#EF553B\",\"#00cc96\",\"#ab63fa\",\"#FFA15A\",\"#19d3f3\",\"#FF6692\",\"#B6E880\",\"#FF97FF\",\"#FECB52\"],\"font\":{\"color\":\"#2a3f5f\"},\"geo\":{\"bgcolor\":\"white\",\"lakecolor\":\"white\",\"landcolor\":\"#E5ECF6\",\"showlakes\":true,\"showland\":true,\"subunitcolor\":\"white\"},\"hoverlabel\":{\"align\":\"left\"},\"hovermode\":\"closest\",\"mapbox\":{\"style\":\"light\"},\"paper_bgcolor\":\"white\",\"plot_bgcolor\":\"#E5ECF6\",\"polar\":{\"angularaxis\":{\"gridcolor\":\"white\",\"linecolor\":\"white\",\"ticks\":\"\"},\"bgcolor\":\"#E5ECF6\",\"radialaxis\":{\"gridcolor\":\"white\",\"linecolor\":\"white\",\"ticks\":\"\"}},\"scene\":{\"xaxis\":{\"backgroundcolor\":\"#E5ECF6\",\"gridcolor\":\"white\",\"gridwidth\":2,\"linecolor\":\"white\",\"showbackground\":true,\"ticks\":\"\",\"zerolinecolor\":\"white\"},\"yaxis\":{\"backgroundcolor\":\"#E5ECF6\",\"gridcolor\":\"white\",\"gridwidth\":2,\"linecolor\":\"white\",\"showbackground\":true,\"ticks\":\"\",\"zerolinecolor\":\"white\"},\"zaxis\":{\"backgroundcolor\":\"#E5ECF6\",\"gridcolor\":\"white\",\"gridwidth\":2,\"linecolor\":\"white\",\"showbackground\":true,\"ticks\":\"\",\"zerolinecolor\":\"white\"}},\"shapedefaults\":{\"line\":{\"color\":\"#2a3f5f\"}},\"ternary\":{\"aaxis\":{\"gridcolor\":\"white\",\"linecolor\":\"white\",\"ticks\":\"\"},\"baxis\":{\"gridcolor\":\"white\",\"linecolor\":\"white\",\"ticks\":\"\"},\"bgcolor\":\"#E5ECF6\",\"caxis\":{\"gridcolor\":\"white\",\"linecolor\":\"white\",\"ticks\":\"\"}},\"title\":{\"x\":0.05},\"xaxis\":{\"automargin\":true,\"gridcolor\":\"white\",\"linecolor\":\"white\",\"ticks\":\"\",\"title\":{\"standoff\":15},\"zerolinecolor\":\"white\",\"zerolinewidth\":2},\"yaxis\":{\"automargin\":true,\"gridcolor\":\"white\",\"linecolor\":\"white\",\"ticks\":\"\",\"title\":{\"standoff\":15},\"zerolinecolor\":\"white\",\"zerolinewidth\":2}}},\"xaxis\":{\"scaleanchor\":\"y\",\"scaleratio\":2,\"range\":[-5,5],\"showgrid\":false},\"yaxis\":{\"range\":[-4,27.76],\"showgrid\":false},\"autosize\":false,\"width\":500,\"height\":300},                        {\"responsive\": true}                    ).then(function(){\n",
       "                            \n",
       "var gd = document.getElementById('a4c659a3-6172-4b94-956e-97db6d89a445');\n",
       "var x = new MutationObserver(function (mutations, observer) {{\n",
       "        var display = window.getComputedStyle(gd).display;\n",
       "        if (!display || display === 'none') {{\n",
       "            console.log([gd, 'removed!']);\n",
       "            Plotly.purge(gd);\n",
       "            observer.disconnect();\n",
       "        }}\n",
       "}});\n",
       "\n",
       "// Listen for the removal of the full notebook cells\n",
       "var notebookContainer = gd.closest('#notebook-container');\n",
       "if (notebookContainer) {{\n",
       "    x.observe(notebookContainer, {childList: true});\n",
       "}}\n",
       "\n",
       "// Listen for the clearing of the current output cell\n",
       "var outputEl = gd.closest('.output');\n",
       "if (outputEl) {{\n",
       "    x.observe(outputEl, {childList: true});\n",
       "}}\n",
       "\n",
       "                        })                };                });            </script>        </div>"
      ]
     },
     "metadata": {},
     "output_type": "display_data"
    }
   ],
   "source": [
    "hide_me\n",
    "#https://www.cours-gratuit.com/tutoriel-python/tutoriel-python-matriser-la-bibliothque-ipywidgets\n",
    "import ipywidgets as widgets\n",
    "from ipywidgets import interact\n",
    "from IPython.display import display, Javascript\n",
    "from IPython.display import clear_output\n",
    "\n",
    "##DISPLAY box\n",
    "def display_menu():\n",
    "    display(widgets.VBox([widgets.HBox([btn_nextpoint,btn_prevpoint,btn_pause,btn_play, btn_plus_2sec, btn_minus_2sec, btn_end])\n",
    "                          , widgets.HBox([btn_nextpoint_last, btn_prevpoint_last, widget_shot_index, widget_shot_result,widget_bounce_x,widget_bounce_y])]))\n",
    "\n",
    "\n",
    "btn_nextpoint = widgets.Button(description='Next Point', layout = widgets.Layout(width='160px'))\n",
    "btn_prevpoint = widgets.Button(description='Prev Point', layout = widgets.Layout(width='160px'))\n",
    "#display(btn_nextpoint)\n",
    "btn_pause = widgets.Button(description='||', layout = widgets.Layout(width='160px'))\n",
    "btn_play = widgets.Button(description='>', layout = widgets.Layout(width='160px'))\n",
    "btn_end = widgets.Button(description='End', layout = widgets.Layout(width='160px'))\n",
    "btn_start = widgets.Button(description='Start', layout = widgets.Layout(width='160px'))\n",
    "btn_plus_2sec = widgets.Button(description='+2s', layout = widgets.Layout(width='160px'))\n",
    "btn_minus_2sec = widgets.Button(description='-2s', layout = widgets.Layout(width='160px'))\n",
    "\n",
    "def nextpoint_handler(btn_object):\n",
    "    #print('You pressed the {} button!'.format(btn_object.description))\n",
    "    clear_output()\n",
    "    display_menu()\n",
    "    display(Javascript('IPython.notebook.execute_cell_range(IPython.notebook.get_selected_index()-2, IPython.notebook.get_selected_index()-1)'))\n",
    "    display_point_infos(current_point+1)\n",
    "def prevpoint_handler(btn_object):\n",
    "    #print('You pressed the {} button!'.format(btn_object.description))\n",
    "    clear_output()\n",
    "    display_menu()\n",
    "    display(Javascript('IPython.notebook.execute_cell_range(IPython.notebook.get_selected_index()-1, IPython.notebook.get_selected_index())'))\n",
    "    display_point_infos(current_point+1)\n",
    "def pause_handler(btn_object):\n",
    "    player.set_pause(1)\n",
    "def play_handler(btn_object):\n",
    "    player.set_pause(0)\n",
    "def end_handler(btn_end):\n",
    "    player.release()\n",
    "def start_handler(btn_start):\n",
    "    # call the video method\n",
    "    player = video(filename)\n",
    "    #GO to point 1\n",
    "    current_point=0\n",
    "    return player\n",
    "def p2sec_handler(btn_object):\n",
    "    time = player.get_time()\n",
    "    player.set_time(time+2000)\n",
    "def m2sec_handler(btn_object):\n",
    "    time = player.get_time()\n",
    "    player.set_time(time-2000)\n",
    "            \n",
    "#player = btn_start.on_click(start_handler)\n",
    "btn_nextpoint.on_click(nextpoint_handler)\n",
    "btn_prevpoint.on_click(prevpoint_handler)\n",
    "btn_pause.on_click(pause_handler)\n",
    "btn_play.on_click(play_handler)\n",
    "btn_end.on_click(end_handler)\n",
    "btn_plus_2sec.on_click(p2sec_handler)\n",
    "btn_minus_2sec.on_click(m2sec_handler)\n",
    "\n",
    "btn_nextpoint_last = widgets.Button(description='Next (last)', layout = widgets.Layout(width='160px'))\n",
    "btn_prevpoint_last = widgets.Button(description='Prev (last)', layout = widgets.Layout(width='160px'))\n",
    "\n",
    "def nextpoint_last_handler(btn_object):\n",
    "    #print('You pressed the {} button!'.format(btn_object.description))\n",
    "    clear_output()\n",
    "    display_menu()\n",
    "    display(Javascript('IPython.notebook.execute_cell_range(IPython.notebook.get_selected_index()-4, IPython.notebook.get_selected_index()-3)'))\n",
    "    player.set_pause(1)\n",
    "    display_point_infos(current_point+1)\n",
    "    trace_point(current_point+1)\n",
    "\n",
    "def prevpoint_last_handler(btn_object):\n",
    "    #print('You pressed the {} button!'.format(btn_object.description))\n",
    "    clear_output()\n",
    "    display_menu()\n",
    "    display(Javascript('IPython.notebook.execute_cell_range(IPython.notebook.get_selected_index()-3, IPython.notebook.get_selected_index()-2)'))\n",
    "    display_point_infos(current_point+1)\n",
    "    trace_point(current_point-1)\n",
    "    \n",
    "#BTN next_last, prev_last\n",
    "btn_nextpoint_last.on_click(nextpoint_last_handler)\n",
    "btn_prevpoint_last.on_click(prevpoint_last_handler)\n",
    "\n",
    "#SHOT INPUT\n",
    "def on_change_shot(change):\n",
    "    if change['type'] == 'change' and change['name'] == 'value':\n",
    "        shot_index=change['new']\n",
    "        df_shot=df[(df[\"Point\"]==current_point)&(df[\"Shot\"]==shot_index)].head()\n",
    "        if len(df_shot)>0:\n",
    "            widget_bounce_x.value=df_shot.iloc[0][\"Bounce (x)\"]\n",
    "            widget_bounce_y.value=df_shot.iloc[0][\"Bounce (y)\"]\n",
    "        \n",
    "widget_shot_index=widgets.IntText(value=0,description='Shot:', disabled=False, layout = widgets.Layout(width='160px'))\n",
    "widget_shot_index.observe(on_change_shot) \n",
    "\n",
    "#BOUNCE        \n",
    "widget_bounce_x=widgets.FloatText(description='Bounce_x:', disabled=False, layout = widgets.Layout(width='160px'), description_tooltip=\"-4.11 4.11\")\n",
    "widget_bounce_y=widgets.FloatText(description='Bounce_y:', disabled=False, layout = widgets.Layout(width='160px'), description_tooltip=\"0- 5.48-Serv-11.88\\n11.88-Serve-18.48 - 23.73\")\n",
    "\n",
    "#RESULT RadioButtons\n",
    "def on_change_result(change):\n",
    "    if change['type'] == 'change' and change['name'] == 'value':\n",
    "        result = change['new']\n",
    "        if result == \"None\":\n",
    "            pass\n",
    "        elif result == \"Swap Srv\":\n",
    "            swap_server_all_shots(df, current_point)\n",
    "        elif result == \"Shot=0\":\n",
    "            shot_index=widget_shot_index.value\n",
    "            df.loc[(df[\"Point\"]==current_point)&(df[\"Shot\"]==shot_index),\"Shot\"]=0\n",
    "            df.loc[(df[\"Point\"]==current_point)&(df[\"Shot\"]==shot_index),\"Result2\"]=result\n",
    "            set_point_winner(df, current_point)\n",
    "            df.to_csv(filename_csv)#.replace(\".csv\",\"_corr.csv\"))\n",
    "        else:\n",
    "            shot_index=widget_shot_index.value\n",
    "            print(\"Shot {0}-new Result:{1}\".format(shot_index, result))\n",
    "            print(df[(df[\"Point\"]==current_point)&(df[\"Shot\"]==shot_index)].head())\n",
    "            #change the value in the dataframe\n",
    "            #set old result to resultOld\n",
    "            df.loc[(df[\"Point\"]==current_point)&(df[\"Shot\"]==shot_index),\"ResultOld\"]=df.loc[(df[\"Point\"]==current_point)&(df[\"Shot\"]==shot_index),\"Result\"]\n",
    "            df.loc[(df[\"Point\"]==current_point)&(df[\"Shot\"]==shot_index),\"Bounce (x)Old\"]=df.loc[(df[\"Point\"]==current_point)&(df[\"Shot\"]==shot_index),\"Bounce (x)\"]\n",
    "            df.loc[(df[\"Point\"]==current_point)&(df[\"Shot\"]==shot_index),\"Bounce (y)Old\"]=df.loc[(df[\"Point\"]==current_point)&(df[\"Shot\"]==shot_index),\"Bounce (y)\"]\n",
    "            #set new result to Result\n",
    "            df.loc[(df[\"Point\"]==current_point)&(df[\"Shot\"]==shot_index),\"Result\"]=result\n",
    "            df.loc[(df[\"Point\"]==current_point)&(df[\"Shot\"]==shot_index),\"Bounce (x)\"]=widget_bounce_x.value\n",
    "            df.loc[(df[\"Point\"]==current_point)&(df[\"Shot\"]==shot_index),\"Bounce (y)\"]=widget_bounce_y.value\n",
    "            #set new result to Result2\n",
    "            df.loc[(df[\"Point\"]==current_point)&(df[\"Shot\"]==shot_index),\"Result2\"]=result\n",
    "            df.loc[(df[\"Point\"]==current_point)&(df[\"Shot\"]==shot_index),\"Bounce (x)2\"]=widget_bounce_x.value\n",
    "            df.loc[(df[\"Point\"]==current_point)&(df[\"Shot\"]==shot_index),\"Bounce (y)2\"]=widget_bounce_y.value\n",
    "            set_point_winner(df, current_point)\n",
    "            df.to_csv(filename_csv)#.replace(\".csv\",\"_corr.csv\"))\n",
    "        \n",
    "widget_shot_result=widgets.RadioButtons(\n",
    "    options=[\"None\",'In', 'Out', 'Net', 'Let', \"Shot=0\",\"Swap Srv\"],\n",
    "    value='None',\n",
    "    description='Result:',\n",
    "    disabled=False,\n",
    ")\n",
    "widget_shot_result.observe(on_change_result) \n",
    "\n",
    "display_menu()"
   ]
  },
  {
   "cell_type": "code",
   "execution_count": null,
   "id": "d62f3568",
   "metadata": {},
   "outputs": [],
   "source": []
  },
  {
   "cell_type": "code",
   "execution_count": null,
   "id": "0eafc95c",
   "metadata": {},
   "outputs": [],
   "source": []
  },
  {
   "cell_type": "code",
   "execution_count": null,
   "id": "193d2afa",
   "metadata": {},
   "outputs": [],
   "source": []
  }
 ],
 "metadata": {
  "kernelspec": {
   "display_name": "Python 3",
   "language": "python",
   "name": "python3"
  },
  "language_info": {
   "codemirror_mode": {
    "name": "ipython",
    "version": 3
   },
   "file_extension": ".py",
   "mimetype": "text/x-python",
   "name": "python",
   "nbconvert_exporter": "python",
   "pygments_lexer": "ipython3",
   "version": "3.8.8"
  }
 },
 "nbformat": 4,
 "nbformat_minor": 5
}
