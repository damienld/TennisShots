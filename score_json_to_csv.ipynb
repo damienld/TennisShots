{
 "cells": [
  {
   "cell_type": "code",
   "execution_count": 1,
   "id": "84be39d9",
   "metadata": {},
   "outputs": [],
   "source": [
    "#INPUT file: AAA BBB-score.json whihc contains live messages of a match\n",
    "#OUTPUT file: AAA BBB-scoreok.csv\n",
    "filename_csv=\"Gerasimov FAA.csv\""
   ]
  },
  {
   "cell_type": "code",
   "execution_count": 4,
   "id": "b3e0b252",
   "metadata": {},
   "outputs": [],
   "source": [
    "### FROM JSON score messages file to CSV file with time of poitn scored\n",
    "import json\n",
    "import pandas as pd\n",
    "\n",
    "def time_str_to_totalsec(time_str: str):\n",
    "    #print(time_str)\n",
    "    units = time_str.split(\":\")\n",
    "    hours = int(units[0])\n",
    "    minutes = int(units[1])\n",
    "    seconds= int(units[2])\n",
    "    #print(str(hours*3600+minutes*60+seconds) +\"\\n\")\n",
    "    return hours*3600+minutes*60+seconds\n",
    "    \n",
    "file=filename_csv.replace(\".csv\",\"-score.json\")\n",
    "# Opening JSON file\n",
    "f = open(file)\n",
    "\n",
    "# returns JSON object as\n",
    "# a dictionary\n",
    "data = json.load(f)\n",
    "df_scores = pd.DataFrame(columns=['server', 'time', 'point'])\n",
    "# Iterating through the json\n",
    "# list\n",
    "for i in data['log'][\"entries\"]:\n",
    "    #get LIST of messages under _webSocketMessages\n",
    "    #they include: type time opcode data\n",
    "    messages=i.get(\"_webSocketMessages\", [])\n",
    "    for message in messages:\n",
    "        msg_data=message.get(\"data\", [])\n",
    "        list_result = []\n",
    "        list_result.append(\"server;time;score_before;score_after;\")\n",
    "        if len(msg_data)>0:\n",
    "            #turn msg_data from str to dict\n",
    "            msg_data=json.loads(msg_data) \n",
    "            #read attribute eventElementType\n",
    "            msg_data_elementType = msg_data.get(\"eventElementType\", None)\n",
    "            result=\"\"\n",
    "            if msg_data_elementType != None and msg_data_elementType == \"PointScored\":\n",
    "                #print(msg_data_elementType)\n",
    "                #SERVER: \\\"server\\\":{\\\"team\\\":\\\"TeamB\\\"}\n",
    "                server=msg_data.get(\"server\", None)\n",
    "                server_team=server.get(\"team\", None)\n",
    "                if server != None and server_team != None:\n",
    "                    server = (server_team==\"TeamA\")\n",
    "                else:\n",
    "                    server=-1\n",
    "                #MATCHTIME: \n",
    "                time=msg_data.get(\"matchTime\", \"\")\n",
    "                details=msg_data.get(\"details\", None)\n",
    "                details_scoredby=details.get(\"scoredBy\", None)\n",
    "                if details != None and details_scoredby != None:\n",
    "                    scored = (details_scoredby==\"TeamA\")\n",
    "                else:\n",
    "                    scored=-1\n",
    "                df_scores.loc[len(df_scores.index)] = [str(int(server)), time_str_to_totalsec(time), str(int(scored))]\n",
    "# Closing file\n",
    "f.close()\n",
    "df_scores.to_csv(file.replace(\"-score.json\",\"-scoreok.csv\"))"
   ]
  }
 ],
 "metadata": {
  "kernelspec": {
   "display_name": "Python 3",
   "language": "python",
   "name": "python3"
  },
  "language_info": {
   "codemirror_mode": {
    "name": "ipython",
    "version": 3
   },
   "file_extension": ".py",
   "mimetype": "text/x-python",
   "name": "python",
   "nbconvert_exporter": "python",
   "pygments_lexer": "ipython3",
   "version": "3.8.8"
  }
 },
 "nbformat": 4,
 "nbformat_minor": 5
}
